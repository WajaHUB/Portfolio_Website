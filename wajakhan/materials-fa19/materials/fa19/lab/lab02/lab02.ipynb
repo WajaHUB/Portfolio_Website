{
 "cells": [
  {
   "cell_type": "code",
   "execution_count": 1,
   "metadata": {
    "deletable": false,
    "editable": false
   },
   "outputs": [
    {
     "name": "stdout",
     "output_type": "stream",
     "text": [
      "=====================================================================\n",
      "Assignment: Lab 2: Tables\n",
      "OK, version v1.12.5\n",
      "=====================================================================\n",
      "\n"
     ]
    }
   ],
   "source": [
    "# Initialize OK\n",
    "from client.api.notebook import Notebook\n",
    "ok = Notebook('lab02.ok')"
   ]
  },
  {
   "cell_type": "markdown",
   "metadata": {},
   "source": [
    "# Lab 2: Table operations\n",
    "\n",
    "Welcome to Lab 2!  This week, we'll learn how to import a module and practice table operations!\n",
    "\n",
    "Recommended Reading:\n",
    " * [Introduction to tables](https://www.inferentialthinking.com/chapters/03/4/Introduction_to_Tables)\n",
    "\n",
    "First, set up the tests and imports by running the cell below."
   ]
  },
  {
   "cell_type": "code",
   "execution_count": 2,
   "metadata": {},
   "outputs": [
    {
     "name": "stdout",
     "output_type": "stream",
     "text": [
      "=====================================================================\n",
      "Assignment: Lab 2: Tables\n",
      "OK, version v1.12.5\n",
      "=====================================================================\n",
      "\n"
     ]
    },
    {
     "data": {
      "application/javascript": [
       "IPython.notebook.save_checkpoint();"
      ],
      "text/plain": [
       "<IPython.core.display.Javascript object>"
      ]
     },
     "metadata": {},
     "output_type": "display_data"
    },
    {
     "data": {
      "application/javascript": [
       "IPython.notebook.save_notebook();"
      ],
      "text/plain": [
       "<IPython.core.display.Javascript object>"
      ]
     },
     "metadata": {},
     "output_type": "display_data"
    },
    {
     "name": "stdout",
     "output_type": "stream",
     "text": [
      "Saving notebook... Saved 'lab02.ipynb'.\n",
      "Performing authentication\n",
      "Please enter your bCourses email.\n"
     ]
    },
    {
     "ename": "KeyboardInterrupt",
     "evalue": "",
     "output_type": "error",
     "traceback": [
      "\u001b[0;31m---------------------------------------------------------------------------\u001b[0m",
      "\u001b[0;31mKeyboardInterrupt\u001b[0m                         Traceback (most recent call last)",
      "\u001b[0;32m/srv/app/venv/lib/python3.6/site-packages/ipykernel/kernelbase.py\u001b[0m in \u001b[0;36m_input_request\u001b[0;34m(self, prompt, ident, parent, password)\u001b[0m\n\u001b[1;32m    883\u001b[0m             \u001b[0;32mtry\u001b[0m\u001b[0;34m:\u001b[0m\u001b[0;34m\u001b[0m\u001b[0;34m\u001b[0m\u001b[0m\n\u001b[0;32m--> 884\u001b[0;31m                 \u001b[0mident\u001b[0m\u001b[0;34m,\u001b[0m \u001b[0mreply\u001b[0m \u001b[0;34m=\u001b[0m \u001b[0mself\u001b[0m\u001b[0;34m.\u001b[0m\u001b[0msession\u001b[0m\u001b[0;34m.\u001b[0m\u001b[0mrecv\u001b[0m\u001b[0;34m(\u001b[0m\u001b[0mself\u001b[0m\u001b[0;34m.\u001b[0m\u001b[0mstdin_socket\u001b[0m\u001b[0;34m,\u001b[0m \u001b[0;36m0\u001b[0m\u001b[0;34m)\u001b[0m\u001b[0;34m\u001b[0m\u001b[0;34m\u001b[0m\u001b[0m\n\u001b[0m\u001b[1;32m    885\u001b[0m             \u001b[0;32mexcept\u001b[0m \u001b[0mException\u001b[0m\u001b[0;34m:\u001b[0m\u001b[0;34m\u001b[0m\u001b[0;34m\u001b[0m\u001b[0m\n",
      "\u001b[0;32m/srv/app/venv/lib/python3.6/site-packages/jupyter_client/session.py\u001b[0m in \u001b[0;36mrecv\u001b[0;34m(self, socket, mode, content, copy)\u001b[0m\n\u001b[1;32m    802\u001b[0m         \u001b[0;32mtry\u001b[0m\u001b[0;34m:\u001b[0m\u001b[0;34m\u001b[0m\u001b[0;34m\u001b[0m\u001b[0m\n\u001b[0;32m--> 803\u001b[0;31m             \u001b[0mmsg_list\u001b[0m \u001b[0;34m=\u001b[0m \u001b[0msocket\u001b[0m\u001b[0;34m.\u001b[0m\u001b[0mrecv_multipart\u001b[0m\u001b[0;34m(\u001b[0m\u001b[0mmode\u001b[0m\u001b[0;34m,\u001b[0m \u001b[0mcopy\u001b[0m\u001b[0;34m=\u001b[0m\u001b[0mcopy\u001b[0m\u001b[0;34m)\u001b[0m\u001b[0;34m\u001b[0m\u001b[0;34m\u001b[0m\u001b[0m\n\u001b[0m\u001b[1;32m    804\u001b[0m         \u001b[0;32mexcept\u001b[0m \u001b[0mzmq\u001b[0m\u001b[0;34m.\u001b[0m\u001b[0mZMQError\u001b[0m \u001b[0;32mas\u001b[0m \u001b[0me\u001b[0m\u001b[0;34m:\u001b[0m\u001b[0;34m\u001b[0m\u001b[0;34m\u001b[0m\u001b[0m\n",
      "\u001b[0;32m/srv/app/venv/lib/python3.6/site-packages/zmq/sugar/socket.py\u001b[0m in \u001b[0;36mrecv_multipart\u001b[0;34m(self, flags, copy, track)\u001b[0m\n\u001b[1;32m    474\u001b[0m         \"\"\"\n\u001b[0;32m--> 475\u001b[0;31m         \u001b[0mparts\u001b[0m \u001b[0;34m=\u001b[0m \u001b[0;34m[\u001b[0m\u001b[0mself\u001b[0m\u001b[0;34m.\u001b[0m\u001b[0mrecv\u001b[0m\u001b[0;34m(\u001b[0m\u001b[0mflags\u001b[0m\u001b[0;34m,\u001b[0m \u001b[0mcopy\u001b[0m\u001b[0;34m=\u001b[0m\u001b[0mcopy\u001b[0m\u001b[0;34m,\u001b[0m \u001b[0mtrack\u001b[0m\u001b[0;34m=\u001b[0m\u001b[0mtrack\u001b[0m\u001b[0;34m)\u001b[0m\u001b[0;34m]\u001b[0m\u001b[0;34m\u001b[0m\u001b[0;34m\u001b[0m\u001b[0m\n\u001b[0m\u001b[1;32m    476\u001b[0m         \u001b[0;31m# have first part already, only loop while more to receive\u001b[0m\u001b[0;34m\u001b[0m\u001b[0;34m\u001b[0m\u001b[0;34m\u001b[0m\u001b[0m\n",
      "\u001b[0;32mzmq/backend/cython/socket.pyx\u001b[0m in \u001b[0;36mzmq.backend.cython.socket.Socket.recv\u001b[0;34m()\u001b[0m\n",
      "\u001b[0;32mzmq/backend/cython/socket.pyx\u001b[0m in \u001b[0;36mzmq.backend.cython.socket.Socket.recv\u001b[0;34m()\u001b[0m\n",
      "\u001b[0;32mzmq/backend/cython/socket.pyx\u001b[0m in \u001b[0;36mzmq.backend.cython.socket._recv_copy\u001b[0;34m()\u001b[0m\n",
      "\u001b[0;32m/srv/app/venv/lib/python3.6/site-packages/zmq/backend/cython/checkrc.pxd\u001b[0m in \u001b[0;36mzmq.backend.cython.checkrc._check_rc\u001b[0;34m()\u001b[0m\n",
      "\u001b[0;31mKeyboardInterrupt\u001b[0m: ",
      "\nDuring handling of the above exception, another exception occurred:\n",
      "\u001b[0;31mKeyboardInterrupt\u001b[0m                         Traceback (most recent call last)",
      "\u001b[0;32m<ipython-input-2-1fbc8594daa1>\u001b[0m in \u001b[0;36m<module>\u001b[0;34m\u001b[0m\n\u001b[1;32m      8\u001b[0m \u001b[0;32mfrom\u001b[0m \u001b[0mclient\u001b[0m\u001b[0;34m.\u001b[0m\u001b[0mapi\u001b[0m\u001b[0;34m.\u001b[0m\u001b[0mnotebook\u001b[0m \u001b[0;32mimport\u001b[0m \u001b[0mNotebook\u001b[0m\u001b[0;34m\u001b[0m\u001b[0;34m\u001b[0m\u001b[0m\n\u001b[1;32m      9\u001b[0m \u001b[0mok\u001b[0m \u001b[0;34m=\u001b[0m \u001b[0mNotebook\u001b[0m\u001b[0;34m(\u001b[0m\u001b[0;34m'lab02.ok'\u001b[0m\u001b[0;34m)\u001b[0m\u001b[0;34m\u001b[0m\u001b[0;34m\u001b[0m\u001b[0m\n\u001b[0;32m---> 10\u001b[0;31m \u001b[0m_\u001b[0m \u001b[0;34m=\u001b[0m \u001b[0mok\u001b[0m\u001b[0;34m.\u001b[0m\u001b[0msubmit\u001b[0m\u001b[0;34m(\u001b[0m\u001b[0;34m)\u001b[0m\u001b[0;34m\u001b[0m\u001b[0;34m\u001b[0m\u001b[0m\n\u001b[0m",
      "\u001b[0;32m/srv/app/venv/lib/python3.6/site-packages/client/api/notebook.py\u001b[0m in \u001b[0;36msubmit\u001b[0;34m(self)\u001b[0m\n\u001b[1;32m     60\u001b[0m         \u001b[0mself\u001b[0m\u001b[0;34m.\u001b[0m\u001b[0massignment\u001b[0m\u001b[0;34m.\u001b[0m\u001b[0mset_args\u001b[0m\u001b[0;34m(\u001b[0m\u001b[0msubmit\u001b[0m\u001b[0;34m=\u001b[0m\u001b[0;32mTrue\u001b[0m\u001b[0;34m)\u001b[0m\u001b[0;34m\u001b[0m\u001b[0;34m\u001b[0m\u001b[0m\n\u001b[1;32m     61\u001b[0m         \u001b[0mself\u001b[0m\u001b[0;34m.\u001b[0m\u001b[0msave\u001b[0m\u001b[0;34m(\u001b[0m\u001b[0mmessages\u001b[0m\u001b[0;34m)\u001b[0m\u001b[0;34m\u001b[0m\u001b[0;34m\u001b[0m\u001b[0m\n\u001b[0;32m---> 62\u001b[0;31m         \u001b[0;32mreturn\u001b[0m \u001b[0mself\u001b[0m\u001b[0;34m.\u001b[0m\u001b[0mrun\u001b[0m\u001b[0;34m(\u001b[0m\u001b[0;34m'backup'\u001b[0m\u001b[0;34m,\u001b[0m \u001b[0mmessages\u001b[0m\u001b[0;34m)\u001b[0m\u001b[0;34m\u001b[0m\u001b[0;34m\u001b[0m\u001b[0m\n\u001b[0m\u001b[1;32m     63\u001b[0m \u001b[0;34m\u001b[0m\u001b[0m\n\u001b[1;32m     64\u001b[0m     \u001b[0;32mdef\u001b[0m \u001b[0msave\u001b[0m\u001b[0;34m(\u001b[0m\u001b[0mself\u001b[0m\u001b[0;34m,\u001b[0m \u001b[0mmessages\u001b[0m\u001b[0;34m,\u001b[0m \u001b[0mdelay\u001b[0m\u001b[0;34m=\u001b[0m\u001b[0;36m0.5\u001b[0m\u001b[0;34m,\u001b[0m \u001b[0mattempts\u001b[0m\u001b[0;34m=\u001b[0m\u001b[0;36m3\u001b[0m\u001b[0;34m)\u001b[0m\u001b[0;34m:\u001b[0m\u001b[0;34m\u001b[0m\u001b[0;34m\u001b[0m\u001b[0m\n",
      "\u001b[0;32m/srv/app/venv/lib/python3.6/site-packages/client/api/notebook.py\u001b[0m in \u001b[0;36mrun\u001b[0;34m(self, protocol, messages, **kwargs)\u001b[0m\n\u001b[1;32m     19\u001b[0m             \u001b[0mprint\u001b[0m\u001b[0;34m(\u001b[0m\u001b[0;34m\"{} has not been included in the .ok config\"\u001b[0m\u001b[0;34m.\u001b[0m\u001b[0mformat\u001b[0m\u001b[0;34m(\u001b[0m\u001b[0mprotocol\u001b[0m\u001b[0;34m)\u001b[0m\u001b[0;34m)\u001b[0m\u001b[0;34m\u001b[0m\u001b[0;34m\u001b[0m\u001b[0m\n\u001b[1;32m     20\u001b[0m             \u001b[0;32mreturn\u001b[0m\u001b[0;34m\u001b[0m\u001b[0;34m\u001b[0m\u001b[0m\n\u001b[0;32m---> 21\u001b[0;31m         \u001b[0;32mreturn\u001b[0m \u001b[0mself\u001b[0m\u001b[0;34m.\u001b[0m\u001b[0massignment\u001b[0m\u001b[0;34m.\u001b[0m\u001b[0mprotocol_map\u001b[0m\u001b[0;34m[\u001b[0m\u001b[0mprotocol\u001b[0m\u001b[0;34m]\u001b[0m\u001b[0;34m.\u001b[0m\u001b[0mrun\u001b[0m\u001b[0;34m(\u001b[0m\u001b[0mmessages\u001b[0m\u001b[0;34m,\u001b[0m \u001b[0;34m**\u001b[0m\u001b[0mkwargs\u001b[0m\u001b[0;34m)\u001b[0m\u001b[0;34m\u001b[0m\u001b[0;34m\u001b[0m\u001b[0m\n\u001b[0m\u001b[1;32m     22\u001b[0m \u001b[0;34m\u001b[0m\u001b[0m\n\u001b[1;32m     23\u001b[0m     \u001b[0;32mdef\u001b[0m \u001b[0mauth\u001b[0m\u001b[0;34m(\u001b[0m\u001b[0mself\u001b[0m\u001b[0;34m,\u001b[0m \u001b[0mforce\u001b[0m\u001b[0;34m=\u001b[0m\u001b[0;32mFalse\u001b[0m\u001b[0;34m,\u001b[0m \u001b[0minline\u001b[0m\u001b[0;34m=\u001b[0m\u001b[0;32mTrue\u001b[0m\u001b[0;34m)\u001b[0m\u001b[0;34m:\u001b[0m\u001b[0;34m\u001b[0m\u001b[0;34m\u001b[0m\u001b[0m\n",
      "\u001b[0;32m/srv/app/venv/lib/python3.6/site-packages/client/protocols/backup.py\u001b[0m in \u001b[0;36mrun\u001b[0;34m(self, messages)\u001b[0m\n\u001b[1;32m     41\u001b[0m         \u001b[0mmessage_list\u001b[0m \u001b[0;34m=\u001b[0m \u001b[0mself\u001b[0m\u001b[0;34m.\u001b[0m\u001b[0mload_unsent_messages\u001b[0m\u001b[0;34m(\u001b[0m\u001b[0;34m)\u001b[0m\u001b[0;34m\u001b[0m\u001b[0;34m\u001b[0m\u001b[0m\n\u001b[1;32m     42\u001b[0m \u001b[0;34m\u001b[0m\u001b[0m\n\u001b[0;32m---> 43\u001b[0;31m         \u001b[0maccess_token\u001b[0m \u001b[0;34m=\u001b[0m \u001b[0mself\u001b[0m\u001b[0;34m.\u001b[0m\u001b[0massignment\u001b[0m\u001b[0;34m.\u001b[0m\u001b[0mauthenticate\u001b[0m\u001b[0;34m(\u001b[0m\u001b[0;34m)\u001b[0m\u001b[0;34m\u001b[0m\u001b[0;34m\u001b[0m\u001b[0m\n\u001b[0m\u001b[1;32m     44\u001b[0m         \u001b[0mlog\u001b[0m\u001b[0;34m.\u001b[0m\u001b[0minfo\u001b[0m\u001b[0;34m(\u001b[0m\u001b[0;34m'Authenticated with access token'\u001b[0m\u001b[0;34m)\u001b[0m\u001b[0;34m\u001b[0m\u001b[0;34m\u001b[0m\u001b[0m\n\u001b[1;32m     45\u001b[0m         \u001b[0mlog\u001b[0m\u001b[0;34m.\u001b[0m\u001b[0minfo\u001b[0m\u001b[0;34m(\u001b[0m\u001b[0;34m'Sending unsent messages'\u001b[0m\u001b[0;34m)\u001b[0m\u001b[0;34m\u001b[0m\u001b[0;34m\u001b[0m\u001b[0m\n",
      "\u001b[0;32m/srv/app/venv/lib/python3.6/site-packages/client/api/assignment.py\u001b[0m in \u001b[0;36mauthenticate\u001b[0;34m(self, force, inline)\u001b[0m\n\u001b[1;32m    168\u001b[0m     \u001b[0;32mdef\u001b[0m \u001b[0mauthenticate\u001b[0m\u001b[0;34m(\u001b[0m\u001b[0mself\u001b[0m\u001b[0;34m,\u001b[0m \u001b[0mforce\u001b[0m\u001b[0;34m=\u001b[0m\u001b[0;32mFalse\u001b[0m\u001b[0;34m,\u001b[0m \u001b[0minline\u001b[0m\u001b[0;34m=\u001b[0m\u001b[0;32mFalse\u001b[0m\u001b[0;34m)\u001b[0m\u001b[0;34m:\u001b[0m\u001b[0;34m\u001b[0m\u001b[0;34m\u001b[0m\u001b[0m\n\u001b[1;32m    169\u001b[0m         \u001b[0;32mif\u001b[0m \u001b[0;32mnot\u001b[0m \u001b[0minline\u001b[0m\u001b[0;34m:\u001b[0m\u001b[0;34m\u001b[0m\u001b[0;34m\u001b[0m\u001b[0m\n\u001b[0;32m--> 170\u001b[0;31m             \u001b[0;32mreturn\u001b[0m \u001b[0mauth\u001b[0m\u001b[0;34m.\u001b[0m\u001b[0mauthenticate\u001b[0m\u001b[0;34m(\u001b[0m\u001b[0mself\u001b[0m\u001b[0;34m.\u001b[0m\u001b[0mcmd_args\u001b[0m\u001b[0;34m,\u001b[0m \u001b[0mendpoint\u001b[0m\u001b[0;34m=\u001b[0m\u001b[0mself\u001b[0m\u001b[0;34m.\u001b[0m\u001b[0mendpoint\u001b[0m\u001b[0;34m,\u001b[0m \u001b[0mforce\u001b[0m\u001b[0;34m=\u001b[0m\u001b[0mforce\u001b[0m\u001b[0;34m)\u001b[0m\u001b[0;34m\u001b[0m\u001b[0;34m\u001b[0m\u001b[0m\n\u001b[0m\u001b[1;32m    171\u001b[0m         \u001b[0;32melse\u001b[0m\u001b[0;34m:\u001b[0m\u001b[0;34m\u001b[0m\u001b[0;34m\u001b[0m\u001b[0m\n\u001b[1;32m    172\u001b[0m             \u001b[0;32mreturn\u001b[0m \u001b[0mauth\u001b[0m\u001b[0;34m.\u001b[0m\u001b[0mnotebook_authenticate\u001b[0m\u001b[0;34m(\u001b[0m\u001b[0mself\u001b[0m\u001b[0;34m.\u001b[0m\u001b[0mcmd_args\u001b[0m\u001b[0;34m,\u001b[0m \u001b[0mforce\u001b[0m\u001b[0;34m=\u001b[0m\u001b[0mforce\u001b[0m\u001b[0;34m)\u001b[0m\u001b[0;34m\u001b[0m\u001b[0;34m\u001b[0m\u001b[0m\n",
      "\u001b[0;32m/srv/app/venv/lib/python3.6/site-packages/client/utils/auth.py\u001b[0m in \u001b[0;36mauthenticate\u001b[0;34m(cmd_args, endpoint, force)\u001b[0m\n\u001b[1;32m    187\u001b[0m     \u001b[0;32mif\u001b[0m \u001b[0;32mnot\u001b[0m \u001b[0maccess_token\u001b[0m\u001b[0;34m:\u001b[0m\u001b[0;34m\u001b[0m\u001b[0;34m\u001b[0m\u001b[0m\n\u001b[1;32m    188\u001b[0m         \u001b[0mprint\u001b[0m\u001b[0;34m(\u001b[0m\u001b[0;34m'Performing authentication'\u001b[0m\u001b[0;34m)\u001b[0m\u001b[0;34m\u001b[0m\u001b[0;34m\u001b[0m\u001b[0m\n\u001b[0;32m--> 189\u001b[0;31m         \u001b[0maccess_token\u001b[0m \u001b[0;34m=\u001b[0m \u001b[0mperform_oauth\u001b[0m\u001b[0;34m(\u001b[0m\u001b[0mget_code\u001b[0m\u001b[0;34m,\u001b[0m \u001b[0mcmd_args\u001b[0m\u001b[0;34m,\u001b[0m \u001b[0mendpoint\u001b[0m\u001b[0;34m)\u001b[0m\u001b[0;34m\u001b[0m\u001b[0;34m\u001b[0m\u001b[0m\n\u001b[0m\u001b[1;32m    190\u001b[0m         \u001b[0memail\u001b[0m \u001b[0;34m=\u001b[0m \u001b[0mdisplay_student_email\u001b[0m\u001b[0;34m(\u001b[0m\u001b[0mcmd_args\u001b[0m\u001b[0;34m,\u001b[0m \u001b[0maccess_token\u001b[0m\u001b[0;34m)\u001b[0m\u001b[0;34m\u001b[0m\u001b[0;34m\u001b[0m\u001b[0m\n\u001b[1;32m    191\u001b[0m         \u001b[0;32mif\u001b[0m \u001b[0;32mnot\u001b[0m \u001b[0memail\u001b[0m\u001b[0;34m:\u001b[0m\u001b[0;34m\u001b[0m\u001b[0;34m\u001b[0m\u001b[0m\n",
      "\u001b[0;32m/srv/app/venv/lib/python3.6/site-packages/client/utils/auth.py\u001b[0m in \u001b[0;36mperform_oauth\u001b[0;34m(code_fn, *args, **kwargs)\u001b[0m\n\u001b[1;32m    160\u001b[0m \u001b[0;32mdef\u001b[0m \u001b[0mperform_oauth\u001b[0m\u001b[0;34m(\u001b[0m\u001b[0mcode_fn\u001b[0m\u001b[0;34m,\u001b[0m \u001b[0;34m*\u001b[0m\u001b[0margs\u001b[0m\u001b[0;34m,\u001b[0m \u001b[0;34m**\u001b[0m\u001b[0mkwargs\u001b[0m\u001b[0;34m)\u001b[0m\u001b[0;34m:\u001b[0m\u001b[0;34m\u001b[0m\u001b[0;34m\u001b[0m\u001b[0m\n\u001b[1;32m    161\u001b[0m     \u001b[0;32mtry\u001b[0m\u001b[0;34m:\u001b[0m\u001b[0;34m\u001b[0m\u001b[0;34m\u001b[0m\u001b[0m\n\u001b[0;32m--> 162\u001b[0;31m         \u001b[0maccess_token\u001b[0m\u001b[0;34m,\u001b[0m \u001b[0mexpires_in\u001b[0m\u001b[0;34m,\u001b[0m \u001b[0mrefresh_token\u001b[0m \u001b[0;34m=\u001b[0m \u001b[0mcode_fn\u001b[0m\u001b[0;34m(\u001b[0m\u001b[0;34m*\u001b[0m\u001b[0margs\u001b[0m\u001b[0;34m,\u001b[0m \u001b[0;34m**\u001b[0m\u001b[0mkwargs\u001b[0m\u001b[0;34m)\u001b[0m\u001b[0;34m\u001b[0m\u001b[0;34m\u001b[0m\u001b[0m\n\u001b[0m\u001b[1;32m    163\u001b[0m     \u001b[0;32mexcept\u001b[0m \u001b[0mOAuthException\u001b[0m \u001b[0;32mas\u001b[0m \u001b[0me\u001b[0m\u001b[0;34m:\u001b[0m\u001b[0;34m\u001b[0m\u001b[0;34m\u001b[0m\u001b[0m\n\u001b[1;32m    164\u001b[0m         \u001b[0;32mwith\u001b[0m \u001b[0mformat\u001b[0m\u001b[0;34m.\u001b[0m\u001b[0mblock\u001b[0m\u001b[0;34m(\u001b[0m\u001b[0;34m'-'\u001b[0m\u001b[0;34m)\u001b[0m\u001b[0;34m:\u001b[0m\u001b[0;34m\u001b[0m\u001b[0;34m\u001b[0m\u001b[0m\n",
      "\u001b[0;32m/srv/app/venv/lib/python3.6/site-packages/client/utils/auth.py\u001b[0m in \u001b[0;36mget_code\u001b[0;34m(cmd_args, endpoint)\u001b[0m\n\u001b[1;32m    226\u001b[0m \u001b[0;34m\u001b[0m\u001b[0m\n\u001b[1;32m    227\u001b[0m     \u001b[0mprint\u001b[0m\u001b[0;34m(\u001b[0m\u001b[0;34m\"Please enter your bCourses email.\"\u001b[0m\u001b[0;34m)\u001b[0m\u001b[0;34m\u001b[0m\u001b[0;34m\u001b[0m\u001b[0m\n\u001b[0;32m--> 228\u001b[0;31m     \u001b[0memail\u001b[0m \u001b[0;34m=\u001b[0m \u001b[0minput\u001b[0m\u001b[0;34m(\u001b[0m\u001b[0;34m\"bCourses email: \"\u001b[0m\u001b[0;34m)\u001b[0m\u001b[0;34m\u001b[0m\u001b[0;34m\u001b[0m\u001b[0m\n\u001b[0m\u001b[1;32m    229\u001b[0m \u001b[0;34m\u001b[0m\u001b[0m\n\u001b[1;32m    230\u001b[0m     \u001b[0mhost_name\u001b[0m \u001b[0;34m=\u001b[0m \u001b[0mREDIRECT_HOST\u001b[0m\u001b[0;34m\u001b[0m\u001b[0;34m\u001b[0m\u001b[0m\n",
      "\u001b[0;32m/srv/app/venv/lib/python3.6/site-packages/ipykernel/kernelbase.py\u001b[0m in \u001b[0;36mraw_input\u001b[0;34m(self, prompt)\u001b[0m\n\u001b[1;32m    857\u001b[0m             \u001b[0mself\u001b[0m\u001b[0;34m.\u001b[0m\u001b[0m_parent_ident\u001b[0m\u001b[0;34m,\u001b[0m\u001b[0;34m\u001b[0m\u001b[0;34m\u001b[0m\u001b[0m\n\u001b[1;32m    858\u001b[0m             \u001b[0mself\u001b[0m\u001b[0;34m.\u001b[0m\u001b[0m_parent_header\u001b[0m\u001b[0;34m,\u001b[0m\u001b[0;34m\u001b[0m\u001b[0;34m\u001b[0m\u001b[0m\n\u001b[0;32m--> 859\u001b[0;31m             \u001b[0mpassword\u001b[0m\u001b[0;34m=\u001b[0m\u001b[0;32mFalse\u001b[0m\u001b[0;34m,\u001b[0m\u001b[0;34m\u001b[0m\u001b[0;34m\u001b[0m\u001b[0m\n\u001b[0m\u001b[1;32m    860\u001b[0m         )\n\u001b[1;32m    861\u001b[0m \u001b[0;34m\u001b[0m\u001b[0m\n",
      "\u001b[0;32m/srv/app/venv/lib/python3.6/site-packages/ipykernel/kernelbase.py\u001b[0m in \u001b[0;36m_input_request\u001b[0;34m(self, prompt, ident, parent, password)\u001b[0m\n\u001b[1;32m    887\u001b[0m             \u001b[0;32mexcept\u001b[0m \u001b[0mKeyboardInterrupt\u001b[0m\u001b[0;34m:\u001b[0m\u001b[0;34m\u001b[0m\u001b[0;34m\u001b[0m\u001b[0m\n\u001b[1;32m    888\u001b[0m                 \u001b[0;31m# re-raise KeyboardInterrupt, to truncate traceback\u001b[0m\u001b[0;34m\u001b[0m\u001b[0;34m\u001b[0m\u001b[0;34m\u001b[0m\u001b[0m\n\u001b[0;32m--> 889\u001b[0;31m                 \u001b[0;32mraise\u001b[0m \u001b[0mKeyboardInterrupt\u001b[0m\u001b[0;34m\u001b[0m\u001b[0;34m\u001b[0m\u001b[0m\n\u001b[0m\u001b[1;32m    890\u001b[0m             \u001b[0;32melse\u001b[0m\u001b[0;34m:\u001b[0m\u001b[0;34m\u001b[0m\u001b[0;34m\u001b[0m\u001b[0m\n\u001b[1;32m    891\u001b[0m                 \u001b[0;32mbreak\u001b[0m\u001b[0;34m\u001b[0m\u001b[0;34m\u001b[0m\u001b[0m\n",
      "\u001b[0;31mKeyboardInterrupt\u001b[0m: "
     ]
    }
   ],
   "source": [
    "# Just run this cell\n",
    "\n",
    "import numpy as np\n",
    "from datascience import *\n",
    "\n",
    "# These lines load the tests.\n",
    "# When you log-in please hit return (not shift + return) after typing in your email\n",
    "from client.api.notebook import Notebook\n",
    "ok = Notebook('lab02.ok')\n",
    "_ = ok.submit()"
   ]
  },
  {
   "cell_type": "markdown",
   "metadata": {},
   "source": [
    "# 1. Review: The building blocks of Python code\n",
    "\n",
    "The two building blocks of Python code are *expressions* and *statements*.  An **expression** is a piece of code that\n",
    "\n",
    "* is self-contained, meaning it would make sense to write it on a line by itself, and\n",
    "* usually evaluates to a value.\n",
    "\n",
    "\n",
    "Here are two expressions that both evaluate to 3:\n",
    "\n",
    "    3\n",
    "    5 - 2\n",
    "    \n",
    "One important type of expression is the **call expression**. A call expression begins with the name of a function and is followed by the argument(s) of that function in parentheses. The function returns some value, based on its arguments. Some important mathematical functions are listed below.\n",
    "\n",
    "| Function | Description                                                   |\n",
    "|----------|---------------------------------------------------------------|\n",
    "| `abs`      | Returns the absolute value of its argument                    |\n",
    "| `max`      | Returns the maximum of all its arguments                      |\n",
    "| `min`      | Returns the minimum of all its arguments                      |\n",
    "| `pow`      | Raises its first argument to the power of its second argument |\n",
    "| `round`    | Rounds its argument to the nearest integer                     |\n",
    "\n",
    "Here are two call expressions that both evaluate to 3:\n",
    "\n",
    "    abs(2 - 5)\n",
    "    max(round(2.8), min(pow(2, 10), -1 * pow(2, 10)))\n",
    "\n",
    "The expression `5 - 2` and the two call expressions given above are examples of **compound expressions**, meaning that they are actually combinations of several smaller expressions.  `5 - 2` combines the expressions `5` and `2` by subtraction.  In this case, `5` and `2` are called **subexpressions** because they're expressions that are part of a larger expression.\n",
    "\n",
    "A **statement** is a whole line of code.  Some statements are just expressions.  The expressions listed above are examples.\n",
    "\n",
    "Other statements *make something happen* rather than *having a value*. For example, an **assignment statement** assigns a value to a name. \n",
    "\n",
    "A good way to think about this is that we're **evaluating the right-hand side** of the equals sign and **assigning it to the left-hand side**. Here are some assignment statements:\n",
    "    \n",
    "    height = 1.3\n",
    "    the_number_five = abs(-5)\n",
    "    absolute_height_difference = abs(height - 1.688)\n",
    "\n",
    "An important idea in programming is that large, interesting things can be built by combining many simple, uninteresting things.  The key to understanding a complicated piece of code is breaking it down into its simple components.\n",
    "\n",
    "For example, a lot is going on in the last statement above, but it's really just a combination of a few things.  This picture describes what's going on.\n",
    "\n",
    "<img src=\"statement.png\">"
   ]
  },
  {
   "cell_type": "markdown",
   "metadata": {
    "deletable": false,
    "editable": false
   },
   "source": [
    "**Question 1.1.** In the next cell, assign the name `new_year` to the larger number among the following two numbers:\n",
    "\n",
    "1. the **absolute value** of $2^{5}-2^{11}-2^1 + 1$, and \n",
    "2. $5 \\times 13 \\times 31 + 4$.\n",
    "\n",
    "Try to use just one statement (one line of code). Be sure to check your work by executing the test cell afterward.\n",
    "\n",
    "<!--\n",
    "BEGIN QUESTION\n",
    "name: q11\n",
    "-->"
   ]
  },
  {
   "cell_type": "code",
   "execution_count": 8,
   "metadata": {
    "deletable": false
   },
   "outputs": [
    {
     "data": {
      "text/plain": [
       "2019"
      ]
     },
     "execution_count": 8,
     "metadata": {},
     "output_type": "execute_result"
    }
   ],
   "source": [
    "new_year = abs((2**5)-(2**11)-(2**1)-1)\n",
    "new_year"
   ]
  },
  {
   "cell_type": "code",
   "execution_count": 9,
   "metadata": {
    "deletable": false,
    "editable": false
   },
   "outputs": [
    {
     "name": "stdout",
     "output_type": "stream",
     "text": [
      "~~~~~~~~~~~~~~~~~~~~~~~~~~~~~~~~~~~~~~~~~~~~~~~~~~~~~~~~~~~~~~~~~~~~~\n",
      "Running tests\n",
      "\n",
      "---------------------------------------------------------------------\n",
      "Test summary\n",
      "    Passed: 1\n",
      "    Failed: 0\n",
      "[ooooooooook] 100.0% passed\n",
      "\n"
     ]
    }
   ],
   "source": [
    "ok.grade(\"q11\");"
   ]
  },
  {
   "cell_type": "markdown",
   "metadata": {},
   "source": [
    "We've asked you to use one line of code in the question above because it only involves mathematical operations. However, more complicated programming questions will more require more steps. It isn’t always a good idea to jam these steps into a single line because it can make the code harder to read and harder to debug.\n",
    "\n",
    "Good programming practice involves splitting up your code into smaller steps and using appropriate names. You'll have plenty of practice in the rest of this course!"
   ]
  },
  {
   "cell_type": "markdown",
   "metadata": {},
   "source": [
    "# 2. Importing code\n",
    "\n",
    "> What has been will be again,  \n",
    "> what has been done will be done again;  \n",
    "> there is nothing new under the sun.\n",
    "\n",
    "Most programming involves work that is very similar to work that has been done before.  Since writing code is time-consuming, it's good to rely on others' published code when you can.  Rather than copy-pasting, Python allows us to **import modules**. A module is a file with Python code that has defined variables and functions. By importing a module, we are able to use its code in our own notebook.\n",
    "\n",
    "Python includes many useful modules that are just an `import` away.  We'll look at the `math` module as a first example. The `math` module is extremely useful in computing mathematical expressions in Python. \n",
    "\n",
    "Suppose we want to very accurately compute the area of a circle with a radius of 5 meters.  For that, we need the constant $\\pi$, which is roughly 3.14.  Conveniently, the `math` module has `pi` defined for us:"
   ]
  },
  {
   "cell_type": "code",
   "execution_count": 10,
   "metadata": {},
   "outputs": [
    {
     "data": {
      "text/plain": [
       "78.53981633974483"
      ]
     },
     "execution_count": 10,
     "metadata": {},
     "output_type": "execute_result"
    }
   ],
   "source": [
    "import math\n",
    "radius = 5\n",
    "area_of_circle = radius**2 * math.pi\n",
    "area_of_circle"
   ]
  },
  {
   "cell_type": "markdown",
   "metadata": {},
   "source": [
    "In the code above, the line `import math` imports the math module. This statement creates a module and then assigns the name `math` to that module. We are now able to access any variables or functions defined within `math` by typing the name of the module followed by a dot, then followed by the name of the variable or function we want.\n",
    "\n",
    "    <module name>.<name>"
   ]
  },
  {
   "cell_type": "markdown",
   "metadata": {
    "deletable": false,
    "editable": false
   },
   "source": [
    "**Question 2.1.** The module `math` also provides the name `e` for the base of the natural logarithm, which is roughly 2.71.  Compute $e^{\\pi}-\\pi$, giving it the name `near_twenty`.\n",
    "\n",
    "<!--\n",
    "BEGIN QUESTION\n",
    "name: q21\n",
    "-->"
   ]
  },
  {
   "cell_type": "code",
   "execution_count": 11,
   "metadata": {
    "deletable": false
   },
   "outputs": [
    {
     "data": {
      "text/plain": [
       "19.99909997918947"
      ]
     },
     "execution_count": 11,
     "metadata": {},
     "output_type": "execute_result"
    }
   ],
   "source": [
    "near_twenty = math.e**math.pi-math.pi\n",
    "near_twenty"
   ]
  },
  {
   "cell_type": "code",
   "execution_count": 12,
   "metadata": {
    "deletable": false,
    "editable": false
   },
   "outputs": [
    {
     "name": "stdout",
     "output_type": "stream",
     "text": [
      "~~~~~~~~~~~~~~~~~~~~~~~~~~~~~~~~~~~~~~~~~~~~~~~~~~~~~~~~~~~~~~~~~~~~~\n",
      "Running tests\n",
      "\n",
      "---------------------------------------------------------------------\n",
      "Test summary\n",
      "    Passed: 1\n",
      "    Failed: 0\n",
      "[ooooooooook] 100.0% passed\n",
      "\n"
     ]
    }
   ],
   "source": [
    "ok.grade(\"q21\");"
   ]
  },
  {
   "cell_type": "markdown",
   "metadata": {},
   "source": [
    "![XKCD](http://imgs.xkcd.com/comics/e_to_the_pi_minus_pi.png)\n",
    "\n",
    "Source: http://imgs.xkcd.com/comics/e_to_the_pi_minus_pi.png"
   ]
  },
  {
   "cell_type": "markdown",
   "metadata": {
    "deletable": false,
    "editable": false
   },
   "source": [
    "## 2.1. Accessing functions\n",
    "\n",
    "In the question above, you accessed variables within the `math` module. \n",
    "\n",
    "**Modules** also define **functions**.  For example, `math` provides the name `sin` for the sine function.  Having imported `math` already, we can write `math.sin(3)` to compute the sine of 3.  (Note that this sine function considers its argument to be in [radians](https://en.wikipedia.org/wiki/Radian), not degrees.  180 degrees are equivalent to $\\pi$ radians.)\n",
    "\n",
    "**Question 2.1.1.** A $\\frac{\\pi}{4}$-radian (45-degree) angle forms a right triangle with equal base and height, pictured below.  If the hypotenuse (the radius of the circle in the picture) is 1, then the height is $\\sin(\\frac{\\pi}{4})$.  Compute that value using `sin` and `pi` from the `math` module.  Give the result the name `sine_of_pi_over_four`.\n",
    "\n",
    "<img src=\"http://mathworld.wolfram.com/images/eps-gif/TrigonometryAnglesPi4_1000.gif\">\n",
    "\n",
    "Source: [Wolfram MathWorld](http://mathworld.wolfram.com/images/eps-gif/TrigonometryAnglesPi4_1000.gif)\n",
    "\n",
    "<!--\n",
    "BEGIN QUESTION\n",
    "name: q211\n",
    "-->"
   ]
  },
  {
   "cell_type": "code",
   "execution_count": 13,
   "metadata": {
    "deletable": false
   },
   "outputs": [
    {
     "data": {
      "text/plain": [
       "0.7071067811865475"
      ]
     },
     "execution_count": 13,
     "metadata": {},
     "output_type": "execute_result"
    }
   ],
   "source": [
    "sine_of_pi_over_four = math.sin(math.pi/4)\n",
    "sine_of_pi_over_four"
   ]
  },
  {
   "cell_type": "code",
   "execution_count": 14,
   "metadata": {
    "deletable": false,
    "editable": false
   },
   "outputs": [
    {
     "name": "stdout",
     "output_type": "stream",
     "text": [
      "~~~~~~~~~~~~~~~~~~~~~~~~~~~~~~~~~~~~~~~~~~~~~~~~~~~~~~~~~~~~~~~~~~~~~\n",
      "Running tests\n",
      "\n",
      "---------------------------------------------------------------------\n",
      "Test summary\n",
      "    Passed: 1\n",
      "    Failed: 0\n",
      "[ooooooooook] 100.0% passed\n",
      "\n"
     ]
    }
   ],
   "source": [
    "ok.grade(\"q211\");"
   ]
  },
  {
   "cell_type": "markdown",
   "metadata": {},
   "source": [
    "For your reference, below are some more examples of functions from the `math` module.\n",
    "\n",
    "Notice how different functions take in different numbers of arguments. Often, the [documentation](https://docs.python.org/3/library/math.html) of the module will provide information on how many arguments are required for each function."
   ]
  },
  {
   "cell_type": "code",
   "execution_count": 15,
   "metadata": {},
   "outputs": [
    {
     "data": {
      "text/plain": [
       "3.0"
      ]
     },
     "execution_count": 15,
     "metadata": {},
     "output_type": "execute_result"
    }
   ],
   "source": [
    "# Calculating logarithms (the logarithm of 8 in base 2).\n",
    "# The result is 3 because 2 to the power of 3 is 8.\n",
    "math.log(8, 2)"
   ]
  },
  {
   "cell_type": "code",
   "execution_count": 16,
   "metadata": {},
   "outputs": [
    {
     "data": {
      "text/plain": [
       "2.23606797749979"
      ]
     },
     "execution_count": 16,
     "metadata": {},
     "output_type": "execute_result"
    }
   ],
   "source": [
    "# Calculating square roots.\n",
    "math.sqrt(5)"
   ]
  },
  {
   "cell_type": "markdown",
   "metadata": {},
   "source": [
    "There are various ways to import and access code from outside sources. The method we used above — `import <module_name>` — imports the entire module and requires that we use `<module_name>.<name>` to access its code. \n",
    "\n",
    "We can also import a specific constant or function instead of the entire module. Notice that you don't have to use the module name beforehand to reference that particular value. However, you do have to be careful about reassigning the names of the constants or functions to other values!"
   ]
  },
  {
   "cell_type": "code",
   "execution_count": 17,
   "metadata": {},
   "outputs": [
    {
     "name": "stdout",
     "output_type": "stream",
     "text": [
      "-1.0\n"
     ]
    },
    {
     "data": {
      "text/plain": [
       "1.1447298858494002"
      ]
     },
     "execution_count": 17,
     "metadata": {},
     "output_type": "execute_result"
    }
   ],
   "source": [
    "# Importing just cos and pi from math.\n",
    "# We don't have to use `math.` in front of cos or pi\n",
    "from math import cos, pi\n",
    "print(cos(pi))\n",
    "\n",
    "# We do have to use it in front of other functions from math, though\n",
    "math.log(pi)"
   ]
  },
  {
   "cell_type": "markdown",
   "metadata": {},
   "source": [
    "Or we can import every function and value from the entire module."
   ]
  },
  {
   "cell_type": "code",
   "execution_count": 18,
   "metadata": {},
   "outputs": [
    {
     "data": {
      "text/plain": [
       "1.1447298858494002"
      ]
     },
     "execution_count": 18,
     "metadata": {},
     "output_type": "execute_result"
    }
   ],
   "source": [
    "# Lastly, we can import everything from math using the *\n",
    "# Once again, we don't have to use 'math.' beforehand \n",
    "from math import *\n",
    "log(pi)"
   ]
  },
  {
   "cell_type": "markdown",
   "metadata": {},
   "source": [
    "Don't worry too much about which type of import to use. It's often a coding style choice left up to each programmer. In this course, you'll always import the necessary modules when you run the setup cell (like the first code cell in this lab)."
   ]
  },
  {
   "cell_type": "markdown",
   "metadata": {
    "deletable": false,
    "editable": false
   },
   "source": [
    "##### A function that displays a picture\n",
    "People have written Python functions that do very cool and complicated things, like crawling web pages for data, transforming videos, or doing machine learning with lots of data. Before you write code for a task that seems common, you can check to see if someone has already written it for you!\n",
    "\n",
    "\n",
    "Let's take a look at a function used for downloading and displaying pictures.\n",
    "\n",
    "The module `IPython.display` provides a function called `Image`.  The `Image` function takes a single argument, text that is the URL of the image on the web.  It returns an *image* value that this Jupyter notebook understands how to display.  To display an image, make the image value the last expression in a cell, just like you'd display a number or text.\n",
    "\n",
    "**Question 2.1.2.** In the next cell, import the module `IPython.display` and pass in \n",
    "\n",
    "    'https://uploads0.wikiart.org/images/lee-krasner/noon-1947.jpg'\n",
    "    \n",
    "as an argument to its `Image` function. This will display the image at this URL.\n",
    "\n",
    "Assign the name `art` to the output of the call to `Image`.  (It might take a few seconds to load the image.  It’s a 1947 painting by Lee Krasner called *Noon*. Lee Krasner was an influential woman in American art who created abstract impressionist works such as *Noon*. Jackson Pollock was married to her!)\n",
    "\n",
    "<!--\n",
    "BEGIN QUESTION\n",
    "name: q212\n",
    "image: true\n",
    "-->"
   ]
  },
  {
   "cell_type": "code",
   "execution_count": null,
   "metadata": {
    "deletable": false
   },
   "outputs": [],
   "source": [
    "# Import the module IPython.display. Watch out for capitalization.\n",
    "...\n",
    "\n",
    "# Replace the ... below with a call to the Image function\n",
    "# in the IPython.display module, which should produce a picture.\n",
    "art = ...\n",
    "art"
   ]
  },
  {
   "cell_type": "code",
   "execution_count": null,
   "metadata": {
    "deletable": false,
    "editable": false
   },
   "outputs": [],
   "source": [
    "ok.grade(\"q212\");"
   ]
  },
  {
   "cell_type": "markdown",
   "metadata": {},
   "source": [
    "Let's move on to practicing some of the table operations you've learned in lecture!"
   ]
  },
  {
   "cell_type": "markdown",
   "metadata": {},
   "source": [
    "# 3. Table operations\n",
    "\n",
    "The table `farmers_markets.csv` contains data on farmers' markets in the United States  (data collected [by the USDA](https://apps.ams.usda.gov/FarmersMarketsExport/ExcelExport.aspx)).  Each row represents one such market.\n",
    "\n",
    "Run the next cell to load the `farmers_markets` table."
   ]
  },
  {
   "cell_type": "code",
   "execution_count": 21,
   "metadata": {
    "deletable": false
   },
   "outputs": [
    {
     "data": {
      "text/html": [
       "<table border=\"1\" class=\"dataframe\">\n",
       "    <thead>\n",
       "        <tr>\n",
       "            <th>FMID</th> <th>MarketName</th> <th>street</th> <th>city</th> <th>County</th> <th>State</th> <th>zip</th> <th>x</th> <th>y</th> <th>Website</th> <th>Facebook</th> <th>Twitter</th> <th>Youtube</th> <th>OtherMedia</th> <th>Organic</th> <th>Tofu</th> <th>Bakedgoods</th> <th>Cheese</th> <th>Crafts</th> <th>Flowers</th> <th>Eggs</th> <th>Seafood</th> <th>Herbs</th> <th>Vegetables</th> <th>Honey</th> <th>Jams</th> <th>Maple</th> <th>Meat</th> <th>Nursery</th> <th>Nuts</th> <th>Plants</th> <th>Poultry</th> <th>Prepared</th> <th>Soap</th> <th>Trees</th> <th>Wine</th> <th>Coffee</th> <th>Beans</th> <th>Fruits</th> <th>Grains</th> <th>Juices</th> <th>Mushrooms</th> <th>PetFood</th> <th>WildHarvested</th> <th>updateTime</th> <th>Location</th> <th>Credit</th> <th>WIC</th> <th>WICcash</th> <th>SFMNP</th> <th>SNAP</th> <th>Season1Date</th> <th>Season1Time</th> <th>Season2Date</th> <th>Season2Time</th> <th>Season3Date</th> <th>Season3Time</th> <th>Season4Date</th> <th>Season4Time</th>\n",
       "        </tr>\n",
       "    </thead>\n",
       "    <tbody>\n",
       "        <tr>\n",
       "            <td>1012063</td> <td> Caledonia Farmers Market Association - Danville</td> <td>nan                                                     </td> <td>Danville  </td> <td>Caledonia           </td> <td>Vermont             </td> <td>05828</td> <td>-72.1403</td> <td>44.411 </td> <td>https://sites.google.com/site/caledoniafarmersmarket/</td> <td>https://www.facebook.com/Danville.VT.Farmers.Market/        </td> <td>nan                                </td> <td>nan    </td> <td>nan                                                         </td> <td>Y      </td> <td>N   </td> <td>Y         </td> <td>Y     </td> <td>Y     </td> <td>Y      </td> <td>Y   </td> <td>N      </td> <td>Y    </td> <td>Y         </td> <td>Y    </td> <td>Y   </td> <td>Y    </td> <td>Y   </td> <td>N      </td> <td>N   </td> <td>Y     </td> <td>Y      </td> <td>Y       </td> <td>Y   </td> <td>Y    </td> <td>N   </td> <td>Y     </td> <td>Y    </td> <td>Y     </td> <td>N     </td> <td>Y     </td> <td>N        </td> <td>Y      </td> <td>N            </td> <td>6/28/2016 12:10:09 PM</td> <td>nan                                                       </td> <td>Y     </td> <td>Y   </td> <td>N      </td> <td>Y    </td> <td>N   </td> <td>06/08/2016 to 10/12/2016</td> <td>Wed: 9:00 AM-1:00 PM;                       </td> <td>nan        </td> <td>nan        </td> <td>nan        </td> <td>nan        </td> <td>nan        </td> <td>nan        </td>\n",
       "        </tr>\n",
       "        <tr>\n",
       "            <td>1011871</td> <td> Stearns Homestead Farmers' Market              </td> <td>6975 Ridge Road                                         </td> <td>Parma     </td> <td>Cuyahoga            </td> <td>Ohio                </td> <td>44130</td> <td>-81.7286</td> <td>41.3751</td> <td>http://Stearnshomestead.com                          </td> <td>nan                                                         </td> <td>nan                                </td> <td>nan    </td> <td>nan                                                         </td> <td>-      </td> <td>N   </td> <td>Y         </td> <td>N     </td> <td>N     </td> <td>Y      </td> <td>Y   </td> <td>N      </td> <td>Y    </td> <td>Y         </td> <td>Y    </td> <td>Y   </td> <td>Y    </td> <td>Y   </td> <td>N      </td> <td>N   </td> <td>Y     </td> <td>N      </td> <td>N       </td> <td>N   </td> <td>N    </td> <td>N   </td> <td>N     </td> <td>N    </td> <td>Y     </td> <td>N     </td> <td>N     </td> <td>N        </td> <td>Y      </td> <td>N            </td> <td>4/9/2016 8:05:17 PM  </td> <td>nan                                                       </td> <td>Y     </td> <td>Y   </td> <td>N      </td> <td>Y    </td> <td>Y   </td> <td>06/25/2016 to 10/01/2016</td> <td>Sat: 9:00 AM-1:00 PM;                       </td> <td>nan        </td> <td>nan        </td> <td>nan        </td> <td>nan        </td> <td>nan        </td> <td>nan        </td>\n",
       "        </tr>\n",
       "        <tr>\n",
       "            <td>1011878</td> <td>100 Mile Market                                 </td> <td>507 Harrison St                                         </td> <td>Kalamazoo </td> <td>Kalamazoo           </td> <td>Michigan            </td> <td>49007</td> <td>-85.5749</td> <td>42.296 </td> <td>http://www.pfcmarkets.com                            </td> <td>https://www.facebook.com/100MileMarket/?fref=ts             </td> <td>nan                                </td> <td>nan    </td> <td>https://www.instagram.com/100milemarket/                    </td> <td>N      </td> <td>N   </td> <td>Y         </td> <td>Y     </td> <td>N     </td> <td>Y      </td> <td>Y   </td> <td>N      </td> <td>Y    </td> <td>Y         </td> <td>Y    </td> <td>Y   </td> <td>Y    </td> <td>Y   </td> <td>N      </td> <td>N   </td> <td>N     </td> <td>Y      </td> <td>Y       </td> <td>Y   </td> <td>N    </td> <td>Y   </td> <td>N     </td> <td>N    </td> <td>Y     </td> <td>Y     </td> <td>N     </td> <td>N        </td> <td>N      </td> <td>N            </td> <td>4/16/2016 12:37:56 PM</td> <td>nan                                                       </td> <td>Y     </td> <td>Y   </td> <td>N      </td> <td>Y    </td> <td>Y   </td> <td>05/04/2016 to 10/12/2016</td> <td>Wed: 3:00 PM-7:00 PM;                       </td> <td>nan        </td> <td>nan        </td> <td>nan        </td> <td>nan        </td> <td>nan        </td> <td>nan        </td>\n",
       "        </tr>\n",
       "        <tr>\n",
       "            <td>1009364</td> <td>106 S. Main Street Farmers Market               </td> <td>106 S. Main Street                                      </td> <td>Six Mile  </td> <td>nan                 </td> <td>South Carolina      </td> <td>29682</td> <td>-82.8187</td> <td>34.8042</td> <td>http://thetownofsixmile.wordpress.com/               </td> <td>nan                                                         </td> <td>nan                                </td> <td>nan    </td> <td>nan                                                         </td> <td>-      </td> <td>N   </td> <td>N         </td> <td>N     </td> <td>N     </td> <td>N      </td> <td>N   </td> <td>N      </td> <td>N    </td> <td>N         </td> <td>N    </td> <td>N   </td> <td>N    </td> <td>N   </td> <td>N      </td> <td>N   </td> <td>N     </td> <td>N      </td> <td>N       </td> <td>N   </td> <td>N    </td> <td>N   </td> <td>N     </td> <td>N    </td> <td>N     </td> <td>N     </td> <td>N     </td> <td>N        </td> <td>N      </td> <td>N            </td> <td>2013                 </td> <td>nan                                                       </td> <td>Y     </td> <td>N   </td> <td>N      </td> <td>N    </td> <td>N   </td> <td>nan                     </td> <td>nan                                         </td> <td>nan        </td> <td>nan        </td> <td>nan        </td> <td>nan        </td> <td>nan        </td> <td>nan        </td>\n",
       "        </tr>\n",
       "        <tr>\n",
       "            <td>1010691</td> <td>10th Steet Community Farmers Market             </td> <td>10th Street and Poplar                                  </td> <td>Lamar     </td> <td>Barton              </td> <td>Missouri            </td> <td>64759</td> <td>-94.2746</td> <td>37.4956</td> <td>nan                                                  </td> <td>nan                                                         </td> <td>nan                                </td> <td>nan    </td> <td>http://agrimissouri.com/mo-grown/grodetail.php?type=mo-g ...</td> <td>-      </td> <td>N   </td> <td>Y         </td> <td>N     </td> <td>Y     </td> <td>N      </td> <td>Y   </td> <td>N      </td> <td>Y    </td> <td>Y         </td> <td>Y    </td> <td>Y   </td> <td>N    </td> <td>Y   </td> <td>N      </td> <td>N   </td> <td>Y     </td> <td>Y      </td> <td>Y       </td> <td>Y   </td> <td>N    </td> <td>N   </td> <td>N     </td> <td>N    </td> <td>Y     </td> <td>N     </td> <td>N     </td> <td>N        </td> <td>N      </td> <td>N            </td> <td>10/28/2014 9:49:46 AM</td> <td>nan                                                       </td> <td>Y     </td> <td>N   </td> <td>N      </td> <td>N    </td> <td>N   </td> <td>04/02/2014 to 11/30/2014</td> <td>Wed: 3:00 PM-6:00 PM;Sat: 8:00 AM-1:00 PM;  </td> <td>nan        </td> <td>nan        </td> <td>nan        </td> <td>nan        </td> <td>nan        </td> <td>nan        </td>\n",
       "        </tr>\n",
       "        <tr>\n",
       "            <td>1002454</td> <td>112st Madison Avenue                            </td> <td>112th Madison Avenue                                    </td> <td>New York  </td> <td>New York            </td> <td>New York            </td> <td>10029</td> <td>-73.9493</td> <td>40.7939</td> <td>nan                                                  </td> <td>nan                                                         </td> <td>nan                                </td> <td>nan    </td> <td>nan                                                         </td> <td>-      </td> <td>N   </td> <td>Y         </td> <td>N     </td> <td>Y     </td> <td>Y      </td> <td>N   </td> <td>N      </td> <td>Y    </td> <td>Y         </td> <td>Y    </td> <td>Y   </td> <td>N    </td> <td>N   </td> <td>N      </td> <td>Y   </td> <td>N     </td> <td>N      </td> <td>Y       </td> <td>Y   </td> <td>N    </td> <td>N   </td> <td>N     </td> <td>N    </td> <td>N     </td> <td>N     </td> <td>N     </td> <td>N        </td> <td>N      </td> <td>N            </td> <td>3/1/2012 10:38:22 AM </td> <td>Private business parking lot                              </td> <td>N     </td> <td>N   </td> <td>Y      </td> <td>Y    </td> <td>N   </td> <td>July to November        </td> <td>Tue:8:00 am - 5:00 pm;Sat:8:00 am - 8:00 pm;</td> <td>nan        </td> <td>nan        </td> <td>nan        </td> <td>nan        </td> <td>nan        </td> <td>nan        </td>\n",
       "        </tr>\n",
       "        <tr>\n",
       "            <td>1011100</td> <td>12 South Farmers Market                         </td> <td>3000 Granny White Pike                                  </td> <td>Nashville </td> <td>Davidson            </td> <td>Tennessee           </td> <td>37204</td> <td>-86.7907</td> <td>36.1184</td> <td>http://www.12southfarmersmarket.com                  </td> <td>12_South_Farmers_Market                                     </td> <td>@12southfrmsmkt                    </td> <td>nan    </td> <td>@12southfrmsmkt                                             </td> <td>Y      </td> <td>N   </td> <td>Y         </td> <td>Y     </td> <td>N     </td> <td>Y      </td> <td>Y   </td> <td>N      </td> <td>Y    </td> <td>Y         </td> <td>Y    </td> <td>Y   </td> <td>Y    </td> <td>Y   </td> <td>N      </td> <td>N   </td> <td>N     </td> <td>Y      </td> <td>Y       </td> <td>Y   </td> <td>N    </td> <td>N   </td> <td>Y     </td> <td>N    </td> <td>Y     </td> <td>N     </td> <td>Y     </td> <td>Y        </td> <td>Y      </td> <td>N            </td> <td>5/1/2015 10:40:56 AM </td> <td>nan                                                       </td> <td>Y     </td> <td>N   </td> <td>N      </td> <td>N    </td> <td>Y   </td> <td>05/05/2015 to 10/27/2015</td> <td>Tue: 3:30 PM-6:30 PM;                       </td> <td>nan        </td> <td>nan        </td> <td>nan        </td> <td>nan        </td> <td>nan        </td> <td>nan        </td>\n",
       "        </tr>\n",
       "        <tr>\n",
       "            <td>1009845</td> <td>125th Street Fresh Connect Farmers' Market      </td> <td>163 West 125th Street and Adam Clayton Powell, Jr. Blvd.</td> <td>New York  </td> <td>New York            </td> <td>New York            </td> <td>10027</td> <td>-73.9482</td> <td>40.809 </td> <td>http://www.125thStreetFarmersMarket.com              </td> <td>https://www.facebook.com/125thStreetFarmersMarket           </td> <td>https://twitter.com/FarmMarket125th</td> <td>nan    </td> <td>Instagram--> 125thStreetFarmersMarket                       </td> <td>Y      </td> <td>N   </td> <td>Y         </td> <td>Y     </td> <td>Y     </td> <td>Y      </td> <td>Y   </td> <td>N      </td> <td>Y    </td> <td>Y         </td> <td>Y    </td> <td>Y   </td> <td>Y    </td> <td>Y   </td> <td>N      </td> <td>Y   </td> <td>N     </td> <td>Y      </td> <td>Y       </td> <td>Y   </td> <td>N    </td> <td>Y   </td> <td>Y     </td> <td>N    </td> <td>Y     </td> <td>N     </td> <td>Y     </td> <td>N        </td> <td>N      </td> <td>N            </td> <td>4/7/2014 4:32:01 PM  </td> <td>Federal/State government building grounds                 </td> <td>Y     </td> <td>Y   </td> <td>N      </td> <td>Y    </td> <td>Y   </td> <td>06/10/2014 to 11/25/2014</td> <td>Tue: 10:00 AM-7:00 PM;                      </td> <td>nan        </td> <td>nan        </td> <td>nan        </td> <td>nan        </td> <td>nan        </td> <td>nan        </td>\n",
       "        </tr>\n",
       "        <tr>\n",
       "            <td>1005586</td> <td>12th & Brandywine Urban Farm Market             </td> <td>12th & Brandywine Streets                               </td> <td>Wilmington</td> <td>New Castle          </td> <td>Delaware            </td> <td>19801</td> <td>-75.5345</td> <td>39.7421</td> <td>nan                                                  </td> <td>https://www.facebook.com/pages/12th-Brandywine-Urban-Far ...</td> <td>nan                                </td> <td>nan    </td> <td>https://www.facebook.com/delawareurbanfarmcoalition         </td> <td>N      </td> <td>N   </td> <td>N         </td> <td>N     </td> <td>N     </td> <td>N      </td> <td>N   </td> <td>N      </td> <td>Y    </td> <td>Y         </td> <td>N    </td> <td>N   </td> <td>N    </td> <td>N   </td> <td>N      </td> <td>N   </td> <td>N     </td> <td>N      </td> <td>N       </td> <td>N   </td> <td>N    </td> <td>N   </td> <td>N     </td> <td>N    </td> <td>Y     </td> <td>N     </td> <td>N     </td> <td>N        </td> <td>N      </td> <td>N            </td> <td>4/3/2014 3:43:31 PM  </td> <td>On a farm from: a barn, a greenhouse, a tent, a stand, etc</td> <td>N     </td> <td>N   </td> <td>N      </td> <td>N    </td> <td>Y   </td> <td>05/16/2014 to 10/17/2014</td> <td>Fri: 8:00 AM-11:00 AM;                      </td> <td>nan        </td> <td>nan        </td> <td>nan        </td> <td>nan        </td> <td>nan        </td> <td>nan        </td>\n",
       "        </tr>\n",
       "        <tr>\n",
       "            <td>1008071</td> <td>14&U Farmers' Market                            </td> <td>1400 U Street NW                                        </td> <td>Washington</td> <td>District of Columbia</td> <td>District of Columbia</td> <td>20009</td> <td>-77.0321</td> <td>38.917 </td> <td>nan                                                  </td> <td>https://www.facebook.com/14UFarmersMarket                   </td> <td>https://twitter.com/14UFarmersMkt  </td> <td>nan    </td> <td>nan                                                         </td> <td>Y      </td> <td>N   </td> <td>Y         </td> <td>Y     </td> <td>N     </td> <td>Y      </td> <td>Y   </td> <td>N      </td> <td>Y    </td> <td>Y         </td> <td>Y    </td> <td>Y   </td> <td>N    </td> <td>Y   </td> <td>N      </td> <td>Y   </td> <td>Y     </td> <td>Y      </td> <td>N       </td> <td>N   </td> <td>N    </td> <td>N   </td> <td>N     </td> <td>Y    </td> <td>Y     </td> <td>Y     </td> <td>Y     </td> <td>N        </td> <td>N      </td> <td>N            </td> <td>4/5/2014 1:49:04 PM  </td> <td>Other                                                     </td> <td>Y     </td> <td>Y   </td> <td>Y      </td> <td>Y    </td> <td>Y   </td> <td>05/03/2014 to 11/22/2014</td> <td>Sat: 9:00 AM-1:00 PM;                       </td> <td>nan        </td> <td>nan        </td> <td>nan        </td> <td>nan        </td> <td>nan        </td> <td>nan        </td>\n",
       "        </tr>\n",
       "    </tbody>\n",
       "</table>\n",
       "<p>... (8536 rows omitted)</p>"
      ],
      "text/plain": [
       "FMID    | MarketName                                       | street                                                   | city       | County               | State                | zip   | x        | y       | Website                                               | Facebook                                                     | Twitter                             | Youtube | OtherMedia                                                   | Organic | Tofu | Bakedgoods | Cheese | Crafts | Flowers | Eggs | Seafood | Herbs | Vegetables | Honey | Jams | Maple | Meat | Nursery | Nuts | Plants | Poultry | Prepared | Soap | Trees | Wine | Coffee | Beans | Fruits | Grains | Juices | Mushrooms | PetFood | WildHarvested | updateTime            | Location                                                   | Credit | WIC  | WICcash | SFMNP | SNAP | Season1Date              | Season1Time                                  | Season2Date | Season2Time | Season3Date | Season3Time | Season4Date | Season4Time\n",
       "1012063 |  Caledonia Farmers Market Association - Danville | nan                                                      | Danville   | Caledonia            | Vermont              | 05828 | -72.1403 | 44.411  | https://sites.google.com/site/caledoniafarmersmarket/ | https://www.facebook.com/Danville.VT.Farmers.Market/         | nan                                 | nan     | nan                                                          | Y       | N    | Y          | Y      | Y      | Y       | Y    | N       | Y     | Y          | Y     | Y    | Y     | Y    | N       | N    | Y      | Y       | Y        | Y    | Y     | N    | Y      | Y     | Y      | N      | Y      | N         | Y       | N             | 6/28/2016 12:10:09 PM | nan                                                        | Y      | Y    | N       | Y     | N    | 06/08/2016 to 10/12/2016 | Wed: 9:00 AM-1:00 PM;                        | nan         | nan         | nan         | nan         | nan         | nan\n",
       "1011871 |  Stearns Homestead Farmers' Market               | 6975 Ridge Road                                          | Parma      | Cuyahoga             | Ohio                 | 44130 | -81.7286 | 41.3751 | http://Stearnshomestead.com                           | nan                                                          | nan                                 | nan     | nan                                                          | -       | N    | Y          | N      | N      | Y       | Y    | N       | Y     | Y          | Y     | Y    | Y     | Y    | N       | N    | Y      | N       | N        | N    | N     | N    | N      | N     | Y      | N      | N      | N         | Y       | N             | 4/9/2016 8:05:17 PM   | nan                                                        | Y      | Y    | N       | Y     | Y    | 06/25/2016 to 10/01/2016 | Sat: 9:00 AM-1:00 PM;                        | nan         | nan         | nan         | nan         | nan         | nan\n",
       "1011878 | 100 Mile Market                                  | 507 Harrison St                                          | Kalamazoo  | Kalamazoo            | Michigan             | 49007 | -85.5749 | 42.296  | http://www.pfcmarkets.com                             | https://www.facebook.com/100MileMarket/?fref=ts              | nan                                 | nan     | https://www.instagram.com/100milemarket/                     | N       | N    | Y          | Y      | N      | Y       | Y    | N       | Y     | Y          | Y     | Y    | Y     | Y    | N       | N    | N      | Y       | Y        | Y    | N     | Y    | N      | N     | Y      | Y      | N      | N         | N       | N             | 4/16/2016 12:37:56 PM | nan                                                        | Y      | Y    | N       | Y     | Y    | 05/04/2016 to 10/12/2016 | Wed: 3:00 PM-7:00 PM;                        | nan         | nan         | nan         | nan         | nan         | nan\n",
       "1009364 | 106 S. Main Street Farmers Market                | 106 S. Main Street                                       | Six Mile   | nan                  | South Carolina       | 29682 | -82.8187 | 34.8042 | http://thetownofsixmile.wordpress.com/                | nan                                                          | nan                                 | nan     | nan                                                          | -       | N    | N          | N      | N      | N       | N    | N       | N     | N          | N     | N    | N     | N    | N       | N    | N      | N       | N        | N    | N     | N    | N      | N     | N      | N      | N      | N         | N       | N             | 2013                  | nan                                                        | Y      | N    | N       | N     | N    | nan                      | nan                                          | nan         | nan         | nan         | nan         | nan         | nan\n",
       "1010691 | 10th Steet Community Farmers Market              | 10th Street and Poplar                                   | Lamar      | Barton               | Missouri             | 64759 | -94.2746 | 37.4956 | nan                                                   | nan                                                          | nan                                 | nan     | http://agrimissouri.com/mo-grown/grodetail.php?type=mo-g ... | -       | N    | Y          | N      | Y      | N       | Y    | N       | Y     | Y          | Y     | Y    | N     | Y    | N       | N    | Y      | Y       | Y        | Y    | N     | N    | N      | N     | Y      | N      | N      | N         | N       | N             | 10/28/2014 9:49:46 AM | nan                                                        | Y      | N    | N       | N     | N    | 04/02/2014 to 11/30/2014 | Wed: 3:00 PM-6:00 PM;Sat: 8:00 AM-1:00 PM;   | nan         | nan         | nan         | nan         | nan         | nan\n",
       "1002454 | 112st Madison Avenue                             | 112th Madison Avenue                                     | New York   | New York             | New York             | 10029 | -73.9493 | 40.7939 | nan                                                   | nan                                                          | nan                                 | nan     | nan                                                          | -       | N    | Y          | N      | Y      | Y       | N    | N       | Y     | Y          | Y     | Y    | N     | N    | N       | Y    | N      | N       | Y        | Y    | N     | N    | N      | N     | N      | N      | N      | N         | N       | N             | 3/1/2012 10:38:22 AM  | Private business parking lot                               | N      | N    | Y       | Y     | N    | July to November         | Tue:8:00 am - 5:00 pm;Sat:8:00 am - 8:00 pm; | nan         | nan         | nan         | nan         | nan         | nan\n",
       "1011100 | 12 South Farmers Market                          | 3000 Granny White Pike                                   | Nashville  | Davidson             | Tennessee            | 37204 | -86.7907 | 36.1184 | http://www.12southfarmersmarket.com                   | 12_South_Farmers_Market                                      | @12southfrmsmkt                     | nan     | @12southfrmsmkt                                              | Y       | N    | Y          | Y      | N      | Y       | Y    | N       | Y     | Y          | Y     | Y    | Y     | Y    | N       | N    | N      | Y       | Y        | Y    | N     | N    | Y      | N     | Y      | N      | Y      | Y         | Y       | N             | 5/1/2015 10:40:56 AM  | nan                                                        | Y      | N    | N       | N     | Y    | 05/05/2015 to 10/27/2015 | Tue: 3:30 PM-6:30 PM;                        | nan         | nan         | nan         | nan         | nan         | nan\n",
       "1009845 | 125th Street Fresh Connect Farmers' Market       | 163 West 125th Street and Adam Clayton Powell, Jr. Blvd. | New York   | New York             | New York             | 10027 | -73.9482 | 40.809  | http://www.125thStreetFarmersMarket.com               | https://www.facebook.com/125thStreetFarmersMarket            | https://twitter.com/FarmMarket125th | nan     | Instagram--> 125thStreetFarmersMarket                        | Y       | N    | Y          | Y      | Y      | Y       | Y    | N       | Y     | Y          | Y     | Y    | Y     | Y    | N       | Y    | N      | Y       | Y        | Y    | N     | Y    | Y      | N     | Y      | N      | Y      | N         | N       | N             | 4/7/2014 4:32:01 PM   | Federal/State government building grounds                  | Y      | Y    | N       | Y     | Y    | 06/10/2014 to 11/25/2014 | Tue: 10:00 AM-7:00 PM;                       | nan         | nan         | nan         | nan         | nan         | nan\n",
       "1005586 | 12th & Brandywine Urban Farm Market              | 12th & Brandywine Streets                                | Wilmington | New Castle           | Delaware             | 19801 | -75.5345 | 39.7421 | nan                                                   | https://www.facebook.com/pages/12th-Brandywine-Urban-Far ... | nan                                 | nan     | https://www.facebook.com/delawareurbanfarmcoalition          | N       | N    | N          | N      | N      | N       | N    | N       | Y     | Y          | N     | N    | N     | N    | N       | N    | N      | N       | N        | N    | N     | N    | N      | N     | Y      | N      | N      | N         | N       | N             | 4/3/2014 3:43:31 PM   | On a farm from: a barn, a greenhouse, a tent, a stand, etc | N      | N    | N       | N     | Y    | 05/16/2014 to 10/17/2014 | Fri: 8:00 AM-11:00 AM;                       | nan         | nan         | nan         | nan         | nan         | nan\n",
       "1008071 | 14&U Farmers' Market                             | 1400 U Street NW                                         | Washington | District of Columbia | District of Columbia | 20009 | -77.0321 | 38.917  | nan                                                   | https://www.facebook.com/14UFarmersMarket                    | https://twitter.com/14UFarmersMkt   | nan     | nan                                                          | Y       | N    | Y          | Y      | N      | Y       | Y    | N       | Y     | Y          | Y     | Y    | N     | Y    | N       | Y    | Y      | Y       | N        | N    | N     | N    | N      | Y     | Y      | Y      | Y      | N         | N       | N             | 4/5/2014 1:49:04 PM   | Other                                                      | Y      | Y    | Y       | Y     | Y    | 05/03/2014 to 11/22/2014 | Sat: 9:00 AM-1:00 PM;                        | nan         | nan         | nan         | nan         | nan         | nan\n",
       "... (8536 rows omitted)"
      ]
     },
     "execution_count": 21,
     "metadata": {},
     "output_type": "execute_result"
    }
   ],
   "source": [
    "# Just run this cell\n",
    "\n",
    "farmers_markets = Table.read_table('farmers_markets.csv')\n",
    "farmers_markets"
   ]
  },
  {
   "cell_type": "markdown",
   "metadata": {},
   "source": [
    "Let's examine our table to see what data it contains.\n",
    "\n",
    "**Question 3.1.** Use the method `show` to display the first 5 rows of `farmers_markets`. \n",
    "\n",
    "*Note:* The terms \"method\" and \"function\" are technically not the same thing, but for the purposes of this course, we will use them interchangeably.\n",
    "\n",
    "**Hint:** `tbl.show(3)` will show the first 3 rows of `tbl`. Additionally, make sure not to call `.show()` without an argument, as this will crash your kernel!\n"
   ]
  },
  {
   "cell_type": "code",
   "execution_count": 23,
   "metadata": {
    "deletable": false
   },
   "outputs": [
    {
     "data": {
      "text/html": [
       "<table border=\"1\" class=\"dataframe\">\n",
       "    <thead>\n",
       "        <tr>\n",
       "            <th>FMID</th> <th>MarketName</th> <th>street</th> <th>city</th> <th>County</th> <th>State</th> <th>zip</th> <th>x</th> <th>y</th> <th>Website</th> <th>Facebook</th> <th>Twitter</th> <th>Youtube</th> <th>OtherMedia</th> <th>Organic</th> <th>Tofu</th> <th>Bakedgoods</th> <th>Cheese</th> <th>Crafts</th> <th>Flowers</th> <th>Eggs</th> <th>Seafood</th> <th>Herbs</th> <th>Vegetables</th> <th>Honey</th> <th>Jams</th> <th>Maple</th> <th>Meat</th> <th>Nursery</th> <th>Nuts</th> <th>Plants</th> <th>Poultry</th> <th>Prepared</th> <th>Soap</th> <th>Trees</th> <th>Wine</th> <th>Coffee</th> <th>Beans</th> <th>Fruits</th> <th>Grains</th> <th>Juices</th> <th>Mushrooms</th> <th>PetFood</th> <th>WildHarvested</th> <th>updateTime</th> <th>Location</th> <th>Credit</th> <th>WIC</th> <th>WICcash</th> <th>SFMNP</th> <th>SNAP</th> <th>Season1Date</th> <th>Season1Time</th> <th>Season2Date</th> <th>Season2Time</th> <th>Season3Date</th> <th>Season3Time</th> <th>Season4Date</th> <th>Season4Time</th>\n",
       "        </tr>\n",
       "    </thead>\n",
       "    <tbody>\n",
       "        <tr>\n",
       "            <td>1012063</td> <td> Caledonia Farmers Market Association - Danville</td> <td>nan            </td> <td>Danville </td> <td>Caledonia</td> <td>Vermont </td> <td>05828</td> <td>-72.1403</td> <td>44.411 </td> <td>https://sites.google.com/site/caledoniafarmersmarket/</td> <td>https://www.facebook.com/Danville.VT.Farmers.Market/</td> <td>nan    </td> <td>nan    </td> <td>nan                                     </td> <td>Y      </td> <td>N   </td> <td>Y         </td> <td>Y     </td> <td>Y     </td> <td>Y      </td> <td>Y   </td> <td>N      </td> <td>Y    </td> <td>Y         </td> <td>Y    </td> <td>Y   </td> <td>Y    </td> <td>Y   </td> <td>N      </td> <td>N   </td> <td>Y     </td> <td>Y      </td> <td>Y       </td> <td>Y   </td> <td>Y    </td> <td>N   </td> <td>Y     </td> <td>Y    </td> <td>Y     </td> <td>N     </td> <td>Y     </td> <td>N        </td> <td>Y      </td> <td>N            </td> <td>6/28/2016 12:10:09 PM</td> <td>nan     </td> <td>Y     </td> <td>Y   </td> <td>N      </td> <td>Y    </td> <td>N   </td> <td>06/08/2016 to 10/12/2016</td> <td>Wed: 9:00 AM-1:00 PM;</td> <td>nan        </td> <td>nan        </td> <td>nan        </td> <td>nan        </td> <td>nan        </td> <td>nan        </td>\n",
       "        </tr>\n",
       "        <tr>\n",
       "            <td>1011871</td> <td> Stearns Homestead Farmers' Market              </td> <td>6975 Ridge Road</td> <td>Parma    </td> <td>Cuyahoga </td> <td>Ohio    </td> <td>44130</td> <td>-81.7286</td> <td>41.3751</td> <td>http://Stearnshomestead.com                          </td> <td>nan                                                 </td> <td>nan    </td> <td>nan    </td> <td>nan                                     </td> <td>-      </td> <td>N   </td> <td>Y         </td> <td>N     </td> <td>N     </td> <td>Y      </td> <td>Y   </td> <td>N      </td> <td>Y    </td> <td>Y         </td> <td>Y    </td> <td>Y   </td> <td>Y    </td> <td>Y   </td> <td>N      </td> <td>N   </td> <td>Y     </td> <td>N      </td> <td>N       </td> <td>N   </td> <td>N    </td> <td>N   </td> <td>N     </td> <td>N    </td> <td>Y     </td> <td>N     </td> <td>N     </td> <td>N        </td> <td>Y      </td> <td>N            </td> <td>4/9/2016 8:05:17 PM  </td> <td>nan     </td> <td>Y     </td> <td>Y   </td> <td>N      </td> <td>Y    </td> <td>Y   </td> <td>06/25/2016 to 10/01/2016</td> <td>Sat: 9:00 AM-1:00 PM;</td> <td>nan        </td> <td>nan        </td> <td>nan        </td> <td>nan        </td> <td>nan        </td> <td>nan        </td>\n",
       "        </tr>\n",
       "        <tr>\n",
       "            <td>1011878</td> <td>100 Mile Market                                 </td> <td>507 Harrison St</td> <td>Kalamazoo</td> <td>Kalamazoo</td> <td>Michigan</td> <td>49007</td> <td>-85.5749</td> <td>42.296 </td> <td>http://www.pfcmarkets.com                            </td> <td>https://www.facebook.com/100MileMarket/?fref=ts     </td> <td>nan    </td> <td>nan    </td> <td>https://www.instagram.com/100milemarket/</td> <td>N      </td> <td>N   </td> <td>Y         </td> <td>Y     </td> <td>N     </td> <td>Y      </td> <td>Y   </td> <td>N      </td> <td>Y    </td> <td>Y         </td> <td>Y    </td> <td>Y   </td> <td>Y    </td> <td>Y   </td> <td>N      </td> <td>N   </td> <td>N     </td> <td>Y      </td> <td>Y       </td> <td>Y   </td> <td>N    </td> <td>Y   </td> <td>N     </td> <td>N    </td> <td>Y     </td> <td>Y     </td> <td>N     </td> <td>N        </td> <td>N      </td> <td>N            </td> <td>4/16/2016 12:37:56 PM</td> <td>nan     </td> <td>Y     </td> <td>Y   </td> <td>N      </td> <td>Y    </td> <td>Y   </td> <td>05/04/2016 to 10/12/2016</td> <td>Wed: 3:00 PM-7:00 PM;</td> <td>nan        </td> <td>nan        </td> <td>nan        </td> <td>nan        </td> <td>nan        </td> <td>nan        </td>\n",
       "        </tr>\n",
       "    </tbody>\n",
       "</table>\n",
       "<p>... (8543 rows omitted)</p>"
      ],
      "text/plain": [
       "<IPython.core.display.HTML object>"
      ]
     },
     "metadata": {},
     "output_type": "display_data"
    }
   ],
   "source": [
    "farmers_markets.show(3)"
   ]
  },
  {
   "cell_type": "markdown",
   "metadata": {
    "deletable": false,
    "editable": false
   },
   "source": [
    "Notice that some of the values in this table are missing, as denoted by \"nan.\" This means either that the value is not available (e.g. if we don’t know the market’s street address) or not applicable (e.g. if the market doesn’t have a street address). You'll also notice that the table has a large number of columns in it!\n",
    "\n",
    "### `num_columns`\n",
    "\n",
    "The table property `num_columns` returns the number of columns in a table. (A \"property\" is just a method that doesn't need to be called by adding parentheses.)\n",
    "\n",
    "Example call: `<tbl>.num_columns`\n",
    "\n",
    "**Question 3.2.** Use `num_columns` to find the number of columns in our farmers' markets dataset.\n",
    "\n",
    "Assign the number of columns to `num_farmers_markets_columns`.\n",
    "\n",
    "<!--\n",
    "BEGIN QUESTION\n",
    "name: q32\n",
    "-->"
   ]
  },
  {
   "cell_type": "code",
   "execution_count": 27,
   "metadata": {
    "deletable": false
   },
   "outputs": [
    {
     "name": "stdout",
     "output_type": "stream",
     "text": [
      "The table has 59 columns in it!\n"
     ]
    }
   ],
   "source": [
    "num_farmers_markets_columns = farmers_markets.num_columns\n",
    "print(\"The table has\", num_farmers_markets_columns, \"columns in it!\")"
   ]
  },
  {
   "cell_type": "code",
   "execution_count": 28,
   "metadata": {
    "deletable": false,
    "editable": false
   },
   "outputs": [
    {
     "name": "stdout",
     "output_type": "stream",
     "text": [
      "~~~~~~~~~~~~~~~~~~~~~~~~~~~~~~~~~~~~~~~~~~~~~~~~~~~~~~~~~~~~~~~~~~~~~\n",
      "Running tests\n",
      "\n",
      "---------------------------------------------------------------------\n",
      "Test summary\n",
      "    Passed: 1\n",
      "    Failed: 0\n",
      "[ooooooooook] 100.0% passed\n",
      "\n"
     ]
    }
   ],
   "source": [
    "ok.grade(\"q32\");"
   ]
  },
  {
   "cell_type": "markdown",
   "metadata": {},
   "source": [
    "### `num_rows`\n",
    "\n",
    "Similarly, the property `num_rows` tells you how many rows are in a table."
   ]
  },
  {
   "cell_type": "code",
   "execution_count": 29,
   "metadata": {
    "deletable": false
   },
   "outputs": [
    {
     "name": "stdout",
     "output_type": "stream",
     "text": [
      "The table has 8546 rows in it!\n"
     ]
    }
   ],
   "source": [
    "# Just run this cell\n",
    "\n",
    "num_farmers_markets_rows = farmers_markets.num_rows\n",
    "print(\"The table has\", num_farmers_markets_rows, \"rows in it!\")"
   ]
  },
  {
   "cell_type": "markdown",
   "metadata": {
    "deletable": false,
    "editable": false
   },
   "source": [
    "### `select`\n",
    "\n",
    "Most of the columns are about particular products -- whether the market sells tofu, pet food, etc.  If we're not interested in that information, it just makes the table difficult to read.  This comes up more than you might think, because people who collect and publish data may not know ahead of time what people will want to do with it.\n",
    "\n",
    "In such situations, we can use the table method `select` to choose only the columns that we want in a particular table. It takes any number of arguments. Each should be the name of a column in the table. It returns a new table with only those columns in it. The columns are in the order *in which they were listed as arguments*.\n",
    "\n",
    "For example, the value of `farmers_markets.select(\"MarketName\", \"State\")` is a table with only the name and the state of each farmers' market in `farmers_markets`.\n",
    "\n",
    "\n",
    "\n",
    "**Question 3.3.** Use `select` to create a table with only the name, city, state, latitude (`y`), and longitude (`x`) of each market.  Call that new table `farmers_markets_locations`.\n",
    "\n",
    "*Hint:* Make sure to be exact when using column names with `select`; double-check capitalization!\n",
    "\n",
    "<!--\n",
    "BEGIN QUESTION\n",
    "name: q33\n",
    "-->"
   ]
  },
  {
   "cell_type": "code",
   "execution_count": 37,
   "metadata": {
    "deletable": false
   },
   "outputs": [
    {
     "data": {
      "text/html": [
       "<table border=\"1\" class=\"dataframe\">\n",
       "    <thead>\n",
       "        <tr>\n",
       "            <th>MarketName</th> <th>State</th> <th>city</th> <th>x</th> <th>y</th>\n",
       "        </tr>\n",
       "    </thead>\n",
       "    <tbody>\n",
       "        <tr>\n",
       "            <td> Caledonia Farmers Market Association - Danville</td> <td>Vermont             </td> <td>Danville  </td> <td>-72.1403</td> <td>44.411 </td>\n",
       "        </tr>\n",
       "        <tr>\n",
       "            <td> Stearns Homestead Farmers' Market              </td> <td>Ohio                </td> <td>Parma     </td> <td>-81.7286</td> <td>41.3751</td>\n",
       "        </tr>\n",
       "        <tr>\n",
       "            <td>100 Mile Market                                 </td> <td>Michigan            </td> <td>Kalamazoo </td> <td>-85.5749</td> <td>42.296 </td>\n",
       "        </tr>\n",
       "        <tr>\n",
       "            <td>106 S. Main Street Farmers Market               </td> <td>South Carolina      </td> <td>Six Mile  </td> <td>-82.8187</td> <td>34.8042</td>\n",
       "        </tr>\n",
       "        <tr>\n",
       "            <td>10th Steet Community Farmers Market             </td> <td>Missouri            </td> <td>Lamar     </td> <td>-94.2746</td> <td>37.4956</td>\n",
       "        </tr>\n",
       "        <tr>\n",
       "            <td>112st Madison Avenue                            </td> <td>New York            </td> <td>New York  </td> <td>-73.9493</td> <td>40.7939</td>\n",
       "        </tr>\n",
       "        <tr>\n",
       "            <td>12 South Farmers Market                         </td> <td>Tennessee           </td> <td>Nashville </td> <td>-86.7907</td> <td>36.1184</td>\n",
       "        </tr>\n",
       "        <tr>\n",
       "            <td>125th Street Fresh Connect Farmers' Market      </td> <td>New York            </td> <td>New York  </td> <td>-73.9482</td> <td>40.809 </td>\n",
       "        </tr>\n",
       "        <tr>\n",
       "            <td>12th & Brandywine Urban Farm Market             </td> <td>Delaware            </td> <td>Wilmington</td> <td>-75.5345</td> <td>39.7421</td>\n",
       "        </tr>\n",
       "        <tr>\n",
       "            <td>14&U Farmers' Market                            </td> <td>District of Columbia</td> <td>Washington</td> <td>-77.0321</td> <td>38.917 </td>\n",
       "        </tr>\n",
       "    </tbody>\n",
       "</table>\n",
       "<p>... (8536 rows omitted)</p>"
      ],
      "text/plain": [
       "MarketName                                       | State                | city       | x        | y\n",
       " Caledonia Farmers Market Association - Danville | Vermont              | Danville   | -72.1403 | 44.411\n",
       " Stearns Homestead Farmers' Market               | Ohio                 | Parma      | -81.7286 | 41.3751\n",
       "100 Mile Market                                  | Michigan             | Kalamazoo  | -85.5749 | 42.296\n",
       "106 S. Main Street Farmers Market                | South Carolina       | Six Mile   | -82.8187 | 34.8042\n",
       "10th Steet Community Farmers Market              | Missouri             | Lamar      | -94.2746 | 37.4956\n",
       "112st Madison Avenue                             | New York             | New York   | -73.9493 | 40.7939\n",
       "12 South Farmers Market                          | Tennessee            | Nashville  | -86.7907 | 36.1184\n",
       "125th Street Fresh Connect Farmers' Market       | New York             | New York   | -73.9482 | 40.809\n",
       "12th & Brandywine Urban Farm Market              | Delaware             | Wilmington | -75.5345 | 39.7421\n",
       "14&U Farmers' Market                             | District of Columbia | Washington | -77.0321 | 38.917\n",
       "... (8536 rows omitted)"
      ]
     },
     "execution_count": 37,
     "metadata": {},
     "output_type": "execute_result"
    }
   ],
   "source": [
    "farmers_markets_locations = farmers_markets.select(\"MarketName\", \"State\",\"city\",\"x\",\"y\")\n",
    "farmers_markets_locations"
   ]
  },
  {
   "cell_type": "code",
   "execution_count": 38,
   "metadata": {
    "deletable": false,
    "editable": false
   },
   "outputs": [
    {
     "name": "stdout",
     "output_type": "stream",
     "text": [
      "~~~~~~~~~~~~~~~~~~~~~~~~~~~~~~~~~~~~~~~~~~~~~~~~~~~~~~~~~~~~~~~~~~~~~\n",
      "Running tests\n",
      "\n",
      "---------------------------------------------------------------------\n",
      "Test summary\n",
      "    Passed: 2\n",
      "    Failed: 0\n",
      "[ooooooooook] 100.0% passed\n",
      "\n"
     ]
    }
   ],
   "source": [
    "ok.grade(\"q33\");"
   ]
  },
  {
   "cell_type": "markdown",
   "metadata": {
    "deletable": false,
    "editable": false
   },
   "source": [
    "### `drop`\n",
    "\n",
    "`drop` serves the same purpose as `select`, but it takes away the columns that you provide rather than the ones that you don't provide. Like `select`, `drop` returns a new table.\n",
    "\n",
    "**Question 3.4.** Suppose you just didn't want the `FMID` or `updateTime` columns in `farmers_markets`.  Create a table that's a copy of `farmers_markets` but doesn't include those columns.  Call that table `farmers_markets_without_fmid`.\n",
    "\n",
    "<!--\n",
    "BEGIN QUESTION\n",
    "name: q34\n",
    "-->"
   ]
  },
  {
   "cell_type": "code",
   "execution_count": 41,
   "metadata": {
    "deletable": false
   },
   "outputs": [
    {
     "data": {
      "text/html": [
       "<table border=\"1\" class=\"dataframe\">\n",
       "    <thead>\n",
       "        <tr>\n",
       "            <th>MarketName</th> <th>street</th> <th>city</th> <th>County</th> <th>State</th> <th>zip</th> <th>x</th> <th>y</th> <th>Website</th> <th>Facebook</th> <th>Twitter</th> <th>Youtube</th> <th>OtherMedia</th> <th>Organic</th> <th>Tofu</th> <th>Bakedgoods</th> <th>Cheese</th> <th>Crafts</th> <th>Flowers</th> <th>Eggs</th> <th>Seafood</th> <th>Herbs</th> <th>Vegetables</th> <th>Honey</th> <th>Jams</th> <th>Maple</th> <th>Meat</th> <th>Nursery</th> <th>Nuts</th> <th>Plants</th> <th>Poultry</th> <th>Prepared</th> <th>Soap</th> <th>Trees</th> <th>Wine</th> <th>Coffee</th> <th>Beans</th> <th>Fruits</th> <th>Grains</th> <th>Juices</th> <th>Mushrooms</th> <th>PetFood</th> <th>WildHarvested</th> <th>Location</th> <th>Credit</th> <th>WIC</th> <th>WICcash</th> <th>SFMNP</th> <th>SNAP</th> <th>Season1Date</th> <th>Season1Time</th> <th>Season2Date</th> <th>Season2Time</th> <th>Season3Date</th> <th>Season3Time</th> <th>Season4Date</th> <th>Season4Time</th>\n",
       "        </tr>\n",
       "    </thead>\n",
       "    <tbody>\n",
       "        <tr>\n",
       "            <td> Caledonia Farmers Market Association - Danville</td> <td>nan                                                     </td> <td>Danville  </td> <td>Caledonia           </td> <td>Vermont             </td> <td>05828</td> <td>-72.1403</td> <td>44.411 </td> <td>https://sites.google.com/site/caledoniafarmersmarket/</td> <td>https://www.facebook.com/Danville.VT.Farmers.Market/        </td> <td>nan                                </td> <td>nan    </td> <td>nan                                                         </td> <td>Y      </td> <td>N   </td> <td>Y         </td> <td>Y     </td> <td>Y     </td> <td>Y      </td> <td>Y   </td> <td>N      </td> <td>Y    </td> <td>Y         </td> <td>Y    </td> <td>Y   </td> <td>Y    </td> <td>Y   </td> <td>N      </td> <td>N   </td> <td>Y     </td> <td>Y      </td> <td>Y       </td> <td>Y   </td> <td>Y    </td> <td>N   </td> <td>Y     </td> <td>Y    </td> <td>Y     </td> <td>N     </td> <td>Y     </td> <td>N        </td> <td>Y      </td> <td>N            </td> <td>nan                                                       </td> <td>Y     </td> <td>Y   </td> <td>N      </td> <td>Y    </td> <td>N   </td> <td>06/08/2016 to 10/12/2016</td> <td>Wed: 9:00 AM-1:00 PM;                       </td> <td>nan        </td> <td>nan        </td> <td>nan        </td> <td>nan        </td> <td>nan        </td> <td>nan        </td>\n",
       "        </tr>\n",
       "        <tr>\n",
       "            <td> Stearns Homestead Farmers' Market              </td> <td>6975 Ridge Road                                         </td> <td>Parma     </td> <td>Cuyahoga            </td> <td>Ohio                </td> <td>44130</td> <td>-81.7286</td> <td>41.3751</td> <td>http://Stearnshomestead.com                          </td> <td>nan                                                         </td> <td>nan                                </td> <td>nan    </td> <td>nan                                                         </td> <td>-      </td> <td>N   </td> <td>Y         </td> <td>N     </td> <td>N     </td> <td>Y      </td> <td>Y   </td> <td>N      </td> <td>Y    </td> <td>Y         </td> <td>Y    </td> <td>Y   </td> <td>Y    </td> <td>Y   </td> <td>N      </td> <td>N   </td> <td>Y     </td> <td>N      </td> <td>N       </td> <td>N   </td> <td>N    </td> <td>N   </td> <td>N     </td> <td>N    </td> <td>Y     </td> <td>N     </td> <td>N     </td> <td>N        </td> <td>Y      </td> <td>N            </td> <td>nan                                                       </td> <td>Y     </td> <td>Y   </td> <td>N      </td> <td>Y    </td> <td>Y   </td> <td>06/25/2016 to 10/01/2016</td> <td>Sat: 9:00 AM-1:00 PM;                       </td> <td>nan        </td> <td>nan        </td> <td>nan        </td> <td>nan        </td> <td>nan        </td> <td>nan        </td>\n",
       "        </tr>\n",
       "        <tr>\n",
       "            <td>100 Mile Market                                 </td> <td>507 Harrison St                                         </td> <td>Kalamazoo </td> <td>Kalamazoo           </td> <td>Michigan            </td> <td>49007</td> <td>-85.5749</td> <td>42.296 </td> <td>http://www.pfcmarkets.com                            </td> <td>https://www.facebook.com/100MileMarket/?fref=ts             </td> <td>nan                                </td> <td>nan    </td> <td>https://www.instagram.com/100milemarket/                    </td> <td>N      </td> <td>N   </td> <td>Y         </td> <td>Y     </td> <td>N     </td> <td>Y      </td> <td>Y   </td> <td>N      </td> <td>Y    </td> <td>Y         </td> <td>Y    </td> <td>Y   </td> <td>Y    </td> <td>Y   </td> <td>N      </td> <td>N   </td> <td>N     </td> <td>Y      </td> <td>Y       </td> <td>Y   </td> <td>N    </td> <td>Y   </td> <td>N     </td> <td>N    </td> <td>Y     </td> <td>Y     </td> <td>N     </td> <td>N        </td> <td>N      </td> <td>N            </td> <td>nan                                                       </td> <td>Y     </td> <td>Y   </td> <td>N      </td> <td>Y    </td> <td>Y   </td> <td>05/04/2016 to 10/12/2016</td> <td>Wed: 3:00 PM-7:00 PM;                       </td> <td>nan        </td> <td>nan        </td> <td>nan        </td> <td>nan        </td> <td>nan        </td> <td>nan        </td>\n",
       "        </tr>\n",
       "        <tr>\n",
       "            <td>106 S. Main Street Farmers Market               </td> <td>106 S. Main Street                                      </td> <td>Six Mile  </td> <td>nan                 </td> <td>South Carolina      </td> <td>29682</td> <td>-82.8187</td> <td>34.8042</td> <td>http://thetownofsixmile.wordpress.com/               </td> <td>nan                                                         </td> <td>nan                                </td> <td>nan    </td> <td>nan                                                         </td> <td>-      </td> <td>N   </td> <td>N         </td> <td>N     </td> <td>N     </td> <td>N      </td> <td>N   </td> <td>N      </td> <td>N    </td> <td>N         </td> <td>N    </td> <td>N   </td> <td>N    </td> <td>N   </td> <td>N      </td> <td>N   </td> <td>N     </td> <td>N      </td> <td>N       </td> <td>N   </td> <td>N    </td> <td>N   </td> <td>N     </td> <td>N    </td> <td>N     </td> <td>N     </td> <td>N     </td> <td>N        </td> <td>N      </td> <td>N            </td> <td>nan                                                       </td> <td>Y     </td> <td>N   </td> <td>N      </td> <td>N    </td> <td>N   </td> <td>nan                     </td> <td>nan                                         </td> <td>nan        </td> <td>nan        </td> <td>nan        </td> <td>nan        </td> <td>nan        </td> <td>nan        </td>\n",
       "        </tr>\n",
       "        <tr>\n",
       "            <td>10th Steet Community Farmers Market             </td> <td>10th Street and Poplar                                  </td> <td>Lamar     </td> <td>Barton              </td> <td>Missouri            </td> <td>64759</td> <td>-94.2746</td> <td>37.4956</td> <td>nan                                                  </td> <td>nan                                                         </td> <td>nan                                </td> <td>nan    </td> <td>http://agrimissouri.com/mo-grown/grodetail.php?type=mo-g ...</td> <td>-      </td> <td>N   </td> <td>Y         </td> <td>N     </td> <td>Y     </td> <td>N      </td> <td>Y   </td> <td>N      </td> <td>Y    </td> <td>Y         </td> <td>Y    </td> <td>Y   </td> <td>N    </td> <td>Y   </td> <td>N      </td> <td>N   </td> <td>Y     </td> <td>Y      </td> <td>Y       </td> <td>Y   </td> <td>N    </td> <td>N   </td> <td>N     </td> <td>N    </td> <td>Y     </td> <td>N     </td> <td>N     </td> <td>N        </td> <td>N      </td> <td>N            </td> <td>nan                                                       </td> <td>Y     </td> <td>N   </td> <td>N      </td> <td>N    </td> <td>N   </td> <td>04/02/2014 to 11/30/2014</td> <td>Wed: 3:00 PM-6:00 PM;Sat: 8:00 AM-1:00 PM;  </td> <td>nan        </td> <td>nan        </td> <td>nan        </td> <td>nan        </td> <td>nan        </td> <td>nan        </td>\n",
       "        </tr>\n",
       "        <tr>\n",
       "            <td>112st Madison Avenue                            </td> <td>112th Madison Avenue                                    </td> <td>New York  </td> <td>New York            </td> <td>New York            </td> <td>10029</td> <td>-73.9493</td> <td>40.7939</td> <td>nan                                                  </td> <td>nan                                                         </td> <td>nan                                </td> <td>nan    </td> <td>nan                                                         </td> <td>-      </td> <td>N   </td> <td>Y         </td> <td>N     </td> <td>Y     </td> <td>Y      </td> <td>N   </td> <td>N      </td> <td>Y    </td> <td>Y         </td> <td>Y    </td> <td>Y   </td> <td>N    </td> <td>N   </td> <td>N      </td> <td>Y   </td> <td>N     </td> <td>N      </td> <td>Y       </td> <td>Y   </td> <td>N    </td> <td>N   </td> <td>N     </td> <td>N    </td> <td>N     </td> <td>N     </td> <td>N     </td> <td>N        </td> <td>N      </td> <td>N            </td> <td>Private business parking lot                              </td> <td>N     </td> <td>N   </td> <td>Y      </td> <td>Y    </td> <td>N   </td> <td>July to November        </td> <td>Tue:8:00 am - 5:00 pm;Sat:8:00 am - 8:00 pm;</td> <td>nan        </td> <td>nan        </td> <td>nan        </td> <td>nan        </td> <td>nan        </td> <td>nan        </td>\n",
       "        </tr>\n",
       "        <tr>\n",
       "            <td>12 South Farmers Market                         </td> <td>3000 Granny White Pike                                  </td> <td>Nashville </td> <td>Davidson            </td> <td>Tennessee           </td> <td>37204</td> <td>-86.7907</td> <td>36.1184</td> <td>http://www.12southfarmersmarket.com                  </td> <td>12_South_Farmers_Market                                     </td> <td>@12southfrmsmkt                    </td> <td>nan    </td> <td>@12southfrmsmkt                                             </td> <td>Y      </td> <td>N   </td> <td>Y         </td> <td>Y     </td> <td>N     </td> <td>Y      </td> <td>Y   </td> <td>N      </td> <td>Y    </td> <td>Y         </td> <td>Y    </td> <td>Y   </td> <td>Y    </td> <td>Y   </td> <td>N      </td> <td>N   </td> <td>N     </td> <td>Y      </td> <td>Y       </td> <td>Y   </td> <td>N    </td> <td>N   </td> <td>Y     </td> <td>N    </td> <td>Y     </td> <td>N     </td> <td>Y     </td> <td>Y        </td> <td>Y      </td> <td>N            </td> <td>nan                                                       </td> <td>Y     </td> <td>N   </td> <td>N      </td> <td>N    </td> <td>Y   </td> <td>05/05/2015 to 10/27/2015</td> <td>Tue: 3:30 PM-6:30 PM;                       </td> <td>nan        </td> <td>nan        </td> <td>nan        </td> <td>nan        </td> <td>nan        </td> <td>nan        </td>\n",
       "        </tr>\n",
       "        <tr>\n",
       "            <td>125th Street Fresh Connect Farmers' Market      </td> <td>163 West 125th Street and Adam Clayton Powell, Jr. Blvd.</td> <td>New York  </td> <td>New York            </td> <td>New York            </td> <td>10027</td> <td>-73.9482</td> <td>40.809 </td> <td>http://www.125thStreetFarmersMarket.com              </td> <td>https://www.facebook.com/125thStreetFarmersMarket           </td> <td>https://twitter.com/FarmMarket125th</td> <td>nan    </td> <td>Instagram--> 125thStreetFarmersMarket                       </td> <td>Y      </td> <td>N   </td> <td>Y         </td> <td>Y     </td> <td>Y     </td> <td>Y      </td> <td>Y   </td> <td>N      </td> <td>Y    </td> <td>Y         </td> <td>Y    </td> <td>Y   </td> <td>Y    </td> <td>Y   </td> <td>N      </td> <td>Y   </td> <td>N     </td> <td>Y      </td> <td>Y       </td> <td>Y   </td> <td>N    </td> <td>Y   </td> <td>Y     </td> <td>N    </td> <td>Y     </td> <td>N     </td> <td>Y     </td> <td>N        </td> <td>N      </td> <td>N            </td> <td>Federal/State government building grounds                 </td> <td>Y     </td> <td>Y   </td> <td>N      </td> <td>Y    </td> <td>Y   </td> <td>06/10/2014 to 11/25/2014</td> <td>Tue: 10:00 AM-7:00 PM;                      </td> <td>nan        </td> <td>nan        </td> <td>nan        </td> <td>nan        </td> <td>nan        </td> <td>nan        </td>\n",
       "        </tr>\n",
       "        <tr>\n",
       "            <td>12th & Brandywine Urban Farm Market             </td> <td>12th & Brandywine Streets                               </td> <td>Wilmington</td> <td>New Castle          </td> <td>Delaware            </td> <td>19801</td> <td>-75.5345</td> <td>39.7421</td> <td>nan                                                  </td> <td>https://www.facebook.com/pages/12th-Brandywine-Urban-Far ...</td> <td>nan                                </td> <td>nan    </td> <td>https://www.facebook.com/delawareurbanfarmcoalition         </td> <td>N      </td> <td>N   </td> <td>N         </td> <td>N     </td> <td>N     </td> <td>N      </td> <td>N   </td> <td>N      </td> <td>Y    </td> <td>Y         </td> <td>N    </td> <td>N   </td> <td>N    </td> <td>N   </td> <td>N      </td> <td>N   </td> <td>N     </td> <td>N      </td> <td>N       </td> <td>N   </td> <td>N    </td> <td>N   </td> <td>N     </td> <td>N    </td> <td>Y     </td> <td>N     </td> <td>N     </td> <td>N        </td> <td>N      </td> <td>N            </td> <td>On a farm from: a barn, a greenhouse, a tent, a stand, etc</td> <td>N     </td> <td>N   </td> <td>N      </td> <td>N    </td> <td>Y   </td> <td>05/16/2014 to 10/17/2014</td> <td>Fri: 8:00 AM-11:00 AM;                      </td> <td>nan        </td> <td>nan        </td> <td>nan        </td> <td>nan        </td> <td>nan        </td> <td>nan        </td>\n",
       "        </tr>\n",
       "        <tr>\n",
       "            <td>14&U Farmers' Market                            </td> <td>1400 U Street NW                                        </td> <td>Washington</td> <td>District of Columbia</td> <td>District of Columbia</td> <td>20009</td> <td>-77.0321</td> <td>38.917 </td> <td>nan                                                  </td> <td>https://www.facebook.com/14UFarmersMarket                   </td> <td>https://twitter.com/14UFarmersMkt  </td> <td>nan    </td> <td>nan                                                         </td> <td>Y      </td> <td>N   </td> <td>Y         </td> <td>Y     </td> <td>N     </td> <td>Y      </td> <td>Y   </td> <td>N      </td> <td>Y    </td> <td>Y         </td> <td>Y    </td> <td>Y   </td> <td>N    </td> <td>Y   </td> <td>N      </td> <td>Y   </td> <td>Y     </td> <td>Y      </td> <td>N       </td> <td>N   </td> <td>N    </td> <td>N   </td> <td>N     </td> <td>Y    </td> <td>Y     </td> <td>Y     </td> <td>Y     </td> <td>N        </td> <td>N      </td> <td>N            </td> <td>Other                                                     </td> <td>Y     </td> <td>Y   </td> <td>Y      </td> <td>Y    </td> <td>Y   </td> <td>05/03/2014 to 11/22/2014</td> <td>Sat: 9:00 AM-1:00 PM;                       </td> <td>nan        </td> <td>nan        </td> <td>nan        </td> <td>nan        </td> <td>nan        </td> <td>nan        </td>\n",
       "        </tr>\n",
       "    </tbody>\n",
       "</table>\n",
       "<p>... (8536 rows omitted)</p>"
      ],
      "text/plain": [
       "MarketName                                       | street                                                   | city       | County               | State                | zip   | x        | y       | Website                                               | Facebook                                                     | Twitter                             | Youtube | OtherMedia                                                   | Organic | Tofu | Bakedgoods | Cheese | Crafts | Flowers | Eggs | Seafood | Herbs | Vegetables | Honey | Jams | Maple | Meat | Nursery | Nuts | Plants | Poultry | Prepared | Soap | Trees | Wine | Coffee | Beans | Fruits | Grains | Juices | Mushrooms | PetFood | WildHarvested | Location                                                   | Credit | WIC  | WICcash | SFMNP | SNAP | Season1Date              | Season1Time                                  | Season2Date | Season2Time | Season3Date | Season3Time | Season4Date | Season4Time\n",
       " Caledonia Farmers Market Association - Danville | nan                                                      | Danville   | Caledonia            | Vermont              | 05828 | -72.1403 | 44.411  | https://sites.google.com/site/caledoniafarmersmarket/ | https://www.facebook.com/Danville.VT.Farmers.Market/         | nan                                 | nan     | nan                                                          | Y       | N    | Y          | Y      | Y      | Y       | Y    | N       | Y     | Y          | Y     | Y    | Y     | Y    | N       | N    | Y      | Y       | Y        | Y    | Y     | N    | Y      | Y     | Y      | N      | Y      | N         | Y       | N             | nan                                                        | Y      | Y    | N       | Y     | N    | 06/08/2016 to 10/12/2016 | Wed: 9:00 AM-1:00 PM;                        | nan         | nan         | nan         | nan         | nan         | nan\n",
       " Stearns Homestead Farmers' Market               | 6975 Ridge Road                                          | Parma      | Cuyahoga             | Ohio                 | 44130 | -81.7286 | 41.3751 | http://Stearnshomestead.com                           | nan                                                          | nan                                 | nan     | nan                                                          | -       | N    | Y          | N      | N      | Y       | Y    | N       | Y     | Y          | Y     | Y    | Y     | Y    | N       | N    | Y      | N       | N        | N    | N     | N    | N      | N     | Y      | N      | N      | N         | Y       | N             | nan                                                        | Y      | Y    | N       | Y     | Y    | 06/25/2016 to 10/01/2016 | Sat: 9:00 AM-1:00 PM;                        | nan         | nan         | nan         | nan         | nan         | nan\n",
       "100 Mile Market                                  | 507 Harrison St                                          | Kalamazoo  | Kalamazoo            | Michigan             | 49007 | -85.5749 | 42.296  | http://www.pfcmarkets.com                             | https://www.facebook.com/100MileMarket/?fref=ts              | nan                                 | nan     | https://www.instagram.com/100milemarket/                     | N       | N    | Y          | Y      | N      | Y       | Y    | N       | Y     | Y          | Y     | Y    | Y     | Y    | N       | N    | N      | Y       | Y        | Y    | N     | Y    | N      | N     | Y      | Y      | N      | N         | N       | N             | nan                                                        | Y      | Y    | N       | Y     | Y    | 05/04/2016 to 10/12/2016 | Wed: 3:00 PM-7:00 PM;                        | nan         | nan         | nan         | nan         | nan         | nan\n",
       "106 S. Main Street Farmers Market                | 106 S. Main Street                                       | Six Mile   | nan                  | South Carolina       | 29682 | -82.8187 | 34.8042 | http://thetownofsixmile.wordpress.com/                | nan                                                          | nan                                 | nan     | nan                                                          | -       | N    | N          | N      | N      | N       | N    | N       | N     | N          | N     | N    | N     | N    | N       | N    | N      | N       | N        | N    | N     | N    | N      | N     | N      | N      | N      | N         | N       | N             | nan                                                        | Y      | N    | N       | N     | N    | nan                      | nan                                          | nan         | nan         | nan         | nan         | nan         | nan\n",
       "10th Steet Community Farmers Market              | 10th Street and Poplar                                   | Lamar      | Barton               | Missouri             | 64759 | -94.2746 | 37.4956 | nan                                                   | nan                                                          | nan                                 | nan     | http://agrimissouri.com/mo-grown/grodetail.php?type=mo-g ... | -       | N    | Y          | N      | Y      | N       | Y    | N       | Y     | Y          | Y     | Y    | N     | Y    | N       | N    | Y      | Y       | Y        | Y    | N     | N    | N      | N     | Y      | N      | N      | N         | N       | N             | nan                                                        | Y      | N    | N       | N     | N    | 04/02/2014 to 11/30/2014 | Wed: 3:00 PM-6:00 PM;Sat: 8:00 AM-1:00 PM;   | nan         | nan         | nan         | nan         | nan         | nan\n",
       "112st Madison Avenue                             | 112th Madison Avenue                                     | New York   | New York             | New York             | 10029 | -73.9493 | 40.7939 | nan                                                   | nan                                                          | nan                                 | nan     | nan                                                          | -       | N    | Y          | N      | Y      | Y       | N    | N       | Y     | Y          | Y     | Y    | N     | N    | N       | Y    | N      | N       | Y        | Y    | N     | N    | N      | N     | N      | N      | N      | N         | N       | N             | Private business parking lot                               | N      | N    | Y       | Y     | N    | July to November         | Tue:8:00 am - 5:00 pm;Sat:8:00 am - 8:00 pm; | nan         | nan         | nan         | nan         | nan         | nan\n",
       "12 South Farmers Market                          | 3000 Granny White Pike                                   | Nashville  | Davidson             | Tennessee            | 37204 | -86.7907 | 36.1184 | http://www.12southfarmersmarket.com                   | 12_South_Farmers_Market                                      | @12southfrmsmkt                     | nan     | @12southfrmsmkt                                              | Y       | N    | Y          | Y      | N      | Y       | Y    | N       | Y     | Y          | Y     | Y    | Y     | Y    | N       | N    | N      | Y       | Y        | Y    | N     | N    | Y      | N     | Y      | N      | Y      | Y         | Y       | N             | nan                                                        | Y      | N    | N       | N     | Y    | 05/05/2015 to 10/27/2015 | Tue: 3:30 PM-6:30 PM;                        | nan         | nan         | nan         | nan         | nan         | nan\n",
       "125th Street Fresh Connect Farmers' Market       | 163 West 125th Street and Adam Clayton Powell, Jr. Blvd. | New York   | New York             | New York             | 10027 | -73.9482 | 40.809  | http://www.125thStreetFarmersMarket.com               | https://www.facebook.com/125thStreetFarmersMarket            | https://twitter.com/FarmMarket125th | nan     | Instagram--> 125thStreetFarmersMarket                        | Y       | N    | Y          | Y      | Y      | Y       | Y    | N       | Y     | Y          | Y     | Y    | Y     | Y    | N       | Y    | N      | Y       | Y        | Y    | N     | Y    | Y      | N     | Y      | N      | Y      | N         | N       | N             | Federal/State government building grounds                  | Y      | Y    | N       | Y     | Y    | 06/10/2014 to 11/25/2014 | Tue: 10:00 AM-7:00 PM;                       | nan         | nan         | nan         | nan         | nan         | nan\n",
       "12th & Brandywine Urban Farm Market              | 12th & Brandywine Streets                                | Wilmington | New Castle           | Delaware             | 19801 | -75.5345 | 39.7421 | nan                                                   | https://www.facebook.com/pages/12th-Brandywine-Urban-Far ... | nan                                 | nan     | https://www.facebook.com/delawareurbanfarmcoalition          | N       | N    | N          | N      | N      | N       | N    | N       | Y     | Y          | N     | N    | N     | N    | N       | N    | N      | N       | N        | N    | N     | N    | N      | N     | Y      | N      | N      | N         | N       | N             | On a farm from: a barn, a greenhouse, a tent, a stand, etc | N      | N    | N       | N     | Y    | 05/16/2014 to 10/17/2014 | Fri: 8:00 AM-11:00 AM;                       | nan         | nan         | nan         | nan         | nan         | nan\n",
       "14&U Farmers' Market                             | 1400 U Street NW                                         | Washington | District of Columbia | District of Columbia | 20009 | -77.0321 | 38.917  | nan                                                   | https://www.facebook.com/14UFarmersMarket                    | https://twitter.com/14UFarmersMkt   | nan     | nan                                                          | Y       | N    | Y          | Y      | N      | Y       | Y    | N       | Y     | Y          | Y     | Y    | N     | Y    | N       | Y    | Y      | Y       | N        | N    | N     | N    | N      | Y     | Y      | Y      | Y      | N         | N       | N             | Other                                                      | Y      | Y    | Y       | Y     | Y    | 05/03/2014 to 11/22/2014 | Sat: 9:00 AM-1:00 PM;                        | nan         | nan         | nan         | nan         | nan         | nan\n",
       "... (8536 rows omitted)"
      ]
     },
     "execution_count": 41,
     "metadata": {},
     "output_type": "execute_result"
    }
   ],
   "source": [
    "farmers_markets_without_fmid = farmers_markets.drop(\"FMID\",\"updateTime\")\n",
    "farmers_markets_without_fmid"
   ]
  },
  {
   "cell_type": "code",
   "execution_count": 42,
   "metadata": {
    "deletable": false,
    "editable": false
   },
   "outputs": [
    {
     "name": "stdout",
     "output_type": "stream",
     "text": [
      "~~~~~~~~~~~~~~~~~~~~~~~~~~~~~~~~~~~~~~~~~~~~~~~~~~~~~~~~~~~~~~~~~~~~~\n",
      "Running tests\n",
      "\n",
      "---------------------------------------------------------------------\n",
      "Test summary\n",
      "    Passed: 2\n",
      "    Failed: 0\n",
      "[ooooooooook] 100.0% passed\n",
      "\n"
     ]
    }
   ],
   "source": [
    "ok.grade(\"q34\");"
   ]
  },
  {
   "cell_type": "markdown",
   "metadata": {},
   "source": [
    "Now, suppose we want to answer some questions about farmers' markets in the US. For example, which market(s) have the largest longitude (given by the `x` column)? \n",
    "\n",
    "To answer this, we'll sort `farmers_markets_locations` by longitude."
   ]
  },
  {
   "cell_type": "code",
   "execution_count": 43,
   "metadata": {},
   "outputs": [
    {
     "data": {
      "text/html": [
       "<table border=\"1\" class=\"dataframe\">\n",
       "    <thead>\n",
       "        <tr>\n",
       "            <th>MarketName</th> <th>State</th> <th>city</th> <th>x</th> <th>y</th>\n",
       "        </tr>\n",
       "    </thead>\n",
       "    <tbody>\n",
       "        <tr>\n",
       "            <td>Trapper Creek Farmers Market                  </td> <td>Alaska</td> <td>Trapper Creek</td> <td>-166.54 </td> <td>53.8748</td>\n",
       "        </tr>\n",
       "        <tr>\n",
       "            <td>Kekaha Neighborhood Center (Sunshine Markets) </td> <td>Hawaii</td> <td>Kekaha       </td> <td>-159.718</td> <td>21.9704</td>\n",
       "        </tr>\n",
       "        <tr>\n",
       "            <td>Hanapepe Park (Sunshine Markets)              </td> <td>Hawaii</td> <td>Hanapepe     </td> <td>-159.588</td> <td>21.9101</td>\n",
       "        </tr>\n",
       "        <tr>\n",
       "            <td>Kalaheo Neighborhood Center (Sunshine Markets)</td> <td>Hawaii</td> <td>Kalaheo      </td> <td>-159.527</td> <td>21.9251</td>\n",
       "        </tr>\n",
       "        <tr>\n",
       "            <td>Hawaiian Farmers of Hanalei                   </td> <td>Hawaii</td> <td>Hanalei      </td> <td>-159.514</td> <td>22.2033</td>\n",
       "        </tr>\n",
       "        <tr>\n",
       "            <td>Hanalei Saturday Farmers Market               </td> <td>Hawaii</td> <td>Hanalei      </td> <td>-159.492</td> <td>22.2042</td>\n",
       "        </tr>\n",
       "        <tr>\n",
       "            <td>Kauai Culinary Market                         </td> <td>Hawaii</td> <td>Koloa        </td> <td>-159.469</td> <td>21.9067</td>\n",
       "        </tr>\n",
       "        <tr>\n",
       "            <td>Koloa Ball Park (Knudsen) (Sunshine Markets)  </td> <td>Hawaii</td> <td>Koloa        </td> <td>-159.465</td> <td>21.9081</td>\n",
       "        </tr>\n",
       "        <tr>\n",
       "            <td>West Kauai Agricultural Association           </td> <td>Hawaii</td> <td>Poipu        </td> <td>-159.435</td> <td>21.8815</td>\n",
       "        </tr>\n",
       "        <tr>\n",
       "            <td>Kilauea Neighborhood Center (Sunshine Markets)</td> <td>Hawaii</td> <td>Kilauea      </td> <td>-159.406</td> <td>22.2112</td>\n",
       "        </tr>\n",
       "    </tbody>\n",
       "</table>\n",
       "<p>... (8536 rows omitted)</p>"
      ],
      "text/plain": [
       "MarketName                                     | State  | city          | x        | y\n",
       "Trapper Creek Farmers Market                   | Alaska | Trapper Creek | -166.54  | 53.8748\n",
       "Kekaha Neighborhood Center (Sunshine Markets)  | Hawaii | Kekaha        | -159.718 | 21.9704\n",
       "Hanapepe Park (Sunshine Markets)               | Hawaii | Hanapepe      | -159.588 | 21.9101\n",
       "Kalaheo Neighborhood Center (Sunshine Markets) | Hawaii | Kalaheo       | -159.527 | 21.9251\n",
       "Hawaiian Farmers of Hanalei                    | Hawaii | Hanalei       | -159.514 | 22.2033\n",
       "Hanalei Saturday Farmers Market                | Hawaii | Hanalei       | -159.492 | 22.2042\n",
       "Kauai Culinary Market                          | Hawaii | Koloa         | -159.469 | 21.9067\n",
       "Koloa Ball Park (Knudsen) (Sunshine Markets)   | Hawaii | Koloa         | -159.465 | 21.9081\n",
       "West Kauai Agricultural Association            | Hawaii | Poipu         | -159.435 | 21.8815\n",
       "Kilauea Neighborhood Center (Sunshine Markets) | Hawaii | Kilauea       | -159.406 | 22.2112\n",
       "... (8536 rows omitted)"
      ]
     },
     "execution_count": 43,
     "metadata": {},
     "output_type": "execute_result"
    }
   ],
   "source": [
    "farmers_markets_locations.sort('x')"
   ]
  },
  {
   "cell_type": "markdown",
   "metadata": {},
   "source": [
    "Oops, that didn't answer our question because we sorted from smallest to largest longitude. To look at the largest longitudes, we'll have to sort in reverse order."
   ]
  },
  {
   "cell_type": "code",
   "execution_count": 44,
   "metadata": {},
   "outputs": [
    {
     "data": {
      "text/html": [
       "<table border=\"1\" class=\"dataframe\">\n",
       "    <thead>\n",
       "        <tr>\n",
       "            <th>MarketName</th> <th>State</th> <th>city</th> <th>x</th> <th>y</th>\n",
       "        </tr>\n",
       "    </thead>\n",
       "    <tbody>\n",
       "        <tr>\n",
       "            <td>Christian \"Shan\" Hendricks Vegetable Market</td> <td>Virgin Islands</td> <td>Saint Croix       </td> <td>-64.7043</td> <td>17.7449</td>\n",
       "        </tr>\n",
       "        <tr>\n",
       "            <td>La Reine Farmers Market                    </td> <td>Virgin Islands</td> <td>Saint Croix       </td> <td>-64.7789</td> <td>17.7322</td>\n",
       "        </tr>\n",
       "        <tr>\n",
       "            <td>Anne Heyliger Vegetable Market             </td> <td>Virgin Islands</td> <td>Saint Croix       </td> <td>-64.8799</td> <td>17.7099</td>\n",
       "        </tr>\n",
       "        <tr>\n",
       "            <td>Rothschild Francis Vegetable Market        </td> <td>Virgin Islands</td> <td>St. Thomas        </td> <td>-64.9326</td> <td>18.3428</td>\n",
       "        </tr>\n",
       "        <tr>\n",
       "            <td>Feria Agrícola de Luquillo                 </td> <td>Puerto Rico   </td> <td>Luquillo          </td> <td>-65.7207</td> <td>18.3782</td>\n",
       "        </tr>\n",
       "        <tr>\n",
       "            <td>El Mercado Familiar                        </td> <td>Puerto Rico   </td> <td>San Lorenzo       </td> <td>-65.9674</td> <td>18.1871</td>\n",
       "        </tr>\n",
       "        <tr>\n",
       "            <td>El Mercado Familiar                        </td> <td>Puerto Rico   </td> <td>Gurabo            </td> <td>-65.9786</td> <td>18.2526</td>\n",
       "        </tr>\n",
       "        <tr>\n",
       "            <td>El Mercado Familiar                        </td> <td>Puerto Rico   </td> <td>Patillas          </td> <td>-66.0135</td> <td>18.0069</td>\n",
       "        </tr>\n",
       "        <tr>\n",
       "            <td>El Mercado Familiar                        </td> <td>Puerto Rico   </td> <td>Caguas zona urbana</td> <td>-66.039 </td> <td>18.2324</td>\n",
       "        </tr>\n",
       "        <tr>\n",
       "            <td>El Maercado Familiar                       </td> <td>Puerto Rico   </td> <td>Arroyo zona urbana</td> <td>-66.0617</td> <td>17.9686</td>\n",
       "        </tr>\n",
       "    </tbody>\n",
       "</table>\n",
       "<p>... (8536 rows omitted)</p>"
      ],
      "text/plain": [
       "MarketName                                  | State          | city               | x        | y\n",
       "Christian \"Shan\" Hendricks Vegetable Market | Virgin Islands | Saint Croix        | -64.7043 | 17.7449\n",
       "La Reine Farmers Market                     | Virgin Islands | Saint Croix        | -64.7789 | 17.7322\n",
       "Anne Heyliger Vegetable Market              | Virgin Islands | Saint Croix        | -64.8799 | 17.7099\n",
       "Rothschild Francis Vegetable Market         | Virgin Islands | St. Thomas         | -64.9326 | 18.3428\n",
       "Feria Agrícola de Luquillo                  | Puerto Rico    | Luquillo           | -65.7207 | 18.3782\n",
       "El Mercado Familiar                         | Puerto Rico    | San Lorenzo        | -65.9674 | 18.1871\n",
       "El Mercado Familiar                         | Puerto Rico    | Gurabo             | -65.9786 | 18.2526\n",
       "El Mercado Familiar                         | Puerto Rico    | Patillas           | -66.0135 | 18.0069\n",
       "El Mercado Familiar                         | Puerto Rico    | Caguas zona urbana | -66.039  | 18.2324\n",
       "El Maercado Familiar                        | Puerto Rico    | Arroyo zona urbana | -66.0617 | 17.9686\n",
       "... (8536 rows omitted)"
      ]
     },
     "execution_count": 44,
     "metadata": {},
     "output_type": "execute_result"
    }
   ],
   "source": [
    "farmers_markets_locations.sort('x', descending=True)"
   ]
  },
  {
   "cell_type": "markdown",
   "metadata": {
    "deletable": false,
    "editable": false
   },
   "source": [
    "(The `descending=True` bit is called an *optional argument*. It has a default value of `False`, so when you explicitly tell the function `descending=True`, then the function will sort in descending order.)\n",
    "\n",
    "### `sort`\n",
    "\n",
    "Some details about sort:\n",
    "\n",
    "1. The first argument to `sort` is the name of a column to sort by.\n",
    "2. If the column has text in it, `sort` will sort alphabetically; if the column has numbers, it will sort numerically.\n",
    "3. The value of `farmers_markets_locations.sort(\"x\")` is a *copy* of `farmers_markets_locations`; the `farmers_markets_locations` table doesn't get modified. For example, if we called `farmers_markets_locations.sort(\"x\")`, then running `farmers_markets_locations` by itself would still return the unsorted table.\n",
    "4. Rows always stick together when a table is sorted.  It wouldn't make sense to sort just one column and leave the other columns alone.  For example, in this case, if we sorted just the `x` column, the farmers' markets would all end up with the wrong longitudes.\n",
    "\n",
    "**Question 3.5.** Create a version of `farmers_markets_locations` that's sorted by **latitude (`y`)**, with the largest latitudes first.  Call it `farmers_markets_locations_by_latitude`.\n",
    "\n",
    "<!--\n",
    "BEGIN QUESTION\n",
    "name: q35\n",
    "-->"
   ]
  },
  {
   "cell_type": "code",
   "execution_count": 49,
   "metadata": {
    "deletable": false,
    "scrolled": true
   },
   "outputs": [
    {
     "data": {
      "text/html": [
       "<table border=\"1\" class=\"dataframe\">\n",
       "    <thead>\n",
       "        <tr>\n",
       "            <th>FMID</th> <th>MarketName</th> <th>street</th> <th>city</th> <th>County</th> <th>State</th> <th>zip</th> <th>x</th> <th>y</th> <th>Website</th> <th>Facebook</th> <th>Twitter</th> <th>Youtube</th> <th>OtherMedia</th> <th>Organic</th> <th>Tofu</th> <th>Bakedgoods</th> <th>Cheese</th> <th>Crafts</th> <th>Flowers</th> <th>Eggs</th> <th>Seafood</th> <th>Herbs</th> <th>Vegetables</th> <th>Honey</th> <th>Jams</th> <th>Maple</th> <th>Meat</th> <th>Nursery</th> <th>Nuts</th> <th>Plants</th> <th>Poultry</th> <th>Prepared</th> <th>Soap</th> <th>Trees</th> <th>Wine</th> <th>Coffee</th> <th>Beans</th> <th>Fruits</th> <th>Grains</th> <th>Juices</th> <th>Mushrooms</th> <th>PetFood</th> <th>WildHarvested</th> <th>updateTime</th> <th>Location</th> <th>Credit</th> <th>WIC</th> <th>WICcash</th> <th>SFMNP</th> <th>SNAP</th> <th>Season1Date</th> <th>Season1Time</th> <th>Season2Date</th> <th>Season2Time</th> <th>Season3Date</th> <th>Season3Time</th> <th>Season4Date</th> <th>Season4Time</th>\n",
       "        </tr>\n",
       "    </thead>\n",
       "    <tbody>\n",
       "        <tr>\n",
       "            <td>1004890</td> <td>Tanana Valley Farmers Market  </td> <td>2600 College Road                                       </td> <td>Fairbanks     </td> <td>Fairbanks North Star</td> <td>Alaska</td> <td>99709</td> <td>-147.781</td> <td>64.8628</td> <td>http://www.tvfmarket.com                              </td> <td>https://www.facebook.com/pages/Tanana-Valley-Farmers-Mar ...</td> <td>nan                              </td> <td>nan    </td> <td>nan       </td> <td>Y      </td> <td>N   </td> <td>Y         </td> <td>N     </td> <td>Y     </td> <td>Y      </td> <td>Y   </td> <td>N      </td> <td>Y    </td> <td>Y         </td> <td>Y    </td> <td>Y   </td> <td>N    </td> <td>N   </td> <td>N      </td> <td>N   </td> <td>Y     </td> <td>N      </td> <td>Y       </td> <td>Y   </td> <td>Y    </td> <td>N   </td> <td>Y     </td> <td>N    </td> <td>N     </td> <td>N     </td> <td>N     </td> <td>Y        </td> <td>N      </td> <td>Y            </td> <td>4/22/2014 12:35:28 PM</td> <td>Other                            </td> <td>Y     </td> <td>Y   </td> <td>N      </td> <td>Y    </td> <td>Y   </td> <td>05/10/2014 to 09/21/2014</td> <td>Wed: 11:00 AM-4:00 PM;Sat: 9:00 AM-4:00 PM;Sun: 11:00 AM ...</td> <td>nan        </td> <td>nan        </td> <td>nan        </td> <td>nan        </td> <td>nan        </td> <td>nan        </td>\n",
       "        </tr>\n",
       "        <tr>\n",
       "            <td>1000189</td> <td>Ester Community Market        </td> <td>Ester Community Park, Old Nenana Highway                </td> <td>Ester         </td> <td>Fairbanks North Star</td> <td>Alaska</td> <td>99725</td> <td>-148.01 </td> <td>64.8459</td> <td>http://www.esteralaska.com                            </td> <td>nan                                                         </td> <td>nan                              </td> <td>nan    </td> <td>nan       </td> <td>Y      </td> <td>N   </td> <td>N         </td> <td>N     </td> <td>N     </td> <td>N      </td> <td>N   </td> <td>N      </td> <td>N    </td> <td>Y         </td> <td>N    </td> <td>N   </td> <td>N    </td> <td>N   </td> <td>N      </td> <td>N   </td> <td>N     </td> <td>N      </td> <td>N       </td> <td>N   </td> <td>N    </td> <td>N   </td> <td>N     </td> <td>N    </td> <td>N     </td> <td>N     </td> <td>N     </td> <td>N        </td> <td>N      </td> <td>N            </td> <td>2/19/2012 5:16:04 PM </td> <td>Local government building grounds</td> <td>N     </td> <td>Y   </td> <td>N      </td> <td>N    </td> <td>N   </td> <td>nan                     </td> <td>nan                                                         </td> <td>nan        </td> <td>nan        </td> <td>nan        </td> <td>nan        </td> <td>nan        </td> <td>nan        </td>\n",
       "        </tr>\n",
       "        <tr>\n",
       "            <td>1000199</td> <td>Fairbanks Downtown Market     </td> <td>1st Avenue                                              </td> <td>Fairbanks     </td> <td>Fairbanks North Star</td> <td>Alaska</td> <td>99701</td> <td>-147.72 </td> <td>64.8444</td> <td>http://www.downtownfairbanks.com                      </td> <td>https://www.facebook.com/downtownfairbanks                  </td> <td>https://twitter.com/DTFairbanksAK</td> <td>nan    </td> <td>nan       </td> <td>Y      </td> <td>N   </td> <td>Y         </td> <td>N     </td> <td>N     </td> <td>Y      </td> <td>Y   </td> <td>N      </td> <td>Y    </td> <td>Y         </td> <td>Y    </td> <td>Y   </td> <td>N    </td> <td>N   </td> <td>N      </td> <td>Y   </td> <td>Y     </td> <td>N      </td> <td>Y       </td> <td>Y   </td> <td>N    </td> <td>N   </td> <td>N     </td> <td>N    </td> <td>N     </td> <td>N     </td> <td>N     </td> <td>N        </td> <td>N      </td> <td>N            </td> <td>4/22/2014 1:07:46 PM </td> <td>Local government building grounds</td> <td>Y     </td> <td>Y   </td> <td>N      </td> <td>N    </td> <td>Y   </td> <td>06/02/2014 to 09/08/2014</td> <td>Mon: 4:00 PM-8:00 PM;                                       </td> <td>nan        </td> <td>nan        </td> <td>nan        </td> <td>nan        </td> <td>nan        </td> <td>nan        </td>\n",
       "        </tr>\n",
       "        <tr>\n",
       "            <td>1006131</td> <td>Nenana Open Air Market        </td> <td>Corner of Parks Highway & Main Street                   </td> <td>Nenana        </td> <td>nan                 </td> <td>Alaska</td> <td>99704</td> <td>-149.096</td> <td>64.5566</td> <td>nan                                                   </td> <td>nan                                                         </td> <td>nan                              </td> <td>nan    </td> <td>nan       </td> <td>-      </td> <td>N   </td> <td>N         </td> <td>N     </td> <td>N     </td> <td>N      </td> <td>N   </td> <td>N      </td> <td>N    </td> <td>N         </td> <td>N    </td> <td>N   </td> <td>N    </td> <td>N   </td> <td>N      </td> <td>N   </td> <td>N     </td> <td>N      </td> <td>N       </td> <td>N   </td> <td>N    </td> <td>N   </td> <td>N     </td> <td>N    </td> <td>N     </td> <td>N     </td> <td>N     </td> <td>N        </td> <td>N      </td> <td>N            </td> <td>2009                 </td> <td>nan                              </td> <td>N     </td> <td>N   </td> <td>N      </td> <td>N    </td> <td>N   </td> <td>nan                     </td> <td>nan                                                         </td> <td>nan        </td> <td>nan        </td> <td>nan        </td> <td>nan        </td> <td>nan        </td> <td>nan        </td>\n",
       "        </tr>\n",
       "        <tr>\n",
       "            <td>1005848</td> <td>Highway's End Farmers' Market </td> <td>Corner of Alaska Highway and Richardson Highway         </td> <td>Delta Junction</td> <td>Fairbanks North Star</td> <td>Alaska</td> <td>99737</td> <td>-145.733</td> <td>64.0385</td> <td>http://www.alaska-highway.org/farmersmarket/index.html</td> <td>https://www.facebook.com/pages/Delta-Highways-End-Farmer ...</td> <td>nan                              </td> <td>nan    </td> <td>nan       </td> <td>-      </td> <td>N   </td> <td>Y         </td> <td>N     </td> <td>Y     </td> <td>N      </td> <td>Y   </td> <td>N      </td> <td>Y    </td> <td>Y         </td> <td>Y    </td> <td>Y   </td> <td>N    </td> <td>N   </td> <td>N      </td> <td>N   </td> <td>Y     </td> <td>N      </td> <td>Y       </td> <td>Y   </td> <td>N    </td> <td>N   </td> <td>Y     </td> <td>N    </td> <td>Y     </td> <td>N     </td> <td>N     </td> <td>N        </td> <td>N      </td> <td>N            </td> <td>5/7/2015 11:05:57 AM </td> <td>nan                              </td> <td>Y     </td> <td>Y   </td> <td>N      </td> <td>Y    </td> <td>N   </td> <td>05/23/2015 to 09/12/2015</td> <td>Wed: 10:00 AM-5:00 PM;Sat: 10:00 AM-5:00 PM;                </td> <td>nan        </td> <td>nan        </td> <td>nan        </td> <td>nan        </td> <td>nan        </td> <td>nan        </td>\n",
       "        </tr>\n",
       "        <tr>\n",
       "            <td>1010822</td> <td>MountainTraders               </td> <td>13440 E Main Street                                     </td> <td>Talkeetna     </td> <td>Matanuska-Susitna   </td> <td>Alaska</td> <td>99676</td> <td>-150.118</td> <td>62.3231</td> <td>http://www.mountaintradersmarket.com                  </td> <td>www.facebook.com/AKmountaintraders                          </td> <td>nan                              </td> <td>nan    </td> <td>nan       </td> <td>-      </td> <td>N   </td> <td>Y         </td> <td>N     </td> <td>Y     </td> <td>Y      </td> <td>N   </td> <td>N      </td> <td>Y    </td> <td>Y         </td> <td>Y    </td> <td>Y   </td> <td>N    </td> <td>N   </td> <td>N      </td> <td>N   </td> <td>N     </td> <td>N      </td> <td>N       </td> <td>Y   </td> <td>N    </td> <td>N   </td> <td>Y     </td> <td>N    </td> <td>N     </td> <td>N     </td> <td>N     </td> <td>N        </td> <td>N      </td> <td>Y            </td> <td>2/13/2015 1:50:50 PM </td> <td>nan                              </td> <td>Y     </td> <td>N   </td> <td>N      </td> <td>N    </td> <td>N   </td> <td>05/15/2015 to 09/15/2015</td> <td>nan                                                         </td> <td>nan        </td> <td>nan        </td> <td>nan        </td> <td>nan        </td> <td>nan        </td> <td>nan        </td>\n",
       "        </tr>\n",
       "        <tr>\n",
       "            <td>1009661</td> <td>Talkeetna Farmers Market      </td> <td>13440 E Main Street                                     </td> <td>Talkeetna     </td> <td>Matanuska-Susitna   </td> <td>Alaska</td> <td>99676</td> <td>-150.118</td> <td>62.3228</td> <td>nan                                                   </td> <td>nan                                                         </td> <td>nan                              </td> <td>nan    </td> <td>nan       </td> <td>-      </td> <td>N   </td> <td>N         </td> <td>N     </td> <td>N     </td> <td>N      </td> <td>N   </td> <td>N      </td> <td>N    </td> <td>N         </td> <td>N    </td> <td>N   </td> <td>N    </td> <td>N   </td> <td>N      </td> <td>N   </td> <td>N     </td> <td>N      </td> <td>N       </td> <td>N   </td> <td>N    </td> <td>N   </td> <td>N     </td> <td>N    </td> <td>N     </td> <td>N     </td> <td>N     </td> <td>N        </td> <td>N      </td> <td>N            </td> <td>3/19/2014 1:24:11 AM </td> <td>Other                            </td> <td>Y     </td> <td>N   </td> <td>N      </td> <td>N    </td> <td>N   </td> <td>05/15/2014 to 09/15/2014</td> <td>nan                                                         </td> <td>nan        </td> <td>nan        </td> <td>nan        </td> <td>nan        </td> <td>nan        </td> <td>nan        </td>\n",
       "        </tr>\n",
       "        <tr>\n",
       "            <td>1001904</td> <td>Denali Farmers Market         </td> <td>Intersection of the Parks Highway and Susitna River Road</td> <td>Anchorage     </td> <td>nan                 </td> <td>Alaska</td> <td>nan  </td> <td>-150.234</td> <td>62.3163</td> <td>nan                                                   </td> <td>nan                                                         </td> <td>nan                              </td> <td>nan    </td> <td>nan       </td> <td>-      </td> <td>N   </td> <td>N         </td> <td>N     </td> <td>N     </td> <td>N      </td> <td>N   </td> <td>N      </td> <td>N    </td> <td>N         </td> <td>N    </td> <td>N   </td> <td>N    </td> <td>N   </td> <td>N      </td> <td>N   </td> <td>N     </td> <td>N      </td> <td>N       </td> <td>N   </td> <td>N    </td> <td>N   </td> <td>N     </td> <td>N    </td> <td>N     </td> <td>N     </td> <td>N     </td> <td>N        </td> <td>N      </td> <td>N            </td> <td>2009                 </td> <td>nan                              </td> <td>N     </td> <td>N   </td> <td>N      </td> <td>N    </td> <td>N   </td> <td>nan                     </td> <td>nan                                                         </td> <td>nan        </td> <td>nan        </td> <td>nan        </td> <td>nan        </td> <td>nan        </td> <td>nan        </td>\n",
       "        </tr>\n",
       "        <tr>\n",
       "            <td>1006528</td> <td>Kenny Lake Harvest II         </td> <td>Corner of Glenn and Richardson Highways                 </td> <td>Valdez        </td> <td>nan                 </td> <td>Alaska</td> <td>99686</td> <td>-145.476</td> <td>62.1079</td> <td>nan                                                   </td> <td>nan                                                         </td> <td>nan                              </td> <td>nan    </td> <td>nan       </td> <td>-      </td> <td>N   </td> <td>N         </td> <td>N     </td> <td>N     </td> <td>N      </td> <td>N   </td> <td>N      </td> <td>N    </td> <td>N         </td> <td>N    </td> <td>N   </td> <td>N    </td> <td>N   </td> <td>N      </td> <td>N   </td> <td>N     </td> <td>N      </td> <td>N       </td> <td>N   </td> <td>N    </td> <td>N   </td> <td>N     </td> <td>N    </td> <td>N     </td> <td>N     </td> <td>N     </td> <td>N        </td> <td>N      </td> <td>N            </td> <td>2009                 </td> <td>nan                              </td> <td>N     </td> <td>N   </td> <td>N      </td> <td>N    </td> <td>N   </td> <td>nan                     </td> <td>nan                                                         </td> <td>nan        </td> <td>nan        </td> <td>nan        </td> <td>nan        </td> <td>nan        </td> <td>nan        </td>\n",
       "        </tr>\n",
       "        <tr>\n",
       "            <td>1000982</td> <td>Copper Valley Community Market</td> <td>MM 101 Richardson Hwy Loop Road                         </td> <td>Copper Valley </td> <td>nan                 </td> <td>Alaska</td> <td>99737</td> <td>-145.444</td> <td>62.0879</td> <td>nan                                                   </td> <td>nan                                                         </td> <td>nan                              </td> <td>nan    </td> <td>nan       </td> <td>-      </td> <td>N   </td> <td>N         </td> <td>N     </td> <td>N     </td> <td>N      </td> <td>N   </td> <td>N      </td> <td>N    </td> <td>N         </td> <td>N    </td> <td>N   </td> <td>N    </td> <td>N   </td> <td>N      </td> <td>N   </td> <td>N     </td> <td>N      </td> <td>N       </td> <td>N   </td> <td>N    </td> <td>N   </td> <td>N     </td> <td>N    </td> <td>N     </td> <td>N     </td> <td>N     </td> <td>N        </td> <td>N      </td> <td>N            </td> <td>2009                 </td> <td>nan                              </td> <td>N     </td> <td>N   </td> <td>N      </td> <td>N    </td> <td>N   </td> <td>nan                     </td> <td>nan                                                         </td> <td>nan        </td> <td>nan        </td> <td>nan        </td> <td>nan        </td> <td>nan        </td> <td>nan        </td>\n",
       "        </tr>\n",
       "    </tbody>\n",
       "</table>\n",
       "<p>... (8536 rows omitted)</p>"
      ],
      "text/plain": [
       "FMID    | MarketName                     | street                                                   | city           | County               | State  | zip   | x        | y       | Website                                                | Facebook                                                     | Twitter                           | Youtube | OtherMedia | Organic | Tofu | Bakedgoods | Cheese | Crafts | Flowers | Eggs | Seafood | Herbs | Vegetables | Honey | Jams | Maple | Meat | Nursery | Nuts | Plants | Poultry | Prepared | Soap | Trees | Wine | Coffee | Beans | Fruits | Grains | Juices | Mushrooms | PetFood | WildHarvested | updateTime            | Location                          | Credit | WIC  | WICcash | SFMNP | SNAP | Season1Date              | Season1Time                                                  | Season2Date | Season2Time | Season3Date | Season3Time | Season4Date | Season4Time\n",
       "1004890 | Tanana Valley Farmers Market   | 2600 College Road                                        | Fairbanks      | Fairbanks North Star | Alaska | 99709 | -147.781 | 64.8628 | http://www.tvfmarket.com                               | https://www.facebook.com/pages/Tanana-Valley-Farmers-Mar ... | nan                               | nan     | nan        | Y       | N    | Y          | N      | Y      | Y       | Y    | N       | Y     | Y          | Y     | Y    | N     | N    | N       | N    | Y      | N       | Y        | Y    | Y     | N    | Y      | N     | N      | N      | N      | Y         | N       | Y             | 4/22/2014 12:35:28 PM | Other                             | Y      | Y    | N       | Y     | Y    | 05/10/2014 to 09/21/2014 | Wed: 11:00 AM-4:00 PM;Sat: 9:00 AM-4:00 PM;Sun: 11:00 AM ... | nan         | nan         | nan         | nan         | nan         | nan\n",
       "1000189 | Ester Community Market         | Ester Community Park, Old Nenana Highway                 | Ester          | Fairbanks North Star | Alaska | 99725 | -148.01  | 64.8459 | http://www.esteralaska.com                             | nan                                                          | nan                               | nan     | nan        | Y       | N    | N          | N      | N      | N       | N    | N       | N     | Y          | N     | N    | N     | N    | N       | N    | N      | N       | N        | N    | N     | N    | N      | N     | N      | N      | N      | N         | N       | N             | 2/19/2012 5:16:04 PM  | Local government building grounds | N      | Y    | N       | N     | N    | nan                      | nan                                                          | nan         | nan         | nan         | nan         | nan         | nan\n",
       "1000199 | Fairbanks Downtown Market      | 1st Avenue                                               | Fairbanks      | Fairbanks North Star | Alaska | 99701 | -147.72  | 64.8444 | http://www.downtownfairbanks.com                       | https://www.facebook.com/downtownfairbanks                   | https://twitter.com/DTFairbanksAK | nan     | nan        | Y       | N    | Y          | N      | N      | Y       | Y    | N       | Y     | Y          | Y     | Y    | N     | N    | N       | Y    | Y      | N       | Y        | Y    | N     | N    | N      | N     | N      | N      | N      | N         | N       | N             | 4/22/2014 1:07:46 PM  | Local government building grounds | Y      | Y    | N       | N     | Y    | 06/02/2014 to 09/08/2014 | Mon: 4:00 PM-8:00 PM;                                        | nan         | nan         | nan         | nan         | nan         | nan\n",
       "1006131 | Nenana Open Air Market         | Corner of Parks Highway & Main Street                    | Nenana         | nan                  | Alaska | 99704 | -149.096 | 64.5566 | nan                                                    | nan                                                          | nan                               | nan     | nan        | -       | N    | N          | N      | N      | N       | N    | N       | N     | N          | N     | N    | N     | N    | N       | N    | N      | N       | N        | N    | N     | N    | N      | N     | N      | N      | N      | N         | N       | N             | 2009                  | nan                               | N      | N    | N       | N     | N    | nan                      | nan                                                          | nan         | nan         | nan         | nan         | nan         | nan\n",
       "1005848 | Highway's End Farmers' Market  | Corner of Alaska Highway and Richardson Highway          | Delta Junction | Fairbanks North Star | Alaska | 99737 | -145.733 | 64.0385 | http://www.alaska-highway.org/farmersmarket/index.html | https://www.facebook.com/pages/Delta-Highways-End-Farmer ... | nan                               | nan     | nan        | -       | N    | Y          | N      | Y      | N       | Y    | N       | Y     | Y          | Y     | Y    | N     | N    | N       | N    | Y      | N       | Y        | Y    | N     | N    | Y      | N     | Y      | N      | N      | N         | N       | N             | 5/7/2015 11:05:57 AM  | nan                               | Y      | Y    | N       | Y     | N    | 05/23/2015 to 09/12/2015 | Wed: 10:00 AM-5:00 PM;Sat: 10:00 AM-5:00 PM;                 | nan         | nan         | nan         | nan         | nan         | nan\n",
       "1010822 | MountainTraders                | 13440 E Main Street                                      | Talkeetna      | Matanuska-Susitna    | Alaska | 99676 | -150.118 | 62.3231 | http://www.mountaintradersmarket.com                   | www.facebook.com/AKmountaintraders                           | nan                               | nan     | nan        | -       | N    | Y          | N      | Y      | Y       | N    | N       | Y     | Y          | Y     | Y    | N     | N    | N       | N    | N      | N       | N        | Y    | N     | N    | Y      | N     | N      | N      | N      | N         | N       | Y             | 2/13/2015 1:50:50 PM  | nan                               | Y      | N    | N       | N     | N    | 05/15/2015 to 09/15/2015 | nan                                                          | nan         | nan         | nan         | nan         | nan         | nan\n",
       "1009661 | Talkeetna Farmers Market       | 13440 E Main Street                                      | Talkeetna      | Matanuska-Susitna    | Alaska | 99676 | -150.118 | 62.3228 | nan                                                    | nan                                                          | nan                               | nan     | nan        | -       | N    | N          | N      | N      | N       | N    | N       | N     | N          | N     | N    | N     | N    | N       | N    | N      | N       | N        | N    | N     | N    | N      | N     | N      | N      | N      | N         | N       | N             | 3/19/2014 1:24:11 AM  | Other                             | Y      | N    | N       | N     | N    | 05/15/2014 to 09/15/2014 | nan                                                          | nan         | nan         | nan         | nan         | nan         | nan\n",
       "1001904 | Denali Farmers Market          | Intersection of the Parks Highway and Susitna River Road | Anchorage      | nan                  | Alaska | nan   | -150.234 | 62.3163 | nan                                                    | nan                                                          | nan                               | nan     | nan        | -       | N    | N          | N      | N      | N       | N    | N       | N     | N          | N     | N    | N     | N    | N       | N    | N      | N       | N        | N    | N     | N    | N      | N     | N      | N      | N      | N         | N       | N             | 2009                  | nan                               | N      | N    | N       | N     | N    | nan                      | nan                                                          | nan         | nan         | nan         | nan         | nan         | nan\n",
       "1006528 | Kenny Lake Harvest II          | Corner of Glenn and Richardson Highways                  | Valdez         | nan                  | Alaska | 99686 | -145.476 | 62.1079 | nan                                                    | nan                                                          | nan                               | nan     | nan        | -       | N    | N          | N      | N      | N       | N    | N       | N     | N          | N     | N    | N     | N    | N       | N    | N      | N       | N        | N    | N     | N    | N      | N     | N      | N      | N      | N         | N       | N             | 2009                  | nan                               | N      | N    | N       | N     | N    | nan                      | nan                                                          | nan         | nan         | nan         | nan         | nan         | nan\n",
       "1000982 | Copper Valley Community Market | MM 101 Richardson Hwy Loop Road                          | Copper Valley  | nan                  | Alaska | 99737 | -145.444 | 62.0879 | nan                                                    | nan                                                          | nan                               | nan     | nan        | -       | N    | N          | N      | N      | N       | N    | N       | N     | N          | N     | N    | N     | N    | N       | N    | N      | N       | N        | N    | N     | N    | N      | N     | N      | N      | N      | N         | N       | N             | 2009                  | nan                               | N      | N    | N       | N     | N    | nan                      | nan                                                          | nan         | nan         | nan         | nan         | nan         | nan\n",
       "... (8536 rows omitted)"
      ]
     },
     "execution_count": 49,
     "metadata": {},
     "output_type": "execute_result"
    }
   ],
   "source": [
    "farmers_markets_locations_by_latitude = farmers_markets.sort(\"y\",descending=True)\n",
    "farmers_markets_locations_by_latitude"
   ]
  },
  {
   "cell_type": "code",
   "execution_count": 50,
   "metadata": {
    "deletable": false,
    "editable": false
   },
   "outputs": [
    {
     "name": "stdout",
     "output_type": "stream",
     "text": [
      "~~~~~~~~~~~~~~~~~~~~~~~~~~~~~~~~~~~~~~~~~~~~~~~~~~~~~~~~~~~~~~~~~~~~~\n",
      "Running tests\n",
      "\n",
      "---------------------------------------------------------------------\n",
      "Test summary\n",
      "    Passed: 2\n",
      "    Failed: 0\n",
      "[ooooooooook] 100.0% passed\n",
      "\n"
     ]
    }
   ],
   "source": [
    "ok.grade(\"q35\");"
   ]
  },
  {
   "cell_type": "markdown",
   "metadata": {},
   "source": [
    "Now let's say we want a table of all farmers' markets in California. Sorting won't help us much here because California  is closer to the middle of the dataset.\n",
    "\n",
    "Instead, we use the table method `where`."
   ]
  },
  {
   "cell_type": "code",
   "execution_count": 51,
   "metadata": {
    "deletable": false
   },
   "outputs": [
    {
     "data": {
      "text/html": [
       "<table border=\"1\" class=\"dataframe\">\n",
       "    <thead>\n",
       "        <tr>\n",
       "            <th>MarketName</th> <th>State</th> <th>city</th> <th>x</th> <th>y</th>\n",
       "        </tr>\n",
       "    </thead>\n",
       "    <tbody>\n",
       "        <tr>\n",
       "            <td>Adelanto Stadium Farmers Market         </td> <td>California</td> <td>Victorville </td> <td>-117.405</td> <td>34.5593</td>\n",
       "        </tr>\n",
       "        <tr>\n",
       "            <td>Alameda Farmers' Market                 </td> <td>California</td> <td>Alameda     </td> <td>-122.277</td> <td>37.7742</td>\n",
       "        </tr>\n",
       "        <tr>\n",
       "            <td>Alisal Certified Farmers' Market        </td> <td>California</td> <td>Salinas     </td> <td>-121.634</td> <td>36.6733</td>\n",
       "        </tr>\n",
       "        <tr>\n",
       "            <td>Altadena Farmers' Market                </td> <td>California</td> <td>Altadena    </td> <td>-118.158</td> <td>34.2004</td>\n",
       "        </tr>\n",
       "        <tr>\n",
       "            <td>Alum Rock Village Farmers' Market       </td> <td>California</td> <td>San Jose    </td> <td>-121.833</td> <td>37.3678</td>\n",
       "        </tr>\n",
       "        <tr>\n",
       "            <td>Amador Farmers' Market-- Jackson        </td> <td>California</td> <td>Jackson     </td> <td>-120.774</td> <td>38.3488</td>\n",
       "        </tr>\n",
       "        <tr>\n",
       "            <td>Amador Farmers' Market-- Pine Grove     </td> <td>California</td> <td>Pine Grove  </td> <td>-120.774</td> <td>38.3488</td>\n",
       "        </tr>\n",
       "        <tr>\n",
       "            <td>Amador Farmers' Market-- Sutter Creek   </td> <td>California</td> <td>Sutter Creek</td> <td>-120.774</td> <td>38.3488</td>\n",
       "        </tr>\n",
       "        <tr>\n",
       "            <td>Anderson Happy Valley Farmers Market    </td> <td>California</td> <td>Anderson    </td> <td>-122.408</td> <td>40.4487</td>\n",
       "        </tr>\n",
       "        <tr>\n",
       "            <td>Angels Camp Farmers Market-Fresh Fridays</td> <td>California</td> <td>Angels Camp </td> <td>-120.543</td> <td>38.0722</td>\n",
       "        </tr>\n",
       "    </tbody>\n",
       "</table>\n",
       "<p>... (745 rows omitted)</p>"
      ],
      "text/plain": [
       "MarketName                               | State      | city         | x        | y\n",
       "Adelanto Stadium Farmers Market          | California | Victorville  | -117.405 | 34.5593\n",
       "Alameda Farmers' Market                  | California | Alameda      | -122.277 | 37.7742\n",
       "Alisal Certified Farmers' Market         | California | Salinas      | -121.634 | 36.6733\n",
       "Altadena Farmers' Market                 | California | Altadena     | -118.158 | 34.2004\n",
       "Alum Rock Village Farmers' Market        | California | San Jose     | -121.833 | 37.3678\n",
       "Amador Farmers' Market-- Jackson         | California | Jackson      | -120.774 | 38.3488\n",
       "Amador Farmers' Market-- Pine Grove      | California | Pine Grove   | -120.774 | 38.3488\n",
       "Amador Farmers' Market-- Sutter Creek    | California | Sutter Creek | -120.774 | 38.3488\n",
       "Anderson Happy Valley Farmers Market     | California | Anderson     | -122.408 | 40.4487\n",
       "Angels Camp Farmers Market-Fresh Fridays | California | Angels Camp  | -120.543 | 38.0722\n",
       "... (745 rows omitted)"
      ]
     },
     "execution_count": 51,
     "metadata": {},
     "output_type": "execute_result"
    }
   ],
   "source": [
    "california_farmers_markets = farmers_markets_locations.where('State', are.equal_to('California'))\n",
    "california_farmers_markets"
   ]
  },
  {
   "cell_type": "markdown",
   "metadata": {},
   "source": [
    "Ignore the syntax for the moment.  Instead, try to read that line like this:\n",
    "\n",
    "> Assign the name **`california_farmers_markets`** to a table whose rows are the rows in the **`farmers_markets_locations`** table **`where`** the **`'State'`**s **`are` `equal` `to` `California`**."
   ]
  },
  {
   "cell_type": "markdown",
   "metadata": {},
   "source": [
    "### `where`\n",
    "\n",
    "Now let's dive into the details a bit more.  `where` takes 2 arguments:\n",
    "\n",
    "1. The name of a column.  `where` finds rows where that column's values meet some criterion.\n",
    "2. A predicate that describes the criterion that the column needs to meet.\n",
    "\n",
    "The predicate in the example above called the function `are.equal_to` with the value we wanted, 'California'.  We'll see other predicates soon.\n",
    "\n",
    "`where` returns a table that's a copy of the original table, but **with only the rows that meet the given predicate**."
   ]
  },
  {
   "cell_type": "markdown",
   "metadata": {
    "deletable": false,
    "editable": false
   },
   "source": [
    "**Question 3.6.** Use `california_farmers_markets` to create a table called `berkeley_markets` containing farmers' markets in Berkeley, California.\n",
    "<!--\n",
    "BEGIN QUESTION\n",
    "name: q36\n",
    "-->"
   ]
  },
  {
   "cell_type": "code",
   "execution_count": 54,
   "metadata": {
    "deletable": false
   },
   "outputs": [
    {
     "data": {
      "text/html": [
       "<table border=\"1\" class=\"dataframe\">\n",
       "    <thead>\n",
       "        <tr>\n",
       "            <th>FMID</th> <th>MarketName</th> <th>street</th> <th>city</th> <th>County</th> <th>State</th> <th>zip</th> <th>x</th> <th>y</th> <th>Website</th> <th>Facebook</th> <th>Twitter</th> <th>Youtube</th> <th>OtherMedia</th> <th>Organic</th> <th>Tofu</th> <th>Bakedgoods</th> <th>Cheese</th> <th>Crafts</th> <th>Flowers</th> <th>Eggs</th> <th>Seafood</th> <th>Herbs</th> <th>Vegetables</th> <th>Honey</th> <th>Jams</th> <th>Maple</th> <th>Meat</th> <th>Nursery</th> <th>Nuts</th> <th>Plants</th> <th>Poultry</th> <th>Prepared</th> <th>Soap</th> <th>Trees</th> <th>Wine</th> <th>Coffee</th> <th>Beans</th> <th>Fruits</th> <th>Grains</th> <th>Juices</th> <th>Mushrooms</th> <th>PetFood</th> <th>WildHarvested</th> <th>updateTime</th> <th>Location</th> <th>Credit</th> <th>WIC</th> <th>WICcash</th> <th>SFMNP</th> <th>SNAP</th> <th>Season1Date</th> <th>Season1Time</th> <th>Season2Date</th> <th>Season2Time</th> <th>Season3Date</th> <th>Season3Time</th> <th>Season4Date</th> <th>Season4Time</th>\n",
       "        </tr>\n",
       "    </thead>\n",
       "    <tbody>\n",
       "        <tr>\n",
       "            <td>1001026</td> <td>Downtown Berkeley Farmers' Market</td> <td>Center Street & Martin Luther King Jr. Way</td> <td>Berkeley</td> <td>Alameda</td> <td>California</td> <td>94704</td> <td>-122.273</td> <td>37.8697</td> <td>http://ecologycenter.org/fm    </td> <td>nan     </td> <td>https://twitter.com/ecbfm</td> <td>nan    </td> <td>nan       </td> <td>Y      </td> <td>Y   </td> <td>Y         </td> <td>Y     </td> <td>N     </td> <td>Y      </td> <td>Y   </td> <td>Y      </td> <td>Y    </td> <td>Y         </td> <td>Y    </td> <td>Y   </td> <td>N    </td> <td>Y   </td> <td>N      </td> <td>Y   </td> <td>Y     </td> <td>Y      </td> <td>Y       </td> <td>Y   </td> <td>Y    </td> <td>N   </td> <td>Y     </td> <td>Y    </td> <td>Y     </td> <td>Y     </td> <td>Y     </td> <td>Y        </td> <td>N      </td> <td>Y            </td> <td>6/27/2016 1:48:35 PM</td> <td>nan     </td> <td>Y     </td> <td>Y   </td> <td>Y      </td> <td>Y    </td> <td>Y   </td> <td>01/01/2014 to 12/31/2014</td> <td>Sat: 10:00 AM-3:00 PM;</td> <td>nan        </td> <td>nan        </td> <td>nan        </td> <td>nan        </td> <td>nan        </td> <td>nan        </td>\n",
       "        </tr>\n",
       "        <tr>\n",
       "            <td>1001025</td> <td>North Berkeley Farmers' Market   </td> <td>Shattuck Ave. & Vine Street               </td> <td>Berkeley</td> <td>Alameda</td> <td>California</td> <td>94709</td> <td>-122.269</td> <td>37.8802</td> <td>http://www.ecologycenter.org/fm</td> <td>nan     </td> <td>https://twitter.com/ecbfm</td> <td>nan    </td> <td>nan       </td> <td>Y      </td> <td>Y   </td> <td>Y         </td> <td>Y     </td> <td>N     </td> <td>Y      </td> <td>Y   </td> <td>Y      </td> <td>Y    </td> <td>Y         </td> <td>Y    </td> <td>Y   </td> <td>N    </td> <td>Y   </td> <td>N      </td> <td>Y   </td> <td>Y     </td> <td>Y      </td> <td>Y       </td> <td>N   </td> <td>N    </td> <td>N   </td> <td>N     </td> <td>Y    </td> <td>Y     </td> <td>N     </td> <td>Y     </td> <td>N        </td> <td>N      </td> <td>N            </td> <td>6/27/2016 1:51:31 PM</td> <td>nan     </td> <td>Y     </td> <td>Y   </td> <td>Y      </td> <td>Y    </td> <td>Y   </td> <td>01/01/2016 to 12/31/2016</td> <td>Thu: 3:00 PM-7:00 PM; </td> <td>nan        </td> <td>nan        </td> <td>nan        </td> <td>nan        </td> <td>nan        </td> <td>nan        </td>\n",
       "        </tr>\n",
       "        <tr>\n",
       "            <td>1001242</td> <td>South Berkeley Farmers' Market   </td> <td>Adeline Street at 63rd Street             </td> <td>Berkeley</td> <td>Alameda</td> <td>California</td> <td>94703</td> <td>-122.272</td> <td>37.8478</td> <td>http://www.ecologycenter.org/fm</td> <td>nan     </td> <td>https://twitter.com/ecbfm</td> <td>nan    </td> <td>nan       </td> <td>Y      </td> <td>Y   </td> <td>Y         </td> <td>Y     </td> <td>N     </td> <td>Y      </td> <td>Y   </td> <td>Y      </td> <td>Y    </td> <td>Y         </td> <td>Y    </td> <td>Y   </td> <td>N    </td> <td>Y   </td> <td>N      </td> <td>Y   </td> <td>N     </td> <td>Y      </td> <td>Y       </td> <td>N   </td> <td>Y    </td> <td>N   </td> <td>N     </td> <td>Y    </td> <td>Y     </td> <td>Y     </td> <td>Y     </td> <td>Y        </td> <td>N      </td> <td>N            </td> <td>6/27/2016 1:44:18 PM</td> <td>nan     </td> <td>Y     </td> <td>Y   </td> <td>Y      </td> <td>Y    </td> <td>Y   </td> <td>01/01/2016 to 12/31/2016</td> <td>Tue: 2:00 PM-6:30 PM; </td> <td>nan        </td> <td>nan        </td> <td>nan        </td> <td>nan        </td> <td>nan        </td> <td>nan        </td>\n",
       "        </tr>\n",
       "    </tbody>\n",
       "</table>"
      ],
      "text/plain": [
       "FMID    | MarketName                        | street                                     | city     | County  | State      | zip   | x        | y       | Website                         | Facebook | Twitter                   | Youtube | OtherMedia | Organic | Tofu | Bakedgoods | Cheese | Crafts | Flowers | Eggs | Seafood | Herbs | Vegetables | Honey | Jams | Maple | Meat | Nursery | Nuts | Plants | Poultry | Prepared | Soap | Trees | Wine | Coffee | Beans | Fruits | Grains | Juices | Mushrooms | PetFood | WildHarvested | updateTime           | Location | Credit | WIC  | WICcash | SFMNP | SNAP | Season1Date              | Season1Time            | Season2Date | Season2Time | Season3Date | Season3Time | Season4Date | Season4Time\n",
       "1001026 | Downtown Berkeley Farmers' Market | Center Street & Martin Luther King Jr. Way | Berkeley | Alameda | California | 94704 | -122.273 | 37.8697 | http://ecologycenter.org/fm     | nan      | https://twitter.com/ecbfm | nan     | nan        | Y       | Y    | Y          | Y      | N      | Y       | Y    | Y       | Y     | Y          | Y     | Y    | N     | Y    | N       | Y    | Y      | Y       | Y        | Y    | Y     | N    | Y      | Y     | Y      | Y      | Y      | Y         | N       | Y             | 6/27/2016 1:48:35 PM | nan      | Y      | Y    | Y       | Y     | Y    | 01/01/2014 to 12/31/2014 | Sat: 10:00 AM-3:00 PM; | nan         | nan         | nan         | nan         | nan         | nan\n",
       "1001025 | North Berkeley Farmers' Market    | Shattuck Ave. & Vine Street                | Berkeley | Alameda | California | 94709 | -122.269 | 37.8802 | http://www.ecologycenter.org/fm | nan      | https://twitter.com/ecbfm | nan     | nan        | Y       | Y    | Y          | Y      | N      | Y       | Y    | Y       | Y     | Y          | Y     | Y    | N     | Y    | N       | Y    | Y      | Y       | Y        | N    | N     | N    | N      | Y     | Y      | N      | Y      | N         | N       | N             | 6/27/2016 1:51:31 PM | nan      | Y      | Y    | Y       | Y     | Y    | 01/01/2016 to 12/31/2016 | Thu: 3:00 PM-7:00 PM;  | nan         | nan         | nan         | nan         | nan         | nan\n",
       "1001242 | South Berkeley Farmers' Market    | Adeline Street at 63rd Street              | Berkeley | Alameda | California | 94703 | -122.272 | 37.8478 | http://www.ecologycenter.org/fm | nan      | https://twitter.com/ecbfm | nan     | nan        | Y       | Y    | Y          | Y      | N      | Y       | Y    | Y       | Y     | Y          | Y     | Y    | N     | Y    | N       | Y    | N      | Y       | Y        | N    | Y     | N    | N      | Y     | Y      | Y      | Y      | Y         | N       | N             | 6/27/2016 1:44:18 PM | nan      | Y      | Y    | Y       | Y     | Y    | 01/01/2016 to 12/31/2016 | Tue: 2:00 PM-6:30 PM;  | nan         | nan         | nan         | nan         | nan         | nan"
      ]
     },
     "execution_count": 54,
     "metadata": {},
     "output_type": "execute_result"
    }
   ],
   "source": [
    "berkeley_markets = farmers_markets.where(\"city\", are.equal_to(\"Berkeley\"))\n",
    "berkeley_markets"
   ]
  },
  {
   "cell_type": "code",
   "execution_count": 55,
   "metadata": {
    "deletable": false,
    "editable": false
   },
   "outputs": [
    {
     "name": "stdout",
     "output_type": "stream",
     "text": [
      "~~~~~~~~~~~~~~~~~~~~~~~~~~~~~~~~~~~~~~~~~~~~~~~~~~~~~~~~~~~~~~~~~~~~~\n",
      "Running tests\n",
      "\n",
      "---------------------------------------------------------------------\n",
      "Test summary\n",
      "    Passed: 2\n",
      "    Failed: 0\n",
      "[ooooooooook] 100.0% passed\n",
      "\n"
     ]
    }
   ],
   "source": [
    "ok.grade(\"q36\");"
   ]
  },
  {
   "cell_type": "markdown",
   "metadata": {},
   "source": [
    "Recognize any of them?"
   ]
  },
  {
   "cell_type": "markdown",
   "metadata": {},
   "source": [
    "So far we've only been using `where` with the predicate that requires finding the values in a column to be *exactly* equal to a certain value. However, there are many other predicates. Here are a few:\n",
    "\n",
    "|Predicate|Example|Result|\n",
    "|-|-|-|\n",
    "|`are.equal_to`|`are.equal_to(50)`|Find rows with values equal to 50|\n",
    "|`are.not_equal_to`|`are.not_equal_to(50)`|Find rows with values not equal to 50|\n",
    "|`are.above`|`are.above(50)`|Find rows with values above (and not equal to) 50|\n",
    "|`are.above_or_equal_to`|`are.above_or_equal_to(50)`|Find rows with values above 50 or equal to 50|\n",
    "|`are.below`|`are.below(50)`|Find rows with values below 50|\n",
    "|`are.between`|`are.between(2, 10)`|Find rows with values above or equal to 2 and below 10|"
   ]
  },
  {
   "cell_type": "markdown",
   "metadata": {},
   "source": [
    "## 4. Analyzing a dataset\n",
    "\n",
    "Now that you're familiar with table operations, let’s answer some interesting questions about a dataset!\n",
    "\n",
    "Run the cell below to load the `imdb` table. It contains information about the 250 highest-rated movies on IMDb."
   ]
  },
  {
   "cell_type": "code",
   "execution_count": 59,
   "metadata": {
    "deletable": false,
    "scrolled": true
   },
   "outputs": [
    {
     "data": {
      "text/html": [
       "<table border=\"1\" class=\"dataframe\">\n",
       "    <thead>\n",
       "        <tr>\n",
       "            <th>Votes</th> <th>Rating</th> <th>Title</th> <th>Year</th> <th>Decade</th>\n",
       "        </tr>\n",
       "    </thead>\n",
       "    <tbody>\n",
       "        <tr>\n",
       "            <td>88355 </td> <td>8.4   </td> <td>M                    </td> <td>1931</td> <td>1930  </td>\n",
       "        </tr>\n",
       "        <tr>\n",
       "            <td>132823</td> <td>8.3   </td> <td>Singin' in the Rain  </td> <td>1952</td> <td>1950  </td>\n",
       "        </tr>\n",
       "        <tr>\n",
       "            <td>74178 </td> <td>8.3   </td> <td>All About Eve        </td> <td>1950</td> <td>1950  </td>\n",
       "        </tr>\n",
       "        <tr>\n",
       "            <td>635139</td> <td>8.6   </td> <td>Léon                 </td> <td>1994</td> <td>1990  </td>\n",
       "        </tr>\n",
       "        <tr>\n",
       "            <td>145514</td> <td>8.2   </td> <td>The Elephant Man     </td> <td>1980</td> <td>1980  </td>\n",
       "        </tr>\n",
       "        <tr>\n",
       "            <td>425461</td> <td>8.3   </td> <td>Full Metal Jacket    </td> <td>1987</td> <td>1980  </td>\n",
       "        </tr>\n",
       "        <tr>\n",
       "            <td>441174</td> <td>8.1   </td> <td>Gone Girl            </td> <td>2014</td> <td>2010  </td>\n",
       "        </tr>\n",
       "        <tr>\n",
       "            <td>850601</td> <td>8.3   </td> <td>Batman Begins        </td> <td>2005</td> <td>2000  </td>\n",
       "        </tr>\n",
       "        <tr>\n",
       "            <td>37664 </td> <td>8.2   </td> <td>Judgment at Nuremberg</td> <td>1961</td> <td>1960  </td>\n",
       "        </tr>\n",
       "        <tr>\n",
       "            <td>46987 </td> <td>8     </td> <td>Relatos salvajes     </td> <td>2014</td> <td>2010  </td>\n",
       "        </tr>\n",
       "    </tbody>\n",
       "</table>\n",
       "<p>... (240 rows omitted)</p>"
      ],
      "text/plain": [
       "Votes  | Rating | Title                 | Year | Decade\n",
       "88355  | 8.4    | M                     | 1931 | 1930\n",
       "132823 | 8.3    | Singin' in the Rain   | 1952 | 1950\n",
       "74178  | 8.3    | All About Eve         | 1950 | 1950\n",
       "635139 | 8.6    | Léon                  | 1994 | 1990\n",
       "145514 | 8.2    | The Elephant Man      | 1980 | 1980\n",
       "425461 | 8.3    | Full Metal Jacket     | 1987 | 1980\n",
       "441174 | 8.1    | Gone Girl             | 2014 | 2010\n",
       "850601 | 8.3    | Batman Begins         | 2005 | 2000\n",
       "37664  | 8.2    | Judgment at Nuremberg | 1961 | 1960\n",
       "46987  | 8      | Relatos salvajes      | 2014 | 2010\n",
       "... (240 rows omitted)"
      ]
     },
     "execution_count": 59,
     "metadata": {},
     "output_type": "execute_result"
    }
   ],
   "source": [
    "# Just run this cell\n",
    "\n",
    "imdb = Table.read_table('imdb.csv')\n",
    "imdb"
   ]
  },
  {
   "cell_type": "markdown",
   "metadata": {
    "deletable": false,
    "editable": false
   },
   "source": [
    "**Question 4.1.** Using `where` and one of the predicates from the table above, find all movies with a rating higher than 8.5.  Assign this filtered table to the name `really_highly_rated`. It should contain the same columns as `imdb`.\n",
    "\n",
    "<!--\n",
    "BEGIN QUESTION\n",
    "name: q41\n",
    "-->"
   ]
  },
  {
   "cell_type": "code",
   "execution_count": 61,
   "metadata": {
    "deletable": false
   },
   "outputs": [
    {
     "data": {
      "text/html": [
       "<table border=\"1\" class=\"dataframe\">\n",
       "    <thead>\n",
       "        <tr>\n",
       "            <th>Votes</th> <th>Rating</th> <th>Title</th> <th>Year</th> <th>Decade</th>\n",
       "        </tr>\n",
       "    </thead>\n",
       "    <tbody>\n",
       "        <tr>\n",
       "            <td>635139 </td> <td>8.6   </td> <td>Léon                                  </td> <td>1994</td> <td>1990  </td>\n",
       "        </tr>\n",
       "        <tr>\n",
       "            <td>1027398</td> <td>9.2   </td> <td>The Godfather                         </td> <td>1972</td> <td>1970  </td>\n",
       "        </tr>\n",
       "        <tr>\n",
       "            <td>767224 </td> <td>8.6   </td> <td>The Silence of the Lambs              </td> <td>1991</td> <td>1990  </td>\n",
       "        </tr>\n",
       "        <tr>\n",
       "            <td>1498733</td> <td>9.2   </td> <td>The Shawshank Redemption              </td> <td>1994</td> <td>1990  </td>\n",
       "        </tr>\n",
       "        <tr>\n",
       "            <td>447875 </td> <td>8.9   </td> <td>Il buono, il brutto, il cattivo (1966)</td> <td>1966</td> <td>1960  </td>\n",
       "        </tr>\n",
       "        <tr>\n",
       "            <td>967389 </td> <td>8.7   </td> <td>The Lord of the Rings: The Two Towers </td> <td>2002</td> <td>2000  </td>\n",
       "        </tr>\n",
       "        <tr>\n",
       "            <td>689541 </td> <td>8.6   </td> <td>Interstellar                          </td> <td>2014</td> <td>2010  </td>\n",
       "        </tr>\n",
       "        <tr>\n",
       "            <td>1473049</td> <td>8.9   </td> <td>The Dark Knight                       </td> <td>2008</td> <td>2000  </td>\n",
       "        </tr>\n",
       "        <tr>\n",
       "            <td>192206 </td> <td>8.6   </td> <td>C'era una volta il West               </td> <td>1968</td> <td>1960  </td>\n",
       "        </tr>\n",
       "        <tr>\n",
       "            <td>1271949</td> <td>8.7   </td> <td>Inception                             </td> <td>2010</td> <td>2010  </td>\n",
       "        </tr>\n",
       "    </tbody>\n",
       "</table>\n",
       "<p>... (19 rows omitted)</p>"
      ],
      "text/plain": [
       "Votes   | Rating | Title                                  | Year | Decade\n",
       "635139  | 8.6    | Léon                                   | 1994 | 1990\n",
       "1027398 | 9.2    | The Godfather                          | 1972 | 1970\n",
       "767224  | 8.6    | The Silence of the Lambs               | 1991 | 1990\n",
       "1498733 | 9.2    | The Shawshank Redemption               | 1994 | 1990\n",
       "447875  | 8.9    | Il buono, il brutto, il cattivo (1966) | 1966 | 1960\n",
       "967389  | 8.7    | The Lord of the Rings: The Two Towers  | 2002 | 2000\n",
       "689541  | 8.6    | Interstellar                           | 2014 | 2010\n",
       "1473049 | 8.9    | The Dark Knight                        | 2008 | 2000\n",
       "192206  | 8.6    | C'era una volta il West                | 1968 | 1960\n",
       "1271949 | 8.7    | Inception                              | 2010 | 2010\n",
       "... (19 rows omitted)"
      ]
     },
     "execution_count": 61,
     "metadata": {},
     "output_type": "execute_result"
    }
   ],
   "source": [
    "really_highly_rated = imdb.where(\"Rating\", are.above(8.5))\n",
    "really_highly_rated"
   ]
  },
  {
   "cell_type": "code",
   "execution_count": 62,
   "metadata": {
    "deletable": false,
    "editable": false
   },
   "outputs": [
    {
     "name": "stdout",
     "output_type": "stream",
     "text": [
      "~~~~~~~~~~~~~~~~~~~~~~~~~~~~~~~~~~~~~~~~~~~~~~~~~~~~~~~~~~~~~~~~~~~~~\n",
      "Running tests\n",
      "\n",
      "---------------------------------------------------------------------\n",
      "Test summary\n",
      "    Passed: 3\n",
      "    Failed: 0\n",
      "[ooooooooook] 100.0% passed\n",
      "\n"
     ]
    }
   ],
   "source": [
    "ok.grade(\"q41\");"
   ]
  },
  {
   "cell_type": "markdown",
   "metadata": {},
   "source": [
    "Often, we want to perform multiple operations - sorting, filtering, or others - in order to turn a table we have into something more useful. You can do these operations one by one, e.g.\n",
    "\n",
    "```\n",
    "first_step = original_tbl.where(“col1”, are.equal_to(12))\n",
    "second_step = first_step.sort(‘col2’, descending=True)\n",
    "```\n",
    "\n",
    "However, since the value of the expression `original_tbl.where(“col1”, are.equal_to(12))` is itself a table, you can just call a table method on it:\n",
    "\n",
    "```\n",
    "original_tbl.where(“col1”, are.equal_to(12)).sort(‘col2’, descending=True)\n",
    "```\n",
    "You should organize your work in the way that makes the most sense to you, using informative names for any intermediate tables you create. "
   ]
  },
  {
   "cell_type": "markdown",
   "metadata": {
    "deletable": false,
    "editable": false
   },
   "source": [
    "**Question 4.2.** Create a table of movies released between 2010 and 2016 (inclusive) with ratings above 8. The table should only contain the columns `Title` and `Rating`, **in that order**.\n",
    "\n",
    "Assign the table to the name `above_eight`.\n",
    "\n",
    "*Hint:* Think about the steps you need to take, and try to put them in an order that make sense. Feel free to create intermediate tables for each step, but please make sure you assign your final table the name `above_eight`!\n",
    "\n",
    "<!--\n",
    "BEGIN QUESTION\n",
    "name: q42\n",
    "-->"
   ]
  },
  {
   "cell_type": "code",
   "execution_count": 76,
   "metadata": {
    "deletable": false,
    "scrolled": false
   },
   "outputs": [
    {
     "data": {
      "text/html": [
       "<table border=\"1\" class=\"dataframe\">\n",
       "    <thead>\n",
       "        <tr>\n",
       "            <th>Title</th> <th>Rating</th>\n",
       "        </tr>\n",
       "    </thead>\n",
       "    <tbody>\n",
       "        <tr>\n",
       "            <td>Inception              </td> <td>8.7   </td>\n",
       "        </tr>\n",
       "        <tr>\n",
       "            <td>Interstellar           </td> <td>8.6   </td>\n",
       "        </tr>\n",
       "        <tr>\n",
       "            <td>Whiplash               </td> <td>8.5   </td>\n",
       "        </tr>\n",
       "        <tr>\n",
       "            <td>Inside Out (2015/I)    </td> <td>8.5   </td>\n",
       "        </tr>\n",
       "        <tr>\n",
       "            <td>Intouchables           </td> <td>8.5   </td>\n",
       "        </tr>\n",
       "        <tr>\n",
       "            <td>The Dark Knight Rises  </td> <td>8.4   </td>\n",
       "        </tr>\n",
       "        <tr>\n",
       "            <td>Django Unchained       </td> <td>8.4   </td>\n",
       "        </tr>\n",
       "        <tr>\n",
       "            <td>Mad Max: Fury Road     </td> <td>8.3   </td>\n",
       "        </tr>\n",
       "        <tr>\n",
       "            <td>Jodaeiye Nader az Simin</td> <td>8.3   </td>\n",
       "        </tr>\n",
       "        <tr>\n",
       "            <td>Toy Story 3            </td> <td>8.3   </td>\n",
       "        </tr>\n",
       "    </tbody>\n",
       "</table>\n",
       "<p>... (10 rows omitted)</p>"
      ],
      "text/plain": [
       "Title                   | Rating\n",
       "Inception               | 8.7\n",
       "Interstellar            | 8.6\n",
       "Whiplash                | 8.5\n",
       "Inside Out (2015/I)     | 8.5\n",
       "Intouchables            | 8.5\n",
       "The Dark Knight Rises   | 8.4\n",
       "Django Unchained        | 8.4\n",
       "Mad Max: Fury Road      | 8.3\n",
       "Jodaeiye Nader az Simin | 8.3\n",
       "Toy Story 3             | 8.3\n",
       "... (10 rows omitted)"
      ]
     },
     "execution_count": 76,
     "metadata": {},
     "output_type": "execute_result"
    }
   ],
   "source": [
    "above_eight = imdb.where(\"Year\", are.between(2010,2016)).where(\"Rating\",are.above(8)).sort(\"Rating\",descending=True).select(\"Title\",\"Rating\")\n",
    "above_eight"
   ]
  },
  {
   "cell_type": "code",
   "execution_count": 77,
   "metadata": {
    "deletable": false,
    "editable": false
   },
   "outputs": [
    {
     "name": "stdout",
     "output_type": "stream",
     "text": [
      "~~~~~~~~~~~~~~~~~~~~~~~~~~~~~~~~~~~~~~~~~~~~~~~~~~~~~~~~~~~~~~~~~~~~~\n",
      "Running tests\n",
      "\n",
      "---------------------------------------------------------------------\n",
      "Test summary\n",
      "    Passed: 3\n",
      "    Failed: 0\n",
      "[ooooooooook] 100.0% passed\n",
      "\n"
     ]
    }
   ],
   "source": [
    "ok.grade(\"q42\");"
   ]
  },
  {
   "cell_type": "markdown",
   "metadata": {
    "deletable": false,
    "editable": false
   },
   "source": [
    "**Question 4.3.** Use `num_rows` (and arithmetic) to find the *proportion* of movies in the dataset that were released 1900-1999, and the *proportion* of movies in the dataset that were released in the year 2000 or later.\n",
    "\n",
    "Assign `proportion_in_20th_century` to the proportion of movies in the dataset that were released 1900-1999, and `proportion_in_21st_century` to the proportion of movies in the dataset that were released in the year 2000 or later.\n",
    "\n",
    "*Hint:* The *proportion* of movies released in the 1900's is the *number* of movies released in the 1900's, divided by the *total number* of movies.\n",
    "\n",
    "<!--\n",
    "BEGIN QUESTION\n",
    "name: q43\n",
    "-->"
   ]
  },
  {
   "cell_type": "code",
   "execution_count": 84,
   "metadata": {
    "deletable": false
   },
   "outputs": [
    {
     "name": "stdout",
     "output_type": "stream",
     "text": [
      "Proportion in 20th century: 0.664\n",
      "Proportion in 21st century: 0.316\n"
     ]
    }
   ],
   "source": [
    "num_movies_in_dataset = imdb.num_rows\n",
    "num_in_20th_century = imdb.where(\"Year\",are.between(1900,1999)).num_rows\n",
    "num_in_21st_century = imdb.where(\"Year\",are.above(1999)).num_rows\n",
    "proportion_in_20th_century = imdb.where(\"Year\",are.between(1900,1999)).num_rows/num_movies_in_dataset\n",
    "proportion_in_21st_century = imdb.where(\"Year\",are.above(1999)).num_rows/num_movies_in_dataset\n",
    "print(\"Proportion in 20th century:\", proportion_in_20th_century)\n",
    "print(\"Proportion in 21st century:\", proportion_in_21st_century)"
   ]
  },
  {
   "cell_type": "code",
   "execution_count": 86,
   "metadata": {},
   "outputs": [
    {
     "data": {
      "text/plain": [
       "250"
      ]
     },
     "execution_count": 86,
     "metadata": {},
     "output_type": "execute_result"
    }
   ],
   "source": [
    "imdb.num_rows"
   ]
  },
  {
   "cell_type": "code",
   "execution_count": 85,
   "metadata": {
    "deletable": false,
    "editable": false
   },
   "outputs": [
    {
     "name": "stdout",
     "output_type": "stream",
     "text": [
      "~~~~~~~~~~~~~~~~~~~~~~~~~~~~~~~~~~~~~~~~~~~~~~~~~~~~~~~~~~~~~~~~~~~~~\n",
      "Running tests\n",
      "\n",
      "---------------------------------------------------------------------\n",
      "q43 > Suite 1 > Case 1\n",
      "\n",
      ">>> proportion_in_20th_century == 0.684\n",
      "False\n",
      "\n",
      "# Error: expected\n",
      "#     True\n",
      "# but got\n",
      "#     False\n",
      "\n",
      "Run only this test case with \"python3 ok -q q43 --suite 1 --case 1\"\n",
      "---------------------------------------------------------------------\n",
      "Test summary\n",
      "    Passed: 0\n",
      "    Failed: 1\n",
      "[k..........] 0.0% passed\n",
      "\n"
     ]
    }
   ],
   "source": [
    "ok.grade(\"q43\");"
   ]
  },
  {
   "cell_type": "markdown",
   "metadata": {},
   "source": [
    "## 5. Summary\n",
    "\n",
    "For your reference, here's a table of all the functions and methods we saw in this lab. We'll learn more methods to add to this table in the coming week!\n",
    "\n",
    "|Name|Example|Purpose|\n",
    "|-|-|-|\n",
    "|`sort`|`tbl.sort(\"N\")`|Create a copy of a table sorted by the values in a column|\n",
    "|`where`|`tbl.where(\"N\", are.above(2))`|Create a copy of a table with only the rows that match some *predicate*|\n",
    "|`num_rows`|`tbl.num_rows`|Compute the number of rows in a table|\n",
    "|`num_columns`|`tbl.num_columns`|Compute the number of columns in a table|\n",
    "|`select`|`tbl.select(\"N\")`|Create a copy of a table with only some of the columns|\n",
    "|`drop`|`tbl.drop(\"2*N\")`|Create a copy of a table without some of the columns|\n",
    "\n",
    "<br/>\n",
    "\n",
    "Alright! You're finished with lab 2!  Be sure to...\n",
    "- run all the tests (the next cell has a shortcut for that), \n",
    "- **Save and Checkpoint** from the `File` menu,\n",
    "- **run the last cell to submit your work**,\n",
    "- and **ask one of the staff members to check you off**."
   ]
  },
  {
   "cell_type": "code",
   "execution_count": 50,
   "metadata": {},
   "outputs": [],
   "source": [
    "# For your convenience, you can run this cell to run all the tests at once!\n",
    "import os\n",
    "_ = [ok.grade(q[:-3]) for q in os.listdir(\"tests\") if q.startswith('q')]"
   ]
  },
  {
   "cell_type": "code",
   "execution_count": null,
   "metadata": {
    "collapsed": true
   },
   "outputs": [],
   "source": [
    "_ = ok.submit()"
   ]
  }
 ],
 "metadata": {
  "kernelspec": {
   "display_name": "Python 3",
   "language": "python",
   "name": "python3"
  },
  "language_info": {
   "codemirror_mode": {
    "name": "ipython",
    "version": 3
   },
   "file_extension": ".py",
   "mimetype": "text/x-python",
   "name": "python",
   "nbconvert_exporter": "python",
   "pygments_lexer": "ipython3",
   "version": "3.6.9"
  }
 },
 "nbformat": 4,
 "nbformat_minor": 2
}

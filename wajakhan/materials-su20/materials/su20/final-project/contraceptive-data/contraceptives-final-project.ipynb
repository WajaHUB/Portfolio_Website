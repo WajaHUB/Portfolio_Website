{
 "cells": [
  {
   "cell_type": "code",
   "execution_count": null,
   "metadata": {},
   "outputs": [],
   "source": [
    "# modules for research report\n",
    "from datascience import *\n",
    "import numpy as np\n",
    "import random\n",
    "%matplotlib inline\n",
    "import matplotlib.pyplot as plots\n",
    "plots.style.use('fivethirtyeight')\n",
    "\n",
    "# module for YouTube video\n",
    "from IPython.display import YouTubeVideo\n",
    "\n",
    "# okpy config\n",
    "from client.api.notebook import Notebook\n",
    "ok = Notebook('contraceptives-final-project.ok')\n",
    "_ = ok.auth(inline=True)"
   ]
  },
  {
   "cell_type": "markdown",
   "metadata": {},
   "source": [
    "# 1987 National Indonesia Contraceptive Prevalence Survey\n",
    "\n",
    "This dataset was retrieved from the [UCI Machine Learning Repository](https://archive.ics.uci.edu/ml/datasets/Contraceptive+Method+Choice).\n",
    "The data in this notebook is a subset from the original data, and has been cleaned for your convenience. A brief descriptive\n",
    "summary of the dataset is provided below. \n",
    "\n",
    "**NB: You may not copy any public analyses of this dataset. Doing so will result in a zero.**"
   ]
  },
  {
   "cell_type": "markdown",
   "metadata": {},
   "source": [
    "## Summary\n",
    "\n",
    ">The National Indonesia Contraceptive Prevalence Survey (NICPS) collected data on fertility and family planning in 1987 to measure\n",
    "the effectiveness of Indonesia's National Family Planning Program with the ultimate goal of improving the program. This survey\n",
    "was additionally designed to simultaneously measure contraceptive prevalence and fertility and the factors that influence these\n",
    "outcomes, including education and the availability of contraceptives.\n",
    "\n",
    ">Women that were surveyed were married women between the ages of 15-49 that were either not pregnant or did not know they were at\n",
    "the time of the interview. 11,884 total women were interviewed, though only a random subset of 999 of these participants are\n",
    "included in this dataset.\n",
    "\n",
    ">More information about the program and the survey can be found in the \n",
    "[summary report](https://dhsprogram.com/pubs/pdf/SR9/SR9.pdf) and the\n",
    "[final report](https://dhsprogram.com/pubs/pdf/FR19/FR19.pdf)."
   ]
  },
  {
   "cell_type": "markdown",
   "metadata": {},
   "source": [
    "## Data Description\n",
    "\n",
    "This dataset consists of two tables:\n",
    "\n",
    "1. `participant` provides information on a participant’s demographics and contraceptive method choice.\n",
    "2. `family_background` contains information on a participant’s husband’s education and other demographics.\n",
    "\n",
    "A description of each table's variables is provided below:\n",
    "\n",
    "`participant`:\n",
    "* `Participant ID`: unique ID for each woman who participated\n",
    "* `Wife age`: age of participant (years)\n",
    "* `Wife education`: level of education (1=low, 2, 3, 4=high)\n",
    "* `Wife religion`: 0=Non-Islam, 1=Islam\n",
    "* `Wife working`: 0=Yes, 1=No\n",
    "* `Num children`: number of children ever born\n",
    "* `Contraceptive method`: participant’s choice of contraceptive method (0=no use of contraceptives, 1=use of contraceptives)\n",
    "\n",
    "`family_background`:\n",
    "* `Wife ID`: participant ID for each woman in the `participant` table\n",
    "* `Husband education`: level of husband’s education (1=low, 2, 3, 4=high)\n",
    "* `Husband occupation`: husband’s occupation based on predefined categories (1=professional, technical, or clerical work, 2=sales or services, 3=manual, 4=agriculture)\n",
    "* `Standard-of-living`: standard-of-living index (1=low, 2, 3, 4=high)\n",
    "* `Media exposure`: measures exposure and access to television, newspapers, radio, etc. (0=good, 1=not good)"
   ]
  },
  {
   "cell_type": "markdown",
   "metadata": {},
   "source": [
    "## Inspiration\n",
    "\n",
    "A variety of exploratory analyses, hypothesis tests, and predictions problems can be tackled with this data. Here are a few ideas to get\n",
    "you started:\n",
    "\n",
    "1. Is there an association between a family's standard of living and size?\n",
    "2. Is there a relationship between a mother's education level and her use of contraceptives? What about her religious beliefs?\n",
    "3. Can we predict whether a women uses contraceptive methods based on the characteristics of her family (e.g. standard of living, number of children, etc.)?\n",
    "\n",
    "Don't forget to review the [Final Project Guidelines](https://docs.google.com/document/d/1NuHDYTdWGwhPNRov8Y3I8y6R7Rbyf-WDOfQwovD-gmw/edit?usp=sharing) for a complete list of requirements."
   ]
  },
  {
   "cell_type": "markdown",
   "metadata": {},
   "source": [
    "## Preview"
   ]
  },
  {
   "cell_type": "code",
   "execution_count": null,
   "metadata": {},
   "outputs": [],
   "source": [
    "participant = Table.read_table('data/participant.csv')\n",
    "participant"
   ]
  },
  {
   "cell_type": "code",
   "execution_count": null,
   "metadata": {},
   "outputs": [],
   "source": [
    "family_background = Table.read_table('data/family_background.csv')\n",
    "family_background"
   ]
  },
  {
   "cell_type": "markdown",
   "metadata": {},
   "source": [
    "<br>\n",
    "\n",
    "# Research Report"
   ]
  },
  {
   "cell_type": "markdown",
   "metadata": {},
   "source": [
    "## Introduction\n",
    "\n",
    "*Replace this text with your introduction*"
   ]
  },
  {
   "cell_type": "markdown",
   "metadata": {},
   "source": [
    "## Hypothesis Testing and Prediction Questions\n",
    "\n",
    "**Please bold your hypothesis testing and prediction questions.**\n",
    "\n",
    "*Replace this text with your hypothesis testing and prediction questions*"
   ]
  },
  {
   "cell_type": "markdown",
   "metadata": {},
   "source": [
    "## Exploratory Data Analysis\n",
    "\n",
    "**You may change the order of the plots and tables.**"
   ]
  },
  {
   "cell_type": "markdown",
   "metadata": {},
   "source": [
    "**Quantitative Plot:**"
   ]
  },
  {
   "cell_type": "code",
   "execution_count": null,
   "metadata": {},
   "outputs": [],
   "source": [
    "# Use this cell to generate your quantitative plot\n",
    "..."
   ]
  },
  {
   "cell_type": "markdown",
   "metadata": {},
   "source": [
    "*Replace this text with an analysis of your plot*"
   ]
  },
  {
   "cell_type": "markdown",
   "metadata": {},
   "source": [
    "**Qualitative Plot:**"
   ]
  },
  {
   "cell_type": "code",
   "execution_count": null,
   "metadata": {},
   "outputs": [],
   "source": [
    "# Use this cell to generate your qualitative plo# Use this cell to generate your qualitative plot\n",
    "..."
   ]
  },
  {
   "cell_type": "markdown",
   "metadata": {},
   "source": [
    "*Replace this text with an analysis of your plot*"
   ]
  },
  {
   "cell_type": "markdown",
   "metadata": {},
   "source": [
    "**Aggregated Data Table:**"
   ]
  },
  {
   "cell_type": "code",
   "execution_count": null,
   "metadata": {},
   "outputs": [],
   "source": [
    "# Use this cell to generate your aggregated data table\n",
    "..."
   ]
  },
  {
   "cell_type": "markdown",
   "metadata": {},
   "source": [
    "*Replace this text with an analysis of your plot*"
   ]
  },
  {
   "cell_type": "markdown",
   "metadata": {},
   "source": [
    "**Table Requiring a Join Operation:**"
   ]
  },
  {
   "cell_type": "code",
   "execution_count": null,
   "metadata": {},
   "outputs": [],
   "source": [
    "# Use this cell to join two datasets\n",
    "..."
   ]
  },
  {
   "cell_type": "markdown",
   "metadata": {},
   "source": [
    "*Replace this text with an analysis of your plot*"
   ]
  },
  {
   "cell_type": "markdown",
   "metadata": {},
   "source": [
    "## Hypothesis Testing\n",
    "\n",
    "**Do not copy code from demo notebooks or homeworks! You may split portions of your code into distinct cells. Also, be sure to\n",
    "set a random seed so that your results are reproducible.**"
   ]
  },
  {
   "cell_type": "code",
   "execution_count": null,
   "metadata": {},
   "outputs": [],
   "source": [
    "# set the random seed so that results are reproducible\n",
    "random.seed(1231)\n",
    "\n",
    "..."
   ]
  },
  {
   "cell_type": "markdown",
   "metadata": {},
   "source": [
    "## Prediction\n",
    "\n",
    "**Be sure to set a random seed so that your results are reproducible.**"
   ]
  },
  {
   "cell_type": "code",
   "execution_count": null,
   "metadata": {},
   "outputs": [],
   "source": [
    "# set the random seed so that results are reproducible\n",
    "random.seed(1231)\n",
    "\n",
    "..."
   ]
  },
  {
   "cell_type": "markdown",
   "metadata": {},
   "source": [
    "## Conclusion\n",
    "\n",
    "*Replace this text with your conclusion*"
   ]
  },
  {
   "cell_type": "markdown",
   "metadata": {},
   "source": [
    "## Presentation\n",
    "\n",
    "*In this section, you'll need to provide a link to your video presentation. If you've uploaded your presentation to YouTube,\n",
    "you can include the URL in the code below. We've provided an example to show you how to do this. Otherwise, provide the link\n",
    "in a markdown cell.*\n",
    "\n",
    "**Link:** *Replace this text with a link to your video presentation*"
   ]
  },
  {
   "cell_type": "code",
   "execution_count": null,
   "metadata": {},
   "outputs": [],
   "source": [
    "# Full Link: https://www.youtube.com/watch?v=BKgdDLrSC5s&feature=emb_logo\n",
    "# Plug in string between \"v=\" and \"\"&feature\":\n",
    "YouTubeVideo('BKgdDLrSC5s')"
   ]
  },
  {
   "cell_type": "markdown",
   "metadata": {},
   "source": [
    "# Submission\n",
    "\n",
    "*Just as with the other assignments in this course, please submit your research notebook to Okpy. We suggest that you\n",
    "submit often so that your progress is saved.*"
   ]
  },
  {
   "cell_type": "code",
   "execution_count": null,
   "metadata": {},
   "outputs": [],
   "source": [
    "# Run this line to submit your work\n",
    "_ = ok.submit()"
   ]
  }
 ],
 "metadata": {
  "kernelspec": {
   "display_name": "Python 3",
   "language": "python",
   "name": "python3"
  },
  "language_info": {
   "codemirror_mode": {
    "name": "ipython",
    "version": 3
   },
   "file_extension": ".py",
   "mimetype": "text/x-python",
   "name": "python",
   "nbconvert_exporter": "python",
   "pygments_lexer": "ipython3",
   "version": "3.7.6"
  }
 },
 "nbformat": 4,
 "nbformat_minor": 4
}

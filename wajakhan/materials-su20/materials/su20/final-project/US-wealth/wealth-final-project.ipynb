{
 "cells": [
  {
   "cell_type": "code",
   "execution_count": null,
   "metadata": {},
   "outputs": [],
   "source": [
    "# modules for research report\n",
    "from datascience import *\n",
    "import numpy as np\n",
    "import random\n",
    "%matplotlib inline\n",
    "import matplotlib.pyplot as plots\n",
    "plots.style.use('fivethirtyeight')\n",
    "\n",
    "# module for YouTube video\n",
    "from IPython.display import YouTubeVideo\n",
    "\n",
    "# okpy config\n",
    "from client.api.notebook import Notebook\n",
    "ok = Notebook('wealth-final-project.ok')\n",
    "_ = ok.auth(inline=True)"
   ]
  },
  {
   "cell_type": "markdown",
   "metadata": {},
   "source": [
    "# Family & Household Wealth in the United States (2009-2013)\n",
    "\n",
    "This dataset was originally published as part of household-specific data from the American Community Survey (ACS) — a yearly, ongoing\n",
    "survey conducted by the U.S. Census Bureau — Public Use Microdata Sample (PUMS). This dataset is taken from the ACS 5-year PUMS,\n",
    "spanning the years 2009-2013, and it has been cleaned for your convenience. All observations and variables not of interest have been\n",
    "removed, and a random sample of the data containing 1,200 entries has been provided. A brief description of the dataset is provided\n",
    "below.\n",
    "\n",
    "**NB: You may not copy any public analyses of this dataset. Doing so will result in a zero.**"
   ]
  },
  {
   "cell_type": "markdown",
   "metadata": {},
   "source": [
    "## Summary\n",
    "\n",
    "The origins of the ACS can be traced back to the mid-20th century. That is, the postwar period in the United States that saw massive\n",
    "population growth and swiftly changing household, urban and rural demographics. Beginning in the 1960s, lawmakers, unable to get\n",
    "actionable data about their rapidly changing communities from the once-every-ten-years Census, started to look for\n",
    "ways to get more immediate information about the people in their districts.\n",
    "\n",
    "It wasn't until the 1990s, however, that plans to get more frequent Census-type data came to fruition. Congress, seeing a drop in\n",
    "Census response rates as a result of its burdensome length, directed the U.S. Census Bureau to develop different ways to get the\n",
    "much needed information. The U.S. Census Bureau, in concert with statisticians from other organizations, eventually developed a\n",
    "yearly survey now known as the ACS. The ACS was officially launched in 2005. \n",
    "\n",
    "According to the [U.S. Census Bureau website](https://www.census.gov/programs-surveys/acs/geography-acs/areas-published.html): \n",
    ">“American Community Survey (ACS) data are tabulated for a variety of different geographic areas ranging in size from broad geographic\n",
    "regions to cities, towns, county subdivisions, and block groups.” \n"
   ]
  },
  {
   "cell_type": "markdown",
   "metadata": {},
   "source": [
    "## Disclaimer\n",
    "\n",
    "At the time this data was collected, the U.S. Census Bureau and the ACS only considered binary, opposite-sex couples in the context of marital status; any time this dataset mentions a married pair or a spouse, it is referring to an opposite-sex couple or partner. This dataset covers the period 2009-2013, when same-sex marriage had not yet been legalized under U.S. federal law, though some states maintained legal same-sex marriage during this time period."
   ]
  },
  {
   "cell_type": "markdown",
   "metadata": {},
   "source": [
    "## Data Description\n",
    "\n",
    "This dataset utilizes the following abbreviations:\n",
    "* `GQ`: group quarters\n",
    "* `Non-Family`: a household that is not associated with any family. If referring to an individual, the respondent is considered a member of group quarters. If referring to a property, the property is considered vacant. \n",
    "\n",
    "This dataset contains three tables, included in the `data` folder:\n",
    "1. `families_data` provides information about characteristics of each household.\n",
    "2. `resources_data` provides information about the resources available to each household.\n",
    "3. `states_data` provides the full names and abbreviations of U.S. states as strings, as well as an integer code for each state that corresponds to the integer codes found in the previous two tables. \n",
    "\n",
    "A description of each table's variables is provided below:\n",
    "1. `families data`:\n",
    "    * `ID`: a unique identifier for each household\n",
    "    * `REGION`: region of the United States \n",
    "    * `DIVISION`: division of the United States, more specific than region\n",
    "    * `STATE`: state of the United States\n",
    "    * `FAMILY INCOME`: yearly income by family, not adjusted for inflation\n",
    "    * `HOUSEHOLD LANGUAGE`: description of the geographic area from which the main household language is originally. The categories for Household Language are as follows: English only, and Other Non-English.\n",
    "    * `HOUSEHOLD INCOME`: yearly income by household, not adjusted for inflation \n",
    "    * `WORKERS IN FAMILY`: number of workers in each family \n",
    "    * `PERSONS IN FAMILY`: number of persons in each family\n",
    "     \n",
    "    \n",
    "\n",
    "2. `resources_data`: \n",
    "    * `ID`: a unique identifier for each household\n",
    "    * `REGION`: region of the United States \n",
    "    * `DIVISION`: division of the United States, more specific than region\n",
    "    * `STATE`: state of the United States \n",
    "    * `MONTHLY RENT`: the monthly rent each renting household is paying. If the property is owned by the household, this value is the string \"Owner\". \n",
    "    * `GROSS MONTHLY RENT`: the gross rent (monthly amount) each renting household is paying. If the property is owned by the household, this value is the string \"Owner\". \n",
    "    * `OCCUPANCY STATUS`: description of the occupancy status for a particular property; for example: “owned free and clear” or “rented.” \n",
    "    * `NUMBER OF VEHICLES`: number of vehicles a particular household has access to. \n",
    "    * `HOUSEHOLD TELEPHONE`: a binary variable, whether or not a household has access to a telephone.\n",
    "    * `PROPERTY VALUE`: The value of property in dollars ($).\n",
    "    \n",
    "    \n",
    "    \n",
    "3. `states_data`:\n",
    "    * `CODE`: number for reference in original table\n",
    "    * `FULL NAME`: full state name\n",
    "    * `ABRV`: abbreviation\n"
   ]
  },
  {
   "cell_type": "markdown",
   "metadata": {},
   "source": [
    "## Note about Non-Family Values\n",
    "\n",
    "Many values in the table below are categorized as \"non-family\" if the census respondent is not part of a family unit (e.g. the respondent\n",
    "resides in group quarters). Our data contains a lot of family-specific data, like `FAMILY INCOME` or `PERSONS IN FAMILY`; it wouldn't\n",
    "make sense for a person who is not part of a family to have responses to those. \n",
    "\n",
    "Non-family respondents, however, account for a significant portion of census data — roughly between 15%-30%, depending on the sample.\n",
    "If you would like to work with the non-family respondent data, we encourage you to consider non-family-dependent variables, like\n",
    "`HOUSEHOLD INCOME` or `PROPERTY VALUE`, among others. If, however, you do not want to work with these variables, we encourage you\n",
    "to filter out these variables (in a process called \"data cleaning\") from your data before you get started. \n",
    "\n",
    "*Hint: if you want to clean your data so that non-family values do not appear, consider filtering using `.where`.*"
   ]
  },
  {
   "cell_type": "markdown",
   "metadata": {},
   "source": [
    "## Inspiration\n",
    "\n",
    "A variety of exploratory analyses, hypothesis tests, and predictions problems can be tackled with this data. Here are a few ideas to get you started:\n",
    "\n",
    "1. Is there a relationship between property value and English-only-speaking households? \n",
    "2. Is there a significant difference in monthly rent for households in the West region of the United States compared to the Northeast region? \n",
    "3. How do rows containing ‘Non-Family’ data compare to responses filled by heads of Families?\n",
    "4. Where is household telephone access limited? How is this associated with various measures of wealth?\n",
    "5. What states and regions have higher or lower vehicle ownership? See `NUMBER OF VEHICLES`.\n",
    "\n",
    "If you'd like to learn more about  wealth in the United States, check out the following resources:\n",
    "1. [Where does your net worth rank in the United States?](https://www.nytimes.com/interactive/2019/08/12/upshot/are-you-rich-where-does-your-net-worth-rank-wealth.html) Data visualization by the *New York Times*. \n",
    "2. Consider taking Wealth & Poverty (PUBPOL C103) with former U.S. Secretary of Labor and current UC Berkeley professor Robert Reich. \n",
    "3. Consider taking Contemporary Theories of Political Economy (POLECON 101) with Professor Khalid Kadir (it's Data 8 GSI Maya's favorite class at Berkeley!).\n",
    "\n",
    "*Credit to Prof. Lexin Li, and his course Big Data: A Public Health Perspective (PBHLTH 244), for introducing the Data 8 staff to this dataset. Feel free to ask him about your path to upper division and graduate level biostatistics courses at UC Berkeley.* \n",
    "\n",
    "Don't forget to review the [Final Project Guidelines](https://docs.google.com/document/d/1NuHDYTdWGwhPNRov8Y3I8y6R7Rbyf-WDOfQwovD-gmw/edit?usp=sharing) for a complete list of requirements."
   ]
  },
  {
   "cell_type": "markdown",
   "metadata": {},
   "source": [
    "## Preview"
   ]
  },
  {
   "cell_type": "code",
   "execution_count": null,
   "metadata": {},
   "outputs": [],
   "source": [
    "families_data = Table.read_table('data/families.csv').relabel(4, 'FAMILY INCOME').relabel(6, 'HOUSEHOLD INCOME')\n",
    "families_data"
   ]
  },
  {
   "cell_type": "code",
   "execution_count": null,
   "metadata": {},
   "outputs": [],
   "source": [
    "resources_data = Table.read_table('data/resources.csv').relabel(4, 'PROPERTY VALUE').relabel(5, 'MONTHLY RENT').relabel(6, 'GROSS MONTHLY RENT')\n",
    "resources_data"
   ]
  },
  {
   "cell_type": "code",
   "execution_count": null,
   "metadata": {},
   "outputs": [],
   "source": [
    "states_data = Table.read_table('data/states.csv')\n",
    "states_data"
   ]
  },
  {
   "cell_type": "markdown",
   "metadata": {},
   "source": [
    "<br>\n",
    "\n",
    "# Research Report"
   ]
  },
  {
   "cell_type": "markdown",
   "metadata": {},
   "source": [
    "## Introduction\n",
    "\n",
    "*Replace this text with your introduction*"
   ]
  },
  {
   "cell_type": "markdown",
   "metadata": {},
   "source": [
    "## Hypothesis Testing and Prediction Questions\n",
    "\n",
    "**Please bold your hypothesis testing and prediction questions.**\n",
    "\n",
    "*Replace this text with your hypothesis testing and prediction questions*"
   ]
  },
  {
   "cell_type": "markdown",
   "metadata": {},
   "source": [
    "## Exploratory Data Analysis\n",
    "\n",
    "**You may change the order of the plots and tables.**"
   ]
  },
  {
   "cell_type": "markdown",
   "metadata": {},
   "source": [
    "**Quantitative Plot:**"
   ]
  },
  {
   "cell_type": "code",
   "execution_count": null,
   "metadata": {},
   "outputs": [],
   "source": [
    "# Use this cell to generate your quantitative plot\n",
    "..."
   ]
  },
  {
   "cell_type": "markdown",
   "metadata": {},
   "source": [
    "*Replace this text with an analysis of your plot*"
   ]
  },
  {
   "cell_type": "markdown",
   "metadata": {},
   "source": [
    "**Qualitative Plot:**"
   ]
  },
  {
   "cell_type": "code",
   "execution_count": null,
   "metadata": {},
   "outputs": [],
   "source": [
    "# Use this cell to generate your qualitative plo# Use this cell to generate your qualitative plot\n",
    "..."
   ]
  },
  {
   "cell_type": "markdown",
   "metadata": {},
   "source": [
    "*Replace this text with an analysis of your plot*"
   ]
  },
  {
   "cell_type": "markdown",
   "metadata": {},
   "source": [
    "**Aggregated Data Table:**"
   ]
  },
  {
   "cell_type": "code",
   "execution_count": null,
   "metadata": {},
   "outputs": [],
   "source": [
    "# Use this cell to generate your aggregated data table\n",
    "..."
   ]
  },
  {
   "cell_type": "markdown",
   "metadata": {},
   "source": [
    "*Replace this text with an analysis of your plot*"
   ]
  },
  {
   "cell_type": "markdown",
   "metadata": {},
   "source": [
    "**Table Requiring a Join Operation:**"
   ]
  },
  {
   "cell_type": "code",
   "execution_count": null,
   "metadata": {},
   "outputs": [],
   "source": [
    "# Use this cell to join two datasets\n",
    "..."
   ]
  },
  {
   "cell_type": "markdown",
   "metadata": {},
   "source": [
    "*Replace this text with an analysis of your plot*"
   ]
  },
  {
   "cell_type": "markdown",
   "metadata": {},
   "source": [
    "## Hypothesis Testing\n",
    "\n",
    "**Do not copy code from demo notebooks or homeworks! You may split portions of your code into distinct cells. Also, be sure to\n",
    "set a random seed so that your results are reproducible.**"
   ]
  },
  {
   "cell_type": "code",
   "execution_count": null,
   "metadata": {},
   "outputs": [],
   "source": [
    "# set the random seed so that results are reproducible\n",
    "random.seed(1231)\n",
    "\n",
    "..."
   ]
  },
  {
   "cell_type": "markdown",
   "metadata": {},
   "source": [
    "## Prediction\n",
    "\n",
    "**Be sure to set a random seed so that your results are reproducible.**"
   ]
  },
  {
   "cell_type": "code",
   "execution_count": null,
   "metadata": {},
   "outputs": [],
   "source": [
    "# set the random seed so that results are reproducible\n",
    "random.seed(1231)\n",
    "\n",
    "..."
   ]
  },
  {
   "cell_type": "markdown",
   "metadata": {},
   "source": [
    "## Conclusion\n",
    "\n",
    "*Replace this text with your conclusion*"
   ]
  },
  {
   "cell_type": "markdown",
   "metadata": {},
   "source": [
    "## Presentation\n",
    "\n",
    "*In this section, you'll need to provide a link to your video presentation. If you've uploaded your presentation to YouTube,\n",
    "you can include the URL in the code below. We've provided an example to show you how to do this. Otherwise, provide the link\n",
    "in a markdown cell.*\n",
    "\n",
    "**Link:** *Replace this text with a link to your video presentation*"
   ]
  },
  {
   "cell_type": "code",
   "execution_count": null,
   "metadata": {},
   "outputs": [],
   "source": [
    "# Full Link: https://www.youtube.com/watch?v=BKgdDLrSC5s&feature=emb_logo\n",
    "# Plug in string between \"v=\" and \"\"&feature\":\n",
    "YouTubeVideo('BKgdDLrSC5s')"
   ]
  },
  {
   "cell_type": "markdown",
   "metadata": {},
   "source": [
    "# Submission\n",
    "\n",
    "*Just as with the other assignments in this course, please submit your research notebook to Okpy. We suggest that you\n",
    "submit often so that your progress is saved.*"
   ]
  },
  {
   "cell_type": "code",
   "execution_count": null,
   "metadata": {},
   "outputs": [],
   "source": [
    "# Run this line to submit your work\n",
    "_ = ok.submit()"
   ]
  }
 ],
 "metadata": {
  "kernelspec": {
   "display_name": "Python 3",
   "language": "python",
   "name": "python3"
  },
  "language_info": {
   "codemirror_mode": {
    "name": "ipython",
    "version": 3
   },
   "file_extension": ".py",
   "mimetype": "text/x-python",
   "name": "python",
   "nbconvert_exporter": "python",
   "pygments_lexer": "ipython3",
   "version": "3.8.2"
  }
 },
 "nbformat": 4,
 "nbformat_minor": 4
}

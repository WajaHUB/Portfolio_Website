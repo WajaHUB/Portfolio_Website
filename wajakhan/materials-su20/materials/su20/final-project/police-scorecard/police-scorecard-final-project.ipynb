{
 "cells": [
  {
   "cell_type": "code",
   "execution_count": null,
   "metadata": {},
   "outputs": [],
   "source": [
    "# modules for research report\n",
    "from datascience import *\n",
    "import numpy as np\n",
    "import random\n",
    "%matplotlib inline\n",
    "import matplotlib.pyplot as plots\n",
    "plots.style.use('fivethirtyeight')\n",
    "\n",
    "# module for YouTube video\n",
    "from IPython.display import YouTubeVideo\n",
    "\n",
    "# okpy config\n",
    "from client.api.notebook import Notebook\n",
    "ok = Notebook('police-scorecard-final-project.ok')\n",
    "_ = ok.auth(inline=True)"
   ]
  },
  {
   "cell_type": "markdown",
   "metadata": {},
   "source": [
    "# California Police Scorecard\n",
    "\n",
    "This dataset combines data from [8 Can't Wait](https://8cantwait.org/) and [Campaign Zero](https://www.joincampaignzero.org/#vision)\n",
    "on Californian police departments. It has been cleaned for your convenience: all missing values have been removed, and low-quality\n",
    "observations and variables have been filtered out. A brief descriptive summary of the dataset is provided below.\n",
    "\n",
    "**NB: You may not copy any public analyses of this dataset. Doing so will result in a zero.**"
   ]
  },
  {
   "cell_type": "markdown",
   "metadata": {},
   "source": [
    "## Summary\n",
    "\n",
    "> The **California Police Scorecard** features data from 2016-2018 regarding police department performance and policies in all 58 California counties (with information about multiple police departments per county). We split the data into three datasets: **an arrests dataset, an accountability dataset, and a demographic dataset**. \n",
    "\n",
    "> The **arrests data** (157 rows, 26 columns) quantifies police shootings, uses of force, arrests (with information about race) and homicides, budget, and more. The **accountability data** (157 rows, 17 columns) marks what policies are in place (1: yes, 0: no) for police departments to hold their police officers accountable. The **demographic data** (157 rows, 16 columns) provides race and economic information about the citizens in a police district to contextualize police behavior in their respective communities. \n",
    "\n",
    "> The dataset has also recently expanded to include information about Sheriffs’ Departments, the operator of county jails, which has the same metrics used to evaluate police departments. \n",
    "\n",
    "For a quick glance of how each police department is performing, **Campaign Zero has rated the departments in three areas of policing: police violence, police accountability, and approach to policing**. They have averaged these scores to provide an **overall score** (the higher, the better) that summarizes the departments’ performance in those three areas. Notably, **the majority of police departments have received an ‘F’ grade**, indicating excess levels of lethal force, injured civilians, incidence of racial bias, over policing, complaints sustained, etc. You can read more about the methodology and formula used to compute the scores here: https://policescorecard.org/about. \n",
    "\n",
    "Lastly, **we recommend exploring the Campaign Zero analysis - https://policescorecard.org/ - of the scorecard data to see what work has already been done and serve as inspiration for your own data project**. Campaign Zero’s mission is to end police brutality in America by implementing research-backed policy solutions. From Campaign Zero: ‘The scorecard is designed to help communities, researchers, police leaders and policy-makers take informed action to reduce police use of force and improve accountability and public safety in their jurisdictions.’ Furthermore, this is an opportunity to apply the skills you’ve learned in Data 8 to social justice topics if you’ve felt moved to tackle systemic racism and police brutality in America. \n",
    "\n"
   ]
  },
  {
   "cell_type": "markdown",
   "metadata": {},
   "source": [
    "## Data Description\n",
    "\n",
    "This dataset consists of three tables stored in the `data` folder:\n",
    "1. `police-demographic`: provides basic demographic and economic information about the people living within each police department’s jurisdiction\n",
    "2. `police-arrests` provides information about the number of arrests and shootings that occured within ech police department\n",
    "3. `police_accountability` provides information about the level of accountability for each police department as a result of county laws or police union agreements\n",
    "\n",
    "A description of each table's variables is provided below:\n",
    "\n",
    "`police-demographic`:\n",
    "- `Region of California`: Region of California (Northern, Central, Southern) where the police district is located\n",
    "- `Total Population`:\tTotal number of people living in the police district\n",
    "- `White Population`:\tTotal number identified as White in the police district\n",
    "- `Black Population`:\tTotal number identified as Black in the police district\n",
    "- `Hispanic Population`:\tTotal number identified as Hispanic in the police district\n",
    "- `Native American Population`:\tTotal number identified as Native American in the police district\n",
    "- `Asian Population`:\tTotal number identified as Asian in the police district\n",
    "- `Pacific Islander Population`:\tTotal number identified as Pacific Islander in the police district\n",
    "- `Other Population`:\tTotal number not identified as any of the races above in the police district\n",
    "- `Multiracial Population`:\tTotal number identified as multiracial in the police district\n",
    "- `Percent HS Graduates in Jurisdiction`:\tPercent of the population in the police district who graduated from high school\n",
    "- `Unemployment Rate`:\tUnemployment rate in 2018\n",
    "- `Median Income`:\tMedian income in 2018\n",
    "- `Poverty Rate`:\tWhat percent of the population living in the police district is under the US poverty line (earning below \\\\$12,490 per year) in 2018?\n",
    "\n",
    "\n",
    "\n",
    "`police-arrests`:\n",
    "- `Overall Score`:\tAverage of Police Violence Score, Accountability Score, Approach to Policing. More information can be found in the links below.\n",
    "- `Police Violence Score`:\tAverage of Percentile Less Lethal Force Used per Arrest, Percentile Deadly Force Used per Arrest, Percentile Unarmed Civilians Killed or Seriously Injured, Percentile Racial Bias in Arrests and Deadly Force. More information can be found in the links below.\n",
    "- `Police Accountability Score`:\t$\\dfrac{2}{3} \\cdot$ Percentile Civilian Complains Sustained + $\\dfrac{1}{6} \\cdot $ Percent Discrimination and Excessive Force Complains Sustained + $\\dfrac{1}{6} \\cdot$ Percent Criminal Complaints Sustained. More information can be found in the links below.\n",
    "- `Approach to Policing Score`:\tAverage of Percentile Misdemeanor Arrests per Population, Percent Homicides Cleared. More information can be found in the links below.\n",
    "- `People Killed or Seriously Injured by Police, 2016-2018`:\tTotal number of people killed or seriously injured by police between 2016 to 2018\n",
    "- `Percent who Did Not Reportedly Have a Gun`:\tOf all incidents were people were killed or seriously injured by police between 2016 to 2018, what percent reportedly did not have a gun?\n",
    "- `Percent Who were Confirmed Unarmed`: Of all incidents were people were killed or seriously injured by police between 2016 to 2018, what percent were confirmed unarmed?\n",
    "- `People Deadly Force Used Against Who were Perceived to Have a Gun`: Of all incidents where deadly force was used, how many people were perceived to have a gun?\n",
    "- `People Deadly Force Used Against Who were Confirmed with a Gun`:\tOf all incidents where deadly force was used, how many people were confirmed to have a gun?\n",
    "- `2016 Police Shootings`: Number of police shootings in 2016\n",
    "- `2017 Police Shootings`: Number of police shootings in 2017\n",
    "- `2018 Police Shootings`: Number of police shootings in 2018\n",
    "- `Total Arrests, 2016-2018`:\tTotal number of arrests made between 2016 to 2018\n",
    "- `Homicides (2013-2018)`:\tTotal number of homicides from 2013 to 2018\n",
    "- `percent_police_budget`:\tThe percent of the county’s total budget that goes towards the police\n",
    "- `Log of police_budget`:\tThe police’s budget from 2018 in US\\\\$, after being log transformed. The actual police budget can be retrieved using the following formula: $\\exp \\left ( {\\text{Log of police_budget}} \\right )$\n",
    "- `Asian/Pacific Islander Drug Possession Arrests, 2016`:\tTotal number of Asian/Pacific Islander drug possession arrests in 2016\n",
    "- `Black Drug Possession Arrests, 2016`:\tTotal number of Black drug possession arrests in 2016\n",
    "- `Hispanic Drug Possession Arrests, 2016`:\tTotal number of Hispanic drug possession arrests in 2016\n",
    "- `Unknown Race Drug Possession Arrests, 2016`:\tTotal number of drug possession arrests in 2016 by people of an unknown race\n",
    "- `Other Race Drug Possession Arrests, 2016`:\tTotal number of drug possession arrests in 2016 by people of other race\n",
    "- `White Drug Possession Arrests, 2016`:\tTotal number of White drug possession arrests in 2016\n",
    "\n",
    "`police-accountability`:\n",
    "- `disqualifies_complaints`:\tDoes language in the police union contract disqualify misconduct complaints that are submitted too many days after an incident occurs or if an investigation takes too long to complete?\n",
    "- `restricts_delays_interrogations`:\tDoes language in the police union contract prevent officers from being interrogated immediately after being involved in an incident or otherwise restricts how, when or where they can be interrogated?\n",
    "- `gives_officers_unfair_access_to_information`:\tDoes language in the police union contract grant officers access to information civilians don’t get prior to being interrogated?\n",
    "- `limits_oversight_discipline`:\tDoes language in the police union contract limit disciplinary consequences or otherwise hinder the capacity of civilian oversight structures or the media to hold police accountable?\n",
    "- `requires_city_pay_for_misconduct`:\tDoes language in the police union contract require cities to pay costs related to police misconduct? This includes giving officers paid leave while under investigation or paying legal fees and/or the cost of settlements.\n",
    "- `erases_misconduct_records`:\tDoes language in the police union contract prevent information on past misconduct investigations from being recorded or retained in an officer’s personal file?\n",
    "- `requires_deescalation`:\tDoes language in the police’s use of force policies require officers to de-escalate situations by communicating with subjects, maintaining distance or otherwise eliminating the need to use force?\n",
    "- `bans_chokeholds_and_strangleholds`:\tDoes language in the police’s use of force policies ban the use of chokeholds and strangleholds against civilians?\n",
    "- `duty_to_intervene`:\tDoes language in the police’s use of force policies require officers to intervene and stop excessive force used by other officers and reports these incidents to their supervisor?\n",
    "- `requires_warning_before_shooting`:\tDoes language in the police’s use of force policies require officers to give a verbal warning, when possible, before shooting a civilian?\n",
    "- `restricts_shooting_at_moving_vehicles`:\tDoes language in the police’s use of force policies restrict officers from shooting at moving vehicles?\n",
    "- `requires_comprehensive_reporting`:\tDoes language in the police’s use of force policies require officers to report each time they use force or threaten to use force against civilians?\n",
    "- `requires_exhaust_all_other_means_before_shooting`:\tDoes language in the police’s use of force policies require officers to exhaust all other reasonable means before resorting to deadly force?\n",
    "- `has_use_of_force_continuum`:\tDoes language in the police’s use of force policies have a force continuum that limits the types of force and/or weapons that can be used to respond to specific types of resistance?"
   ]
  },
  {
   "cell_type": "markdown",
   "metadata": {},
   "source": [
    "Additionally, here are some important definitions referenced in the variable descriptions above:\n",
    "- Less Lethal Force: The total number of uses of tasers, batons, projectiles, pepper spray, other weapons and strangleholds against civilians.\n",
    "\n",
    "- Civilian complaints: the total number of complaints, by type of complaint, reported by civilians against law enforcement personnel from 2016-2018.\n",
    "\n",
    "- Deadly Force: All firearms discharges and all use of force incidents resulting in the death or serious injury of a civilian."
   ]
  },
  {
   "cell_type": "markdown",
   "metadata": {},
   "source": [
    "Last, the sources used for the data and descriptions. It is recommended that if you are confused about any of the descriptions, then you should take a look at the links below:\n",
    "- http://useofforceproject.org/?sa=D&ust=1553928833132000#project\n",
    "- https://policescorecard.org/about\n",
    "- https://www.checkthepolice.org/?sa=D&ust=1553928833132000#project"
   ]
  },
  {
   "cell_type": "markdown",
   "metadata": {},
   "source": [
    "## Inspiration\n",
    "A variety of exploratory analyses, hypothesis tests, and prediction problems can be tackled with this data. Here are a few ideas to get you started:\n",
    "\n",
    "1. What is the trend over time for police shootings?\n",
    "2. Are there geographic trends regarding violence and force used by police or sheriffs' departments?\n",
    "3. Is there a statistically significant difference in the distribution of drug arrests for Blacks, Hispanics, Asians, Whites, etc?\n",
    "4. What, if any, correlations exist between police policies/budget and civilians seriously injured or shot by officers in police departments? \n",
    "5. What is the impact of graduation and poverty rates on the amount or types of crime in a city?\n",
    "6. Can you predict the overall policing score from police budgets, arrests, or amounts of deadly force used?\n",
    "\n",
    "The data sources websites may also provide some inspiration:\n",
    "- [8 Can't Wait](https://8cantwait.org/)\n",
    "- [Campaign Zero](https://www.joincampaignzero.org/#vision)\n",
    "\n",
    "The analysis of police data has fueled media campaigns advocating for policies that increase police accountability and reduce police\n",
    "violence. We're excited to see what creativity you can bring to this growing discussion.\n",
    "\n",
    "Don't forget to review the [Final Project Guidelines](https://docs.google.com/document/d/1NuHDYTdWGwhPNRov8Y3I8y6R7Rbyf-WDOfQwovD-gmw/edit?usp=sharing) for a complete list of requirements."
   ]
  },
  {
   "cell_type": "markdown",
   "metadata": {},
   "source": [
    "## Preview\n",
    "\n",
    "The tables are loaded in the code cells below. Take some time to explore them!"
   ]
  },
  {
   "cell_type": "code",
   "execution_count": null,
   "metadata": {},
   "outputs": [],
   "source": [
    "#Load the arrests data. \n",
    "arrests = Table().read_table('data/police-arrests.csv')\n",
    "print('The arrests dataset has {} rows and {} columns.'.format(arrests.num_rows, arrests.num_columns))\n",
    "arrests.show(5)"
   ]
  },
  {
   "cell_type": "code",
   "execution_count": null,
   "metadata": {},
   "outputs": [],
   "source": [
    "#Load the accountability data\n",
    "accountability = Table().read_table('data/police-accountability.csv')\n",
    "print('The accountability dataset has {} rows and {} columns.'.format(accountability.num_rows, accountability.num_columns))\n",
    "accountability.show(5)"
   ]
  },
  {
   "cell_type": "code",
   "execution_count": null,
   "metadata": {},
   "outputs": [],
   "source": [
    "#Load the demographic data\n",
    "demographic = Table().read_table('data/police-demographic.csv')\n",
    "print('The demographic dataset has {} rows and {} columns.'.format(demographic.num_rows, demographic.num_columns))\n",
    "demographic.show(5)"
   ]
  },
  {
   "cell_type": "markdown",
   "metadata": {},
   "source": [
    "<br>\n",
    "\n",
    "# Research Report"
   ]
  },
  {
   "cell_type": "markdown",
   "metadata": {},
   "source": [
    "## Introduction\n",
    "\n",
    "*Replace this text with your introduction*"
   ]
  },
  {
   "cell_type": "markdown",
   "metadata": {},
   "source": [
    "## Hypothesis Testing and Prediction Questions\n",
    "\n",
    "**Please bold your hypothesis testing and prediction questions.**\n",
    "\n",
    "*Replace this text with your hypothesis testing and prediction questions*"
   ]
  },
  {
   "cell_type": "markdown",
   "metadata": {},
   "source": [
    "## Exploratory Data Analysis\n",
    "\n",
    "**You may change the order of the plots and tables.**"
   ]
  },
  {
   "cell_type": "markdown",
   "metadata": {},
   "source": [
    "**Quantitative Plot:**"
   ]
  },
  {
   "cell_type": "code",
   "execution_count": null,
   "metadata": {},
   "outputs": [],
   "source": [
    "# Use this cell to generate your quantitative plot\n",
    "..."
   ]
  },
  {
   "cell_type": "markdown",
   "metadata": {},
   "source": [
    "*Replace this text with an analysis of your plot*"
   ]
  },
  {
   "cell_type": "markdown",
   "metadata": {},
   "source": [
    "**Qualitative Plot:**"
   ]
  },
  {
   "cell_type": "code",
   "execution_count": null,
   "metadata": {},
   "outputs": [],
   "source": [
    "# Use this cell to generate your qualitative plo# Use this cell to generate your qualitative plot\n",
    "..."
   ]
  },
  {
   "cell_type": "markdown",
   "metadata": {},
   "source": [
    "*Replace this text with an analysis of your plot*"
   ]
  },
  {
   "cell_type": "markdown",
   "metadata": {},
   "source": [
    "**Aggregated Data Table:**"
   ]
  },
  {
   "cell_type": "code",
   "execution_count": null,
   "metadata": {},
   "outputs": [],
   "source": [
    "# Use this cell to generate your aggregated data table\n",
    "..."
   ]
  },
  {
   "cell_type": "markdown",
   "metadata": {},
   "source": [
    "*Replace this text with an analysis of your plot*"
   ]
  },
  {
   "cell_type": "markdown",
   "metadata": {},
   "source": [
    "**Table Requiring a Join Operation:**"
   ]
  },
  {
   "cell_type": "code",
   "execution_count": null,
   "metadata": {},
   "outputs": [],
   "source": [
    "# Use this cell to join two datasets\n",
    "..."
   ]
  },
  {
   "cell_type": "markdown",
   "metadata": {},
   "source": [
    "*Replace this text with an analysis of your plot*"
   ]
  },
  {
   "cell_type": "markdown",
   "metadata": {},
   "source": [
    "## Hypothesis Testing\n",
    "\n",
    "**Do not copy code from demo notebooks or homeworks! You may split portions of your code into distinct cells. Also, be sure to\n",
    "set a random seed so that your results are reproducible.**"
   ]
  },
  {
   "cell_type": "code",
   "execution_count": null,
   "metadata": {},
   "outputs": [],
   "source": [
    "# set the random seed so that results are reproducible\n",
    "random.seed(1231)\n",
    "\n",
    "..."
   ]
  },
  {
   "cell_type": "markdown",
   "metadata": {},
   "source": [
    "## Prediction\n",
    "\n",
    "**Be sure to set a random seed so that your results are reproducible.**"
   ]
  },
  {
   "cell_type": "code",
   "execution_count": null,
   "metadata": {},
   "outputs": [],
   "source": [
    "# set the random seed so that results are reproducible\n",
    "random.seed(1231)\n",
    "\n",
    "..."
   ]
  },
  {
   "cell_type": "markdown",
   "metadata": {},
   "source": [
    "## Conclusion\n",
    "\n",
    "*Replace this text with your conclusion*"
   ]
  },
  {
   "cell_type": "markdown",
   "metadata": {},
   "source": [
    "## Presentation\n",
    "\n",
    "*In this section, you'll need to provide a link to your video presentation. If you've uploaded your presentation to YouTube,\n",
    "you can include the URL in the code below. We've provided an example to show you how to do this. Otherwise, provide the link\n",
    "in a markdown cell.*\n",
    "\n",
    "**Link:** *Replace this text with a link to your video presentation*"
   ]
  },
  {
   "cell_type": "code",
   "execution_count": null,
   "metadata": {},
   "outputs": [],
   "source": [
    "# Full Link: https://www.youtube.com/watch?v=BKgdDLrSC5s&feature=emb_logo\n",
    "# Plug in string between \"v=\" and \"\"&feature\":\n",
    "YouTubeVideo('BKgdDLrSC5s')"
   ]
  },
  {
   "cell_type": "markdown",
   "metadata": {},
   "source": [
    "# Submission\n",
    "\n",
    "*Just as with the other assignments in this course, please submit your research notebook to Okpy. We suggest that you\n",
    "submit often so that your progress is saved.*"
   ]
  },
  {
   "cell_type": "code",
   "execution_count": null,
   "metadata": {},
   "outputs": [],
   "source": [
    "# Run this line to submit your work\n",
    "_ = ok.submit()"
   ]
  }
 ],
 "metadata": {
  "kernelspec": {
   "display_name": "Python 3",
   "language": "python",
   "name": "python3"
  },
  "language_info": {
   "codemirror_mode": {
    "name": "ipython",
    "version": 3
   },
   "file_extension": ".py",
   "mimetype": "text/x-python",
   "name": "python",
   "nbconvert_exporter": "python",
   "pygments_lexer": "ipython3",
   "version": "3.7.6"
  }
 },
 "nbformat": 4,
 "nbformat_minor": 4
}

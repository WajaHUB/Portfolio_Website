{
 "cells": [
  {
   "cell_type": "code",
   "execution_count": null,
   "metadata": {
    "colab": {},
    "colab_type": "code",
    "id": "LC1immT_KIuH"
   },
   "outputs": [],
   "source": [
    "# modules for research report\n",
    "from datascience import *\n",
    "import numpy as np\n",
    "import random\n",
    "%matplotlib inline\n",
    "import matplotlib.pyplot as plots\n",
    "plots.style.use('fivethirtyeight')\n",
    "\n",
    "# module for YouTube video\n",
    "from IPython.display import YouTubeVideo\n",
    "\n",
    "# okpy config\n",
    "from client.api.notebook import Notebook\n",
    "ok = Notebook('hr-final-project.ok')\n",
    "_ = ok.auth(inline=True)"
   ]
  },
  {
   "cell_type": "markdown",
   "metadata": {
    "colab_type": "text",
    "id": "zumbdRgjKIuL"
   },
   "source": [
    "# 2020 Human Resources Data Set\n",
    "\n",
    "This dataset is provided by Dr. Carla Patalano and Dr. Rich Huebner. It has been cleaned for your convenience: all missing values have been removed, and low-quality observations and\n",
    "variables have been filtered out. A brief descriptive summary of the dataset is provided below.\n",
    "\n",
    "**NB: You may not copy any public analyses of this dataset. Doing so will result in a zero.**"
   ]
  },
  {
   "cell_type": "markdown",
   "metadata": {
    "colab_type": "text",
    "id": "zXluhiiPKIuM"
   },
   "source": [
    "## Summary\n",
    "\n",
    "> Human resource management exists within every professional space to maintain a viable working environment. Understanding the performance of the employees can provide insight to\n",
    "how the company functions. It is essential for the HR department to analyze the profile of the company. For example, employee's unexpected termination could result in huge loss\n",
    "of the company. If the company can predict who is going to terminate and who isn’t, the compnay can be better prepared.  Also for employees, having access to the human resources\n",
    "data can help them to fight agaist unfair treatment at work such as low payrate. The unfair treatment can possibly be brought by race, citizenship, marital status and gender.\n",
    "Dr. Carla Patalano and Dr. Rich provided stimulation data for data scientists to explore and visualize data that could be important for the company and the employees.\n"
   ]
  },
  {
   "cell_type": "markdown",
   "metadata": {
    "colab_type": "text",
    "id": "qoth-nZfKIuM"
   },
   "source": [
    "## Data Description\n",
    "\n",
    "\n",
    "A description of each table's variables is provided below:\n",
    "\n",
    "`emp_info.csv`:\n",
    "* `EmpID`: Employee ID is unique to each employee\n",
    "* `DeptID`: Department ID code that matches the department the employee works in (1 for Admin Offices; 2 for Executive Office; 3 for IT/IS; 4 for Software Engineering; 5 for Production; 6 for Sales) \n",
    "* `PerfScoreID`: Performance Score code that matches the employee’s most recent performance score (1 for PIP; 2 for Needs Improvement; 3 for Fully Meets; 4 for Exceeds) \n",
    "* `PayRate`: The person’s hourly pay rate. All salaries are converted to hourly pay rate\n",
    "* `Termd`: Has this employee been terminated (1 or 0 for yes or no)\n",
    "* `Position`: The text name/title of the position the person has\n",
    "* `EngagementSurvey`: Results from the last engagement survey, managed by our external partner\n",
    "* `EmpSatisfaction`: A basic satisfaction score between 1 and 5, as reported on a recent employee satisfaction survey\n",
    "* `SpecialProjectsCount`: The number of special projects that the employee worked on during the last 6 months\n",
    "* `DaysLateLast30`: The number of times that the employee was late to work during the last 30 days\n",
    "\n",
    "`personal_info.csv`:\n",
    "* `Employee Name`: employee's full name\n",
    "* `EmpID`: Employee ID is unique to each employee\n",
    "* `MarriedID`: Is the person married (1 or 0 for yes or no)\n",
    "* `GenderID`: 0 for female and 1 for male\n",
    "* `State`: The state that the person lives in"
   ]
  },
  {
   "cell_type": "markdown",
   "metadata": {
    "colab_type": "text",
    "id": "XvO4V_uXKIuN"
   },
   "source": [
    "## Inspiration\n",
    "\n",
    "A variety of exploratory analyses, hypothesis tests, and predictions problems can tackled with this data. Here are a few ideas to get\n",
    "you started:\n",
    "1. Is there any relationship between department and median performance scores?\n",
    "2. Is there a relationship between marital status and the person's payrate? \n",
    "3. Is there an association between gender and payrates?\n",
    "4. Can we predict the payrate, engagement or employee satisfaction using other variables provided?\n",
    "\n",
    "Don't forget to review the [Final Project Guidelines](https://docs.google.com/document/d/1NuHDYTdWGwhPNRov8Y3I8y6R7Rbyf-WDOfQwovD-gmw/edit?usp=sharing) for a complete list of requirements."
   ]
  },
  {
   "cell_type": "markdown",
   "metadata": {
    "colab_type": "text",
    "id": "BkXl4jFRKIuN"
   },
   "source": [
    "## Preview\n",
    "\n",
    "The tables are loaded in the code cells below. Take some time to explore them!"
   ]
  },
  {
   "cell_type": "code",
   "execution_count": null,
   "metadata": {
    "colab": {},
    "colab_type": "code",
    "id": "gfgZgmhtKIuO",
    "outputId": "758c70fe-f2b9-4782-8dac-3ec1ecea56e1"
   },
   "outputs": [],
   "source": [
    "# load the personal info data\n",
    "personal_info = Table.read_table('data/personal_info.csv')\n",
    "personal_info"
   ]
  },
  {
   "cell_type": "code",
   "execution_count": null,
   "metadata": {
    "colab": {},
    "colab_type": "code",
    "id": "O7QDWar5KIuR",
    "outputId": "8e2e97d6-f770-40c0-af0f-8529c33116b9"
   },
   "outputs": [],
   "source": [
    "# load the employmentinfo data\n",
    "emp_info = Table.read_table('data/emp_info.csv')\n",
    "emp_info"
   ]
  },
  {
   "cell_type": "markdown",
   "metadata": {},
   "source": [
    "<br>\n",
    "\n",
    "# Research Report"
   ]
  },
  {
   "cell_type": "markdown",
   "metadata": {},
   "source": [
    "## Introduction\n",
    "\n",
    "*Replace this text with your introduction*"
   ]
  },
  {
   "cell_type": "markdown",
   "metadata": {},
   "source": [
    "## Hypothesis Testing and Prediction Questions\n",
    "\n",
    "**Please bold your hypothesis testing and prediction questions.**\n",
    "\n",
    "*Replace this text with your hypothesis testing and prediction questions*"
   ]
  },
  {
   "cell_type": "markdown",
   "metadata": {},
   "source": [
    "## Exploratory Data Analysis\n",
    "\n",
    "**You may change the order of the plots and tables.**"
   ]
  },
  {
   "cell_type": "markdown",
   "metadata": {},
   "source": [
    "**Quantitative Plot:**"
   ]
  },
  {
   "cell_type": "code",
   "execution_count": null,
   "metadata": {},
   "outputs": [],
   "source": [
    "# Use this cell to generate your quantitative plot\n",
    "..."
   ]
  },
  {
   "cell_type": "markdown",
   "metadata": {},
   "source": [
    "*Replace this text with an analysis of your plot*"
   ]
  },
  {
   "cell_type": "markdown",
   "metadata": {},
   "source": [
    "**Qualitative Plot:**"
   ]
  },
  {
   "cell_type": "code",
   "execution_count": null,
   "metadata": {},
   "outputs": [],
   "source": [
    "# Use this cell to generate your qualitative plo# Use this cell to generate your qualitative plot\n",
    "..."
   ]
  },
  {
   "cell_type": "markdown",
   "metadata": {},
   "source": [
    "*Replace this text with an analysis of your plot*"
   ]
  },
  {
   "cell_type": "markdown",
   "metadata": {},
   "source": [
    "**Aggregated Data Table:**"
   ]
  },
  {
   "cell_type": "code",
   "execution_count": null,
   "metadata": {},
   "outputs": [],
   "source": [
    "# Use this cell to generate your aggregated data table\n",
    "..."
   ]
  },
  {
   "cell_type": "markdown",
   "metadata": {},
   "source": [
    "*Replace this text with an analysis of your plot*"
   ]
  },
  {
   "cell_type": "markdown",
   "metadata": {},
   "source": [
    "**Table Requiring a Join Operation:**"
   ]
  },
  {
   "cell_type": "code",
   "execution_count": null,
   "metadata": {},
   "outputs": [],
   "source": [
    "# Use this cell to join two datasets\n",
    "..."
   ]
  },
  {
   "cell_type": "markdown",
   "metadata": {},
   "source": [
    "*Replace this text with an analysis of your plot*"
   ]
  },
  {
   "cell_type": "markdown",
   "metadata": {},
   "source": [
    "## Hypothesis Testing\n",
    "\n",
    "**Do not copy code from demo notebooks or homeworks! You may split portions of your code into distinct cells. Also, be sure to\n",
    "set a random seed so that your results are reproducible.**"
   ]
  },
  {
   "cell_type": "code",
   "execution_count": null,
   "metadata": {},
   "outputs": [],
   "source": [
    "# set the random seed so that results are reproducible\n",
    "random.seed(1231)\n",
    "\n",
    "..."
   ]
  },
  {
   "cell_type": "markdown",
   "metadata": {},
   "source": [
    "## Prediction\n",
    "\n",
    "**Be sure to set a random seed so that your results are reproducible.**"
   ]
  },
  {
   "cell_type": "code",
   "execution_count": null,
   "metadata": {},
   "outputs": [],
   "source": [
    "# set the random seed so that results are reproducible\n",
    "random.seed(1231)\n",
    "\n",
    "..."
   ]
  },
  {
   "cell_type": "markdown",
   "metadata": {},
   "source": [
    "## Conclusion\n",
    "\n",
    "*Replace this text with your conclusion*"
   ]
  },
  {
   "cell_type": "markdown",
   "metadata": {},
   "source": [
    "## Presentation\n",
    "\n",
    "*In this section, you'll need to provide a link to your video presentation. If you've uploaded your presentation to YouTube,\n",
    "you can include the URL in the code below. We've provided an example to show you how to do this. Otherwise, provide the link\n",
    "in a markdown cell.*\n",
    "\n",
    "**Link:** *Replace this text with a link to your video presentation*"
   ]
  },
  {
   "cell_type": "code",
   "execution_count": null,
   "metadata": {},
   "outputs": [],
   "source": [
    "# Full Link: https://www.youtube.com/watch?v=BKgdDLrSC5s&feature=emb_logo\n",
    "# Plug in string between \"v=\" and \"\"&feature\":\n",
    "YouTubeVideo('BKgdDLrSC5s')"
   ]
  },
  {
   "cell_type": "markdown",
   "metadata": {},
   "source": [
    "# Submission\n",
    "\n",
    "*Just as with the other assignments in this course, please submit your research notebook to Okpy. We suggest that you\n",
    "submit often so that your progress is saved.*"
   ]
  },
  {
   "cell_type": "code",
   "execution_count": null,
   "metadata": {},
   "outputs": [],
   "source": [
    "# Run this line to submit your work\n",
    "_ = ok.submit()"
   ]
  }
 ],
 "metadata": {
  "colab": {
   "name": "description.ipynb",
   "provenance": []
  },
  "kernelspec": {
   "display_name": "Python 3",
   "language": "python",
   "name": "python3"
  },
  "language_info": {
   "codemirror_mode": {
    "name": "ipython",
    "version": 3
   },
   "file_extension": ".py",
   "mimetype": "text/x-python",
   "name": "python",
   "nbconvert_exporter": "python",
   "pygments_lexer": "ipython3",
   "version": "3.7.6"
  }
 },
 "nbformat": 4,
 "nbformat_minor": 4
}

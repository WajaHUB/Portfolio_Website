{
 "cells": [
  {
   "cell_type": "code",
   "execution_count": null,
   "metadata": {},
   "outputs": [],
   "source": [
    "# modules for research report\n",
    "from datascience import *\n",
    "import numpy as np\n",
    "import random\n",
    "%matplotlib inline\n",
    "import matplotlib.pyplot as plots\n",
    "plots.style.use('fivethirtyeight')\n",
    "\n",
    "# module for YouTube video\n",
    "from IPython.display import YouTubeVideo"
   ]
  },
  {
   "cell_type": "markdown",
   "metadata": {},
   "source": [
    "# 2016 Global Ecological Footprint – Prediction Examples\n",
    "\n",
    "This dataset was originally published on [Kaggle.com](https://www.kaggle.com/footprintnetwork/ecological-footprint). It has been\n",
    "cleaned for your convenience: all missing values have been removed, and low-quality observations and variables have been filtered\n",
    "out. A brief descriptive summary of the dataset, originally posted on the dataset's Kaggle landing page, is provided below.\n",
    "\n",
    "### Summary\n",
    "\n",
    "> The ecological footprint measures the ecological assets that a given population requires to produce the natural resources it\n",
    " consumes (including plant-based food and fiber products, livestock and fish products, timber and other forest products, space for\n",
    " urban infrastructure) and to absorb its waste, especially carbon emissions. The footprint tracks the use of six categories of\n",
    " productive surface areas: cropland, grazing land, fishing grounds, built-up (or urban) land, forest area, and carbon demand on land.\n",
    "\n",
    "> A nation’s biocapacity represents the productivity of its ecological assets, including cropland, grazing land, forest land, fishing\n",
    " grounds, and built-up land. These areas, especially if left unharvested, can also absorb much of the waste we generate, especially\n",
    " our carbon emissions.\n",
    " \n",
    "> Both the ecological footprint and biocapacity are expressed in global hectares — globally comparable, standardized hectares with\n",
    " world average productivity.\n",
    "\n",
    "> If a population’s ecological footprint exceeds the region’s biocapacity, that region runs an ecological deficit. Its demand for the\n",
    " goods and services that its land and seas can provide — fruits and vegetables, meat, fish, wood, cotton for clothing, and carbon dioxide\n",
    " absorption — exceeds what the region’s ecosystems can renew. A region in ecological deficit meets demand by importing, liquidating its\n",
    " own ecological assets (such as overfishing), and/or emitting carbon dioxide into the atmosphere. If a region’s biocapacity exceeds its\n",
    " ecological footprint, it has an ecological reserve.\n",
    " \n",
    "> The ecological footprint measure was conceived by Mathis Wackernagel and William Rees at the University of British Columbia. Ecological\n",
    " footprint data was provided by the Global Footprint Network.\n",
    " \n",
    "### Data Description\n",
    "\n",
    "This dataset consists of two tables stored in the `data` folder:\n",
    "1. `ecological-info` provides information on a countries' ecological footprint.\n",
    "2. `economic-info` contains a limited amount of economic and geographical data for all countries listed in `ecological-info`.\n",
    "\n",
    "A description of each table's variables is provided below:\n",
    "\n",
    "`ecological-info`:\n",
    "* `Country`: country name\n",
    "* `Grazing Footprint`: grazing footprint in standardized hectares\n",
    "* `Cropland Footprint`: cropland footprint in standardized hectares\n",
    "* `Forest Footprint`: forest footprint in standardized hectares\n",
    "* `Fish Footprint`: fishing footprint in standardized hectares\n",
    "* `Carbon Footprint`: carbon footprint in standardized hectares\n",
    "* `Total Ecological Footprint`: total ecological footprint, standardized\n",
    "* `Grazing Land`: grazing land in standardized hectares\n",
    "* `Cropland Land`: cropland land in standardized hectares\n",
    "* `Forest Land`: forest land standardized hectares\n",
    "* `Fishing Water`: fishing water in standardized hectares\n",
    "* `Urban Land`: urban land in standardized hectares\n",
    "* `Total Biocapacity`: total biocapacity in standardized hectares\n",
    "* `Biocapacity Deficit or Reserve`: difference between total biocapacity and total ecological footprint\n",
    "* `Earths Required`: The number of planet Earths required if the average human consumed as much the average citizen of this country\n",
    "\n",
    "`econ-info`:\n",
    "* `Country`: country name\n",
    "* `Region`: country region\n",
    "* `Continent`: continent where country is located\n",
    "* `Log Population (millions)`: log transformed population in millions (2016)\n",
    "* `HDI`: Human development index (HDI)\n",
    "* `HDI Rating`: Binarized HDI (\"High or Very High\": HDI > 0.7; \"Medium or Low\": HDI < 0.7)\n",
    "* `Log GDP per Capita`: log transformed gross domestic product per capita, in USD\n",
    "\n",
    "\n",
    "The tables are loaded in the code cells below. Take some time to explore them!"
   ]
  },
  {
   "cell_type": "code",
   "execution_count": null,
   "metadata": {},
   "outputs": [],
   "source": [
    "# load the economic data\n",
    "economic_data = Table.read_table('economic-info')\n",
    "economic_data"
   ]
  },
  {
   "cell_type": "code",
   "execution_count": null,
   "metadata": {},
   "outputs": [],
   "source": [
    "# load the ecological data\n",
    "ecological_data  = Table.read_table('ecological-info')\n",
    "ecological_data"
   ]
  },
  {
   "cell_type": "markdown",
   "metadata": {},
   "source": [
    "## Prediction #1"
   ]
  },
  {
   "cell_type": "markdown",
   "metadata": {},
   "source": [
    "We'll fit a linear regression to our ecological footprint data to determine if countries' 'Biocapacity Deficit or\n",
    "Reserve' can be accurately predicted based on their 'Log GDP per Capita'. We fit the linear regression model\n",
    "using the methods taught in class, and then we evaluate whether our model accurately reflects reality by studying our\n",
    "prediction's residuals."
   ]
  },
  {
   "cell_type": "code",
   "execution_count": null,
   "metadata": {},
   "outputs": [],
   "source": [
    "# define the functions needed to fit the linear regression\n",
    "def standard_units(array_of_num):\n",
    "    \"\"\"Converts a numeric array to standard units.\"\"\"\n",
    "    standardized_array = (array_of_num - np.mean(array_of_num)) / np.std(array_of_num)\n",
    "    return standardized_array\n",
    "\n",
    "def correlation(tbl, var1, var2):\n",
    "    \"\"\"Computes the correlation coefficient of two variables\"\"\"\n",
    "    r = np.mean(standard_units(tbl.column(var1)) * standard_units(tbl.column(var2)))\n",
    "    return r\n",
    "\n",
    "def slope(tbl, x, y):\n",
    "    \"\"\"Compute the slope of the regression line. x is the independent variable, y the depenent variable.\"\"\"\n",
    "    r = correlation(tbl, x, y)\n",
    "    m = r * np.std(tbl.column(y)) / np.std(tbl.column(x))\n",
    "    return m\n",
    "\n",
    "def intercept(tbl, x, y):\n",
    "    \"\"\"Compute the intercept of the regression line. x is the independent variable, y the depenent variable.\"\"\"\n",
    "    b = np.mean(tbl.column(y)) - slope(tbl, x, y) * np.mean(tbl.column(x))\n",
    "    return b\n",
    "\n",
    "def linear_fit(tbl, x, y):\n",
    "    m = slope(tbl, x, y)\n",
    "    b = intercept(tbl, x, y)\n",
    "    return m * tbl.column(x) + b"
   ]
  },
  {
   "cell_type": "code",
   "execution_count": null,
   "metadata": {},
   "outputs": [],
   "source": [
    "# join the tables\n",
    "full_data = economic_data.join('Country', ecological_data)"
   ]
  },
  {
   "cell_type": "code",
   "execution_count": null,
   "metadata": {},
   "outputs": [],
   "source": [
    "# compute the correlation between the two variables - this would go in the Exploration section as a quantitative plot\n",
    "correlation(full_data, 'Log GDP per Capita', 'Biocapacity Deficit or Reserve')"
   ]
  },
  {
   "cell_type": "code",
   "execution_count": null,
   "metadata": {},
   "outputs": [],
   "source": [
    "# scatter plot of the variables - this would go in the Exploration section as a quantitative plot\n",
    "full_data.scatter('Log GDP per Capita', 'Biocapacity Deficit or Reserve')"
   ]
  },
  {
   "cell_type": "code",
   "execution_count": null,
   "metadata": {},
   "outputs": [],
   "source": [
    "# fit the linear regression, store results in table\n",
    "linear_regression_results = Table().with_columns(\n",
    "    'Log GDP per Capita', full_data.column('Log GDP per Capita'),\n",
    "    'Biocapacity Deficit or Reserve', full_data.column('Biocapacity Deficit or Reserve'),\n",
    "    'Fitted Values', linear_fit(full_data, 'Log GDP per Capita', 'Biocapacity Deficit or Reserve')\n",
    ")\n",
    "\n",
    "# plot the fitted results agains the true Biocapacity Deficit and Rerserves\n",
    "linear_regression_results.scatter('Log GDP per Capita')"
   ]
  },
  {
   "cell_type": "code",
   "execution_count": null,
   "metadata": {},
   "outputs": [],
   "source": [
    "# compute the residuals of our linear regression model\n",
    "linear_regression_results = linear_regression_results.with_column(\n",
    "    'Residuals', linear_regression_results.column(1) - linear_regression_results.column(2)\n",
    ")\n",
    "linear_regression_results.scatter('Log GDP per Capita', 'Residuals')"
   ]
  },
  {
   "cell_type": "markdown",
   "metadata": {},
   "source": [
    "These variables are very weakly, negatively correlated (r = -0.223). Further, the\n",
    "scatter plots of the fitted values and of the residuals suggest a non-linear relationship between these two variables.\n",
    "As the log GDP per capita of the countries in our sample increase, the values of Biocapacity Deficit or Reserve begin to fluctuate\n",
    "erratically about zero. A more complex model is needed to accurately explain the variation in a countries Biocapacity Reserve\n",
    "or Deficit."
   ]
  },
  {
   "cell_type": "markdown",
   "metadata": {},
   "source": [
    "## Prediction #2"
   ]
  },
  {
   "cell_type": "markdown",
   "metadata": {},
   "source": [
    "Now that we've covered how to report a \"failed\" application of linear regression – that is, when you find that the variables that you're\n",
    "interested in aren't linearly related - we can look at what a successful application of this method might look like.\n",
    "\n",
    "Let's turn our attention to the relationship between the Log GDP per capita of a country and its\n",
    "[Human Development Index](http://hdr.undp.org/en/content/human-development-index-hdi) (HDI). In\n",
    "particular, we're interested in whether we can predict the HDI of a country not contained in our sample based on it's log GDP per\n",
    "capita. These two variables are numerical, so we will apply a linear regression in an attempt to solve this problem."
   ]
  },
  {
   "cell_type": "code",
   "execution_count": null,
   "metadata": {},
   "outputs": [],
   "source": [
    "# first, let's explore the relationship between these two variables - this would go in the Exploration section as a quantitative plot\n",
    "full_data.scatter('Log GDP per Capita', 'HDI')"
   ]
  },
  {
   "cell_type": "code",
   "execution_count": null,
   "metadata": {},
   "outputs": [],
   "source": [
    "# what is the correlation between these two variables - this would go in the Exploration section as a quantitative plot\n",
    "correlation(full_data, 'Log GDP per Capita', 'HDI')"
   ]
  },
  {
   "cell_type": "code",
   "execution_count": null,
   "metadata": {},
   "outputs": [],
   "source": [
    "# fit the linear regression, store results in table\n",
    "linear_regression_results = Table().with_columns(\n",
    "    'Log GDP per Capita', full_data.column('Log GDP per Capita'),\n",
    "    'HDI', full_data.column('HDI'),\n",
    "    'Fitted Values', linear_fit(full_data, 'Log GDP per Capita', 'HDI')\n",
    ")\n",
    "\n",
    "# plot the fitted results agains the true Biocapacity Deficit and Rerserves\n",
    "linear_regression_results.scatter('Log GDP per Capita')"
   ]
  },
  {
   "cell_type": "code",
   "execution_count": null,
   "metadata": {},
   "outputs": [],
   "source": [
    "# compute the residuals of our linear regression model\n",
    "linear_regression_results = linear_regression_results.with_column(\n",
    "    'Residuals', linear_regression_results.column(1) - linear_regression_results.column(2)\n",
    ")\n",
    "linear_regression_results.scatter('Log GDP per Capita', 'Residuals')\n",
    "linear_regression_results.scatter('HDI', 'Residuals')"
   ]
  },
  {
   "cell_type": "markdown",
   "metadata": {},
   "source": [
    "*(These diagnostics suggest that the relationship is linear. We can go ahead and interpret these results.)*"
   ]
  },
  {
   "cell_type": "code",
   "execution_count": null,
   "metadata": {},
   "outputs": [],
   "source": [
    "# what is the slope of this linear regression?\n",
    "slope(full_data, 'Log GDP per Capita', 'HDI')"
   ]
  },
  {
   "cell_type": "code",
   "execution_count": null,
   "metadata": {},
   "outputs": [],
   "source": [
    "# prediction function\n",
    "def predict_hdi(log_gdp):\n",
    "    m = slope(full_data, 'Log GDP per Capita', 'HDI')\n",
    "    b = intercept(full_data, 'Log GDP per Capita', 'HDI')\n",
    "    return m * log_gdp + b"
   ]
  },
  {
   "cell_type": "code",
   "execution_count": null,
   "metadata": {},
   "outputs": [],
   "source": [
    "# want to predict the HDI of the Republic of Ireland\n",
    "log_gdp_ireland = np.log(71921.72) # taken from World Bank\n",
    "ireland_prediction =  predict_hdi(log_gdp_ireland)\n",
    "ireland_prediction"
   ]
  },
  {
   "cell_type": "code",
   "execution_count": null,
   "metadata": {},
   "outputs": [],
   "source": [
    "# measure error\n",
    "actual_HDI_2015 = 0.923 # taken from UN report in 2016\n",
    "error = actual_HDI_2015 - ireland_prediction\n",
    "error"
   ]
  },
  {
   "cell_type": "markdown",
   "metadata": {},
   "source": [
    "Based on the scatter plots of the \"Log GDP per Capita\" versus \"HDI\" and \"Log GDP per Capita\" vs \"Residuals\", there is evidence to\n",
    "suggest that the relationship between the variables of interest is linear. Our linear regression suggests that for every unit\n",
    "increase in log GDP per capita, the average country's HDI increases by 0.097. One caveat of this predictive model is that the HDI\n",
    "has a range of 0 to 1. Some countries with extremely small or large log GDP per capitas might produce estimated HDIs not contained\n",
    "in this range.\n",
    "\n",
    "Given our positive results, we used this method to predict the HDI of a country not contained in a dataset: The Republic of Ireland.\n",
    "The GDP per capita of this country was reported to be \\$71,921.72 by the\n",
    "[World Bank](https://data.worldbank.org/indicator/NY.GDP.PCAP.PP.CD?locations=IE-GB). We computed the log of this value, and used it\n",
    "to estimate its HDI. Our linear regression procedure estimated an HDI of 0.935, which is very close to its actual value of 0.923 in 2016.\n",
    "The true HDI was reported by the\n",
    "[United Nation's Human Development Report of 2016](http://hdr.undp.org/sites/default/files/2016_human_development_report.pdf). This\n",
    "provides further evidence that our linear regression provides a reasonable approximation of the true relationship between a country's\n",
    "log GDP per capita and its HDI."
   ]
  }
 ],
 "metadata": {
  "kernelspec": {
   "display_name": "Python 3",
   "language": "python",
   "name": "python3"
  },
  "language_info": {
   "codemirror_mode": {
    "name": "ipython",
    "version": 3
   },
   "file_extension": ".py",
   "mimetype": "text/x-python",
   "name": "python",
   "nbconvert_exporter": "python",
   "pygments_lexer": "ipython3",
   "version": "3.8.2"
  }
 },
 "nbformat": 4,
 "nbformat_minor": 4
}

{
 "cells": [
  {
   "cell_type": "code",
   "execution_count": 173,
   "metadata": {},
   "outputs": [],
   "source": [
    "from datascience import *\n",
    "import numpy as np\n",
    "\n",
    "%matplotlib inline\n",
    "import matplotlib.pyplot as plt\n",
    "plots.style.use('fivethirtyeight')"
   ]
  },
  {
   "cell_type": "code",
   "execution_count": 143,
   "metadata": {},
   "outputs": [],
   "source": [
    "# Write a function to order months in sequential order, sort table on new variable\n",
    "def get_month_as_num(month):\n",
    "    if month == \"Jan\":\n",
    "        return 1\n",
    "    elif month == \"Feb\":\n",
    "        return 2\n",
    "    elif month == \"Mar\":\n",
    "        return 3\n",
    "    elif month == \"Apr\":\n",
    "        return 4\n",
    "    elif month == \"May\":\n",
    "        return 5\n",
    "    else:\n",
    "        return 0"
   ]
  },
  {
   "cell_type": "markdown",
   "metadata": {},
   "source": [
    "# Data Exploration: Hypothesis Testing"
   ]
  },
  {
   "cell_type": "code",
   "execution_count": 110,
   "metadata": {},
   "outputs": [
    {
     "data": {
      "text/html": [
       "<table border=\"1\" class=\"dataframe\">\n",
       "    <thead>\n",
       "        <tr>\n",
       "            <th>Jurisdiction</th> <th>Year</th> <th>Month</th> <th>New registered voters</th>\n",
       "        </tr>\n",
       "    </thead>\n",
       "    <tbody>\n",
       "        <tr>\n",
       "            <td>Arizona     </td> <td>2016</td> <td>Jan  </td> <td>25852                </td>\n",
       "        </tr>\n",
       "        <tr>\n",
       "            <td>Arizona     </td> <td>2016</td> <td>Feb  </td> <td>51155                </td>\n",
       "        </tr>\n",
       "        <tr>\n",
       "            <td>Arizona     </td> <td>2016</td> <td>Mar  </td> <td>48614                </td>\n",
       "        </tr>\n",
       "        <tr>\n",
       "            <td>Arizona     </td> <td>2016</td> <td>Apr  </td> <td>30668                </td>\n",
       "        </tr>\n",
       "        <tr>\n",
       "            <td>Arizona     </td> <td>2020</td> <td>Jan  </td> <td>33229                </td>\n",
       "        </tr>\n",
       "    </tbody>\n",
       "</table>\n",
       "<p>... (101 rows omitted)</p>"
      ],
      "text/plain": [
       "<IPython.core.display.HTML object>"
      ]
     },
     "metadata": {},
     "output_type": "display_data"
    }
   ],
   "source": [
    "# Load the data\n",
    "new_voters_original = Table.read_table(\"new-voter-registrations.csv\")\n",
    "new_voters_original.show(5)"
   ]
  },
  {
   "cell_type": "markdown",
   "metadata": {},
   "source": [
    "### Generate table to represent voter registration as two samples"
   ]
  },
  {
   "cell_type": "code",
   "execution_count": 141,
   "metadata": {},
   "outputs": [
    {
     "data": {
      "text/html": [
       "<table border=\"1\" class=\"dataframe\">\n",
       "    <thead>\n",
       "        <tr>\n",
       "            <th>Jurisdiction</th> <th>Month</th> <th>2016 New Voters</th> <th>2020 New Voters</th>\n",
       "        </tr>\n",
       "    </thead>\n",
       "    <tbody>\n",
       "        <tr>\n",
       "            <td>Arizona     </td> <td>Apr  </td> <td>30668          </td> <td>10249          </td>\n",
       "        </tr>\n",
       "        <tr>\n",
       "            <td>Arizona     </td> <td>Feb  </td> <td>51155          </td> <td>50853          </td>\n",
       "        </tr>\n",
       "        <tr>\n",
       "            <td>Arizona     </td> <td>Jan  </td> <td>25852          </td> <td>33229          </td>\n",
       "        </tr>\n",
       "        <tr>\n",
       "            <td>Arizona     </td> <td>Mar  </td> <td>48614          </td> <td>31872          </td>\n",
       "        </tr>\n",
       "        <tr>\n",
       "            <td>California  </td> <td>Apr  </td> <td>185478         </td> <td>38970          </td>\n",
       "        </tr>\n",
       "    </tbody>\n",
       "</table>\n",
       "<p>... (48 rows omitted)</p>"
      ],
      "text/plain": [
       "<IPython.core.display.HTML object>"
      ]
     },
     "metadata": {},
     "output_type": "display_data"
    }
   ],
   "source": [
    "# Compare counts of new voters between 2016 and 2020\n",
    "# .join() shows months order alphabetically, hard to view trends across time\n",
    "new_voters_2016 = new_voters_original.where(\"Year\", 2016).relabel(\"New registered voters\", \"2016 New Voters\").drop(\"Year\")\n",
    "new_voters_2020 = new_voters_original.where(\"Year\", 2020).relabel(\"New registered voters\", \"2020 New Voters\").drop(\"Year\")\n",
    "new_voters = new_voters_2016.join([\"Jurisdiction\", \"Month\"], new_voters_2020)\n",
    "new_voters.show(5)"
   ]
  },
  {
   "cell_type": "code",
   "execution_count": 142,
   "metadata": {},
   "outputs": [
    {
     "data": {
      "text/html": [
       "<table border=\"1\" class=\"dataframe\">\n",
       "    <thead>\n",
       "        <tr>\n",
       "            <th>Jurisdiction</th> <th>Month</th> <th>2016 New Voters</th> <th>2020 New Voters</th>\n",
       "        </tr>\n",
       "    </thead>\n",
       "    <tbody>\n",
       "        <tr>\n",
       "            <td>Arizona     </td> <td>Jan  </td> <td>25852          </td> <td>33229          </td>\n",
       "        </tr>\n",
       "        <tr>\n",
       "            <td>Arizona     </td> <td>Feb  </td> <td>51155          </td> <td>50853          </td>\n",
       "        </tr>\n",
       "        <tr>\n",
       "            <td>Arizona     </td> <td>Mar  </td> <td>48614          </td> <td>31872          </td>\n",
       "        </tr>\n",
       "        <tr>\n",
       "            <td>Arizona     </td> <td>Apr  </td> <td>30668          </td> <td>10249          </td>\n",
       "        </tr>\n",
       "        <tr>\n",
       "            <td>California  </td> <td>Jan  </td> <td>87574          </td> <td>151595         </td>\n",
       "        </tr>\n",
       "        <tr>\n",
       "            <td>California  </td> <td>Feb  </td> <td>103377         </td> <td>238281         </td>\n",
       "        </tr>\n",
       "        <tr>\n",
       "            <td>California  </td> <td>Mar  </td> <td>174278         </td> <td>176810         </td>\n",
       "        </tr>\n",
       "        <tr>\n",
       "            <td>California  </td> <td>Apr  </td> <td>185478         </td> <td>38970          </td>\n",
       "        </tr>\n",
       "        <tr>\n",
       "            <td>Colorado    </td> <td>Jan  </td> <td>17024          </td> <td>20260          </td>\n",
       "        </tr>\n",
       "        <tr>\n",
       "            <td>Colorado    </td> <td>Feb  </td> <td>20707          </td> <td>33374          </td>\n",
       "        </tr>\n",
       "    </tbody>\n",
       "</table>\n",
       "<p>... (43 rows omitted)</p>"
      ],
      "text/plain": [
       "Jurisdiction | Month | 2016 New Voters | 2020 New Voters\n",
       "Arizona      | Jan   | 25852           | 33229\n",
       "Arizona      | Feb   | 51155           | 50853\n",
       "Arizona      | Mar   | 48614           | 31872\n",
       "Arizona      | Apr   | 30668           | 10249\n",
       "California   | Jan   | 87574           | 151595\n",
       "California   | Feb   | 103377          | 238281\n",
       "California   | Mar   | 174278          | 176810\n",
       "California   | Apr   | 185478          | 38970\n",
       "Colorado     | Jan   | 17024           | 20260\n",
       "Colorado     | Feb   | 20707           | 33374\n",
       "... (43 rows omitted)"
      ]
     },
     "execution_count": 142,
     "metadata": {},
     "output_type": "execute_result"
    }
   ],
   "source": [
    "new_voters = new_voters.with_column(\"num_month\", new_voters.apply(get_month_as_num, \"Month\"))\n",
    "new_voters = new_voters.sort(\"num_month\").sort(0).drop(\"num_month\")\n",
    "new_voters"
   ]
  },
  {
   "cell_type": "markdown",
   "metadata": {},
   "source": [
    "### Generate table to represent voter registration as categorical data"
   ]
  },
  {
   "cell_type": "code",
   "execution_count": 147,
   "metadata": {},
   "outputs": [
    {
     "data": {
      "text/html": [
       "<table border=\"1\" class=\"dataframe\">\n",
       "    <thead>\n",
       "        <tr>\n",
       "            <th>Month</th> <th>2016 Distribution</th> <th>2020 Distribution</th>\n",
       "        </tr>\n",
       "    </thead>\n",
       "    <tbody>\n",
       "        <tr>\n",
       "            <td>Jan  </td> <td>0.171847         </td> <td>0.282518         </td>\n",
       "        </tr>\n",
       "        <tr>\n",
       "            <td>Feb  </td> <td>0.255664         </td> <td>0.338101         </td>\n",
       "        </tr>\n",
       "        <tr>\n",
       "            <td>Mar  </td> <td>0.269627         </td> <td>0.254904         </td>\n",
       "        </tr>\n",
       "        <tr>\n",
       "            <td>Apr  </td> <td>0.245353         </td> <td>0.0851027        </td>\n",
       "        </tr>\n",
       "        <tr>\n",
       "            <td>May  </td> <td>0.0575093        </td> <td>0.0393746        </td>\n",
       "        </tr>\n",
       "    </tbody>\n",
       "</table>"
      ],
      "text/plain": [
       "Month | 2016 Distribution | 2020 Distribution\n",
       "Jan   | 0.171847          | 0.282518\n",
       "Feb   | 0.255664          | 0.338101\n",
       "Mar   | 0.269627          | 0.254904\n",
       "Apr   | 0.245353          | 0.0851027\n",
       "May   | 0.0575093         | 0.0393746"
      ]
     },
     "execution_count": 147,
     "metadata": {},
     "output_type": "execute_result"
    }
   ],
   "source": [
    "new_voters_grouped = new_voters.group(\"Month\", sum)    \n",
    "new_voters_grouped = new_voters_grouped.with_column(\"num_month\", new_voters_grouped.apply(get_month_as_num, \"Month\"))\n",
    "new_voters_grouped = new_voters_grouped.sort(\"num_month\").drop(\"num_month\")\n",
    "tvd_tbl = new_voters_grouped.select(\"Month\").\\\n",
    "            with_columns(\"2016 Distribution\", new_voters_grouped.column(2)/sum(new_voters_grouped.column(2)),\n",
    "                         \"2020 Distribution\", new_voters_grouped.column(3)/sum(new_voters_grouped.column(3)))\n",
    "\n",
    "tvd_tbl"
   ]
  },
  {
   "cell_type": "markdown",
   "metadata": {},
   "source": [
    "### Conduct hypothesis test using TVD as a test statistic"
   ]
  },
  {
   "cell_type": "code",
   "execution_count": 149,
   "metadata": {},
   "outputs": [
    {
     "data": {
      "text/plain": [
       "0.1931079252193249"
      ]
     },
     "execution_count": 149,
     "metadata": {},
     "output_type": "execute_result"
    }
   ],
   "source": [
    "def tvd(dist1, dist2):\n",
    "    return sum(abs(dist1 - dist2))/2\n",
    "\n",
    "obs_tvd = tvd(tvd_tbl.column(\"2016 Distribution\"), tvd_tbl.column(\"2020 Distribution\"))\n",
    "obs_tvd"
   ]
  },
  {
   "cell_type": "code",
   "execution_count": 167,
   "metadata": {},
   "outputs": [
    {
     "data": {
      "text/plain": [
       "array([0.17205524, 0.25566476, 0.26929215, 0.24574086, 0.057247  ])"
      ]
     },
     "execution_count": 167,
     "metadata": {},
     "output_type": "execute_result"
    }
   ],
   "source": [
    "null_model = tvd_tbl.column(\"2016 Distribution\")\n",
    "sample_size = sum(new_voters_original.where(\"Year\", 2020).column(\"New registered voters\"))\n",
    "\n",
    "sample_proportions(sample_size, null_model)"
   ]
  },
  {
   "cell_type": "code",
   "execution_count": 194,
   "metadata": {},
   "outputs": [
    {
     "data": {
      "image/png": "[encoded data removed]",
      "text/plain": [
       "<Figure size 432x288 with 1 Axes>"
      ]
     },
     "metadata": {},
     "output_type": "display_data"
    }
   ],
   "source": [
    "tvds = make_array()\n",
    "\n",
    "for i in np.arange(1000):\n",
    "    simulated_dist = sample_proportions(sample_size, null_model)\n",
    "    simulated_tvd = tvd(simulated_dist, null_model)\n",
    "    tvds = np.append(tvds, simulated_tvd)\n",
    "    \n",
    "Table().with_column(\"Sim TVDS\", tvds).hist(bins = np.arange(0, 0.0015, 0.00015))\n",
    "#plt.scatter(obs_tvd, 0, color='red', s=30); # plot the observed test statistic"
   ]
  }
 ],
 "metadata": {
  "kernelspec": {
   "display_name": "Python 3",
   "language": "python",
   "name": "python3"
  },
  "language_info": {
   "codemirror_mode": {
    "name": "ipython",
    "version": 3
   },
   "file_extension": ".py",
   "mimetype": "text/x-python",
   "name": "python",
   "nbconvert_exporter": "python",
   "pygments_lexer": "ipython3",
   "version": "3.7.6"
  }
 },
 "nbformat": 4,
 "nbformat_minor": 4
}

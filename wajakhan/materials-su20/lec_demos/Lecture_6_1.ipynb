{
 "cells": [
  {
   "cell_type": "code",
   "execution_count": null,
   "metadata": {},
   "outputs": [],
   "source": [
    "from datascience import *\n",
    "import numpy as np\n",
    "%matplotlib inline\n",
    "import matplotlib.pyplot as plots\n",
    "plots.style.use('fivethirtyeight')"
   ]
  },
  {
   "cell_type": "markdown",
   "metadata": {},
   "source": [
    "## Linear Trends"
   ]
  },
  {
   "cell_type": "code",
   "execution_count": null,
   "metadata": {},
   "outputs": [],
   "source": [
    "exam = Table.read_table('exams_fa18.csv')\n",
    "exam"
   ]
  },
  {
   "cell_type": "code",
   "execution_count": null,
   "metadata": {
    "scrolled": true
   },
   "outputs": [],
   "source": [
    "np.mean(exam.column(\"Midterm\")), np.mean(exam.column(\"Final\"))"
   ]
  },
  {
   "cell_type": "code",
   "execution_count": null,
   "metadata": {},
   "outputs": [],
   "source": [
    "np.std(exam.column(\"Midterm\")), np.std(exam.column(\"Final\"))"
   ]
  },
  {
   "cell_type": "code",
   "execution_count": null,
   "metadata": {},
   "outputs": [],
   "source": [
    "exam.scatter(\"Midterm\", \"Final\")"
   ]
  },
  {
   "cell_type": "markdown",
   "metadata": {},
   "source": [
    "## Standard Units"
   ]
  },
  {
   "cell_type": "code",
   "execution_count": null,
   "metadata": {},
   "outputs": [],
   "source": [
    "def standard_units(array_of_numbers):\n",
    "    \"Convert any array of numbers to standard units.\"\n",
    "    return (array_of_numbers - np.average(array_of_numbers)) / np.std(array_of_numbers)\n",
    "\n",
    "midterm_standard_units = standard_units(exam.column(\"Midterm\"))\n",
    "final_standard_units = standard_units(exam.column(\"Final\"))"
   ]
  },
  {
   "cell_type": "code",
   "execution_count": null,
   "metadata": {},
   "outputs": [],
   "source": [
    "np.mean(midterm_standard_units), np.mean(final_standard_units)"
   ]
  },
  {
   "cell_type": "code",
   "execution_count": null,
   "metadata": {},
   "outputs": [],
   "source": [
    "np.std(midterm_standard_units), np.std(final_standard_units)"
   ]
  },
  {
   "cell_type": "code",
   "execution_count": null,
   "metadata": {},
   "outputs": [],
   "source": [
    "Table().with_columns(\"Midterm (Standard Units)\", midterm_standard_units,\n",
    "                     \"Final (Standard Units)\", final_standard_units).scatter(0, 1)"
   ]
  },
  {
   "cell_type": "markdown",
   "metadata": {},
   "source": [
    "## Correlation"
   ]
  },
  {
   "cell_type": "code",
   "execution_count": null,
   "metadata": {},
   "outputs": [],
   "source": [
    "def r_scatter(r):\n",
    "    plots.figure(figsize=(5,5))\n",
    "    \"Generate a scatter plot with a correlation approximately r\"\n",
    "    x = np.random.normal(0, 1, 1000)\n",
    "    z = np.random.normal(0, 1, 1000)\n",
    "    y = r*x + (np.sqrt(1-r**2))*z\n",
    "    plots.scatter(x, y, color='darkblue', s=20)\n",
    "    plots.xlim(-4, 4)\n",
    "    plots.ylim(-4, 4)"
   ]
  },
  {
   "cell_type": "code",
   "execution_count": null,
   "metadata": {},
   "outputs": [],
   "source": [
    "r_scatter(0)"
   ]
  },
  {
   "cell_type": "code",
   "execution_count": null,
   "metadata": {},
   "outputs": [],
   "source": [
    "r_scatter(1)"
   ]
  },
  {
   "cell_type": "code",
   "execution_count": null,
   "metadata": {},
   "outputs": [],
   "source": [
    "r_scatter(0.7)"
   ]
  },
  {
   "cell_type": "code",
   "execution_count": null,
   "metadata": {},
   "outputs": [],
   "source": [
    "r = np.mean(midterm_standard_units * final_standard_units)\n",
    "r"
   ]
  },
  {
   "cell_type": "markdown",
   "metadata": {},
   "source": [
    "## Linear Regression"
   ]
  },
  {
   "cell_type": "code",
   "execution_count": null,
   "metadata": {},
   "outputs": [],
   "source": [
    "midterm_mean = np.mean(exam.column(\"Midterm\"))\n",
    "midterm_std = np.std(exam.column(\"Midterm\"))\n",
    "\n",
    "final_mean = np.mean(exam.column(\"Final\"))\n",
    "final_std = np.std(exam.column(\"Final\"))\n",
    "\n",
    "regression_slope = r * (final_std / midterm_std)\n",
    "regression_intercept = final_mean - regression_slope * midterm_mean\n",
    "\n",
    "print(\"Regression Equation:\")\n",
    "print(\"\\tFinal = \" + str(round(regression_slope, 3)) + \" * Midterm + \" + str(round(regression_intercept, 3)))"
   ]
  },
  {
   "cell_type": "code",
   "execution_count": null,
   "metadata": {},
   "outputs": [],
   "source": [
    "def predict_final_score(midterm_score):\n",
    "    midterm_mean = np.mean(exam.column(\"Midterm\"))\n",
    "    midterm_std = np.std(exam.column(\"Midterm\"))\n",
    "\n",
    "    final_mean = np.mean(exam.column(\"Final\"))\n",
    "    final_std = np.std(exam.column(\"Final\"))\n",
    "\n",
    "    regression_slope = r * (final_std / midterm_std)\n",
    "    regression_intercept = final_mean - regression_slope * midterm_mean\n",
    "    \n",
    "    return regression_slope * midterm_score + regression_intercept\n",
    "\n",
    "predict_final_score(75), "
   ]
  },
  {
   "cell_type": "code",
   "execution_count": null,
   "metadata": {},
   "outputs": [],
   "source": [
    "final_score_predictions = exam.apply(predict_final_score, \"Midterm\")\n",
    "final_score_predictions"
   ]
  },
  {
   "cell_type": "code",
   "execution_count": null,
   "metadata": {},
   "outputs": [],
   "source": [
    "exam_with_predictions = exam.with_column(\"Final Predictions\", final_score_predictions)\n",
    "exam_with_predictions"
   ]
  },
  {
   "cell_type": "code",
   "execution_count": null,
   "metadata": {},
   "outputs": [],
   "source": [
    "exam_with_predictions.scatter(\"Midterm\")"
   ]
  }
 ],
 "metadata": {
  "kernelspec": {
   "display_name": "Python 3",
   "language": "python",
   "name": "python3"
  },
  "language_info": {
   "codemirror_mode": {
    "name": "ipython",
    "version": 3
   },
   "file_extension": ".py",
   "mimetype": "text/x-python",
   "name": "python",
   "nbconvert_exporter": "python",
   "pygments_lexer": "ipython3",
   "version": "3.7.6"
  }
 },
 "nbformat": 4,
 "nbformat_minor": 4
}

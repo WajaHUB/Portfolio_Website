{
 "cells": [
  {
   "cell_type": "code",
   "execution_count": null,
   "metadata": {},
   "outputs": [],
   "source": [
    "from datascience import *\n",
    "import numpy as np\n",
    "%matplotlib inline\n",
    "import matplotlib.pyplot as plots\n",
    "plots.style.use('fivethirtyeight')"
   ]
  },
  {
   "cell_type": "markdown",
   "metadata": {},
   "source": [
    "# Uncertainty and Confidence Intervals"
   ]
  },
  {
   "cell_type": "markdown",
   "metadata": {},
   "source": [
    "### Estimation\n",
    "\n",
    "Let's pretend that 20% of the Californian population has or has had COVID-19. We can simulate a random\n",
    "sample of 1,000 people from the population using the code below."
   ]
  },
  {
   "cell_type": "code",
   "execution_count": null,
   "metadata": {},
   "outputs": [],
   "source": [
    "# create a table for the probability distribution\n",
    "covid_dist = Table().with_columns(\n",
    "    'COVID-19', make_array('Positive', 'Negative'),\n",
    "    'Population %', make_array(20, 80)\n",
    ")\n",
    "covid_dist"
   ]
  },
  {
   "cell_type": "code",
   "execution_count": null,
   "metadata": {},
   "outputs": [],
   "source": [
    "# Take a random sample of 1,000 people from the population\n",
    "covid_dist = covid_dist.sample_from_distribution('Population %', 1000).relabel('Population % sample', 'Sample')\n",
    "covid_dist"
   ]
  },
  {
   "cell_type": "markdown",
   "metadata": {},
   "source": [
    "Now, let's forget that we know the true parameter. Let's attempt to estimate it.\n",
    "\n",
    "First, we'll define our estimator, and then we'll compute the estimate using our sample from above."
   ]
  },
  {
   "cell_type": "code",
   "execution_count": null,
   "metadata": {},
   "outputs": [],
   "source": [
    "# define the estimator\n",
    "def sample_prop(tbl, sample_col):\n",
    "    \"\"\"Computes the sample proportion.\"\"\"\n",
    "    counts = tbl.column(sample_col)\n",
    "    return counts.item(0) / sum(counts)"
   ]
  },
  {
   "cell_type": "code",
   "execution_count": null,
   "metadata": {},
   "outputs": [],
   "source": [
    "# compute the estimate\n",
    "sample_covid = sample_prop(covid_dist, 'Sample')\n",
    "sample_covid"
   ]
  },
  {
   "cell_type": "markdown",
   "metadata": {},
   "source": [
    "If we run through all this code again, will the value of our estimate change? Yes, because it is based on a random sample!\n",
    "Recall that\n",
    "$$Estimator(Sample) = Estimate = Parameter + Error.$$\n",
    "\n",
    "So, how can we evaluate the variability of an estimator?"
   ]
  },
  {
   "cell_type": "markdown",
   "metadata": {},
   "source": [
    "### The Bootstrap\n",
    "\n",
    "Let's use the Bootstrap method to get a sense of how variable our estimator is."
   ]
  },
  {
   "cell_type": "code",
   "execution_count": null,
   "metadata": {},
   "outputs": [],
   "source": [
    "# first, let's create a new table based on our initial sample\n",
    "covid_sample_dist = Table().with_columns(\n",
    "    'COVID-19', make_array('Positive', 'Negative'),\n",
    "    'Sample %', make_array(sample_covid*100, (1-sample_covid)*100)\n",
    ")\n",
    "covid_sample_dist"
   ]
  },
  {
   "cell_type": "code",
   "execution_count": null,
   "metadata": {},
   "outputs": [],
   "source": [
    "# next, lets create a function that generates a boot strap sample\n",
    "def one_bootstrap_sample(tbl, size):\n",
    "    \"\"\"Generate a single bootstrap sample from a table.\"\"\"\n",
    "    return tbl.sample_from_distribution('Sample %', size).relabel('Sample % sample', 'Sample')\n",
    "\n",
    "# make sure that the sample size of the bootrstrap sample is identical to the original sample\n",
    "one_bootstrap_sample(covid_sample_dist, 1000)"
   ]
  },
  {
   "cell_type": "code",
   "execution_count": null,
   "metadata": {},
   "outputs": [],
   "source": [
    "# finally, let's generate 1000 bootstrap samples, and compute an estimate for each\n",
    "\n",
    "bootstrap_props = make_array()\n",
    "repetitions = 1000\n",
    "\n",
    "for i in np.arange(repetitions):\n",
    "    boot_sample_tbl = one_bootstrap_sample(covid_sample_dist, 1000)\n",
    "    boot_estimate = sample_prop(boot_sample_tbl, 'Sample')\n",
    "    bootstrap_props = np.append(bootstrap_props, boot_estimate)\n",
    "    \n",
    "Table().with_column(\"Bootstrap Estimates\", bootstrap_props).hist()"
   ]
  },
  {
   "cell_type": "markdown",
   "metadata": {},
   "source": [
    "The distribution of our bootstrap estimates seem to be concentrated near the true proportion of COVID-19 cases\n",
    "in the population (20%). This distribution doesn't appear to be particularly variable, either. We'll talk about more\n",
    "quantitative ways to measure this variability in Module 5.2."
   ]
  },
  {
   "cell_type": "markdown",
   "metadata": {},
   "source": [
    "<br>\n",
    "\n",
    "## Confidence Intervals\n",
    "\n",
    "The Bootstrap method can also be used to compute new kinds of estimates: confidence intervals (CIs). CIs are estimates\n",
    "that correspond to a range of values.\n",
    "\n",
    "Let's start by computing the approximate 95% CI for the true proportion of Californians with COVID-19 using the sample\n",
    "from before:"
   ]
  },
  {
   "cell_type": "code",
   "execution_count": null,
   "metadata": {},
   "outputs": [],
   "source": [
    "bootstrap_props = make_array()\n",
    "repetitions = 500\n",
    "\n",
    "for i in np.arange(repetitions):\n",
    "    boot_sample_tbl = one_bootstrap_sample(covid_sample_dist, 1000)\n",
    "    boot_estimate = sample_prop(boot_sample_tbl, 'Sample')\n",
    "    bootstrap_props = np.append(bootstrap_props, boot_estimate)\n",
    "\n",
    "print(\"The approximate 95% CI is [\", str(percentile(2.5, bootstrap_props)), \",\",\n",
    "      str(percentile(97.5, bootstrap_props)), \"]\")\n",
    "\n",
    "Table().with_column(\"Bootstrap Estimates\", bootstrap_props).hist()"
   ]
  },
  {
   "cell_type": "markdown",
   "metadata": {},
   "source": [
    "The process that we defined above gives us a recipe to generate an estimate, the CI. That means we can\n",
    "store it in a function, and define it as an interval *estimator*."
   ]
  },
  {
   "cell_type": "code",
   "execution_count": null,
   "metadata": {},
   "outputs": [],
   "source": [
    "def ci_95_estimator(sample_tbl, sample_size, boot_reps):\n",
    "    \"\"\"Given a sample, this functions computes the 95% CI of the population proportion.\"\"\"\n",
    "    bootstrap_props = make_array()\n",
    "    \n",
    "    for i in np.arange(boot_reps):\n",
    "        boot_sample_tbl = one_bootstrap_sample(sample_tbl, sample_size)\n",
    "        boot_estimate = sample_prop(boot_sample_tbl, 'Sample')\n",
    "        bootstrap_props = np.append(bootstrap_props, boot_estimate)\n",
    "        \n",
    "    return make_array(percentile(2.5, bootstrap_props), percentile(97.5, bootstrap_props))\n",
    "\n",
    "ci_95_estimator(covid_sample_dist, 1000, 500)"
   ]
  },
  {
   "cell_type": "markdown",
   "metadata": {},
   "source": [
    "We now know how to compute confidence intervals, but how do we interpret them?\n",
    "\n",
    "For a 95% CI, we say that if we were to compute the 95% CI of many, many random samples, the true population\n",
    "proportion would be contained in about 95% of all the CIs.\n",
    "\n",
    "Here's an example:"
   ]
  },
  {
   "cell_type": "code",
   "execution_count": null,
   "metadata": {},
   "outputs": [],
   "source": [
    "contains_true_param = make_array()\n",
    "iterations = 500\n",
    "\n",
    "# compute 500 95% CIs of the true proportion\n",
    "for i in np.arange(iterations):\n",
    "    covid_sample = covid_dist.sample_from_distribution('Population %', 1000).relabel('Population % sample', 'Sample')\n",
    "    sample_covid = sample_prop(covid_sample, 'Sample')\n",
    "    covid_sample_dist = Table().with_columns(\n",
    "        'COVID-19', make_array('Positive', 'Negative'),\n",
    "        'Sample %', make_array(sample_covid*100, (1-sample_covid)*100)\n",
    "    )\n",
    "    ci_95 = ci_95_estimator(covid_sample_dist, 1000, 500)\n",
    "    contains_true_param = np.append(contains_true_param, ci_95.item(0) < 0.2 < ci_95.item(1))\n",
    "\n",
    "# Compute the number of intervals that do not contain the true parameter. We expect 25 on average.\n",
    "iterations - np.count_nonzero(contains_true_param)"
   ]
  }
 ],
 "metadata": {
  "kernelspec": {
   "display_name": "Python 3",
   "language": "python",
   "name": "python3"
  },
  "language_info": {
   "codemirror_mode": {
    "name": "ipython",
    "version": 3
   },
   "file_extension": ".py",
   "mimetype": "text/x-python",
   "name": "python",
   "nbconvert_exporter": "python",
   "pygments_lexer": "ipython3",
   "version": "3.8.2"
  }
 },
 "nbformat": 4,
 "nbformat_minor": 4
}

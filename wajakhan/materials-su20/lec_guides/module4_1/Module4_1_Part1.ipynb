{
 "cells": [
  {
   "cell_type": "code",
   "execution_count": null,
   "metadata": {},
   "outputs": [],
   "source": [
    "# Run cells by clicking on them and hitting CTRL + ENTER on your keyboard\n",
    "from IPython.display import YouTubeVideo\n",
    "from datascience import *\n",
    "import numpy as np\n",
    "import matplotlib.pyplot as plt\n",
    "plt.style.use('fivethirtyeight')\n",
    "%matplotlib inline"
   ]
  },
  {
   "cell_type": "markdown",
   "metadata": {},
   "source": [
    "# Module 4.1 Part 1: A/B Testing\n",
    "\n",
    "In this lecture guide, you'll learn how to compare two random samples and answer questions about their similarities\n",
    "and differences.\n",
    "\n",
    "5 videos make up this notebook, for a total run time of 54:45.\n",
    "\n",
    "1. [Introduction to A/B Testing](#section1) *3 videos, total runtime 30:37*\n",
    "2. [Deflategate Example](#section2) *2 videos, total runtime 24:08*\n",
    "3. [Check for Understanding](#section3)\n",
    "\n",
    "Textbook readings:\n",
    "- [Chapter 12: Comparing Two Samples](https://www.inferentialthinking.com/chapters/12/Comparing_Two_Samples.html)\n",
    "- [Chapter 12.1: A/B Testing](https://www.inferentialthinking.com/chapters/12/1/AB_Testing.html)\n",
    "- [Chapter 12.2: Deflategate](https://www.inferentialthinking.com/chapters/12/2/Deflategate.html)"
   ]
  },
  {
   "cell_type": "markdown",
   "metadata": {},
   "source": [
    "<a id='section1'></a>\n",
    "\n",
    "## 1. Introduction to A/B Testing\n",
    "\n",
    "The following lecture videos introduce A/B testing, a statistical method used to compare random samples from two populations.\n",
    "This new hypothesis testing method is motivated by a running example on the association between a mother's smoking status and the\n",
    "birth weight of their babies. You should follow along using the data loaded in the cell below lecture 19.3."
   ]
  },
  {
   "cell_type": "code",
   "execution_count": null,
   "metadata": {},
   "outputs": [],
   "source": [
    "YouTubeVideo('wtj1Whiut60')"
   ]
  },
  {
   "cell_type": "code",
   "execution_count": null,
   "metadata": {},
   "outputs": [],
   "source": [
    "YouTubeVideo('tR4XBhAvtD8')"
   ]
  },
  {
   "cell_type": "code",
   "execution_count": null,
   "metadata": {},
   "outputs": [],
   "source": [
    "YouTubeVideo('2xn48Vql1dQ')"
   ]
  },
  {
   "cell_type": "markdown",
   "metadata": {},
   "source": [
    "The `baby` table is loaded in the code cell below. Use it to follow along with Professor Adhikari's analysis."
   ]
  },
  {
   "cell_type": "code",
   "execution_count": null,
   "metadata": {},
   "outputs": [],
   "source": [
    "# load the baby table\n",
    "baby = Table.read_table('https://www.inferentialthinking.com/data/baby.csv')\n",
    "\n",
    "# select the smoking status and birth weight columns\n",
    "smoking_and_birthweight = baby.select('Birth Weight', 'Maternal Smoker')\n",
    "smoking_and_birthweight"
   ]
  },
  {
   "cell_type": "code",
   "execution_count": null,
   "metadata": {},
   "outputs": [],
   "source": [
    "# follow along here!\n",
    "..."
   ]
  },
  {
   "cell_type": "markdown",
   "metadata": {},
   "source": [
    "<a id='section2'></a>\n",
    "\n",
    "# 2. Deflategate Example\n",
    "\n",
    "A/B testing procedures can be applied in a variety of situations. In the next set of videos, you'll use this method to investigate\n",
    "whether the New England Patriots deliberately deflated footballs in their 2014 American Football Conference Championship victory\n",
    "over the Indianapolis Colts. As with the previous lecture videos, we encourage you to perform this analysis alongside Professor\n",
    "Adhikari. The data is provided in the code cell following lecture 19.5.\n",
    "\n",
    "This event, known as *Deflategate*, is introduced in lecture video 19.4. For more information on this controversy, consider reading\n",
    "its [Wikipedia](https://en.wikipedia.org/wiki/Deflategate) entry."
   ]
  },
  {
   "cell_type": "code",
   "execution_count": null,
   "metadata": {},
   "outputs": [],
   "source": [
    "YouTubeVideo('5et2jH5LHcc')"
   ]
  },
  {
   "cell_type": "code",
   "execution_count": null,
   "metadata": {},
   "outputs": [],
   "source": [
    "YouTubeVideo('CxUeGgLXMOc')"
   ]
  },
  {
   "cell_type": "code",
   "execution_count": null,
   "metadata": {},
   "outputs": [],
   "source": [
    "# load the deflategate data\n",
    "football = Table.read_table('https://www.inferentialthinking.com/data/deflategate.csv')\n",
    "\n",
    "# prepare the data\n",
    "football = football.drop(1, 2).with_column(\n",
    "    \"Combined\", (football.column(1) + football.column(2)) / 2\n",
    ")\n",
    "\n",
    "# print the full table\n",
    "football.show()"
   ]
  },
  {
   "cell_type": "code",
   "execution_count": null,
   "metadata": {},
   "outputs": [],
   "source": [
    "# follow along here!\n",
    "..."
   ]
  },
  {
   "cell_type": "markdown",
   "metadata": {},
   "source": [
    "<a id='section3'></a>\n",
    "\n",
    "## 3. Check for Understanding\n",
    "\n",
    "**A. In the example discussed in lecture videos 19.1, 19.2 and 19.3, which group of babies\n",
    "was believed to have higher birth weights under the null hypothesis?**\n",
    "<ol>\n",
    "    <li>Babies born to non-smoking mothers</li>\n",
    "    <li>Babies born to smoking mothers</li>\n",
    "    <li>Neither</li>\n",
    "</ol>\n",
    "\n",
    "\n",
    "<details>\n",
    "    <summary>Solution</summary>\n",
    "    <b>3. Neither</b>: Under the null hypothesis, the distributions of baby birth weights are the same regardless of maternal smoking status. In other words, there is no association between a mothers smoking habits and her baby's birth weight.\n",
    "</details>\n",
    "\n",
    "<br>\n",
    "\n",
    "**B. Fill in the blank: When performing an A/B testing procedure on a numeric variable shared by two groups, the difference\n",
    "between the groups' averages is often chosen as the test statistic. \\_\\_\\_\\_\\_\\_\\_\\_\\_ \\_\\_\\_\\_\\_\\_\\_\\_\\_ values of this statistic\n",
    "provide evidence in favor of the alternative hypothesis.**\n",
    "\n",
    "<details>\n",
    "    <summary>Solution</summary>\n",
    "    <i>When performing an A/B testing procedure on a common, numeric variable shared by two groups, the difference\n",
    "    between the groups' sample averages is often chosen as the test statistic. Large absolute values of this statistic provide\n",
    "        evidence in favor of the alternative hypothesis.</i>\n",
    "    <br>\n",
    "    Under the null hypothesis, we expect that the groups' averages to be identical, and therefore that their samples'\n",
    "    averages be very similar. When the observed difference between these samples' averages is quite large or very small, it is\n",
    "    inconsistent with the null hypothesis. Instead, it provides evidence in favor of the alternative hypothesis.\n",
    "</details>"
   ]
  }
 ],
 "metadata": {
  "kernelspec": {
   "display_name": "Python 3",
   "language": "python",
   "name": "python3"
  },
  "language_info": {
   "codemirror_mode": {
    "name": "ipython",
    "version": 3
   },
   "file_extension": ".py",
   "mimetype": "text/x-python",
   "name": "python",
   "nbconvert_exporter": "python",
   "pygments_lexer": "ipython3",
   "version": "3.8.2"
  }
 },
 "nbformat": 4,
 "nbformat_minor": 4
}

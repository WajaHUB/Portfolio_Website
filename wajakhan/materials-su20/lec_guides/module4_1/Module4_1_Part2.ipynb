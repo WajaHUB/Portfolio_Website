{
 "cells": [
  {
   "cell_type": "code",
   "execution_count": null,
   "metadata": {},
   "outputs": [],
   "source": [
    "# Run cells by clicking on them and hitting CTRL + ENTER on your keyboard\n",
    "from IPython.display import YouTubeVideo\n",
    "from datascience import *\n",
    "import numpy as np\n",
    "import matplotlib.pyplot as plt\n",
    "plt.style.use('fivethirtyeight')\n",
    "%matplotlib inline"
   ]
  },
  {
   "cell_type": "markdown",
   "metadata": {},
   "source": [
    "# Module 4.1 Part 2: Causality\n",
    "\n",
    "In the following lecture videos, you'll learn to distinguish between associations and causal relationships. You'll also\n",
    "see what criteria are required of the data to make causal claims following a hypothesis test. \n",
    "\n",
    "4 videos make up this notebook, for a total run time of 25:19.\n",
    "\n",
    "1. [Introduction to Causality](#section1) *1 video, total runtime 7:29*\n",
    "2. [Performing a Randomized Controlled Experiment](#section2) *3 videos, total runtime 17:50*\n",
    "3. [Check for Understanding](#section3)\n",
    "\n",
    "Textbook readings: [Chapter 12.3: Causation](https://www.inferentialthinking.com/chapters/12/3/Causality.html)"
   ]
  },
  {
   "cell_type": "markdown",
   "metadata": {},
   "source": [
    "<a id='section1'></a>\n",
    "## 1. Introduction to Causality\n"
   ]
  },
  {
   "cell_type": "markdown",
   "metadata": {},
   "source": [
    "In the next video, you'll see how randomization can be used to establish causality."
   ]
  },
  {
   "cell_type": "code",
   "execution_count": null,
   "metadata": {},
   "outputs": [],
   "source": [
    "YouTubeVideo('uZXP5FbPhJ4')"
   ]
  },
  {
   "cell_type": "markdown",
   "metadata": {},
   "source": [
    "<a id='section2'></a>\n",
    "\n",
    "## 2. Performing a Randomized Controlled Experiment\n",
    "\n",
    "In the collection of videos below, Professor Adhikari will walk you through an analysis of the data generated from the previously\n",
    "introduced randomized controlled experiment. Together, you'll determine whether small doses of *botulism toxin A* are an effective\n",
    "treatment for chronic back pain.\n",
    "\n",
    "As always, you are encouraged to follow along. The data used in these videos can be found in the code cell directly following\n",
    "lecture 20.4."
   ]
  },
  {
   "cell_type": "code",
   "execution_count": null,
   "metadata": {},
   "outputs": [],
   "source": [
    "YouTubeVideo('aZJMCvnHdIc')"
   ]
  },
  {
   "cell_type": "code",
   "execution_count": null,
   "metadata": {},
   "outputs": [],
   "source": [
    "YouTubeVideo('fLcT5gOO0P4')"
   ]
  },
  {
   "cell_type": "code",
   "execution_count": null,
   "metadata": {},
   "outputs": [],
   "source": [
    "YouTubeVideo('dO9Id6agAt0')"
   ]
  },
  {
   "cell_type": "code",
   "execution_count": null,
   "metadata": {},
   "outputs": [],
   "source": [
    "# load the data\n",
    "observed_outcomes = Table.read_table('https://www.inferentialthinking.com/data/observed_outcomes.csv')\n",
    "observed_outcomes"
   ]
  },
  {
   "cell_type": "code",
   "execution_count": null,
   "metadata": {},
   "outputs": [],
   "source": [
    "# follow along here!\n",
    "..."
   ]
  },
  {
   "cell_type": "markdown",
   "metadata": {},
   "source": [
    "<a id='section3'></a>\n",
    "\n",
    "## 3. Check for Understanding \n",
    "\n",
    "**Fill in the blanks. In a randomized control experiment, the treatment and control groups are \\_\\_\\_\\_\\_\\_\\_\\_.\n",
    "Any difference between the two groups' outcomes are due to \\_\\_\\_\\_\\_\\_\\_\\_. These kinds of experiments allow\n",
    "researchers to \\_\\_\\_\\_\\_\\_\\_\\_.**\n",
    "\n",
    "<details>\n",
    "    <summary>Solution</summary>\n",
    "    In a randomized control experiment, the treatment and control groups are selected at random.\n",
    "    Any difference between the two groups' outcomes are due to chance or the treatment. These kinds\n",
    "    of experiments allow researchers to make causal conclusions.\n",
    "</details>"
   ]
  }
 ],
 "metadata": {
  "kernelspec": {
   "display_name": "Python 3",
   "language": "python",
   "name": "python3"
  },
  "language_info": {
   "codemirror_mode": {
    "name": "ipython",
    "version": 3
   },
   "file_extension": ".py",
   "mimetype": "text/x-python",
   "name": "python",
   "nbconvert_exporter": "python",
   "pygments_lexer": "ipython3",
   "version": "3.8.2"
  }
 },
 "nbformat": 4,
 "nbformat_minor": 4
}

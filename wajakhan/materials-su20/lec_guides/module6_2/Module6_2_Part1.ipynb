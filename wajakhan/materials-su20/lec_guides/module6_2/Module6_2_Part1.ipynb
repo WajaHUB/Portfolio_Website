{
 "cells": [
  {
   "cell_type": "code",
   "execution_count": null,
   "metadata": {},
   "outputs": [],
   "source": [
    "# Run cells by clicking on them and hitting CTRL + ENTER on your keyboard\n",
    "from IPython.display import YouTubeVideo\n",
    "from datascience import *\n",
    "import numpy as np\n",
    "import matplotlib.pyplot as plt\n",
    "plt.style.use('fivethirtyeight')\n",
    "%matplotlib inline"
   ]
  },
  {
   "cell_type": "code",
   "execution_count": null,
   "metadata": {},
   "outputs": [],
   "source": [
    "def standard_units(x):\n",
    "    \"\"\"Converts an array x to standard units\"\"\"\n",
    "    return (x - np.mean(x)) / np.std(x)"
   ]
  },
  {
   "cell_type": "markdown",
   "metadata": {},
   "source": [
    "# Module 6.2 Part 1: Least Squares\n",
    "\n",
    "Previously, you have learned to use the regression equation to generate a line describing the relationship between\n",
    "two numerical variables. In this notebook, you'll see how this can accomplished through the method of least squares.\n",
    "\n",
    "2 videos make up this notebook, for a total run time of 16:10.\n",
    "\n",
    "1. [Squared Error](#section1) *1 videos, total runtime 9:55*\n",
    "2. [Least Squares](#section2) *1 video, total runtime 6:15*\n",
    "3. [Check for Understanding](#section3)\n",
    "\n",
    "Textbook readings:\n",
    "- [Chapter 15.3: Method of Least Squares](https://www.inferentialthinking.com/chapters/15/3/Method_of_Least_Squares.html)"
   ]
  },
  {
   "cell_type": "markdown",
   "metadata": {},
   "source": [
    "<a id='section1'></a>\n",
    "## 1. Squared Error\n"
   ]
  },
  {
   "cell_type": "markdown",
   "metadata": {},
   "source": [
    "In this video, you'll learn how to quantify the error in your observed and predicted values using the mean squared error (MSE) or root mean squared error (RMSE)."
   ]
  },
  {
   "cell_type": "code",
   "execution_count": null,
   "metadata": {},
   "outputs": [],
   "source": [
    "YouTubeVideo('BuTMV2r89Gc')"
   ]
  },
  {
   "cell_type": "markdown",
   "metadata": {},
   "source": [
    "Let's revisit the Madrid air quality dataset from Module 6.1. Run the cell below to load the data"
   ]
  },
  {
   "cell_type": "code",
   "execution_count": null,
   "metadata": {},
   "outputs": [],
   "source": [
    "madrid = Table().read_table(\"madrid_2018.csv\")\n",
    "madrid.show(5)"
   ]
  },
  {
   "cell_type": "markdown",
   "metadata": {},
   "source": [
    "Write a function `linear_fit` that returns an array of predicted y-values from the x-values in a table."
   ]
  },
  {
   "cell_type": "code",
   "execution_count": null,
   "metadata": {},
   "outputs": [],
   "source": [
    "def linear_fit(t, x, y):\n",
    "        ..."
   ]
  },
  {
   "cell_type": "markdown",
   "metadata": {},
   "source": [
    "<details>\n",
    "    <summary>Solution</summary>\n",
    "    \n",
    "    def linear_fit(t, x, y):\n",
    "        x_su = standard_units(t.column(x))\n",
    "        y_su = standard_units(t.column(y))\n",
    "        r = np.mean(x_su * y_su)\n",
    "        slope = r * np.std(t.column(y)) / np.std(t.column(x))\n",
    "        intercept = np.mean(t.column(y)) - slope * np.mean(t.column(x))\n",
    "        return slope * t.column(x) + intercept\n",
    "</details>\n",
    "<br>"
   ]
  },
  {
   "cell_type": "markdown",
   "metadata": {},
   "source": [
    "Use `linear_fit` to define an array `no2_predictions` that contains `NO_2` predictions from each value of `NO` in `madrid`."
   ]
  },
  {
   "cell_type": "code",
   "execution_count": null,
   "metadata": {},
   "outputs": [],
   "source": [
    "no2_predictions = ..."
   ]
  },
  {
   "cell_type": "markdown",
   "metadata": {},
   "source": [
    "<details>\n",
    "    <summary>Solution</summary>\n",
    "    \n",
    "    no2_predictions = linear_fit(madrid, \"NO\", \"NO_2\")\n",
    "</details>\n",
    "<br>"
   ]
  },
  {
   "cell_type": "markdown",
   "metadata": {},
   "source": [
    "Create a new table `madrid_with_predictions` that resembles `madrid` but with a new column `Predicted NO_2` that contains predicted values of `NO_2` for each value of `NO`. Create a scatterplot that compared predicted and observed NO_2 values."
   ]
  },
  {
   "cell_type": "code",
   "execution_count": null,
   "metadata": {},
   "outputs": [],
   "source": [
    "madrid_with_predictions = ...\n",
    "madrid_with_predictions.scatter(\"NO\")"
   ]
  },
  {
   "cell_type": "markdown",
   "metadata": {},
   "source": [
    "<details>\n",
    "    <summary>Solution</summary>\n",
    "    \n",
    "    madrid_with_predictions = madrid.with_column(\"Predicted NO_2\", no2_predictions)\n",
    "</details>\n",
    "<br>"
   ]
  },
  {
   "cell_type": "markdown",
   "metadata": {},
   "source": [
    "Add a column `Errors` to the table `madrid_with_predictions` that contains the difference between each observed and predicted value of `NO_2`"
   ]
  },
  {
   "cell_type": "code",
   "execution_count": null,
   "metadata": {},
   "outputs": [],
   "source": [
    "madrid_with_predictions =  ...\n",
    "madrid_with_predictions.show(5)"
   ]
  },
  {
   "cell_type": "markdown",
   "metadata": {},
   "source": [
    "<details>\n",
    "    <summary>Solution</summary>\n",
    "    \n",
    "    madrid_with_predictions.with_column(\"Errors\", madrid_with_predictions.column(\"NO_2\") - madrid_with_predictions.column(\"Predicted NO_2\"))\n",
    "</details>\n",
    "<br>\n",
    "\n"
   ]
  },
  {
   "cell_type": "markdown",
   "metadata": {},
   "source": [
    "<a id='section2'></a>\n",
    "\n",
    "## 2. Least Squares\n",
    "\n",
    "In this video, you'll learn how to find the best-fit line for two numerical variables by minimizing the MSE, or,\n",
    "equivalently, the RMSE."
   ]
  },
  {
   "cell_type": "code",
   "execution_count": null,
   "metadata": {
    "scrolled": true
   },
   "outputs": [],
   "source": [
    "YouTubeVideo('uBaIf9B3BCQ')"
   ]
  },
  {
   "cell_type": "markdown",
   "metadata": {},
   "source": [
    "Write a function `find_rmse` to find the root mean squared error of `NO_2` prediction made for a line given by `rmse_slope` and `rmse_intercept`."
   ]
  },
  {
   "cell_type": "code",
   "execution_count": null,
   "metadata": {},
   "outputs": [],
   "source": [
    "def find_rmse(rmse_slope, rmse_intercept):\n",
    "    ..."
   ]
  },
  {
   "cell_type": "markdown",
   "metadata": {},
   "source": [
    "<details>\n",
    "    <summary>Solution</summary>\n",
    "    \n",
    "    def find_rmse(rmse_slope, rmse_intercept):\n",
    "        x = madrid.column(\"NO\")\n",
    "        y = madrid.column(\"NO_2\")\n",
    "        predicted = rmse_slope * x  + rmse_intercept\n",
    "        return (np.mean((y-predicted) ** 2)) ** 0.5\n",
    "</details>\n",
    "<br>"
   ]
  },
  {
   "cell_type": "markdown",
   "metadata": {},
   "source": [
    "Use `minimize` to find the slope and intercept of the line that minimizes the RMSE of `NO_2` values in madrid. Verify that these are the same slope and intercept values from your regression equation. "
   ]
  },
  {
   "cell_type": "code",
   "execution_count": null,
   "metadata": {},
   "outputs": [],
   "source": [
    "..."
   ]
  },
  {
   "cell_type": "markdown",
   "metadata": {},
   "source": [
    "<details>\n",
    "    <summary>Solution</summary>\n",
    "    \n",
    "    minimize(find_rmse)\n",
    "</details>\n",
    "<br>"
   ]
  },
  {
   "cell_type": "markdown",
   "metadata": {},
   "source": [
    "<a id='section3'></a>\n",
    "## 3. Check for Understanding\n",
    "\n",
    "**A. Why do we use the (root) mean square error instead of just the mean error?**\n",
    " \n",
    "<details>\n",
    "    <summary>Solution</summary>\n",
    "If you use any arbitrary line to calculate your estimates, then some of your errors are likely to be positive and others negative. To avoid cancellation when measuring the rough size of the errors, we will take the mean of the squared errors rather than the mean of the errors themselves. Taking the square root of this value makes the units more interpretable.\n",
    "\n",
    "\n",
    "</details>\n",
    "<br>\n",
    "\n",
    "**B. True or False? The least squares line is always a better fit than the regression line.**\n",
    "\n",
    "<details>\n",
    "    <summary>Solution</summary>\n",
    "    <b>False.</b> The least squares line and regression line are the same. The regression line is the only line that minimizes mean squared error.\n",
    "</details>\n",
    "<br>"
   ]
  }
 ],
 "metadata": {
  "kernelspec": {
   "display_name": "Python 3",
   "language": "python",
   "name": "python3"
  },
  "language_info": {
   "codemirror_mode": {
    "name": "ipython",
    "version": 3
   },
   "file_extension": ".py",
   "mimetype": "text/x-python",
   "name": "python",
   "nbconvert_exporter": "python",
   "pygments_lexer": "ipython3",
   "version": "3.7.6"
  }
 },
 "nbformat": 4,
 "nbformat_minor": 4
}

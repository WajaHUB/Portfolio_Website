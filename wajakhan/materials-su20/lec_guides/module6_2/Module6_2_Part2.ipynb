{
 "cells": [
  {
   "cell_type": "code",
   "execution_count": null,
   "metadata": {},
   "outputs": [],
   "source": [
    "# Run cells by clicking on them and hitting CTRL + ENTER on your keyboard\n",
    "from IPython.display import YouTubeVideo\n",
    "from datascience import *\n",
    "import numpy as np\n",
    "import matplotlib.pyplot as plt\n",
    "plt.style.use('fivethirtyeight')\n",
    "%matplotlib inline"
   ]
  },
  {
   "cell_type": "code",
   "execution_count": null,
   "metadata": {},
   "outputs": [],
   "source": [
    "def standard_units(x):\n",
    "    \"\"\"Converts an array x to standard units\"\"\"\n",
    "    return (x - np.mean(x)) / np.std(x)\n",
    "\n",
    "def linear_fit(t, x, y):\n",
    "    x_su = standard_units(t.column(x))\n",
    "    y_su = standard_units(t.column(y))\n",
    "    r = np.mean(x_su * y_su)\n",
    "    slope = r * np.std(t.column(y)) / np.std(t.column(x))\n",
    "    intercept = np.mean(t.column(y)) - slope * np.mean(t.column(x))\n",
    "    return slope * t.column(x) + intercept"
   ]
  },
  {
   "cell_type": "markdown",
   "metadata": {},
   "source": [
    "# Module 6.2 Part 2: Residuals\n",
    "\n",
    "Residuals describe how far off estimates are from the observed values. In this notebook, you'll learn how to calculate residuals and use them to assess regression lines.\n",
    "\n",
    "4 videos make up this notebook, for a total run time of 21:00.\n",
    "\n",
    "1. [Residuals and Regression Diagnostics](#section1) *2 videos, total runtime 11:06*\n",
    "2. [Properties of Residuals](#section2) *2 videos, total runtime 9:54*\n",
    "3. [Check for Understanding](#section3)\n",
    "\n",
    "Textbook readings:\n",
    "- [Chapter 15.5: Visual Diagnostics](https://www.inferentialthinking.com/chapters/15/5/Visual_Diagnostics.html)\n",
    "- [Chapter 15.6: Numerical Diagnostics](https://www.inferentialthinking.com/chapters/15/6/Numerical_Diagnostics.html)"
   ]
  },
  {
   "cell_type": "markdown",
   "metadata": {},
   "source": [
    "<a id='section1'></a>\n",
    "## 1. Residuals and Regression Diagnostics\n",
    "\n"
   ]
  },
  {
   "cell_type": "markdown",
   "metadata": {},
   "source": [
    "In the following videos, you'll learn how to use residuals to visualize prediction error, and check model validity."
   ]
  },
  {
   "cell_type": "markdown",
   "metadata": {},
   "source": [
    "### Residuals"
   ]
  },
  {
   "cell_type": "code",
   "execution_count": null,
   "metadata": {
    "scrolled": true
   },
   "outputs": [],
   "source": [
    "YouTubeVideo('JlYcyQaxltc')"
   ]
  },
  {
   "cell_type": "markdown",
   "metadata": {},
   "source": [
    "### Regression Diagnostics"
   ]
  },
  {
   "cell_type": "code",
   "execution_count": null,
   "metadata": {},
   "outputs": [],
   "source": [
    "YouTubeVideo(\"CiSYeEO-CBs\")"
   ]
  },
  {
   "cell_type": "markdown",
   "metadata": {},
   "source": [
    "In the cell below load `sat`, a table that contains the Participation Rate and average combined score for the SAT in each state. "
   ]
  },
  {
   "cell_type": "code",
   "execution_count": null,
   "metadata": {
    "scrolled": true
   },
   "outputs": [],
   "source": [
    "sat = Table.read_table('https://www.inferentialthinking.com/data/sat2014.csv').select(0, 1, 5)\n",
    "sat.show(5)"
   ]
  },
  {
   "cell_type": "markdown",
   "metadata": {},
   "source": [
    "In the cell below, create a scatterplot with `Participation Rate` on the x-axis and `Combined` on the y-axis."
   ]
  },
  {
   "cell_type": "code",
   "execution_count": null,
   "metadata": {},
   "outputs": [],
   "source": [
    "..."
   ]
  },
  {
   "cell_type": "markdown",
   "metadata": {},
   "source": [
    "<details>\n",
    "    <summary>Solution</summary>\n",
    "    \n",
    "    sat.scatter(\"Participation Rate\", \"Combined\")\n",
    "</details>\n",
    "<br>"
   ]
  },
  {
   "cell_type": "markdown",
   "metadata": {},
   "source": [
    "Add the column `Predicted Combined` to `sat` that contains the predicted value of `Combined` for each value of `Participation Rate`"
   ]
  },
  {
   "cell_type": "code",
   "execution_count": null,
   "metadata": {},
   "outputs": [],
   "source": [
    "sat_with_predictions = ...\n",
    "sat_with_predictions"
   ]
  },
  {
   "cell_type": "markdown",
   "metadata": {},
   "source": [
    "<details>\n",
    "    <summary>Solution</summary>\n",
    "    \n",
    "    sat_with_predictions = sat.with_column(\"Predicted Combined\", linear_fit(sat, \"Participation Rate\", \"Combined\"))\n",
    "</details>\n",
    "<br>"
   ]
  },
  {
   "cell_type": "markdown",
   "metadata": {},
   "source": [
    "Create a scatterplot to compare the `Combined` scores and `Predicted Combined` Scores for each value of `Participation Rate`"
   ]
  },
  {
   "cell_type": "code",
   "execution_count": null,
   "metadata": {},
   "outputs": [],
   "source": [
    "..."
   ]
  },
  {
   "cell_type": "markdown",
   "metadata": {},
   "source": [
    "<details>\n",
    "    <summary>Solution</summary>\n",
    "    \n",
    "    sat_with_predictions.drop(0).scatter(0)\n",
    "</details>\n",
    "<br>"
   ]
  },
  {
   "cell_type": "markdown",
   "metadata": {},
   "source": [
    "Add a column `residuals`to the table `sat` to find the difference between the observed combined scors and predicted combined scores. Generate a scatter plot of the residuals"
   ]
  },
  {
   "cell_type": "code",
   "execution_count": null,
   "metadata": {},
   "outputs": [],
   "source": [
    "sat_with_residuals = ...\n",
    "..."
   ]
  },
  {
   "cell_type": "markdown",
   "metadata": {},
   "source": [
    "<details>\n",
    "    <summary>Solution</summary>\n",
    "    \n",
    "    sat_with_residuals = sat_with_predictions.with_column(\"Residuals\", sat_with_predictions.column(\"Combined\") - sat_with_predictions.column(\"Predicted Combined\"))\n",
    "    sat_with_residuals.select(\"Residuals\", \"Participation Rate\").scatter(\"Participation Rate\", \"Residuals\")\n",
    "</details>\n",
    "<br>"
   ]
  },
  {
   "cell_type": "markdown",
   "metadata": {},
   "source": [
    "What trends (if any) do you see in the residual plot? Does the regression line sufficently describe the relationship between Participation Rate and Combined Score?\n",
    "\n",
    "<details>\n",
    "    <summary>Solution</summary>\n",
    "For participation rates between 20-60 and 90-100, there are only negative residuals. This indicates that the relationship between Participation Rate and Combined Score may be non-linear.\n",
    "<br>"
   ]
  },
  {
   "cell_type": "markdown",
   "metadata": {},
   "source": [
    "<a id='section2'></a>\n",
    "\n",
    "## 2. Properties of Residuals\n",
    "\n",
    "In the next video, you'll learn about the properties of residual distributions and how to calculate their standard deviation."
   ]
  },
  {
   "cell_type": "markdown",
   "metadata": {},
   "source": [
    "### Properties of Residuals"
   ]
  },
  {
   "cell_type": "code",
   "execution_count": null,
   "metadata": {
    "scrolled": true
   },
   "outputs": [],
   "source": [
    "YouTubeVideo('X7DLRL7JzMM')"
   ]
  },
  {
   "cell_type": "markdown",
   "metadata": {},
   "source": [
    "### Standard Deviation of Residuals"
   ]
  },
  {
   "cell_type": "code",
   "execution_count": null,
   "metadata": {},
   "outputs": [],
   "source": [
    "YouTubeVideo(\"vYQ2EWvySV0\")"
   ]
  },
  {
   "cell_type": "markdown",
   "metadata": {},
   "source": [
    "In the cell below, calculate the standard deviation of the residuals from predicting `Combined` scores from `Participation Rate` from the `sat` table."
   ]
  },
  {
   "cell_type": "code",
   "execution_count": null,
   "metadata": {},
   "outputs": [],
   "source": [
    "x_su = ...\n",
    "y_su = ...\n",
    "r = ...\n",
    "residual_std = ...\n",
    "residual_std"
   ]
  },
  {
   "cell_type": "markdown",
   "metadata": {},
   "source": [
    "<details>\n",
    "    <summary>Solution</summary>\n",
    "\n",
    "    x_su = standard_units(sat.column(\"Participation Rate\"))\n",
    "    y_su = standard_units(sat.column(\"Combined\"))\n",
    "    r  = np.mean(x_su * y_su)\n",
    "    residual_std = (1 - r**2) ** 0.5 * np.std(sat.column(\"Combined\"))\n",
    "    residual_std\n",
    "<br>"
   ]
  },
  {
   "cell_type": "markdown",
   "metadata": {},
   "source": [
    "<a id='section3'></a>\n",
    "## 3. Check for Understanding\n",
    "\n",
    "**A. When the correlation coefficient is 1, what is the standard deviation of the residuals?**\n",
    "\n",
    "<details>\n",
    "    <summary>Solution</summary>\n",
    "    The standard deviation of the residuals would be 0. When we have a perfect linear relationship, the predicted and observed values all fall on the same line. All the residuals are equal to 0, so there's no variation in their values. Thus, the standard deviation of the residuals is 0.\n",
    "</details>\n",
    "<br>\n",
    "\n",
    "**B. Consider the residual plot below. What does this say about the accuracy of the regression estimates for the data it describes?**\n",
    "<img src=\"residual_question.png\" width=300 height=300 />\n",
    "\n",
    "<details>\n",
    "<summary>Solution</summary>\n",
    "The variability in the size of the errors is greater for low values of acceleration than for high values. Uneven variation is often more easily noticed in a residual plot than in the original scatter plot.\n",
    "<br><br>\n",
    "Since the residual plot shows uneven variation about the horizontal line at 0, the regression estimates are not equally accurate across the range of the predictor variable.\n",
    "</details>\n",
    "<br>"
   ]
  }
 ],
 "metadata": {
  "kernelspec": {
   "display_name": "Python 3",
   "language": "python",
   "name": "python3"
  },
  "language_info": {
   "codemirror_mode": {
    "name": "ipython",
    "version": 3
   },
   "file_extension": ".py",
   "mimetype": "text/x-python",
   "name": "python",
   "nbconvert_exporter": "python",
   "pygments_lexer": "ipython3",
   "version": "3.7.6"
  }
 },
 "nbformat": 4,
 "nbformat_minor": 4
}

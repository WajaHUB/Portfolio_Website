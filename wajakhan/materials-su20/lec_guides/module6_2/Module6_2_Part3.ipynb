{
 "cells": [
  {
   "cell_type": "code",
   "execution_count": null,
   "metadata": {},
   "outputs": [],
   "source": [
    "# Run cells by clicking on them and hitting CTRL + ENTER on your keyboard\n",
    "from IPython.display import YouTubeVideo\n",
    "from datascience import *\n",
    "import numpy as np\n",
    "import matplotlib.pyplot as plt\n",
    "plt.style.use('fivethirtyeight')\n",
    "%matplotlib inline"
   ]
  },
  {
   "cell_type": "code",
   "execution_count": null,
   "metadata": {},
   "outputs": [],
   "source": [
    "def standard_units(any_numbers):\n",
    "    \"Convert any array of numbers to standard units.\"\n",
    "    return (any_numbers - np.mean(any_numbers))/np.std(any_numbers)  \n",
    "\n",
    "def correlation(t, x, y):\n",
    "    return np.mean(standard_units(t.column(x))*standard_units(t.column(y)))\n",
    "\n",
    "def slope(table, x, y):\n",
    "    r = correlation(table, x, y)\n",
    "    return r * np.std(table.column(y))/np.std(table.column(x))\n",
    "\n",
    "def intercept(table, x, y):\n",
    "    a = slope(table, x, y)\n",
    "    return np.mean(table.column(y)) - a * np.mean(table.column(x))\n",
    "\n",
    "def fit(table, x, y, given_x):\n",
    "    a = slope(table, x, y)\n",
    "    b = intercept(table, x, y)\n",
    "    return a * given_x + b"
   ]
  },
  {
   "cell_type": "markdown",
   "metadata": {},
   "source": [
    "# Module 6.2 Part 3: Regression Inference\n",
    "\n",
    "We can conduct hypothesis tests and produce confidence intervals for the estimates of a linear regression. In this notebook, you'll learn how to perform statistical inference for both the predictions and and slope of a linear regression. \n",
    "\n",
    "3 videos make up this notebook, for a total run time of 27:10.\n",
    "\n",
    "1. [Regression Model](#section1) *1 video, total runtime 9:38*\n",
    "2. [Prediction Variability](#section2) *1 video, total runtime 10:18*\n",
    "3. [The True Slope](#section3) *1 video, total runtime 7:14*\n",
    "4. [Check for Understanding](#section4)\n",
    "\n",
    "Textbook readings:\n",
    "- [Chapter 16: Inference for Regression](https://www.inferentialthinking.com/chapters/16/Inference_for_Regression.html)"
   ]
  },
  {
   "cell_type": "markdown",
   "metadata": {},
   "source": [
    "<a id='section1'></a>\n",
    "## 1. Regression Model\n",
    "\n",
    "The following video will introduce you to uncertainty and estimation in the context of linear trends and regression lines. "
   ]
  },
  {
   "cell_type": "code",
   "execution_count": null,
   "metadata": {},
   "outputs": [],
   "source": [
    "YouTubeVideo('aUsYPrGwdhU')"
   ]
  },
  {
   "cell_type": "markdown",
   "metadata": {},
   "source": [
    "<a id='section2'></a>\n",
    "\n",
    "## 2. Prediction Variability\n",
    "\n",
    "In the next video, you'll learn how to use bootstrap sampling to generate confidence intervals for predictions produced by linear regression."
   ]
  },
  {
   "cell_type": "code",
   "execution_count": null,
   "metadata": {},
   "outputs": [],
   "source": [
    "YouTubeVideo('SHWRa8-86ks')"
   ]
  },
  {
   "cell_type": "markdown",
   "metadata": {},
   "source": [
    "Run the cell below to load `movie_review`, a table that contains the `RottenTomatoes` score and `IMDB` score for the selected movies."
   ]
  },
  {
   "cell_type": "code",
   "execution_count": null,
   "metadata": {},
   "outputs": [],
   "source": [
    "movie_reviews = Table.read_table(\"movie_reviews.csv\")\n",
    "movie_reviews"
   ]
  },
  {
   "cell_type": "markdown",
   "metadata": {},
   "source": [
    "Find the predicted `IMDB` score for a movie that received a `RottenTomatoes` score of 78."
   ]
  },
  {
   "cell_type": "code",
   "execution_count": null,
   "metadata": {},
   "outputs": [],
   "source": [
    "..."
   ]
  },
  {
   "cell_type": "markdown",
   "metadata": {},
   "source": [
    "<details>\n",
    "    <summary>Solution</summary>\n",
    "\n",
    "    fit(movie_reviews, \"RottenTomatoes\", \"IMDB\", 78)\n",
    "<br>"
   ]
  },
  {
   "cell_type": "markdown",
   "metadata": {},
   "source": [
    "Find the predicted `IMDB` score for a `RottenTomatoes` score of 78 for 1000 bootstrapped resamples of `movie_reviews`. Store these prediction in an array called `predictions`. Generate a histogram to visualize the distribution of these simulated predictions."
   ]
  },
  {
   "cell_type": "code",
   "execution_count": null,
   "metadata": {},
   "outputs": [],
   "source": [
    "repetitions = 1000\n",
    "predictions = make_array()\n",
    "\n",
    "for i in np.arange(repetitions):\n",
    "    ...\n",
    "\n",
    "Table().with_column(\"Predicted IMDB Scores\", predictions).hist()"
   ]
  },
  {
   "cell_type": "markdown",
   "metadata": {},
   "source": [
    "<details>\n",
    "    <summary>Solution</summary>\n",
    "\n",
    "    for i in np.arange(repetitions):\n",
    "        bootstrap_sample = movie_reviews.sample()\n",
    "        bootstrap_prediction = fit(bootstrap_sample, \"RottenTomatoes\", \"IMDB\", 78)\n",
    "        predictions = np.append(predictions, bootstrap_prediction)\n",
    "\n",
    "    Table().with_column(\"Predicted IMDB Scores\", predictions).hist()\n",
    "<br>"
   ]
  },
  {
   "cell_type": "markdown",
   "metadata": {},
   "source": [
    "Generate a 95% confidence interval for the predicted `IMDB` score for a movie that received a `RottenTomatoes` score of 78"
   ]
  },
  {
   "cell_type": "code",
   "execution_count": null,
   "metadata": {},
   "outputs": [],
   "source": [
    "imdb_left = ...\n",
    "imdb_right = ...\n",
    "print('Approximate 95%-confidence interval: (' + str(round(imdb_left, 3)) + \", \"+ str(round(imdb_right, 3)) + \")\")"
   ]
  },
  {
   "cell_type": "markdown",
   "metadata": {},
   "source": [
    "<details>\n",
    "    <summary>Solution</summary>\n",
    "\n",
    "    imdb_left = percentile(2.5, predictions)\n",
    "    imdb_right = percentile(97.5, predictions)\n",
    "<br>"
   ]
  },
  {
   "cell_type": "markdown",
   "metadata": {},
   "source": [
    "<a id='section3'></a>\n",
    "\n",
    "## 3. The True Slope\n",
    "\n",
    "In the next video, you'll learn how to use bootstrap sampling to generate confidence intervals for the true slope of a linear regression line."
   ]
  },
  {
   "cell_type": "code",
   "execution_count": null,
   "metadata": {},
   "outputs": [],
   "source": [
    "YouTubeVideo('4Qa1uDn-uHU')"
   ]
  },
  {
   "cell_type": "markdown",
   "metadata": {},
   "source": [
    "Find the slope of the regression line used to predict `IMDB` scores from `RottenTomatoes` scores for 1000 bootstrapped resamples of movie_reviews. Store these slopes in an array called `bootstrap_slopes`. Generate a histogram to visualize the distribution of these simulated slopes."
   ]
  },
  {
   "cell_type": "code",
   "execution_count": null,
   "metadata": {},
   "outputs": [],
   "source": [
    "repetitions = 1000\n",
    "bootstrap_slopes = make_array()\n",
    "\n",
    "for i in np.arange(repetitions):\n",
    "    ...\n",
    "\n",
    "Table().with_column(\"Bootstrapped Regression Slopes\", bootstrap_slopes).hist()"
   ]
  },
  {
   "cell_type": "markdown",
   "metadata": {},
   "source": [
    "<details>\n",
    "    <summary>Solution</summary>\n",
    "\n",
    "    for i in np.arange(repetitions):\n",
    "        bootstrap_sample = movie_reviews.sample()\n",
    "        bootstrap_slope = slope(bootstrap_sample, \"RottenTomatoes\", \"IMDB\")\n",
    "        bootstrap_slopes = np.append(bootstrap_slopes, bootstrap_slope)\n",
    "\n",
    "    Table().with_column(\"Bootstrapped Regression Slopes\", bootstrap_slopes).hist()\n",
    "<br>"
   ]
  },
  {
   "cell_type": "markdown",
   "metadata": {},
   "source": [
    "Generate a 95% confidence interval for the true slope of the regression line that predicts `IMDB` scores from `RottenTomatoes` scores."
   ]
  },
  {
   "cell_type": "code",
   "execution_count": null,
   "metadata": {},
   "outputs": [],
   "source": [
    "slope_left = ...\n",
    "slope_right = ...\n",
    "print('Approximate 95%-confidence interval: (' + str(round(slope_left, 3)) + \", \"+ str(round(slope_right, 3)) + \")\")"
   ]
  },
  {
   "cell_type": "markdown",
   "metadata": {},
   "source": [
    "<details>\n",
    "    <summary>Solution</summary>\n",
    "\n",
    "    slope_left = percentile(2.5, bootstrap_slopes)\n",
    "    slope_right = percentile(97.5, bootstrap_slopes)\n",
    "<br>"
   ]
  },
  {
   "cell_type": "markdown",
   "metadata": {},
   "source": [
    "Suppose we wanted to run a hypothesis test with the null hypothesis that the true slope of the regression line predicted `IMDB` from `RottenTomatoes` was 0 and the alternative hypothesis that the true slope is not 0. What conclusion would you make? Assume a p-value cutoff of 0.05."
   ]
  },
  {
   "cell_type": "markdown",
   "metadata": {},
   "source": [
    "<details>\n",
    "    <summary>Solution</summary>\n",
    "The data is consistent with the alternative hypothesis, since 0 is not contained in the 95% confidence interval for regression slopes.\n",
    "<br>"
   ]
  },
  {
   "cell_type": "markdown",
   "metadata": {},
   "source": [
    "<a id='section4'></a>\n",
    "## 4. Check for Understanding\n",
    "\n",
    "**A. What condition must be met in order for the regression line to be a good approximation of the true line?**\n",
    "\n",
    "<details>\n",
    "    <summary>Solution</summary>\n",
    "    If the regression model holds and the sample size is large, then the regression line is likely to be close to the true line.\n",
    "</details>\n",
    "<br>"
   ]
  }
 ],
 "metadata": {
  "kernelspec": {
   "display_name": "Python 3",
   "language": "python",
   "name": "python3"
  },
  "language_info": {
   "codemirror_mode": {
    "name": "ipython",
    "version": 3
   },
   "file_extension": ".py",
   "mimetype": "text/x-python",
   "name": "python",
   "nbconvert_exporter": "python",
   "pygments_lexer": "ipython3",
   "version": "3.8.2"
  }
 },
 "nbformat": 4,
 "nbformat_minor": 4
}

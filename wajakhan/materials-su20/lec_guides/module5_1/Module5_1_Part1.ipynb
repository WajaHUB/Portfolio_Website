{
 "cells": [
  {
   "cell_type": "code",
   "execution_count": null,
   "metadata": {},
   "outputs": [],
   "source": [
    "# Run cells by clicking on them and hitting CTRL + ENTER on your keyboard\n",
    "from IPython.display import YouTubeVideo\n",
    "from datascience import *\n",
    "import numpy as np\n",
    "import matplotlib.pyplot as plt\n",
    "plt.style.use('fivethirtyeight')\n",
    "%matplotlib inline"
   ]
  },
  {
   "cell_type": "markdown",
   "metadata": {},
   "source": [
    "# Module 5.1 Part 1: Estimation, Confidence Intervals, and the Bootstrap\n",
    "\n",
    "In this module, we'll shift our focus from hypothesis testing to estimation. Much like hypothesis testing,\n",
    "estimation procedures use data to learn about a population's characteristics. Whereas hypothesis tests provide some\n",
    "insight on how data has been generated, estimation procedures allow us to make informed guesses about the true values of\n",
    "a population's parameters.\n",
    "\n",
    "4 videos make up this notebook, for a total run time of 42:54.\n",
    "\n",
    "1. [Percentiles](#section1) *1 videos, total runtime 4:56*\n",
    "2. [Estimation and Confidence Intervals](#section2) *2 videos, total runtime 16:49*\n",
    "3. [The Bootstrap](#section3) *1 video, total runtime 21:09*\n",
    "4. [Check for Understanding](#section4)\n",
    "\n",
    "Textbook readings:\n",
    "- [Chapter 13: Estimation](https://www.inferentialthinking.com/chapters/13/Estimation.html)\n",
    "- [Chapter 13.1: Percentiles](https://www.inferentialthinking.com/chapters/13/1/Percentiles.html)\n",
    "- [Chapter 13.2: The Bootstrap](https://www.inferentialthinking.com/chapters/13/2/Bootstrap.html)"
   ]
  },
  {
   "cell_type": "markdown",
   "metadata": {},
   "source": [
    "<a id='section1'></a>\n",
    "## 1. Percentiles\n",
    "\n",
    "In the next lecture video, you'll learn about *percentiles*. Pay close attention! We'll be using this tool a lot throughout the rest\n",
    "of Module 5.1."
   ]
  },
  {
   "cell_type": "code",
   "execution_count": null,
   "metadata": {},
   "outputs": [],
   "source": [
    "YouTubeVideo('MhP23zg47yY')"
   ]
  },
  {
   "cell_type": "markdown",
   "metadata": {},
   "source": [
    "The code corresponding to the discussion question is provided in the cells below.\n",
    "Determine the output of these expressions before running them!"
   ]
  },
  {
   "cell_type": "code",
   "execution_count": null,
   "metadata": {},
   "outputs": [],
   "source": [
    "s = make_array(1, 7, 3, 9, 5)"
   ]
  },
  {
   "cell_type": "code",
   "execution_count": null,
   "metadata": {},
   "outputs": [],
   "source": [
    "percentile(10, s) == 0"
   ]
  },
  {
   "cell_type": "code",
   "execution_count": null,
   "metadata": {},
   "outputs": [],
   "source": [
    "percentile(39, s) == percentile(40, s)"
   ]
  },
  {
   "cell_type": "code",
   "execution_count": null,
   "metadata": {},
   "outputs": [],
   "source": [
    "percentile(40, s) == percentile(41, s)"
   ]
  },
  {
   "cell_type": "code",
   "execution_count": null,
   "metadata": {},
   "outputs": [],
   "source": [
    "percentile(50, s) == 5"
   ]
  },
  {
   "cell_type": "markdown",
   "metadata": {},
   "source": [
    "<a id='section2'></a>\n",
    "## 2. Estimation\n",
    "Next, you'll be introduced to another flavor of statistical inference: estimation. Although we've briefly touched on it in previous\n",
    "lectures, the next videos provides a detailed overview of these procedures.\n",
    "\n",
    "As always, we encourage you to follow along with the demos using the data loaded at the end of this section."
   ]
  },
  {
   "cell_type": "code",
   "execution_count": null,
   "metadata": {},
   "outputs": [],
   "source": [
    "YouTubeVideo('JvuPIX8n2Lc')"
   ]
  },
  {
   "cell_type": "code",
   "execution_count": null,
   "metadata": {},
   "outputs": [],
   "source": [
    "YouTubeVideo('UH6fXRruu0Q')"
   ]
  },
  {
   "cell_type": "code",
   "execution_count": null,
   "metadata": {},
   "outputs": [],
   "source": [
    "sf = Table.read_table('https://www.inferentialthinking.com/data/san_francisco_2015.csv').select(3, 11, 21)\n",
    "sf.set_format('Total Compensation', NumberFormatter(0))\n",
    "sf = sf.where('Total Compensation', are.above(10000))\n",
    "sf.show(5)"
   ]
  },
  {
   "cell_type": "code",
   "execution_count": null,
   "metadata": {},
   "outputs": [],
   "source": [
    "# follow along here!\n",
    "..."
   ]
  },
  {
   "cell_type": "markdown",
   "metadata": {},
   "source": [
    "<a id='section3'></a>\n",
    "## 3. The Bootstrap\n",
    "\n",
    "As Professor DeNero mentioned at the end of the last video, we can use the the Bootstrap technique to study the variability\n",
    "of an estimator, even if we only have access to a single random sample! In the next lecture, you'll learn how this\n",
    "method is performed, and why it works.\n",
    "\n",
    "*NB: This recording is particularly long. To stay focused, we recommend that you take a break halfway through."
   ]
  },
  {
   "cell_type": "code",
   "execution_count": null,
   "metadata": {},
   "outputs": [],
   "source": [
    "YouTubeVideo('N-n27tX-pbU')"
   ]
  },
  {
   "cell_type": "code",
   "execution_count": null,
   "metadata": {},
   "outputs": [],
   "source": [
    "# follow along here!\n",
    "..."
   ]
  },
  {
   "cell_type": "markdown",
   "metadata": {},
   "source": [
    "<a id='section4'></a>\n",
    "## 4. Check for Understanding"
   ]
  },
  {
   "cell_type": "markdown",
   "metadata": {},
   "source": [
    "**A. As Professor DeNero discusses in lecture video 21.1, there are a variety of ways to compute the percentiles of numeric lists and\n",
    "arrays. Explain the output of the code cell below.**"
   ]
  },
  {
   "cell_type": "code",
   "execution_count": null,
   "metadata": {},
   "outputs": [],
   "source": [
    "num_list = [1, 5, 2, 6, 3, 7, 8, 10]\n",
    "percentile(60, num_list)"
   ]
  },
  {
   "cell_type": "markdown",
   "metadata": {},
   "source": [
    "<details>\n",
    "    <summary>Solution</summary>\n",
    "    If a percentile does not exactly correspond to an index of a list or array, the <code>percentile</code> function returns the\n",
    "    next largest element. Since <code>num_list</code> has 8 elements, the 60th percentile corresponds to element <code>8 * 0.6 = 4.8</code>.\n",
    "    The <code>percentile</code> function therefore returns the 5th ordered element of <code>num_list</code>: <code>6</code>.\n",
    "</details>"
   ]
  },
  {
   "cell_type": "markdown",
   "metadata": {},
   "source": [
    "**B. In which of the following scenarios can statistical estimation be used?**\n",
    "\n",
    "<ol>\n",
    "    <li>You work for the United States Census Bureau and are tasked with finding the average number\n",
    "    people living in each household.</li>\n",
    "    <li>Given a random sample of UC Berkeley students, you want to approximate the proportion of\n",
    "    all students who speak more than one language.</li>\n",
    "    <li>You flip a coin 100 times, and record the number of heads. You find that 70% of your\n",
    "    coin flips resulted in tails. Is this coin fair?</li>\n",
    "    <li>You're given a random sample of Californians and want to know whether there is evidence to suggest that\n",
    "    more than 25% of population are renters.</li>\n",
    "</ol>\n",
    "\n",
    "<details>\n",
    "    <summary>Solution</summary>\n",
    "    <ol>\n",
    "        <li>Because you are using census data, there is no need to perform any statistical inference!</li>\n",
    "        <li>Because you'd like to learn about the proportion of the entire student population that speaks more than one\n",
    "        language based on a random sample, an estimation procedure must be used.</li>\n",
    "        <li>Based on how you framed this question, a hypothesis testing procedure is best suited for this scenario. As you'll see in the next module though, the same question could be answered via an estimation procedure.</li>\n",
    "        <li>As with the scenario above, this scenario's formulation suggests that a hypothesis testing procedure is most appropriate.\n",
    "        However, you could also use an estimation procedure instead.</li>\n",
    "    </ol>\n",
    "    The answers to scenario 3 and 4 might surprise you. The lectures in the second part of this module will provide an explanation.\n",
    "</details>\n",
    "<br>"
   ]
  },
  {
   "cell_type": "markdown",
   "metadata": {},
   "source": [
    "**C. Fill in the blanks: Suppose we wish to learn about the \\_\\_\\_\\_\\_\\_ of a population. We do so by collecting a random sample,\n",
    "and then using this sample to compute an \\_\\_\\_\\_\\_\\_ of this value. If we were to repeat this process with a second random\n",
    "sample from the same population, the resulting \\_\\_\\_\\_\\_\\_ would be \\_\\_\\_\\_\\_\\_.**\n",
    "\n",
    "<details>\n",
    "    <summary>Solution</summary>\n",
    "    Suppose we wish to learn about the parameter of a population. We do so by collecting a random sample,\n",
    "    and then using this sample to compute an estimate of this value. If we were to repeat this process with a second random\n",
    "    sample from the same population, the resulting estimate will be different.\n",
    "</details>\n",
    "<br>"
   ]
  },
  {
   "cell_type": "markdown",
   "metadata": {},
   "source": [
    "**Recall the maternal smokers and baby weight dataset from Module 4.1. Let's use this random sample to estimate the average weight of babies born to non-smoking mothers. The data is loaded in the cell below.**"
   ]
  },
  {
   "cell_type": "code",
   "execution_count": null,
   "metadata": {},
   "outputs": [],
   "source": [
    "# load the baby table\n",
    "baby = Table.read_table('https://www.inferentialthinking.com/data/baby.csv')\n",
    "\n",
    "# filter out the babies whose mothers smoked, and extract their birthweights\n",
    "non_smoker = baby.column('Maternal Smoker') == False\n",
    "birthweight = baby.select('Birth Weight').where(non_smoker)\n",
    "birthweight"
   ]
  },
  {
   "cell_type": "markdown",
   "metadata": {},
   "source": [
    "**D. Compute the 90% confidence interval of the average baby weight.**"
   ]
  },
  {
   "cell_type": "code",
   "execution_count": null,
   "metadata": {},
   "outputs": [],
   "source": [
    "..."
   ]
  },
  {
   "cell_type": "markdown",
   "metadata": {},
   "source": [
    "<details>\n",
    "    <summary>Solution</summary>\n",
    "    \n",
    "    # define an array to contain our resampled means\n",
    "    means = make_array()\n",
    "\n",
    "    # define the number bootstrap samples to generate\n",
    "    boot_rep = 1000\n",
    "\n",
    "    # perform the bootstrap procedure\n",
    "    for i in np.arange(boot_rep):\n",
    "        resample = birthweight.sample(with_replacement = True)\n",
    "        means = np.append(means, np.mean(resample.column(0)))\n",
    "\n",
    "    # plot the histogram of resampled means\n",
    "    Table().with_column('Resampled Means', means).hist()\n",
    "\n",
    "    # compute the 90% confidence interval\n",
    "    lower_ci = percentile(5, means)\n",
    "    upper_ci = percentile(95, means)\n",
    "\n",
    "    print(\"The 90% confidence interval is \")\n",
    "    [np.round(lower_ci, 3), np.round(upper_ci, 3)]\n",
    "</details>\n",
    "\n",
    "<br>"
   ]
  },
  {
   "cell_type": "markdown",
   "metadata": {},
   "source": [
    "**E. What assumption must we make about the original random sample if we wish to use the Bootstrap method?**\n",
    "\n",
    "<details>\n",
    "    <summary>Solution</summary>\n",
    "    If we are to trust the results of the bootstrap method, we must be confident that our random sample\n",
    "    accurately portrays the population. Otherwise, the results of Bootstrap procedure are meaningless.\n",
    "</details>"
   ]
  }
 ],
 "metadata": {
  "kernelspec": {
   "display_name": "Python 3",
   "language": "python",
   "name": "python3"
  },
  "language_info": {
   "codemirror_mode": {
    "name": "ipython",
    "version": 3
   },
   "file_extension": ".py",
   "mimetype": "text/x-python",
   "name": "python",
   "nbconvert_exporter": "python",
   "pygments_lexer": "ipython3",
   "version": "3.8.2"
  }
 },
 "nbformat": 4,
 "nbformat_minor": 4
}

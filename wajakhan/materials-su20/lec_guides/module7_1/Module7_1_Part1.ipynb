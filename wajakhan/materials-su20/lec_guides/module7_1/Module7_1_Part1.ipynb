{
 "cells": [
  {
   "cell_type": "code",
   "execution_count": null,
   "metadata": {},
   "outputs": [],
   "source": [
    "# Run cells by clicking on them and hitting CTRL + ENTER on your keyboard\n",
    "from IPython.display import YouTubeVideo\n",
    "from datascience import *\n",
    "import numpy as np\n",
    "import matplotlib.pyplot as plots\n",
    "from mpl_toolkits.mplot3d import Axes3D\n",
    "plots.style.use('fivethirtyeight')\n",
    "%matplotlib inline"
   ]
  },
  {
   "cell_type": "markdown",
   "metadata": {},
   "source": [
    "# Module 7.1: Introduction to Classification\n",
    "\n",
    "In this module, you'll learn how to construct a machine learning algorithm for classifying binary outcomes. \n",
    "\n",
    "3 videos make up this notebook, for a total run time of 43:03.\n",
    "\n",
    "1. [Introduction](#section1) *1 video, total runtime 14:24*\n",
    "2. [Classifiers](#section2) *2 videos, total runtime 28:39*\n",
    "3. [Check for Understanding](#section3)\n",
    "\n",
    "Textbook readings:\n",
    "- [Chapter 17](https://www.inferentialthinking.com/chapters/17/Classification.html)\n",
    "- [Chapter 17.1: Nearest Neighbours](https://www.inferentialthinking.com/chapters/17/1/Nearest_Neighbors.html)"
   ]
  },
  {
   "cell_type": "markdown",
   "metadata": {},
   "source": [
    "<a id='section1'></a>\n",
    "\n",
    "## 1. Introduction\n",
    "\n",
    "In the first lecture recording of this module, Professor Wagner provides a high-level overview of machine learning algorithms with a \n",
    "particular focus on classifiers."
   ]
  },
  {
   "cell_type": "code",
   "execution_count": null,
   "metadata": {},
   "outputs": [],
   "source": [
    "YouTubeVideo('D_E4b0QG_fY')"
   ]
  },
  {
   "cell_type": "markdown",
   "metadata": {},
   "source": [
    "<a id='section2'></a>\n",
    "\n",
    "## 2. Classifiers\n",
    "\n",
    "Now that you've gained some familiarity with classifiers, you'll see how they can be used in a medical setting. This lecture will also\n",
    "introduce you to a simple yet powerful classification technique called *nearest neighbors*."
   ]
  },
  {
   "cell_type": "code",
   "execution_count": null,
   "metadata": {},
   "outputs": [],
   "source": [
    "YouTubeVideo('AqOPmNjjA6A')"
   ]
  },
  {
   "cell_type": "markdown",
   "metadata": {},
   "source": [
    "The cell below loads the Chronic Kidney Disease dataset. Use it to follow along as Professor Wagner performs an exploratory analysis."
   ]
  },
  {
   "cell_type": "code",
   "execution_count": null,
   "metadata": {},
   "outputs": [],
   "source": [
    "# load the data\n",
    "ckd = Table.read_table('https://www.inferentialthinking.com/data/ckd.csv').relabeled('Blood Glucose Random', 'Glucose')\n",
    "ckd.show(5)"
   ]
  },
  {
   "cell_type": "code",
   "execution_count": null,
   "metadata": {},
   "outputs": [],
   "source": [
    "..."
   ]
  },
  {
   "cell_type": "markdown",
   "metadata": {},
   "source": [
    "The next video introduces another problem which can be solved using classifiers: fraud detection. In particular, you'll\n",
    "see how machine learning algorithms can be used to identify counterfeit bank notes."
   ]
  },
  {
   "cell_type": "code",
   "execution_count": null,
   "metadata": {},
   "outputs": [],
   "source": [
    "YouTubeVideo('eHdDpemodVc')"
   ]
  },
  {
   "cell_type": "markdown",
   "metadata": {},
   "source": [
    "Use the `banknotes` data loaded in the table below to follow along."
   ]
  },
  {
   "cell_type": "code",
   "execution_count": null,
   "metadata": {},
   "outputs": [],
   "source": [
    "# load the data\n",
    "banknotes = Table.read_table('https://www.inferentialthinking.com/data/banknote.csv')\n",
    "banknotes.show(5)"
   ]
  },
  {
   "cell_type": "code",
   "execution_count": null,
   "metadata": {},
   "outputs": [],
   "source": [
    "..."
   ]
  },
  {
   "cell_type": "markdown",
   "metadata": {},
   "source": [
    "<a id='section3'></a>\n",
    "\n",
    "## 3. Check for Understanding\n",
    "\n"
   ]
  },
  {
   "cell_type": "markdown",
   "metadata": {},
   "source": [
    "**Consider the Chronic Kidney Disease data from lecture video 30.1. In addition to containing information on whether each\n",
    "patient had chronic kidney disease, it possesses variables indicating if a patient has anemia, hypertension, diabetes, etc.**\n",
    "\n",
    "**A. Based on the scatter plot below, do you think we could use the nearest neighbor algorithm to predict whether a patient is\n",
    "anemic based on their blood glucose and white blood cell count?**"
   ]
  },
  {
   "cell_type": "code",
   "execution_count": null,
   "metadata": {},
   "outputs": [],
   "source": [
    "ckd.scatter('White Blood Cell Count', 'Glucose', colors = 'Anemia')"
   ]
  },
  {
   "cell_type": "markdown",
   "metadata": {},
   "source": [
    "<details>\n",
    "    <summary>Solution</summary>\n",
    "    No, it doesn't look like this algorithm would do a good job of classifying patients. The observations' colors appear to\n",
    "    be randomly assigned in this scatter plot. Assigning new observations to the class of their nearest neighbour seems unlikely\n",
    "    to produce accurate results.\n",
    "</details>"
   ]
  },
  {
   "cell_type": "markdown",
   "metadata": {},
   "source": [
    "**B. What two variables could we use to create a nearest neighbor classifier to predict if a patient is hypertensive?**"
   ]
  },
  {
   "cell_type": "code",
   "execution_count": null,
   "metadata": {},
   "outputs": [],
   "source": [
    "ckd.scatter(..., ..., colors = 'Hypertension')"
   ]
  },
  {
   "cell_type": "markdown",
   "metadata": {},
   "source": [
    "<details>\n",
    "    <summary>Solution</summary>\n",
    "    There are a few possibilities, though none of them are perfect:\n",
    "    \n",
    "    ckd.scatter('Hemoglobin', 'Red Blood Cell Count', colors = 'Hypertension')\n",
    "    ckd.scatter('Potassium', 'Red Blood Cell Count', colors = 'Hypertension')\n",
    "    ckd.scatter('Sodium', 'Packed Cell Volume', colors = 'Hypertension')\n",
    "</details>"
   ]
  },
  {
   "cell_type": "markdown",
   "metadata": {},
   "source": [
    "**C. Consider the `banknotes` dataset from lecture 30.3. Suppose we fit a nearest neighbor classifier using the variables\n",
    "in the figures below, and use our algorithm to predict whether a new set of bills are counterfeit. Note that the counterfeit and\n",
    "non-counterfeit bills in this plot are completely separated.**\n",
    "\n",
    "**Will our algorithm identify the counterfeits in our new set bank notes with 100% accuracy?**"
   ]
  },
  {
   "cell_type": "code",
   "execution_count": null,
   "metadata": {},
   "outputs": [],
   "source": [
    "fig = plots.figure(figsize = (8, 8))\n",
    "ax = Axes3D(fig)\n",
    "ax.scatter(\n",
    "    banknotes.column('WaveletSkew'),\n",
    "    banknotes.column('WaveletVar'),\n",
    "    banknotes.column('WaveletCurt'),\n",
    "    c = banknotes.column('Class'),\n",
    "    s = 20\n",
    ");"
   ]
  },
  {
   "cell_type": "markdown",
   "metadata": {},
   "source": [
    "<details>\n",
    "    <summary>Solution</summary>\n",
    "    We can't say whether our algorithm will be 100% accurate for a new set of bills. Any counterfeit bank notes in our new\n",
    "    set of bills may have been created using different techniques than those used in the bills on which our data was trained.\n",
    "    In other words, we don't know if our algorithm will generalize well to a new dataset. \n",
    "</details>"
   ]
  }
 ],
 "metadata": {
  "kernelspec": {
   "display_name": "Python 3",
   "language": "python",
   "name": "python3"
  },
  "language_info": {
   "codemirror_mode": {
    "name": "ipython",
    "version": 3
   },
   "file_extension": ".py",
   "mimetype": "text/x-python",
   "name": "python",
   "nbconvert_exporter": "python",
   "pygments_lexer": "ipython3",
   "version": "3.8.2"
  }
 },
 "nbformat": 4,
 "nbformat_minor": 4
}

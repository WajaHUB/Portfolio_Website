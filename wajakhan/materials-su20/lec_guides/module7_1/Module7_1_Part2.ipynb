{
 "cells": [
  {
   "cell_type": "code",
   "execution_count": null,
   "metadata": {},
   "outputs": [],
   "source": [
    "# Run cells by clicking on them and hitting CTRL + ENTER on your keyboard\n",
    "from IPython.display import YouTubeVideo\n",
    "from datascience import *\n",
    "import numpy as np\n",
    "import matplotlib.pyplot as plots\n",
    "plots.style.use('fivethirtyeight')\n",
    "%matplotlib inline"
   ]
  },
  {
   "cell_type": "markdown",
   "metadata": {},
   "source": [
    "# Module 7.2: Classifiers\n",
    "\n",
    "Now that you've gotten your feet wet with classifiers, we'll formalize the key terminology and concepts of classification. By the end\n",
    "of this lecture guide, you'll be able to create your own classifiers, and apply them to a wide range of problems.\n",
    "\n",
    "6 videos make up this notebook, for a total run time of 89:56.\n",
    "\n",
    "1. [Terminology](#section1) *1 videos, total runtime 7:48*\n",
    "2. [Breast Cancer Dataset](#section2) *1 video, total runtime 11:59*\n",
    "3. [Nearest Neighbors](#section3) *2 videos, total runtime 36:34*\n",
    "4. [Evaluation](#section4) *1 video, total runtime 13:34*\n",
    "5. [Visualizing ](#section5) *1 video, total runtime 20:01*\n",
    "6. [Check for Understanding](#section6)\n",
    "\n",
    "Textbook readings:\n",
    "- [Chapter 17.2: Training and Testing](https://www.inferentialthinking.com/chapters/17/2/Training_and_Testing.html)\n",
    "- [Chapter 17.3: Rows of a Table](https://www.inferentialthinking.com/chapters/17/3/Rows_of_Tables.html)\n",
    "- [Chapter 17.4: Implementing the Classifier](https://www.inferentialthinking.com/chapters/17/4/Implementing_the_Classifier.html)\n",
    "- [Chapter 17.5: The Accuracy of the Classifier](https://www.inferentialthinking.com/chapters/17/5/Accuracy_of_the_Classifier.html)"
   ]
  },
  {
   "cell_type": "markdown",
   "metadata": {},
   "source": [
    "<a id='section1'></a>\n",
    "\n",
    "## 1. Terminology\n",
    "\n",
    "Before we go any further, Professor Wagner will introduce the terminology commonly used in classification problems.\n",
    "He'll also sketch out how classifiers learn the patterns and associations contained in the data."
   ]
  },
  {
   "cell_type": "code",
   "execution_count": null,
   "metadata": {},
   "outputs": [],
   "source": [
    "YouTubeVideo('-7haErHby0U')"
   ]
  },
  {
   "cell_type": "markdown",
   "metadata": {},
   "source": [
    "<a id='section2'></a>\n",
    "\n",
    "## 2. Breast Cancer Dataset\n",
    "\n",
    "The next lecture introduces a dataset which we will use throughout the rest of the notebook. It contains various\n",
    "attributes describing benign and malignant tumor samples collected from breast tissue.\n",
    "\n",
    "The data is loaded in the code cell below the video. Take a few minutes to explore it before moving on\n",
    "to Section 3. "
   ]
  },
  {
   "cell_type": "code",
   "execution_count": null,
   "metadata": {},
   "outputs": [],
   "source": [
    "YouTubeVideo('fpBy5ckZFCA')"
   ]
  },
  {
   "cell_type": "code",
   "execution_count": null,
   "metadata": {},
   "outputs": [],
   "source": [
    "# load the data\n",
    "patients = Table.read_table('https://www.inferentialthinking.com/data/breast-cancer.csv').drop('ID')\n",
    "patients.show(5)"
   ]
  },
  {
   "cell_type": "code",
   "execution_count": null,
   "metadata": {},
   "outputs": [],
   "source": [
    "# explore here\n",
    "..."
   ]
  },
  {
   "cell_type": "markdown",
   "metadata": {},
   "source": [
    "<a id='section3'></a>\n",
    "\n",
    "## 3. Nearest Neighbors\n",
    "\n",
    "You should have a strong qualitative understanding of the nearest neighbors classifier by now. The next two videos\n",
    "will provide you with the mathematical concepts and programming tools needed to actually build one on your own."
   ]
  },
  {
   "cell_type": "code",
   "execution_count": null,
   "metadata": {},
   "outputs": [],
   "source": [
    "YouTubeVideo('R-08BgOxtsI')"
   ]
  },
  {
   "cell_type": "markdown",
   "metadata": {},
   "source": [
    "Compute the distance between the first and last patient in the `patients` table. Don't forget to remove the `Class` label!"
   ]
  },
  {
   "cell_type": "code",
   "execution_count": null,
   "metadata": {},
   "outputs": [],
   "source": [
    "def distance(x, y):\n",
    "    ...\n",
    "\n",
    "def row_distance(row1, row2):\n",
    "    ...\n",
    "\n",
    "..."
   ]
  },
  {
   "cell_type": "markdown",
   "metadata": {},
   "source": [
    "<details>\n",
    "    <summary>Solution</summary>\n",
    "    \n",
    "    def distance(x, y):\n",
    "        return np.sqrt(np.sum((x - y)**2))\n",
    "\n",
    "    def row_distance(row1, row2):\n",
    "        return distance(np.array(list(row1)), np.array(list(row2)))\n",
    "\n",
    "    classless_patients = patients.drop('Class')\n",
    "\n",
    "    row_distance(classless_patients.row(0), classless_patients.row(classless_patients.num_rows - 1))\n",
    "</details>"
   ]
  },
  {
   "cell_type": "code",
   "execution_count": null,
   "metadata": {},
   "outputs": [],
   "source": [
    "YouTubeVideo('l7m4stmyncA')"
   ]
  },
  {
   "cell_type": "markdown",
   "metadata": {},
   "source": [
    "Practice makes perfect! Try to code the classifier from the above recording on your own.\n",
    "\n",
    "*The code used in this video is a little outdated. Make sure to use `make_array` instead of `[...]`, and to use `np.append` instead of `append`*"
   ]
  },
  {
   "cell_type": "code",
   "execution_count": null,
   "metadata": {},
   "outputs": [],
   "source": [
    "def distances(training, example):\n",
    "    ...\n",
    "    \n",
    "def closest(training, example, k):\n",
    "    ...\n",
    "    \n",
    "def majority_class(neighbors):\n",
    "    ...\n",
    "\n",
    "def classify(training, example, k):\n",
    "    ..."
   ]
  },
  {
   "cell_type": "code",
   "execution_count": null,
   "metadata": {},
   "outputs": [],
   "source": [
    "# test your classifier here\n",
    "..."
   ]
  },
  {
   "cell_type": "markdown",
   "metadata": {},
   "source": [
    "<details>\n",
    "    <summary>Solution</summary>\n",
    "    \n",
    "    def distances(training, example):\n",
    "        dists = make_array()\n",
    "        attributes = training.drop('Class')\n",
    "        for row in attributes.rows:\n",
    "            dist = row_distance(row, example)\n",
    "            dists = np.append(dists, dist)\n",
    "        return training.with_columns('Distance', dists)\n",
    "\n",
    "    def closest(training, example, k):\n",
    "        return distances(training, example).sort('Distance').take(np.arange(k))\n",
    "\n",
    "    def majority_class(neighbors):\n",
    "        return neighbors.group('Class').sort('count', descending = True).column('Class').item(0)\n",
    "\n",
    "    def classify(training, example, k):\n",
    "        nearest_neighbors = closest(training, example, k)\n",
    "        return majority_class(nearest_neighbors)\n",
    "</details>"
   ]
  },
  {
   "cell_type": "markdown",
   "metadata": {},
   "source": [
    "<a id='section4'></a>\n",
    "\n",
    "## 4. Evaluation\n",
    "\n",
    "Now that you know how to code a nearest neighbors classifier, you'll learn how to evaluate how accurate it is.\n",
    "Professor Wagner also explains the importance of splitting your data into a training and test set."
   ]
  },
  {
   "cell_type": "code",
   "execution_count": null,
   "metadata": {},
   "outputs": [],
   "source": [
    "YouTubeVideo('_Y3-ZItTs3M')"
   ]
  },
  {
   "cell_type": "markdown",
   "metadata": {},
   "source": [
    "Fit 10 nearest neighbors classifiers to the `patient` data for $k = 1, \\ldots, 10$.\n",
    "Randomly assign 80% of the data to the training set, and the rest to the test set.\n",
    "Which model would you prefer to use if you had to classify a new patient's tumor?"
   ]
  },
  {
   "cell_type": "code",
   "execution_count": null,
   "metadata": {},
   "outputs": [],
   "source": [
    "# split the data into training and test sets\n",
    "shuffled = ...\n",
    "trainset = ...\n",
    "testset = ...\n",
    "\n",
    "# define a function to evaluate classifier accuracy\n",
    "def evaluate_accuracy(training, test, k):\n",
    "    ...\n",
    "\n",
    "\n",
    "# evaluate the classifiers' accuracies\n",
    "classifier_accuracy = make_array()\n",
    "for k in np.arange(1, 11):\n",
    "    classifier_accuracy = ...\n",
    "\n",
    "classifier_accuracy"
   ]
  },
  {
   "cell_type": "markdown",
   "metadata": {},
   "source": [
    "<details>\n",
    "    <summary>Solution</summary>\n",
    "    \n",
    "    Code:\n",
    "    shuffled = patients.sample(with_replacement = False)\n",
    "    trainset = shuffled.take(range(0, round(683*0.8)))\n",
    "    testset = shuffled.take(range(round(683*0.8), 683))\n",
    "\n",
    "    def evaluate_accuracy(training, test, k):\n",
    "        test_attributes = test.drop('Class')\n",
    "        num_correct = 0\n",
    "        for i in np.arange(0, test.num_rows):\n",
    "            test_patient = test_attributes.row(i)\n",
    "            c = classify(training, test_patient, k)\n",
    "            if c == test.column('Class').item(i):\n",
    "                num_correct = num_correct + 1\n",
    "\n",
    "        return num_correct / test.num_rows\n",
    "\n",
    "\n",
    "    classifier_accuracy = make_array()\n",
    "\n",
    "    for k in np.arange(1, 11):\n",
    "        classifier_accuracy = np.append(classifier_accuracy, evaluate_accuracy(trainset, testset, k))\n",
    "\n",
    "    classifier_accuracy\n",
    "    \n",
    "Interpretation: How do we select the appropriate number of neighbors to use when fitting a nearest neighbors classifier? By selecting the model which maximizes the accuracy over the test set.\n",
    "</details>"
   ]
  },
  {
   "cell_type": "markdown",
   "metadata": {},
   "source": [
    "<a id='section5'></a>\n",
    "\n",
    "## 5. Decision Boundaries\n",
    "\n",
    "In this last lecture recording, Professor Wagner will provide some more insight on how nearest\n",
    "neighbor classifiers work. Don't worry about re-creating the fancy plots, serve only to build\n",
    "your intuition."
   ]
  },
  {
   "cell_type": "code",
   "execution_count": null,
   "metadata": {},
   "outputs": [],
   "source": [
    "YouTubeVideo('ctSif908tFI')"
   ]
  },
  {
   "cell_type": "markdown",
   "metadata": {},
   "source": [
    "<a id='section6'></a>\n",
    "\n",
    "## 6. Check for Understanding"
   ]
  },
  {
   "cell_type": "markdown",
   "metadata": {},
   "source": [
    "**A. True or false? To evaluate how accurate a classifier is, it suffices to train it on a dataset, and then evaluate the\n",
    "accuracy of its predictions using the same dataset.**\n",
    "\n",
    "<details>\n",
    "    <summary>Solution</summary>\n",
    "    False! If we were to evaluate the performance of a classifier using the data on which it was trained, we would end up with\n",
    "    overly optimistic results. Instead, we should randomly split our data into a training and a testing set, train the algorithm\n",
    "    on the training set, and then evaluate it on the testing set. This will provide us with a more reasonable measure of the\n",
    "    classifier's performance.\n",
    "</details>"
   ]
  },
  {
   "cell_type": "markdown",
   "metadata": {},
   "source": [
    "**B. True or false? If the attributes used in a nearest neighbors classifier have different variances or units, they\n",
    "they should be standardized before training the algorithm.**\n",
    "\n",
    "<details>\n",
    "    <summary>Solution</summary>\n",
    "    True! The nearest neighbor algorithm measures the similarity between observations based on distance. If the values\n",
    "    of one variable are more variable or are larger than those of the other variables, then, even if this variable isn't\n",
    "    that informative, it will be the the driving force of the similarity measure. Instead, we should compare like with like\n",
    "    to get an accurate measure of similarity.\n",
    "</details>"
   ]
  },
  {
   "cell_type": "markdown",
   "metadata": {},
   "source": [
    "## You did it!\n",
    "\n",
    "Congratulations, you just completed the last module of the semester! "
   ]
  }
 ],
 "metadata": {
  "kernelspec": {
   "display_name": "Python 3",
   "language": "python",
   "name": "python3"
  },
  "language_info": {
   "codemirror_mode": {
    "name": "ipython",
    "version": 3
   },
   "file_extension": ".py",
   "mimetype": "text/x-python",
   "name": "python",
   "nbconvert_exporter": "python",
   "pygments_lexer": "ipython3",
   "version": "3.8.2"
  }
 },
 "nbformat": 4,
 "nbformat_minor": 4
}

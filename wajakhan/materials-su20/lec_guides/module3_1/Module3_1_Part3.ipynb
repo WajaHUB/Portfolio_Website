{
 "cells": [
  {
   "cell_type": "code",
   "execution_count": null,
   "metadata": {},
   "outputs": [],
   "source": [
    "# Run cells by clicking on them and hitting CTRL + ENTER on your keyboard\n",
    "from IPython.display import YouTubeVideo\n",
    "from datascience import *\n",
    "import numpy as np\n",
    "%matplotlib inline"
   ]
  },
  {
   "cell_type": "markdown",
   "metadata": {},
   "source": [
    "# Module 3.1 Part 3: Conditioning\n",
    "\n",
    "In this lecture guide, you'll learn how prior information can be used to inform decisions using conditional probabilities.\n",
    "\n",
    "4 videos make up this notebook, for a total run time of 13:10.\n",
    "\n",
    "1. [Decisions](#section1) *1 video, total runtime 1:00*\n",
    "2. [Conditional Probability](#section2) *1 video, total runtime 4:47*\n",
    "3. [Baye's Rule](#section3) *2 videos, total runtime 7:23*\n",
    "4. [Check for Understanding](#section4) \n",
    "\n",
    "Textbook readings: [Chapter 18: Updating Predictions](https://www.inferentialthinking.com/chapters/18/Updating_Predictions.html)"
   ]
  },
  {
   "cell_type": "markdown",
   "metadata": {},
   "source": [
    "<a id='section1'></a>\n",
    "## 1. Decisions"
   ]
  },
  {
   "cell_type": "markdown",
   "metadata": {},
   "source": [
    "This video introduces the use of probability as a tool for decision making, and the complications that arise when\n",
    "making decisions based on multiple events."
   ]
  },
  {
   "cell_type": "code",
   "execution_count": null,
   "metadata": {
    "scrolled": true
   },
   "outputs": [],
   "source": [
    "YouTubeVideo(\"EMqTU_1V7V4\")"
   ]
  },
  {
   "cell_type": "markdown",
   "metadata": {},
   "source": [
    "What is the definition of the *false positive rate*?\n",
    "\n",
    "<details>\n",
    "    <summary>Solution</summary>\n",
    "    The probability that a person that doesn't have a condition mistakenly gets identified as having it.\n",
    "</details>"
   ]
  },
  {
   "cell_type": "markdown",
   "metadata": {},
   "source": [
    "<a id='section2'></a>\n",
    "## 2. Conditional Probability\n",
    "\n",
    "In this video, you'll about learn about conditional probabilities. Conditional probabilities allow us to compute the\n",
    "probability of an event while taking into account that other events have already occurred."
   ]
  },
  {
   "cell_type": "code",
   "execution_count": null,
   "metadata": {},
   "outputs": [],
   "source": [
    "YouTubeVideo(\"GgCYvGSWD1I\")"
   ]
  },
  {
   "cell_type": "markdown",
   "metadata": {},
   "source": [
    "You've accidentally mixed your M&Ms and Skittles in a bowl! You remember that there were originally 5 red M&Ms and 7 green M&Ms. You also remember that there were originally 9 red Skittles and 16 green Skittles.\n",
    "\n",
    "The table `candy` contains one row for each of the piece of candy in the bowl. "
   ]
  },
  {
   "cell_type": "code",
   "execution_count": null,
   "metadata": {},
   "outputs": [],
   "source": [
    "candy = Table().with_columns(\"Type\", np.append(np.repeat(\"M&M\", 12), np.repeat(\"Skittle\", 25)),\n",
    "                            \"Color\", np.append(np.append(np.repeat(\"Red\", 5), np.repeat(\"Green\", 7)), np.append(np.repeat(\"Red\", 9), np.repeat(\"Green\", 16))))\n",
    "\n",
    "candy"
   ]
  },
  {
   "cell_type": "markdown",
   "metadata": {},
   "source": [
    "In the cell below, generate a pivot table with a row for each type of candy and a column for each candy color."
   ]
  },
  {
   "cell_type": "code",
   "execution_count": null,
   "metadata": {},
   "outputs": [],
   "source": [
    "..."
   ]
  },
  {
   "cell_type": "markdown",
   "metadata": {},
   "source": [
    "<details>\n",
    "    <summary>Solution</summary>\n",
    "    \n",
    "    candy.pivot(\"Color\", \"Type\")\n",
    "</details>"
   ]
  },
  {
   "cell_type": "markdown",
   "metadata": {},
   "source": [
    "Suppose you draw one piece of candy at random.\n",
    "\n",
    "What is the probabilty you draw an M&M?\n",
    "<details>\n",
    "    <summary>Solution</summary>\n",
    "    \n",
    "    (7 + 5) / (7 + 5 + 16 + 9)\n",
    "</details>\n",
    "\n",
    "What is the probabilty you draw an green piece of candy?\n",
    "<details>\n",
    "    <summary>Solution</summary>\n",
    "    \n",
    "    (7 + 16) / (7 + 5 + 16 + 9)\n",
    "</details>\n",
    "\n",
    "What is the probabilty you draw an M&M, given that it's green?\n",
    "<details>\n",
    "    <summary>Solution</summary>\n",
    "    \n",
    "    7 / (7 + 16)\n",
    "</details>"
   ]
  },
  {
   "cell_type": "markdown",
   "metadata": {},
   "source": [
    "<a id='section3'></a>\n",
    "## 3. Bayes' Rule\n",
    "\n",
    "In this section you'll learn about Bayes' Rule and how it can be used to update predictions and probabilities. "
   ]
  },
  {
   "cell_type": "markdown",
   "metadata": {},
   "source": [
    "### Bayes' Rule"
   ]
  },
  {
   "cell_type": "code",
   "execution_count": null,
   "metadata": {},
   "outputs": [],
   "source": [
    "YouTubeVideo(\"TVJJytHgbeY\")"
   ]
  },
  {
   "cell_type": "markdown",
   "metadata": {},
   "source": [
    "### Example: Clinical Testing"
   ]
  },
  {
   "cell_type": "code",
   "execution_count": null,
   "metadata": {},
   "outputs": [],
   "source": [
    "YouTubeVideo(\"5p-X9_cFcOU\")"
   ]
  },
  {
   "cell_type": "markdown",
   "metadata": {},
   "source": [
    "Consider a diagnostic test for a disease that affects 15% of the population. If a person has the disease, the test has a 90% chance of returning positive. If a person does not have the disease, the test has a 20% chance of returning positive. What is the probabilty that a person does not have the disease, given that they received a negative test result?"
   ]
  },
  {
   "cell_type": "markdown",
   "metadata": {},
   "source": [
    "<details>\n",
    "    <summary>Solution</summary>\n",
    "    \n",
    "    P(no disease | test negative) = P(no disease and test negative) / P(test negative)\n",
    "    P(no disease | test negative) = (0.85 * 0.8) / (0.85 * 0.8 + 0.15 * 0.1)\n",
    "    P(no disease | test negative) = 0.9784\n",
    "</details>"
   ]
  },
  {
   "cell_type": "markdown",
   "metadata": {},
   "source": [
    "<a id='section4'></a>\n",
    "## 4. Check for Understanding\n",
    "\n",
    "You decide to do a blind taste test of 50 different ice cream flavors. You buy all 14 flavors of ice cream from Trader Joe's, all 21\n",
    "flavors from Safeway and all 15 flavors from Berkeley Bowl.\n",
    "\n",
    "Ice cream with brownie bits are your favorite! You know that 40% of Trader Joe's ice cream flavors have brownie bits,\n",
    "15% of Safeway's ice cream flavors have brownie bits, and 85% of Berkeley Bowl's ice cream flavors have brownie bits.\n",
    "\n",
    "You randomly select a carton of ice cream from your stash of 50.\n",
    "\n",
    "**A. What's the probability that it was from Berkeley Bowl?**\n",
    "\n",
    "<details>\n",
    "    <summary>Solution</summary>\n",
    "    \n",
    "    P(Berkeley Bowl) = 15/50 = 0.3\n",
    "</details>\n",
    "\n",
    "**B. What's the probability that it has brownie bits?**\n",
    "\n",
    "<details>\n",
    "    <summary>Solution</summary>\n",
    "    \n",
    "    P(brownie bits) = P(brownie bits & Trader Joe's) + P(brownie bits & Safeway) + P(brownie bits & Berkeley Bowl)\n",
    "    P(brownie bits) = (14/50) * 0.4 + (21/50) * 0.15 + (15/50) * 0.85\n",
    "    P(brownie bits) = 0.4300\n",
    "</details>\n",
    "\n",
    "**C. Given that the selected flavor didn't have brownie bits, what's the probability that it was from Safeway?**\n",
    "<details>\n",
    "    <summary>Solution</summary>\n",
    "    \n",
    "    P(Safeway | no brownie bits) = P(Safeway & no brownie bits) / P(no brownie bits)\n",
    "    P(Safeway | no brownie bits) = ((21/50) * 0.85) / ((14/50) * 0.6 + (21/50) * 0.85 + (15/50) * 0.15)\n",
    "    P(Safeway | no brownie bits) = 0.6263\n",
    "</details>"
   ]
  }
 ],
 "metadata": {
  "kernelspec": {
   "display_name": "Python 3",
   "language": "python",
   "name": "python3"
  },
  "language_info": {
   "codemirror_mode": {
    "name": "ipython",
    "version": 3
   },
   "file_extension": ".py",
   "mimetype": "text/x-python",
   "name": "python",
   "nbconvert_exporter": "python",
   "pygments_lexer": "ipython3",
   "version": "3.7.4"
  }
 },
 "nbformat": 4,
 "nbformat_minor": 4
}

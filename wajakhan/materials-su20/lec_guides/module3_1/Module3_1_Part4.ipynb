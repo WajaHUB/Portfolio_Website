{
 "cells": [
  {
   "cell_type": "code",
   "execution_count": null,
   "metadata": {},
   "outputs": [],
   "source": [
    "# Run cells by clicking on them and hitting CTRL + ENTER on your keyboard\n",
    "from IPython.display import YouTubeVideo\n",
    "from datascience import *\n",
    "import numpy as np\n",
    "%matplotlib inline"
   ]
  },
  {
   "cell_type": "markdown",
   "metadata": {},
   "source": [
    "# Module 3.1 Part 4: Sampling\n",
    "\n",
    "In this lecture guide, you'll learn about how probability can be used to analyze how individuals are sampled from a population\n",
    "\n",
    "5 videos make up this notebook, for a total run time of 26:18.\n",
    "\n",
    "1. [Sampling](#section1) *1 video, total runtime 6:48*\n",
    "2. [Distributions](#section2) *2 videos, total runtime 9:13*\n",
    "3. [Simulations](#section3) *1 video, total runtime 2:53*\n",
    "4. [Statistics](#section4) *1 video, total runtime 7:25*\n",
    "\n",
    "Textbook readings: [Chapter 10: Sampling and Empirical Distributions](https://www.inferentialthinking.com/chapters/10/Sampling_and_Empirical_Distributions.html)"
   ]
  },
  {
   "cell_type": "markdown",
   "metadata": {},
   "source": [
    "<a id='section1'></a>\n",
    "## 1. Sampling\n",
    "\n",
    "Let's start with a warm-up probability question.\n",
    "\n",
    "A population has 100 people, including Mo and Jo. We sample two people from the population at random, without replacement. Each person is equally likely to be included in the sample.\n",
    "\n",
    "What's the probability that both Mo and Jo are in the sample? In other words, find P(both Mo and Jo are in the sample). \n",
    "\n",
    "<details>\n",
    "    <summary>Solution</summary>\n",
    "    There are two different ways that both Mo and Jo can be in the sample: (1) we draw Mo, then Jo or (2) we draw Jo, then Mo. <br>\n",
    "    \n",
    "    P(first Mo, then Jo) = (1/100) * (1/99)\n",
    "    P(first Jo, then Mo) = (1/100) * (1/99)\n",
    "    \n",
    "   Since the two events are mutually exclusive, we can use the addition rule to find the probabilty that either happens. <br>\n",
    "    \n",
    "    P(both Mo and Jo are in the sample) = P(first Mo, then Jo) + P(first Jo, then Mo) \n",
    "    P(both Mo and Jo are in the sample) = (1/100) * (1/99) + (1/100) * (1/99)  \n",
    "    P(both Mo and Jo are in the sample) = 0.0002 \n",
    "</details>"
   ]
  },
  {
   "cell_type": "markdown",
   "metadata": {},
   "source": [
    "In the video below, you'll learn about the different ways that a population can be sampled. "
   ]
  },
  {
   "cell_type": "code",
   "execution_count": null,
   "metadata": {
    "scrolled": true
   },
   "outputs": [],
   "source": [
    "YouTubeVideo(\"YUA7fcT9sXU\")"
   ]
  },
  {
   "cell_type": "markdown",
   "metadata": {},
   "source": [
    "Run the cell below to load the top movies dataset"
   ]
  },
  {
   "cell_type": "code",
   "execution_count": null,
   "metadata": {},
   "outputs": [],
   "source": [
    "top_movies = Table.read_table('https://www.inferentialthinking.com/data/top_movies.csv')\n",
    "top_movies"
   ]
  },
  {
   "cell_type": "markdown",
   "metadata": {},
   "source": [
    "In the cell below, write code that takes a uniform random sample from `top_movies` of 10 movies that grossed more than $400,000,000 after adjusting for inflation."
   ]
  },
  {
   "cell_type": "code",
   "execution_count": null,
   "metadata": {},
   "outputs": [],
   "source": [
    "..."
   ]
  },
  {
   "cell_type": "markdown",
   "metadata": {},
   "source": [
    "<details>\n",
    "    <summary>Solution</summary>\n",
    "    \n",
    "    top_movies.where(\"Gross (Adjusted)\", are.above(400000000)).sample(10)\n",
    "</details>"
   ]
  },
  {
   "cell_type": "markdown",
   "metadata": {},
   "source": [
    "Supposed we create a sample by taking all movies released after 2010. What kind of sample is this?\n",
    "\n",
    "<details>\n",
    "    <summary>Solution</summary>\n",
    "    A deterministic sample\n",
    "</details>"
   ]
  },
  {
   "cell_type": "markdown",
   "metadata": {},
   "source": [
    "<a id='section2'></a>\n",
    "## 2. Distributions\n",
    "\n",
    "In this video, you'll about learn about probability distributions. Distributions are used to describe all possible outcomes of\n",
    "an event.\n",
    "\n",
    "### Probability and Empirical Distributions"
   ]
  },
  {
   "cell_type": "code",
   "execution_count": null,
   "metadata": {},
   "outputs": [],
   "source": [
    "YouTubeVideo(\"f7z8QSovv10\")"
   ]
  },
  {
   "cell_type": "markdown",
   "metadata": {},
   "source": [
    "Under what circumstances will a emperical distribution look like the probability distribution?\n",
    "\n",
    "<details>\n",
    "    <summary>Solution</summary>\n",
    "    When the emperical distribution is generated through many, many independent repetitions of an experiment.\n",
    "</details>"
   ]
  },
  {
   "cell_type": "markdown",
   "metadata": {},
   "source": [
    "### Large Random Samples"
   ]
  },
  {
   "cell_type": "code",
   "execution_count": null,
   "metadata": {},
   "outputs": [],
   "source": [
    "YouTubeVideo(\"z6tlWBbhEGM\")"
   ]
  },
  {
   "cell_type": "markdown",
   "metadata": {},
   "source": [
    "<a id='section3'></a>\n",
    "## 3. Simulations\n",
    "\n",
    "When we don't know the probablity distribution of an event, we can simulate many trials to generate a empirical distribution that approximates the probability distribution."
   ]
  },
  {
   "cell_type": "code",
   "execution_count": null,
   "metadata": {},
   "outputs": [],
   "source": [
    "YouTubeVideo(\"bZAH45VowH0\")"
   ]
  },
  {
   "cell_type": "markdown",
   "metadata": {},
   "source": [
    "In the cell below, simulate rolling 20 fair 10-sided die and return the proportion of times that a \"7\" is rolled."
   ]
  },
  {
   "cell_type": "code",
   "execution_count": null,
   "metadata": {},
   "outputs": [],
   "source": [
    "dice = np.arange(1, 8)\n",
    "..."
   ]
  },
  {
   "cell_type": "markdown",
   "metadata": {},
   "source": [
    "<details>\n",
    "    <summary>Solution</summary>\n",
    "    \n",
    "    np.count_nonzero(np.random.choice(dice, 20) == 7) / 20\n",
    "</details>"
   ]
  },
  {
   "cell_type": "markdown",
   "metadata": {},
   "source": [
    "<a id='section4'></a>\n",
    "## 4. Statistics\n",
    "\n",
    "We often want to learn about a fixed, unknown parameter of a population, but don't have the ability to take a census.\n",
    "Instead, we can estimate a population parameter by generating a statistic from simulations."
   ]
  },
  {
   "cell_type": "code",
   "execution_count": null,
   "metadata": {},
   "outputs": [],
   "source": [
    "YouTubeVideo(\"6FLXlYSa8NY\")"
   ]
  },
  {
   "cell_type": "markdown",
   "metadata": {},
   "source": [
    "Write code that repeats the process of rolling 20 fair 10-sided die 1000 times. Keep track of the proportion of times that a \"7\" in each trial in the array `prop_sevens`"
   ]
  },
  {
   "cell_type": "code",
   "execution_count": null,
   "metadata": {
    "scrolled": true
   },
   "outputs": [],
   "source": [
    "dice = np.arange(1, 11)\n",
    "trials = 1000\n",
    "prop_sevens = ...\n",
    "\n",
    "for i in ...:\n",
    "   prop_sevens = ...\n",
    "\n",
    "prop_sevens"
   ]
  },
  {
   "cell_type": "markdown",
   "metadata": {},
   "source": [
    "<details>\n",
    "    <summary>Solution</summary>\n",
    "    \n",
    "    dice = np.arange(1, 11)\n",
    "    trials = 1000\n",
    "    prop_sevens = make_array()\n",
    "\n",
    "    for i in np.arange(trials):\n",
    "       prop_sevens = np.append(num_sevens, np.count_nonzero(np.random.choice(dice, 20) == 7) / 20)\n",
    "\n",
    "    prop_sevens\n",
    "</details>"
   ]
  },
  {
   "cell_type": "markdown",
   "metadata": {},
   "source": [
    "Run the cell below to display the empirical distribution of your statistic. "
   ]
  },
  {
   "cell_type": "code",
   "execution_count": null,
   "metadata": {},
   "outputs": [],
   "source": [
    "Table().with_column(\"Proportion of Sevens\", num_sevens).hist(bins = np.arange(0, 1.01, 0.075))"
   ]
  }
 ],
 "metadata": {
  "kernelspec": {
   "display_name": "Python 3",
   "language": "python",
   "name": "python3"
  },
  "language_info": {
   "codemirror_mode": {
    "name": "ipython",
    "version": 3
   },
   "file_extension": ".py",
   "mimetype": "text/x-python",
   "name": "python",
   "nbconvert_exporter": "python",
   "pygments_lexer": "ipython3",
   "version": "3.7.4"
  }
 },
 "nbformat": 4,
 "nbformat_minor": 4
}

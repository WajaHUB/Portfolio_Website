{
 "cells": [
  {
   "cell_type": "code",
   "execution_count": null,
   "metadata": {},
   "outputs": [],
   "source": [
    "# Run cells by clicking on them and hitting CTRL + ENTER on your keyboard\n",
    "from IPython.display import YouTubeVideo\n",
    "from datascience import *\n",
    "import numpy as np\n",
    "%matplotlib inline"
   ]
  },
  {
   "cell_type": "markdown",
   "metadata": {},
   "source": [
    "# Module 3.1 Part 1: Iteration\n",
    "\n",
    "In this lecture guide, you'll learn about iteration and the methods you can use to efficiently run repeated computations.\n",
    "\n",
    "4 videos make up this notebook, for a total run time of 27:22.\n",
    "\n",
    "1. [Comparison](#section1) *1 video, total runtime 6:15*\n",
    "2. [Random Selection](#section2) *1 video, total runtime 4:54*\n",
    "3. [Control Statements](#section3) *1 video, total runtime 6:05*\n",
    "3. [For Statements](#section4) *1 video, total runtime 10:08*\n",
    "3. [Check for Understanding](#section5) \n",
    "\n",
    "Textbook readings: [Chapter 9: Randomness (Sections 9.1-9.3)](https://www.inferentialthinking.com/chapters/09/Randomness.html)"
   ]
  },
  {
   "cell_type": "markdown",
   "metadata": {},
   "source": [
    "<a id='section1'></a>\n",
    "## 1. Comparison\n",
    "\n",
    "In this video, you'll review how to compare both single values and arrays of values. Comparisons can be computed for many different data types, including integers, floats, and strings. When these expressions are run, comparisons evaluate to boolean values (either `True` or `False`)\n",
    "\n",
    "Comparisons can be combined by using `not`, `or`, and `and`. "
   ]
  },
  {
   "cell_type": "code",
   "execution_count": null,
   "metadata": {},
   "outputs": [],
   "source": [
    "YouTubeVideo(\"5zIr9d0KbLI\")"
   ]
  },
  {
   "cell_type": "markdown",
   "metadata": {},
   "source": [
    "For the following exercises, consider the table `actors`"
   ]
  },
  {
   "cell_type": "code",
   "execution_count": null,
   "metadata": {},
   "outputs": [],
   "source": [
    "actors = Table.read_table('https://www.inferentialthinking.com/data/actors.csv').sample(with_replacement = False)\n",
    "actors"
   ]
  },
  {
   "cell_type": "markdown",
   "metadata": {},
   "source": [
    "In the cell below, create an array `high_total_gross` with 50 elements. The value at index $i$ should be `True` if the actor in\n",
    "row $i$ has a total gross higher than 3,300 (in million USD) and a value of `False` if the actor in row $i$ has a total gross\n",
    "lower than or equal to 3,300 (in million USD)."
   ]
  },
  {
   "cell_type": "code",
   "execution_count": null,
   "metadata": {},
   "outputs": [],
   "source": [
    "num_high_gross_low_average = ...\n",
    "num_high_gross_low_average"
   ]
  },
  {
   "cell_type": "markdown",
   "metadata": {},
   "source": [
    "<details>\n",
    "    <summary>Solution</summary>\n",
    "    \n",
    "    num_high_gross_low_average = actors.column(\"Total Gross\") > 3300\n",
    "</details>"
   ]
  },
  {
   "cell_type": "markdown",
   "metadata": {},
   "source": [
    "In the cell below, write a line of code that sets `num_less_than_45` to the number of actors that have appeared in less than 45 movies,"
   ]
  },
  {
   "cell_type": "code",
   "execution_count": null,
   "metadata": {},
   "outputs": [],
   "source": [
    "num_less_than_45 = ...\n",
    "num_less_than_45"
   ]
  },
  {
   "cell_type": "markdown",
   "metadata": {},
   "source": [
    "<details>\n",
    "    <summary>Solution</summary>\n",
    "    \n",
    "    num_less_than_45 = np.count_nonzero(actors.column(\"Number of Movies\") < 45)\n",
    "</details>"
   ]
  },
  {
   "cell_type": "markdown",
   "metadata": {},
   "source": [
    "<a id='section2'></a>\n",
    "\n",
    "## 2. Random Selection\n",
    "\n",
    "In this video, you'll learn how to use `np.random.choice()` to select items at random from an array. "
   ]
  },
  {
   "cell_type": "code",
   "execution_count": null,
   "metadata": {
    "scrolled": true
   },
   "outputs": [],
   "source": [
    "YouTubeVideo(\"tOczQUu4PBg\")"
   ]
  },
  {
   "cell_type": "markdown",
   "metadata": {},
   "source": [
    "Suppose we have an array `d`, defined below: \n",
    "\n",
    "`d = np.arange(1, 7)`\n",
    "\n",
    "What results from evaluating the following two expressions? Are the outputs the same? Do they describe the same process?\n",
    "\n",
    "`np.random.choice(d, 1000) + np.random.choice(d, 1000)`\n",
    "\n",
    "`2 * np.random.choice(d, 1000)`\n",
    "\n",
    "\n",
    "<details>\n",
    "    <summary>Solution</summary>\n",
    "    The two lines describe different processes.<br> \n",
    "    In the first line, there are two random simulations and the results are added together. Each sum in the array can take on any value from 2 to 12.<br>\n",
    "    In the second line, there is just one random simulation and the result is multiplied by 2. Each product in the array can only be an even number from 2 to 12.\n",
    "</details>"
   ]
  },
  {
   "cell_type": "markdown",
   "metadata": {},
   "source": [
    "<a id='section3'></a>\n",
    "## 3. Control Statements\n",
    "In this video, you'll learn how to use `if`, `elif`, and `else` to control the sequence of computations based on specified conditions."
   ]
  },
  {
   "cell_type": "code",
   "execution_count": null,
   "metadata": {},
   "outputs": [],
   "source": [
    "YouTubeVideo(\"FuTri6BqicM\")"
   ]
  },
  {
   "cell_type": "markdown",
   "metadata": {},
   "source": [
    "Define the function `bus_times` which takes in the argument `minutes_away`, an integer describing how far away the bus is from your stop. \n",
    "If the bus is less than 5 minutes away, have the function return \"Early\". If the bus is at least 5 minutes away but less than 10 minutes\n",
    "away, have the function return \"On Time\". If the bus is at least 10 minutes away, return \"Late\"."
   ]
  },
  {
   "cell_type": "code",
   "execution_count": null,
   "metadata": {},
   "outputs": [],
   "source": [
    "def bus_times(minutes_away):\n",
    "    if ...: \n",
    "        ...\n",
    "    elif ...:\n",
    "        ...\n",
    "    else:\n",
    "        ...\n",
    "    \n",
    "bus_times(7)"
   ]
  },
  {
   "cell_type": "markdown",
   "metadata": {},
   "source": [
    "<details>\n",
    "    <summary>Solution</summary>\n",
    "    \n",
    "    def bus_times(minutes_away):\n",
    "        if minutes_away < 5: \n",
    "            return \"Early\" \n",
    "        elif minutes_away < 10: \n",
    "            return \"On Time\" \n",
    "        else: \n",
    "            return \"Late\"\n",
    "</details>"
   ]
  },
  {
   "cell_type": "markdown",
   "metadata": {},
   "source": [
    "<a id='section4'></a>\n",
    "## 4. For Statements\n",
    "\n",
    "In this video, you'll learn how to use `for` to efficiently perform a computation for every element in an array."
   ]
  },
  {
   "cell_type": "code",
   "execution_count": null,
   "metadata": {},
   "outputs": [],
   "source": [
    "YouTubeVideo(\"hieXCRBU1WE\")"
   ]
  },
  {
   "cell_type": "markdown",
   "metadata": {},
   "source": [
    "In the cell below, create an array with the results of 10 rolls of a fair 6-faced die."
   ]
  },
  {
   "cell_type": "code",
   "execution_count": null,
   "metadata": {},
   "outputs": [],
   "source": [
    "fair_die = np.arange(1, 7)\n",
    "..."
   ]
  },
  {
   "cell_type": "markdown",
   "metadata": {},
   "source": [
    "<details>\n",
    "    <summary>Solution</summary>\n",
    "    \n",
    "    np.random.choice(fair_die, 10)\n",
    "</details>"
   ]
  },
  {
   "cell_type": "markdown",
   "metadata": {},
   "source": [
    "Now repeat this process 100 times. In each of these 100 trials, record the sum of the rolls in the array `simulated_sums`"
   ]
  },
  {
   "cell_type": "code",
   "execution_count": null,
   "metadata": {},
   "outputs": [],
   "source": [
    "simulated_sums = make_array()\n",
    "num_trials = 100\n",
    "\n",
    "for i in ...:\n",
    "    trial_sum = ...\n",
    "    simulated_sums = ..."
   ]
  },
  {
   "cell_type": "markdown",
   "metadata": {},
   "source": [
    "<details>\n",
    "    <summary>Solution</summary>\n",
    "    \n",
    "    simulated_sums = make_array()\n",
    "    num_trials = 100 \n",
    "    for i in np.arange(num_trials):\n",
    "        trial_sum = sum(np.random.choice(fair_die, 10))\n",
    "        simulated_sums = np.append(simulated_sums, trial_sum)\n",
    "</details>"
   ]
  },
  {
   "cell_type": "markdown",
   "metadata": {},
   "source": [
    "Draw a histogram to view the distribution of the values in simulated_sums. "
   ]
  },
  {
   "cell_type": "code",
   "execution_count": null,
   "metadata": {},
   "outputs": [],
   "source": [
    "..."
   ]
  },
  {
   "cell_type": "markdown",
   "metadata": {},
   "source": [
    "<details>\n",
    "    <summary>Solution</summary>\n",
    "    Table().with_column(\"Trial Sums\", simulated_sums).hist()\n",
    "</details>"
   ]
  },
  {
   "cell_type": "markdown",
   "metadata": {},
   "source": [
    "<a id='section5'></a>\n",
    "## 5. Check for Understanding\n",
    "\n",
    "You’ve recently started playing Animal Crossing: New Horizons and are trying to make a fortune on your new desert island by buying and selling turnips! You decide to track turnip prices in order to figure out when the best time to sell would be. Prices change twice a day - once in the morning and once in the evening.\n",
    "\n",
    "You store your results in `turnips`, a table with the following two columns:\n",
    "\n",
    "- `morning_price` - the price of turnips in the morning (integer)\n",
    "- `evening_price` - the price of turnips in the evening (integer)\n",
    "\n",
    "**A. Which of the following will return the number of days when turnip prices are strictly higher in the morning than they are in the evening?**\n",
    "\n",
    "1. `len(turnips.column(\"morning_price\") > turnips.column(\"evening_price\"))`\n",
    "\n",
    "2. `np.count_nonzero(turnips.column(\"morning_price\") >= turnips.column(\"evening_price\"))`\n",
    "\n",
    "3. `sum(turnips.column(\"morning_price\") > turnips.column(\"evening_price\"))`\n",
    "\n",
    "4. `np.count_nonzero(turnips.column(\"morning_price\") !< turnips.column(\"evening_price\"))`\n",
    "\n",
    "<details>\n",
    "    <summary>Solution</summary>\n",
    "    \n",
    "    3) sum(turnips.column(\"morning_price\") > turnips.column(\"evening_price\"))\n",
    "</details>\n",
    "<br>\n",
    "\n",
    "**B. Turnips cost 99 bells. Fill in the blanks such that `days_with_profit` is equal to the number of days you could have made a profit by selling turnips.**\n",
    "\n",
    "```\n",
    "days_with_profit = 0 \n",
    "for i in np.arange(______________):\n",
    "    if turnips.______________.______________ > ______________ or turnips.______________.______________ > ______________: \n",
    "            days_with_profit = ______________\n",
    "days_with_profit\n",
    "```\n",
    "\n",
    "<details>\n",
    "    <summary>Solution</summary>\n",
    "    \n",
    "    days_with_profit = 0 \n",
    "    for i in np.arange(turnips.num_rows):\n",
    "        if turnips.column(\"morning_price\").item(i) > 99 or turnips.column(\"evening_price\").item(i) > 99:\n",
    "            days_with_profit = days_with_profit + 1 \n",
    "    days_with_profit\n",
    "</details>\n",
    "<br>"
   ]
  }
 ],
 "metadata": {
  "kernelspec": {
   "display_name": "Python 3",
   "language": "python",
   "name": "python3"
  },
  "language_info": {
   "codemirror_mode": {
    "name": "ipython",
    "version": 3
   },
   "file_extension": ".py",
   "mimetype": "text/x-python",
   "name": "python",
   "nbconvert_exporter": "python",
   "pygments_lexer": "ipython3",
   "version": "3.7.4"
  }
 },
 "nbformat": 4,
 "nbformat_minor": 4
}

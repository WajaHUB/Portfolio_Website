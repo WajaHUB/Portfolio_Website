{
 "cells": [
  {
   "cell_type": "code",
   "execution_count": null,
   "metadata": {},
   "outputs": [],
   "source": [
    "# Run cells by clicking on them and hitting CTRL + ENTER on your keyboard\n",
    "from IPython.display import YouTubeVideo\n",
    "from datascience import *\n",
    "import numpy as np\n",
    "import matplotlib.pyplot as plt\n",
    "plt.style.use('fivethirtyeight')\n",
    "%matplotlib inline"
   ]
  },
  {
   "cell_type": "markdown",
   "metadata": {},
   "source": [
    "# Module 3.2 Part 1: Introductions to Hypothesis Testing\n",
    "\n",
    "In this lecture guide, you'll be introduced to hypothesis testing. Hypothesis testing is a cornerstone of statistical inference.\n",
    "\n",
    "4 videos make up this notebook, for a total run time of 36:49.\n",
    "\n",
    "1. [Introduction to Hypothesis Testing](#section1) *1 video, total runtime 3:11*\n",
    "2. [Chance Models](#section2) *1 video, total runtime 13:57*\n",
    "3. [Model Assessment](#section3) *1 video, total runtime 15:43*\n",
    "4. [Check for Understanding](#section4) *1 video, total runtime 3:58*\n",
    "\n",
    "Textbook readings:\n",
    "- [Chapter 11: Testing Hypotheses](https://www.inferentialthinking.com/chapters/11/Testing_Hypotheses.html)\n",
    "- [Chapter 11.1: Assessing Models](https://www.inferentialthinking.com/chapters/11/1/Assessing_Models.html)"
   ]
  },
  {
   "cell_type": "markdown",
   "metadata": {},
   "source": [
    "<a id='section1'></a>\n",
    "## 1. Introduction to Hypothesis Testing\n",
    "\n",
    "In the following lecture video, Professor Adikhari introduces hypothesis testing and statistical models. You'll learn how\n",
    "to use these tools to assess assumptions about data."
   ]
  },
  {
   "cell_type": "code",
   "execution_count": null,
   "metadata": {},
   "outputs": [],
   "source": [
    "YouTubeVideo('wJ9Eov9Mdf0')"
   ]
  },
  {
   "cell_type": "markdown",
   "metadata": {},
   "source": [
    "<a id='section2'></a>\n",
    "## 2. Chance Models\n",
    "\n",
    "Next, we'll dive into chance models. A random jury panel selection model serves as a motivational example,\n",
    "with real data taken from the 1965 *Swain v. Alabama* Supreme Court case. It is a prime example of how statistics\n",
    "can be used as a tool for social justice."
   ]
  },
  {
   "cell_type": "code",
   "execution_count": null,
   "metadata": {},
   "outputs": [],
   "source": [
    "YouTubeVideo('OreWRDOb9fg')"
   ]
  },
  {
   "cell_type": "markdown",
   "metadata": {},
   "source": [
    "<a id='section3'></a>\n",
    "## 3. Model Assessment\n",
    "\n",
    "In this video, the concept of model assessment is prompted by an example relating to mendelian genetics. You'll learn how to assess whether data that you've collected supports a pre-conceived chance model."
   ]
  },
  {
   "cell_type": "code",
   "execution_count": null,
   "metadata": {},
   "outputs": [],
   "source": [
    "YouTubeVideo('OI4x1i_0kPU')"
   ]
  },
  {
   "cell_type": "markdown",
   "metadata": {},
   "source": [
    "<a id='section4'></a>\n",
    "## 4. Check For Understanding"
   ]
  },
  {
   "cell_type": "markdown",
   "metadata": {},
   "source": [
    "**A. The Berkeley City Council claims that 5% of Berkeley residents aren't respecting social distancing guidelines. Generate a random sample of 500 Berkeley residents assuming that the Berkeley City Council is correct. Count the number of individuals in this sample that aren't following these guidelines.**"
   ]
  },
  {
   "cell_type": "code",
   "execution_count": null,
   "metadata": {},
   "outputs": [],
   "source": [
    "population_props = ...\n",
    "sample_props = ...\n",
    "sample_nums = ...\n",
    "num_not_social_distancing = ...\n",
    "num_not_social_distancing"
   ]
  },
  {
   "cell_type": "markdown",
   "metadata": {},
   "source": [
    "<details>\n",
    "    <summary>Solution</summary>\n",
    "    \n",
    "    population_props = make_array(0.05, 0.95)\n",
    "    sample_props = sample_proportions(500, population_props)\n",
    "    sample_nums = 500 * sample_props\n",
    "    num_not_social_distancing = sample_nums.item(0)\n",
    "    num_not_social_distancing\n",
    "</details>\n",
    "<br>"
   ]
  },
  {
   "cell_type": "markdown",
   "metadata": {},
   "source": [
    "**B. Run your code from part A a few more times. Is the number of Berkeley residents that aren't respecting social distancing guidelines\n",
    "identical from sample to sample? If not, why?**\n",
    "\n",
    "<details>\n",
    "    <summary>Solution</summary>\n",
    "    No! We are taking a random sample from the population of Berkeley residents. The number of people that aren't\n",
    "    respecting the guidelines in each sample is a random quantity.\n",
    "</details>\n",
    "<br>"
   ]
  },
  {
   "cell_type": "markdown",
   "metadata": {},
   "source": [
    "**C. You suspect that Berkeley's municipal government is too optimistic about the number of residents respecting\n",
    "public health guidelines. You randomly sample 500 Berkeley residents, and find that 107 individuals in this sample refuse\n",
    "to wear a face mask in public.**\n",
    "\n",
    "**Is there reason to believe that the Berkeley City Council's claim is incorrect?**"
   ]
  },
  {
   "cell_type": "code",
   "execution_count": null,
   "metadata": {},
   "outputs": [],
   "source": [
    "# create array to store statistics\n",
    "distances = make_array()\n",
    "\n",
    "# generate 1000 statistics\n",
    "repetitions = 1000\n",
    "for i in np.arange(repetitions):\n",
    "    one_distance = ...\n",
    "    distances = ...\n",
    "\n",
    "# compute the distance in your sample\n",
    "sample_distance = ...\n",
    "\n",
    "# view the distribution of the distances    \n",
    "Table().with_column('Distance from 5%', distances).hist()\n",
    "plt.scatter(sample_distance, 0, color='red', s=30); # plot the test statistic"
   ]
  },
  {
   "cell_type": "markdown",
   "metadata": {},
   "source": [
    "<details>\n",
    "    <summary>Solution</summary>\n",
    "    <b>Code</b>: <br>\n",
    "    \n",
    "    # create array to store statistics\n",
    "    distances = make_array()\n",
    "\n",
    "    # generate 1000 statistics\n",
    "    repetitions = 1000\n",
    "    for i in np.arange(repetitions):\n",
    "        one_distance = abs((sample_proportions(500, make_array(0.05, 0.95))).item(0) - 0.05)\n",
    "        distances = np.append(distances, one_distance)\n",
    "\n",
    "    # compute the distance in your sample\n",
    "    sample_distance = abs(107/500 - 0.05)\n",
    "\n",
    "    # view the distribution of the distances\n",
    "    Table().with_column('Distance from 5%', distances).hist()\n",
    "    plt.scatter(sample_distance, 0, color='red', s=30); # plot the test statistic\n",
    "    \n",
    "<b>Interpretation</b>: <br>\n",
    "    If the Berkeley City Council's assumption about the proportion of Berkeley residents respecting social distancing guidelines\n",
    "    were true, then we would expect that roughly 5% of residents in most random samples of 500 residents to not be respecting\n",
    "    the public health guidelines. However, our sample contains 107 residents not respecting these safety measures! We have\n",
    "    reason to believe that the proportion of residents violating social distancing rules is much higher than 5%.\n",
    "</details>\n",
    "<br>"
   ]
  },
  {
   "cell_type": "markdown",
   "metadata": {},
   "source": [
    "**D. In the following video, you'll have to choose the appropriate statistics for evaluating different viewpoints.**"
   ]
  },
  {
   "cell_type": "code",
   "execution_count": null,
   "metadata": {},
   "outputs": [],
   "source": [
    "YouTubeVideo('ybDvLbRR4UA')"
   ]
  }
 ],
 "metadata": {
  "kernelspec": {
   "display_name": "Python 3",
   "language": "python",
   "name": "python3"
  },
  "language_info": {
   "codemirror_mode": {
    "name": "ipython",
    "version": 3
   },
   "file_extension": ".py",
   "mimetype": "text/x-python",
   "name": "python",
   "nbconvert_exporter": "python",
   "pygments_lexer": "ipython3",
   "version": "3.8.2"
  }
 },
 "nbformat": 4,
 "nbformat_minor": 4
}

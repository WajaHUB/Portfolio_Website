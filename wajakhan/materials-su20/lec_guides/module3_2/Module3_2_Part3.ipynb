{
 "cells": [
  {
   "cell_type": "code",
   "execution_count": null,
   "metadata": {},
   "outputs": [],
   "source": [
    "# Run cells by clicking on them and hitting CTRL + ENTER on your keyboard\n",
    "from IPython.display import YouTubeVideo\n",
    "from datascience import *\n",
    "import numpy as np\n",
    "%matplotlib inline"
   ]
  },
  {
   "cell_type": "markdown",
   "metadata": {},
   "source": [
    "# Module 3.2 Part 3: Decisions and Uncertainty\n",
    "\n",
    "In the final lecture guide of module 3.2, we'll formalize the concepts of uncertainty and hypothesis testing that we've\n",
    "used in Part 1 and 2.\n",
    "\n",
    "5 videos make up this notebook, for a total run time of 46:33.\n",
    "\n",
    "1. [Introduction](#section1) *1 video, total runtime 10:30*\n",
    "2. [Performing Hypothesis Tests](#section2) *3 videos, total runtime 31:56*\n",
    "3. [A Historical Note](#section3) *1 video, total runtime 4:07*\n",
    "4. [Check for Understanding](#section4)\n",
    "\n",
    "Textbook readings:\n",
    "- [Chapter 11.3: Decisions and Uncertainty](https://www.inferentialthinking.com/chapters/11/3/Decisions_and_Uncertainty.html)\n",
    "- [Chapter 11.4: Error Probabilities](https://www.inferentialthinking.com/chapters/11/4/Error_Probabilities.html)"
   ]
  },
  {
   "cell_type": "markdown",
   "metadata": {},
   "source": [
    "<a id='section1'></a>\n",
    "## 1. Introduction\n",
    "\n",
    "In this first video, Professor Adhikari formalizes the concept of a hypothesis test and introduces important\n",
    "testing terminology."
   ]
  },
  {
   "cell_type": "code",
   "execution_count": null,
   "metadata": {},
   "outputs": [],
   "source": [
    "YouTubeVideo('cJDmLNGsqVI')"
   ]
  },
  {
   "cell_type": "markdown",
   "metadata": {},
   "source": [
    "<a id='section2'></a>\n",
    "\n",
    "## 2. Performing Hypothesis Tests\n",
    "\n",
    "Let's apply what we've just learned about hypothesis testing to a problem relating grades and\n",
    "GSI teaching effectiveness. You'll learn about *p-values* and *(significance) cutoffs* along the way."
   ]
  },
  {
   "cell_type": "code",
   "execution_count": null,
   "metadata": {},
   "outputs": [],
   "source": [
    "YouTubeVideo('6InFSuRbwi4')"
   ]
  },
  {
   "cell_type": "code",
   "execution_count": null,
   "metadata": {},
   "outputs": [],
   "source": [
    "YouTubeVideo('8bUrCMzKl2s')"
   ]
  },
  {
   "cell_type": "code",
   "execution_count": null,
   "metadata": {},
   "outputs": [],
   "source": [
    "YouTubeVideo('IzL70hSdQS0')"
   ]
  },
  {
   "cell_type": "markdown",
   "metadata": {},
   "source": [
    "<a id='section3'></a>\n",
    "\n",
    "## 3. A Historical Note\n",
    "\n",
    "The 5% significance cutoff is a widely used convention across many disciplines. Are there any issues with this\n",
    "\"universal\" cutoff? How did this rule of thumb come to be? Should you be using this cutoff in your own analyses?\n",
    "All these questions and more will be answered in the next video."
   ]
  },
  {
   "cell_type": "code",
   "execution_count": null,
   "metadata": {},
   "outputs": [],
   "source": [
    "YouTubeVideo('EeSRmYnY3fM')"
   ]
  },
  {
   "cell_type": "markdown",
   "metadata": {},
   "source": [
    "**Disclosure:** Sir Ronald Fisher almost single-handedly created the field of statistics as we know it today. Although his contributions to the field\n",
    "were monumental, he held very disturbing views on race, and was a major proponent of eugenics. We recommend that you take a moment to\n",
    "review his [troublesome beliefs](http://gppreview.com/2019/12/16/eugenics-ethics-statistical-analysis/). It's always important to recognize and reflect on the context in which the methods\n",
    "and theories we use were created."
   ]
  },
  {
   "cell_type": "markdown",
   "metadata": {},
   "source": [
    "<a id='section4'></a>\n",
    "\n",
    "## Check for Understanding"
   ]
  },
  {
   "cell_type": "markdown",
   "metadata": {},
   "source": [
    "**A. Which of the following statements are true about the null hypothesis (often referred to as the \"null\")?**\n",
    "<ol>\n",
    "  <li>It is a well-defined chance model describing how the data were generated.</li>\n",
    "  <li>We can simulate the data under null's assumptions.</li>\n",
    "  <li>It is rejected when our hypothesis test's test statistic is consistent with the null's empirical distribution.</li>\n",
    "</ol>\n",
    "\n",
    "<details>\n",
    "    <summary>Solution</summary>\n",
    "    1 and 2 describe to the null hypothesis. Option 3 does not: When a hypothesis test's test statistic\n",
    "    is consistent with the null hypothesis's empirical distribution, we do not reject the null hypothesis.\n",
    "    There is insufficient evidence to do so.\n",
    "</details>\n",
    "<br>"
   ]
  },
  {
   "cell_type": "markdown",
   "metadata": {},
   "source": [
    "**B. True or False. When performing a hypothesis test, we can always visualize the distribution of the test\n",
    "statistic simulated under the null hypothesis to decide whether to reject the null hypothesis.**\n",
    "\n",
    "<details>\n",
    "    <summary>Solution</summary>\n",
    "    False! As you saw in lecture video 18.2, it's not always clear whether the observed test statistic could\n",
    "    be reasonably generated under the null hypothesis. Instead, we can use a p-value. If the p-value is below\n",
    "    our chosen cutoff, then we reject the null hypothesis. Otherwise, we fail to reject it.\n",
    "</details>\n",
    "<br>"
   ]
  },
  {
   "cell_type": "markdown",
   "metadata": {},
   "source": [
    "**C. Complete the sentence. Suppose that you conduct a hypothesis test with a 1% cutoff. If the null hypothesis\n",
    "is true, there is a 1% chance that you ________________.**\n",
    "\n",
    "<details>\n",
    "    <summary>Solution</summary>\n",
    "    Suppose that you conduct a hypothesis test with a 1% cutoff. If the null hypothesis\n",
    "    is true, there is a 1% chance that you <b>reject the null hypothesis anyways</b>. <br>\n",
    "    <br>\n",
    "    In other words, if you were to repeat the hypothesis testing procedure 1000 times on 1000 different random samples\n",
    "    from the same population, you would expect to reject the null about 10 times if the null hypothesis is in fact true.\n",
    "</details>\n",
    "<br>"
   ]
  },
  {
   "cell_type": "markdown",
   "metadata": {},
   "source": [
    "**D. Suppose that a pharmaceutical company is touting a new drug developed to treat patients with a rare form of cancer.\n",
    "A group of doctors are interested in prescribing this treatment to their patients, but aren't certain that this new drug\n",
    "is more effective than the current standard of care. They collect data – on mice, of course! –, and then perform\n",
    "a hypothesis test to determine whether this new treatment is better than the existing one.\n",
    "In your own words, explain why these doctors may favor a 1% cutoff over a 5% cutoff when\n",
    "performing their hypothesis test?**\n",
    "\n",
    "<details>\n",
    "    <summary>Solution</summary>\n",
    "    When lives are on the line, it's best to be risk averse. By decreasing the significance cutoff of their\n",
    "    hypothesis tests to 1%, doctors decrease the chance that they erroneously reject a null hypothesis that is\n",
    "    in fact true. Such a mistake might negatively impact the lives of their patients.\n",
    "</details>\n",
    "<br>"
   ]
  }
 ],
 "metadata": {
  "kernelspec": {
   "display_name": "Python 3",
   "language": "python",
   "name": "python3"
  },
  "language_info": {
   "codemirror_mode": {
    "name": "ipython",
    "version": 3
   },
   "file_extension": ".py",
   "mimetype": "text/x-python",
   "name": "python",
   "nbconvert_exporter": "python",
   "pygments_lexer": "ipython3",
   "version": "3.8.2"
  }
 },
 "nbformat": 4,
 "nbformat_minor": 4
}

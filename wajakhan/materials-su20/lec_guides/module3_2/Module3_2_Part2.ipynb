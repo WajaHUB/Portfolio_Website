{
 "cells": [
  {
   "cell_type": "code",
   "execution_count": null,
   "metadata": {},
   "outputs": [],
   "source": [
    "# Run cells by clicking on them and hitting CTRL + ENTER on your keyboard\n",
    "from IPython.display import YouTubeVideo\n",
    "from datascience import *\n",
    "import numpy as np\n",
    "%matplotlib inline"
   ]
  },
  {
   "cell_type": "markdown",
   "metadata": {},
   "source": [
    "# Module 3.2 Part 2: Comparing Distributions\n",
    "\n",
    "In this module, we'll extend the hypothesis testing procedure seen in the previous lecture guide to compare distributions\n",
    "with more than two categories.\n",
    "\n",
    "4 videos make up this notebook, for a total run time of 37:15.\n",
    "\n",
    "1. [Introduction to Comparing Distributions](#section1) *1 video, total runtime 6:03*\n",
    "2. [Assessing Models](#section2) *2 videos, total runtime 28:25*\n",
    "3. [Summary](#section3) *1 video, total runtime 2:47*\n",
    "4. [Check for Understanding](#section4)\n",
    "\n",
    "Textbook readings: [Chapter 11.2: Multiple Categories](https://www.inferentialthinking.com/chapters/11/2/Multiple_Categories.html)"
   ]
  },
  {
   "cell_type": "markdown",
   "metadata": {},
   "source": [
    "<a id='section1'></a>\n",
    "## 1. Introduction to Comparing Distributions\n",
    "\n",
    "In this lecture video, you'll learn how to compare distributions involving more than two categories. An example on\n",
    "racial and ethnic disparities in Alameda County jury pools is introduced. We'll return to this example in subsequent\n",
    "videos."
   ]
  },
  {
   "cell_type": "code",
   "execution_count": null,
   "metadata": {},
   "outputs": [],
   "source": [
    "YouTubeVideo('-FppaIdE0sY')"
   ]
  },
  {
   "cell_type": "markdown",
   "metadata": {},
   "source": [
    "<a id='section2'></a>\n",
    "## 2. Model Assessment\n",
    "\n",
    "A new statistic that measures the difference between two categorical variable distributions,\n",
    "the total variation distance, is introduced in lecture 17.2. It is then used to assess whether there is\n",
    "evidence of racial discrimination in Alameda County's jury pools."
   ]
  },
  {
   "cell_type": "code",
   "execution_count": null,
   "metadata": {},
   "outputs": [],
   "source": [
    "YouTubeVideo('4fBN_xShzes')"
   ]
  },
  {
   "cell_type": "code",
   "execution_count": null,
   "metadata": {},
   "outputs": [],
   "source": [
    "YouTubeVideo('LVpwt9Bi3c8')"
   ]
  },
  {
   "cell_type": "markdown",
   "metadata": {},
   "source": [
    "<a id='section3'></a>\n",
    "## 3. Summary\n",
    "\n",
    "The next video recaps what you've learned in this lecture guide."
   ]
  },
  {
   "cell_type": "code",
   "execution_count": null,
   "metadata": {},
   "outputs": [],
   "source": [
    "YouTubeVideo('g7dyCeCZY4o')"
   ]
  },
  {
   "cell_type": "markdown",
   "metadata": {},
   "source": [
    "<a id='section4'></a>\n",
    "## 4. Check for Understanding"
   ]
  },
  {
   "cell_type": "markdown",
   "metadata": {},
   "source": [
    "The COVID-19 pandemic in the United States is disproportionately affecting racial and ethnic minorities,\n",
    "especially African-Americans and Latinos ([source](https://www.npr.org/sections/health-shots/2020/05/30/865413079/what-do-coronavirus-racial-disparities-look-like-state-by-state)).\n",
    "\n",
    "A table indicating the proportion of cases by race and ethnicity in California ([as of June 29th](https://www.cdph.ca.gov/Programs/CID/DCDC/Pages/COVID-19/Race-Ethnicity.aspx))\n",
    "is provided in the cell below. In the next few questions, we'll determine whether there is evidence supporting the claim that\n",
    "COVID-19 is hitting California's racial and ethnic minorities the hardest."
   ]
  },
  {
   "cell_type": "code",
   "execution_count": null,
   "metadata": {},
   "outputs": [],
   "source": [
    "ca_covid_cases = Table().with_columns(\n",
    "  'Race/Ethnicity', make_array('Latino', 'White', 'Asian', 'African American',\n",
    "                               'Multi-Race', 'American Indian or Alaskan Native',\n",
    "                               'Native Hawaiian or Pacific Islander', 'Other'),\n",
    "  'Proportion Cases', make_array(0.557, 0.168, 0.066, 0.044, 0.007, 0.002, 0.006, 0.150),\n",
    "  'Proportion Population', make_array(0.389, 0.366, 0.154, 0.060, 0.022, 0.005, 0.003, 0.000) \n",
    ")\n",
    "\n",
    "ca_covid_cases"
   ]
  },
  {
   "cell_type": "markdown",
   "metadata": {},
   "source": [
    "**A. Complete the** `total_variation_distance` **function in the cell below.**"
   ]
  },
  {
   "cell_type": "code",
   "execution_count": null,
   "metadata": {},
   "outputs": [],
   "source": [
    "def total_variation_distance(dist_1, dist_2):\n",
    "    ..."
   ]
  },
  {
   "cell_type": "markdown",
   "metadata": {},
   "source": [
    "<details>\n",
    "    <summary>Solution</summary>\n",
    "    \n",
    "    def total_variation_distance(dist_1, dist_2):\n",
    "        tvd = sum(np.abs(dist_1 - dist_2)) / 2\n",
    "        return tvd\n",
    "</details>\n",
    "<br>"
   ]
  },
  {
   "cell_type": "markdown",
   "metadata": {},
   "source": [
    "**B. If we assumed that COVID-19 did not disproportionately affect racial and ethnic minorities, what values would\n",
    "we expect in the \"Percent Cases\" column of the** `ca_covid_cases` **table?**\n",
    "\n",
    "<details>\n",
    "    <summary>Solution</summary>\n",
    "    If COVID-19 does not disproportionately affect racial and ethnic minorities, then we would expect COVID-19 to\n",
    "    be spread uniformly across the population of California. We would therefore expect the \"Percent Cases\" column\n",
    "    to be almost identical to the \"Percent Population\" column in the <code>cali_covid_cases</code>.\n",
    "</details>\n",
    "<br>"
   ]
  },
  {
   "cell_type": "markdown",
   "metadata": {},
   "source": [
    "**C. Compute the total variation distance between the proportion of COVID-19 cases by race and ethnicity and each race\n",
    "and ethnicity's share of the Californian population. Do you these distributions look similar to you?**"
   ]
  },
  {
   "cell_type": "code",
   "execution_count": null,
   "metadata": {},
   "outputs": [],
   "source": [
    "..."
   ]
  },
  {
   "cell_type": "markdown",
   "metadata": {},
   "source": [
    "<details>\n",
    "    <summary>Solution</summary>\n",
    "    <b>Code</b>: \n",
    "    \n",
    "    total_variation_distance(\n",
    "        ca_covid_cases.column('Proportion Cases'),\n",
    "        ca_covid_cases.column('Proportion Population')\n",
    "    )\n",
    "\n",
    "<b>Interpretation</b>: <br>\n",
    "     Although interpreting the total variation distance is difficult, COVID-19 clearly seems\n",
    "    to be disproportionately affecting Latinos.\n",
    " </details>\n"
   ]
  },
  {
   "cell_type": "markdown",
   "metadata": {},
   "source": [
    "**D. Could this difference between distributions, as measured by the total variation distance, be due to chance alone?\n",
    "Use the procedure introduced in lecture video 17.3 to answer this question. Assume that the proportion of COVID-19 cases\n",
    "were estimated from a sample 10,000 individuals.** "
   ]
  },
  {
   "cell_type": "code",
   "execution_count": null,
   "metadata": {},
   "outputs": [],
   "source": [
    "# create array to store statistics\n",
    "tvds = ...\n",
    "\n",
    "# generate 10,000 statistics\n",
    "repetitions = 10000\n",
    "for i in np.arange(repetitions):\n",
    "    sample_distribution = ...\n",
    "    tvd = ...\n",
    "    tvds = ...\n",
    "    \n",
    "# view the distribution of the distances    \n",
    "Table().with_column('Total Variation Distance', tvds).hist()"
   ]
  },
  {
   "cell_type": "markdown",
   "metadata": {},
   "source": [
    "<details>\n",
    "    <summary>Solution</summary>\n",
    "    <b>Code</b>: \n",
    "    \n",
    "    # create array to store statistics\n",
    "    tvds = make_array()\n",
    "\n",
    "    # generate 10,000 statistics\n",
    "    repetitions = 10000\n",
    "    for i in np.arange(repetitions):\n",
    "        sample_distribution = sample_proportions(10000, ca_covid_cases.column('Proportion Population'))\n",
    "        tvd = total_variation_distance(sample_distribution, ca_covid_cases.column('Proportion Population'))\n",
    "        tvds = np.append(tvds, tvd)\n",
    "\n",
    "    # view the distribution of the distances\n",
    "    Table().with_column('Total Variation Distance', tvds).hist()\n",
    "    \n",
    "<b>Interpretation</b>: <br>\n",
    "    Based on the distribution of total variance distances generated under the assumption that the proportion of\n",
    "    COVID-19 cases by race and ethnicity is similar to that of the population breakdown in California, the total\n",
    "    variation distance of 0.3205 computed in C seems unlikely to be a result of chance alone. There is evidence to\n",
    "    suggest that the certain races and ethnicities are disproportionately affected by COVID-19.\n",
    "</details>\n",
    "<br>"
   ]
  }
 ],
 "metadata": {
  "kernelspec": {
   "display_name": "Python 3",
   "language": "python",
   "name": "python3"
  },
  "language_info": {
   "codemirror_mode": {
    "name": "ipython",
    "version": 3
   },
   "file_extension": ".py",
   "mimetype": "text/x-python",
   "name": "python",
   "nbconvert_exporter": "python",
   "pygments_lexer": "ipython3",
   "version": "3.8.2"
  }
 },
 "nbformat": 4,
 "nbformat_minor": 4
}

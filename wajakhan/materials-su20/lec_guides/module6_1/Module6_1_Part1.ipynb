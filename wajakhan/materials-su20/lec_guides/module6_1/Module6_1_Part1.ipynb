{
 "cells": [
  {
   "cell_type": "code",
   "execution_count": null,
   "metadata": {},
   "outputs": [],
   "source": [
    "# Run cells by clicking on them and hitting CTRL + ENTER on your keyboard\n",
    "from IPython.display import YouTubeVideo\n",
    "from datascience import *\n",
    "import numpy as np\n",
    "import matplotlib.pyplot as plt\n",
    "plt.style.use('fivethirtyeight')\n",
    "%matplotlib inline"
   ]
  },
  {
   "cell_type": "markdown",
   "metadata": {},
   "source": [
    "# Module 6.1 Part 1: Correlation\n",
    "\n",
    "Correlation measures the strength of a linear association between two numeric variables. In this notebook, you'll learn how\n",
    "to calculate and interpret it.\n",
    "\n",
    "3 videos make up this notebook, for a total run time of 46:27.\n",
    "\n",
    "1. [Visualizing Correlation](#section1) *1 videos, total runtime 15:12*\n",
    "2. [Calculating Correlation](#section2) *1 video, total runtime 19:54*\n",
    "3. [Interpreting Correlation](#section3) *1 video, total runtime 11:21*\n",
    "4. [Check for Understanding](#section4)\n",
    "\n",
    "Textbook readings:\n",
    "- [Chapter 15: Prediction](https://www.inferentialthinking.com/chapters/15/Prediction.html)\n",
    "- [Chapter 15.1: Correlation](https://www.inferentialthinking.com/chapters/15/1/Correlation.html)"
   ]
  },
  {
   "cell_type": "markdown",
   "metadata": {},
   "source": [
    "<a id='section1'></a>\n",
    "## 1. Visualizing Correlation\n",
    "\n",
    "In the following video you'll be introduced to correlation, a measure of linear association between two numeric variables.\n",
    "You'll also see how scatterplots can be used to identify linear trends in data, and how these trends relate to correlation."
   ]
  },
  {
   "cell_type": "code",
   "execution_count": null,
   "metadata": {},
   "outputs": [],
   "source": [
    "YouTubeVideo('k9-rzXYH11Q')"
   ]
  },
  {
   "cell_type": "markdown",
   "metadata": {},
   "source": [
    "Run the cell below to load `pokemon`, a table that contains attributes for each Pokemon. "
   ]
  },
  {
   "cell_type": "code",
   "execution_count": null,
   "metadata": {},
   "outputs": [],
   "source": [
    "# follow along here\n",
    "pokemon = Table.read_table(\"pokemon.csv\")\n",
    "pokemon.show(5)"
   ]
  },
  {
   "cell_type": "markdown",
   "metadata": {},
   "source": [
    "In the cell below, generate a scatterplot that visualizes the relationship between `Attack` and `Defense` values."
   ]
  },
  {
   "cell_type": "code",
   "execution_count": null,
   "metadata": {},
   "outputs": [],
   "source": [
    "..."
   ]
  },
  {
   "cell_type": "markdown",
   "metadata": {},
   "source": [
    "<details>\n",
    "    <summary>Solution</summary>\n",
    "    \n",
    "    pokemon.scatter(\"Attack\", \"Defense\")    \n",
    "</details>\n",
    "<br>"
   ]
  },
  {
   "cell_type": "markdown",
   "metadata": {},
   "source": [
    "Create a table `standardized_attack_defense` that contains two columns:\n",
    "- `standardized_attack`: the values from the `Attack` column of `pokemon` in standard units\n",
    "- `standardized_defense`: the values from the `Defense` column of `pokemon` in standard units"
   ]
  },
  {
   "cell_type": "code",
   "execution_count": null,
   "metadata": {},
   "outputs": [],
   "source": [
    "def convert_to_standard_units(arr):\n",
    "    ...\n",
    "\n",
    "standardized_attack_defense = ...\n",
    "standardized_attack_defense.show(5)"
   ]
  },
  {
   "cell_type": "markdown",
   "metadata": {},
   "source": [
    "<details>\n",
    "    <summary>Solution</summary>\n",
    "    \n",
    "    def convert_to_standard_units(arr):\n",
    "        return (arr - np.average(arr)) / np.std(arr)\n",
    "\n",
    "    standardized_attack_defense = Table().with_columns(\"standardized_attack\", convert_to_standard_units(pokemon.column(\"Attack\")), \"standardized_defense\", convert_to_standard_units(pokemon.column(\"Defense\")))\n",
    "</details>\n",
    "<br>"
   ]
  },
  {
   "cell_type": "markdown",
   "metadata": {},
   "source": [
    "Now generate a scatterplot that visualizes the relationship between `Attack` and `Defense` values, in standard units"
   ]
  },
  {
   "cell_type": "code",
   "execution_count": null,
   "metadata": {},
   "outputs": [],
   "source": [
    "..."
   ]
  },
  {
   "cell_type": "markdown",
   "metadata": {},
   "source": [
    "<details>\n",
    "    <summary>Solution</summary>\n",
    "    \n",
    "    standardized_attack_defense.scatter(\"standardized_attack\", \"standardized_defense\") \n",
    "</details>\n",
    "<br>\n",
    "\n",
    "Is there a positive or negative association between the two variables?\n",
    "\n",
    "<details>\n",
    "    <summary>Solution</summary>\n",
    "    Positive association\n",
    "</details>\n",
    "<br>"
   ]
  },
  {
   "cell_type": "markdown",
   "metadata": {},
   "source": [
    "<a id='section2'></a>\n",
    "\n",
    "## 2. Calculating Correlation\n",
    "\n",
    "In the next video, you'll learn how to quantify the linear relationship between two numeric variables."
   ]
  },
  {
   "cell_type": "code",
   "execution_count": null,
   "metadata": {
    "scrolled": true
   },
   "outputs": [],
   "source": [
    "YouTubeVideo('uBN0NyAb8GU')"
   ]
  },
  {
   "cell_type": "markdown",
   "metadata": {},
   "source": [
    "Using the table `standardized_attack_defense` to calculate the correlation coefficient between the attack and defense values in `pokemon`."
   ]
  },
  {
   "cell_type": "code",
   "execution_count": null,
   "metadata": {},
   "outputs": [],
   "source": [
    "..."
   ]
  },
  {
   "cell_type": "markdown",
   "metadata": {},
   "source": [
    "<details>\n",
    "    <summary>Solution</summary>\n",
    "    \n",
    "    np.mean(standardized_attack_defense.column(\"standardized_attack\") * standardized_attack_defense.column(\"standardized_defense\"))\n",
    "</details>\n",
    "<br>"
   ]
  },
  {
   "cell_type": "markdown",
   "metadata": {},
   "source": [
    "<a id='section3'></a>\n",
    "\n",
    "## 3. Interpreting Correlation\n",
    "\n",
    "In the upcoming video, you'll see how non-linear relationships and outliers affect correlation. You'll also learn\n",
    "which precautions you should take when calculating the correlation coefficient of aggregated data."
   ]
  },
  {
   "cell_type": "code",
   "execution_count": null,
   "metadata": {},
   "outputs": [],
   "source": [
    "YouTubeVideo('-n8LgiYXoXU')"
   ]
  },
  {
   "cell_type": "markdown",
   "metadata": {},
   "source": [
    "Define `pokemon_grouped` to be a table that contains the average attributes for each combination of `Type 1` and `Type 2` pokemon in the `pokemon` table. Add the columns `standardized_attack` and `standardized_defense` to the table to represent the attack and defense values in standard units."
   ]
  },
  {
   "cell_type": "code",
   "execution_count": null,
   "metadata": {},
   "outputs": [],
   "source": [
    "pokemon_means = pokemon.group([\"Type 1\", \"Type 2\"], np.mean)\n",
    "pokemon_grouped = ...\n",
    "pokemon_grouped.show(5)"
   ]
  },
  {
   "cell_type": "markdown",
   "metadata": {},
   "source": [
    "<details>\n",
    "    <summary>Solution</summary>\n",
    "    \n",
    "    pokemon_grouped = pokemon.group([\"Type 1\", \"Type 2\"], np.mean)\\\n",
    "                   .with_columns(\"standardized_attack\", convert_to_standard_units(pokemon_grouped.column(\"Attack mean\")),\n",
    "                                 \"standardized_defense\", convert_to_standard_units(pokemon_grouped.column(\"Defense mean\")))\n",
    "\n",
    "</details>\n",
    "<br>"
   ]
  },
  {
   "cell_type": "markdown",
   "metadata": {},
   "source": [
    "Generate a scatterplot to visualize the relationship between the attack and defense values in standard units."
   ]
  },
  {
   "cell_type": "code",
   "execution_count": null,
   "metadata": {},
   "outputs": [],
   "source": [
    "..."
   ]
  },
  {
   "cell_type": "markdown",
   "metadata": {},
   "source": [
    "<details>\n",
    "    <summary>Solution</summary>\n",
    "    \n",
    "    pokemon_grouped.scatter(\"standardized_attack\", \"standardized_defense\")\n",
    "\n",
    "</details>\n",
    "<br>\n",
    "\n",
    "How is this similar or different from the scatterplot you created using data from individual pokemon?\n",
    "\n",
    "<details>\n",
    "    <summary>Solution</summary>\n",
    "    <br>Both scatterplots show a slightly positive linear association between attack and defense. We see similar trends in both scatterplots, even though one represents individual pokemon and the other represents groups of many pokemon.\n",
    "    <br><br>\n",
    "    The scatterplot using aggregated data is less \"fuzzy\" since each dot now represents a unique type of pokemon, not a unique pokemon.\n",
    "</details>"
   ]
  },
  {
   "cell_type": "markdown",
   "metadata": {},
   "source": [
    "Using `pokemon_grouped`, calculate the correlation coefficient between attack and defense for each type of pokemon."
   ]
  },
  {
   "cell_type": "code",
   "execution_count": null,
   "metadata": {},
   "outputs": [],
   "source": [
    "..."
   ]
  },
  {
   "cell_type": "markdown",
   "metadata": {},
   "source": [
    "<details>\n",
    "    <summary>Solution</summary>\n",
    "    \n",
    "    np.mean(pokemon_grouped.column(\"standardized_attack\") * pokemon_grouped.column(\"standardized_defense\"))\n",
    "<br>"
   ]
  },
  {
   "cell_type": "markdown",
   "metadata": {},
   "source": [
    "<a id='section4'></a>\n",
    "## 4. Check for Understanding"
   ]
  },
  {
   "cell_type": "markdown",
   "metadata": {},
   "source": [
    "**A. True or False? Suppose the variables x and y have a correlation coefficient of 0.89. This means that an increase in x will cause an increase in y**\n",
    " \n",
    "<details>\n",
    "    <summary>Solution</summary>\n",
    "    <b>False.</b> A high correlation indicates that the two variables have a strong, positive linear association. For example, on average,\n",
    "    we expect observations with relatively large values of x to also possess relatively large values of y. However, it does not mean that\n",
    "    either variable causes the other! Correlation does not imply causation.\n",
    "</details>\n",
    "<br>"
   ]
  },
  {
   "cell_type": "markdown",
   "metadata": {},
   "source": [
    "**B. In the data visualized below, how would the correlation coefficient of x and y change if the circled data point was removed?**\n",
    "\n",
    "<img src=\"correlation_question.png\" width=300 height=300 />\n",
    "\n",
    "<details>\n",
    "    <summary>Solution</summary>\n",
    "    The correlation would increase. The point we're removing is an outlier so removing it would result in a stronger linear association between the remaining data. \n",
    "</details>\n",
    "<br>"
   ]
  }
 ],
 "metadata": {
  "kernelspec": {
   "display_name": "Python 3",
   "language": "python",
   "name": "python3"
  },
  "language_info": {
   "codemirror_mode": {
    "name": "ipython",
    "version": 3
   },
   "file_extension": ".py",
   "mimetype": "text/x-python",
   "name": "python",
   "nbconvert_exporter": "python",
   "pygments_lexer": "ipython3",
   "version": "3.8.2"
  }
 },
 "nbformat": 4,
 "nbformat_minor": 4
}

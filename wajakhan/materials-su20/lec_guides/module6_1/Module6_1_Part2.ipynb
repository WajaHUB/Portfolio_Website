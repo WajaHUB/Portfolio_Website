{
 "cells": [
  {
   "cell_type": "code",
   "execution_count": null,
   "metadata": {},
   "outputs": [],
   "source": [
    "# Run cells by clicking on them and hitting CTRL + ENTER on your keyboard\n",
    "from IPython.display import YouTubeVideo\n",
    "from datascience import *\n",
    "import numpy as np\n",
    "import matplotlib.pyplot as plt\n",
    "plt.style.use('fivethirtyeight')\n",
    "%matplotlib inline"
   ]
  },
  {
   "cell_type": "markdown",
   "metadata": {},
   "source": [
    "# Module 6.1 Part 2: Linear Regression\n",
    "\n",
    "In this notebook, you'll learn how to fit a regression line that captures the linear relationship between two numerical variables.\n",
    "This is accomplished by extending the concept of correlation to a method called linear regression.\n",
    "\n",
    "5 videos make up this notebook, for a total run time of 63:03.\n",
    "\n",
    "1. [Prediction](#section1) *1 videos, total runtime 11:53*\n",
    "2. [Calculating Correlation](#section2) *2 videos, total runtime 25:10*\n",
    "3. [The Regression Equation](#section3) *2 videos, total runtime 26:00*\n",
    "4. [Check for Understanding](#section4)\n",
    "\n",
    "Textbook readings:\n",
    "- [Chapter 15.2: The Regression Line](https://www.inferentialthinking.com/chapters/15/2/Regression_Line.html)"
   ]
  },
  {
   "cell_type": "markdown",
   "metadata": {},
   "source": [
    "<a id='section1'></a>\n",
    "## 1. Prediction\n",
    "\n",
    "The following video goes through a simple method for making predictions. Professor Adhikari will walk you through the process of trying to predict children's height from their midparent height."
   ]
  },
  {
   "cell_type": "code",
   "execution_count": null,
   "metadata": {},
   "outputs": [],
   "source": [
    "YouTubeVideo('ojod4DTcFdA')"
   ]
  },
  {
   "cell_type": "markdown",
   "metadata": {},
   "source": [
    "Run the cell below to load `madrid_2018`, a table that contains daily nitric oxide (`NO`,  μg/m³) and nitrogen dioxide (`NO_2`,  μg/m³) levels in Madrid, Spain throughout 2018."
   ]
  },
  {
   "cell_type": "code",
   "execution_count": null,
   "metadata": {},
   "outputs": [],
   "source": [
    "madrid_2018 = Table.read_table(\"madrid_2018.csv\")\n",
    "madrid_2018.show(5)"
   ]
  },
  {
   "cell_type": "markdown",
   "metadata": {},
   "source": [
    "Write a function `predict_no2` that takes in one argument `NO_value`. The function should return the average `NO_2` values from `madrid_2018` for all `NO` values within 3 μg/m³ of `NO_value`."
   ]
  },
  {
   "cell_type": "code",
   "execution_count": null,
   "metadata": {},
   "outputs": [],
   "source": [
    "def predict_no2(NO_value):\n",
    "    ..."
   ]
  },
  {
   "cell_type": "markdown",
   "metadata": {},
   "source": [
    "<details>\n",
    "    <summary>Solution</summary>\n",
    "    \n",
    "    def predict_no2(NO_value):\n",
    "        NO_range = madrid_2018.where(\"NO\", are.between(NO_value-3, NO_value+3.1))\n",
    "        return np.mean(NO_range.column(\"NO_2\"))\n",
    "</details>\n",
    "<br>"
   ]
  },
  {
   "cell_type": "markdown",
   "metadata": {},
   "source": [
    "Use your function `predict_no2` to set `no2_predictions` to predictions for each of the values of `NO` in `madrid_2018`"
   ]
  },
  {
   "cell_type": "code",
   "execution_count": null,
   "metadata": {},
   "outputs": [],
   "source": [
    "no2_predictions = ..."
   ]
  },
  {
   "cell_type": "markdown",
   "metadata": {},
   "source": [
    "<details>\n",
    "    <summary>Solution</summary>\n",
    "    \n",
    "    no2_predictions = madrid_2018.apply(predict_no2, \"NO\")\n",
    "</details>\n",
    "<br>"
   ]
  },
  {
   "cell_type": "markdown",
   "metadata": {},
   "source": [
    "Add `no2_predictions` to the `madrid_2018` table and generate a scatterplot that compares your predicted values of `NO` to the observed values of `NO`."
   ]
  },
  {
   "cell_type": "code",
   "execution_count": null,
   "metadata": {},
   "outputs": [],
   "source": [
    "..."
   ]
  },
  {
   "cell_type": "markdown",
   "metadata": {},
   "source": [
    "<details>\n",
    "    <summary>Solution</summary>\n",
    "    \n",
    "    madrid_2018.with_column(\"Predicted NO_2\", no2_predictions).scatter(\"NO\")\n",
    "</details>\n",
    "<br>"
   ]
  },
  {
   "cell_type": "markdown",
   "metadata": {},
   "source": [
    "<a id='section2'></a>\n",
    "\n",
    "## 2. Introduction to Linear Regression\n",
    "\n",
    "In the next video, you'll learn how to calculate regression estimates with variables that are linearly associated."
   ]
  },
  {
   "cell_type": "markdown",
   "metadata": {},
   "source": [
    "### Linear Regression"
   ]
  },
  {
   "cell_type": "code",
   "execution_count": null,
   "metadata": {
    "scrolled": true
   },
   "outputs": [],
   "source": [
    "YouTubeVideo('DS95QoflalM')"
   ]
  },
  {
   "cell_type": "markdown",
   "metadata": {},
   "source": [
    "### Regression to the Mean"
   ]
  },
  {
   "cell_type": "code",
   "execution_count": null,
   "metadata": {
    "scrolled": true
   },
   "outputs": [],
   "source": [
    "YouTubeVideo('1-5HJ4cGhBI')"
   ]
  },
  {
   "cell_type": "markdown",
   "metadata": {},
   "source": [
    "Find the regression estimate of the nitrogen dioxide (`NO_2`) level on a day where the nitric oxide (`NO`) level is 10 μg/m³."
   ]
  },
  {
   "cell_type": "code",
   "execution_count": null,
   "metadata": {},
   "outputs": [],
   "source": [
    "def convert_to_standard_units(arr):\n",
    "    return (arr - np.average(arr)) / np.std(arr)\n",
    "\n",
    "r = np.mean(convert_to_standard_units(madrid_2018.column(\"NO\")) * convert_to_standard_units(madrid_2018.column(\"NO_2\")))\n",
    "\n",
    "NO_su = ...\n",
    "est_NO_2_su = ...\n",
    "est_NO_2 = ...\n",
    "est_NO_2"
   ]
  },
  {
   "cell_type": "markdown",
   "metadata": {},
   "source": [
    "<details>\n",
    "    <summary>Solution</summary>\n",
    "    \n",
    "    NO_su = (10 - np.mean(madrid_2018.column(\"NO\"))) / np.std(madrid_2018.column(\"NO\"))\n",
    "    est_NO_2_su = r * NO_su\n",
    "    est_NO_2 = (est_NO_2_su * np.std(madrid_2018.column(\"NO_2\"))) + np.mean(madrid_2018.column(\"NO_2\"))\n",
    "    est_NO_2\n",
    "</details>\n",
    "<br>"
   ]
  },
  {
   "cell_type": "markdown",
   "metadata": {},
   "source": [
    "<a id='section3'></a>\n",
    "\n",
    "## 3. The Regression Equation\n",
    "\n",
    "In this video you'll learn how to form an equation that describes a regression line, both in standard units and original units."
   ]
  },
  {
   "cell_type": "markdown",
   "metadata": {},
   "source": [
    "### Regression Equation"
   ]
  },
  {
   "cell_type": "code",
   "execution_count": null,
   "metadata": {},
   "outputs": [],
   "source": [
    "YouTubeVideo('0FR1WREFMb4')"
   ]
  },
  {
   "cell_type": "markdown",
   "metadata": {},
   "source": [
    "### Interpreting the Slope"
   ]
  },
  {
   "cell_type": "code",
   "execution_count": null,
   "metadata": {
    "scrolled": true
   },
   "outputs": [],
   "source": [
    "YouTubeVideo('Vf2f50AHPGc')"
   ]
  },
  {
   "cell_type": "markdown",
   "metadata": {},
   "source": [
    "In the cell below, find the slope and intercept of the regression line that predicts `NO_2` values from `NO` values."
   ]
  },
  {
   "cell_type": "code",
   "execution_count": null,
   "metadata": {},
   "outputs": [],
   "source": [
    "def convert_to_standard_units(arr):\n",
    "    return (arr - np.average(arr)) / np.std(arr)\n",
    "\n",
    "r = ...\n",
    "\n",
    "x_avg = ...  \n",
    "x_sd = ...\n",
    "\n",
    "y_avg = ...\n",
    "y_sd = ...\n",
    "\n",
    "slope = ...\n",
    "intercept = ...\n",
    "\n",
    "print(\"The regression line is: NO_2 = \" + str(round(slope, 3)) + \" * NO + \" + str(round(intercept, 3)))"
   ]
  },
  {
   "cell_type": "markdown",
   "metadata": {},
   "source": [
    "<details>\n",
    "    <summary>Solution</summary>\n",
    "    \n",
    "    r = np.mean(convert_to_standard_units(madrid_2018.column(\"NO\")) * convert_to_standard_units(madrid_2018.column(\"NO_2\")))\n",
    "\n",
    "    x_avg = np.mean(madrid_2018.column(\"NO\"))  \n",
    "    x_sd = np.std(madrid_2018.column(\"NO\"))\n",
    "\n",
    "    y_avg = np.mean(madrid_2018.column(\"NO_2\"))\n",
    "    y_sd = np.std(madrid_2018.column(\"NO_2\"))\n",
    "    \n",
    "    slope = r * (y_sd/x_sd)\n",
    "    intercept = y_avg - slope * x_avg\n",
    "</details>\n",
    "<br>"
   ]
  },
  {
   "cell_type": "markdown",
   "metadata": {},
   "source": [
    "How can you interpret the slope of this line?\n",
    "\n",
    "<details>\n",
    "    <summary>Solution</summary>\n",
    "    For each 1 μg/m³ increase in nitric oxide, we expect to see a corresponding increase in nitrogen dioxide of 18.807 μg/m³.\n",
    "</details>\n",
    "<br>"
   ]
  },
  {
   "cell_type": "markdown",
   "metadata": {},
   "source": [
    "Write a function `predict_NO2_regression_line` that takes in a nitric oxide level and returns the predicted nitrogen dioxide level using the regression line. Use the function to predict the nitrogen dioxide (NO_2) level on a day where the nitric oxide (NO) level is 10 μg/m³. Check that this value is equivalent to the regression estimate you calculated in the section above."
   ]
  },
  {
   "cell_type": "code",
   "execution_count": null,
   "metadata": {},
   "outputs": [],
   "source": [
    "def predict_NO2_regression_line(NO_val):\n",
    "    ...\n",
    "\n",
    "predict_NO2_regression_line(10)"
   ]
  },
  {
   "cell_type": "markdown",
   "metadata": {},
   "source": [
    "<details>\n",
    "    <summary>Solution</summary>\n",
    "    \n",
    "    def predict_NO2_regression_line(NO_val):\n",
    "        return slope * NO_val + intercept\n",
    "</details>\n",
    "<br>"
   ]
  },
  {
   "cell_type": "markdown",
   "metadata": {},
   "source": [
    "<a id='section4'></a>\n",
    "## 4. Check for Understanding"
   ]
  },
  {
   "cell_type": "markdown",
   "metadata": {},
   "source": [
    "**A. True or False? There may be a straight line that is a better fit for the data than the regression line**\n",
    " \n",
    "<details>\n",
    "    <summary>Solution</summary>\n",
    "    <b>False.</b> No matter what the shape of the scatter plot us, the regression equation gives the \"best\" among all straight lines.\n",
    "</details>\n",
    "<br>"
   ]
  },
  {
   "cell_type": "markdown",
   "metadata": {},
   "source": [
    "**B. If you convert the units of your variables, will the regression line change?**\n",
    "\n",
    "<details>\n",
    "    <summary>Solution</summary>\n",
    "    Yes. While the correlation coefficient is not dependent on the units of a variable, the mean and standard deviation are. Since these values are used to calculate the slope and intercept of a line, the regression line will change.\n",
    "</details>\n",
    "<br>"
   ]
  }
 ],
 "metadata": {
  "kernelspec": {
   "display_name": "Python 3",
   "language": "python",
   "name": "python3"
  },
  "language_info": {
   "codemirror_mode": {
    "name": "ipython",
    "version": 3
   },
   "file_extension": ".py",
   "mimetype": "text/x-python",
   "name": "python",
   "nbconvert_exporter": "python",
   "pygments_lexer": "ipython3",
   "version": "3.8.2"
  }
 },
 "nbformat": 4,
 "nbformat_minor": 4
}

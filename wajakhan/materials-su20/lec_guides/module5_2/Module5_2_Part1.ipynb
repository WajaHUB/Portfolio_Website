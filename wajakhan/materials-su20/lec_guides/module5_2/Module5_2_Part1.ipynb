{
 "cells": [
  {
   "cell_type": "code",
   "execution_count": null,
   "metadata": {},
   "outputs": [],
   "source": [
    "# Run cells by clicking on them and hitting CTRL + ENTER on your keyboard\n",
    "from IPython.display import YouTubeVideo\n",
    "from datascience import *\n",
    "import numpy as np\n",
    "import matplotlib.pyplot as plt\n",
    "plt.style.use('fivethirtyeight')\n",
    "%matplotlib inline"
   ]
  },
  {
   "cell_type": "markdown",
   "metadata": {},
   "source": [
    "# Module 5.2 Part 1: Center and Spread\n",
    "\n",
    "The concepts of *center* and *spread* have been informally introduced over the past few modules. In this lecture guide, we'll\n",
    "provide formal definitions, and discuss how they can be used in statistical prediction procedures.\n",
    "\n",
    "4 videos make up this notebook, for a total run time of 48:28.\n",
    "\n",
    "1. [Center](#section1) *2 videos, total runtime 16:27*\n",
    "2. [Spread](#section2) *1 video, total runtime 12:49*\n",
    "3. [Bounds](#section3) *1 video, total runtime 19:12*\n",
    "4. [Check for Understanding](#section4)\n",
    "\n",
    "Textbook readings:\n",
    "- [Chapter 14: Why the Mean Matters](https://www.inferentialthinking.com/chapters/14/Why_the_Mean_Matters.html)\n",
    "- [Chapter 14.1: Properties of the Mean](https://www.inferentialthinking.com/chapters/14/1/Properties_of_the_Mean.html)\n",
    "- [Chapter 14.2: Variability](https://www.inferentialthinking.com/chapters/14/2/Variability.html)"
   ]
  },
  {
   "cell_type": "markdown",
   "metadata": {},
   "source": [
    "<a id='section1'></a>\n",
    "## 1. Center\n",
    "\n",
    "In the first two recordings of this lecture guide, Professor Adhikari introduces and motivates the study of a distribution's *center*.\n",
    "This concept will be very helpful once we start studying prediction methods."
   ]
  },
  {
   "cell_type": "code",
   "execution_count": null,
   "metadata": {},
   "outputs": [],
   "source": [
    "YouTubeVideo('ts2_qYrpreo')"
   ]
  },
  {
   "cell_type": "code",
   "execution_count": null,
   "metadata": {},
   "outputs": [],
   "source": [
    "# follow along here\n",
    "..."
   ]
  },
  {
   "cell_type": "markdown",
   "metadata": {},
   "source": [
    "<br>\n",
    "\n",
    "A number of discussion questions are posed in the next video. Make sure to pause the recording in order to work through them. We have\n",
    "provided a code cell below the video for your convenience, but a pen and paper approach will also work!\n",
    "\n",
    "*Note that there is minor mistake at the beginning of the video: averages and medians are measures of **center**, not spread.*"
   ]
  },
  {
   "cell_type": "code",
   "execution_count": null,
   "metadata": {},
   "outputs": [],
   "source": [
    "YouTubeVideo('xmQ7nt2BmS0')"
   ]
  },
  {
   "cell_type": "code",
   "execution_count": null,
   "metadata": {},
   "outputs": [],
   "source": [
    "# answer questions and follow along here\n",
    "..."
   ]
  },
  {
   "cell_type": "markdown",
   "metadata": {},
   "source": [
    "<a id='section2'></a>\n",
    "\n",
    "## 2. Spread\n",
    "\n",
    "In the next video, you'll learn how to quantify a distribution's spread by computing its deviations, standard deviation, and variance."
   ]
  },
  {
   "cell_type": "code",
   "execution_count": null,
   "metadata": {},
   "outputs": [],
   "source": [
    "YouTubeVideo('05L4UQ6V3rE')"
   ]
  },
  {
   "cell_type": "code",
   "execution_count": null,
   "metadata": {},
   "outputs": [],
   "source": [
    "# follow along here\n",
    "..."
   ]
  },
  {
   "cell_type": "markdown",
   "metadata": {},
   "source": [
    "<a id='section3'></a>\n",
    "\n",
    "## 3. Bounds\n",
    "\n",
    "In the upcoming video, you'll learn how to use the mean and the standard deviation of a distribution to determine the\n",
    "range of the bulk of its values."
   ]
  },
  {
   "cell_type": "code",
   "execution_count": null,
   "metadata": {},
   "outputs": [],
   "source": [
    "YouTubeVideo('PAmOpjJ3u0w')"
   ]
  },
  {
   "cell_type": "code",
   "execution_count": null,
   "metadata": {},
   "outputs": [],
   "source": [
    "# load the baby table, and plot the histograms of all numeric variables\n",
    "baby = Table.read_table('https://www.inferentialthinking.com/data/baby.csv').drop('Maternal Smoker')\n",
    "baby.hist(overlay = False)"
   ]
  },
  {
   "cell_type": "code",
   "execution_count": null,
   "metadata": {},
   "outputs": [],
   "source": [
    "# Check if Chebyshev's Inequality work for all these distributions:\n",
    "..."
   ]
  },
  {
   "cell_type": "markdown",
   "metadata": {},
   "source": [
    "<a id='section4'></a>\n",
    "## 4. Check for Understanding"
   ]
  },
  {
   "cell_type": "markdown",
   "metadata": {},
   "source": [
    "**A. Fill in the blanks: If a distribution is \\_\\_\\_\\_\\_\\_, then its mean and median are identical. However, if a distribution has a\n",
    "long, right tail, then its mean is \\_\\_\\_\\_\\_ than its median.**\n",
    "\n",
    "<details>\n",
    "    <summary>Solution</summary>\n",
    "    If a distribution is symmetric, then its mean and median are identical. However, if a distribution has a long,\n",
    "    right tail, then its mean is larger than its median.\n",
    "    <br>\n",
    "    Don't believe us? Try running the following code:\n",
    "    <br>\n",
    "    \n",
    "    # define and visualize the distribution\n",
    "    distribution = [0, 0.5, 0.75, 1, 1.25, 1.5, 1.5, 1.75, 2, 2.5, 3, 4, 5, 6]\n",
    "    Table().with_column('Distribution', distribution).hist(bins = np.arange(0, 8))\n",
    "\n",
    "    # compute the mean and median\n",
    "    [np.median(distribution), np.mean(distribution)]\n",
    "    \n",
    "    When the distribution has a long, left tail, is the distribution's mean larger or smaller than its median?\n",
    "</details>\n",
    "<br>"
   ]
  },
  {
   "cell_type": "markdown",
   "metadata": {},
   "source": [
    "**B. For any given sequence of two or more unique numeric values, `s`, which of the following expressions could evaluate to 0?**\n",
    "\n",
    "<ol>\n",
    "    <li><code>np.average(s)</code></li>\n",
    "    <li><code>np.std(s)</code></li>\n",
    "    <li><code>np.median(s)</code></li>\n",
    "    <li><code>np.var(s)</code></li>\n",
    "</ol>\n",
    "\n",
    "<details>\n",
    "    <summary>Solution</summary>\n",
    "    Only <code>np.average(s)</code> and <code>np.median(s)</code> could evaluate to 0, i.e. <code>s = make_array(-10, -5, 0, 5, 10)</code>.\n",
    "    However, <code>np.std(s)</code> and <code>np.var(s)</code> will always be positive in this situation. Recall that the variance is\n",
    "    the average of the squared deviations, and that the square of any real, non-zero number is always positive. The standard deviation\n",
    "    is the square root of the variance, and by convention is also always positive.\n",
    "</details>\n",
    "<br>"
   ]
  },
  {
   "cell_type": "markdown",
   "metadata": {},
   "source": [
    "**C. Fill in the blank: For any given distribution, at least \\_\\_\\_\\_ % of its values are within the range of its\n",
    "average $\\pm$ 3.25 standard deviations.**\n",
    "\n",
    "<details>\n",
    "    <summary>Solution</summary>\n",
    "    Recall that Chebyshev's inequality states that, no matter the shape of a distribution, the proportion of values in the\n",
    "    range of its average +/- c standard deviations is 1 - 1/c^2. Therefore:\n",
    "    \n",
    "    For any given distribution, at least 1 - 1 / 3.25^2 (or about  90.5)% of its values are within the range of its\n",
    "    average +/- 3.25 standard deviations.\n",
    "</details>\n",
    "<br>"
   ]
  },
  {
   "cell_type": "markdown",
   "metadata": {},
   "source": [
    "**D. Verify that Chebyshev's Inequality applies to the distribution of NBA players' salaries from the 2015-2016 season.**"
   ]
  },
  {
   "cell_type": "code",
   "execution_count": null,
   "metadata": {},
   "outputs": [],
   "source": [
    "# load the nba dataset\n",
    "nba_salaries =  Table.read_table('https://www.inferentialthinking.com/data/nba_salaries.csv')\n",
    "nba_salaries.hist(\"'15-'16 SALARY\")"
   ]
  },
  {
   "cell_type": "code",
   "execution_count": null,
   "metadata": {},
   "outputs": [],
   "source": [
    "# answer over here:\n",
    "..."
   ]
  },
  {
   "cell_type": "markdown",
   "metadata": {},
   "source": [
    "<details>\n",
    "    <summary>Solution</summary>\n",
    "    \n",
    "    salaries = nba_salaries.select(\"'15-'16 SALARY\")\n",
    "    average = np.average(salaries.column(0))\n",
    "    sds = np.std(salaries.column(0))\n",
    "\n",
    "    for k in np.arange(1, 5):\n",
    "        chosen = salaries.where(\"'15-'16 SALARY\", are.between(average - k * sds, average + k * sds))\n",
    "        proportion = chosen.num_rows / salaries.num_rows\n",
    "        percent = np.round(proportion * 100, 2)\n",
    "        print(\"Average plus or minus\", str(k), \"standard deviation(s):\", str(percent))\n",
    "</details>"
   ]
  }
 ],
 "metadata": {
  "kernelspec": {
   "display_name": "Python 3",
   "language": "python",
   "name": "python3"
  },
  "language_info": {
   "codemirror_mode": {
    "name": "ipython",
    "version": 3
   },
   "file_extension": ".py",
   "mimetype": "text/x-python",
   "name": "python",
   "nbconvert_exporter": "python",
   "pygments_lexer": "ipython3",
   "version": "3.8.2"
  }
 },
 "nbformat": 4,
 "nbformat_minor": 4
}

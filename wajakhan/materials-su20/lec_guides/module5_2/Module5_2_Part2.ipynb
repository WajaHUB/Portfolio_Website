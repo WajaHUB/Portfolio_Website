{
 "cells": [
  {
   "cell_type": "code",
   "execution_count": null,
   "metadata": {},
   "outputs": [],
   "source": [
    "# Run cells by clicking on them and hitting CTRL + ENTER on your keyboard\n",
    "from IPython.display import YouTubeVideo\n",
    "from datascience import *\n",
    "import numpy as np\n",
    "import matplotlib.pyplot as plt\n",
    "plt.style.use('fivethirtyeight')\n",
    "%matplotlib inline"
   ]
  },
  {
   "cell_type": "markdown",
   "metadata": {},
   "source": [
    "# Module 5.2 Part 2: The Normal Curve\n",
    "\n",
    "Now that you've learned how to characterize distributions through their measures of center and spread, let's\n",
    "spend some time learning about the most well-known distribution in data science: the Normal distribution.\n",
    "\n",
    "4 videos make up this notebook, for a total run time of 51:09.\n",
    "\n",
    "1. [Standard Units](#section1) *1 videos, total runtime 14:08*\n",
    "2. [Standard Deviations and the Bell Curve](#section2) *1 video, total runtime 8:52*\n",
    "3. [The Normal Distribution](#section3) *1 video, total runtime 8:41*\n",
    "4. [The Central Limit Theorem](#section4) *1 video, total runtime 19:28*\n",
    "5. [Check for Understanding](#section5)\n",
    "\n",
    "Textbook readings:\n",
    "- [Chapter 14.3: The SD and the Normal Curve](https://www.inferentialthinking.com/chapters/14/3/SD_and_the_Normal_Curve.html)\n",
    "- [Chapter 14.4: The Central Limit Theorem](https://www.inferentialthinking.com/chapters/14/4/Central_Limit_Theorem.html)\n",
    "- [Chapter 14.5: The Variability of the Sample Mean](https://www.inferentialthinking.com/chapters/14/5/Variability_of_the_Sample_Mean.html)\n",
    "- [Chapter 14.6: Choosing a Sample Size](https://www.inferentialthinking.com/chapters/14/6/Choosing_a_Sample_Size.html)"
   ]
  },
  {
   "cell_type": "markdown",
   "metadata": {},
   "source": [
    "<a id='section1'></a>\n",
    "## 1. Standard Units\n",
    "\n",
    "In the next video, Professor Adhikari will describe what constitutes a bell-shaped curve and why is appears\n",
    "so commonly in statistical inference procedures. Along the way, she'll introduce you to standard units."
   ]
  },
  {
   "cell_type": "code",
   "execution_count": null,
   "metadata": {},
   "outputs": [],
   "source": [
    "YouTubeVideo('x1FSOCH4KGg')"
   ]
  },
  {
   "cell_type": "code",
   "execution_count": null,
   "metadata": {},
   "outputs": [],
   "source": [
    "# load the baby data\n",
    "births = Table.read_table('https://www.inferentialthinking.com/data/baby.csv')\n",
    "births"
   ]
  },
  {
   "cell_type": "code",
   "execution_count": null,
   "metadata": {},
   "outputs": [],
   "source": [
    "# follow along here:\n",
    "..."
   ]
  },
  {
   "cell_type": "markdown",
   "metadata": {},
   "source": [
    "<a id='section2'></a>\n",
    "## 2. Standard Deviations and the Bell Curve\n",
    "\n",
    "Next, you'll learn about the relationship between the standard deviation and the bell curve, and why it's used as the primary measure\n",
    "of spread. As always, you're encouraged to follow along in the code cell below the recording."
   ]
  },
  {
   "cell_type": "code",
   "execution_count": null,
   "metadata": {},
   "outputs": [],
   "source": [
    "YouTubeVideo('E3G60vyCimI')"
   ]
  },
  {
   "cell_type": "code",
   "execution_count": null,
   "metadata": {},
   "outputs": [],
   "source": [
    "# follow along here:\n",
    "..."
   ]
  },
  {
   "cell_type": "markdown",
   "metadata": {},
   "source": [
    "<a id='section3'></a>\n",
    "## 3. The Normal Distribution\n",
    "\n",
    "In the next lecture video, we formally define the Normal distribution. It is the most well-known of all bell-shaped distributions\n",
    "and we will rely on it throughout the rest of the course."
   ]
  },
  {
   "cell_type": "code",
   "execution_count": null,
   "metadata": {},
   "outputs": [],
   "source": [
    "YouTubeVideo('CCFSLbGSc0k')"
   ]
  },
  {
   "cell_type": "markdown",
   "metadata": {},
   "source": [
    "<a id='section4'></a>\n",
    "## 4. The Central Limit Theorem\n",
    "\n",
    "This next lecture video presents the Central Limit Theorem (CLT). The CLT has very close ties to the Normal distribution, and forms\n",
    "the basis of many, many statistical inference procedures. We'll apply the theorem to the some flight data, and we encourage you to\n",
    "follow along in the cells below.\n",
    "\n",
    "*This is a very long recording. We recommend that you talk a break halfway through.*"
   ]
  },
  {
   "cell_type": "code",
   "execution_count": null,
   "metadata": {},
   "outputs": [],
   "source": [
    "YouTubeVideo('8uikiqMbQTk')"
   ]
  },
  {
   "cell_type": "code",
   "execution_count": null,
   "metadata": {},
   "outputs": [],
   "source": [
    "united = Table.read_table('https://www.inferentialthinking.com/data/united_summer2015.csv')\n",
    "united"
   ]
  },
  {
   "cell_type": "code",
   "execution_count": null,
   "metadata": {},
   "outputs": [],
   "source": [
    "# follow along here:\n",
    "..."
   ]
  },
  {
   "cell_type": "markdown",
   "metadata": {},
   "source": [
    "To complete your study of the CLT, read the following sections of the course textbook:\n",
    "- [Chapter 14.5: The Variability of the Sample Mean](https://www.inferentialthinking.com/chapters/14/5/Variability_of_the_Sample_Mean.html)\n",
    "- [Chapter 14.6: Choosing a Sample Size](https://www.inferentialthinking.com/chapters/14/6/Choosing_a_Sample_Size.html)\n",
    "\n",
    "If you'd like to interact with the textbook's examples, click on the \"Interact\" button in the top left corner of each section. This will generate a\n",
    "Jupyter notebook for you."
   ]
  },
  {
   "cell_type": "markdown",
   "metadata": {},
   "source": [
    "<a id='section5'></a>\n",
    "## 5. Check for Understanding"
   ]
  },
  {
   "cell_type": "markdown",
   "metadata": {},
   "source": [
    "**A. Convert the `Midterm` variable of the `midterm_scores` table into standard units. This table contains the midterm scores of\n",
    "359 students in a lower division CS course. Include this standardized array as a column in `midterm_scores`.**"
   ]
  },
  {
   "cell_type": "code",
   "execution_count": null,
   "metadata": {},
   "outputs": [],
   "source": [
    "midterm_scores = Table.read_table('https://www.inferentialthinking.com/data/scores_by_section.csv').drop(0)\n",
    "\n",
    "def standard_units(x):\n",
    "    \"\"\"Convert an array, x, to standard units.\"\"\"\n",
    "    ...\n",
    "\n",
    "# add the standardized scores to the table\n",
    "..."
   ]
  },
  {
   "cell_type": "markdown",
   "metadata": {},
   "source": [
    "<details>\n",
    "    <summary>Solution</summary>\n",
    "    \n",
    "    midterm_scores = Table.read_table('https://www.inferentialthinking.com/data/scores_by_section.csv').drop(0)\n",
    "\n",
    "    def standard_units(x):\n",
    "        \"\"\"Convert an array, x, to standard units.\"\"\"\n",
    "        return (x - np.mean(x)) / np.std(x)\n",
    "\n",
    "    midterm_scores = midterm_scores.with_column(\"standardized scores\", standard_units(midterm_scores.column(0)))\n",
    "    midterm_scores.hist(0)\n",
    "</details>"
   ]
  },
  {
   "cell_type": "markdown",
   "metadata": {},
   "source": [
    "<br>\n",
    "\n",
    "**B. What is the approximate mean of the midterm scores based on the first 20 observations of the updated `midterm_scores` scores?\n",
    "What about the approximate standard deviation?**"
   ]
  },
  {
   "cell_type": "code",
   "execution_count": null,
   "metadata": {},
   "outputs": [],
   "source": [
    "midterm_scores.show(20)"
   ]
  },
  {
   "cell_type": "markdown",
   "metadata": {},
   "source": [
    "<details>\n",
    "    <summary>Solution</summary>\n",
    "    The mean midterm score is approximately 16 points. The standard deviation is about 6 or 7. If you found this question challenging,\n",
    "    consider reviewing lecture 24.1.\n",
    "</details>"
   ]
  },
  {
   "cell_type": "markdown",
   "metadata": {},
   "source": [
    "<br>\n",
    "\n",
    "**C. True or false: When applied to the Normal distribution, Chebyshev's bounds are overly conservative.**\n",
    "\n",
    "<details>\n",
    "    <summary>Solution</summary>\n",
    "    True! The bounds dictated by Chebyshev's inequality are overly conservative when applied to the Normal distribution. For\n",
    "    example, approximately 95% of data generated by a Normal distribution are found within 2 standard deviations of its mean.\n",
    "    However, Chebyshev's inequality states that at least 75% of any distributions data is found within 2 standard deviations\n",
    "    of its mean.\n",
    "</details>"
   ]
  },
  {
   "cell_type": "markdown",
   "metadata": {},
   "source": [
    "<br>\n",
    "\n",
    "**D. Consider the data on NBA players' salaries during the 2015-2016 season. Does it look approximately Normal to you?**"
   ]
  },
  {
   "cell_type": "code",
   "execution_count": null,
   "metadata": {},
   "outputs": [],
   "source": [
    "nba_salaries = Table.read_table('https://www.inferentialthinking.com/data/nba_salaries.csv').select(3)\n",
    "..."
   ]
  },
  {
   "cell_type": "markdown",
   "metadata": {},
   "source": [
    "<details>\n",
    "    <summary>Solution</summary>\n",
    "    <code>nba_salaries.hist(0)</code>\n",
    "    <br>\n",
    "    <b>Interpretation:</b> <br>\n",
    "    No, it doesn't look bell-shaped. The distribution has a long right tail, and it certainly isn't symmetric.\n",
    "</details>"
   ]
  },
  {
   "cell_type": "markdown",
   "metadata": {},
   "source": [
    "<br>\n",
    "\n",
    "**E. Suppose we were to repeatedly take random samples from this distribution, and compute the average of each sample. What would the\n",
    "distribution of these sample averages look like? Why?**\n",
    "\n",
    "<details>\n",
    "    <summary>Solution</summary>\n",
    "    Regardless of the population's underlying distribution, the probability distribution of the sample average is approximately Normal\n",
    "    by the Central Limit Theorem.\n",
    "</details>"
   ]
  },
  {
   "cell_type": "markdown",
   "metadata": {},
   "source": [
    "<br>\n",
    "\n",
    "**F. Simulate 1000 random samples of size 200 from this data and plot their averages using a histogram.**"
   ]
  },
  {
   "cell_type": "code",
   "execution_count": null,
   "metadata": {},
   "outputs": [],
   "source": [
    "..."
   ]
  },
  {
   "cell_type": "markdown",
   "metadata": {},
   "source": [
    "<details>\n",
    "    <summary>Solution</summary>\n",
    "    \n",
    "    # define the sample size\n",
    "    sample_size = 200\n",
    "\n",
    "    # define the array to store the sample averages\n",
    "    averages = make_array()\n",
    "\n",
    "    # repeatedly sample from the table, and compute each sample's mean\n",
    "    for i in np.arange(1000):\n",
    "        sampled_salaries = nba_salaries.sample(sample_size)\n",
    "        sample_average = np.average(sampled_salaries.column(0))\n",
    "        averages = np.append(averages, sample_average)\n",
    "\n",
    "    # plot the empirical distribution of sample averages\n",
    "    Table().with_column('NBA Salary Sample Average', averages).hist(bins = 20, ec = 'w')\n",
    "</details>"
   ]
  },
  {
   "cell_type": "markdown",
   "metadata": {},
   "source": [
    "Try varying the number of samples and the size of each sample used to generate this histogram. How do these factors impact the empirical\n",
    "distribution of the sample averages?"
   ]
  }
 ],
 "metadata": {
  "kernelspec": {
   "display_name": "Python 3",
   "language": "python",
   "name": "python3"
  },
  "language_info": {
   "codemirror_mode": {
    "name": "ipython",
    "version": 3
   },
   "file_extension": ".py",
   "mimetype": "text/x-python",
   "name": "python",
   "nbconvert_exporter": "python",
   "pygments_lexer": "ipython3",
   "version": "3.8.2"
  }
 },
 "nbformat": 4,
 "nbformat_minor": 4
}

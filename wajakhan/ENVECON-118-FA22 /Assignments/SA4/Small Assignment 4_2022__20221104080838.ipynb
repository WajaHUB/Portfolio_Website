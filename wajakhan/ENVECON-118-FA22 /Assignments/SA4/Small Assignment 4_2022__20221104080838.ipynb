{
 "cells": [
  {
   "cell_type": "markdown",
   "metadata": {},
   "source": [
    "# Small Assignment 4"
   ]
  },
  {
   "cell_type": "markdown",
   "metadata": {},
   "source": [
    "<em>Due October 28th by 11:59pm PT. Download your notebook with responses as a PDF via HTML and submit to Gradescope.</em>\n",
    "\n",
    "In Small Assignment 2, we estimated the relationship between housing prices, age of the house, owner occupancy status and the presence of hazardous waste in the neighborhood. Suppose our estimates were given by: \n",
    "\n",
    "$\\widehat{log(hhvalue)}= 11.45 (3.4) - 0.175 (0.34) * waste - 0.00532  (0.00356)  * nbyrs + 2.68 (1.435) * owner occupied$              \n",
    "\n",
    "$ N = 560, R^2 = 0.113$\n",
    "                 \n",
    "where standard errors are given in parentheses.\n",
    "\n",
    "As a reminder: **hhvalue** is the housing price measured in dollars and **waste** is the quantity in kgs of hazardous waste in the house's census tract, **nbyrs** is the number of years since the house was built, and **owner_occupied** is a dummy variable for whether the house is occupied by its owner (vs rented)."
   ]
  },
  {
   "cell_type": "markdown",
   "metadata": {},
   "source": [
    "### 1. Is either the age of house or owner occupancy significant at the 5% level against a 2-sided alternative? Show your work."
   ]
  },
  {
   "cell_type": "code",
   "execution_count": 1,
   "metadata": {},
   "outputs": [
    {
     "data": {
      "text/html": [
       "1.49438202247191"
      ],
      "text/latex": [
       "1.49438202247191"
      ],
      "text/markdown": [
       "1.49438202247191"
      ],
      "text/plain": [
       "[1] 1.494382"
      ]
     },
     "metadata": {},
     "output_type": "display_data"
    }
   ],
   "source": [
    "0.00532/0.00356"
   ]
  },
  {
   "cell_type": "code",
   "execution_count": 2,
   "metadata": {},
   "outputs": [
    {
     "data": {
      "text/html": [
       "1.86759581881533"
      ],
      "text/latex": [
       "1.86759581881533"
      ],
      "text/markdown": [
       "1.86759581881533"
      ],
      "text/plain": [
       "[1] 1.867596"
      ]
     },
     "metadata": {},
     "output_type": "display_data"
    }
   ],
   "source": [
    "2.68/1.435"
   ]
  },
  {
   "cell_type": "markdown",
   "metadata": {},
   "source": [
    "step1:Define Hpythesis: \n",
    "\n",
    "H0: b3 = 0, b4 = 0\n",
    "\n",
    "H1: B3 $\\neq$0 b4 $\\neq$0\n",
    "\n",
    "\n",
    "step2: calculate t-stat\n",
    "$$t=\\frac{\\hat{\\beta}_1-0}{se}=\\frac{0.00532}{0.00356}= 1.49438202247191$$\n",
    "\n",
    "\n",
    "step3: Choose significane level and find critical Value\n",
    "\n",
    "Critical value: 1.96\n",
    "\n",
    "\n",
    "step4: Reject the null or fail to reject it.\n",
    "Since |t| value is less than the critical value we fail to reject the null hypothesis.\n",
    "\n",
    "Step5: Interpret:\n",
    "This tells us that there is statistical evidence that b3 and b4 are significatnly important.\n"
   ]
  },
  {
   "cell_type": "markdown",
   "metadata": {},
   "source": [
    "step1:Define Hpythesis: \n",
    "\n",
    "H0: b3 = 0, b4 = 0\n",
    "\n",
    "H1: B3 $\\neq$0 b4 $\\neq$0\n",
    "\n",
    "\n",
    "step2: calculate t-stat\n",
    "$$t=\\frac{\\hat{\\beta}_1-0}{se}=\\frac{2.68}{1.435}= 1.87$$\n",
    "\n",
    "\n",
    "step3: Choose significane level and find critical Value\n",
    "\n",
    "Critical value: 1.96\n",
    "\n",
    "\n",
    "step4: Reject the null or fail to reject it.\n",
    "Since |t| value is less than the critical value we fail to reject the null hypothesis.\n",
    "\n",
    "Step5: Interpret:\n",
    "This tells us that there is statistical evidence that b3 and b4 are significatnly important.\n"
   ]
  },
  {
   "cell_type": "markdown",
   "metadata": {},
   "source": [
    "### 2. Dropping _nbyrs_ and _owneroccupied_ from the equation gives the equation below. Are _nbyrs_ or _owneroccupied_ jointly significant at the 5% level? Justify your answer. \n",
    "\n",
    "$\\widehat{log(hhvalue)}= 11.45 (2.5) - 0.178 (0.36) * waste$              \n",
    "\n",
    "$ N = 560, R^2 = 0.103$\n",
    "where standard errors are given in parentheses."
   ]
  },
  {
   "cell_type": "markdown",
   "metadata": {},
   "source": [
    "Step 1:\n",
    "\n",
    "H0 is beta2=0 and beta3=0; \n",
    "\n",
    "H1 is beta2 $\\neq$0 or beta3 $\\neq$ 0\n",
    "\n",
    "step 2: F stat 3.134\n",
    "\n",
    "step 3: F table w/ significance .05 and df's 2 and 556: critical value is 3.00\n"
   ]
  },
  {
   "cell_type": "code",
   "execution_count": 2,
   "metadata": {},
   "outputs": [
    {
     "data": {
      "text/html": [
       "3.13416009019166"
      ],
      "text/latex": [
       "3.13416009019166"
      ],
      "text/markdown": [
       "3.13416009019166"
      ],
      "text/plain": [
       "[1] 3.13416"
      ]
     },
     "metadata": {},
     "output_type": "display_data"
    }
   ],
   "source": [
    "((.113-.103)/2)/((1-.113)/556)"
   ]
  },
  {
   "cell_type": "markdown",
   "metadata": {},
   "source": [
    "step 4: We would reject because F Test value is greater than critical value. This tells us that nbyrs and owneroccupied isn't signficant (I probably have it backward)."
   ]
  },
  {
   "cell_type": "markdown",
   "metadata": {},
   "source": [
    "### 3. Does including _nbyrs_ and _owneroccupied_ in the model greatly affect the estimated tradeoff between environmental value and housing prices?"
   ]
  },
  {
   "cell_type": "markdown",
   "metadata": {},
   "source": [
    "No because the betas didn't evne change at all, so that tell me that there is a great affect from nbyrs and owneroccupied. However, you can look at from the two different tests as well in which it was rejected twice, where the test are testing for different aspects of the equation at .5%."
   ]
  },
  {
   "cell_type": "markdown",
   "metadata": {},
   "source": [
    "### 4. Carefully explain the difference between the null hypothesis in your tests in part 1 and part 2. What could you learn by rejecting the null hypothesis in each of them?"
   ]
  },
  {
   "cell_type": "markdown",
   "metadata": {},
   "source": [
    "This is explaining F and T teset, which are different from one another. In T test we were only testing for \"one\" variable, where  in F test we were testing for more than one variable and \"the stronger hypthesis\". "
   ]
  },
  {
   "cell_type": "code",
   "execution_count": null,
   "metadata": {},
   "outputs": [],
   "source": []
  }
 ],
 "metadata": {
  "kernelspec": {
   "display_name": "R",
   "language": "R",
   "name": "ir"
  },
  "language_info": {
   "codemirror_mode": "r",
   "file_extension": ".r",
   "mimetype": "text/x-r-source",
   "name": "R",
   "pygments_lexer": "r",
   "version": "4.2.1"
  }
 },
 "nbformat": 4,
 "nbformat_minor": 2
}

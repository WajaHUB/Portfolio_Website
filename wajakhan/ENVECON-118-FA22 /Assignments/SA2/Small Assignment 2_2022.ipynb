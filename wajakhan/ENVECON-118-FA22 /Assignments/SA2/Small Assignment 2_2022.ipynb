{
 "cells": [
  {
   "cell_type": "markdown",
   "metadata": {},
   "source": [
    "# Small Assignment 2"
   ]
  },
  {
   "cell_type": "markdown",
   "metadata": {},
   "source": [
    "<em>Due September 23th by 11:59pm PT. Download your notebook with your code and responses as a PDF via HTML and submit to Gradescope.</em>\n",
    "\n",
    "The following model is a simplified version of the multiple regression model used by Greenstone and Gallagher (2008) to study the tradeoff between environmental clean-up of hazardous waste and housing prices and to look at other factors affecting housing prices.\n",
    "\n",
    "$\\textrm{lnhhvalue}=\\beta_0+\\beta_1\\textrm{waste}+\\beta_2\\textrm{nbyrs}+\\beta_3\\textrm{owner_occupied}+u$\n",
    "\n",
    "where house value is measured in dollars and waste is the quantity in kgs of hazardous waste (that could be cleaned up) in the house's census tract, nbyrs is the number of years since the house was built, and owner_occupied is a dummy variable (taking a value of 0 or 1) for whether the house is occupied by its owner (vs rented)."
   ]
  },
  {
   "cell_type": "markdown",
   "metadata": {},
   "source": [
    "### 1. If households incorporate environmental quality in the housing value, what is the sign of $\\beta_1$?\n",
    "\n",
    "(Note: typing the words \"beta 1\" is fine. If you want to have it as math notation, type: $ \\beta_1 $ . You can double click this cell and copy the code.)"
   ]
  },
  {
   "cell_type": "markdown",
   "metadata": {},
   "source": [
    "We would need more information, on what the environment quality is referring to. If we assume environmental quality is a good thing, then the price of the house will go up if its the opposite, then the house value goes down. "
   ]
  },
  {
   "cell_type": "markdown",
   "metadata": {},
   "source": [
    "### 2. What signs do you think $\\beta_2$ and $\\beta_3$ will have?"
   ]
  },
  {
   "cell_type": "markdown",
   "metadata": {},
   "source": [
    "B2 if the house gets older, it decreases in its value, depreciation of its value --> there are other variables to consider, what if the house is on top of a hill since its old, so it would be worth more even if its old or what if its in California or somewhere where the prices have inflated the values of housing up regardless of how old they are/\n",
    "\n",
    "B3, it probably doesn't affect anything, if you are taking in the values 0 or 1 but, in most cases where there is owner occupation, you will assume the price will increase as owners take care of their houses versus renters who don't care about house or the value of it."
   ]
  },
  {
   "cell_type": "markdown",
   "metadata": {},
   "source": [
    "### 3. Load in the dataset: gg2008.dta and estimate the above model using `lm()`. Display the results with the `summary()` command.  \n",
    "Hint: <em>Remember that this is a .dta file, meaning that the `haven` package and `read_dta()` commands will be useful. You may also look at the Jupyter Notebook for section 3, which uses these data, for some example code.</em>"
   ]
  },
  {
   "cell_type": "code",
   "execution_count": 1,
   "metadata": {},
   "outputs": [
    {
     "data": {
      "text/html": [
       "<table class=\"dataframe\">\n",
       "<caption>A tibble: 6 × 4</caption>\n",
       "<thead>\n",
       "\t<tr><th scope=col>lnhhvalue</th><th scope=col>owner_occupied</th><th scope=col>nbyrs</th><th scope=col>waste</th></tr>\n",
       "\t<tr><th scope=col>&lt;dbl&gt;</th><th scope=col>&lt;dbl&gt;</th><th scope=col>&lt;dbl&gt;</th><th scope=col>&lt;dbl&gt;</th></tr>\n",
       "</thead>\n",
       "<tbody>\n",
       "\t<tr><td>11.39076</td><td>0.9206226</td><td>51</td><td>112.11694</td></tr>\n",
       "\t<tr><td>11.73876</td><td>0.9580761</td><td>14</td><td> 84.10118</td></tr>\n",
       "\t<tr><td>11.09091</td><td>0.9393589</td><td>18</td><td>105.51331</td></tr>\n",
       "\t<tr><td>11.94203</td><td>0.9444866</td><td>30</td><td>108.90382</td></tr>\n",
       "\t<tr><td>11.53570</td><td>0.9528114</td><td>28</td><td>114.72144</td></tr>\n",
       "\t<tr><td>11.92200</td><td>0.9610538</td><td> 5</td><td> 40.61169</td></tr>\n",
       "</tbody>\n",
       "</table>\n"
      ],
      "text/latex": [
       "A tibble: 6 × 4\n",
       "\\begin{tabular}{llll}\n",
       " lnhhvalue & owner\\_occupied & nbyrs & waste\\\\\n",
       " <dbl> & <dbl> & <dbl> & <dbl>\\\\\n",
       "\\hline\n",
       "\t 11.39076 & 0.9206226 & 51 & 112.11694\\\\\n",
       "\t 11.73876 & 0.9580761 & 14 &  84.10118\\\\\n",
       "\t 11.09091 & 0.9393589 & 18 & 105.51331\\\\\n",
       "\t 11.94203 & 0.9444866 & 30 & 108.90382\\\\\n",
       "\t 11.53570 & 0.9528114 & 28 & 114.72144\\\\\n",
       "\t 11.92200 & 0.9610538 &  5 &  40.61169\\\\\n",
       "\\end{tabular}\n"
      ],
      "text/markdown": [
       "\n",
       "A tibble: 6 × 4\n",
       "\n",
       "| lnhhvalue &lt;dbl&gt; | owner_occupied &lt;dbl&gt; | nbyrs &lt;dbl&gt; | waste &lt;dbl&gt; |\n",
       "|---|---|---|---|\n",
       "| 11.39076 | 0.9206226 | 51 | 112.11694 |\n",
       "| 11.73876 | 0.9580761 | 14 |  84.10118 |\n",
       "| 11.09091 | 0.9393589 | 18 | 105.51331 |\n",
       "| 11.94203 | 0.9444866 | 30 | 108.90382 |\n",
       "| 11.53570 | 0.9528114 | 28 | 114.72144 |\n",
       "| 11.92200 | 0.9610538 |  5 |  40.61169 |\n",
       "\n"
      ],
      "text/plain": [
       "  lnhhvalue owner_occupied nbyrs waste    \n",
       "1 11.39076  0.9206226      51    112.11694\n",
       "2 11.73876  0.9580761      14     84.10118\n",
       "3 11.09091  0.9393589      18    105.51331\n",
       "4 11.94203  0.9444866      30    108.90382\n",
       "5 11.53570  0.9528114      28    114.72144\n",
       "6 11.92200  0.9610538       5     40.61169"
      ]
     },
     "metadata": {},
     "output_type": "display_data"
    },
    {
     "data": {
      "text/plain": [
       "\n",
       "Call:\n",
       "lm(formula = lnhhvalue ~ owner_occupied + nbyrs + waste, data = mydata)\n",
       "\n",
       "Residuals:\n",
       "    Min      1Q  Median      3Q     Max \n",
       "-0.8771 -0.2988 -0.0193  0.2722  1.6488 \n",
       "\n",
       "Coefficients:\n",
       "                Estimate Std. Error t value Pr(>|t|)    \n",
       "(Intercept)    6.7812860  0.5695443  11.907  < 2e-16 ***\n",
       "owner_occupied 5.0222497  0.5974650   8.406 5.76e-16 ***\n",
       "nbyrs          0.0056086  0.0012380   4.530 7.57e-06 ***\n",
       "waste          0.0006650  0.0005475   1.214    0.225    \n",
       "---\n",
       "Signif. codes:  0 ‘***’ 0.001 ‘**’ 0.01 ‘*’ 0.05 ‘.’ 0.1 ‘ ’ 1\n",
       "\n",
       "Residual standard error: 0.4132 on 446 degrees of freedom\n",
       "  (1 observation deleted due to missingness)\n",
       "Multiple R-squared:  0.1566,\tAdjusted R-squared:  0.1509 \n",
       "F-statistic: 27.61 on 3 and 446 DF,  p-value: < 2.2e-16\n"
      ]
     },
     "metadata": {},
     "output_type": "display_data"
    }
   ],
   "source": [
    "library(haven)\n",
    "mydata <- read_dta(\"gg2008.dta\")\n",
    "head(mydata)\n",
    "slr<-lm(lnhhvalue~owner_occupied + nbyrs + waste, data=mydata)\n",
    "summary(slr)"
   ]
  },
  {
   "cell_type": "markdown",
   "metadata": {},
   "source": [
    "### 4. Interpret the effect $\\hat{\\beta}_1 $."
   ]
  },
  {
   "cell_type": "markdown",
   "metadata": {},
   "source": [
    "Sign: Beta1 here is postive, so every value that you add of beta1, you go up by 5.022.\n",
    "Size: Usually when you increase your size of x1 in beta1, it means you are increasing the value by how much ever beta1 is, but I do think this beta1 will have diminishing results once you cross a certain number because you wouldn't really care if the house had more than 10 owners unless that somehow keeps increasing the value and doesn't diminish. "
   ]
  },
  {
   "cell_type": "markdown",
   "metadata": {},
   "source": [
    "### 5. Discuss whether assumptions MLR1-MLR4 are reasonable or may be violated in these data. "
   ]
  },
  {
   "cell_type": "markdown",
   "metadata": {},
   "source": [
    "MLR1 states that the different beta's values are to be linear, is very reasonable to me based of the values given by the summary functions of the beta, I would assume its a linear line.\n",
    "\n",
    "MLR2 states our observed data were sample at random but this be violated if the data isn't collected randomly or selected randomly from the true population date, which violated MLR2, like how was this data collected, is it truely random or did they just pick one place and collected all the data for those houses. For example a rich neighbor hood versus a poor neighbor hood or even like a city versus suburbs which would be good sampling of the true population of home values through the world. \n",
    "\n",
    "MLR3 states that there is no perfect collinearity, this can be violated if the data is actually collinear to one another, which would mean it violated MLR3. However, this would be very easy to easy to determine through a graph of the actual datas on X and Y axis graph, where collinearity would be visible.\n",
    "\n",
    "\n",
    "MLR4 states all of our explanatory variables, the error terms has been expected value of zero: the error term is not correlated with any of X variables woudld be violated by this data set because you need two different data sets to compare to or you can boostrap with this data set and see if you actually get 0 difference between the different samples through bootstrapping, but it violates MLR4. "
   ]
  }
 ],
 "metadata": {
  "kernelspec": {
   "display_name": "R",
   "language": "R",
   "name": "ir"
  },
  "language_info": {
   "codemirror_mode": "r",
   "file_extension": ".r",
   "mimetype": "text/x-r-source",
   "name": "R",
   "pygments_lexer": "r",
   "version": "4.2.1"
  }
 },
 "nbformat": 4,
 "nbformat_minor": 2
}

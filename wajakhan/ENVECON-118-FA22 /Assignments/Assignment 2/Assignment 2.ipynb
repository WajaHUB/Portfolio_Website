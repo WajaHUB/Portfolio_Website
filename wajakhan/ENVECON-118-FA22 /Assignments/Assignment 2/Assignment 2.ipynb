{
 "cells": [
  {
   "cell_type": "markdown",
   "metadata": {},
   "source": [
    "# Problem Set 2"
   ]
  },
  {
   "cell_type": "markdown",
   "metadata": {},
   "source": [
    "# Exercise 1: Do Microfinance Loans Affect Expenditure?\n",
    "\n",
    "Most of the world's poor have limited access to formal credit. Traditionally, they have had to resort to their social networks (family, friends) or local moneylenders that charge exorbitant interest rates (upwardsof 100%). This often prevents individuals from making investments in potential businesses or productive assets. In the last 15 years, microfinance institutions (MFI) have emerged all across the developing world to address this problem. The basic model of a microfinance institution (such as the Grameen Bank) is to provide small loans to a group of potential borrowers at much lower interest rates. The number of very poor families with a microloan has grown exponentially: from 7.6 million in 1997 to 137.5 million in 2010. Micro-credit has been heralded as a major advance in the reduction of global poverty. However, in recent years, critiques have emerged accusing micro-finance institutions of acting irresponsibly by holding the poor to very strict repayment schedules and charging unreasonably high interest rates. So where does this leave us? Does micro-credit help or hinder? In the January 2015 issue of the American Economic Journal: Applied Economics, six papers evaluating the merits of micro-credit were released. We will explore the results from one of these papers by Augsburg et al., which evaluates a microfinance institution in Bosnia and Herzegovina."
   ]
  },
  {
   "cell_type": "markdown",
   "metadata": {},
   "source": [
    "## Data Description\n",
    "The data for this exercise comes from a study conducted in Bosnia and Herzegovina investigating the effects of a small loan on access to liquidity, self-employment, income, labor supply, expenditure, and savings. These were individual-liability loans with monthly repayments and an interest rate of 22%. The sample consists of potential borrowers (who were just marginally eligible for loans). Approximately half the sample was randomly selected to receive the loan (the treatment group), while the other half did not receive anything (control group). You have a subsample of individuals (both in the treatment and control group) that the researchers used for their analysis. The respondent (= the loan applicant) answered questions about the household they belonged to as well as about their loand and personal outcomes (no two respondents are from the same household). The PS2_MFI.dta file includes the following variables (along with some others we will not ask you to analyze):"
   ]
  },
  {
   "cell_type": "markdown",
   "metadata": {},
   "source": [
    "• `treatment` : dummy equal to 1 if the respondent is in the treatment group (which received a loan)\n",
    "\n",
    "• `resp_female`: dummy equal to 1 if the respondent is female\n",
    "\n",
    "• `resp_age`: the respondent's age\n",
    "\n",
    "• `hhmem`: number of household members\n",
    "\n",
    "• `hhmem_adults`: number of adults in household ($\\geq$ 14)\n",
    "\n",
    "• `hhmem_children`: number of children in household (<14)\n",
    "\n",
    "• `hhmem_elderly`: number of elderly in household (>64)\n",
    "\n",
    "• `total_exp`: total annual household expenditure in Bosnian Convertible Marka (BAM)\n",
    "\n",
    "• `food_exp`: annual household expenditure on food in BAM\n",
    "\n",
    "• `nondur_exp`: annual household expenditure on nondurables (rent, fuel, transport, clothes, insurance...) in BAM\n",
    "\n",
    "• `dur_exp`: annual household expenditure on durables (education, furniture, vehicle...) in BAM\n",
    "\n",
    "• `temp_exp`: annual household expenditure on temptation goods (cigarettes, tobacco, alcohol) in BAM\n",
    "\n",
    "The prevailing exchange rate at the time of the study was approximately US$1 = 1.63 BAM."
   ]
  },
  {
   "cell_type": "markdown",
   "metadata": {},
   "source": [
    "## Question 1"
   ]
  },
  {
   "cell_type": "markdown",
   "metadata": {},
   "source": [
    "Load the dataset `PS2_MFI.dta`. Notice that this is a `.dta` file so you will need to use the `haven` package."
   ]
  },
  {
   "cell_type": "code",
   "execution_count": 15,
   "metadata": {
    "scrolled": true
   },
   "outputs": [
    {
     "data": {
      "text/html": [
       "<table class=\"dataframe\">\n",
       "<caption>A tibble: 6 × 25</caption>\n",
       "<thead>\n",
       "\t<tr><th scope=col>intervid</th><th scope=col>treatment</th><th scope=col>resp_female</th><th scope=col>resp_primary</th><th scope=col>resp_secondary</th><th scope=col>resp_tertiary</th><th scope=col>resp_noschool</th><th scope=col>resp_age</th><th scope=col>resp_married</th><th scope=col>resp_emp</th><th scope=col>⋯</th><th scope=col>hhmem_unemployed</th><th scope=col>hhmem_retired</th><th scope=col>hhmem_school</th><th scope=col>total_exp</th><th scope=col>food_exp</th><th scope=col>nondur_exp</th><th scope=col>dur_exp</th><th scope=col>temp_exp</th><th scope=col>savings_avg</th><th scope=col>followup</th></tr>\n",
       "\t<tr><th scope=col>&lt;dbl&gt;</th><th scope=col>&lt;dbl&gt;</th><th scope=col>&lt;dbl&gt;</th><th scope=col>&lt;dbl&gt;</th><th scope=col>&lt;dbl&gt;</th><th scope=col>&lt;dbl&gt;</th><th scope=col>&lt;dbl&gt;</th><th scope=col>&lt;dbl&gt;</th><th scope=col>&lt;dbl&gt;</th><th scope=col>&lt;dbl&gt;</th><th scope=col>⋯</th><th scope=col>&lt;dbl&gt;</th><th scope=col>&lt;dbl&gt;</th><th scope=col>&lt;dbl&gt;</th><th scope=col>&lt;dbl&gt;</th><th scope=col>&lt;dbl&gt;</th><th scope=col>&lt;dbl&gt;</th><th scope=col>&lt;dbl&gt;</th><th scope=col>&lt;dbl&gt;</th><th scope=col>&lt;dbl&gt;</th><th scope=col>&lt;dbl&gt;</th></tr>\n",
       "</thead>\n",
       "<tbody>\n",
       "\t<tr><td> 2</td><td>1</td><td>1</td><td>1</td><td>0</td><td>0</td><td>0</td><td>29</td><td>0</td><td>0</td><td>⋯</td><td>1</td><td>0</td><td>2</td><td> 5740</td><td> 2080</td><td> 960</td><td>1400</td><td>1300</td><td>  0</td><td>1</td></tr>\n",
       "\t<tr><td> 4</td><td>0</td><td>0</td><td>0</td><td>0</td><td>1</td><td>0</td><td>49</td><td>0</td><td>0</td><td>⋯</td><td>2</td><td>0</td><td>2</td><td>34678</td><td>30160</td><td>4488</td><td>  30</td><td>   0</td><td>500</td><td>1</td></tr>\n",
       "\t<tr><td> 6</td><td>0</td><td>0</td><td>1</td><td>0</td><td>0</td><td>0</td><td>24</td><td>1</td><td>1</td><td>⋯</td><td>0</td><td>0</td><td>0</td><td> 9180</td><td> 2600</td><td> 420</td><td>4340</td><td>1820</td><td>  0</td><td>1</td></tr>\n",
       "\t<tr><td> 7</td><td>0</td><td>0</td><td>0</td><td>1</td><td>0</td><td>0</td><td>45</td><td>0</td><td>1</td><td>⋯</td><td>0</td><td>0</td><td>0</td><td>12696</td><td> 9360</td><td>1812</td><td> 900</td><td> 624</td><td>  0</td><td>1</td></tr>\n",
       "\t<tr><td> 8</td><td>1</td><td>0</td><td>1</td><td>0</td><td>0</td><td>0</td><td>52</td><td>0</td><td>1</td><td>⋯</td><td>0</td><td>0</td><td>2</td><td> 2960</td><td> 2600</td><td> 360</td><td>   0</td><td>   0</td><td>  0</td><td>1</td></tr>\n",
       "\t<tr><td>13</td><td>1</td><td>0</td><td>0</td><td>1</td><td>0</td><td>0</td><td>18</td><td>1</td><td>1</td><td>⋯</td><td>0</td><td>0</td><td>1</td><td> 9188</td><td> 7800</td><td> 360</td><td> 300</td><td> 728</td><td>500</td><td>1</td></tr>\n",
       "</tbody>\n",
       "</table>\n"
      ],
      "text/latex": [
       "A tibble: 6 × 25\n",
       "\\begin{tabular}{lllllllllllllllllllll}\n",
       " intervid & treatment & resp\\_female & resp\\_primary & resp\\_secondary & resp\\_tertiary & resp\\_noschool & resp\\_age & resp\\_married & resp\\_emp & ⋯ & hhmem\\_unemployed & hhmem\\_retired & hhmem\\_school & total\\_exp & food\\_exp & nondur\\_exp & dur\\_exp & temp\\_exp & savings\\_avg & followup\\\\\n",
       " <dbl> & <dbl> & <dbl> & <dbl> & <dbl> & <dbl> & <dbl> & <dbl> & <dbl> & <dbl> & ⋯ & <dbl> & <dbl> & <dbl> & <dbl> & <dbl> & <dbl> & <dbl> & <dbl> & <dbl> & <dbl>\\\\\n",
       "\\hline\n",
       "\t  2 & 1 & 1 & 1 & 0 & 0 & 0 & 29 & 0 & 0 & ⋯ & 1 & 0 & 2 &  5740 &  2080 &  960 & 1400 & 1300 &   0 & 1\\\\\n",
       "\t  4 & 0 & 0 & 0 & 0 & 1 & 0 & 49 & 0 & 0 & ⋯ & 2 & 0 & 2 & 34678 & 30160 & 4488 &   30 &    0 & 500 & 1\\\\\n",
       "\t  6 & 0 & 0 & 1 & 0 & 0 & 0 & 24 & 1 & 1 & ⋯ & 0 & 0 & 0 &  9180 &  2600 &  420 & 4340 & 1820 &   0 & 1\\\\\n",
       "\t  7 & 0 & 0 & 0 & 1 & 0 & 0 & 45 & 0 & 1 & ⋯ & 0 & 0 & 0 & 12696 &  9360 & 1812 &  900 &  624 &   0 & 1\\\\\n",
       "\t  8 & 1 & 0 & 1 & 0 & 0 & 0 & 52 & 0 & 1 & ⋯ & 0 & 0 & 2 &  2960 &  2600 &  360 &    0 &    0 &   0 & 1\\\\\n",
       "\t 13 & 1 & 0 & 0 & 1 & 0 & 0 & 18 & 1 & 1 & ⋯ & 0 & 0 & 1 &  9188 &  7800 &  360 &  300 &  728 & 500 & 1\\\\\n",
       "\\end{tabular}\n"
      ],
      "text/markdown": [
       "\n",
       "A tibble: 6 × 25\n",
       "\n",
       "| intervid &lt;dbl&gt; | treatment &lt;dbl&gt; | resp_female &lt;dbl&gt; | resp_primary &lt;dbl&gt; | resp_secondary &lt;dbl&gt; | resp_tertiary &lt;dbl&gt; | resp_noschool &lt;dbl&gt; | resp_age &lt;dbl&gt; | resp_married &lt;dbl&gt; | resp_emp &lt;dbl&gt; | ⋯ ⋯ | hhmem_unemployed &lt;dbl&gt; | hhmem_retired &lt;dbl&gt; | hhmem_school &lt;dbl&gt; | total_exp &lt;dbl&gt; | food_exp &lt;dbl&gt; | nondur_exp &lt;dbl&gt; | dur_exp &lt;dbl&gt; | temp_exp &lt;dbl&gt; | savings_avg &lt;dbl&gt; | followup &lt;dbl&gt; |\n",
       "|---|---|---|---|---|---|---|---|---|---|---|---|---|---|---|---|---|---|---|---|---|\n",
       "|  2 | 1 | 1 | 1 | 0 | 0 | 0 | 29 | 0 | 0 | ⋯ | 1 | 0 | 2 |  5740 |  2080 |  960 | 1400 | 1300 |   0 | 1 |\n",
       "|  4 | 0 | 0 | 0 | 0 | 1 | 0 | 49 | 0 | 0 | ⋯ | 2 | 0 | 2 | 34678 | 30160 | 4488 |   30 |    0 | 500 | 1 |\n",
       "|  6 | 0 | 0 | 1 | 0 | 0 | 0 | 24 | 1 | 1 | ⋯ | 0 | 0 | 0 |  9180 |  2600 |  420 | 4340 | 1820 |   0 | 1 |\n",
       "|  7 | 0 | 0 | 0 | 1 | 0 | 0 | 45 | 0 | 1 | ⋯ | 0 | 0 | 0 | 12696 |  9360 | 1812 |  900 |  624 |   0 | 1 |\n",
       "|  8 | 1 | 0 | 1 | 0 | 0 | 0 | 52 | 0 | 1 | ⋯ | 0 | 0 | 2 |  2960 |  2600 |  360 |    0 |    0 |   0 | 1 |\n",
       "| 13 | 1 | 0 | 0 | 1 | 0 | 0 | 18 | 1 | 1 | ⋯ | 0 | 0 | 1 |  9188 |  7800 |  360 |  300 |  728 | 500 | 1 |\n",
       "\n"
      ],
      "text/plain": [
       "  intervid treatment resp_female resp_primary resp_secondary resp_tertiary\n",
       "1  2       1         1           1            0              0            \n",
       "2  4       0         0           0            0              1            \n",
       "3  6       0         0           1            0              0            \n",
       "4  7       0         0           0            1              0            \n",
       "5  8       1         0           1            0              0            \n",
       "6 13       1         0           0            1              0            \n",
       "  resp_noschool resp_age resp_married resp_emp ⋯ hhmem_unemployed hhmem_retired\n",
       "1 0             29       0            0        ⋯ 1                0            \n",
       "2 0             49       0            0        ⋯ 2                0            \n",
       "3 0             24       1            1        ⋯ 0                0            \n",
       "4 0             45       0            1        ⋯ 0                0            \n",
       "5 0             52       0            1        ⋯ 0                0            \n",
       "6 0             18       1            1        ⋯ 0                0            \n",
       "  hhmem_school total_exp food_exp nondur_exp dur_exp temp_exp savings_avg\n",
       "1 2             5740      2080     960       1400    1300       0        \n",
       "2 2            34678     30160    4488         30       0     500        \n",
       "3 0             9180      2600     420       4340    1820       0        \n",
       "4 0            12696      9360    1812        900     624       0        \n",
       "5 2             2960      2600     360          0       0       0        \n",
       "6 1             9188      7800     360        300     728     500        \n",
       "  followup\n",
       "1 1       \n",
       "2 1       \n",
       "3 1       \n",
       "4 1       \n",
       "5 1       \n",
       "6 1       "
      ]
     },
     "metadata": {},
     "output_type": "display_data"
    }
   ],
   "source": [
    "library(haven) \n",
    "data <- read_dta('PS2_MFI.dta') \n",
    "head(data)"
   ]
  },
  {
   "cell_type": "markdown",
   "metadata": {},
   "source": [
    "### a) How many respondents are in your data set? How many respondents are unmarried? What is the mean age among the respondents in the sample? What is the mean number of children in respondents' households in your sample?\n",
    "Note there are some missing values of respondents' age. What argument do you have to add to `mean()` to get around this?\n",
    "\n",
    "Hint: check for the `mean()` syntax in this website: https://www.rdocumentation.org/packages/base/versions/3.6.2/topics/mean ."
   ]
  },
  {
   "cell_type": "code",
   "execution_count": 2,
   "metadata": {},
   "outputs": [
    {
     "data": {
      "text/html": [
       "'How many people are in the Data set : 541.000000'"
      ],
      "text/latex": [
       "'How many people are in the Data set : 541.000000'"
      ],
      "text/markdown": [
       "'How many people are in the Data set : 541.000000'"
      ],
      "text/plain": [
       "[1] \"How many people are in the Data set : 541.000000\""
      ]
     },
     "metadata": {},
     "output_type": "display_data"
    },
    {
     "data": {
      "text/html": [
       "'How many people are unmarried : 423.000000'"
      ],
      "text/latex": [
       "'How many people are unmarried : 423.000000'"
      ],
      "text/markdown": [
       "'How many people are unmarried : 423.000000'"
      ],
      "text/plain": [
       "[1] \"How many people are unmarried : 423.000000\""
      ]
     },
     "metadata": {},
     "output_type": "display_data"
    },
    {
     "data": {
      "text/html": [
       "'Average age : 37.479630'"
      ],
      "text/latex": [
       "'Average age : 37.479630'"
      ],
      "text/markdown": [
       "'Average age : 37.479630'"
      ],
      "text/plain": [
       "[1] \"Average age : 37.479630\""
      ]
     },
     "metadata": {},
     "output_type": "display_data"
    },
    {
     "data": {
      "text/html": [
       "'Average number of childrens : 0.878004'"
      ],
      "text/latex": [
       "'Average number of childrens : 0.878004'"
      ],
      "text/markdown": [
       "'Average number of childrens : 0.878004'"
      ],
      "text/plain": [
       "[1] \"Average number of childrens : 0.878004\""
      ]
     },
     "metadata": {},
     "output_type": "display_data"
    }
   ],
   "source": [
    "respondents <- nrow(data)\n",
    "sprintf(\"How many people are in the Data set : %f\", respondents)\n",
    "unmarried <- sum(data$resp_married != 1)\n",
    "sprintf(\"How many people are unmarried : %f\", unmarried)\n",
    "mean_age <- (data$resp_age)\n",
    "sprintf(\"Average age : %f\", mean(mean_age, na.rm=TRUE))\n",
    "number_child <- (data$hhmem_children)\n",
    "sprintf(\"Average number of childrens : %f\", mean(number_child, na.rm=TRUE))"
   ]
  },
  {
   "cell_type": "markdown",
   "metadata": {},
   "source": [
    "1. Number of people in this data sets in 541 people.\n",
    "2. Number of people that are unmarried are 423.\n",
    "3. The mean age of the dataset is 37.4796.\n",
    "4. The average number of children per household is 0.878."
   ]
  },
  {
   "cell_type": "markdown",
   "metadata": {},
   "source": [
    "### b) Construct a variable `total_exp_pc` equal to total expenditures per capita in BAM. Plot a histogram (Hint: use the `hist()` command) of this constructed variable. What is the range of household total expenditures per capita? (You may want to refer to US Dollars in the discussion, so as to make sense of the income level of these MFI clients)."
   ]
  },
  {
   "cell_type": "code",
   "execution_count": 14,
   "metadata": {},
   "outputs": [
    {
     "data": {
      "image/png": "[encoded data removed]",
      "text/plain": [
       "Plot with title “Histogram of Total Expenditures per capita (BAM)”"
      ]
     },
     "metadata": {
      "image/png": {
       "height": 420,
       "width": 420
      }
     },
     "output_type": "display_data"
    }
   ],
   "source": [
    "library(tidyverse)\n",
    "data <- data %>% mutate(total_exp_pc = data$total_exp/data$hhmem)\n",
    "hist(data$total_exp_pc,\n",
    "    main = \"Histogram of Total Expenditures per capita (BAM)\",\n",
    "    xlab = \"Expenditure per Capita (BAM)\")"
   ]
  },
  {
   "cell_type": "markdown",
   "metadata": {},
   "source": [
    "This shows us that on average, they are spending less than 5000 dollars yearly per person.The mean showed that total expenditure annually was 3955.92 dollars and lowest was 421 dollars per year, which is extremely poor, then we had highest at 32498, 10x the average total expenditure per year."
   ]
  },
  {
   "cell_type": "markdown",
   "metadata": {},
   "source": [
    "### c) Calculate the proportion of household expenditures spent on \"temptation\" goods (cigarettes, alcohol, etc.). You will need to create this new variable. What is the mean? What is the median? Compare the mean value of these proportions among treatment and control households. Print the mean for each group, as well as the difference in means between treatment and control households."
   ]
  },
  {
   "cell_type": "code",
   "execution_count": 4,
   "metadata": {},
   "outputs": [
    {
     "data": {
      "text/html": [
       "'Mean main Data : 0.072825'"
      ],
      "text/latex": [
       "'Mean main Data : 0.072825'"
      ],
      "text/markdown": [
       "'Mean main Data : 0.072825'"
      ],
      "text/plain": [
       "[1] \"Mean main Data : 0.072825\""
      ]
     },
     "metadata": {},
     "output_type": "display_data"
    },
    {
     "data": {
      "text/html": [
       "'Median main Data : 0.054209'"
      ],
      "text/latex": [
       "'Median main Data : 0.054209'"
      ],
      "text/markdown": [
       "'Median main Data : 0.054209'"
      ],
      "text/plain": [
       "[1] \"Median main Data : 0.054209\""
      ]
     },
     "metadata": {},
     "output_type": "display_data"
    },
    {
     "data": {
      "text/html": [
       "'Mean treatment : 0.069910'"
      ],
      "text/latex": [
       "'Mean treatment : 0.069910'"
      ],
      "text/markdown": [
       "'Mean treatment : 0.069910'"
      ],
      "text/plain": [
       "[1] \"Mean treatment : 0.069910\""
      ]
     },
     "metadata": {},
     "output_type": "display_data"
    },
    {
     "data": {
      "text/html": [
       "'Median Treatment : 0.051661'"
      ],
      "text/latex": [
       "'Median Treatment : 0.051661'"
      ],
      "text/markdown": [
       "'Median Treatment : 0.051661'"
      ],
      "text/plain": [
       "[1] \"Median Treatment : 0.051661\""
      ]
     },
     "metadata": {},
     "output_type": "display_data"
    },
    {
     "data": {
      "text/html": [
       "'Mean controlled : 0.076454'"
      ],
      "text/latex": [
       "'Mean controlled : 0.076454'"
      ],
      "text/markdown": [
       "'Mean controlled : 0.076454'"
      ],
      "text/plain": [
       "[1] \"Mean controlled : 0.076454\""
      ]
     },
     "metadata": {},
     "output_type": "display_data"
    },
    {
     "data": {
      "text/html": [
       "'Median controlled : 0.055954'"
      ],
      "text/latex": [
       "'Median controlled : 0.055954'"
      ],
      "text/markdown": [
       "'Median controlled : 0.055954'"
      ],
      "text/plain": [
       "[1] \"Median controlled : 0.055954\""
      ]
     },
     "metadata": {},
     "output_type": "display_data"
    },
    {
     "data": {
      "text/html": [
       "'Difference : -0.006544'"
      ],
      "text/latex": [
       "'Difference : -0.006544'"
      ],
      "text/markdown": [
       "'Difference : -0.006544'"
      ],
      "text/plain": [
       "[1] \"Difference : -0.006544\""
      ]
     },
     "metadata": {},
     "output_type": "display_data"
    }
   ],
   "source": [
    "data <- data %>% mutate(temptation = temp_exp/total_exp)\n",
    "sprintf(\"Mean main Data : %f\", mean(data$temptation))\n",
    "sprintf(\"Median main Data : %f\", median(data$temptation))\n",
    "\n",
    "treatement_group <- data[data$treatment == \"1\",]\n",
    "controlled_group <- data[data$treatment == \"0\",]\n",
    "\n",
    "mean_treatment <- mean(treatement_group$temptation)\n",
    "median_treatment <- median(treatement_group$temptation)\n",
    "mean_controlled <- mean(controlled_group$temptation)\n",
    "median_controlled <- median(controlled_group$temptation)\n",
    "\n",
    "sprintf(\"Mean treatment : %f\", mean_treatment)\n",
    "sprintf(\"Median Treatment : %f\", median_treatment)\n",
    "sprintf(\"Mean controlled : %f\", mean_controlled)\n",
    "sprintf(\"Median controlled : %f\", median_controlled)\n",
    "\n",
    "difference <- mean_treatment - mean_controlled\n",
    "sprintf(\"Difference : %f\", difference)"
   ]
  },
  {
   "cell_type": "markdown",
   "metadata": {},
   "source": [
    "1. The mean from the whole Data set on expenditures on temptations good is 0.0728.\n",
    "2. The median from the whole Data set on expenditures on temptations good is 0.0542.\n",
    "3. The mean from the Treatment group spending on expenditures on temptations good is 0.0699.\n",
    "4. The median from the Treatment group spending on exentires on temptations good is 0.05.\n",
    "5. The mean from the controleld group spending on expenditures on temptations good is 0.076454\n",
    "6. The median from the controlled group spending on exentires on temptations good is 0.055954.\n",
    "7. The difference between controlled and temptations is  -0.006544. "
   ]
  },
  {
   "cell_type": "markdown",
   "metadata": {},
   "source": [
    "## Question 2"
   ]
  },
  {
   "cell_type": "markdown",
   "metadata": {},
   "source": [
    "We will now explore the role of household size in food consumption. Consider these two models: \n",
    "\n",
    "Model (1): $\\ln($food_exp_pc$) = \\beta_0 + \\beta_1 \\ln($nondur_exp_pc$) + \\beta_2 treatment+ u$\n",
    "\n",
    "Model (2): $\\ln($food_exp_pc$) = \\beta_0 + \\beta_1 \\ln($nondur_exp_pc$) + \\beta_2 treatment + \\beta_3 \\ln(hhmem) + u$"
   ]
  },
  {
   "cell_type": "markdown",
   "metadata": {},
   "source": [
    "### a) Estimate equations (1) and (2). Print the regression outputs for both regressions."
   ]
  },
  {
   "cell_type": "code",
   "execution_count": 5,
   "metadata": {},
   "outputs": [
    {
     "data": {
      "text/html": [
       "<table class=\"dataframe\">\n",
       "<caption>A tibble: 6 × 29</caption>\n",
       "<thead>\n",
       "\t<tr><th scope=col>intervid</th><th scope=col>treatment</th><th scope=col>resp_female</th><th scope=col>resp_primary</th><th scope=col>resp_secondary</th><th scope=col>resp_tertiary</th><th scope=col>resp_noschool</th><th scope=col>resp_age</th><th scope=col>resp_married</th><th scope=col>resp_emp</th><th scope=col>⋯</th><th scope=col>food_exp</th><th scope=col>nondur_exp</th><th scope=col>dur_exp</th><th scope=col>temp_exp</th><th scope=col>savings_avg</th><th scope=col>followup</th><th scope=col>total_exp_pc</th><th scope=col>temptation</th><th scope=col>food_exp_pc</th><th scope=col>nondur_exp_pc</th></tr>\n",
       "\t<tr><th scope=col>&lt;dbl&gt;</th><th scope=col>&lt;dbl&gt;</th><th scope=col>&lt;dbl&gt;</th><th scope=col>&lt;dbl&gt;</th><th scope=col>&lt;dbl&gt;</th><th scope=col>&lt;dbl&gt;</th><th scope=col>&lt;dbl&gt;</th><th scope=col>&lt;dbl&gt;</th><th scope=col>&lt;dbl&gt;</th><th scope=col>&lt;dbl&gt;</th><th scope=col>⋯</th><th scope=col>&lt;dbl&gt;</th><th scope=col>&lt;dbl&gt;</th><th scope=col>&lt;dbl&gt;</th><th scope=col>&lt;dbl&gt;</th><th scope=col>&lt;dbl&gt;</th><th scope=col>&lt;dbl&gt;</th><th scope=col>&lt;dbl&gt;</th><th scope=col>&lt;dbl&gt;</th><th scope=col>&lt;dbl&gt;</th><th scope=col>&lt;dbl&gt;</th></tr>\n",
       "</thead>\n",
       "<tbody>\n",
       "\t<tr><td> 2</td><td>1</td><td>1</td><td>1</td><td>0</td><td>0</td><td>0</td><td>29</td><td>0</td><td>0</td><td>⋯</td><td> 2080</td><td> 960</td><td>1400</td><td>1300</td><td>  0</td><td>1</td><td> 1148.0</td><td>0.22648084</td><td> 416</td><td> 192</td></tr>\n",
       "\t<tr><td> 4</td><td>0</td><td>0</td><td>0</td><td>0</td><td>1</td><td>0</td><td>49</td><td>0</td><td>0</td><td>⋯</td><td>30160</td><td>4488</td><td>  30</td><td>   0</td><td>500</td><td>1</td><td> 8669.5</td><td>0.00000000</td><td>7540</td><td>1122</td></tr>\n",
       "\t<tr><td> 6</td><td>0</td><td>0</td><td>1</td><td>0</td><td>0</td><td>0</td><td>24</td><td>1</td><td>1</td><td>⋯</td><td> 2600</td><td> 420</td><td>4340</td><td>1820</td><td>  0</td><td>1</td><td> 9180.0</td><td>0.19825708</td><td>2600</td><td> 420</td></tr>\n",
       "\t<tr><td> 7</td><td>0</td><td>0</td><td>0</td><td>1</td><td>0</td><td>0</td><td>45</td><td>0</td><td>1</td><td>⋯</td><td> 9360</td><td>1812</td><td> 900</td><td> 624</td><td>  0</td><td>1</td><td>12696.0</td><td>0.04914934</td><td>9360</td><td>1812</td></tr>\n",
       "\t<tr><td> 8</td><td>1</td><td>0</td><td>1</td><td>0</td><td>0</td><td>0</td><td>52</td><td>0</td><td>1</td><td>⋯</td><td> 2600</td><td> 360</td><td>   0</td><td>   0</td><td>  0</td><td>1</td><td>  740.0</td><td>0.00000000</td><td> 650</td><td>  90</td></tr>\n",
       "\t<tr><td>13</td><td>1</td><td>0</td><td>0</td><td>1</td><td>0</td><td>0</td><td>18</td><td>1</td><td>1</td><td>⋯</td><td> 7800</td><td> 360</td><td> 300</td><td> 728</td><td>500</td><td>1</td><td> 1837.6</td><td>0.07923378</td><td>1560</td><td>  72</td></tr>\n",
       "</tbody>\n",
       "</table>\n"
      ],
      "text/latex": [
       "A tibble: 6 × 29\n",
       "\\begin{tabular}{lllllllllllllllllllll}\n",
       " intervid & treatment & resp\\_female & resp\\_primary & resp\\_secondary & resp\\_tertiary & resp\\_noschool & resp\\_age & resp\\_married & resp\\_emp & ⋯ & food\\_exp & nondur\\_exp & dur\\_exp & temp\\_exp & savings\\_avg & followup & total\\_exp\\_pc & temptation & food\\_exp\\_pc & nondur\\_exp\\_pc\\\\\n",
       " <dbl> & <dbl> & <dbl> & <dbl> & <dbl> & <dbl> & <dbl> & <dbl> & <dbl> & <dbl> & ⋯ & <dbl> & <dbl> & <dbl> & <dbl> & <dbl> & <dbl> & <dbl> & <dbl> & <dbl> & <dbl>\\\\\n",
       "\\hline\n",
       "\t  2 & 1 & 1 & 1 & 0 & 0 & 0 & 29 & 0 & 0 & ⋯ &  2080 &  960 & 1400 & 1300 &   0 & 1 &  1148.0 & 0.22648084 &  416 &  192\\\\\n",
       "\t  4 & 0 & 0 & 0 & 0 & 1 & 0 & 49 & 0 & 0 & ⋯ & 30160 & 4488 &   30 &    0 & 500 & 1 &  8669.5 & 0.00000000 & 7540 & 1122\\\\\n",
       "\t  6 & 0 & 0 & 1 & 0 & 0 & 0 & 24 & 1 & 1 & ⋯ &  2600 &  420 & 4340 & 1820 &   0 & 1 &  9180.0 & 0.19825708 & 2600 &  420\\\\\n",
       "\t  7 & 0 & 0 & 0 & 1 & 0 & 0 & 45 & 0 & 1 & ⋯ &  9360 & 1812 &  900 &  624 &   0 & 1 & 12696.0 & 0.04914934 & 9360 & 1812\\\\\n",
       "\t  8 & 1 & 0 & 1 & 0 & 0 & 0 & 52 & 0 & 1 & ⋯ &  2600 &  360 &    0 &    0 &   0 & 1 &   740.0 & 0.00000000 &  650 &   90\\\\\n",
       "\t 13 & 1 & 0 & 0 & 1 & 0 & 0 & 18 & 1 & 1 & ⋯ &  7800 &  360 &  300 &  728 & 500 & 1 &  1837.6 & 0.07923378 & 1560 &   72\\\\\n",
       "\\end{tabular}\n"
      ],
      "text/markdown": [
       "\n",
       "A tibble: 6 × 29\n",
       "\n",
       "| intervid &lt;dbl&gt; | treatment &lt;dbl&gt; | resp_female &lt;dbl&gt; | resp_primary &lt;dbl&gt; | resp_secondary &lt;dbl&gt; | resp_tertiary &lt;dbl&gt; | resp_noschool &lt;dbl&gt; | resp_age &lt;dbl&gt; | resp_married &lt;dbl&gt; | resp_emp &lt;dbl&gt; | ⋯ ⋯ | food_exp &lt;dbl&gt; | nondur_exp &lt;dbl&gt; | dur_exp &lt;dbl&gt; | temp_exp &lt;dbl&gt; | savings_avg &lt;dbl&gt; | followup &lt;dbl&gt; | total_exp_pc &lt;dbl&gt; | temptation &lt;dbl&gt; | food_exp_pc &lt;dbl&gt; | nondur_exp_pc &lt;dbl&gt; |\n",
       "|---|---|---|---|---|---|---|---|---|---|---|---|---|---|---|---|---|---|---|---|---|\n",
       "|  2 | 1 | 1 | 1 | 0 | 0 | 0 | 29 | 0 | 0 | ⋯ |  2080 |  960 | 1400 | 1300 |   0 | 1 |  1148.0 | 0.22648084 |  416 |  192 |\n",
       "|  4 | 0 | 0 | 0 | 0 | 1 | 0 | 49 | 0 | 0 | ⋯ | 30160 | 4488 |   30 |    0 | 500 | 1 |  8669.5 | 0.00000000 | 7540 | 1122 |\n",
       "|  6 | 0 | 0 | 1 | 0 | 0 | 0 | 24 | 1 | 1 | ⋯ |  2600 |  420 | 4340 | 1820 |   0 | 1 |  9180.0 | 0.19825708 | 2600 |  420 |\n",
       "|  7 | 0 | 0 | 0 | 1 | 0 | 0 | 45 | 0 | 1 | ⋯ |  9360 | 1812 |  900 |  624 |   0 | 1 | 12696.0 | 0.04914934 | 9360 | 1812 |\n",
       "|  8 | 1 | 0 | 1 | 0 | 0 | 0 | 52 | 0 | 1 | ⋯ |  2600 |  360 |    0 |    0 |   0 | 1 |   740.0 | 0.00000000 |  650 |   90 |\n",
       "| 13 | 1 | 0 | 0 | 1 | 0 | 0 | 18 | 1 | 1 | ⋯ |  7800 |  360 |  300 |  728 | 500 | 1 |  1837.6 | 0.07923378 | 1560 |   72 |\n",
       "\n"
      ],
      "text/plain": [
       "  intervid treatment resp_female resp_primary resp_secondary resp_tertiary\n",
       "1  2       1         1           1            0              0            \n",
       "2  4       0         0           0            0              1            \n",
       "3  6       0         0           1            0              0            \n",
       "4  7       0         0           0            1              0            \n",
       "5  8       1         0           1            0              0            \n",
       "6 13       1         0           0            1              0            \n",
       "  resp_noschool resp_age resp_married resp_emp ⋯ food_exp nondur_exp dur_exp\n",
       "1 0             29       0            0        ⋯  2080     960       1400   \n",
       "2 0             49       0            0        ⋯ 30160    4488         30   \n",
       "3 0             24       1            1        ⋯  2600     420       4340   \n",
       "4 0             45       0            1        ⋯  9360    1812        900   \n",
       "5 0             52       0            1        ⋯  2600     360          0   \n",
       "6 0             18       1            1        ⋯  7800     360        300   \n",
       "  temp_exp savings_avg followup total_exp_pc temptation food_exp_pc\n",
       "1 1300       0         1         1148.0      0.22648084  416       \n",
       "2    0     500         1         8669.5      0.00000000 7540       \n",
       "3 1820       0         1         9180.0      0.19825708 2600       \n",
       "4  624       0         1        12696.0      0.04914934 9360       \n",
       "5    0       0         1          740.0      0.00000000  650       \n",
       "6  728     500         1         1837.6      0.07923378 1560       \n",
       "  nondur_exp_pc\n",
       "1  192         \n",
       "2 1122         \n",
       "3  420         \n",
       "4 1812         \n",
       "5   90         \n",
       "6   72         "
      ]
     },
     "metadata": {},
     "output_type": "display_data"
    },
    {
     "data": {
      "text/plain": [
       "\n",
       "Call:\n",
       "lm(formula = log(food_exp_pc) ~ log(nondur_exp_pc) + treatment, \n",
       "    data = data)\n",
       "\n",
       "Residuals:\n",
       "     Min       1Q   Median       3Q      Max \n",
       "-3.07357 -0.47485  0.02692  0.47206  2.10871 \n",
       "\n",
       "Coefficients:\n",
       "                   Estimate Std. Error t value Pr(>|t|)    \n",
       "(Intercept)         5.81272    0.15937   36.47   <2e-16 ***\n",
       "log(nondur_exp_pc)  0.25838    0.02481   10.41   <2e-16 ***\n",
       "treatment          -0.10899    0.06088   -1.79    0.074 .  \n",
       "---\n",
       "Signif. codes:  0 ‘***’ 0.001 ‘**’ 0.01 ‘*’ 0.05 ‘.’ 0.1 ‘ ’ 1\n",
       "\n",
       "Residual standard error: 0.703 on 538 degrees of freedom\n",
       "Multiple R-squared:  0.1746,\tAdjusted R-squared:  0.1715 \n",
       "F-statistic:  56.9 on 2 and 538 DF,  p-value: < 2.2e-16\n"
      ]
     },
     "metadata": {},
     "output_type": "display_data"
    },
    {
     "data": {
      "text/plain": [
       "\n",
       "Call:\n",
       "lm(formula = log(food_exp_pc) ~ log(nondur_exp_pc) + treatment + \n",
       "    log(hhmem), data = data)\n",
       "\n",
       "Residuals:\n",
       "     Min       1Q   Median       3Q      Max \n",
       "-3.05055 -0.41227  0.02881  0.42868  2.23038 \n",
       "\n",
       "Coefficients:\n",
       "                   Estimate Std. Error t value Pr(>|t|)    \n",
       "(Intercept)         7.01344    0.18594  37.718  < 2e-16 ***\n",
       "log(nondur_exp_pc)  0.17711    0.02398   7.387 5.79e-13 ***\n",
       "treatment          -0.09111    0.05564  -1.637    0.102    \n",
       "log(hhmem)         -0.60570    0.05835 -10.380  < 2e-16 ***\n",
       "---\n",
       "Signif. codes:  0 ‘***’ 0.001 ‘**’ 0.01 ‘*’ 0.05 ‘.’ 0.1 ‘ ’ 1\n",
       "\n",
       "Residual standard error: 0.6421 on 537 degrees of freedom\n",
       "Multiple R-squared:  0.3125,\tAdjusted R-squared:  0.3087 \n",
       "F-statistic: 81.38 on 3 and 537 DF,  p-value: < 2.2e-16\n"
      ]
     },
     "metadata": {},
     "output_type": "display_data"
    }
   ],
   "source": [
    "data <- data %>% mutate(food_exp_pc = data$food_exp/data$hhmem)\n",
    "data <- data %>% mutate(nondur_exp_pc = data$nondur_exp/data$hhmem)\n",
    "head(data)\n",
    "slr1 <- lm(log(food_exp_pc) ~ log(nondur_exp_pc) + treatment, data=data) \n",
    "summary(slr1)\n",
    "slr2 <- lm(log(food_exp_pc) ~ log(nondur_exp_pc) + treatment + log(hhmem), data=data) \n",
    "summary(slr2)"
   ]
  },
  {
   "cell_type": "markdown",
   "metadata": {},
   "source": [
    "### b) Interpret each of the estimated parameters of equation (2) - remember to include significance. \n",
    "\n",
    "### The results you are finding on the role of household size may a priori seem suprising. Try to think about a scenario where two households of the same size, with the same treatment status and per capita expenditures on nondurable goods, decide to move in together. What does your estimation predict about food consumption per capita?"
   ]
  },
  {
   "cell_type": "markdown",
   "metadata": {},
   "source": [
    "The beta0 from equation 2, is 7.0134, which is the predicted value of food expenditures per capita when every value is held at 0.\n",
    "\n",
    "Beta1 is 0.177, which means for every single value added onto beta0 would be an increase by 1.7%, this is significant(1%). \n",
    "\n",
    "Beta2 is negative, so this means every unit of treatment is a decrease to the total food expdnetiure per capita by 9.1% is signficant as well. \n",
    "\n",
    "Beta3 here is also negative, so every one unit added of number of households would decrease the food expenditure by -0.60, is significant.\n",
    "\n",
    "If two households of the same size, with the same treatment status and per capita expenditures on nondurable goods, decide to move in, our model predicts  that it would decrease the food expenditure. \n"
   ]
  },
  {
   "cell_type": "markdown",
   "metadata": {},
   "source": [
    "### c) How did your estimate of $\\hat{\\beta}_1$ change between equation (1) and equation (2)? Without performing any calculations, what information does this give you about the correlation between expenditure per capita on nondurable goods and household size? (Explain your reasoning in no more than 4 sentences.)"
   ]
  },
  {
   "cell_type": "markdown",
   "metadata": {},
   "source": [
    "There is a difference between the beta1 in equation 1 and equation 2 by 0.08127. One observations is that there is some type of ommited varaible present between equation 1 and equation 2, in equation 2 you can clearly see the beta0 value increase and have negative value from beta3, showing that there is negative correlation between non durable expenditures and household size."
   ]
  },
  {
   "cell_type": "markdown",
   "metadata": {},
   "source": [
    "### d) Predict the expected value of food expenditure per capita of a treatment household with 3 members and per capita expenditures on nondurable goods of BAM 1000 using your estimates from equation (2)."
   ]
  },
  {
   "cell_type": "code",
   "execution_count": 6,
   "metadata": {},
   "outputs": [
    {
     "data": {
      "text/html": [
       "1774.19504418699"
      ],
      "text/latex": [
       "1774.19504418699"
      ],
      "text/markdown": [
       "1774.19504418699"
      ],
      "text/plain": [
       "[1] 1774.195"
      ]
     },
     "metadata": {},
     "output_type": "display_data"
    }
   ],
   "source": [
    "exp(7.01344 + (log(1000)) *0.17711 + -0.09111*(1) + (log(3)*-0.605))"
   ]
  },
  {
   "cell_type": "markdown",
   "metadata": {},
   "source": [
    "Our model predicts 1774.19 BAM given the expected value of food expenditure between 3 members, and per capita expenditures on nondurable good fors 1000 BAM. "
   ]
  },
  {
   "cell_type": "markdown",
   "metadata": {},
   "source": [
    "## Question 3"
   ]
  },
  {
   "cell_type": "markdown",
   "metadata": {},
   "source": [
    "A country's dependency ratio is the ratio of old and young dependents (dependents are those not in the labor force) to the working-age population. A similar measure could be constructed for the household: "
   ]
  },
  {
   "cell_type": "markdown",
   "metadata": {},
   "source": [
    "$hhdr =\\frac{\\text{hh members under 14 or over 64}} {\\text{hh members aged 14 to 64}}$ "
   ]
  },
  {
   "cell_type": "markdown",
   "metadata": {},
   "source": [
    "Model 2 (as well as Model 1) does not capture how the composition of a household, i.e. the characteristics of the members, is associated with food consumption per capita. You suspect that the structure of the family affects food expenditure per capita controlling for the log of household size and the log of expenditure per capita on nondurable goods (think about how children and older people might consume less food than adults; and how larger households might have more children). Specifically you hypothesize that a higher dependency ratio is associated with lower food expenditure per capita, holding other factors constant. "
   ]
  },
  {
   "cell_type": "markdown",
   "metadata": {},
   "source": [
    "### (a) Write an equation you could estimate that would allow you to test this hypothesis."
   ]
  },
  {
   "cell_type": "markdown",
   "metadata": {},
   "source": [
    "Hypthoesis, the higher the HHDR is, the lower food expedniture we expect because you have less people working and more people eating.\n",
    "\n",
    "Equation --> $\\ln($food_exp_pc$) = \\beta_0 + \\beta_1 \\ln($nondur_exp_pc$) +  + \\beta_2 \\ln(hhmem) +  \\beta_3 hhdr + u$'\n",
    "\n",
    "H0: beta3 equals 0"
   ]
  },
  {
   "cell_type": "markdown",
   "metadata": {},
   "source": [
    "### (b) Estimate the equation in part (a). Print the regression output. What can you conclude about the hypothesis? \n",
    "Note that some households don't have members aged 14 to 64, which means that their $hhdr$ would be undefined. Replace $hhdr$ with NA for these observations. \n",
    "\n",
    "Hint: The following website has some simple examples showing you how to replace variables with conditions in R: https://statisticsglobe.com/replace-values-in-data-frame-conditionally-in-r ."
   ]
  },
  {
   "cell_type": "code",
   "execution_count": 7,
   "metadata": {},
   "outputs": [
    {
     "data": {
      "text/html": [
       "<table class=\"dataframe\">\n",
       "<caption>A tibble: 6 × 31</caption>\n",
       "<thead>\n",
       "\t<tr><th scope=col>intervid</th><th scope=col>treatment</th><th scope=col>resp_female</th><th scope=col>resp_primary</th><th scope=col>resp_secondary</th><th scope=col>resp_tertiary</th><th scope=col>resp_noschool</th><th scope=col>resp_age</th><th scope=col>resp_married</th><th scope=col>resp_emp</th><th scope=col>⋯</th><th scope=col>dur_exp</th><th scope=col>temp_exp</th><th scope=col>savings_avg</th><th scope=col>followup</th><th scope=col>total_exp_pc</th><th scope=col>temptation</th><th scope=col>food_exp_pc</th><th scope=col>nondur_exp_pc</th><th scope=col>HHDR</th><th scope=col>na.rm</th></tr>\n",
       "\t<tr><th scope=col>&lt;dbl&gt;</th><th scope=col>&lt;dbl&gt;</th><th scope=col>&lt;dbl&gt;</th><th scope=col>&lt;dbl&gt;</th><th scope=col>&lt;dbl&gt;</th><th scope=col>&lt;dbl&gt;</th><th scope=col>&lt;dbl&gt;</th><th scope=col>&lt;dbl&gt;</th><th scope=col>&lt;dbl&gt;</th><th scope=col>&lt;dbl&gt;</th><th scope=col>⋯</th><th scope=col>&lt;dbl&gt;</th><th scope=col>&lt;dbl&gt;</th><th scope=col>&lt;dbl&gt;</th><th scope=col>&lt;dbl&gt;</th><th scope=col>&lt;dbl&gt;</th><th scope=col>&lt;dbl&gt;</th><th scope=col>&lt;dbl&gt;</th><th scope=col>&lt;dbl&gt;</th><th scope=col>&lt;dbl&gt;</th><th scope=col>&lt;lgl&gt;</th></tr>\n",
       "</thead>\n",
       "<tbody>\n",
       "\t<tr><td> 2</td><td>1</td><td>1</td><td>1</td><td>0</td><td>0</td><td>0</td><td>29</td><td>0</td><td>0</td><td>⋯</td><td>1400</td><td>1300</td><td>  0</td><td>1</td><td> 1148.0</td><td>0.22648084</td><td> 416</td><td> 192</td><td>1.5000000</td><td>TRUE</td></tr>\n",
       "\t<tr><td> 4</td><td>0</td><td>0</td><td>0</td><td>0</td><td>1</td><td>0</td><td>49</td><td>0</td><td>0</td><td>⋯</td><td>  30</td><td>   0</td><td>500</td><td>1</td><td> 8669.5</td><td>0.00000000</td><td>7540</td><td>1122</td><td>0.3333333</td><td>TRUE</td></tr>\n",
       "\t<tr><td> 6</td><td>0</td><td>0</td><td>1</td><td>0</td><td>0</td><td>0</td><td>24</td><td>1</td><td>1</td><td>⋯</td><td>4340</td><td>1820</td><td>  0</td><td>1</td><td> 9180.0</td><td>0.19825708</td><td>2600</td><td> 420</td><td>0.0000000</td><td>TRUE</td></tr>\n",
       "\t<tr><td> 7</td><td>0</td><td>0</td><td>0</td><td>1</td><td>0</td><td>0</td><td>45</td><td>0</td><td>1</td><td>⋯</td><td> 900</td><td> 624</td><td>  0</td><td>1</td><td>12696.0</td><td>0.04914934</td><td>9360</td><td>1812</td><td>0.0000000</td><td>TRUE</td></tr>\n",
       "\t<tr><td> 8</td><td>1</td><td>0</td><td>1</td><td>0</td><td>0</td><td>0</td><td>52</td><td>0</td><td>1</td><td>⋯</td><td>   0</td><td>   0</td><td>  0</td><td>1</td><td>  740.0</td><td>0.00000000</td><td> 650</td><td>  90</td><td>1.0000000</td><td>TRUE</td></tr>\n",
       "\t<tr><td>13</td><td>1</td><td>0</td><td>0</td><td>1</td><td>0</td><td>0</td><td>18</td><td>1</td><td>1</td><td>⋯</td><td> 300</td><td> 728</td><td>500</td><td>1</td><td> 1837.6</td><td>0.07923378</td><td>1560</td><td>  72</td><td>0.6666667</td><td>TRUE</td></tr>\n",
       "</tbody>\n",
       "</table>\n"
      ],
      "text/latex": [
       "A tibble: 6 × 31\n",
       "\\begin{tabular}{lllllllllllllllllllll}\n",
       " intervid & treatment & resp\\_female & resp\\_primary & resp\\_secondary & resp\\_tertiary & resp\\_noschool & resp\\_age & resp\\_married & resp\\_emp & ⋯ & dur\\_exp & temp\\_exp & savings\\_avg & followup & total\\_exp\\_pc & temptation & food\\_exp\\_pc & nondur\\_exp\\_pc & HHDR & na.rm\\\\\n",
       " <dbl> & <dbl> & <dbl> & <dbl> & <dbl> & <dbl> & <dbl> & <dbl> & <dbl> & <dbl> & ⋯ & <dbl> & <dbl> & <dbl> & <dbl> & <dbl> & <dbl> & <dbl> & <dbl> & <dbl> & <lgl>\\\\\n",
       "\\hline\n",
       "\t  2 & 1 & 1 & 1 & 0 & 0 & 0 & 29 & 0 & 0 & ⋯ & 1400 & 1300 &   0 & 1 &  1148.0 & 0.22648084 &  416 &  192 & 1.5000000 & TRUE\\\\\n",
       "\t  4 & 0 & 0 & 0 & 0 & 1 & 0 & 49 & 0 & 0 & ⋯ &   30 &    0 & 500 & 1 &  8669.5 & 0.00000000 & 7540 & 1122 & 0.3333333 & TRUE\\\\\n",
       "\t  6 & 0 & 0 & 1 & 0 & 0 & 0 & 24 & 1 & 1 & ⋯ & 4340 & 1820 &   0 & 1 &  9180.0 & 0.19825708 & 2600 &  420 & 0.0000000 & TRUE\\\\\n",
       "\t  7 & 0 & 0 & 0 & 1 & 0 & 0 & 45 & 0 & 1 & ⋯ &  900 &  624 &   0 & 1 & 12696.0 & 0.04914934 & 9360 & 1812 & 0.0000000 & TRUE\\\\\n",
       "\t  8 & 1 & 0 & 1 & 0 & 0 & 0 & 52 & 0 & 1 & ⋯ &    0 &    0 &   0 & 1 &   740.0 & 0.00000000 &  650 &   90 & 1.0000000 & TRUE\\\\\n",
       "\t 13 & 1 & 0 & 0 & 1 & 0 & 0 & 18 & 1 & 1 & ⋯ &  300 &  728 & 500 & 1 &  1837.6 & 0.07923378 & 1560 &   72 & 0.6666667 & TRUE\\\\\n",
       "\\end{tabular}\n"
      ],
      "text/markdown": [
       "\n",
       "A tibble: 6 × 31\n",
       "\n",
       "| intervid &lt;dbl&gt; | treatment &lt;dbl&gt; | resp_female &lt;dbl&gt; | resp_primary &lt;dbl&gt; | resp_secondary &lt;dbl&gt; | resp_tertiary &lt;dbl&gt; | resp_noschool &lt;dbl&gt; | resp_age &lt;dbl&gt; | resp_married &lt;dbl&gt; | resp_emp &lt;dbl&gt; | ⋯ ⋯ | dur_exp &lt;dbl&gt; | temp_exp &lt;dbl&gt; | savings_avg &lt;dbl&gt; | followup &lt;dbl&gt; | total_exp_pc &lt;dbl&gt; | temptation &lt;dbl&gt; | food_exp_pc &lt;dbl&gt; | nondur_exp_pc &lt;dbl&gt; | HHDR &lt;dbl&gt; | na.rm &lt;lgl&gt; |\n",
       "|---|---|---|---|---|---|---|---|---|---|---|---|---|---|---|---|---|---|---|---|---|\n",
       "|  2 | 1 | 1 | 1 | 0 | 0 | 0 | 29 | 0 | 0 | ⋯ | 1400 | 1300 |   0 | 1 |  1148.0 | 0.22648084 |  416 |  192 | 1.5000000 | TRUE |\n",
       "|  4 | 0 | 0 | 0 | 0 | 1 | 0 | 49 | 0 | 0 | ⋯ |   30 |    0 | 500 | 1 |  8669.5 | 0.00000000 | 7540 | 1122 | 0.3333333 | TRUE |\n",
       "|  6 | 0 | 0 | 1 | 0 | 0 | 0 | 24 | 1 | 1 | ⋯ | 4340 | 1820 |   0 | 1 |  9180.0 | 0.19825708 | 2600 |  420 | 0.0000000 | TRUE |\n",
       "|  7 | 0 | 0 | 0 | 1 | 0 | 0 | 45 | 0 | 1 | ⋯ |  900 |  624 |   0 | 1 | 12696.0 | 0.04914934 | 9360 | 1812 | 0.0000000 | TRUE |\n",
       "|  8 | 1 | 0 | 1 | 0 | 0 | 0 | 52 | 0 | 1 | ⋯ |    0 |    0 |   0 | 1 |   740.0 | 0.00000000 |  650 |   90 | 1.0000000 | TRUE |\n",
       "| 13 | 1 | 0 | 0 | 1 | 0 | 0 | 18 | 1 | 1 | ⋯ |  300 |  728 | 500 | 1 |  1837.6 | 0.07923378 | 1560 |   72 | 0.6666667 | TRUE |\n",
       "\n"
      ],
      "text/plain": [
       "  intervid treatment resp_female resp_primary resp_secondary resp_tertiary\n",
       "1  2       1         1           1            0              0            \n",
       "2  4       0         0           0            0              1            \n",
       "3  6       0         0           1            0              0            \n",
       "4  7       0         0           0            1              0            \n",
       "5  8       1         0           1            0              0            \n",
       "6 13       1         0           0            1              0            \n",
       "  resp_noschool resp_age resp_married resp_emp ⋯ dur_exp temp_exp savings_avg\n",
       "1 0             29       0            0        ⋯ 1400    1300       0        \n",
       "2 0             49       0            0        ⋯   30       0     500        \n",
       "3 0             24       1            1        ⋯ 4340    1820       0        \n",
       "4 0             45       0            1        ⋯  900     624       0        \n",
       "5 0             52       0            1        ⋯    0       0       0        \n",
       "6 0             18       1            1        ⋯  300     728     500        \n",
       "  followup total_exp_pc temptation food_exp_pc nondur_exp_pc HHDR      na.rm\n",
       "1 1         1148.0      0.22648084  416         192          1.5000000 TRUE \n",
       "2 1         8669.5      0.00000000 7540        1122          0.3333333 TRUE \n",
       "3 1         9180.0      0.19825708 2600         420          0.0000000 TRUE \n",
       "4 1        12696.0      0.04914934 9360        1812          0.0000000 TRUE \n",
       "5 1          740.0      0.00000000  650          90          1.0000000 TRUE \n",
       "6 1         1837.6      0.07923378 1560          72          0.6666667 TRUE "
      ]
     },
     "metadata": {},
     "output_type": "display_data"
    },
    {
     "data": {
      "text/plain": [
       "\n",
       "Call:\n",
       "lm(formula = log(food_exp_pc) ~ log(nondur_exp_pc) + log(hhmem) + \n",
       "    HHDR, data = data)\n",
       "\n",
       "Residuals:\n",
       "     Min       1Q   Median       3Q      Max \n",
       "-3.09576 -0.40261  0.00802  0.43718  2.28417 \n",
       "\n",
       "Coefficients:\n",
       "                   Estimate Std. Error t value Pr(>|t|)    \n",
       "(Intercept)         6.95273    0.18446  37.693  < 2e-16 ***\n",
       "log(nondur_exp_pc)  0.17930    0.02416   7.421 4.58e-13 ***\n",
       "log(hhmem)         -0.61597    0.06371  -9.669  < 2e-16 ***\n",
       "HHDR                0.02110    0.06686   0.316    0.752    \n",
       "---\n",
       "Signif. codes:  0 ‘***’ 0.001 ‘**’ 0.01 ‘*’ 0.05 ‘.’ 0.1 ‘ ’ 1\n",
       "\n",
       "Residual standard error: 0.6443 on 536 degrees of freedom\n",
       "  (1 observation deleted due to missingness)\n",
       "Multiple R-squared:  0.3081,\tAdjusted R-squared:  0.3042 \n",
       "F-statistic: 79.57 on 3 and 536 DF,  p-value: < 2.2e-16\n"
      ]
     },
     "metadata": {},
     "output_type": "display_data"
    }
   ],
   "source": [
    "data$hhmem_adults [data$hhmem_adults  == 0] <- NA\n",
    "data <- data %>% mutate(HHDR = (data$hhmem_children + data$hhmem_elderly)/(data$hhmem_adults),na.rm=TRUE)\n",
    "head(data)\n",
    "slr3<-lm(log(food_exp_pc) ~ log(nondur_exp_pc) + log(hhmem) + HHDR, data=data)\n",
    "summary(slr3)"
   ]
  },
  {
   "cell_type": "markdown",
   "metadata": {},
   "source": [
    "we seem to have gotten the negative of our hpyothesis, we would reject our hpyothesis on the idea that higher the HHDR is the lower food consumption but it seems to be the opposite somehow, it has postive beta3, meaning every added value of HHDR is increasing, which makes no sense. (did something wrong probably)."
   ]
  },
  {
   "cell_type": "markdown",
   "metadata": {},
   "source": [
    "# Exercise 2: Perceptions of Global Warming"
   ]
  },
  {
   "cell_type": "markdown",
   "metadata": {},
   "source": [
    "Gallup Polling collects information about a variety of topics ( health, environment, political attitudes, education). In March 2018, Gallup conducted a poll to gather information about the perceived onset of global warming among Californian voters. Question: \"Do you believe that global warming is caused by human activities?\""
   ]
  },
  {
   "cell_type": "markdown",
   "metadata": {},
   "source": [
    "|  Group      | Number of Observations  | Yes |\n",
    "|-------------|-------------------------|-----|\n",
    "|  All voters |  1408                   | 697 |\n",
    "| Republicans |  482                    | 133 |  \n",
    "| Democrats   |  521                    | 375 | \n",
    "| Independents|  405                    | 189 |\n"
   ]
  },
  {
   "cell_type": "markdown",
   "metadata": {},
   "source": [
    "Consider first the overall result (all voters). Let $p$ be the fraction of all voters in California (the population of interest) that believe that global warming is caused by human activities."
   ]
  },
  {
   "cell_type": "markdown",
   "metadata": {},
   "source": [
    " Note: You answer to the following questions should not necessarily require any R code (unless you would like to use R as a calculator). Some of your answers will require that you type in equations. LaTeX is a typsetting language that makes nicely formatted equations. At the beginning and end of an equation you will need to type a $\\$$  to tell Jupyter that you are typing a Latex equation. The following website has some simple examples showing you how to format your equations in Latex:  http://www.personal.ceu.hu/tex/cookbook.html . "
   ]
  },
  {
   "cell_type": "markdown",
   "metadata": {},
   "source": [
    "### (a) Use the survey results to estimate $p$ for the whole population. Print $p$."
   ]
  },
  {
   "cell_type": "code",
   "execution_count": 8,
   "metadata": {},
   "outputs": [
    {
     "data": {
      "text/html": [
       "0.495028409090909"
      ],
      "text/latex": [
       "0.495028409090909"
      ],
      "text/markdown": [
       "0.495028409090909"
      ],
      "text/plain": [
       "[1] 0.4950284"
      ]
     },
     "metadata": {},
     "output_type": "display_data"
    }
   ],
   "source": [
    "phat<- (697/1408)\n",
    "phat"
   ]
  },
  {
   "cell_type": "markdown",
   "metadata": {},
   "source": [
    "Our p estimation of the who population shows that only 49% people believe in global warming that are caused by human activities."
   ]
  },
  {
   "cell_type": "markdown",
   "metadata": {},
   "source": [
    "### (b) Construct a 95% confidence interval for $p$. Interpret."
   ]
  },
  {
   "cell_type": "code",
   "execution_count": 13,
   "metadata": {},
   "outputs": [
    {
     "data": {
      "text/html": [
       "0.0133243860532448"
      ],
      "text/latex": [
       "0.0133243860532448"
      ],
      "text/markdown": [
       "0.0133243860532448"
      ],
      "text/plain": [
       "[1] 0.01332439"
      ]
     },
     "metadata": {},
     "output_type": "display_data"
    },
    {
     "data": {
      "text/html": [
       "<style>\n",
       ".list-inline {list-style: none; margin:0; padding: 0}\n",
       ".list-inline>li {display: inline-block}\n",
       ".list-inline>li:not(:last-child)::after {content: \"\\00b7\"; padding: 0 .5ex}\n",
       "</style>\n",
       "<ol class=list-inline><li>0.468912612426549</li><li>0.521144205755269</li></ol>\n"
      ],
      "text/latex": [
       "\\begin{enumerate*}\n",
       "\\item 0.468912612426549\n",
       "\\item 0.521144205755269\n",
       "\\end{enumerate*}\n"
      ],
      "text/markdown": [
       "1. 0.468912612426549\n",
       "2. 0.521144205755269\n",
       "\n",
       "\n"
      ],
      "text/plain": [
       "[1] 0.4689126 0.5211442"
      ]
     },
     "metadata": {},
     "output_type": "display_data"
    }
   ],
   "source": [
    "square_value <- sqrt((phat*(1-phat))/1408)\n",
    "square_value\n",
    "CI_left <- phat-(1.96)*square_value\n",
    "CI_right <- phat+(1.96)*square_value\n",
    "c(CI_left,CI_right)"
   ]
  },
  {
   "cell_type": "markdown",
   "metadata": {},
   "source": [
    "Our constructed inverval for 95% shows that if you collect a sample randomly, we expect the values or percentage of people to believe that human acitives causes global warming to be between 46% and 52%."
   ]
  },
  {
   "cell_type": "markdown",
   "metadata": {},
   "source": [
    "### (c) Suppose you want to test the null hypothesis that the fraction of voters who believe that global warming is caused by human activities is the same among Democrats and Republicans against the alternative hypothesis that the fraction of voters who believe that global warming is caused by human activities is higher among Democrats than Republicans. Write down the null and alternative hypotheses. Is this a one-sided or two-sided test?"
   ]
  },
  {
   "cell_type": "markdown",
   "metadata": {},
   "source": [
    "H0:phatDemocrates - phatRepublicans = 0  \n",
    "The null hypthesis here would be that you take phat value of democrates and subract it from phat value of repbulicans and expect zero.\n",
    "\n",
    "H1: phatDemocrates - phatRepublicans > 0   \n",
    "Alternative is that phatr-phatd is not equal to zero, there is signfincance difference(greater than 0).\n",
    "\n",
    "This is a one tail test"
   ]
  },
  {
   "cell_type": "markdown",
   "metadata": {},
   "source": [
    "### (d) Generate a test statistic which will allow you to test the hypotheses in part (c), and identify a critical value which will give you 99% confidence. Print the test statistic and the critical value."
   ]
  },
  {
   "cell_type": "code",
   "execution_count": 2,
   "metadata": {},
   "outputs": [
    {
     "data": {
      "text/html": [
       "0.443836063745908"
      ],
      "text/latex": [
       "0.443836063745908"
      ],
      "text/markdown": [
       "0.443836063745908"
      ],
      "text/plain": [
       "[1] 0.4438361"
      ]
     },
     "metadata": {},
     "output_type": "display_data"
    },
    {
     "data": {
      "text/html": [
       "0.506480558325025"
      ],
      "text/latex": [
       "0.506480558325025"
      ],
      "text/markdown": [
       "0.506480558325025"
      ],
      "text/plain": [
       "[1] 0.5064806"
      ]
     },
     "metadata": {},
     "output_type": "display_data"
    },
    {
     "data": {
      "text/html": [
       "0.0315966913871478"
      ],
      "text/latex": [
       "0.0315966913871478"
      ],
      "text/markdown": [
       "0.0315966913871478"
      ],
      "text/plain": [
       "[1] 0.03159669"
      ]
     },
     "metadata": {},
     "output_type": "display_data"
    },
    {
     "data": {
      "text/html": [
       "14.0469158086103"
      ],
      "text/latex": [
       "14.0469158086103"
      ],
      "text/markdown": [
       "14.0469158086103"
      ],
      "text/plain": [
       "[1] 14.04692"
      ]
     },
     "metadata": {},
     "output_type": "display_data"
    },
    {
     "data": {
      "text/html": [
       "2.3"
      ],
      "text/latex": [
       "2.3"
      ],
      "text/markdown": [
       "2.3"
      ],
      "text/plain": [
       "[1] 2.3"
      ]
     },
     "metadata": {},
     "output_type": "display_data"
    }
   ],
   "source": [
    "pdemo <- (375/521) \n",
    "prepo <- (133/482)\n",
    "difference <- pdemo - prepo\n",
    "difference\n",
    "p_hat_v <- (482/1003)*(prepo) + (521/1003)*(pdemo)\n",
    "p_hat_v\n",
    "se <- sqrt((p_hat_v*(1-p_hat_v)/521)+(p_hat_v*(1-p_hat_v)/482))\n",
    "se\n",
    "z <- (difference - 0)/se\n",
    "z\n",
    "critical_value <- 2.3\n",
    "critical_value"
   ]
  },
  {
   "cell_type": "markdown",
   "metadata": {},
   "source": [
    "### (e) Implement your test and interpret your results."
   ]
  },
  {
   "cell_type": "markdown",
   "metadata": {},
   "source": [
    "1.We reject if |T| > |C|, since we have 14.6 > 2.3, so we reject the null hypthoesis.\n",
    "2.We reject the null hpyothesis. That there is statistical evidence that voters believe global warming is caused by humans acitivites is higher among democrats when compared to republicans. "
   ]
  }
 ],
 "metadata": {
  "kernelspec": {
   "display_name": "R",
   "language": "R",
   "name": "ir"
  },
  "language_info": {
   "codemirror_mode": "r",
   "file_extension": ".r",
   "mimetype": "text/x-r-source",
   "name": "R",
   "pygments_lexer": "r",
   "version": "4.2.1"
  }
 },
 "nbformat": 4,
 "nbformat_minor": 2
}

{
 "cells": [
  {
   "cell_type": "markdown",
   "metadata": {},
   "source": [
    "# Problem Set 2"
   ]
  },
  {
   "cell_type": "markdown",
   "metadata": {},
   "source": [
    "# Exercise 1: Do Microfinance Loans Affect Expenditure?\n",
    "\n",
    "Most of the world's poor have limited access to formal credit. Traditionally, they have had to resort to their social networks (family, friends) or local moneylenders that charge exorbitant interest rates (upwardsof 100%). This often prevents individuals from making investments in potential businesses or productive assets. In the last 15 years, microfinance institutions (MFI) have emerged all across the developing world to address this problem. The basic model of a microfinance institution (such as the Grameen Bank) is to provide small loans to a group of potential borrowers at much lower interest rates. The number of very poor families with a microloan has grown exponentially: from 7.6 million in 1997 to 137.5 million in 2010. Micro-credit has been heralded as a major advance in the reduction of global poverty. However, in recent years, critiques have emerged accusing micro-finance institutions of acting irresponsibly by holding the poor to very strict repayment schedules and charging unreasonably high interest rates. So where does this leave us? Does micro-credit help or hinder? In the January 2015 issue of the American Economic Journal: Applied Economics, six papers evaluating the merits of micro-credit were released. We will explore the results from one of these papers by Augsburg et al., which evaluates a microfinance institution in Bosnia and Herzegovina."
   ]
  },
  {
   "cell_type": "markdown",
   "metadata": {},
   "source": [
    "## Data Description\n",
    "The data for this exercise comes from a study conducted in Bosnia and Herzegovina investigating the effects of a small loan on access to liquidity, self-employment, income, labor supply, expenditure, and savings. These were individual-liability loans with monthly repayments and an interest rate of 22%. The sample consists of potential borrowers (who were just marginally eligible for loans). Approximately half the sample was randomly selected to receive the loan (the treatment group), while the other half did not receive anything (control group). You have a subsample of individuals (both in the treatment and control group) that the researchers used for their analysis. The respondent (= the loan applicant) answered questions about the household they belonged to as well as about their loand and personal outcomes (no two respondents are from the same household). The PS2_MFI.dta file includes the following variables (along with some others we will not ask you to analyze):"
   ]
  },
  {
   "cell_type": "markdown",
   "metadata": {},
   "source": [
    "• `treatment` : dummy equal to 1 if the respondent is in the treatment group (which received a loan)\n",
    "\n",
    "• `resp_female`: dummy equal to 1 if the respondent is female\n",
    "\n",
    "• `resp_age`: the respondent's age\n",
    "\n",
    "• `hhmem`: number of household members\n",
    "\n",
    "• `hhmem_adults`: number of adults in household ($\\geq$ 14)\n",
    "\n",
    "• `hhmem_children`: number of children in household (<14)\n",
    "\n",
    "• `hhmem_elderly`: number of elderly in household (>64)\n",
    "\n",
    "• `total_exp`: total annual household expenditure in Bosnian Convertible Marka (BAM)\n",
    "\n",
    "• `food_exp`: annual household expenditure on food in BAM\n",
    "\n",
    "• `nondur_exp`: annual household expenditure on nondurables (rent, fuel, transport, clothes, insurance...) in BAM\n",
    "\n",
    "• `dur_exp`: annual household expenditure on durables (education, furniture, vehicle...) in BAM\n",
    "\n",
    "• `temp_exp`: annual household expenditure on temptation goods (cigarettes, tobacco, alcohol) in BAM\n",
    "\n",
    "The prevailing exchange rate at the time of the study was approximately US$1 = 1.63 BAM."
   ]
  },
  {
   "cell_type": "markdown",
   "metadata": {},
   "source": [
    "## Question 1"
   ]
  },
  {
   "cell_type": "markdown",
   "metadata": {},
   "source": [
    "Load the dataset `PS2_MFI.dta`. Notice that this is a `.dta` file so you will need to use the `haven` package."
   ]
  },
  {
   "cell_type": "code",
   "execution_count": 1,
   "metadata": {
    "scrolled": true
   },
   "outputs": [
    {
     "data": {
      "text/html": [
       "<table class=\"dataframe\">\n",
       "<caption>A tibble: 6 × 25</caption>\n",
       "<thead>\n",
       "\t<tr><th scope=col>intervid</th><th scope=col>treatment</th><th scope=col>resp_female</th><th scope=col>resp_primary</th><th scope=col>resp_secondary</th><th scope=col>resp_tertiary</th><th scope=col>resp_noschool</th><th scope=col>resp_age</th><th scope=col>resp_married</th><th scope=col>resp_emp</th><th scope=col>⋯</th><th scope=col>hhmem_unemployed</th><th scope=col>hhmem_retired</th><th scope=col>hhmem_school</th><th scope=col>total_exp</th><th scope=col>food_exp</th><th scope=col>nondur_exp</th><th scope=col>dur_exp</th><th scope=col>temp_exp</th><th scope=col>savings_avg</th><th scope=col>followup</th></tr>\n",
       "\t<tr><th scope=col>&lt;dbl&gt;</th><th scope=col>&lt;dbl&gt;</th><th scope=col>&lt;dbl&gt;</th><th scope=col>&lt;dbl&gt;</th><th scope=col>&lt;dbl&gt;</th><th scope=col>&lt;dbl&gt;</th><th scope=col>&lt;dbl&gt;</th><th scope=col>&lt;dbl&gt;</th><th scope=col>&lt;dbl&gt;</th><th scope=col>&lt;dbl&gt;</th><th scope=col>⋯</th><th scope=col>&lt;dbl&gt;</th><th scope=col>&lt;dbl&gt;</th><th scope=col>&lt;dbl&gt;</th><th scope=col>&lt;dbl&gt;</th><th scope=col>&lt;dbl&gt;</th><th scope=col>&lt;dbl&gt;</th><th scope=col>&lt;dbl&gt;</th><th scope=col>&lt;dbl&gt;</th><th scope=col>&lt;dbl&gt;</th><th scope=col>&lt;dbl&gt;</th></tr>\n",
       "</thead>\n",
       "<tbody>\n",
       "\t<tr><td> 2</td><td>1</td><td>1</td><td>1</td><td>0</td><td>0</td><td>0</td><td>29</td><td>0</td><td>0</td><td>⋯</td><td>1</td><td>0</td><td>2</td><td> 5740</td><td> 2080</td><td> 960</td><td>1400</td><td>1300</td><td>  0</td><td>1</td></tr>\n",
       "\t<tr><td> 4</td><td>0</td><td>0</td><td>0</td><td>0</td><td>1</td><td>0</td><td>49</td><td>0</td><td>0</td><td>⋯</td><td>2</td><td>0</td><td>2</td><td>34678</td><td>30160</td><td>4488</td><td>  30</td><td>   0</td><td>500</td><td>1</td></tr>\n",
       "\t<tr><td> 6</td><td>0</td><td>0</td><td>1</td><td>0</td><td>0</td><td>0</td><td>24</td><td>1</td><td>1</td><td>⋯</td><td>0</td><td>0</td><td>0</td><td> 9180</td><td> 2600</td><td> 420</td><td>4340</td><td>1820</td><td>  0</td><td>1</td></tr>\n",
       "\t<tr><td> 7</td><td>0</td><td>0</td><td>0</td><td>1</td><td>0</td><td>0</td><td>45</td><td>0</td><td>1</td><td>⋯</td><td>0</td><td>0</td><td>0</td><td>12696</td><td> 9360</td><td>1812</td><td> 900</td><td> 624</td><td>  0</td><td>1</td></tr>\n",
       "\t<tr><td> 8</td><td>1</td><td>0</td><td>1</td><td>0</td><td>0</td><td>0</td><td>52</td><td>0</td><td>1</td><td>⋯</td><td>0</td><td>0</td><td>2</td><td> 2960</td><td> 2600</td><td> 360</td><td>   0</td><td>   0</td><td>  0</td><td>1</td></tr>\n",
       "\t<tr><td>13</td><td>1</td><td>0</td><td>0</td><td>1</td><td>0</td><td>0</td><td>18</td><td>1</td><td>1</td><td>⋯</td><td>0</td><td>0</td><td>1</td><td> 9188</td><td> 7800</td><td> 360</td><td> 300</td><td> 728</td><td>500</td><td>1</td></tr>\n",
       "</tbody>\n",
       "</table>\n"
      ],
      "text/latex": [
       "A tibble: 6 × 25\n",
       "\\begin{tabular}{lllllllllllllllllllll}\n",
       " intervid & treatment & resp\\_female & resp\\_primary & resp\\_secondary & resp\\_tertiary & resp\\_noschool & resp\\_age & resp\\_married & resp\\_emp & ⋯ & hhmem\\_unemployed & hhmem\\_retired & hhmem\\_school & total\\_exp & food\\_exp & nondur\\_exp & dur\\_exp & temp\\_exp & savings\\_avg & followup\\\\\n",
       " <dbl> & <dbl> & <dbl> & <dbl> & <dbl> & <dbl> & <dbl> & <dbl> & <dbl> & <dbl> & ⋯ & <dbl> & <dbl> & <dbl> & <dbl> & <dbl> & <dbl> & <dbl> & <dbl> & <dbl> & <dbl>\\\\\n",
       "\\hline\n",
       "\t  2 & 1 & 1 & 1 & 0 & 0 & 0 & 29 & 0 & 0 & ⋯ & 1 & 0 & 2 &  5740 &  2080 &  960 & 1400 & 1300 &   0 & 1\\\\\n",
       "\t  4 & 0 & 0 & 0 & 0 & 1 & 0 & 49 & 0 & 0 & ⋯ & 2 & 0 & 2 & 34678 & 30160 & 4488 &   30 &    0 & 500 & 1\\\\\n",
       "\t  6 & 0 & 0 & 1 & 0 & 0 & 0 & 24 & 1 & 1 & ⋯ & 0 & 0 & 0 &  9180 &  2600 &  420 & 4340 & 1820 &   0 & 1\\\\\n",
       "\t  7 & 0 & 0 & 0 & 1 & 0 & 0 & 45 & 0 & 1 & ⋯ & 0 & 0 & 0 & 12696 &  9360 & 1812 &  900 &  624 &   0 & 1\\\\\n",
       "\t  8 & 1 & 0 & 1 & 0 & 0 & 0 & 52 & 0 & 1 & ⋯ & 0 & 0 & 2 &  2960 &  2600 &  360 &    0 &    0 &   0 & 1\\\\\n",
       "\t 13 & 1 & 0 & 0 & 1 & 0 & 0 & 18 & 1 & 1 & ⋯ & 0 & 0 & 1 &  9188 &  7800 &  360 &  300 &  728 & 500 & 1\\\\\n",
       "\\end{tabular}\n"
      ],
      "text/markdown": [
       "\n",
       "A tibble: 6 × 25\n",
       "\n",
       "| intervid &lt;dbl&gt; | treatment &lt;dbl&gt; | resp_female &lt;dbl&gt; | resp_primary &lt;dbl&gt; | resp_secondary &lt;dbl&gt; | resp_tertiary &lt;dbl&gt; | resp_noschool &lt;dbl&gt; | resp_age &lt;dbl&gt; | resp_married &lt;dbl&gt; | resp_emp &lt;dbl&gt; | ⋯ ⋯ | hhmem_unemployed &lt;dbl&gt; | hhmem_retired &lt;dbl&gt; | hhmem_school &lt;dbl&gt; | total_exp &lt;dbl&gt; | food_exp &lt;dbl&gt; | nondur_exp &lt;dbl&gt; | dur_exp &lt;dbl&gt; | temp_exp &lt;dbl&gt; | savings_avg &lt;dbl&gt; | followup &lt;dbl&gt; |\n",
       "|---|---|---|---|---|---|---|---|---|---|---|---|---|---|---|---|---|---|---|---|---|\n",
       "|  2 | 1 | 1 | 1 | 0 | 0 | 0 | 29 | 0 | 0 | ⋯ | 1 | 0 | 2 |  5740 |  2080 |  960 | 1400 | 1300 |   0 | 1 |\n",
       "|  4 | 0 | 0 | 0 | 0 | 1 | 0 | 49 | 0 | 0 | ⋯ | 2 | 0 | 2 | 34678 | 30160 | 4488 |   30 |    0 | 500 | 1 |\n",
       "|  6 | 0 | 0 | 1 | 0 | 0 | 0 | 24 | 1 | 1 | ⋯ | 0 | 0 | 0 |  9180 |  2600 |  420 | 4340 | 1820 |   0 | 1 |\n",
       "|  7 | 0 | 0 | 0 | 1 | 0 | 0 | 45 | 0 | 1 | ⋯ | 0 | 0 | 0 | 12696 |  9360 | 1812 |  900 |  624 |   0 | 1 |\n",
       "|  8 | 1 | 0 | 1 | 0 | 0 | 0 | 52 | 0 | 1 | ⋯ | 0 | 0 | 2 |  2960 |  2600 |  360 |    0 |    0 |   0 | 1 |\n",
       "| 13 | 1 | 0 | 0 | 1 | 0 | 0 | 18 | 1 | 1 | ⋯ | 0 | 0 | 1 |  9188 |  7800 |  360 |  300 |  728 | 500 | 1 |\n",
       "\n"
      ],
      "text/plain": [
       "  intervid treatment resp_female resp_primary resp_secondary resp_tertiary\n",
       "1  2       1         1           1            0              0            \n",
       "2  4       0         0           0            0              1            \n",
       "3  6       0         0           1            0              0            \n",
       "4  7       0         0           0            1              0            \n",
       "5  8       1         0           1            0              0            \n",
       "6 13       1         0           0            1              0            \n",
       "  resp_noschool resp_age resp_married resp_emp ⋯ hhmem_unemployed hhmem_retired\n",
       "1 0             29       0            0        ⋯ 1                0            \n",
       "2 0             49       0            0        ⋯ 2                0            \n",
       "3 0             24       1            1        ⋯ 0                0            \n",
       "4 0             45       0            1        ⋯ 0                0            \n",
       "5 0             52       0            1        ⋯ 0                0            \n",
       "6 0             18       1            1        ⋯ 0                0            \n",
       "  hhmem_school total_exp food_exp nondur_exp dur_exp temp_exp savings_avg\n",
       "1 2             5740      2080     960       1400    1300       0        \n",
       "2 2            34678     30160    4488         30       0     500        \n",
       "3 0             9180      2600     420       4340    1820       0        \n",
       "4 0            12696      9360    1812        900     624       0        \n",
       "5 2             2960      2600     360          0       0       0        \n",
       "6 1             9188      7800     360        300     728     500        \n",
       "  followup\n",
       "1 1       \n",
       "2 1       \n",
       "3 1       \n",
       "4 1       \n",
       "5 1       \n",
       "6 1       "
      ]
     },
     "metadata": {},
     "output_type": "display_data"
    }
   ],
   "source": [
    "library(haven) \n",
    "data <- read_dta('PS2_MFI.dta') \n",
    "head(data)"
   ]
  },
  {
   "cell_type": "code",
   "execution_count": 18,
   "metadata": {},
   "outputs": [
    {
     "data": {
      "image/png": "[encoded data removed]",
      "text/plain": [
       "Plot with title “Histogram of data$hhmem_children”"
      ]
     },
     "metadata": {
      "image/png": {
       "height": 420,
       "width": 420
      }
     },
     "output_type": "display_data"
    }
   ],
   "source": [
    "hist(data$hhmem_children)"
   ]
  },
  {
   "cell_type": "markdown",
   "metadata": {},
   "source": [
    "### a) How many respondents are in your data set? How many respondents are unmarried? What is the mean age among the respondents in the sample? What is the mean number of children in respondents' households in your sample?\n",
    "Note there are some missing values of respondents' age. What argument do you have to add to `mean()` to get around this?\n",
    "\n",
    "Hint: check for the `mean()` syntax in this website: https://www.rdocumentation.org/packages/base/versions/3.6.2/topics/mean ."
   ]
  },
  {
   "cell_type": "code",
   "execution_count": 15,
   "metadata": {},
   "outputs": [
    {
     "data": {
      "text/html": [
       "541"
      ],
      "text/latex": [
       "541"
      ],
      "text/markdown": [
       "541"
      ],
      "text/plain": [
       "[1] 541"
      ]
     },
     "metadata": {},
     "output_type": "display_data"
    },
    {
     "data": {
      "text/html": [
       "118"
      ],
      "text/latex": [
       "118"
      ],
      "text/markdown": [
       "118"
      ],
      "text/plain": [
       "[1] 118"
      ]
     },
     "metadata": {},
     "output_type": "display_data"
    },
    {
     "data": {
      "text/html": [
       "37.4796296296296"
      ],
      "text/latex": [
       "37.4796296296296"
      ],
      "text/markdown": [
       "37.4796296296296"
      ],
      "text/plain": [
       "[1] 37.47963"
      ]
     },
     "metadata": {},
     "output_type": "display_data"
    },
    {
     "data": {
      "text/html": [
       "0.878003696857671"
      ],
      "text/latex": [
       "0.878003696857671"
      ],
      "text/markdown": [
       "0.878003696857671"
      ],
      "text/plain": [
       "[1] 0.8780037"
      ]
     },
     "metadata": {},
     "output_type": "display_data"
    }
   ],
   "source": [
    "respondents <- nrow(data)\n",
    "respondents \n",
    "unmarried <- sum(data$resp_married)\n",
    "unmarried\n",
    "mean_age <- (data$resp_age)\n",
    "mean(mean_age, na.rm=TRUE)\n",
    "number_child <- (data$hhmem_children)\n",
    "mean(number_child)"
   ]
  },
  {
   "cell_type": "markdown",
   "metadata": {},
   "source": []
  },
  {
   "cell_type": "markdown",
   "metadata": {},
   "source": [
    "### b) Construct a variable `total_exp_pc` equal to total expenditures per capita in BAM. Plot a histogram (Hint: use the `hist()` command) of this constructed variable. What is the range of household total expenditures per capita? (You may want to refer to US Dollars in the discussion, so as to make sense of the income level of these MFI clients)."
   ]
  },
  {
   "cell_type": "code",
   "execution_count": 20,
   "metadata": {},
   "outputs": [
    {
     "data": {
      "image/png": "[encoded data removed]",
      "text/plain": [
       "Plot with title “Histogram of data$total_exp_pc”"
      ]
     },
     "metadata": {
      "image/png": {
       "height": 420,
       "width": 420
      }
     },
     "output_type": "display_data"
    }
   ],
   "source": [
    "library(tidyverse)\n",
    "data <- data %>% mutate(total_exp_pc = total_exp/data$hhmem)\n",
    "hist(data$total_exp_pc)"
   ]
  },
  {
   "cell_type": "markdown",
   "metadata": {},
   "source": []
  },
  {
   "cell_type": "code",
   "execution_count": null,
   "metadata": {},
   "outputs": [],
   "source": [
    "This shows us that on average, they are spending less than 5000 dollars yearly per person."
   ]
  },
  {
   "cell_type": "markdown",
   "metadata": {},
   "source": [
    "### c) Calculate the proportion of household expenditures spent on \"temptation\" goods (cigarettes, alcohol, etc.). You will need to create this new variable. What is the mean? What is the median? Compare the mean value of these proportions among treatment and control households. Print the mean for each group, as well as the difference in means between treatment and control households."
   ]
  },
  {
   "cell_type": "code",
   "execution_count": null,
   "metadata": {},
   "outputs": [],
   "source": [
    "#First get the proportion of overall --> Than the mean of treatment vs control households. Difference between those two."
   ]
  },
  {
   "cell_type": "code",
   "execution_count": 5,
   "metadata": {},
   "outputs": [
    {
     "data": {
      "text/html": [
       "0.0728248126043198"
      ],
      "text/latex": [
       "0.0728248126043198"
      ],
      "text/markdown": [
       "0.0728248126043198"
      ],
      "text/plain": [
       "[1] 0.07282481"
      ]
     },
     "metadata": {},
     "output_type": "display_data"
    },
    {
     "data": {
      "text/html": [
       "0.0542090174615585"
      ],
      "text/latex": [
       "0.0542090174615585"
      ],
      "text/markdown": [
       "0.0542090174615585"
      ],
      "text/plain": [
       "[1] 0.05420902"
      ]
     },
     "metadata": {},
     "output_type": "display_data"
    }
   ],
   "source": [
    "data <- data %>% mutate(temptation = temp_exp/total_exp)\n",
    "mean(data$temptation)\n",
    "median(data$temptation)"
   ]
  },
  {
   "cell_type": "code",
   "execution_count": 41,
   "metadata": {},
   "outputs": [
    {
     "data": {
      "text/html": [
       "'Mean treatment : 0.069910'"
      ],
      "text/latex": [
       "'Mean treatment : 0.069910'"
      ],
      "text/markdown": [
       "'Mean treatment : 0.069910'"
      ],
      "text/plain": [
       "[1] \"Mean treatment : 0.069910\""
      ]
     },
     "metadata": {},
     "output_type": "display_data"
    },
    {
     "data": {
      "text/html": [
       "'Median Treatment : 0.051661'"
      ],
      "text/latex": [
       "'Median Treatment : 0.051661'"
      ],
      "text/markdown": [
       "'Median Treatment : 0.051661'"
      ],
      "text/plain": [
       "[1] \"Median Treatment : 0.051661\""
      ]
     },
     "metadata": {},
     "output_type": "display_data"
    },
    {
     "data": {
      "text/html": [
       "'Mean controlled : 0.076454'"
      ],
      "text/latex": [
       "'Mean controlled : 0.076454'"
      ],
      "text/markdown": [
       "'Mean controlled : 0.076454'"
      ],
      "text/plain": [
       "[1] \"Mean controlled : 0.076454\""
      ]
     },
     "metadata": {},
     "output_type": "display_data"
    },
    {
     "data": {
      "text/html": [
       "'Median controlled : 0.055954'"
      ],
      "text/latex": [
       "'Median controlled : 0.055954'"
      ],
      "text/markdown": [
       "'Median controlled : 0.055954'"
      ],
      "text/plain": [
       "[1] \"Median controlled : 0.055954\""
      ]
     },
     "metadata": {},
     "output_type": "display_data"
    },
    {
     "data": {
      "text/html": [
       "'Difference : -0.006544'"
      ],
      "text/latex": [
       "'Difference : -0.006544'"
      ],
      "text/markdown": [
       "'Difference : -0.006544'"
      ],
      "text/plain": [
       "[1] \"Difference : -0.006544\""
      ]
     },
     "metadata": {},
     "output_type": "display_data"
    }
   ],
   "source": [
    "treatement_group <- data[data$treatment == \"1\",]\n",
    "controlled_group <- data[data$treatment == \"0\",]\n",
    "\n",
    "mean_treatment <- mean(treatement_group$temptation)\n",
    "median_treatment <- median(treatement_group$temptation)\n",
    "mean_controlled <- mean(controlled_group$temptation)\n",
    "median_controlled <- median(controlled_group$temptation)\n",
    "\n",
    "sprintf(\"Mean treatment : %f\", mean_treatment)\n",
    "sprintf(\"Median Treatment : %f\", median_treatment)\n",
    "sprintf(\"Mean controlled : %f\", mean_controlled)\n",
    "sprintf(\"Median controlled : %f\", median_controlled)\n",
    "\n",
    "\n",
    "difference <- mean_treatment - mean_controlled\n",
    "sprintf(\"Difference : %f\", difference)"
   ]
  },
  {
   "cell_type": "markdown",
   "metadata": {},
   "source": [
    "the difference is -0.0064, this is telling us control spends more on temptation then treatment group."
   ]
  },
  {
   "cell_type": "markdown",
   "metadata": {},
   "source": [
    "## Question 2"
   ]
  },
  {
   "cell_type": "markdown",
   "metadata": {},
   "source": [
    "We will now explore the role of household size in food consumption. Consider these two models: \n",
    "\n",
    "Model (1): $\\ln($food_exp_pc$) = \\beta_0 + \\beta_1 \\ln($nondur_exp_pc$) + \\beta_2 treatment+ u$\n",
    "\n",
    "Model (2): $\\ln($food_exp_pc$) = \\beta_0 + \\beta_1 \\ln($nondur_exp_pc$) + \\beta_2 treatment + \\beta_3 \\ln(hhmem) + u$"
   ]
  },
  {
   "cell_type": "markdown",
   "metadata": {},
   "source": [
    "### a) Estimate equations (1) and (2). Print the regression outputs for both regressions."
   ]
  },
  {
   "cell_type": "code",
   "execution_count": 49,
   "metadata": {},
   "outputs": [
    {
     "data": {
      "text/html": [
       "<table class=\"dataframe\">\n",
       "<caption>A tibble: 6 × 30</caption>\n",
       "<thead>\n",
       "\t<tr><th scope=col>intervid</th><th scope=col>treatment</th><th scope=col>resp_female</th><th scope=col>resp_primary</th><th scope=col>resp_secondary</th><th scope=col>resp_tertiary</th><th scope=col>resp_noschool</th><th scope=col>resp_age</th><th scope=col>resp_married</th><th scope=col>resp_emp</th><th scope=col>⋯</th><th scope=col>nondur_exp</th><th scope=col>dur_exp</th><th scope=col>temp_exp</th><th scope=col>savings_avg</th><th scope=col>followup</th><th scope=col>total_exp_pc</th><th scope=col>temptation</th><th scope=col>log_food_exp_pc</th><th scope=col>log_nondur_exp_pc</th><th scope=col>log_hhmem</th></tr>\n",
       "\t<tr><th scope=col>&lt;dbl&gt;</th><th scope=col>&lt;dbl&gt;</th><th scope=col>&lt;dbl&gt;</th><th scope=col>&lt;dbl&gt;</th><th scope=col>&lt;dbl&gt;</th><th scope=col>&lt;dbl&gt;</th><th scope=col>&lt;dbl&gt;</th><th scope=col>&lt;dbl&gt;</th><th scope=col>&lt;dbl&gt;</th><th scope=col>&lt;dbl&gt;</th><th scope=col>⋯</th><th scope=col>&lt;dbl&gt;</th><th scope=col>&lt;dbl&gt;</th><th scope=col>&lt;dbl&gt;</th><th scope=col>&lt;dbl&gt;</th><th scope=col>&lt;dbl&gt;</th><th scope=col>&lt;dbl&gt;</th><th scope=col>&lt;dbl&gt;</th><th scope=col>&lt;dbl&gt;</th><th scope=col>&lt;dbl&gt;</th><th scope=col>&lt;dbl&gt;</th></tr>\n",
       "</thead>\n",
       "<tbody>\n",
       "\t<tr><td> 2</td><td>1</td><td>1</td><td>1</td><td>0</td><td>0</td><td>0</td><td>29</td><td>0</td><td>0</td><td>⋯</td><td> 960</td><td>1400</td><td>1300</td><td>  0</td><td>1</td><td> 1148.0</td><td>0.22648084</td><td> 7.640123</td><td>6.866933</td><td>1.609438</td></tr>\n",
       "\t<tr><td> 4</td><td>0</td><td>0</td><td>0</td><td>0</td><td>1</td><td>0</td><td>49</td><td>0</td><td>0</td><td>⋯</td><td>4488</td><td>  30</td><td>   0</td><td>500</td><td>1</td><td> 8669.5</td><td>0.00000000</td><td>10.314272</td><td>8.409162</td><td>1.386294</td></tr>\n",
       "\t<tr><td> 6</td><td>0</td><td>0</td><td>1</td><td>0</td><td>0</td><td>0</td><td>24</td><td>1</td><td>1</td><td>⋯</td><td> 420</td><td>4340</td><td>1820</td><td>  0</td><td>1</td><td> 9180.0</td><td>0.19825708</td><td> 7.863267</td><td>6.040255</td><td>0.000000</td></tr>\n",
       "\t<tr><td> 7</td><td>0</td><td>0</td><td>0</td><td>1</td><td>0</td><td>0</td><td>45</td><td>0</td><td>1</td><td>⋯</td><td>1812</td><td> 900</td><td> 624</td><td>  0</td><td>1</td><td>12696.0</td><td>0.04914934</td><td> 9.144201</td><td>7.502186</td><td>0.000000</td></tr>\n",
       "\t<tr><td> 8</td><td>1</td><td>0</td><td>1</td><td>0</td><td>0</td><td>0</td><td>52</td><td>0</td><td>1</td><td>⋯</td><td> 360</td><td>   0</td><td>   0</td><td>  0</td><td>1</td><td>  740.0</td><td>0.00000000</td><td> 7.863267</td><td>5.886104</td><td>1.386294</td></tr>\n",
       "\t<tr><td>13</td><td>1</td><td>0</td><td>0</td><td>1</td><td>0</td><td>0</td><td>18</td><td>1</td><td>1</td><td>⋯</td><td> 360</td><td> 300</td><td> 728</td><td>500</td><td>1</td><td> 1837.6</td><td>0.07923378</td><td> 8.961879</td><td>5.886104</td><td>1.609438</td></tr>\n",
       "</tbody>\n",
       "</table>\n"
      ],
      "text/latex": [
       "A tibble: 6 × 30\n",
       "\\begin{tabular}{lllllllllllllllllllll}\n",
       " intervid & treatment & resp\\_female & resp\\_primary & resp\\_secondary & resp\\_tertiary & resp\\_noschool & resp\\_age & resp\\_married & resp\\_emp & ⋯ & nondur\\_exp & dur\\_exp & temp\\_exp & savings\\_avg & followup & total\\_exp\\_pc & temptation & log\\_food\\_exp\\_pc & log\\_nondur\\_exp\\_pc & log\\_hhmem\\\\\n",
       " <dbl> & <dbl> & <dbl> & <dbl> & <dbl> & <dbl> & <dbl> & <dbl> & <dbl> & <dbl> & ⋯ & <dbl> & <dbl> & <dbl> & <dbl> & <dbl> & <dbl> & <dbl> & <dbl> & <dbl> & <dbl>\\\\\n",
       "\\hline\n",
       "\t  2 & 1 & 1 & 1 & 0 & 0 & 0 & 29 & 0 & 0 & ⋯ &  960 & 1400 & 1300 &   0 & 1 &  1148.0 & 0.22648084 &  7.640123 & 6.866933 & 1.609438\\\\\n",
       "\t  4 & 0 & 0 & 0 & 0 & 1 & 0 & 49 & 0 & 0 & ⋯ & 4488 &   30 &    0 & 500 & 1 &  8669.5 & 0.00000000 & 10.314272 & 8.409162 & 1.386294\\\\\n",
       "\t  6 & 0 & 0 & 1 & 0 & 0 & 0 & 24 & 1 & 1 & ⋯ &  420 & 4340 & 1820 &   0 & 1 &  9180.0 & 0.19825708 &  7.863267 & 6.040255 & 0.000000\\\\\n",
       "\t  7 & 0 & 0 & 0 & 1 & 0 & 0 & 45 & 0 & 1 & ⋯ & 1812 &  900 &  624 &   0 & 1 & 12696.0 & 0.04914934 &  9.144201 & 7.502186 & 0.000000\\\\\n",
       "\t  8 & 1 & 0 & 1 & 0 & 0 & 0 & 52 & 0 & 1 & ⋯ &  360 &    0 &    0 &   0 & 1 &   740.0 & 0.00000000 &  7.863267 & 5.886104 & 1.386294\\\\\n",
       "\t 13 & 1 & 0 & 0 & 1 & 0 & 0 & 18 & 1 & 1 & ⋯ &  360 &  300 &  728 & 500 & 1 &  1837.6 & 0.07923378 &  8.961879 & 5.886104 & 1.609438\\\\\n",
       "\\end{tabular}\n"
      ],
      "text/markdown": [
       "\n",
       "A tibble: 6 × 30\n",
       "\n",
       "| intervid &lt;dbl&gt; | treatment &lt;dbl&gt; | resp_female &lt;dbl&gt; | resp_primary &lt;dbl&gt; | resp_secondary &lt;dbl&gt; | resp_tertiary &lt;dbl&gt; | resp_noschool &lt;dbl&gt; | resp_age &lt;dbl&gt; | resp_married &lt;dbl&gt; | resp_emp &lt;dbl&gt; | ⋯ ⋯ | nondur_exp &lt;dbl&gt; | dur_exp &lt;dbl&gt; | temp_exp &lt;dbl&gt; | savings_avg &lt;dbl&gt; | followup &lt;dbl&gt; | total_exp_pc &lt;dbl&gt; | temptation &lt;dbl&gt; | log_food_exp_pc &lt;dbl&gt; | log_nondur_exp_pc &lt;dbl&gt; | log_hhmem &lt;dbl&gt; |\n",
       "|---|---|---|---|---|---|---|---|---|---|---|---|---|---|---|---|---|---|---|---|---|\n",
       "|  2 | 1 | 1 | 1 | 0 | 0 | 0 | 29 | 0 | 0 | ⋯ |  960 | 1400 | 1300 |   0 | 1 |  1148.0 | 0.22648084 |  7.640123 | 6.866933 | 1.609438 |\n",
       "|  4 | 0 | 0 | 0 | 0 | 1 | 0 | 49 | 0 | 0 | ⋯ | 4488 |   30 |    0 | 500 | 1 |  8669.5 | 0.00000000 | 10.314272 | 8.409162 | 1.386294 |\n",
       "|  6 | 0 | 0 | 1 | 0 | 0 | 0 | 24 | 1 | 1 | ⋯ |  420 | 4340 | 1820 |   0 | 1 |  9180.0 | 0.19825708 |  7.863267 | 6.040255 | 0.000000 |\n",
       "|  7 | 0 | 0 | 0 | 1 | 0 | 0 | 45 | 0 | 1 | ⋯ | 1812 |  900 |  624 |   0 | 1 | 12696.0 | 0.04914934 |  9.144201 | 7.502186 | 0.000000 |\n",
       "|  8 | 1 | 0 | 1 | 0 | 0 | 0 | 52 | 0 | 1 | ⋯ |  360 |    0 |    0 |   0 | 1 |   740.0 | 0.00000000 |  7.863267 | 5.886104 | 1.386294 |\n",
       "| 13 | 1 | 0 | 0 | 1 | 0 | 0 | 18 | 1 | 1 | ⋯ |  360 |  300 |  728 | 500 | 1 |  1837.6 | 0.07923378 |  8.961879 | 5.886104 | 1.609438 |\n",
       "\n"
      ],
      "text/plain": [
       "  intervid treatment resp_female resp_primary resp_secondary resp_tertiary\n",
       "1  2       1         1           1            0              0            \n",
       "2  4       0         0           0            0              1            \n",
       "3  6       0         0           1            0              0            \n",
       "4  7       0         0           0            1              0            \n",
       "5  8       1         0           1            0              0            \n",
       "6 13       1         0           0            1              0            \n",
       "  resp_noschool resp_age resp_married resp_emp ⋯ nondur_exp dur_exp temp_exp\n",
       "1 0             29       0            0        ⋯  960       1400    1300    \n",
       "2 0             49       0            0        ⋯ 4488         30       0    \n",
       "3 0             24       1            1        ⋯  420       4340    1820    \n",
       "4 0             45       0            1        ⋯ 1812        900     624    \n",
       "5 0             52       0            1        ⋯  360          0       0    \n",
       "6 0             18       1            1        ⋯  360        300     728    \n",
       "  savings_avg followup total_exp_pc temptation log_food_exp_pc\n",
       "1   0         1         1148.0      0.22648084  7.640123      \n",
       "2 500         1         8669.5      0.00000000 10.314272      \n",
       "3   0         1         9180.0      0.19825708  7.863267      \n",
       "4   0         1        12696.0      0.04914934  9.144201      \n",
       "5   0         1          740.0      0.00000000  7.863267      \n",
       "6 500         1         1837.6      0.07923378  8.961879      \n",
       "  log_nondur_exp_pc log_hhmem\n",
       "1 6.866933          1.609438 \n",
       "2 8.409162          1.386294 \n",
       "3 6.040255          0.000000 \n",
       "4 7.502186          0.000000 \n",
       "5 5.886104          1.386294 \n",
       "6 5.886104          1.609438 "
      ]
     },
     "metadata": {},
     "output_type": "display_data"
    },
    {
     "data": {
      "text/plain": [
       "\n",
       "Call:\n",
       "lm(formula = log_food_exp_pc ~ log_nondur_exp_pc + treatment, \n",
       "    data = data)\n",
       "\n",
       "Residuals:\n",
       "     Min       1Q   Median       3Q      Max \n",
       "-3.08093 -0.42608  0.03439  0.44250  2.34080 \n",
       "\n",
       "Coefficients:\n",
       "                  Estimate Std. Error t value Pr(>|t|)    \n",
       "(Intercept)        7.20335    0.18191  39.598  < 2e-16 ***\n",
       "log_nondur_exp_pc  0.18547    0.02420   7.664 8.45e-14 ***\n",
       "treatment         -0.08050    0.05631  -1.429    0.153    \n",
       "---\n",
       "Signif. codes:  0 ‘***’ 0.001 ‘**’ 0.01 ‘*’ 0.05 ‘.’ 0.1 ‘ ’ 1\n",
       "\n",
       "Residual standard error: 0.6507 on 538 degrees of freedom\n",
       "Multiple R-squared:  0.1027,\tAdjusted R-squared:  0.09935 \n",
       "F-statistic: 30.78 on 2 and 538 DF,  p-value: 2.198e-13\n"
      ]
     },
     "metadata": {},
     "output_type": "display_data"
    },
    {
     "data": {
      "text/plain": [
       "\n",
       "Call:\n",
       "lm(formula = log_food_exp_pc ~ log_nondur_exp_pc + treatment + \n",
       "    log_hhmem, data = data)\n",
       "\n",
       "Residuals:\n",
       "     Min       1Q   Median       3Q      Max \n",
       "-3.05055 -0.41227  0.02881  0.42868  2.23038 \n",
       "\n",
       "Coefficients:\n",
       "                  Estimate Std. Error t value Pr(>|t|)    \n",
       "(Intercept)        7.01344    0.18594  37.718  < 2e-16 ***\n",
       "log_nondur_exp_pc  0.17711    0.02398   7.387 5.79e-13 ***\n",
       "treatment         -0.09111    0.05564  -1.637    0.102    \n",
       "log_hhmem          0.21719    0.05537   3.922 9.91e-05 ***\n",
       "---\n",
       "Signif. codes:  0 ‘***’ 0.001 ‘**’ 0.01 ‘*’ 0.05 ‘.’ 0.1 ‘ ’ 1\n",
       "\n",
       "Residual standard error: 0.6421 on 537 degrees of freedom\n",
       "Multiple R-squared:  0.1277,\tAdjusted R-squared:  0.1228 \n",
       "F-statistic:  26.2 on 3 and 537 DF,  p-value: 7.904e-16\n"
      ]
     },
     "metadata": {},
     "output_type": "display_data"
    }
   ],
   "source": [
    "data <- data %>% mutate(log_food_exp_pc = log(food_exp))\n",
    "data <- data %>% mutate(log_nondur_exp_pc = log(nondur_exp))\n",
    "data <- data %>% mutate(log_hhmem = log(hhmem))\n",
    "head(data)\n",
    "\n",
    "slr<-lm(log_food_exp_pc~log_nondur_exp_pc + treatment, data=data)\n",
    "summary(slr)\n",
    "\n",
    "slr2<-lm(log_food_exp_pc~log_nondur_exp_pc + treatment + log_hhmem, data=data)\n",
    "summary(slr2)"
   ]
  },
  {
   "cell_type": "markdown",
   "metadata": {},
   "source": [
    "### b) Interpret each of the estimated parameters of equation (2) - remember to include significance. \n",
    "\n",
    "### The results you are finding on the role of household size may a priori seem suprising. Try to think about a scenario where two households of the same size, with the same treatment status and per capita expenditures on nondurable goods, decide to move in together. What does your estimation predict about food consumption per capita?"
   ]
  },
  {
   "cell_type": "markdown",
   "metadata": {},
   "source": [
    "The estimations prediction for this scenario predicts that"
   ]
  },
  {
   "cell_type": "markdown",
   "metadata": {},
   "source": [
    "### c) How did your estimate of $\\hat{\\beta}_1$ change between equation (1) and equation (2)? Without performing any calculations, what information does this give you about the correlation between expenditure per capita on nondurable goods and household size? (Explain your reasoning in no more than 4 sentences.)"
   ]
  },
  {
   "cell_type": "markdown",
   "metadata": {},
   "source": []
  },
  {
   "cell_type": "markdown",
   "metadata": {},
   "source": [
    "### d) Predict the expected value of food expenditure per capita of a treatment household with 3 members and per capita expenditures on nondurable goods of BAM 1000 using your estimates from equation (2)."
   ]
  },
  {
   "cell_type": "code",
   "execution_count": null,
   "metadata": {},
   "outputs": [],
   "source": []
  },
  {
   "cell_type": "markdown",
   "metadata": {},
   "source": []
  },
  {
   "cell_type": "markdown",
   "metadata": {},
   "source": [
    "## Question 3"
   ]
  },
  {
   "cell_type": "markdown",
   "metadata": {},
   "source": [
    "A country's dependency ratio is the ratio of old and young dependents (dependents are those not in the labor force) to the working-age population. A similar measure could be constructed for the household: "
   ]
  },
  {
   "cell_type": "markdown",
   "metadata": {},
   "source": [
    "$hhdr =\\frac{\\text{hh members under 14 or over 64}} {\\text{hh members aged 14 to 64}}$ "
   ]
  },
  {
   "cell_type": "markdown",
   "metadata": {},
   "source": [
    "Model 2 (as well as Model 1) does not capture how the composition of a household, i.e. the characteristics of the members, is associated with food consumption per capita. You suspect that the structure of the family affects food expenditure per capita controlling for the log of household size and the log of expenditure per capita on nondurable goods (think about how children and older people might consume less food than adults; and how larger households might have more children). Specifically you hypothesize that a higher dependency ratio is associated with lower food expenditure per capita, holding other factors constant. "
   ]
  },
  {
   "cell_type": "markdown",
   "metadata": {},
   "source": [
    "### (a) Write an equation you could estimate that would allow you to test this hypothesis."
   ]
  },
  {
   "cell_type": "markdown",
   "metadata": {},
   "source": []
  },
  {
   "cell_type": "markdown",
   "metadata": {},
   "source": [
    "### (b) Estimate the equation in part (a). Print the regression output. What can you conclude about the hypothesis? \n",
    "Note that some households don't have members aged 14 to 64, which means that their $hhdr$ would be undefined. Replace $hhdr$ with NA for these observations. \n",
    "\n",
    "Hint: The following website has some simple examples showing you how to replace variables with conditions in R: https://statisticsglobe.com/replace-values-in-data-frame-conditionally-in-r ."
   ]
  },
  {
   "cell_type": "code",
   "execution_count": null,
   "metadata": {},
   "outputs": [],
   "source": []
  },
  {
   "cell_type": "markdown",
   "metadata": {},
   "source": []
  },
  {
   "cell_type": "markdown",
   "metadata": {},
   "source": [
    "# Exercise 2: Perceptions of Global Warming"
   ]
  },
  {
   "cell_type": "markdown",
   "metadata": {},
   "source": [
    "Gallup Polling collects information about a variety of topics ( health, environment, political attitudes, education). In March 2018, Gallup conducted a poll to gather information about the perceived onset of global warming among Californian voters. Question: \"Do you believe that global warming is caused by human activities?\""
   ]
  },
  {
   "cell_type": "markdown",
   "metadata": {},
   "source": [
    "|  Group      | Number of Observations  | Yes |\n",
    "|-------------|-------------------------|-----|\n",
    "|  All voters |  1408                   | 697 |\n",
    "| Republicans |  482                    | 133 |  \n",
    "| Democrats   |  521                    | 375 | \n",
    "| Independents|  405                    | 189 |\n"
   ]
  },
  {
   "cell_type": "markdown",
   "metadata": {},
   "source": [
    "Consider first the overall result (all voters). Let $p$ be the fraction of all voters in California (the population of interest) that believe that global warming is caused by human activities."
   ]
  },
  {
   "cell_type": "markdown",
   "metadata": {},
   "source": [
    " Note: You answer to the following questions should not necessarily require any R code (unless you would like to use R as a calculator). Some of your answers will require that you type in equations. LaTeX is a typsetting language that makes nicely formatted equations. At the beginning and end of an equation you will need to type a $\\$$  to tell Jupyter that you are typing a Latex equation. The following website has some simple examples showing you how to format your equations in Latex:  http://www.personal.ceu.hu/tex/cookbook.html . "
   ]
  },
  {
   "cell_type": "markdown",
   "metadata": {},
   "source": [
    "### (a) Use the survey results to estimate $p$ for the whole population. Print $p$."
   ]
  },
  {
   "cell_type": "code",
   "execution_count": null,
   "metadata": {},
   "outputs": [],
   "source": []
  },
  {
   "cell_type": "markdown",
   "metadata": {},
   "source": []
  },
  {
   "cell_type": "markdown",
   "metadata": {},
   "source": [
    "### (b) Construct a 95% confidence interval for $p$. Interpret."
   ]
  },
  {
   "cell_type": "code",
   "execution_count": null,
   "metadata": {},
   "outputs": [],
   "source": []
  },
  {
   "cell_type": "markdown",
   "metadata": {},
   "source": []
  },
  {
   "cell_type": "markdown",
   "metadata": {},
   "source": [
    "### (c) Suppose you want to test the null hypothesis that the fraction of voters who believe that global warming is caused by human activities is the same among Democrats and Republicans against the alternative hypothesis that the fraction of voters who believe that global warming is caused by human activities is higher among Democrats than Republicans. Write down the null and alternative hypotheses. Is this a one-sided or two-sided test?"
   ]
  },
  {
   "cell_type": "markdown",
   "metadata": {},
   "source": []
  },
  {
   "cell_type": "markdown",
   "metadata": {},
   "source": [
    "### (d) Generate a test statistic which will allow you to test the hypotheses in part (c), and identify a critical value which will give you 99% confidence. Print the test statistic and the critical value."
   ]
  },
  {
   "cell_type": "code",
   "execution_count": null,
   "metadata": {
    "scrolled": true
   },
   "outputs": [],
   "source": []
  },
  {
   "cell_type": "markdown",
   "metadata": {},
   "source": []
  },
  {
   "cell_type": "markdown",
   "metadata": {},
   "source": [
    "### (e) Implement your test and interpret your results."
   ]
  },
  {
   "cell_type": "markdown",
   "metadata": {},
   "source": []
  }
 ],
 "metadata": {
  "kernelspec": {
   "display_name": "R",
   "language": "R",
   "name": "ir"
  },
  "language_info": {
   "codemirror_mode": "r",
   "file_extension": ".r",
   "mimetype": "text/x-r-source",
   "name": "R",
   "pygments_lexer": "r",
   "version": "4.2.1"
  }
 },
 "nbformat": 4,
 "nbformat_minor": 2
}

{
 "cells": [
  {
   "cell_type": "markdown",
   "metadata": {},
   "source": [
    "# Small Assignment 1\n",
    "(due September 9th 2022, 11:59 PM PDT)"
   ]
  },
  {
   "cell_type": "markdown",
   "metadata": {},
   "source": [
    "This assignment will help you get familiar with using **R** to manipulate data. We have included comments in the code cells to help outline the required steps. We will not provide such comments in the future, but we encourage you to develop a habit of annotating your code in a similar way, so that another reader (perhaps yourself in the future!) can easily follow what you are doing.\n",
    "\n",
    "If you have questions about using particular functions in **R**, remember that entering `?function` or `help(function)` will pull up a window outlining the syntax for the function and how the arguments should be entered.\n",
    "\n",
    "Please submit this assignment via Gradescope. To do so you will need to generate a single pdf\n",
    "file of your answers. For small assignments, the pdf can be composed of photo images and/or\n",
    "screenshots if you are not using Jupyter. Please see the [submission instructions](https://gradescope-static-assets.s3-us-west-2.amazonaws.com/help/submitting_hw_guide.pdf) for help uploading to Gradescope. "
   ]
  },
  {
   "cell_type": "markdown",
   "metadata": {},
   "source": [
    "## Part 1. \n",
    "We are going to explore the nuts and bolts of regressions by doing one by hand. *Please do not use canned functions to calculate sample variances and covariances and to estimate regression coefficients.*\n",
    "\n",
    "Start by reading in the `energy.csv` file."
   ]
  },
  {
   "cell_type": "code",
   "execution_count": 1,
   "metadata": {},
   "outputs": [
    {
     "data": {
      "text/html": [
       "<table class=\"dataframe\">\n",
       "<caption>A data.frame: 6 × 5</caption>\n",
       "<thead>\n",
       "\t<tr><th></th><th scope=col>country_name</th><th scope=col>country_code</th><th scope=col>energy_use</th><th scope=col>pop</th><th scope=col>gdp</th></tr>\n",
       "\t<tr><th></th><th scope=col>&lt;chr&gt;</th><th scope=col>&lt;chr&gt;</th><th scope=col>&lt;dbl&gt;</th><th scope=col>&lt;int&gt;</th><th scope=col>&lt;dbl&gt;</th></tr>\n",
       "</thead>\n",
       "<tbody>\n",
       "\t<tr><th scope=row>1</th><td>Albania  </td><td>ALB</td><td> 8480.065</td><td> 2837743</td><td>1.515643e+10</td></tr>\n",
       "\t<tr><th scope=row>2</th><td>Algeria  </td><td>DZA</td><td>12958.346</td><td>43851043</td><td>1.749110e+11</td></tr>\n",
       "\t<tr><th scope=row>3</th><td>Angola   </td><td>AGO</td><td> 6058.792</td><td>32866268</td><td>7.779294e+10</td></tr>\n",
       "\t<tr><th scope=row>4</th><td>Argentina</td><td>ARG</td><td>22430.227</td><td>45376763</td><td>5.248200e+11</td></tr>\n",
       "\t<tr><th scope=row>5</th><td>Australia</td><td>AUS</td><td>67373.945</td><td>25687041</td><td>1.428530e+12</td></tr>\n",
       "\t<tr><th scope=row>6</th><td>Austria  </td><td>AUT</td><td>47115.410</td><td> 8917205</td><td>4.551680e+11</td></tr>\n",
       "</tbody>\n",
       "</table>\n"
      ],
      "text/latex": [
       "A data.frame: 6 × 5\n",
       "\\begin{tabular}{r|lllll}\n",
       "  & country\\_name & country\\_code & energy\\_use & pop & gdp\\\\\n",
       "  & <chr> & <chr> & <dbl> & <int> & <dbl>\\\\\n",
       "\\hline\n",
       "\t1 & Albania   & ALB &  8480.065 &  2837743 & 1.515643e+10\\\\\n",
       "\t2 & Algeria   & DZA & 12958.346 & 43851043 & 1.749110e+11\\\\\n",
       "\t3 & Angola    & AGO &  6058.792 & 32866268 & 7.779294e+10\\\\\n",
       "\t4 & Argentina & ARG & 22430.227 & 45376763 & 5.248200e+11\\\\\n",
       "\t5 & Australia & AUS & 67373.945 & 25687041 & 1.428530e+12\\\\\n",
       "\t6 & Austria   & AUT & 47115.410 &  8917205 & 4.551680e+11\\\\\n",
       "\\end{tabular}\n"
      ],
      "text/markdown": [
       "\n",
       "A data.frame: 6 × 5\n",
       "\n",
       "| <!--/--> | country_name &lt;chr&gt; | country_code &lt;chr&gt; | energy_use &lt;dbl&gt; | pop &lt;int&gt; | gdp &lt;dbl&gt; |\n",
       "|---|---|---|---|---|---|\n",
       "| 1 | Albania   | ALB |  8480.065 |  2837743 | 1.515643e+10 |\n",
       "| 2 | Algeria   | DZA | 12958.346 | 43851043 | 1.749110e+11 |\n",
       "| 3 | Angola    | AGO |  6058.792 | 32866268 | 7.779294e+10 |\n",
       "| 4 | Argentina | ARG | 22430.227 | 45376763 | 5.248200e+11 |\n",
       "| 5 | Australia | AUS | 67373.945 | 25687041 | 1.428530e+12 |\n",
       "| 6 | Austria   | AUT | 47115.410 |  8917205 | 4.551680e+11 |\n",
       "\n"
      ],
      "text/plain": [
       "  country_name country_code energy_use pop      gdp         \n",
       "1 Albania      ALB           8480.065   2837743 1.515643e+10\n",
       "2 Algeria      DZA          12958.346  43851043 1.749110e+11\n",
       "3 Angola       AGO           6058.792  32866268 7.779294e+10\n",
       "4 Argentina    ARG          22430.227  45376763 5.248200e+11\n",
       "5 Australia    AUS          67373.945  25687041 1.428530e+12\n",
       "6 Austria      AUT          47115.410   8917205 4.551680e+11"
      ]
     },
     "metadata": {},
     "output_type": "display_data"
    }
   ],
   "source": [
    "# Read in the data and save it as an object\n",
    "## Step 1 read --> there are different ways of reading in a file for example dta file is read_dta and csv is read.csv\n",
    "#read.csv(\"energy.csv\")\n",
    "## step 2 save it as an object --> Do this so you can access it later with just the name (object)\n",
    "energy <- read.csv (\"energy.csv\")\n",
    "head(energy)"
   ]
  },
  {
   "cell_type": "markdown",
   "metadata": {},
   "source": [
    "View the structure of the dataset using the `head` function."
   ]
  },
  {
   "cell_type": "code",
   "execution_count": 2,
   "metadata": {
    "scrolled": true
   },
   "outputs": [
    {
     "data": {
      "text/html": [
       "<table class=\"dataframe\">\n",
       "<caption>A data.frame: 6 × 5</caption>\n",
       "<thead>\n",
       "\t<tr><th></th><th scope=col>country_name</th><th scope=col>country_code</th><th scope=col>energy_use</th><th scope=col>pop</th><th scope=col>gdp</th></tr>\n",
       "\t<tr><th></th><th scope=col>&lt;chr&gt;</th><th scope=col>&lt;chr&gt;</th><th scope=col>&lt;dbl&gt;</th><th scope=col>&lt;int&gt;</th><th scope=col>&lt;dbl&gt;</th></tr>\n",
       "</thead>\n",
       "<tbody>\n",
       "\t<tr><th scope=row>1</th><td>Albania  </td><td>ALB</td><td> 8480.065</td><td> 2837743</td><td>1.515643e+10</td></tr>\n",
       "\t<tr><th scope=row>2</th><td>Algeria  </td><td>DZA</td><td>12958.346</td><td>43851043</td><td>1.749110e+11</td></tr>\n",
       "\t<tr><th scope=row>3</th><td>Angola   </td><td>AGO</td><td> 6058.792</td><td>32866268</td><td>7.779294e+10</td></tr>\n",
       "\t<tr><th scope=row>4</th><td>Argentina</td><td>ARG</td><td>22430.227</td><td>45376763</td><td>5.248200e+11</td></tr>\n",
       "\t<tr><th scope=row>5</th><td>Australia</td><td>AUS</td><td>67373.945</td><td>25687041</td><td>1.428530e+12</td></tr>\n",
       "\t<tr><th scope=row>6</th><td>Austria  </td><td>AUT</td><td>47115.410</td><td> 8917205</td><td>4.551680e+11</td></tr>\n",
       "</tbody>\n",
       "</table>\n"
      ],
      "text/latex": [
       "A data.frame: 6 × 5\n",
       "\\begin{tabular}{r|lllll}\n",
       "  & country\\_name & country\\_code & energy\\_use & pop & gdp\\\\\n",
       "  & <chr> & <chr> & <dbl> & <int> & <dbl>\\\\\n",
       "\\hline\n",
       "\t1 & Albania   & ALB &  8480.065 &  2837743 & 1.515643e+10\\\\\n",
       "\t2 & Algeria   & DZA & 12958.346 & 43851043 & 1.749110e+11\\\\\n",
       "\t3 & Angola    & AGO &  6058.792 & 32866268 & 7.779294e+10\\\\\n",
       "\t4 & Argentina & ARG & 22430.227 & 45376763 & 5.248200e+11\\\\\n",
       "\t5 & Australia & AUS & 67373.945 & 25687041 & 1.428530e+12\\\\\n",
       "\t6 & Austria   & AUT & 47115.410 &  8917205 & 4.551680e+11\\\\\n",
       "\\end{tabular}\n"
      ],
      "text/markdown": [
       "\n",
       "A data.frame: 6 × 5\n",
       "\n",
       "| <!--/--> | country_name &lt;chr&gt; | country_code &lt;chr&gt; | energy_use &lt;dbl&gt; | pop &lt;int&gt; | gdp &lt;dbl&gt; |\n",
       "|---|---|---|---|---|---|\n",
       "| 1 | Albania   | ALB |  8480.065 |  2837743 | 1.515643e+10 |\n",
       "| 2 | Algeria   | DZA | 12958.346 | 43851043 | 1.749110e+11 |\n",
       "| 3 | Angola    | AGO |  6058.792 | 32866268 | 7.779294e+10 |\n",
       "| 4 | Argentina | ARG | 22430.227 | 45376763 | 5.248200e+11 |\n",
       "| 5 | Australia | AUS | 67373.945 | 25687041 | 1.428530e+12 |\n",
       "| 6 | Austria   | AUT | 47115.410 |  8917205 | 4.551680e+11 |\n",
       "\n"
      ],
      "text/plain": [
       "  country_name country_code energy_use pop      gdp         \n",
       "1 Albania      ALB           8480.065   2837743 1.515643e+10\n",
       "2 Algeria      DZA          12958.346  43851043 1.749110e+11\n",
       "3 Angola       AGO           6058.792  32866268 7.779294e+10\n",
       "4 Argentina    ARG          22430.227  45376763 5.248200e+11\n",
       "5 Australia    AUS          67373.945  25687041 1.428530e+12\n",
       "6 Austria      AUT          47115.410   8917205 4.551680e+11"
      ]
     },
     "metadata": {},
     "output_type": "display_data"
    }
   ],
   "source": [
    "# View first few lines of data\n",
    "head(energy)"
   ]
  },
  {
   "cell_type": "markdown",
   "metadata": {},
   "source": [
    "**(a)** Create two new variables, GDP (\\$) per capita and energy use (KT oil equivalent) per capita.\n",
    "\n",
    "*Hint: Use the* `mutate` *function (you will have to load* `tidyverse` *first).* \n"
   ]
  },
  {
   "cell_type": "code",
   "execution_count": 10,
   "metadata": {},
   "outputs": [
    {
     "data": {
      "text/html": [
       "<table class=\"dataframe\">\n",
       "<caption>A data.frame: 6 × 7</caption>\n",
       "<thead>\n",
       "\t<tr><th></th><th scope=col>country_name</th><th scope=col>country_code</th><th scope=col>energy_use</th><th scope=col>pop</th><th scope=col>gdp</th><th scope=col>gdp_per_capita</th><th scope=col>energy_per_capita</th></tr>\n",
       "\t<tr><th></th><th scope=col>&lt;chr&gt;</th><th scope=col>&lt;chr&gt;</th><th scope=col>&lt;dbl&gt;</th><th scope=col>&lt;int&gt;</th><th scope=col>&lt;dbl&gt;</th><th scope=col>&lt;dbl&gt;</th><th scope=col>&lt;dbl&gt;</th></tr>\n",
       "</thead>\n",
       "<tbody>\n",
       "\t<tr><th scope=row>1</th><td>Albania  </td><td>ALB</td><td> 8480.065</td><td> 2837743</td><td>1.515643e+10</td><td> 5341.017</td><td>0.0029883134</td></tr>\n",
       "\t<tr><th scope=row>2</th><td>Algeria  </td><td>DZA</td><td>12958.346</td><td>43851043</td><td>1.749110e+11</td><td> 3988.753</td><td>0.0002955083</td></tr>\n",
       "\t<tr><th scope=row>3</th><td>Angola   </td><td>AGO</td><td> 6058.792</td><td>32866268</td><td>7.779294e+10</td><td> 2366.954</td><td>0.0001843468</td></tr>\n",
       "\t<tr><th scope=row>4</th><td>Argentina</td><td>ARG</td><td>22430.227</td><td>45376763</td><td>5.248200e+11</td><td>11565.832</td><td>0.0004943109</td></tr>\n",
       "\t<tr><th scope=row>5</th><td>Australia</td><td>AUS</td><td>67373.945</td><td>25687041</td><td>1.428530e+12</td><td>55612.867</td><td>0.0026228768</td></tr>\n",
       "\t<tr><th scope=row>6</th><td>Austria  </td><td>AUT</td><td>47115.410</td><td> 8917205</td><td>4.551680e+11</td><td>51043.797</td><td>0.0052836522</td></tr>\n",
       "</tbody>\n",
       "</table>\n"
      ],
      "text/latex": [
       "A data.frame: 6 × 7\n",
       "\\begin{tabular}{r|lllllll}\n",
       "  & country\\_name & country\\_code & energy\\_use & pop & gdp & gdp\\_per\\_capita & energy\\_per\\_capita\\\\\n",
       "  & <chr> & <chr> & <dbl> & <int> & <dbl> & <dbl> & <dbl>\\\\\n",
       "\\hline\n",
       "\t1 & Albania   & ALB &  8480.065 &  2837743 & 1.515643e+10 &  5341.017 & 0.0029883134\\\\\n",
       "\t2 & Algeria   & DZA & 12958.346 & 43851043 & 1.749110e+11 &  3988.753 & 0.0002955083\\\\\n",
       "\t3 & Angola    & AGO &  6058.792 & 32866268 & 7.779294e+10 &  2366.954 & 0.0001843468\\\\\n",
       "\t4 & Argentina & ARG & 22430.227 & 45376763 & 5.248200e+11 & 11565.832 & 0.0004943109\\\\\n",
       "\t5 & Australia & AUS & 67373.945 & 25687041 & 1.428530e+12 & 55612.867 & 0.0026228768\\\\\n",
       "\t6 & Austria   & AUT & 47115.410 &  8917205 & 4.551680e+11 & 51043.797 & 0.0052836522\\\\\n",
       "\\end{tabular}\n"
      ],
      "text/markdown": [
       "\n",
       "A data.frame: 6 × 7\n",
       "\n",
       "| <!--/--> | country_name &lt;chr&gt; | country_code &lt;chr&gt; | energy_use &lt;dbl&gt; | pop &lt;int&gt; | gdp &lt;dbl&gt; | gdp_per_capita &lt;dbl&gt; | energy_per_capita &lt;dbl&gt; |\n",
       "|---|---|---|---|---|---|---|---|\n",
       "| 1 | Albania   | ALB |  8480.065 |  2837743 | 1.515643e+10 |  5341.017 | 0.0029883134 |\n",
       "| 2 | Algeria   | DZA | 12958.346 | 43851043 | 1.749110e+11 |  3988.753 | 0.0002955083 |\n",
       "| 3 | Angola    | AGO |  6058.792 | 32866268 | 7.779294e+10 |  2366.954 | 0.0001843468 |\n",
       "| 4 | Argentina | ARG | 22430.227 | 45376763 | 5.248200e+11 | 11565.832 | 0.0004943109 |\n",
       "| 5 | Australia | AUS | 67373.945 | 25687041 | 1.428530e+12 | 55612.867 | 0.0026228768 |\n",
       "| 6 | Austria   | AUT | 47115.410 |  8917205 | 4.551680e+11 | 51043.797 | 0.0052836522 |\n",
       "\n"
      ],
      "text/plain": [
       "  country_name country_code energy_use pop      gdp          gdp_per_capita\n",
       "1 Albania      ALB           8480.065   2837743 1.515643e+10  5341.017     \n",
       "2 Algeria      DZA          12958.346  43851043 1.749110e+11  3988.753     \n",
       "3 Angola       AGO           6058.792  32866268 7.779294e+10  2366.954     \n",
       "4 Argentina    ARG          22430.227  45376763 5.248200e+11 11565.832     \n",
       "5 Australia    AUS          67373.945  25687041 1.428530e+12 55612.867     \n",
       "6 Austria      AUT          47115.410   8917205 4.551680e+11 51043.797     \n",
       "  energy_per_capita\n",
       "1 0.0029883134     \n",
       "2 0.0002955083     \n",
       "3 0.0001843468     \n",
       "4 0.0004943109     \n",
       "5 0.0026228768     \n",
       "6 0.0052836522     "
      ]
     },
     "metadata": {},
     "output_type": "display_data"
    }
   ],
   "source": [
    "# Load tidyverse\n",
    "library(tidyverse)\n",
    "# Generate per capita variables\n",
    "gdp_energy <- mutate(energy,gdp_per_capita = energy$gdp / energy$pop)\n",
    "both_energy <- mutate(gdp_energy, energy_per_capita = energy$energy_use / energy$pop)\n",
    "head(both_energy)"
   ]
  },
  {
   "cell_type": "markdown",
   "metadata": {},
   "source": [
    "**(b)** Generate a scatter plot comparing energy use per capita (on the y-axis) to GDP per capita (on the x-axis) for the countries in your sample. *Hint: Use the* `plot` *function.*"
   ]
  },
  {
   "cell_type": "code",
   "execution_count": 4,
   "metadata": {},
   "outputs": [
    {
     "data": {
      "image/png": "[encoded data removed]",
      "text/plain": [
       "Plot with title “GDP vs. Energy_use”"
      ]
     },
     "metadata": {
      "image/png": {
       "height": 420,
       "width": 420
      }
     },
     "output_type": "display_data"
    }
   ],
   "source": [
    "# Simple scatterplot\n",
    "plot(both_energy$gdp_per_capita, both_energy$energy_per_capita, # x-axis first, y-axis second\n",
    "    main = \"GDP vs. Energy_use\",\n",
    "    xlab = \"GDP\",\n",
    "    ylab = \"Energy_use\") # don't forget the last parenthesis!"
   ]
  },
  {
   "cell_type": "markdown",
   "metadata": {},
   "source": [
    "**(c)** Calculate the sample mean of GDP per capita, sample mean of energy per capita,\n",
    "covariance of GDP per capita and energy use per capita, and variance of GDP per\n",
    "capita.\n",
    "\n",
    "*Hint: The functions `sum()` and `nrow()` will be useful. Create a vector by writing `c(object1, object2, object3,...)`."
   ]
  },
  {
   "cell_type": "code",
   "execution_count": 5,
   "metadata": {},
   "outputs": [
    {
     "data": {
      "text/html": [
       "<table class=\"dataframe\">\n",
       "<caption>A data.frame: 6 × 11</caption>\n",
       "<thead>\n",
       "\t<tr><th></th><th scope=col>country_name</th><th scope=col>country_code</th><th scope=col>energy_use</th><th scope=col>pop</th><th scope=col>gdp</th><th scope=col>gdp_per_capita</th><th scope=col>energy_per_capita</th><th scope=col>residual_energy</th><th scope=col>residual_gdp</th><th scope=col>x1</th><th scope=col>y1</th></tr>\n",
       "\t<tr><th></th><th scope=col>&lt;chr&gt;</th><th scope=col>&lt;chr&gt;</th><th scope=col>&lt;dbl&gt;</th><th scope=col>&lt;int&gt;</th><th scope=col>&lt;dbl&gt;</th><th scope=col>&lt;dbl&gt;</th><th scope=col>&lt;dbl&gt;</th><th scope=col>&lt;dbl&gt;</th><th scope=col>&lt;dbl&gt;</th><th scope=col>&lt;dbl&gt;</th><th scope=col>&lt;dbl&gt;</th></tr>\n",
       "</thead>\n",
       "<tbody>\n",
       "\t<tr><th scope=row>1</th><td>Albania  </td><td>ALB</td><td> 8480.065</td><td> 2837743</td><td>1.515643e+10</td><td> 5341.017</td><td>0.0029883134</td><td>-0.003417004</td><td> -8824.103</td><td> -8824.103</td><td>-0.003417004</td></tr>\n",
       "\t<tr><th scope=row>2</th><td>Algeria  </td><td>DZA</td><td>12958.346</td><td>43851043</td><td>1.749110e+11</td><td> 3988.753</td><td>0.0002955083</td><td>-0.006109809</td><td>-10176.366</td><td>-10176.366</td><td>-0.006109809</td></tr>\n",
       "\t<tr><th scope=row>3</th><td>Angola   </td><td>AGO</td><td> 6058.792</td><td>32866268</td><td>7.779294e+10</td><td> 2366.954</td><td>0.0001843468</td><td>-0.006220970</td><td>-11798.166</td><td>-11798.166</td><td>-0.006220970</td></tr>\n",
       "\t<tr><th scope=row>4</th><td>Argentina</td><td>ARG</td><td>22430.227</td><td>45376763</td><td>5.248200e+11</td><td>11565.832</td><td>0.0004943109</td><td>-0.005911006</td><td> -2599.288</td><td> -2599.288</td><td>-0.005911006</td></tr>\n",
       "\t<tr><th scope=row>5</th><td>Australia</td><td>AUS</td><td>67373.945</td><td>25687041</td><td>1.428530e+12</td><td>55612.867</td><td>0.0026228768</td><td>-0.003782440</td><td> 41447.747</td><td> 41447.747</td><td>-0.003782440</td></tr>\n",
       "\t<tr><th scope=row>6</th><td>Austria  </td><td>AUT</td><td>47115.410</td><td> 8917205</td><td>4.551680e+11</td><td>51043.797</td><td>0.0052836522</td><td>-0.001121665</td><td> 36878.677</td><td> 36878.677</td><td>-0.001121665</td></tr>\n",
       "</tbody>\n",
       "</table>\n"
      ],
      "text/latex": [
       "A data.frame: 6 × 11\n",
       "\\begin{tabular}{r|lllllllllll}\n",
       "  & country\\_name & country\\_code & energy\\_use & pop & gdp & gdp\\_per\\_capita & energy\\_per\\_capita & residual\\_energy & residual\\_gdp & x1 & y1\\\\\n",
       "  & <chr> & <chr> & <dbl> & <int> & <dbl> & <dbl> & <dbl> & <dbl> & <dbl> & <dbl> & <dbl>\\\\\n",
       "\\hline\n",
       "\t1 & Albania   & ALB &  8480.065 &  2837743 & 1.515643e+10 &  5341.017 & 0.0029883134 & -0.003417004 &  -8824.103 &  -8824.103 & -0.003417004\\\\\n",
       "\t2 & Algeria   & DZA & 12958.346 & 43851043 & 1.749110e+11 &  3988.753 & 0.0002955083 & -0.006109809 & -10176.366 & -10176.366 & -0.006109809\\\\\n",
       "\t3 & Angola    & AGO &  6058.792 & 32866268 & 7.779294e+10 &  2366.954 & 0.0001843468 & -0.006220970 & -11798.166 & -11798.166 & -0.006220970\\\\\n",
       "\t4 & Argentina & ARG & 22430.227 & 45376763 & 5.248200e+11 & 11565.832 & 0.0004943109 & -0.005911006 &  -2599.288 &  -2599.288 & -0.005911006\\\\\n",
       "\t5 & Australia & AUS & 67373.945 & 25687041 & 1.428530e+12 & 55612.867 & 0.0026228768 & -0.003782440 &  41447.747 &  41447.747 & -0.003782440\\\\\n",
       "\t6 & Austria   & AUT & 47115.410 &  8917205 & 4.551680e+11 & 51043.797 & 0.0052836522 & -0.001121665 &  36878.677 &  36878.677 & -0.001121665\\\\\n",
       "\\end{tabular}\n"
      ],
      "text/markdown": [
       "\n",
       "A data.frame: 6 × 11\n",
       "\n",
       "| <!--/--> | country_name &lt;chr&gt; | country_code &lt;chr&gt; | energy_use &lt;dbl&gt; | pop &lt;int&gt; | gdp &lt;dbl&gt; | gdp_per_capita &lt;dbl&gt; | energy_per_capita &lt;dbl&gt; | residual_energy &lt;dbl&gt; | residual_gdp &lt;dbl&gt; | x1 &lt;dbl&gt; | y1 &lt;dbl&gt; |\n",
       "|---|---|---|---|---|---|---|---|---|---|---|---|\n",
       "| 1 | Albania   | ALB |  8480.065 |  2837743 | 1.515643e+10 |  5341.017 | 0.0029883134 | -0.003417004 |  -8824.103 |  -8824.103 | -0.003417004 |\n",
       "| 2 | Algeria   | DZA | 12958.346 | 43851043 | 1.749110e+11 |  3988.753 | 0.0002955083 | -0.006109809 | -10176.366 | -10176.366 | -0.006109809 |\n",
       "| 3 | Angola    | AGO |  6058.792 | 32866268 | 7.779294e+10 |  2366.954 | 0.0001843468 | -0.006220970 | -11798.166 | -11798.166 | -0.006220970 |\n",
       "| 4 | Argentina | ARG | 22430.227 | 45376763 | 5.248200e+11 | 11565.832 | 0.0004943109 | -0.005911006 |  -2599.288 |  -2599.288 | -0.005911006 |\n",
       "| 5 | Australia | AUS | 67373.945 | 25687041 | 1.428530e+12 | 55612.867 | 0.0026228768 | -0.003782440 |  41447.747 |  41447.747 | -0.003782440 |\n",
       "| 6 | Austria   | AUT | 47115.410 |  8917205 | 4.551680e+11 | 51043.797 | 0.0052836522 | -0.001121665 |  36878.677 |  36878.677 | -0.001121665 |\n",
       "\n"
      ],
      "text/plain": [
       "  country_name country_code energy_use pop      gdp          gdp_per_capita\n",
       "1 Albania      ALB           8480.065   2837743 1.515643e+10  5341.017     \n",
       "2 Algeria      DZA          12958.346  43851043 1.749110e+11  3988.753     \n",
       "3 Angola       AGO           6058.792  32866268 7.779294e+10  2366.954     \n",
       "4 Argentina    ARG          22430.227  45376763 5.248200e+11 11565.832     \n",
       "5 Australia    AUS          67373.945  25687041 1.428530e+12 55612.867     \n",
       "6 Austria      AUT          47115.410   8917205 4.551680e+11 51043.797     \n",
       "  energy_per_capita residual_energy residual_gdp x1         y1          \n",
       "1 0.0029883134      -0.003417004     -8824.103    -8824.103 -0.003417004\n",
       "2 0.0002955083      -0.006109809    -10176.366   -10176.366 -0.006109809\n",
       "3 0.0001843468      -0.006220970    -11798.166   -11798.166 -0.006220970\n",
       "4 0.0004943109      -0.005911006     -2599.288    -2599.288 -0.005911006\n",
       "5 0.0026228768      -0.003782440     41447.747    41447.747 -0.003782440\n",
       "6 0.0052836522      -0.001121665     36878.677    36878.677 -0.001121665"
      ]
     },
     "metadata": {},
     "output_type": "display_data"
    },
    {
     "data": {
      "text/html": [
       "<style>\n",
       ".list-inline {list-style: none; margin:0; padding: 0}\n",
       ".list-inline>li {display: inline-block}\n",
       ".list-inline>li:not(:last-child)::after {content: \"\\00b7\"; padding: 0 .5ex}\n",
       "</style>\n",
       "<ol class=list-inline><li>14165.1197998428</li><li>0.00640531713862702</li><li>494887412.824366</li><li>298.168479950985</li></ol>\n"
      ],
      "text/latex": [
       "\\begin{enumerate*}\n",
       "\\item 14165.1197998428\n",
       "\\item 0.00640531713862702\n",
       "\\item 494887412.824366\n",
       "\\item 298.168479950985\n",
       "\\end{enumerate*}\n"
      ],
      "text/markdown": [
       "1. 14165.1197998428\n",
       "2. 0.00640531713862702\n",
       "3. 494887412.824366\n",
       "4. 298.168479950985\n",
       "\n",
       "\n"
      ],
      "text/plain": [
       "[1] 1.416512e+04 6.405317e-03 4.948874e+08 2.981685e+02"
      ]
     },
     "metadata": {},
     "output_type": "display_data"
    }
   ],
   "source": [
    "# Save means as new objects\n",
    "gdp_mean = (sum(both_energy$gdp_per_capita)/nrow(both_energy))\n",
    "energy_mean = (sum(both_energy$energy_per_capita)/nrow(both_energy)) \n",
    "\n",
    "# Create new columns with residuals (x_i-\\bar{x}) and (y_i-\\bar{y}) as part of your data \n",
    "both_energy2 <- mutate(both_energy, residual_energy = both_energy$energy_per_capita - energy_mean)\n",
    "both_energy3 <- mutate(both_energy2, residual_gdp = both_energy2$gdp_per_capita - gdp_mean)\n",
    "\n",
    "# Create new columns with the elements you need to calculate the covariance and variance, based on the residuals\n",
    "both_energy4 <- mutate(both_energy3, x1 = both_energy3$residual_gdp)\n",
    "both_energy5 <- mutate(both_energy4, y1 = both_energy3$residual_energy)\n",
    "head(both_energy5)\n",
    "x1 = both_energy3$residual_gdp\n",
    "y1 = both_energy3$residual_energy\n",
    "#resi_corvaince = sum(both_energy5&x1)\n",
    "resi_corvaince = sum((x1)*(y1))/ (nrow(both_energy)-1)\n",
    "resi_variance_x1 = sum((x1)^2)/(nrow(both_energy)-1)\n",
    "resi_variance_y1 = sum((y1)^2)/(nrow(both_energy)-1)\n",
    "\n",
    "# Save the covariance and variance as new objects by summing over the relevant variables and dividing by n-1.\n",
    "x = both_energy3$gdp_per_capita\n",
    "y = both_energy3$energy_per_capita\n",
    "covariance_var = sum((x - gdp_mean)*(y - energy_mean))/ (nrow(both_energy)-1)\n",
    "variance_var_x = sum((x-gdp_mean)^2)/(nrow(both_energy)-1)\n",
    "variance_var_y = sum((y-energy_mean)^2)/(nrow(both_energy)-1)\n",
    "\n",
    "# Display results, using a vector with four elements ### GDP per capita only\n",
    "c(gdp_mean,energy_mean,variance_var_x,covariance_var)"
   ]
  },
  {
   "cell_type": "markdown",
   "metadata": {},
   "source": [
    "**(d)** Suppose $y_i$ is energy use per capita in country $i$ and $x_i$ is GDP per capita in country $i$. Suppose your statistical model is $$y_i=\\beta_0+\\beta_1x_i+u_i.$$ Estimate $\\hat{\\beta}_0$ and $\\hat{\\beta}_1$ using your results in part **(c)**. "
   ]
  },
  {
   "cell_type": "code",
   "execution_count": 7,
   "metadata": {},
   "outputs": [
    {
     "data": {
      "text/html": [
       "<style>\n",
       ".list-inline {list-style: none; margin:0; padding: 0}\n",
       ".list-inline>li {display: inline-block}\n",
       ".list-inline>li:not(:last-child)::after {content: \"\\00b7\"; padding: 0 .5ex}\n",
       "</style>\n",
       "<ol class=list-inline><li>-0.00212913358611119</li><li>6.02497602938235e-07</li></ol>\n"
      ],
      "text/latex": [
       "\\begin{enumerate*}\n",
       "\\item -0.00212913358611119\n",
       "\\item 6.02497602938235e-07\n",
       "\\end{enumerate*}\n"
      ],
      "text/markdown": [
       "1. -0.00212913358611119\n",
       "2. 6.02497602938235e-07\n",
       "\n",
       "\n"
      ],
      "text/plain": [
       "[1] -2.129134e-03  6.024976e-07"
      ]
     },
     "metadata": {},
     "output_type": "display_data"
    }
   ],
   "source": [
    "# Solve for \\hat\\beta_1 and \\hat\\beta_0 and save these objects\n",
    "beta1 = covariance_var/variance_var_x\n",
    "beta0 = energy_mean - beta1*(gdp_mean)\n",
    "# Display results as a vector\n",
    "beta_results <- c(beta0,beta1)\n",
    "beta_results"
   ]
  },
  {
   "cell_type": "markdown",
   "metadata": {},
   "source": [
    "**(e)** Plot a line which indicates the predictions from your estimated model, $$\\hat{y}_i=\\hat{\\beta}_0+\\hat{\\beta}_1x_i.$$ *Hint: use the* `curve` and `points` *functions.*"
   ]
  },
  {
   "cell_type": "code",
   "execution_count": 8,
   "metadata": {},
   "outputs": [
    {
     "data": {
      "image/png": "[encoded data removed]",
      "text/plain": [
       "Plot with title “GDP vs. Energy_use”"
      ]
     },
     "metadata": {
      "image/png": {
       "height": 420,
       "width": 420
      }
     },
     "output_type": "display_data"
    }
   ],
   "source": [
    "# Overlay with data points\n",
    "plot(both_energy$gdp_per_capita, both_energy$energy_per_capita, # x-axis first, y-axis second\n",
    "    main = \"GDP vs. Energy_use\",\n",
    "    xlab = \"GDP\",\n",
    "    ylab = \"Energy_use\")\n",
    "# Plot the line\n",
    "abline(beta0,beta1,col = 'pink',lwd = 3.5)"
   ]
  },
  {
   "cell_type": "markdown",
   "metadata": {},
   "source": [
    "**(f)** Interpret your estimates $\\hat{\\beta}_0$ and $\\hat{\\beta}_1$."
   ]
  },
  {
   "cell_type": "markdown",
   "metadata": {},
   "source": [
    "Some inrcease in GDP, will increase in energy. Since its a positive slope, this means increase in GDP is an increase in energy usage. Beta0 is meaningless, its because the low are to low and the high one is too high for the predicted model to predict them. One, you don't have enough data for the bottom to estimate it correctly.  "
   ]
  },
  {
   "cell_type": "markdown",
   "metadata": {},
   "source": [
    "## Part 2.\n",
    "Suppose you estimate a weekly wage equation which suggests \n",
    "\n",
    "$$ \\log(wage_i)= 4.54 + .056*Ed_i+u_i$$ \n",
    "\n",
    "where $Ed_i$ is the number of years of education completed by person $i$. \n",
    "\n",
    "**(a)** Predict the wage for a person with 12 years of education (that is a person who completes high school)."
   ]
  },
  {
   "cell_type": "code",
   "execution_count": 9,
   "metadata": {},
   "outputs": [
    {
     "data": {
      "text/html": [
       "183.460612742469"
      ],
      "text/latex": [
       "183.460612742469"
      ],
      "text/markdown": [
       "183.460612742469"
      ],
      "text/plain": [
       "[1] 183.4606"
      ]
     },
     "metadata": {},
     "output_type": "display_data"
    }
   ],
   "source": [
    "exp(4.54 + .056*(12)) \n",
    "## The predicted wage for a person with 12 year of education is $183.46 weekly wage"
   ]
  },
  {
   "cell_type": "markdown",
   "metadata": {},
   "source": [
    "**(b)** Interpret your estimated $\\beta_1=$0.056."
   ]
  },
  {
   "cell_type": "markdown",
   "metadata": {},
   "source": [
    "Sign: From the sign the model of beta1 predicts increase in education is increase in wage. The rate of increase of education, the wage will increase by 0.056. In this model the current change is 5.6% of each year of education that you attain.\n",
    "\n",
    "Size: If the size of this variable to increase, this would increase wage by that much. Yes, this would have economically effect, because its 5.6% increase of wage every year of education, which is a lot in term of economics. "
   ]
  },
  {
   "cell_type": "markdown",
   "metadata": {},
   "source": [
    " "
   ]
  }
 ],
 "metadata": {
  "kernelspec": {
   "display_name": "R",
   "language": "R",
   "name": "ir"
  },
  "language_info": {
   "codemirror_mode": "r",
   "file_extension": ".r",
   "mimetype": "text/x-r-source",
   "name": "R",
   "pygments_lexer": "r",
   "version": "4.2.1"
  }
 },
 "nbformat": 4,
 "nbformat_minor": 4
}

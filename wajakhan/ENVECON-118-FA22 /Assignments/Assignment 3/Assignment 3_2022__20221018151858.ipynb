{
 "cells": [
  {
   "cell_type": "markdown",
   "metadata": {},
   "source": [
    "# Assignment 3 - Due Friday, October 21 at 11:59 PM\n",
    "\n",
    "## Background\n",
    "\n",
    "The data for this exercise were used in Ebonya Washington's paper: \"Female Socialization: How Daughters Affect Their Legislator Fathers' Voting on Women's Issues.\"  published in the American Economic Review in 2008. The paper asks whether having daughters influences the voting behavior of members of the US Congress. The hypothesis is that having (more) daughters makes legislators more likely to vote liberally (in terms of political alignment, and in contrast to conservatively) on issues concerning women.\n",
    "\n",
    "For this exercise, we will focus on votes that took place in the 108th Congress, which held session in 2003/04. As a measure of a liberal voting record, we use scores assigned by the American Association of University Women (AAUW), a liberal group that concerns itself with issues of interest to women. For the 108th Congress, the AAUW selected 9 pieces of legislation in the areas of education, equality and reproductive rights. The AAUW then assigned a score to each member of Congress. The scores range from 0 to 100 and measure the percentage of times the legislator voted in favor of the position held by the AAUW.\n",
    "\n",
    " The dataset `legislators.dta` contains the following characteristics for a random sample of 386 members of the 108th Congress:\n",
    " \n",
    " * $ngirls$ number of daughters\n",
    " * $totchi$ total number of children\n",
    " * $age$ age\n",
    " * $female$ indicator for being female\n",
    " * $repub$ indicator for being a Republican\n",
    " * $moredef$ proportion of people in the legislator's district who are in favor of \"more spending on defense\" \n",
    " * $aauw$ AAUW score\n",
    " \n",
    "(For the purposes of this exercise, you can assume all members of the 108th Congress were either Democrats or Republicans and were either male or female.) "
   ]
  },
  {
   "cell_type": "markdown",
   "metadata": {},
   "source": [
    "### (a) Estimate and report results for the following regression models:\n",
    "\n",
    "Load in the data set `legislators.dta`. Remember, you will first need to call the `haven` package to do so.\n",
    "\n",
    "Generate a variable `ngirls2` $=\\text{ngirls}^2$\n",
    "\n",
    "Generate an interaction variable `repubngirls` $= \\text{repub}*\\text{ngirls}$\n",
    "\n",
    "Generate an interaction variable `repubngirls2` $=\\text{repub}*\\text{ngirls2}$\n",
    "\n",
    "Estimate the following three regression models, save the output as reg1, reg2, and reg3, and show the results of each using `summary()`:\n",
    "\n",
    "\\begin{align}\n",
    "aauw&=\\beta_0 +\\beta_1female+\\beta_2repub+\\beta_3ngirls+u  ~~~~~~~~~~~~~~~~~~~~~~~~~~~~~~~~~~~~~~~~~~~~~~~~~~~~~~~~~~~~~~~~ (1) \\\\\n",
    "aauw&=\\beta_0 +\\beta_1female+\\beta_2repub+\\beta_3ngirls+\\beta_4 ngirls2+ \\beta_5 totchi + u ~~~~~~~~~~~~~~~~~~~~~~~~~~~~~~~~~~~~~~~~~~~~~~~(2)  \\\\\n",
    "aauw&=\\beta_0 + \\beta_1female+\\beta_2repub+\\beta_3ngirls+\\beta_4 ngirls2+\\beta_5 repubngirls+\\beta_6 repubngirls2+\\beta_7 totchi + \\beta_8 moredef + u\\ \\ \\ (3) \n",
    "\\end{align}\n",
    "\n",
    "*(Note: this method of generating interaction variables (multiplying them together) is appropriate when one of the interacted variables is a dummy variable, but may not be appropriate in all cases.)*"
   ]
  },
  {
   "cell_type": "code",
   "execution_count": 3,
   "metadata": {
    "scrolled": true
   },
   "outputs": [
    {
     "data": {
      "text/html": [
       "<table class=\"dataframe\">\n",
       "<caption>A tibble: 6 × 7</caption>\n",
       "<thead>\n",
       "\t<tr><th scope=col>ngirls</th><th scope=col>totchi</th><th scope=col>repub</th><th scope=col>female</th><th scope=col>age</th><th scope=col>moredef</th><th scope=col>aauw</th></tr>\n",
       "\t<tr><th scope=col>&lt;dbl&gt;</th><th scope=col>&lt;dbl&gt;</th><th scope=col>&lt;dbl&gt;</th><th scope=col>&lt;dbl&gt;</th><th scope=col>&lt;dbl&gt;</th><th scope=col>&lt;dbl&gt;</th><th scope=col>&lt;dbl&gt;</th></tr>\n",
       "</thead>\n",
       "<tbody>\n",
       "\t<tr><td>1</td><td>3</td><td>0</td><td>0</td><td>60</td><td>17.09234</td><td> 75</td></tr>\n",
       "\t<tr><td>1</td><td>1</td><td>1</td><td>0</td><td>37</td><td>31.40097</td><td>  0</td></tr>\n",
       "\t<tr><td>2</td><td>6</td><td>1</td><td>0</td><td>55</td><td>23.44828</td><td>  0</td></tr>\n",
       "\t<tr><td>2</td><td>2</td><td>0</td><td>0</td><td>45</td><td>16.47510</td><td>100</td></tr>\n",
       "\t<tr><td>2</td><td>4</td><td>0</td><td>0</td><td>55</td><td>23.11688</td><td>100</td></tr>\n",
       "\t<tr><td>2</td><td>5</td><td>1</td><td>0</td><td>55</td><td>31.40097</td><td>  0</td></tr>\n",
       "</tbody>\n",
       "</table>\n"
      ],
      "text/latex": [
       "A tibble: 6 × 7\n",
       "\\begin{tabular}{lllllll}\n",
       " ngirls & totchi & repub & female & age & moredef & aauw\\\\\n",
       " <dbl> & <dbl> & <dbl> & <dbl> & <dbl> & <dbl> & <dbl>\\\\\n",
       "\\hline\n",
       "\t 1 & 3 & 0 & 0 & 60 & 17.09234 &  75\\\\\n",
       "\t 1 & 1 & 1 & 0 & 37 & 31.40097 &   0\\\\\n",
       "\t 2 & 6 & 1 & 0 & 55 & 23.44828 &   0\\\\\n",
       "\t 2 & 2 & 0 & 0 & 45 & 16.47510 & 100\\\\\n",
       "\t 2 & 4 & 0 & 0 & 55 & 23.11688 & 100\\\\\n",
       "\t 2 & 5 & 1 & 0 & 55 & 31.40097 &   0\\\\\n",
       "\\end{tabular}\n"
      ],
      "text/markdown": [
       "\n",
       "A tibble: 6 × 7\n",
       "\n",
       "| ngirls &lt;dbl&gt; | totchi &lt;dbl&gt; | repub &lt;dbl&gt; | female &lt;dbl&gt; | age &lt;dbl&gt; | moredef &lt;dbl&gt; | aauw &lt;dbl&gt; |\n",
       "|---|---|---|---|---|---|---|\n",
       "| 1 | 3 | 0 | 0 | 60 | 17.09234 |  75 |\n",
       "| 1 | 1 | 1 | 0 | 37 | 31.40097 |   0 |\n",
       "| 2 | 6 | 1 | 0 | 55 | 23.44828 |   0 |\n",
       "| 2 | 2 | 0 | 0 | 45 | 16.47510 | 100 |\n",
       "| 2 | 4 | 0 | 0 | 55 | 23.11688 | 100 |\n",
       "| 2 | 5 | 1 | 0 | 55 | 31.40097 |   0 |\n",
       "\n"
      ],
      "text/plain": [
       "  ngirls totchi repub female age moredef  aauw\n",
       "1 1      3      0     0      60  17.09234  75 \n",
       "2 1      1      1     0      37  31.40097   0 \n",
       "3 2      6      1     0      55  23.44828   0 \n",
       "4 2      2      0     0      45  16.47510 100 \n",
       "5 2      4      0     0      55  23.11688 100 \n",
       "6 2      5      1     0      55  31.40097   0 "
      ]
     },
     "metadata": {},
     "output_type": "display_data"
    }
   ],
   "source": [
    "library(haven) \n",
    "library(tidyverse)\n",
    "\n",
    "data <- read_dta('legislators.dta') \n",
    "head(data)\n",
    "\n",
    "#creating variable ngirls2\n",
    "data <-mutate(data, ngirls2=ngirls^2)\n",
    "#creating variable repubngirls\n",
    "data <-mutate(data,repubngirl=repub*ngirls)\n",
    "#creating variable repubngirls2\n",
    "data <-mutate(data, repubngirls2=repub*ngirls2)"
   ]
  },
  {
   "cell_type": "code",
   "execution_count": 4,
   "metadata": {},
   "outputs": [
    {
     "data": {
      "text/plain": [
       "\n",
       "Call:\n",
       "lm(formula = aauw ~ female + repub + ngirls, data = data)\n",
       "\n",
       "Residuals:\n",
       "    Min      1Q  Median      3Q     Max \n",
       "-86.215  -6.668  -5.976  13.439  56.024 \n",
       "\n",
       "Coefficients:\n",
       "            Estimate Std. Error t value Pr(>|t|)    \n",
       "(Intercept)  86.5608     1.6251  53.266  < 2e-16 ***\n",
       "female       11.4167     2.8473   4.010 7.31e-05 ***\n",
       "repub       -79.5468     1.7993 -44.210  < 2e-16 ***\n",
       "ngirls       -0.3460     0.7894  -0.438    0.661    \n",
       "---\n",
       "Signif. codes:  0 ‘***’ 0.001 ‘**’ 0.01 ‘*’ 0.05 ‘.’ 0.1 ‘ ’ 1\n",
       "\n",
       "Residual standard error: 17.4 on 382 degrees of freedom\n",
       "Multiple R-squared:  0.8449,\tAdjusted R-squared:  0.8437 \n",
       "F-statistic: 693.9 on 3 and 382 DF,  p-value: < 2.2e-16\n"
      ]
     },
     "metadata": {},
     "output_type": "display_data"
    },
    {
     "data": {
      "text/plain": [
       "\n",
       "Call:\n",
       "lm(formula = aauw ~ female + repub + ngirls + ngirls2 + totchi, \n",
       "    data = data)\n",
       "\n",
       "Residuals:\n",
       "    Min      1Q  Median      3Q     Max \n",
       "-88.508  -7.606  -1.361  11.839  54.859 \n",
       "\n",
       "Coefficients:\n",
       "            Estimate Std. Error t value Pr(>|t|)    \n",
       "(Intercept)  88.1609     1.9844  44.428  < 2e-16 ***\n",
       "female       11.3457     2.8444   3.989 7.97e-05 ***\n",
       "repub       -78.8260     1.8076 -43.609  < 2e-16 ***\n",
       "ngirls        2.6152     1.7157   1.524   0.1283    \n",
       "ngirls2      -0.1932     0.3217  -0.601   0.5485    \n",
       "totchi       -2.0752     0.8056  -2.576   0.0104 *  \n",
       "---\n",
       "Signif. codes:  0 ‘***’ 0.001 ‘**’ 0.01 ‘*’ 0.05 ‘.’ 0.1 ‘ ’ 1\n",
       "\n",
       "Residual standard error: 17.28 on 380 degrees of freedom\n",
       "Multiple R-squared:  0.8478,\tAdjusted R-squared:  0.8458 \n",
       "F-statistic: 423.5 on 5 and 380 DF,  p-value: < 2.2e-16\n"
      ]
     },
     "metadata": {},
     "output_type": "display_data"
    },
    {
     "data": {
      "text/plain": [
       "\n",
       "Call:\n",
       "lm(formula = aauw ~ female + repub + ngirls + ngirls2 + repubngirl + \n",
       "    repubngirls2 + totchi + moredef, data = data)\n",
       "\n",
       "Residuals:\n",
       "    Min      1Q  Median      3Q     Max \n",
       "-85.436  -7.964  -1.367  11.292  54.591 \n",
       "\n",
       "Coefficients:\n",
       "             Estimate Std. Error t value Pr(>|t|)    \n",
       "(Intercept)   95.5997     3.6777  25.995  < 2e-16 ***\n",
       "female        11.6079     2.8334   4.097 5.13e-05 ***\n",
       "repub        -79.4364     3.0424 -26.110  < 2e-16 ***\n",
       "ngirls         0.4452     3.1682   0.141   0.8883    \n",
       "ngirls2        0.5286     0.8568   0.617   0.5376    \n",
       "repubngirl     2.1281     3.6217   0.588   0.5571    \n",
       "repubngirls2  -0.7477     0.9302  -0.804   0.4220    \n",
       "totchi        -2.0364     0.8066  -2.525   0.0120 *  \n",
       "moredef       -0.3166     0.1247  -2.540   0.0115 *  \n",
       "---\n",
       "Signif. codes:  0 ‘***’ 0.001 ‘**’ 0.01 ‘*’ 0.05 ‘.’ 0.1 ‘ ’ 1\n",
       "\n",
       "Residual standard error: 17.2 on 377 degrees of freedom\n",
       "Multiple R-squared:  0.8505,\tAdjusted R-squared:  0.8474 \n",
       "F-statistic: 268.2 on 8 and 377 DF,  p-value: < 2.2e-16\n"
      ]
     },
     "metadata": {},
     "output_type": "display_data"
    }
   ],
   "source": [
    "#reg1\n",
    "reg1 <- lm(aauw~female+repub+ngirls, data=data)\n",
    "summary(reg1)\n",
    "\n",
    "#reg2\n",
    "reg2 <- lm(aauw~female+repub+ngirls + ngirls2 + totchi, data=data)\n",
    "summary(reg2)\n",
    "\n",
    "#reg3\n",
    "reg3 <- lm(aauw~female+repub+ngirls + ngirls2 + repubngirl + repubngirls2 + totchi + moredef , data=data)\n",
    "summary(reg3)"
   ]
  },
  {
   "cell_type": "markdown",
   "metadata": {},
   "source": [
    "### (b) Suggest which model is the best fit to the data. How did you determine this? (no more than 1 sentence is required)"
   ]
  },
  {
   "cell_type": "markdown",
   "metadata": {},
   "source": [
    "Model 3 has the best fit to the data because it has the highest adjusted R-Sqaured out of the three model, near 1. "
   ]
  },
  {
   "cell_type": "markdown",
   "metadata": {},
   "source": [
    "### (c) Interpret the marginal effect at the mean of the number of daughters on AAUW score in each model.\n",
    "*(Hint: Calculate the total marginal effect, using the coefficients for all terms including the number of daughters. Calculating a marginal effect at the mean involves plugging in the mean number of daughters in the sample into any estimate of the total marginal effect of the number of daughters where this effect varies by the number of daughters.)*\n",
    "\n",
    "*(Hint: Instead of typing in numbers from the regressions manually, you can call regression coefficients using summary(reg1)$coefficients[#,1] for coefficient number # starting with the intercept as number 1.)*\n",
    "\n",
    "*(Hint: In model 3, the marginal effect will differ by particular subgroups. Interpret the different effects for each subgroup.)*"
   ]
  },
  {
   "cell_type": "code",
   "execution_count": 5,
   "metadata": {},
   "outputs": [
    {
     "data": {
      "text/html": [
       "1.21502590673575"
      ],
      "text/latex": [
       "1.21502590673575"
      ],
      "text/markdown": [
       "1.21502590673575"
      ],
      "text/plain": [
       "[1] 1.215026"
      ]
     },
     "metadata": {},
     "output_type": "display_data"
    },
    {
     "data": {
      "text/html": [
       "-0.346022390451581"
      ],
      "text/latex": [
       "-0.346022390451581"
      ],
      "text/markdown": [
       "-0.346022390451581"
      ],
      "text/plain": [
       "[1] -0.3460224"
      ]
     },
     "metadata": {},
     "output_type": "display_data"
    },
    {
     "data": {
      "text/html": [
       "2.1457022456137"
      ],
      "text/latex": [
       "2.1457022456137"
      ],
      "text/markdown": [
       "2.1457022456137"
      ],
      "text/plain": [
       "[1] 2.145702"
      ]
     },
     "metadata": {},
     "output_type": "display_data"
    },
    {
     "data": {
      "text/html": [
       "1.72973734506802"
      ],
      "text/latex": [
       "1.72973734506802"
      ],
      "text/markdown": [
       "1.72973734506802"
      ],
      "text/plain": [
       "[1] 1.729737"
      ]
     },
     "metadata": {},
     "output_type": "display_data"
    },
    {
     "data": {
      "text/html": [
       "3.85785426879315"
      ],
      "text/latex": [
       "3.85785426879315"
      ],
      "text/markdown": [
       "3.85785426879315"
      ],
      "text/plain": [
       "[1] 3.857854"
      ]
     },
     "metadata": {},
     "output_type": "display_data"
    }
   ],
   "source": [
    "# confused on what this question wants --> is it simply the mean of ngirls???\n",
    "mean_daughters <- mean(data$ngirls, na.rm = TRUE)\n",
    "mean_daughters\n",
    "\n",
    "model_1 <- summary(reg1)$coefficients[4,1]  \n",
    "model_1\n",
    "\n",
    "model_2 <- (summary(reg2)$coefficients[4,1]) + (2*summary(reg2)$coefficients[5,1]*mean_daughters)\n",
    "model_2\n",
    "\n",
    "# Democractic \n",
    "model_demo_3 <- (summary(reg3)$ coefficients[4,1]) + \n",
    "           (2*summary(reg3)$coefficients[5,1] * mean_daughters)\n",
    "model_demo_3\n",
    "\n",
    "# Republicans\n",
    "model_repub_3 <- (summary(reg3)$coefficients[4,1]) + (summary(reg3)$coefficients[6,1]) + \n",
    "             (2*summary(reg3)$coefficients[5,1]* mean_daughters)\n",
    "model_repub_3"
   ]
  },
  {
   "cell_type": "markdown",
   "metadata": {},
   "source": [
    "Mode1:\n",
    "\n",
    "Model 1 tells us that for each additonal daughter you add it reduces the aauw percentage by -0.34 while holding other variables constant.\n",
    "\n",
    "Model2:\n",
    "\n",
    "Model 2 tells us that for each additional daughter added incrases the aauw percentage by 2.15 while holding other variables constant.\n",
    "\n",
    "Model 3:\n",
    "\n",
    "Model 3 tell us that for democrats for each added additional unit daughters, the aauw score increases by 1.729 holding everything else cosntant while republicans for each additional unit of daughters added gives us an increase of 3.857 while holding everything constant.\n"
   ]
  },
  {
   "cell_type": "markdown",
   "metadata": {},
   "source": [
    "### (d) Test whether there is an effect of the number of daughters on AAUW scores using the second model. Be sure to describe carefully the null and alternative hypothesis.\n",
    "*(Hint: You can access the residuals from a regression you have saved as reg by calling `reg$residuals`, and you can access the r-squared by calling `summary(reg)$r.squared`.)*"
   ]
  },
  {
   "cell_type": "markdown",
   "metadata": {},
   "source": [
    "Unrestricted Model:\n",
    "aauw~female + repub + ngirls + ngirls2 + totchi\n",
    "\n",
    "Restriticed model:\n",
    "aauw~female + repub + totchi\n",
    "\n",
    "Null hypthoesis is H0: beta3,beta4 = 0\n",
    "\n",
    "alternative hpyothesis is H1: not H0\n"
   ]
  },
  {
   "cell_type": "code",
   "execution_count": 6,
   "metadata": {},
   "outputs": [
    {
     "data": {
      "text/html": [
       "1.47735255535295"
      ],
      "text/latex": [
       "1.47735255535295"
      ],
      "text/markdown": [
       "1.47735255535295"
      ],
      "text/plain": [
       "[1] 1.477353"
      ]
     },
     "metadata": {},
     "output_type": "display_data"
    },
    {
     "data": {
      "text/html": [
       "380"
      ],
      "text/latex": [
       "380"
      ],
      "text/markdown": [
       "380"
      ],
      "text/plain": [
       "[1] 380"
      ]
     },
     "metadata": {},
     "output_type": "display_data"
    },
    {
     "data": {
      "text/html": [
       "1.47735255535288"
      ],
      "text/latex": [
       "1.47735255535288"
      ],
      "text/markdown": [
       "1.47735255535288"
      ],
      "text/plain": [
       "[1] 1.477353"
      ]
     },
     "metadata": {},
     "output_type": "display_data"
    }
   ],
   "source": [
    "restricted_model <- lm(aauw~female + repub +totchi,data=data)\n",
    "\n",
    "SSR_U <- sum(reg2$residuals^2)\n",
    "SSR_R <-sum(restricted_model$residuals^2)\n",
    "n <- nobs(reg2)\n",
    "k <- 5 ## ask the gsi what this value is. --> \n",
    "q <- 2 ## ask the gsi what this value is --> coefiencents difference between ristricted and unrestitricted\n",
    "\n",
    "top <- (SSR_R-SSR_U)/q\n",
    "bottom <- SSR_U/(n-k-1)\n",
    "f<- top / bottom\n",
    "f\n",
    "n-k-1\n",
    "\n",
    "## Alternative Formula\n",
    "R2_Ur<-summary(reg2)$r.squared\n",
    "R2_R<-summary(restricted_model)$r.squared\n",
    "F_2<-((R2_Ur-R2_R)/q)/((1-R2_Ur)/(n-k-1))\n",
    "F_2\n",
    "\n",
    "\n"
   ]
  },
  {
   "cell_type": "markdown",
   "metadata": {},
   "source": [
    "Our critical value will be 3.019, our F-statistics value was 1.477 so we reject the null hypoythesis. This tell us that there is an effect on the number of daughters when it comes to the aauw score, so we would favor the alternative."
   ]
  },
  {
   "cell_type": "markdown",
   "metadata": {},
   "source": [
    "### (e) Using the third model, predict the AAUW score for male democrats who have 3 daughters and 0 son, and who have 36% of constituents who want more spending on defense, on average. Suggest a $95\\%$ CI for that predicted value.\n",
    "\n",
    "*(Hint: See part 3-A of Section Notes 8.)*"
   ]
  },
  {
   "cell_type": "code",
   "execution_count": 7,
   "metadata": {},
   "outputs": [
    {
     "data": {
      "text/plain": [
       "\n",
       "Call:\n",
       "lm(formula = aauw ~ female + repub + ngirls0 + ngirls20 + repubngirl + \n",
       "    repubngirls2 + totchi0 + moredef0, data = data)\n",
       "\n",
       "Residuals:\n",
       "    Min      1Q  Median      3Q     Max \n",
       "-85.436  -7.964  -1.367  11.292  54.591 \n",
       "\n",
       "Coefficients:\n",
       "             Estimate Std. Error t value Pr(>|t|)    \n",
       "(Intercept)   84.1854     3.3010  25.503  < 2e-16 ***\n",
       "female        11.6079     2.8334   4.097 5.13e-05 ***\n",
       "repub        -79.4364     3.0424 -26.110  < 2e-16 ***\n",
       "ngirls0        0.4452     3.1682   0.141   0.8883    \n",
       "ngirls20       0.5286     0.8568   0.617   0.5376    \n",
       "repubngirl     2.1281     3.6217   0.588   0.5571    \n",
       "repubngirls2  -0.7477     0.9302  -0.804   0.4220    \n",
       "totchi0       -2.0364     0.8066  -2.525   0.0120 *  \n",
       "moredef0      -0.3166     0.1247  -2.540   0.0115 *  \n",
       "---\n",
       "Signif. codes:  0 ‘***’ 0.001 ‘**’ 0.01 ‘*’ 0.05 ‘.’ 0.1 ‘ ’ 1\n",
       "\n",
       "Residual standard error: 17.2 on 377 degrees of freedom\n",
       "Multiple R-squared:  0.8505,\tAdjusted R-squared:  0.8474 \n",
       "F-statistic: 268.2 on 8 and 377 DF,  p-value: < 2.2e-16\n"
      ]
     },
     "metadata": {},
     "output_type": "display_data"
    }
   ],
   "source": [
    "data<-mutate(data,ngirls0=ngirls-3)\n",
    "data<-mutate(data,ngirls20=ngirls2-9)\n",
    "data<-mutate(data,totchi0=totchi-3)\n",
    "data<-mutate(data,moredef0=moredef-36)\n",
    "\n",
    "reganswer <- summary(lm(aauw~ female + repub + ngirls0 + ngirls20 + \n",
    "            repubngirl + repubngirls2 +  totchi0 + moredef0 , data=data))\n",
    "reganswer"
   ]
  },
  {
   "cell_type": "code",
   "execution_count": 8,
   "metadata": {},
   "outputs": [
    {
     "data": {
      "text/html": [
       "<style>\n",
       ".list-inline {list-style: none; margin:0; padding: 0}\n",
       ".list-inline>li {display: inline-block}\n",
       ".list-inline>li:not(:last-child)::after {content: \"\\00b7\"; padding: 0 .5ex}\n",
       "</style>\n",
       "<ol class=list-inline><li>77.71544</li><li>90.65536</li></ol>\n"
      ],
      "text/latex": [
       "\\begin{enumerate*}\n",
       "\\item 77.71544\n",
       "\\item 90.65536\n",
       "\\end{enumerate*}\n"
      ],
      "text/markdown": [
       "1. 77.71544\n",
       "2. 90.65536\n",
       "\n",
       "\n"
      ],
      "text/plain": [
       "[1] 77.71544 90.65536"
      ]
     },
     "metadata": {},
     "output_type": "display_data"
    }
   ],
   "source": [
    "ci_left <- (84.1854 -  1.96*(3.3010))\n",
    "ci_right <- (84.1854 +  1.96*(3.3010))\n",
    "c(ci_left,ci_right)"
   ]
  },
  {
   "cell_type": "markdown",
   "metadata": {},
   "source": [
    "Using the third model, predicting the aauw score for 3 daughters, and 0 sons, who have 36% consituents who want more spending on defense on average would predict a value between the interval 77.71 and 90.65 with a confidence of 95%."
   ]
  },
  {
   "cell_type": "markdown",
   "metadata": {},
   "source": [
    "### (f) Suppose a particular male Democrat has 3 daughters and no son in a state where 36% of constituents want more spending on defense. Generate a $95\\%$ CI for his *particular* AAUW score, continuing to use the third model.\n",
    "\n",
    "*(Hint: See part 3-B of Section Notes 8. Note that you can use most the values you already calculated in part (e) to answer this question.)*"
   ]
  },
  {
   "cell_type": "code",
   "execution_count": 12,
   "metadata": {},
   "outputs": [
    {
     "data": {
      "text/html": [
       "295.671049048731"
      ],
      "text/latex": [
       "295.671049048731"
      ],
      "text/markdown": [
       "295.671049048731"
      ],
      "text/plain": [
       "[1] 295.671"
      ]
     },
     "metadata": {},
     "output_type": "display_data"
    },
    {
     "data": {
      "text/html": [
       "17.5090733635087"
      ],
      "text/latex": [
       "17.5090733635087"
      ],
      "text/markdown": [
       "17.5090733635087"
      ],
      "text/plain": [
       "[1] 17.50907"
      ]
     },
     "metadata": {},
     "output_type": "display_data"
    },
    {
     "data": {
      "text/html": [
       "<style>\n",
       ".list-inline {list-style: none; margin:0; padding: 0}\n",
       ".list-inline>li {display: inline-block}\n",
       ".list-inline>li:not(:last-child)::after {content: \"\\00b7\"; padding: 0 .5ex}\n",
       "</style>\n",
       "<ol class=list-inline><li>49.8676162075229</li><li>118.503183792477</li></ol>\n"
      ],
      "text/latex": [
       "\\begin{enumerate*}\n",
       "\\item 49.8676162075229\n",
       "\\item 118.503183792477\n",
       "\\end{enumerate*}\n"
      ],
      "text/markdown": [
       "1. 49.8676162075229\n",
       "2. 118.503183792477\n",
       "\n",
       "\n"
      ],
      "text/plain": [
       "[1]  49.86762 118.50318"
      ]
     },
     "metadata": {},
     "output_type": "display_data"
    }
   ],
   "source": [
    "summary(lm(aauw~female+repub+ngirls + \n",
    "           ngirls2 + repubngirl + repubngirls2 \n",
    "           + totchi + moredef , data=data))$sigma^2\n",
    "\n",
    "standard_error <- sqrt((3.3010^2) + 295.671049048731)\n",
    "standard_error \n",
    "\n",
    "ci_left <- (84.1854 -  1.96*(17.5090733635087))\n",
    "ci_right <- (84.1854 +  1.96*(17.5090733635087))\n",
    "c(ci_left,ci_right)"
   ]
  },
  {
   "cell_type": "markdown",
   "metadata": {},
   "source": [
    "Using the third model, predicting the aauw score for 3 daughters, and 0 sons, who have 36% consituents who want more spending on defense on average would predict a value between the interval 49.8676 and 118.50 with a confidence of 95%."
   ]
  },
  {
   "cell_type": "markdown",
   "metadata": {},
   "source": [
    "### (g) Suppose you think Republicans and non-Republicans may have different gender patterns in voting with respect to the AAUW score. That is, Republican men may vote differently than Republican women, who may vote differently than Democratic women who may vote differently than Democratic men. \n",
    "\n",
    "### Write down an estimation equation you could use to test whether Republican women, Democratic women, and Democratic men each vote differently than Republican men. Specify what your null and alternative hypotheses would be."
   ]
  },
  {
   "cell_type": "markdown",
   "metadata": {},
   "source": [
    "Regression model:\n",
    "\n",
    "aauw = beta0 + beta1(republicanwomen) + beta2(democraticwomen) + beta3(democraticemen) + u\n",
    "\n",
    "Our null hpypothesis is that republican and non-republic vote differently based on their gender patterns of their AAUW score. That republic men vote different then republican women and who vote differnetly then democractic women and who vote differently than democractic men.\n",
    "\n",
    "h0: beta1  = 0\n",
    "\n",
    "h1: beta1  ≠ 0 not equal to zero\n",
    "\n",
    "h0: beta2  = 0\n",
    "\n",
    "h1: beta2  ≠ 0 not equal to zero\n",
    "\n",
    "h0: beta3  = 0\n",
    "\n",
    "h1: beta3  ≠ 0 not equal to zero\n"
   ]
  },
  {
   "cell_type": "markdown",
   "metadata": {},
   "source": [
    "### (h) Implement your test. Interpret each coeffcient.\n",
    "*(Hint: To create dummy variables based on particular characteristics, it is easiest to first create the dummy variable and set it equal to 0 for all observations: `data$dummy<0`. Then, replace the values for that dummy with 1 for the observations that match the requirements you are looking for, as in `data[data$x1==0 & data$x2==1,]$dummy<-1`.)*\n",
    "\n",
    "*(Hint: If you need to, you can include an interaction term in your regression using `:`. For example `lm(y~x1+x2+x1:x2,data=data)` includes an interaction between `x1` and `x2`. You will need to load the `car` package.)*\n"
   ]
  },
  {
   "cell_type": "code",
   "execution_count": 14,
   "metadata": {
    "scrolled": true
   },
   "outputs": [
    {
     "data": {
      "text/html": [
       "<table class=\"dataframe\">\n",
       "<caption>A tibble: 6 × 18</caption>\n",
       "<thead>\n",
       "\t<tr><th scope=col>ngirls</th><th scope=col>totchi</th><th scope=col>repub</th><th scope=col>female</th><th scope=col>age</th><th scope=col>moredef</th><th scope=col>aauw</th><th scope=col>ngirls2</th><th scope=col>repubngirl</th><th scope=col>repubngirls2</th><th scope=col>ngirls0</th><th scope=col>ngirls20</th><th scope=col>totchi0</th><th scope=col>moredef0</th><th scope=col>republicanman</th><th scope=col>republicanwomen</th><th scope=col>democraticwomen</th><th scope=col>democraticmen</th></tr>\n",
       "\t<tr><th scope=col>&lt;dbl&gt;</th><th scope=col>&lt;dbl&gt;</th><th scope=col>&lt;dbl&gt;</th><th scope=col>&lt;dbl&gt;</th><th scope=col>&lt;dbl&gt;</th><th scope=col>&lt;dbl&gt;</th><th scope=col>&lt;dbl&gt;</th><th scope=col>&lt;dbl&gt;</th><th scope=col>&lt;dbl&gt;</th><th scope=col>&lt;dbl&gt;</th><th scope=col>&lt;dbl&gt;</th><th scope=col>&lt;dbl&gt;</th><th scope=col>&lt;dbl&gt;</th><th scope=col>&lt;dbl&gt;</th><th scope=col>&lt;dbl&gt;</th><th scope=col>&lt;dbl&gt;</th><th scope=col>&lt;dbl&gt;</th><th scope=col>&lt;dbl&gt;</th></tr>\n",
       "</thead>\n",
       "<tbody>\n",
       "\t<tr><td>1</td><td>3</td><td>0</td><td>0</td><td>60</td><td>17.09234</td><td> 75</td><td>1</td><td>0</td><td>0</td><td>-2</td><td>-8</td><td> 0</td><td>-18.907661</td><td>0</td><td>0</td><td>0</td><td>1</td></tr>\n",
       "\t<tr><td>1</td><td>1</td><td>1</td><td>0</td><td>37</td><td>31.40097</td><td>  0</td><td>1</td><td>1</td><td>1</td><td>-2</td><td>-8</td><td>-2</td><td> -4.599033</td><td>1</td><td>0</td><td>0</td><td>0</td></tr>\n",
       "\t<tr><td>2</td><td>6</td><td>1</td><td>0</td><td>55</td><td>23.44828</td><td>  0</td><td>4</td><td>2</td><td>4</td><td>-1</td><td>-5</td><td> 3</td><td>-12.551723</td><td>1</td><td>0</td><td>0</td><td>0</td></tr>\n",
       "\t<tr><td>2</td><td>2</td><td>0</td><td>0</td><td>45</td><td>16.47510</td><td>100</td><td>4</td><td>0</td><td>0</td><td>-1</td><td>-5</td><td>-1</td><td>-19.524904</td><td>0</td><td>0</td><td>0</td><td>1</td></tr>\n",
       "\t<tr><td>2</td><td>4</td><td>0</td><td>0</td><td>55</td><td>23.11688</td><td>100</td><td>4</td><td>0</td><td>0</td><td>-1</td><td>-5</td><td> 1</td><td>-12.883116</td><td>0</td><td>0</td><td>0</td><td>1</td></tr>\n",
       "\t<tr><td>2</td><td>5</td><td>1</td><td>0</td><td>55</td><td>31.40097</td><td>  0</td><td>4</td><td>2</td><td>4</td><td>-1</td><td>-5</td><td> 2</td><td> -4.599033</td><td>1</td><td>0</td><td>0</td><td>0</td></tr>\n",
       "</tbody>\n",
       "</table>\n"
      ],
      "text/latex": [
       "A tibble: 6 × 18\n",
       "\\begin{tabular}{llllllllllllllllll}\n",
       " ngirls & totchi & repub & female & age & moredef & aauw & ngirls2 & repubngirl & repubngirls2 & ngirls0 & ngirls20 & totchi0 & moredef0 & republicanman & republicanwomen & democraticwomen & democraticmen\\\\\n",
       " <dbl> & <dbl> & <dbl> & <dbl> & <dbl> & <dbl> & <dbl> & <dbl> & <dbl> & <dbl> & <dbl> & <dbl> & <dbl> & <dbl> & <dbl> & <dbl> & <dbl> & <dbl>\\\\\n",
       "\\hline\n",
       "\t 1 & 3 & 0 & 0 & 60 & 17.09234 &  75 & 1 & 0 & 0 & -2 & -8 &  0 & -18.907661 & 0 & 0 & 0 & 1\\\\\n",
       "\t 1 & 1 & 1 & 0 & 37 & 31.40097 &   0 & 1 & 1 & 1 & -2 & -8 & -2 &  -4.599033 & 1 & 0 & 0 & 0\\\\\n",
       "\t 2 & 6 & 1 & 0 & 55 & 23.44828 &   0 & 4 & 2 & 4 & -1 & -5 &  3 & -12.551723 & 1 & 0 & 0 & 0\\\\\n",
       "\t 2 & 2 & 0 & 0 & 45 & 16.47510 & 100 & 4 & 0 & 0 & -1 & -5 & -1 & -19.524904 & 0 & 0 & 0 & 1\\\\\n",
       "\t 2 & 4 & 0 & 0 & 55 & 23.11688 & 100 & 4 & 0 & 0 & -1 & -5 &  1 & -12.883116 & 0 & 0 & 0 & 1\\\\\n",
       "\t 2 & 5 & 1 & 0 & 55 & 31.40097 &   0 & 4 & 2 & 4 & -1 & -5 &  2 &  -4.599033 & 1 & 0 & 0 & 0\\\\\n",
       "\\end{tabular}\n"
      ],
      "text/markdown": [
       "\n",
       "A tibble: 6 × 18\n",
       "\n",
       "| ngirls &lt;dbl&gt; | totchi &lt;dbl&gt; | repub &lt;dbl&gt; | female &lt;dbl&gt; | age &lt;dbl&gt; | moredef &lt;dbl&gt; | aauw &lt;dbl&gt; | ngirls2 &lt;dbl&gt; | repubngirl &lt;dbl&gt; | repubngirls2 &lt;dbl&gt; | ngirls0 &lt;dbl&gt; | ngirls20 &lt;dbl&gt; | totchi0 &lt;dbl&gt; | moredef0 &lt;dbl&gt; | republicanman &lt;dbl&gt; | republicanwomen &lt;dbl&gt; | democraticwomen &lt;dbl&gt; | democraticmen &lt;dbl&gt; |\n",
       "|---|---|---|---|---|---|---|---|---|---|---|---|---|---|---|---|---|---|\n",
       "| 1 | 3 | 0 | 0 | 60 | 17.09234 |  75 | 1 | 0 | 0 | -2 | -8 |  0 | -18.907661 | 0 | 0 | 0 | 1 |\n",
       "| 1 | 1 | 1 | 0 | 37 | 31.40097 |   0 | 1 | 1 | 1 | -2 | -8 | -2 |  -4.599033 | 1 | 0 | 0 | 0 |\n",
       "| 2 | 6 | 1 | 0 | 55 | 23.44828 |   0 | 4 | 2 | 4 | -1 | -5 |  3 | -12.551723 | 1 | 0 | 0 | 0 |\n",
       "| 2 | 2 | 0 | 0 | 45 | 16.47510 | 100 | 4 | 0 | 0 | -1 | -5 | -1 | -19.524904 | 0 | 0 | 0 | 1 |\n",
       "| 2 | 4 | 0 | 0 | 55 | 23.11688 | 100 | 4 | 0 | 0 | -1 | -5 |  1 | -12.883116 | 0 | 0 | 0 | 1 |\n",
       "| 2 | 5 | 1 | 0 | 55 | 31.40097 |   0 | 4 | 2 | 4 | -1 | -5 |  2 |  -4.599033 | 1 | 0 | 0 | 0 |\n",
       "\n"
      ],
      "text/plain": [
       "  ngirls totchi repub female age moredef  aauw ngirls2 repubngirl repubngirls2\n",
       "1 1      3      0     0      60  17.09234  75  1       0          0           \n",
       "2 1      1      1     0      37  31.40097   0  1       1          1           \n",
       "3 2      6      1     0      55  23.44828   0  4       2          4           \n",
       "4 2      2      0     0      45  16.47510 100  4       0          0           \n",
       "5 2      4      0     0      55  23.11688 100  4       0          0           \n",
       "6 2      5      1     0      55  31.40097   0  4       2          4           \n",
       "  ngirls0 ngirls20 totchi0 moredef0   republicanman republicanwomen\n",
       "1 -2      -8        0      -18.907661 0             0              \n",
       "2 -2      -8       -2       -4.599033 1             0              \n",
       "3 -1      -5        3      -12.551723 1             0              \n",
       "4 -1      -5       -1      -19.524904 0             0              \n",
       "5 -1      -5        1      -12.883116 0             0              \n",
       "6 -1      -5        2       -4.599033 1             0              \n",
       "  democraticwomen democraticmen\n",
       "1 0               1            \n",
       "2 0               0            \n",
       "3 0               0            \n",
       "4 0               1            \n",
       "5 0               1            \n",
       "6 0               0            "
      ]
     },
     "metadata": {},
     "output_type": "display_data"
    }
   ],
   "source": [
    "data$republicanwomen <-0\n",
    "\n",
    "data[data$repub == 1 & data$female == 1,]$republicanwomen <-1\n",
    "\n",
    "data$democraticwomen <-0\n",
    "data[data$repub == 0 & data$female == 1,]$democraticwomen <-1\n",
    "\n",
    "data$democraticmen <-0\n",
    "data[data$repub == 0 & data$female == 0,]$democraticmen <-1\n",
    "head(data)"
   ]
  },
  {
   "cell_type": "code",
   "execution_count": 15,
   "metadata": {},
   "outputs": [
    {
     "data": {
      "text/plain": [
       "\n",
       "Call:\n",
       "lm(formula = aauw ~ republicanwomen + democraticwomen + democraticmen, \n",
       "    data = data)\n",
       "\n",
       "Residuals:\n",
       "    Min      1Q  Median      3Q     Max \n",
       "-86.586  -6.246  -6.246  13.414  55.754 \n",
       "\n",
       "Coefficients:\n",
       "                Estimate Std. Error t value Pr(>|t|)    \n",
       "(Intercept)        6.246      1.257    4.97 1.01e-06 ***\n",
       "republicanwomen   16.111      4.809    3.35 0.000889 ***\n",
       "democraticwomen   89.168      3.462   25.76  < 2e-16 ***\n",
       "democraticmen     80.339      1.888   42.55  < 2e-16 ***\n",
       "---\n",
       "Signif. codes:  0 ‘***’ 0.001 ‘**’ 0.01 ‘*’ 0.05 ‘.’ 0.1 ‘ ’ 1\n",
       "\n",
       "Residual standard error: 17.37 on 382 degrees of freedom\n",
       "Multiple R-squared:  0.8455,\tAdjusted R-squared:  0.8443 \n",
       "F-statistic: 696.7 on 3 and 382 DF,  p-value: < 2.2e-16\n"
      ]
     },
     "metadata": {},
     "output_type": "display_data"
    }
   ],
   "source": [
    "reg4<-lm(aauw~republicanwomen+democraticwomen+democraticmen, data=data)\n",
    "summary(reg4)"
   ]
  },
  {
   "cell_type": "markdown",
   "metadata": {},
   "source": [
    "In model4, beta0 would be 6.246 aauw points while holding every other variable constant. Beta1, republicanwomen, each one added unit of republicanwomen would increase the aauw score by 16.11 while holding other variables constant. Beta2, for everyone unit of democratic women added the aauw score will increase by 89.16 points. Beta3, for every one unit of democraticmen will icnrease the aauw score by 80.339. This shows us there is a difference between reoublic women and demoractic women when it comes to their affects on the aauw score."
   ]
  },
  {
   "cell_type": "markdown",
   "metadata": {},
   "source": [
    "### (i) Adapt your regression to test whether Democratic women vote in the same way as Republican women with respect to the AAUW score. Write out the estimating equation and report your results. Conclude as to whether Democratic and Republican women vote similarly."
   ]
  },
  {
   "cell_type": "code",
   "execution_count": 16,
   "metadata": {
    "scrolled": true
   },
   "outputs": [],
   "source": [
    "### getting the difference between republic and demoratic women\n",
    "data$republicanman<-0\n",
    "data[data$repub==1 & data$female==0,]$republicanman<-1\n",
    "reg5<-lm(aauw~ republicanman + democraticwomen + democraticmen, data=data)"
   ]
  },
  {
   "cell_type": "code",
   "execution_count": 17,
   "metadata": {},
   "outputs": [
    {
     "data": {
      "text/plain": [
       "\n",
       "Call:\n",
       "lm(formula = aauw ~ republicanman + democraticwomen + democraticmen, \n",
       "    data = data)\n",
       "\n",
       "Residuals:\n",
       "    Min      1Q  Median      3Q     Max \n",
       "-86.586  -6.246  -6.246  13.414  55.754 \n",
       "\n",
       "Coefficients:\n",
       "                Estimate Std. Error t value Pr(>|t|)    \n",
       "(Intercept)       22.357      4.642   4.816 2.11e-06 ***\n",
       "republicanman    -16.111      4.809  -3.350 0.000889 ***\n",
       "democraticwomen   73.057      5.653  12.924  < 2e-16 ***\n",
       "democraticmen     64.228      4.851  13.239  < 2e-16 ***\n",
       "---\n",
       "Signif. codes:  0 ‘***’ 0.001 ‘**’ 0.01 ‘*’ 0.05 ‘.’ 0.1 ‘ ’ 1\n",
       "\n",
       "Residual standard error: 17.37 on 382 degrees of freedom\n",
       "Multiple R-squared:  0.8455,\tAdjusted R-squared:  0.8443 \n",
       "F-statistic: 696.7 on 3 and 382 DF,  p-value: < 2.2e-16\n"
      ]
     },
     "metadata": {},
     "output_type": "display_data"
    }
   ],
   "source": [
    "summary(reg5)"
   ]
  },
  {
   "cell_type": "markdown",
   "metadata": {},
   "source": [
    "We reject the null hypthoesis because all the coeficients are starred with statistically sginficance. In model5, beta0 would be 22.357 aauw points while holding every other variable constant. Beta1, republicanmen, one each added unit of republicanmen would decrease the aauw score by -16.11 while holding other variables constant. Beta2, for everyone unit of democratic women added the aauw score will increase by 73.057 points. Beta3, for every one unit of democraticmen will icnrease the aauw score by 64.228. This model from (i) and (j) showcase there is an ommitted variable and difference between the betas and regression model values hence we reject the null hypothesis (the value is not 0). We also reject that there is difference between democractic women and republican women when it coems to voting.\n"
   ]
  },
  {
   "cell_type": "markdown",
   "metadata": {},
   "source": [
    "## Downloading your Notebook\n",
    "\n",
    "Download a PDF copy of your notebook by using __File > Download as HTML.__ Alternatively, go to print preview and __Save as PDF__ (but make sure your code does not get cut off at the side of the page!)"
   ]
  }
 ],
 "metadata": {
  "kernelspec": {
   "display_name": "R",
   "language": "R",
   "name": "ir"
  },
  "language_info": {
   "codemirror_mode": "r",
   "file_extension": ".r",
   "mimetype": "text/x-r-source",
   "name": "R",
   "pygments_lexer": "r",
   "version": "4.2.1"
  }
 },
 "nbformat": 4,
 "nbformat_minor": 2
}

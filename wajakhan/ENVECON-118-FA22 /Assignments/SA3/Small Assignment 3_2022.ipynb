{
 "cells": [
  {
   "cell_type": "markdown",
   "metadata": {},
   "source": [
    "# Small Assignment 3"
   ]
  },
  {
   "cell_type": "markdown",
   "metadata": {},
   "source": [
    "<em>Due October 7th by 11:59pm PT. Download your notebook with your code and responses as a PDF via HTML and submit to Gradescope.</em>\n",
    "\n",
    "Is voter turnout influenced by the weather?  Let pctvote be the percent of the registered voters in a given county who turn out to vote (i.e., pctvote = 80 means that 80% of registered voters in a given county turned out to vote).  \n",
    "\n",
    "Let *rain* be a **dummy** variable for whether it rains for at least one hour on election day,  *temp* be the high temperature on election day (in degrees), and *numpoll* be the number of polling places in the county.  \n",
    "\n",
    "One model to test the relationship is \n",
    "\n",
    "$\\textrm{pctvote}=\\beta_0+\\beta_1\\textrm{rain}+\\beta_2\\textrm{temp}+\\beta_3\\textrm{numpoll}+u$\n"
   ]
  },
  {
   "cell_type": "markdown",
   "metadata": {},
   "source": [
    "### 1. State the null hypothesis that rain has no ceteris paribus effect on voter turnout.  State the alternative hypothesis that there is an effect."
   ]
  },
  {
   "cell_type": "markdown",
   "metadata": {},
   "source": [
    "H0: $\\beta_1$ = 0 \n",
    "\n",
    "beta1 is equal to zero \n",
    "\n",
    "h1: $\\beta_1$ != 0 \n",
    "\n",
    "beta1 is greater than zero"
   ]
  },
  {
   "cell_type": "markdown",
   "metadata": {},
   "source": [
    "### 2. What signs do you expect $\\beta_1$ and $\\beta_2$ will have?"
   ]
  },
  {
   "cell_type": "markdown",
   "metadata": {},
   "source": [
    "I expect both $\\beta_1$ and  $\\beta_2$ to have negative numbers because they would increase in the number of voter turnouts.\n"
   ]
  },
  {
   "cell_type": "markdown",
   "metadata": {},
   "source": [
    "### 3. Suppose we estimate the model using data on 120 randomly selected counties in the U.S., and we deliver the estimates (with standard errors in parentheses) below. What is wrong with the statement \"one more hour of rain on election day is associated with a 4.92% decrease in voter turnout?\"\n",
    "\n",
    "$$\\hat{\\beta}_0=41.67 (1.262)$$\n",
    "$$\\hat{\\beta}_1=-4.92 (0.799)$$\n",
    "$$\\hat{\\beta}_2=0.01 (0.017)$$\n",
    "$$\\hat{\\beta}_3=0.65 (0.027)$$\n",
    "$$R^2=0.398$$\n",
    "\n"
   ]
  },
  {
   "cell_type": "markdown",
   "metadata": {},
   "source": [
    "The way the variable was set up, it was a dummy varaible that is either 1 or 0 that tell you if it rained for at least an hour or not on the election day. There also might be ommited variable, for example, people might not vote if they see the rain, doesn't matter how many hours it rained."
   ]
  },
  {
   "cell_type": "markdown",
   "metadata": {},
   "source": [
    "### 4. Test the hypothesis in part 1 at the 1% significance level.  Be sure to state the critical value that you use."
   ]
  },
  {
   "cell_type": "code",
   "execution_count": 1,
   "metadata": {},
   "outputs": [
    {
     "data": {
      "text/html": [
       "-6.15769712140175"
      ],
      "text/latex": [
       "-6.15769712140175"
      ],
      "text/markdown": [
       "-6.15769712140175"
      ],
      "text/plain": [
       "[1] -6.157697"
      ]
     },
     "metadata": {},
     "output_type": "display_data"
    }
   ],
   "source": [
    "-4.92/0.799"
   ]
  },
  {
   "cell_type": "markdown",
   "metadata": {},
   "source": [
    "calculate t-stat\n",
    "$$t=\\frac{\\hat{\\beta}_1-0}{se}=\\frac{-4.92}{0.799}=-6.158$$\n",
    "compare absolute t with 2.33 (w/ 120-4=116 degrees of freedom), $|t|>c$ so You will reject the null hypthoses because the t stat is much greater than the critical value."
   ]
  }
 ],
 "metadata": {
  "kernelspec": {
   "display_name": "R",
   "language": "R",
   "name": "ir"
  },
  "language_info": {
   "codemirror_mode": "r",
   "file_extension": ".r",
   "mimetype": "text/x-r-source",
   "name": "R",
   "pygments_lexer": "r",
   "version": "4.2.1"
  }
 },
 "nbformat": 4,
 "nbformat_minor": 2
}

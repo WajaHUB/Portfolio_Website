{
 "cells": [
  {
   "cell_type": "markdown",
   "metadata": {},
   "source": [
    "# ENV ECON 118/IAS 118 - Introductory Applied Econometrics Assignment 1\n",
    "\n",
    "## Fall 2022"
   ]
  },
  {
   "cell_type": "markdown",
   "metadata": {},
   "source": [
    "There is a large literature in macroeconomics that investigates why there exist such large differences in gross domestic product (GDP) per capita between developed and developing countries. Recently economists have focused on the role of agriculture in accounting for these differences (Restuccia et al. 2008, _Journal of Monetary Economics_). Why might agriculture be important? Consider two facts, which we will explore in greater detail below. First, labor productivity in agriculture for the richest countries is 78 times that of the poorest countries. Second, the poorest countries allocate 86% of their employment to this sector, as compared to only 4% in the richest countries."
   ]
  },
  {
   "cell_type": "markdown",
   "metadata": {},
   "source": [
    "<p style=\"text-align: center;\"> Figure 1. </p>\n",
    "\n",
    "<img src=\"fig1.png\" width=\"400\" />"
   ]
  },
  {
   "cell_type": "markdown",
   "metadata": {},
   "source": [
    "<p style=\"text-align: center;\"> Figure 2. </p>\n",
    "\n",
    "<img src=\"fig2.png\" width=\"400\" />"
   ]
  },
  {
   "cell_type": "markdown",
   "metadata": {},
   "source": [
    "The data are from the World Bank development indicators (http://data.worldbank.org/data-catalog/world-development-indicators) for 2019. \n",
    "\n",
    "Labor Productivity in Agriculture is measured as the output of the agricultural sector less the value of intermediate inputs, divided by the number of workers. It is measured in thousands of US $ \\$ $. GDP per capita is gross domestic product divided by midyear population, and is also measured in thousands of US $ \\$ $. Agricultural Employment is the percentage of all workers engaged in agriculture. \n",
    "\n",
    "The graphs above include all 94 countries in the original dataset which have data on Labor Productivity in Agriculture, Agricultural Employment and GDP per capita. The values for selected countries can be found in the csv files \"countries1\" and \"countries2\"."
   ]
  },
  {
   "cell_type": "markdown",
   "metadata": {},
   "source": [
    "# Exercise 1. Relationship between GDP per capita and Labor Productivity in Agriculture\n",
    "\n",
    "As you see in Figure 1, there appears to be some association between GDP per capita and Labor\n",
    "Productivity in Agriculture.\n",
    "We will estimate a simple linear relationship on a (very small) subset of 5 countries."
   ]
  },
  {
   "cell_type": "markdown",
   "metadata": {},
   "source": [
    "(a) Use R to create a scatter plot of these observations. "
   ]
  },
  {
   "cell_type": "markdown",
   "metadata": {},
   "source": [
    "a-Step 1: Load the .csv file called countries1.csv. (Hint: the `read.csv()` command will likely be helpful.)"
   ]
  },
  {
   "cell_type": "code",
   "execution_count": 1,
   "metadata": {},
   "outputs": [],
   "source": [
    "country1 <- read.csv('countries1.csv', header = TRUE)"
   ]
  },
  {
   "cell_type": "markdown",
   "metadata": {},
   "source": [
    "a-Step 2: Look at the data. This dataset only has 5 rows so you can just call the entire dataset. In general you want to use the `head()` command so that R does not print the entire dataset which will take way too many pages."
   ]
  },
  {
   "cell_type": "code",
   "execution_count": 2,
   "metadata": {},
   "outputs": [
    {
     "data": {
      "text/html": [
       "<table class=\"dataframe\">\n",
       "<caption>A data.frame: 5 × 3</caption>\n",
       "<thead>\n",
       "\t<tr><th></th><th scope=col>X</th><th scope=col>gdp_pc_1000USD</th><th scope=col>lapor_prod_1000USD</th></tr>\n",
       "\t<tr><th></th><th scope=col>&lt;chr&gt;</th><th scope=col>&lt;dbl&gt;</th><th scope=col>&lt;dbl&gt;</th></tr>\n",
       "</thead>\n",
       "<tbody>\n",
       "\t<tr><th scope=row>1</th><td>Australia   </td><td>57.071168</td><td>72.841576</td></tr>\n",
       "\t<tr><th scope=row>2</th><td>Bolivia     </td><td> 2.579899</td><td> 1.839881</td></tr>\n",
       "\t<tr><th scope=row>3</th><td>India       </td><td> 2.169140</td><td> 1.978327</td></tr>\n",
       "\t<tr><th scope=row>4</th><td>Lithuania   </td><td>18.427152</td><td>13.874642</td></tr>\n",
       "\t<tr><th scope=row>5</th><td>Saudi Arabia</td><td>20.542164</td><td>50.349904</td></tr>\n",
       "</tbody>\n",
       "</table>\n"
      ],
      "text/latex": [
       "A data.frame: 5 × 3\n",
       "\\begin{tabular}{r|lll}\n",
       "  & X & gdp\\_pc\\_1000USD & lapor\\_prod\\_1000USD\\\\\n",
       "  & <chr> & <dbl> & <dbl>\\\\\n",
       "\\hline\n",
       "\t1 & Australia    & 57.071168 & 72.841576\\\\\n",
       "\t2 & Bolivia      &  2.579899 &  1.839881\\\\\n",
       "\t3 & India        &  2.169140 &  1.978327\\\\\n",
       "\t4 & Lithuania    & 18.427152 & 13.874642\\\\\n",
       "\t5 & Saudi Arabia & 20.542164 & 50.349904\\\\\n",
       "\\end{tabular}\n"
      ],
      "text/markdown": [
       "\n",
       "A data.frame: 5 × 3\n",
       "\n",
       "| <!--/--> | X &lt;chr&gt; | gdp_pc_1000USD &lt;dbl&gt; | lapor_prod_1000USD &lt;dbl&gt; |\n",
       "|---|---|---|---|\n",
       "| 1 | Australia    | 57.071168 | 72.841576 |\n",
       "| 2 | Bolivia      |  2.579899 |  1.839881 |\n",
       "| 3 | India        |  2.169140 |  1.978327 |\n",
       "| 4 | Lithuania    | 18.427152 | 13.874642 |\n",
       "| 5 | Saudi Arabia | 20.542164 | 50.349904 |\n",
       "\n"
      ],
      "text/plain": [
       "  X            gdp_pc_1000USD lapor_prod_1000USD\n",
       "1 Australia    57.071168      72.841576         \n",
       "2 Bolivia       2.579899       1.839881         \n",
       "3 India         2.169140       1.978327         \n",
       "4 Lithuania    18.427152      13.874642         \n",
       "5 Saudi Arabia 20.542164      50.349904         "
      ]
     },
     "metadata": {},
     "output_type": "display_data"
    }
   ],
   "source": [
    "head(country1)"
   ]
  },
  {
   "cell_type": "markdown",
   "metadata": {},
   "source": [
    "a-Step 3: Rename the variables to \"country\", \"gdp_pc\", and \"labor_prod\". (Hint: the `colnames()` command may be useful. Also remember that to select multiple values (such as mulitple variable names, you can use R's vector notation `c()`. For example: `c(\"a\", \"b\", \"c\")`."
   ]
  },
  {
   "cell_type": "code",
   "execution_count": 3,
   "metadata": {},
   "outputs": [
    {
     "data": {
      "text/html": [
       "<table class=\"dataframe\">\n",
       "<caption>A data.frame: 5 × 3</caption>\n",
       "<thead>\n",
       "\t<tr><th></th><th scope=col>country</th><th scope=col>gdp_pc</th><th scope=col>labor_prod</th></tr>\n",
       "\t<tr><th></th><th scope=col>&lt;chr&gt;</th><th scope=col>&lt;dbl&gt;</th><th scope=col>&lt;dbl&gt;</th></tr>\n",
       "</thead>\n",
       "<tbody>\n",
       "\t<tr><th scope=row>1</th><td>Australia   </td><td>57.071168</td><td>72.841576</td></tr>\n",
       "\t<tr><th scope=row>2</th><td>Bolivia     </td><td> 2.579899</td><td> 1.839881</td></tr>\n",
       "\t<tr><th scope=row>3</th><td>India       </td><td> 2.169140</td><td> 1.978327</td></tr>\n",
       "\t<tr><th scope=row>4</th><td>Lithuania   </td><td>18.427152</td><td>13.874642</td></tr>\n",
       "\t<tr><th scope=row>5</th><td>Saudi Arabia</td><td>20.542164</td><td>50.349904</td></tr>\n",
       "</tbody>\n",
       "</table>\n"
      ],
      "text/latex": [
       "A data.frame: 5 × 3\n",
       "\\begin{tabular}{r|lll}\n",
       "  & country & gdp\\_pc & labor\\_prod\\\\\n",
       "  & <chr> & <dbl> & <dbl>\\\\\n",
       "\\hline\n",
       "\t1 & Australia    & 57.071168 & 72.841576\\\\\n",
       "\t2 & Bolivia      &  2.579899 &  1.839881\\\\\n",
       "\t3 & India        &  2.169140 &  1.978327\\\\\n",
       "\t4 & Lithuania    & 18.427152 & 13.874642\\\\\n",
       "\t5 & Saudi Arabia & 20.542164 & 50.349904\\\\\n",
       "\\end{tabular}\n"
      ],
      "text/markdown": [
       "\n",
       "A data.frame: 5 × 3\n",
       "\n",
       "| <!--/--> | country &lt;chr&gt; | gdp_pc &lt;dbl&gt; | labor_prod &lt;dbl&gt; |\n",
       "|---|---|---|---|\n",
       "| 1 | Australia    | 57.071168 | 72.841576 |\n",
       "| 2 | Bolivia      |  2.579899 |  1.839881 |\n",
       "| 3 | India        |  2.169140 |  1.978327 |\n",
       "| 4 | Lithuania    | 18.427152 | 13.874642 |\n",
       "| 5 | Saudi Arabia | 20.542164 | 50.349904 |\n",
       "\n"
      ],
      "text/plain": [
       "  country      gdp_pc    labor_prod\n",
       "1 Australia    57.071168 72.841576 \n",
       "2 Bolivia       2.579899  1.839881 \n",
       "3 India         2.169140  1.978327 \n",
       "4 Lithuania    18.427152 13.874642 \n",
       "5 Saudi Arabia 20.542164 50.349904 "
      ]
     },
     "metadata": {},
     "output_type": "display_data"
    }
   ],
   "source": [
    "names(country1) <- c(\"country\",\"gdp_pc\",\"labor_prod\")\n",
    "head(country1)"
   ]
  },
  {
   "cell_type": "markdown",
   "metadata": {},
   "source": [
    "a-Step 4: Create a scatterplot of the data. Make sure to (1) label the axes and their\n",
    "units, and (2) title your graph. (Hint: the `plot()` command will likely come in handy. Use `help(plot)` or `?plot` to view the documentation for the function and how to include labels.)"
   ]
  },
  {
   "cell_type": "code",
   "execution_count": 28,
   "metadata": {},
   "outputs": [
    {
     "data": {
      "image/png": "[encoded data removed]",
      "text/plain": [
       "plot without title"
      ]
     },
     "metadata": {
      "image/png": {
       "height": 420,
       "width": 420
      }
     },
     "output_type": "display_data"
    }
   ],
   "source": [
    "plot(country1$gdp_pc,country1$labor_prod, \n",
    "     xlab = \"GDP($1000)\",ylab=\"labor production($1000)\")"
   ]
  },
  {
   "cell_type": "markdown",
   "metadata": {},
   "source": [
    "b) Estimate the linear relationship between GDP per capita and Labor Productivity in Agriculture (\"E\") by OLS, showing all intermediate calculations as we did in the handout.\n",
    "\n",
    "$$\\widehat{E} = \\hat{\\beta}_0 + \\hat{\\beta}_1GDP / cap$$\n",
    "\n",
    "For this exercise,  **DO NOT** use the built-in R commands like `cov()` or `lm()`. Use basic mathematical commands (`+`, `-`, `*`, `\\`, `sum()`, `^`) to reproduce all the values from table and show all the steps."
   ]
  },
  {
   "cell_type": "markdown",
   "metadata": {},
   "source": [
    "b-Step 1: Create new data objects called  __mean_gdp_pc__ and __mean_labor_prod__ equal to the mean of __gdp_pc__ and __labor_prod__."
   ]
  },
  {
   "cell_type": "code",
   "execution_count": 29,
   "metadata": {},
   "outputs": [
    {
     "data": {
      "text/html": [
       "<style>\n",
       ".list-inline {list-style: none; margin:0; padding: 0}\n",
       ".list-inline>li {display: inline-block}\n",
       ".list-inline>li:not(:last-child)::after {content: \"\\00b7\"; padding: 0 .5ex}\n",
       "</style>\n",
       "<ol class=list-inline><li>20.1579046768</li><li>28.1768659158</li></ol>\n"
      ],
      "text/latex": [
       "\\begin{enumerate*}\n",
       "\\item 20.1579046768\n",
       "\\item 28.1768659158\n",
       "\\end{enumerate*}\n"
      ],
      "text/markdown": [
       "1. 20.1579046768\n",
       "2. 28.1768659158\n",
       "\n",
       "\n"
      ],
      "text/plain": [
       "[1] 20.15790 28.17687"
      ]
     },
     "metadata": {},
     "output_type": "display_data"
    }
   ],
   "source": [
    "mean_gdp_pc <- mean(country1$gdp_pc)\n",
    "mean_labor_prod <- mean(country1$labor_prod)\n",
    "c(mean_gdp_pc,mean_labor_prod)"
   ]
  },
  {
   "cell_type": "markdown",
   "metadata": {},
   "source": [
    "b-Step 2: Calculate the covariance (only using the mathematical operations specified above) between gdp_pc and labor_prod: $cov(gdp_{pc},labor_{prod})$. \n",
    "\n",
    "- Do this by first creating two new columns of residuals: __devgdp__, a column that subtracts the __mean_gdp_pc__ from __gdp_pc__ and __devlp__ that subtracts the __mean_labor_prod__ from __labor_prod__. \n",
    "- Next create a column __devgdplp__ which is equal to __devlp__ multiplied by __devgdp__.\n",
    "- Finally, generate a value named `covar` which is equal to the sum of __devgdplp__ divided by n-1.\n",
    "- Make sure to call `covar` at the end so we can see it printed in the output."
   ]
  },
  {
   "cell_type": "code",
   "execution_count": 47,
   "metadata": {},
   "outputs": [
    {
     "data": {
      "text/html": [
       "<table class=\"dataframe\">\n",
       "<caption>A data.frame: 5 × 9</caption>\n",
       "<thead>\n",
       "\t<tr><th scope=col>country</th><th scope=col>gdp_pc</th><th scope=col>labor_prod</th><th scope=col>devgdp</th><th scope=col>devlp</th><th scope=col>devgdplp</th><th scope=col>sqdev</th><th scope=col>regres</th><th scope=col>fitted</th></tr>\n",
       "\t<tr><th scope=col>&lt;chr&gt;</th><th scope=col>&lt;dbl&gt;</th><th scope=col>&lt;dbl&gt;</th><th scope=col>&lt;dbl&gt;</th><th scope=col>&lt;dbl&gt;</th><th scope=col>&lt;dbl&gt;</th><th scope=col>&lt;dbl&gt;</th><th scope=col>&lt;dbl&gt;</th><th scope=col>&lt;dbl&gt;</th></tr>\n",
       "</thead>\n",
       "<tbody>\n",
       "\t<tr><td>Australia   </td><td>57.071168</td><td>72.841576</td><td> 36.9132636</td><td> 44.66471</td><td>1648.720232</td><td>1362.5890313</td><td> -3.662730</td><td>76.504306</td></tr>\n",
       "\t<tr><td>Bolivia     </td><td> 2.579899</td><td> 1.839881</td><td>-17.5780056</td><td>-26.33699</td><td> 462.951674</td><td> 308.9862794</td><td> -3.323577</td><td> 5.163458</td></tr>\n",
       "\t<tr><td>India       </td><td> 2.169140</td><td> 1.978327</td><td>-17.9887645</td><td>-26.19854</td><td> 471.279350</td><td> 323.5956479</td><td> -2.647359</td><td> 4.625685</td></tr>\n",
       "\t<tr><td>Lithuania   </td><td>18.427152</td><td>13.874642</td><td> -1.7307529</td><td>-14.30222</td><td>  24.753616</td><td>   2.9955056</td><td>-12.036295</td><td>25.910936</td></tr>\n",
       "\t<tr><td>Saudi Arabia</td><td>20.542164</td><td>50.349904</td><td>  0.3842593</td><td> 22.17304</td><td>   8.520197</td><td>   0.1476552</td><td> 21.669960</td><td>28.679944</td></tr>\n",
       "</tbody>\n",
       "</table>\n"
      ],
      "text/latex": [
       "A data.frame: 5 × 9\n",
       "\\begin{tabular}{lllllllll}\n",
       " country & gdp\\_pc & labor\\_prod & devgdp & devlp & devgdplp & sqdev & regres & fitted\\\\\n",
       " <chr> & <dbl> & <dbl> & <dbl> & <dbl> & <dbl> & <dbl> & <dbl> & <dbl>\\\\\n",
       "\\hline\n",
       "\t Australia    & 57.071168 & 72.841576 &  36.9132636 &  44.66471 & 1648.720232 & 1362.5890313 &  -3.662730 & 76.504306\\\\\n",
       "\t Bolivia      &  2.579899 &  1.839881 & -17.5780056 & -26.33699 &  462.951674 &  308.9862794 &  -3.323577 &  5.163458\\\\\n",
       "\t India        &  2.169140 &  1.978327 & -17.9887645 & -26.19854 &  471.279350 &  323.5956479 &  -2.647359 &  4.625685\\\\\n",
       "\t Lithuania    & 18.427152 & 13.874642 &  -1.7307529 & -14.30222 &   24.753616 &    2.9955056 & -12.036295 & 25.910936\\\\\n",
       "\t Saudi Arabia & 20.542164 & 50.349904 &   0.3842593 &  22.17304 &    8.520197 &    0.1476552 &  21.669960 & 28.679944\\\\\n",
       "\\end{tabular}\n"
      ],
      "text/markdown": [
       "\n",
       "A data.frame: 5 × 9\n",
       "\n",
       "| country &lt;chr&gt; | gdp_pc &lt;dbl&gt; | labor_prod &lt;dbl&gt; | devgdp &lt;dbl&gt; | devlp &lt;dbl&gt; | devgdplp &lt;dbl&gt; | sqdev &lt;dbl&gt; | regres &lt;dbl&gt; | fitted &lt;dbl&gt; |\n",
       "|---|---|---|---|---|---|---|---|---|\n",
       "| Australia    | 57.071168 | 72.841576 |  36.9132636 |  44.66471 | 1648.720232 | 1362.5890313 |  -3.662730 | 76.504306 |\n",
       "| Bolivia      |  2.579899 |  1.839881 | -17.5780056 | -26.33699 |  462.951674 |  308.9862794 |  -3.323577 |  5.163458 |\n",
       "| India        |  2.169140 |  1.978327 | -17.9887645 | -26.19854 |  471.279350 |  323.5956479 |  -2.647359 |  4.625685 |\n",
       "| Lithuania    | 18.427152 | 13.874642 |  -1.7307529 | -14.30222 |   24.753616 |    2.9955056 | -12.036295 | 25.910936 |\n",
       "| Saudi Arabia | 20.542164 | 50.349904 |   0.3842593 |  22.17304 |    8.520197 |    0.1476552 |  21.669960 | 28.679944 |\n",
       "\n"
      ],
      "text/plain": [
       "  country      gdp_pc    labor_prod devgdp      devlp     devgdplp   \n",
       "1 Australia    57.071168 72.841576   36.9132636  44.66471 1648.720232\n",
       "2 Bolivia       2.579899  1.839881  -17.5780056 -26.33699  462.951674\n",
       "3 India         2.169140  1.978327  -17.9887645 -26.19854  471.279350\n",
       "4 Lithuania    18.427152 13.874642   -1.7307529 -14.30222   24.753616\n",
       "5 Saudi Arabia 20.542164 50.349904    0.3842593  22.17304    8.520197\n",
       "  sqdev        regres     fitted   \n",
       "1 1362.5890313  -3.662730 76.504306\n",
       "2  308.9862794  -3.323577  5.163458\n",
       "3  323.5956479  -2.647359  4.625685\n",
       "4    2.9955056 -12.036295 25.910936\n",
       "5    0.1476552  21.669960 28.679944"
      ]
     },
     "metadata": {},
     "output_type": "display_data"
    },
    {
     "data": {
      "text/html": [
       "654.056267186922"
      ],
      "text/latex": [
       "654.056267186922"
      ],
      "text/markdown": [
       "654.056267186922"
      ],
      "text/plain": [
       "[1] 654.0563"
      ]
     },
     "metadata": {},
     "output_type": "display_data"
    }
   ],
   "source": [
    "# Create new columns with residuals (x_i-\\bar{x}) and (y_i-\\bar{y}) as part of␣\n",
    "library(tidyverse)\n",
    "country1 <- mutate(country1, devgdp = gdp_pc - mean_gdp_pc,\n",
    "                   devlp = labor_prod - mean_labor_prod)\n",
    "country1 <- mutate(country1, devgdplp = devlp*devgdp)\n",
    "covar <- sum(country1$devgdplp)/(nrow(country1)-1)\n",
    "country1\n",
    "covar"
   ]
  },
  {
   "cell_type": "markdown",
   "metadata": {},
   "source": [
    "b-Step 3: Calculate the variance. \n",
    "- First generate a column __sqdev__ equal to the square of __devgdp__. \n",
    "- Generate a value named `var` which is equal to the sum of __sqdevgdp__ divided by n-1. \n",
    "- Make sure to call `var` at the end so we can see it printed in the output."
   ]
  },
  {
   "cell_type": "code",
   "execution_count": 31,
   "metadata": {},
   "outputs": [
    {
     "data": {
      "text/html": [
       "499.57852986615"
      ],
      "text/latex": [
       "499.57852986615"
      ],
      "text/markdown": [
       "499.57852986615"
      ],
      "text/plain": [
       "[1] 499.5785"
      ]
     },
     "metadata": {},
     "output_type": "display_data"
    }
   ],
   "source": [
    "country1 <- mutate(country1, sqdev = devgdp^2)\n",
    "var <- sum(country1$sqdev)/(nrow(country1)-1)\n",
    "var"
   ]
  },
  {
   "cell_type": "markdown",
   "metadata": {},
   "source": [
    "b-Step 4: Using the quantities generated above, generate and print `beta_1` and `beta_0`, your estimates for $\\hat{\\beta}_0$ and $\\hat{\\beta}_1$."
   ]
  },
  {
   "cell_type": "code",
   "execution_count": 32,
   "metadata": {},
   "outputs": [
    {
     "data": {
      "text/html": [
       "<style>\n",
       ".list-inline {list-style: none; margin:0; padding: 0}\n",
       ".list-inline>li {display: inline-block}\n",
       ".list-inline>li:not(:last-child)::after {content: \"\\00b7\"; padding: 0 .5ex}\n",
       "</style>\n",
       "<ol class=list-inline><li>1.78581205936217</li><li>1.30921612536504</li></ol>\n"
      ],
      "text/latex": [
       "\\begin{enumerate*}\n",
       "\\item 1.78581205936217\n",
       "\\item 1.30921612536504\n",
       "\\end{enumerate*}\n"
      ],
      "text/markdown": [
       "1. 1.78581205936217\n",
       "2. 1.30921612536504\n",
       "\n",
       "\n"
      ],
      "text/plain": [
       "[1] 1.785812 1.309216"
      ]
     },
     "metadata": {},
     "output_type": "display_data"
    }
   ],
   "source": [
    "beta1 <- covar/var\n",
    "beta0 <- mean_labor_prod - mean_gdp_pc*beta1\n",
    "c(beta0,beta1)"
   ]
  },
  {
   "cell_type": "markdown",
   "metadata": {},
   "source": [
    "c) Interpret the value of the estimated parameters $\\hat{\\beta}_0$ and $\\hat{\\beta}_1$"
   ]
  },
  {
   "cell_type": "markdown",
   "metadata": {},
   "source": [
    "Beta0 in this model predicts that country with 0 GDP would have labor production of 1.78 ( Dollars 1000). Beta1 in this model predicts that each additional GDP( Dolloars 1000) would change(increase) the labor production by 1.30(Dollars 1000)(or 130 percentage change) in labor production."
   ]
  },
  {
   "cell_type": "markdown",
   "metadata": {},
   "source": [
    "d) In your data frame, compute the fitted value and the residual (the difference between the actual and fitted value) for each observation. Use only basic mathematical commands (`+`, `-`, `*`, `\\`, `sum()`, `^`) to do this. Create a new column named \"fitted\" and another new column called \"residuals\". Call the head() of your dataset so we can see these new columns. Verify that the residuals sum to 0 (approximately)."
   ]
  },
  {
   "cell_type": "code",
   "execution_count": 33,
   "metadata": {},
   "outputs": [
    {
     "data": {
      "text/html": [
       "<table class=\"dataframe\">\n",
       "<caption>A data.frame: 5 × 9</caption>\n",
       "<thead>\n",
       "\t<tr><th scope=col>country</th><th scope=col>gdp_pc</th><th scope=col>labor_prod</th><th scope=col>devgdp</th><th scope=col>devlp</th><th scope=col>devgdplp</th><th scope=col>sqdev</th><th scope=col>regres</th><th scope=col>fitted</th></tr>\n",
       "\t<tr><th scope=col>&lt;chr&gt;</th><th scope=col>&lt;dbl&gt;</th><th scope=col>&lt;dbl&gt;</th><th scope=col>&lt;dbl&gt;</th><th scope=col>&lt;dbl&gt;</th><th scope=col>&lt;dbl&gt;</th><th scope=col>&lt;dbl&gt;</th><th scope=col>&lt;dbl&gt;</th><th scope=col>&lt;dbl&gt;</th></tr>\n",
       "</thead>\n",
       "<tbody>\n",
       "\t<tr><td>Australia   </td><td>57.071168</td><td>72.841576</td><td> 36.9132636</td><td> 44.66471</td><td>1648.720232</td><td>1362.5890313</td><td> -3.662730</td><td>76.504306</td></tr>\n",
       "\t<tr><td>Bolivia     </td><td> 2.579899</td><td> 1.839881</td><td>-17.5780056</td><td>-26.33699</td><td> 462.951674</td><td> 308.9862794</td><td> -3.323577</td><td> 5.163458</td></tr>\n",
       "\t<tr><td>India       </td><td> 2.169140</td><td> 1.978327</td><td>-17.9887645</td><td>-26.19854</td><td> 471.279350</td><td> 323.5956479</td><td> -2.647359</td><td> 4.625685</td></tr>\n",
       "\t<tr><td>Lithuania   </td><td>18.427152</td><td>13.874642</td><td> -1.7307529</td><td>-14.30222</td><td>  24.753616</td><td>   2.9955056</td><td>-12.036295</td><td>25.910936</td></tr>\n",
       "\t<tr><td>Saudi Arabia</td><td>20.542164</td><td>50.349904</td><td>  0.3842593</td><td> 22.17304</td><td>   8.520197</td><td>   0.1476552</td><td> 21.669960</td><td>28.679944</td></tr>\n",
       "</tbody>\n",
       "</table>\n"
      ],
      "text/latex": [
       "A data.frame: 5 × 9\n",
       "\\begin{tabular}{lllllllll}\n",
       " country & gdp\\_pc & labor\\_prod & devgdp & devlp & devgdplp & sqdev & regres & fitted\\\\\n",
       " <chr> & <dbl> & <dbl> & <dbl> & <dbl> & <dbl> & <dbl> & <dbl> & <dbl>\\\\\n",
       "\\hline\n",
       "\t Australia    & 57.071168 & 72.841576 &  36.9132636 &  44.66471 & 1648.720232 & 1362.5890313 &  -3.662730 & 76.504306\\\\\n",
       "\t Bolivia      &  2.579899 &  1.839881 & -17.5780056 & -26.33699 &  462.951674 &  308.9862794 &  -3.323577 &  5.163458\\\\\n",
       "\t India        &  2.169140 &  1.978327 & -17.9887645 & -26.19854 &  471.279350 &  323.5956479 &  -2.647359 &  4.625685\\\\\n",
       "\t Lithuania    & 18.427152 & 13.874642 &  -1.7307529 & -14.30222 &   24.753616 &    2.9955056 & -12.036295 & 25.910936\\\\\n",
       "\t Saudi Arabia & 20.542164 & 50.349904 &   0.3842593 &  22.17304 &    8.520197 &    0.1476552 &  21.669960 & 28.679944\\\\\n",
       "\\end{tabular}\n"
      ],
      "text/markdown": [
       "\n",
       "A data.frame: 5 × 9\n",
       "\n",
       "| country &lt;chr&gt; | gdp_pc &lt;dbl&gt; | labor_prod &lt;dbl&gt; | devgdp &lt;dbl&gt; | devlp &lt;dbl&gt; | devgdplp &lt;dbl&gt; | sqdev &lt;dbl&gt; | regres &lt;dbl&gt; | fitted &lt;dbl&gt; |\n",
       "|---|---|---|---|---|---|---|---|---|\n",
       "| Australia    | 57.071168 | 72.841576 |  36.9132636 |  44.66471 | 1648.720232 | 1362.5890313 |  -3.662730 | 76.504306 |\n",
       "| Bolivia      |  2.579899 |  1.839881 | -17.5780056 | -26.33699 |  462.951674 |  308.9862794 |  -3.323577 |  5.163458 |\n",
       "| India        |  2.169140 |  1.978327 | -17.9887645 | -26.19854 |  471.279350 |  323.5956479 |  -2.647359 |  4.625685 |\n",
       "| Lithuania    | 18.427152 | 13.874642 |  -1.7307529 | -14.30222 |   24.753616 |    2.9955056 | -12.036295 | 25.910936 |\n",
       "| Saudi Arabia | 20.542164 | 50.349904 |   0.3842593 |  22.17304 |    8.520197 |    0.1476552 |  21.669960 | 28.679944 |\n",
       "\n"
      ],
      "text/plain": [
       "  country      gdp_pc    labor_prod devgdp      devlp     devgdplp   \n",
       "1 Australia    57.071168 72.841576   36.9132636  44.66471 1648.720232\n",
       "2 Bolivia       2.579899  1.839881  -17.5780056 -26.33699  462.951674\n",
       "3 India         2.169140  1.978327  -17.9887645 -26.19854  471.279350\n",
       "4 Lithuania    18.427152 13.874642   -1.7307529 -14.30222   24.753616\n",
       "5 Saudi Arabia 20.542164 50.349904    0.3842593  22.17304    8.520197\n",
       "  sqdev        regres     fitted   \n",
       "1 1362.5890313  -3.662730 76.504306\n",
       "2  308.9862794  -3.323577  5.163458\n",
       "3  323.5956479  -2.647359  4.625685\n",
       "4    2.9955056 -12.036295 25.910936\n",
       "5    0.1476552  21.669960 28.679944"
      ]
     },
     "metadata": {},
     "output_type": "display_data"
    }
   ],
   "source": [
    "country1 <- mutate(country1, regres=labor_prod-beta0-beta1*gdp_pc)\n",
    "country1 <- mutate(country1, fitted = beta0+beta1*country1$gdp_pc)\n",
    "country1"
   ]
  },
  {
   "cell_type": "code",
   "execution_count": 36,
   "metadata": {},
   "outputs": [
    {
     "data": {
      "image/png": "[encoded data removed]",
      "text/plain": [
       "plot without title"
      ]
     },
     "metadata": {
      "image/png": {
       "height": 420,
       "width": 420
      }
     },
     "output_type": "display_data"
    }
   ],
   "source": [
    "curve(beta0 + beta1*x,min(country1$gdp_pc),max(country1$gdp_pc),\n",
    "xlab=\"GDP ($1000)\",ylab=\"labor production ($1000)\")\n",
    "points(country1$gdp_pc,country1$labor_prod)"
   ]
  },
  {
   "cell_type": "markdown",
   "metadata": {},
   "source": [
    "e) Now use the `lm()` command to run this regression automatically rather than manually as you did above and save the output as \"reg1\". \n",
    "\n",
    "Check that your estimates of $\\hat{\\beta_0}$ and $\\hat{\\beta_1}$ that you calculated manually above match the estimates using `lm()`. \n",
    "Call the `summary()` of reg1 so we can see the output."
   ]
  },
  {
   "cell_type": "code",
   "execution_count": 37,
   "metadata": {},
   "outputs": [
    {
     "data": {
      "text/plain": [
       "\n",
       "Call:\n",
       "lm(formula = labor_prod ~ gdp_pc, data = country1)\n",
       "\n",
       "Residuals:\n",
       "      1       2       3       4       5 \n",
       " -3.663  -3.324  -2.647 -12.036  21.670 \n",
       "\n",
       "Coefficients:\n",
       "            Estimate Std. Error t value Pr(>|t|)  \n",
       "(Intercept)   1.7858     9.3190   0.192   0.8603  \n",
       "gdp_pc        1.3092     0.3282   3.989   0.0282 *\n",
       "---\n",
       "Signif. codes:  0 ‘***’ 0.001 ‘**’ 0.01 ‘*’ 0.05 ‘.’ 0.1 ‘ ’ 1\n",
       "\n",
       "Residual standard error: 14.67 on 3 degrees of freedom\n",
       "Multiple R-squared:  0.8413,\tAdjusted R-squared:  0.7885 \n",
       "F-statistic: 15.91 on 1 and 3 DF,  p-value: 0.02822\n"
      ]
     },
     "metadata": {},
     "output_type": "display_data"
    }
   ],
   "source": [
    "holder <- lm(labor_prod~gdp_pc,data=country1)\n",
    "summary(holder)"
   ]
  },
  {
   "cell_type": "markdown",
   "metadata": {},
   "source": [
    "f) According to the estimated relation, what is the predicted $\\widehat{E}$ for a country with a GDP per capita of \\$12,000?\n",
    "\n"
   ]
  },
  {
   "cell_type": "code",
   "execution_count": 38,
   "metadata": {},
   "outputs": [
    {
     "data": {
      "text/html": [
       "17.4964055637426"
      ],
      "text/latex": [
       "17.4964055637426"
      ],
      "text/markdown": [
       "17.4964055637426"
      ],
      "text/plain": [
       "[1] 17.49641"
      ]
     },
     "metadata": {},
     "output_type": "display_data"
    }
   ],
   "source": [
    "beta0 + ((beta1*12000)/1000)"
   ]
  },
  {
   "cell_type": "code",
   "execution_count": 39,
   "metadata": {},
   "outputs": [
    {
     "data": {
      "text/html": [
       "17496.4055637426"
      ],
      "text/latex": [
       "17496.4055637426"
      ],
      "text/markdown": [
       "17496.4055637426"
      ],
      "text/plain": [
       "[1] 17496.41"
      ]
     },
     "metadata": {},
     "output_type": "display_data"
    }
   ],
   "source": [
    "(beta0 + ((beta1*12000)/1000))*1000"
   ]
  },
  {
   "cell_type": "markdown",
   "metadata": {},
   "source": [
    "The prediction for $12,000 GDP per capita would be 17496 or 17.496(thousands) in labor production."
   ]
  },
  {
   "cell_type": "markdown",
   "metadata": {},
   "source": [
    "g) How much of the variation in Labor Productivity in Agriculture for these 5 countries is explained by their GDP per capita?\n",
    "\n",
    "Calculate the $R^2$ by calculating the sum of squared model residuals and the sum of squared total (variation of the dependent variable). Use only basic mathematical commands (`+`, `-`, `*`, `\\`, `sum()`, `^`) to do this. Then calculate $R^2$ and make sure to call the value so we can see it printed out."
   ]
  },
  {
   "cell_type": "code",
   "execution_count": 40,
   "metadata": {},
   "outputs": [
    {
     "data": {
      "text/html": [
       "0.841339091702071"
      ],
      "text/latex": [
       "0.841339091702071"
      ],
      "text/markdown": [
       "0.841339091702071"
      ],
      "text/plain": [
       "[1] 0.8413391"
      ]
     },
     "metadata": {},
     "output_type": "display_data"
    }
   ],
   "source": [
    "##r_squared <- sum((country1$devgdp^2) + (country1$devlp^2))\n",
    "##r_squared\n",
    "SST<-sum(country1$devlp^2)\n",
    "SSR<-sum(country1$regres^2)\n",
    "r_squared<-1-SSR/SST\n",
    "r_squared"
   ]
  },
  {
   "cell_type": "markdown",
   "metadata": {},
   "source": [
    " "
   ]
  },
  {
   "cell_type": "markdown",
   "metadata": {},
   "source": [
    "h) Repeat exercises (a), (b), and (e) for the additional set of countries whose data is available in the file countries2.csv.\n",
    "*Note:* We outline how you might fill out the code in separate cells. If needed, click on \"Insert\" in the menu to add additional cells below, or simply click \"b\" on your keyboard while not in edit mode to add a cell below. Click \"d\" twice while not in edit mode to delete a cell, or go to \"Edit\"->\"Delete Cells\"."
   ]
  },
  {
   "cell_type": "code",
   "execution_count": 45,
   "metadata": {},
   "outputs": [
    {
     "data": {
      "text/html": [
       "<table class=\"dataframe\">\n",
       "<caption>A data.frame: 5 × 3</caption>\n",
       "<thead>\n",
       "\t<tr><th></th><th scope=col>country</th><th scope=col>gdp_pc</th><th scope=col>labor_prod</th></tr>\n",
       "\t<tr><th></th><th scope=col>&lt;chr&gt;</th><th scope=col>&lt;dbl&gt;</th><th scope=col>&lt;dbl&gt;</th></tr>\n",
       "</thead>\n",
       "<tbody>\n",
       "\t<tr><th scope=row>1</th><td>China     </td><td> 8.254301</td><td> 4.188375</td></tr>\n",
       "\t<tr><th scope=row>2</th><td>Mexico    </td><td>10.275634</td><td> 6.057267</td></tr>\n",
       "\t<tr><th scope=row>3</th><td>Nigeria   </td><td> 2.386872</td><td> 6.186895</td></tr>\n",
       "\t<tr><th scope=row>4</th><td>Qatar     </td><td>62.021075</td><td>11.925953</td></tr>\n",
       "\t<tr><th scope=row>5</th><td>Uzbekistan</td><td> 2.458994</td><td> 5.737385</td></tr>\n",
       "</tbody>\n",
       "</table>\n"
      ],
      "text/latex": [
       "A data.frame: 5 × 3\n",
       "\\begin{tabular}{r|lll}\n",
       "  & country & gdp\\_pc & labor\\_prod\\\\\n",
       "  & <chr> & <dbl> & <dbl>\\\\\n",
       "\\hline\n",
       "\t1 & China      &  8.254301 &  4.188375\\\\\n",
       "\t2 & Mexico     & 10.275634 &  6.057267\\\\\n",
       "\t3 & Nigeria    &  2.386872 &  6.186895\\\\\n",
       "\t4 & Qatar      & 62.021075 & 11.925953\\\\\n",
       "\t5 & Uzbekistan &  2.458994 &  5.737385\\\\\n",
       "\\end{tabular}\n"
      ],
      "text/markdown": [
       "\n",
       "A data.frame: 5 × 3\n",
       "\n",
       "| <!--/--> | country &lt;chr&gt; | gdp_pc &lt;dbl&gt; | labor_prod &lt;dbl&gt; |\n",
       "|---|---|---|---|\n",
       "| 1 | China      |  8.254301 |  4.188375 |\n",
       "| 2 | Mexico     | 10.275634 |  6.057267 |\n",
       "| 3 | Nigeria    |  2.386872 |  6.186895 |\n",
       "| 4 | Qatar      | 62.021075 | 11.925953 |\n",
       "| 5 | Uzbekistan |  2.458994 |  5.737385 |\n",
       "\n"
      ],
      "text/plain": [
       "  country    gdp_pc    labor_prod\n",
       "1 China       8.254301  4.188375 \n",
       "2 Mexico     10.275634  6.057267 \n",
       "3 Nigeria     2.386872  6.186895 \n",
       "4 Qatar      62.021075 11.925953 \n",
       "5 Uzbekistan  2.458994  5.737385 "
      ]
     },
     "metadata": {},
     "output_type": "display_data"
    },
    {
     "data": {
      "image/png": "[encoded data removed]",
      "text/plain": [
       "plot without title"
      ]
     },
     "metadata": {
      "image/png": {
       "height": 420,
       "width": 420
      }
     },
     "output_type": "display_data"
    }
   ],
   "source": [
    "# (a) Steps 1-3\n",
    "country2 <- read.csv('countries2.csv', header = TRUE)\n",
    "names(country2) <- c(\"country\",\"gdp_pc\",\"labor_prod\")\n",
    "head(country2)\n",
    "plot(country1$gdp_pc,country1$labor_prod, \n",
    "     xlab = \"GDP($1000)\",ylab=\"labor production($1000)\")"
   ]
  },
  {
   "cell_type": "code",
   "execution_count": 42,
   "metadata": {},
   "outputs": [
    {
     "data": {
      "text/html": [
       "<table class=\"dataframe\">\n",
       "<caption>A data.frame: 5 × 6</caption>\n",
       "<thead>\n",
       "\t<tr><th scope=col>country</th><th scope=col>gdp_pc</th><th scope=col>labor_prod</th><th scope=col>devgdp</th><th scope=col>devlp</th><th scope=col>devgdplp</th></tr>\n",
       "\t<tr><th scope=col>&lt;chr&gt;</th><th scope=col>&lt;dbl&gt;</th><th scope=col>&lt;dbl&gt;</th><th scope=col>&lt;dbl&gt;</th><th scope=col>&lt;dbl&gt;</th><th scope=col>&lt;dbl&gt;</th></tr>\n",
       "</thead>\n",
       "<tbody>\n",
       "\t<tr><td>China     </td><td> 8.254301</td><td> 4.188375</td><td> -8.825074</td><td>-2.6307998</td><td> 23.217003</td></tr>\n",
       "\t<tr><td>Mexico    </td><td>10.275634</td><td> 6.057267</td><td> -6.803741</td><td>-0.7619080</td><td>  5.183825</td></tr>\n",
       "\t<tr><td>Nigeria   </td><td> 2.386872</td><td> 6.186895</td><td>-14.692503</td><td>-0.6322796</td><td>  9.289770</td></tr>\n",
       "\t<tr><td>Qatar     </td><td>62.021075</td><td>11.925953</td><td> 44.941700</td><td> 5.1067778</td><td>229.507272</td></tr>\n",
       "\t<tr><td>Uzbekistan</td><td> 2.458994</td><td> 5.737385</td><td>-14.620381</td><td>-1.0817905</td><td> 15.816189</td></tr>\n",
       "</tbody>\n",
       "</table>\n"
      ],
      "text/latex": [
       "A data.frame: 5 × 6\n",
       "\\begin{tabular}{llllll}\n",
       " country & gdp\\_pc & labor\\_prod & devgdp & devlp & devgdplp\\\\\n",
       " <chr> & <dbl> & <dbl> & <dbl> & <dbl> & <dbl>\\\\\n",
       "\\hline\n",
       "\t China      &  8.254301 &  4.188375 &  -8.825074 & -2.6307998 &  23.217003\\\\\n",
       "\t Mexico     & 10.275634 &  6.057267 &  -6.803741 & -0.7619080 &   5.183825\\\\\n",
       "\t Nigeria    &  2.386872 &  6.186895 & -14.692503 & -0.6322796 &   9.289770\\\\\n",
       "\t Qatar      & 62.021075 & 11.925953 &  44.941700 &  5.1067778 & 229.507272\\\\\n",
       "\t Uzbekistan &  2.458994 &  5.737385 & -14.620381 & -1.0817905 &  15.816189\\\\\n",
       "\\end{tabular}\n"
      ],
      "text/markdown": [
       "\n",
       "A data.frame: 5 × 6\n",
       "\n",
       "| country &lt;chr&gt; | gdp_pc &lt;dbl&gt; | labor_prod &lt;dbl&gt; | devgdp &lt;dbl&gt; | devlp &lt;dbl&gt; | devgdplp &lt;dbl&gt; |\n",
       "|---|---|---|---|---|---|\n",
       "| China      |  8.254301 |  4.188375 |  -8.825074 | -2.6307998 |  23.217003 |\n",
       "| Mexico     | 10.275634 |  6.057267 |  -6.803741 | -0.7619080 |   5.183825 |\n",
       "| Nigeria    |  2.386872 |  6.186895 | -14.692503 | -0.6322796 |   9.289770 |\n",
       "| Qatar      | 62.021075 | 11.925953 |  44.941700 |  5.1067778 | 229.507272 |\n",
       "| Uzbekistan |  2.458994 |  5.737385 | -14.620381 | -1.0817905 |  15.816189 |\n",
       "\n"
      ],
      "text/plain": [
       "  country    gdp_pc    labor_prod devgdp     devlp      devgdplp  \n",
       "1 China       8.254301  4.188375   -8.825074 -2.6307998  23.217003\n",
       "2 Mexico     10.275634  6.057267   -6.803741 -0.7619080   5.183825\n",
       "3 Nigeria     2.386872  6.186895  -14.692503 -0.6322796   9.289770\n",
       "4 Qatar      62.021075 11.925953   44.941700  5.1067778 229.507272\n",
       "5 Uzbekistan  2.458994  5.737385  -14.620381 -1.0817905  15.816189"
      ]
     },
     "metadata": {},
     "output_type": "display_data"
    },
    {
     "data": {
      "text/html": [
       "<style>\n",
       ".list-inline {list-style: none; margin:0; padding: 0}\n",
       ".list-inline>li {display: inline-block}\n",
       ".list-inline>li:not(:last-child)::after {content: \"\\00b7\"; padding: 0 .5ex}\n",
       "</style>\n",
       "<ol class=list-inline><li>17.0793751492</li><li>6.819175057</li><li>70.7535145427618</li><li>643.388595720871</li></ol>\n"
      ],
      "text/latex": [
       "\\begin{enumerate*}\n",
       "\\item 17.0793751492\n",
       "\\item 6.819175057\n",
       "\\item 70.7535145427618\n",
       "\\item 643.388595720871\n",
       "\\end{enumerate*}\n"
      ],
      "text/markdown": [
       "1. 17.0793751492\n",
       "2. 6.819175057\n",
       "3. 70.7535145427618\n",
       "4. 643.388595720871\n",
       "\n",
       "\n"
      ],
      "text/plain": [
       "[1]  17.079375   6.819175  70.753515 643.388596"
      ]
     },
     "metadata": {},
     "output_type": "display_data"
    }
   ],
   "source": [
    "# Means of country 2 GDP and Labor\n",
    "library(tidyverse)\n",
    "mean_gdp_pc_2 <- mean(country2$gdp_pc)\n",
    "mean_labor_prod_2 <- mean(country2$labor_prod)\n",
    "\n",
    "\n",
    "# Covariance of country 2\n",
    "country2 <- mutate(country2, devgdp = gdp_pc - mean_gdp_pc_2,\n",
    "                   devlp = labor_prod - mean_labor_prod_2)\n",
    "country2 <- mutate(country2, devgdplp = devlp*devgdp)\n",
    "covar_2 <- sum(country2$devgdplp)/(nrow(country2)-1)\n",
    "country2\n",
    "\n",
    "#Variance of country 2\n",
    "country2 <- mutate(country2, sqdev = devgdp^2)\n",
    "var_2 <- sum(country2$sqdev)/(nrow(country2)-1)\n",
    "\n",
    "# Means of GDP PC, labor and the Coraviance and Variance\n",
    "c(mean_gdp_pc_2,mean_labor_prod_2,covar_2,var_2)"
   ]
  },
  {
   "cell_type": "code",
   "execution_count": 22,
   "metadata": {},
   "outputs": [
    {
     "data": {
      "text/html": [
       "<style>\n",
       ".list-inline {list-style: none; margin:0; padding: 0}\n",
       ".list-inline>li {display: inline-block}\n",
       ".list-inline>li:not(:last-child)::after {content: \"\\00b7\"; padding: 0 .5ex}\n",
       "</style>\n",
       "<ol class=list-inline><li>4.94095429580318</li><li>0.109970109842385</li></ol>\n"
      ],
      "text/latex": [
       "\\begin{enumerate*}\n",
       "\\item 4.94095429580318\n",
       "\\item 0.109970109842385\n",
       "\\end{enumerate*}\n"
      ],
      "text/markdown": [
       "1. 4.94095429580318\n",
       "2. 0.109970109842385\n",
       "\n",
       "\n"
      ],
      "text/plain": [
       "[1] 4.9409543 0.1099701"
      ]
     },
     "metadata": {},
     "output_type": "display_data"
    }
   ],
   "source": [
    "# Beta 1 and bet0 for country 2\n",
    "beta1_2 <- covar_2/var_2\n",
    "beta0_2 <- mean_labor_prod_2 - mean_gdp_pc_2*beta1_2\n",
    "c(beta0_2,beta1_2)"
   ]
  },
  {
   "cell_type": "code",
   "execution_count": 23,
   "metadata": {},
   "outputs": [
    {
     "data": {
      "text/html": [
       "<table class=\"dataframe\">\n",
       "<caption>A data.frame: 5 × 9</caption>\n",
       "<thead>\n",
       "\t<tr><th scope=col>country</th><th scope=col>gdp_pc</th><th scope=col>labor_prod</th><th scope=col>devgdp</th><th scope=col>devlp</th><th scope=col>devgdplp</th><th scope=col>sqdev</th><th scope=col>regres</th><th scope=col>fitted</th></tr>\n",
       "\t<tr><th scope=col>&lt;chr&gt;</th><th scope=col>&lt;dbl&gt;</th><th scope=col>&lt;dbl&gt;</th><th scope=col>&lt;dbl&gt;</th><th scope=col>&lt;dbl&gt;</th><th scope=col>&lt;dbl&gt;</th><th scope=col>&lt;dbl&gt;</th><th scope=col>&lt;dbl&gt;</th><th scope=col>&lt;dbl&gt;</th></tr>\n",
       "</thead>\n",
       "<tbody>\n",
       "\t<tr><td>China     </td><td> 8.254301</td><td> 4.188375</td><td> -8.825074</td><td>-2.6307998</td><td> 23.217003</td><td>  77.88193</td><td>-1.6603054</td><td> 5.848681</td></tr>\n",
       "\t<tr><td>Mexico    </td><td>10.275634</td><td> 6.057267</td><td> -6.803741</td><td>-0.7619080</td><td>  5.183825</td><td>  46.29089</td><td>-0.0136998</td><td> 6.070967</td></tr>\n",
       "\t<tr><td>Nigeria   </td><td> 2.386872</td><td> 6.186895</td><td>-14.692503</td><td>-0.6322796</td><td>  9.289770</td><td> 215.86966</td><td> 0.9834567</td><td> 5.203439</td></tr>\n",
       "\t<tr><td>Qatar     </td><td>62.021075</td><td>11.925953</td><td> 44.941700</td><td> 5.1067778</td><td>229.507272</td><td>2019.75636</td><td> 0.1645341</td><td>11.761419</td></tr>\n",
       "\t<tr><td>Uzbekistan</td><td> 2.458994</td><td> 5.737385</td><td>-14.620381</td><td>-1.0817905</td><td> 15.816189</td><td> 213.75554</td><td> 0.5260144</td><td> 5.211370</td></tr>\n",
       "</tbody>\n",
       "</table>\n"
      ],
      "text/latex": [
       "A data.frame: 5 × 9\n",
       "\\begin{tabular}{lllllllll}\n",
       " country & gdp\\_pc & labor\\_prod & devgdp & devlp & devgdplp & sqdev & regres & fitted\\\\\n",
       " <chr> & <dbl> & <dbl> & <dbl> & <dbl> & <dbl> & <dbl> & <dbl> & <dbl>\\\\\n",
       "\\hline\n",
       "\t China      &  8.254301 &  4.188375 &  -8.825074 & -2.6307998 &  23.217003 &   77.88193 & -1.6603054 &  5.848681\\\\\n",
       "\t Mexico     & 10.275634 &  6.057267 &  -6.803741 & -0.7619080 &   5.183825 &   46.29089 & -0.0136998 &  6.070967\\\\\n",
       "\t Nigeria    &  2.386872 &  6.186895 & -14.692503 & -0.6322796 &   9.289770 &  215.86966 &  0.9834567 &  5.203439\\\\\n",
       "\t Qatar      & 62.021075 & 11.925953 &  44.941700 &  5.1067778 & 229.507272 & 2019.75636 &  0.1645341 & 11.761419\\\\\n",
       "\t Uzbekistan &  2.458994 &  5.737385 & -14.620381 & -1.0817905 &  15.816189 &  213.75554 &  0.5260144 &  5.211370\\\\\n",
       "\\end{tabular}\n"
      ],
      "text/markdown": [
       "\n",
       "A data.frame: 5 × 9\n",
       "\n",
       "| country &lt;chr&gt; | gdp_pc &lt;dbl&gt; | labor_prod &lt;dbl&gt; | devgdp &lt;dbl&gt; | devlp &lt;dbl&gt; | devgdplp &lt;dbl&gt; | sqdev &lt;dbl&gt; | regres &lt;dbl&gt; | fitted &lt;dbl&gt; |\n",
       "|---|---|---|---|---|---|---|---|---|\n",
       "| China      |  8.254301 |  4.188375 |  -8.825074 | -2.6307998 |  23.217003 |   77.88193 | -1.6603054 |  5.848681 |\n",
       "| Mexico     | 10.275634 |  6.057267 |  -6.803741 | -0.7619080 |   5.183825 |   46.29089 | -0.0136998 |  6.070967 |\n",
       "| Nigeria    |  2.386872 |  6.186895 | -14.692503 | -0.6322796 |   9.289770 |  215.86966 |  0.9834567 |  5.203439 |\n",
       "| Qatar      | 62.021075 | 11.925953 |  44.941700 |  5.1067778 | 229.507272 | 2019.75636 |  0.1645341 | 11.761419 |\n",
       "| Uzbekistan |  2.458994 |  5.737385 | -14.620381 | -1.0817905 |  15.816189 |  213.75554 |  0.5260144 |  5.211370 |\n",
       "\n"
      ],
      "text/plain": [
       "  country    gdp_pc    labor_prod devgdp     devlp      devgdplp   sqdev     \n",
       "1 China       8.254301  4.188375   -8.825074 -2.6307998  23.217003   77.88193\n",
       "2 Mexico     10.275634  6.057267   -6.803741 -0.7619080   5.183825   46.29089\n",
       "3 Nigeria     2.386872  6.186895  -14.692503 -0.6322796   9.289770  215.86966\n",
       "4 Qatar      62.021075 11.925953   44.941700  5.1067778 229.507272 2019.75636\n",
       "5 Uzbekistan  2.458994  5.737385  -14.620381 -1.0817905  15.816189  213.75554\n",
       "  regres     fitted   \n",
       "1 -1.6603054  5.848681\n",
       "2 -0.0136998  6.070967\n",
       "3  0.9834567  5.203439\n",
       "4  0.1645341 11.761419\n",
       "5  0.5260144  5.211370"
      ]
     },
     "metadata": {},
     "output_type": "display_data"
    }
   ],
   "source": [
    "#best fit line and regress lines\n",
    "country2 <- mutate(country2, regres=labor_prod-beta0_2-beta1_2*gdp_pc)\n",
    "country2 <- mutate(country2, fitted = beta0_2+beta1_2*country2$gdp_pc)\n",
    "country2"
   ]
  },
  {
   "cell_type": "code",
   "execution_count": 46,
   "metadata": {},
   "outputs": [
    {
     "data": {
      "image/png": "[encoded data removed]",
      "text/plain": [
       "plot without title"
      ]
     },
     "metadata": {
      "image/png": {
       "height": 420,
       "width": 420
      }
     },
     "output_type": "display_data"
    }
   ],
   "source": [
    "# graph to help visualize\n",
    "curve(beta0_2+ beta1_2*x,min(country2$gdp_pc),max(country2$gdp_pc),\n",
    "xlab=\"GDP($1000)\",ylab=\"labor production($1000)\")\n",
    "points(country2$gdp_pc,country2$labor_prod)"
   ]
  },
  {
   "cell_type": "code",
   "execution_count": 25,
   "metadata": {},
   "outputs": [
    {
     "data": {
      "text/plain": [
       "\n",
       "Call:\n",
       "lm(formula = labor_prod ~ gdp_pc, data = country2)\n",
       "\n",
       "Residuals:\n",
       "      1       2       3       4       5 \n",
       "-1.6603 -0.0137  0.9835  0.1645  0.5260 \n",
       "\n",
       "Coefficients:\n",
       "            Estimate Std. Error t value Pr(>|t|)   \n",
       "(Intercept)  4.94095    0.64861   7.618   0.0047 **\n",
       "gdp_pc       0.10997    0.02284   4.815   0.0171 * \n",
       "---\n",
       "Signif. codes:  0 ‘***’ 0.001 ‘**’ 0.01 ‘*’ 0.05 ‘.’ 0.1 ‘ ’ 1\n",
       "\n",
       "Residual standard error: 1.159 on 3 degrees of freedom\n",
       "Multiple R-squared:  0.8854,\tAdjusted R-squared:  0.8472 \n",
       "F-statistic: 23.18 on 1 and 3 DF,  p-value: 0.01707\n"
      ]
     },
     "metadata": {},
     "output_type": "display_data"
    }
   ],
   "source": [
    "# Lm and summary function to check work\n",
    "holder_2 <- lm(labor_prod~gdp_pc,data=country2)\n",
    "summary(holder_2)"
   ]
  },
  {
   "cell_type": "code",
   "execution_count": 26,
   "metadata": {},
   "outputs": [
    {
     "data": {
      "text/html": [
       "0.885415213938706"
      ],
      "text/latex": [
       "0.885415213938706"
      ],
      "text/markdown": [
       "0.885415213938706"
      ],
      "text/plain": [
       "[1] 0.8854152"
      ]
     },
     "metadata": {},
     "output_type": "display_data"
    }
   ],
   "source": [
    "# Unsure if I had to repeat this step for R squared\n",
    "SST_2<-sum(country2$devlp^2)\n",
    "SSR_2<-sum(country2$regres^2)\n",
    "r_squared_2<-1-SSR_2/SST_2\n",
    "r_squared_2"
   ]
  },
  {
   "cell_type": "markdown",
   "metadata": {},
   "source": [
    "i) How do your estimates of $\\hat{\\beta}_0$ and $\\hat{\\beta}_1$ change between the two sets of 5 countries? Discuss and briefly explain this variation in 3-5 sentences."
   ]
  },
  {
   "cell_type": "code",
   "execution_count": 27,
   "metadata": {},
   "outputs": [
    {
     "data": {
      "text/html": [
       "<style>\n",
       ".list-inline {list-style: none; margin:0; padding: 0}\n",
       ".list-inline>li {display: inline-block}\n",
       ".list-inline>li:not(:last-child)::after {content: \"\\00b7\"; padding: 0 .5ex}\n",
       "</style>\n",
       "<ol class=list-inline><li>1.78581205936217</li><li>1.30921612536504</li><li>4.94095429580318</li><li>0.109970109842385</li></ol>\n"
      ],
      "text/latex": [
       "\\begin{enumerate*}\n",
       "\\item 1.78581205936217\n",
       "\\item 1.30921612536504\n",
       "\\item 4.94095429580318\n",
       "\\item 0.109970109842385\n",
       "\\end{enumerate*}\n"
      ],
      "text/markdown": [
       "1. 1.78581205936217\n",
       "2. 1.30921612536504\n",
       "3. 4.94095429580318\n",
       "4. 0.109970109842385\n",
       "\n",
       "\n"
      ],
      "text/plain": [
       "[1] 1.7858121 1.3092161 4.9409543 0.1099701"
      ]
     },
     "metadata": {},
     "output_type": "display_data"
    }
   ],
   "source": [
    "c(beta0,beta1,beta0_2,beta1_2)"
   ]
  },
  {
   "cell_type": "markdown",
   "metadata": {},
   "source": [
    "Countries1 = Set A and Countries 2 = Set B ==> I prefer these names. \n",
    "There are changes between two sets of countries shown through their B0 and b1. \n",
    "\n",
    "In set A, we observe beta0 to be at 1.78 and for set B, we observe beta0 to be 4.9. This predicts a higher amount of labor production in agruilcture country when the GDP is at 0 for set B, so set B at 0 GDP per capital has higher production than set A at 0 GDP spending.\n",
    "\n",
    "In set A, we observe beta1 to be at 1.30 and for set B, we observe the beta1 to be at 0.10. This predicts that set A, would have change of 1.30 or 130%(increase) change for every added unit of GDP(increase) and for set B the change would icnrease by .10 or 10% for every added unit of GDP. "
   ]
  },
  {
   "cell_type": "markdown",
   "metadata": {},
   "source": [
    " # Exercise 2. Regression Assumptions"
   ]
  },
  {
   "cell_type": "markdown",
   "metadata": {},
   "source": [
    "Refer to the first figure.  Suppose you wanted to estimate the relationship between GDP and Agricultural Productivity.  \n",
    "\n",
    "a) Write down assumption SLR2.  Interpret the assumption in this context (1-3 sentences), and discuss whether you think it is likely to hold for this exercise (2-4 sentences)"
   ]
  },
  {
   "cell_type": "markdown",
   "metadata": {},
   "source": [
    "SLR2 states that {(xi,yi), i = 1 --- N} is a random sample from the population. This assumptions is telling us that we can pick random 5 countries from all countries and not cherry pick countries and expect the same results(linear regression). SLR2 doesn't hold in these two data sets of countries because its so drastically different between beta1 are by 10 times. If they SLR2 would hold true we would need both data sets or samples to be close in their Beta1 values to one another when calculated. "
   ]
  },
  {
   "cell_type": "markdown",
   "metadata": {},
   "source": [
    "b) Write down assumption SLR4. Interpret the assumption in this context (1-3 sentences), and discuss whether you think it is likely to hold for this exercise (2-4 sentences)"
   ]
  },
  {
   "cell_type": "markdown",
   "metadata": {},
   "source": [
    "SLR4 states that no matter what we observe in X to be, we expect that unobserved in u to be zero E|u|x| = 0. The difference between bet0 tells us that the measurement has incurracy by the two groups of countries data set. In this case the SLR4 wouldn't hold true because if you select more than 2 data sets and the Beta0 not are different by much than SLR4 doesn't hold true.Since beta0 are drastically different you haven't produced the \"U\" correctly. U is a factor of 4 different between country 1 and country 2 and not 0, tells us they are inendquatively measured, hence why SLR doesn't hold True. "
   ]
  },
  {
   "cell_type": "markdown",
   "metadata": {},
   "source": [
    "# Submission Instructions \n",
    "\n",
    "Go to the file dropdown menu and select the ”Download as” dropdown menu. In this menu make sure to select ”PDF via HTML” (the bottom option, not the middle one) or \"PDF via Chrome\" (if that option appears instead). \n",
    "\n",
    "The figures in the problem statement may not show up in the pdf you generate. That is ok.\n",
    "\n",
    "Once you have downloaded this pdf, make sure it shows all your answers and upload it to Gradescope."
   ]
  }
 ],
 "metadata": {
  "kernelspec": {
   "display_name": "R",
   "language": "R",
   "name": "ir"
  },
  "language_info": {
   "codemirror_mode": "r",
   "file_extension": ".r",
   "mimetype": "text/x-r-source",
   "name": "R",
   "pygments_lexer": "r",
   "version": "4.2.1"
  }
 },
 "nbformat": 4,
 "nbformat_minor": 2
}

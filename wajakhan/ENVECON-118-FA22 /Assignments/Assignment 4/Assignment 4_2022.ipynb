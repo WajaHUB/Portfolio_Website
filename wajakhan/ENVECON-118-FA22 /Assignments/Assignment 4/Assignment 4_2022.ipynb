{
 "cells": [
  {
   "cell_type": "markdown",
   "metadata": {},
   "source": [
    "# EEP/IAS 118 Assignment 4\n",
    "Due on November 14th, 2022 at 11.59pm on Gradescope\n"
   ]
  },
  {
   "cell_type": "markdown",
   "metadata": {},
   "source": [
    "Trees are able to absorb a lot of the CO2 in the atmosphere. Thus, a lot of policy attention has been focused on the role trees can play in slowing down the increase in CO2 levels. One potential avenue has been to reduce deforestation, by preventing forest owners from cutting down trees. In the context we study and many other contexts, tree cutting is a very lucrative activity (mostly from selling timber), but also provides firewood for fuel and cooking. People might resort to tree cutting as their main economic activity, or to provide them with extra income in case of an emergency. \n",
    "\n",
    "One paper by Jayachandran, de Laat, Lambin, Stanton, Audy and Thomas (2017) looks at a policy in Uganda, where farmers in different villages are enrolled into a randomized controlled trial and are offered cash  in exchange of not cutting down their trees (this type of intervention or policy is often called payment for ecosystem services or PES). However there is still debate over whether these are effective (especially cost-effective) policies for environmental conservation. (The paper is [Cash for carbon: A randomized trial of payments for ecosystem services to reduce deforestation](https://www-science-org.libproxy.berkeley.edu/doi/full/10.1126/science.aan0568#supplementary-materials) _Science_ Vol 357, Issue 6348.)\n",
    "\n",
    "We are going to work with a (simplified) version of their data for this problem set to estimate the effects of cash incentives on deforestation. Compared to the published paper, we also look at a simplified version of the treatment effects."
   ]
  },
  {
   "cell_type": "markdown",
   "metadata": {},
   "source": [
    "### Part A:\n",
    "\n",
    "**Suppose the researchers did not conduct a randomized controlled trial. Instead they surveyed farmers and compared tree cover in villages where village leaders decided to give financial incentives to farmers to stop cutting down trees, compared to villages where no such program was in place. Would this comparison allow you to estimate the effect of cash incentives on environmental conservation? Explain why or why not using both words and potential outcomes notation. \n",
    "How would the expression for the estimated impact of cash incentives on tree cover differ if cash incentives were randomized?**"
   ]
  },
  {
   "cell_type": "markdown",
   "metadata": {},
   "source": [
    "a) No, because this will not give the real interpretation of the ideal world data model since MLR4 is being violated due to no randomization. So no you can't estiamte the effect of cash incentive on enviromental conservation as there is selection Bias that exist due to not being randomzied.\n",
    "\n",
    "b) If the researchers radomized correctly, the difference between controlled and treatment group wouldn't be statistically different (expectation), if there is any difference its because of treatment rather than the difference between treatment and control group.\n",
    "\n",
    "c) If randomization is properly done, the two groups should not\n",
    "be statistically different (in expectation) → any difference can\n",
    "be attributed solely to the intervention/treatment, rather than\n",
    "differences between the treatment and control groups\n"
   ]
  },
  {
   "cell_type": "markdown",
   "metadata": {},
   "source": [
    "### Part B:\n",
    "\n",
    "Now let's analyze the RCT data. The dataset contains observations of sixteen variables from 995 farm households. The variables are as follows:\n",
    "\n",
    "- $partid$: This is just the unique ID for each farmer\n",
    "- $forest\\_cover$: This is the forest cover tree measured in hectares. The tree cover helps us measure the extent of the deforestation. A higher tree cover corresponds to more trees/higher tree density.\n",
    "- $cash$: This is the treatment variable of interest - equal to 1 if the household was given cash to not cut trees (i.e. in the treatment group) and 0 otherwise (i.e in the control group)\n",
    "- $cut\\_cult$: This is a dummy equal to 1 if households cut trees to clear area for agriculture and 0 otherwise\n",
    "- $cut\\_timber$: This is a dummy equal to 1 if households cut trees for timber products and 0 otherwise \n",
    "- $cut\\_emerg$: This is a dummy equal to 1 if households cut trees for emergency/large expenses and 0 otherwise\n",
    "- $any\\_tree\\_cut\\_1yr$: This is a dummy equal to 1 if households cut any tree during the program and 0 otherwise\n",
    "- $any\\_tree\\_cut\\_3yr$: This is a dummy equal to 1 if households cut any tree in the past 3 years and 0 otherwise\n",
    "- $timvisit\\_y$: This is a dummy equal to 1 if the household received any visit from timber dealers looking to buy trees in the past year and 0 otherwise \n",
    "- $opi\\_hurtenv\\_agr$: This is a dummy equal to 1 if the household head agrees that he has to damage the environment to improve his life and 0 otherwise.\n",
    "- $envprog\\_bi$: This is a dummy equal to 1 if the household head has been involved in any environmental organization and 0 otherwise.\n",
    "- $log\\_tim\\_price$: This is the log of total income from cutting trees earned by the household.\n",
    "- $hhead\\_age$: This is the age of the household head\n",
    "- $hhead\\_educ$: This is the number of years of education of the household head\n",
    "- $hhland\\_area$: This is the land area owned by the household, in hectares (ha)\n",
    "- $hhforest\\_area$: This is the forest area owned by the household, in hectares (ha)\n",
    "\n",
    "Note that all variables other than tree cover and cutting trees during the program were measured *before* the distribution of incentives. They were measured either the year before or for the 3 years before the intervention.\n",
    "\n",
    "a) **Before running any regressions, show how you can obtain the average treatment effect (ATE) of cash incentives on tree cover. Then write down the regression you could use to estimate the ATE.**"
   ]
  },
  {
   "cell_type": "markdown",
   "metadata": {},
   "source": [
    "To obtain the average effect (ATE) of cash incentives on tree cover, you would use this regression: \n",
    "\n",
    "Forest_cover = B0 + B1T + U\n",
    "\n",
    "E[Forest_cover^T|cash = 1] - E[Forest_cover^C|cash = 0] --> (True effect)\n",
    "\n",
    "forest_cover ~ Cash == 1 (Treatment group) - cash == 1 (Control group) --> (code)"
   ]
  },
  {
   "cell_type": "markdown",
   "metadata": {},
   "source": [
    "**b) Read in the data from `ps4_pes_data.dta` (remember you need to use the `read_dta` function from the `haven` package to read `.dta` files. You will also probably want to load `tidyverse`).** \n",
    "\n",
    "**Then, estimate the regression you wrote down using `lm()` and test whether the ATE is statistically significant at a 99\\% confidence level.** \n",
    "\n",
    "**Is the ATE on cutting trees also statistically significant at the 99\\% level? Show your work and interpret the coefficient**"
   ]
  },
  {
   "cell_type": "code",
   "execution_count": 4,
   "metadata": {
    "scrolled": true
   },
   "outputs": [
    {
     "data": {
      "text/plain": [
       "\n",
       "Call:\n",
       "lm(formula = forest_cover ~ cash, data = data)\n",
       "\n",
       "Residuals:\n",
       "     Min       1Q   Median       3Q      Max \n",
       "-12.0697  -0.0676   0.1363   0.3175  17.2493 \n",
       "\n",
       "Coefficients:\n",
       "            Estimate Std. Error t value Pr(>|t|)    \n",
       "(Intercept) -0.31889    0.05840  -5.460 6.01e-08 ***\n",
       "cash         0.18257    0.08174   2.234   0.0257 *  \n",
       "---\n",
       "Signif. codes:  0 ‘***’ 0.001 ‘**’ 0.01 ‘*’ 0.05 ‘.’ 0.1 ‘ ’ 1\n",
       "\n",
       "Residual standard error: 1.289 on 993 degrees of freedom\n",
       "Multiple R-squared:  0.004999,\tAdjusted R-squared:  0.003997 \n",
       "F-statistic: 4.989 on 1 and 993 DF,  p-value: 0.02573\n"
      ]
     },
     "metadata": {},
     "output_type": "display_data"
    }
   ],
   "source": [
    "# code here\n",
    "library(haven) \n",
    "library(tidyverse)\n",
    "data <- read_dta('ps4_pes_data.dta')\n",
    "reg1 <- lm(formula = forest_cover ~ cash, data = data)\n",
    "summary(reg1)"
   ]
  },
  {
   "cell_type": "code",
   "execution_count": 5,
   "metadata": {},
   "outputs": [
    {
     "data": {
      "text/plain": [
       "\n",
       "Call:\n",
       "lm(formula = any_tree_cut_1y ~ cash, data = data)\n",
       "\n",
       "Residuals:\n",
       "    Min      1Q  Median      3Q     Max \n",
       "-0.4634 -0.4634 -0.3030  0.5366  0.6970 \n",
       "\n",
       "Coefficients:\n",
       "            Estimate Std. Error t value Pr(>|t|)    \n",
       "(Intercept)  0.46336    0.02229  20.791  < 2e-16 ***\n",
       "cash        -0.16033    0.03155  -5.081 4.53e-07 ***\n",
       "---\n",
       "Signif. codes:  0 ‘***’ 0.001 ‘**’ 0.01 ‘*’ 0.05 ‘.’ 0.1 ‘ ’ 1\n",
       "\n",
       "Residual standard error: 0.4801 on 924 degrees of freedom\n",
       "  (69 observations deleted due to missingness)\n",
       "Multiple R-squared:  0.02719,\tAdjusted R-squared:  0.02613 \n",
       "F-statistic: 25.82 on 1 and 924 DF,  p-value: 4.532e-07\n"
      ]
     },
     "metadata": {},
     "output_type": "display_data"
    }
   ],
   "source": [
    "#code here for second ATE\n",
    "reg2 <- lm(formula = any_tree_cut_1y ~ cash, data = data)\n",
    "summary(reg2)"
   ]
  },
  {
   "cell_type": "markdown",
   "metadata": {},
   "source": [
    "1. If |t-value| > |critical value|,  We reject the null hypthoesis. Forest cover's T value is 2.234 which is smaller than critical value of 2.581 at 99% confidence level, so we fail to reject the null hypthoesis, meaning there is no statistical evidence for 1% level. \n",
    "\n",
    "2. If |t-value| > |critical value|,  We reject the null hypthoesis. Cutting Tree's T value is |-5.081|, which is greather than the critical value of 2.581 at 99% confidence level. We reject the null hypothesis, that is statistical evidence for 1% level."
   ]
  },
  {
   "cell_type": "markdown",
   "metadata": {},
   "source": [
    "### Part C:\n",
    "**a) Now let's check to make sure our sample is balanced across treatment and control. For each of the four household demographics variables, conduct a t-test against the null that they are on average equal between treatment and control.** \n",
    "\n",
    "**Coding Hints**: The command for a t-test is `t.test()`. One way to test whether coviarate $X$ is correlated with treatment status $T$, you can put `X~T` inside `t.test()`, just like you would for `lm()`. If you just want to print the t-stat or the p-value rather than the entire test output, you can call `$statistic` or `$p.value`, respectively. \n",
    "\n",
    "You can repeat this separately for each covariate, but if you want to be extra fancy you can use the `lapply()` function. `lapply()` is super useful for applying a function repeatedly over different variables. The way you would use it here is `lapply(X, function (x) FUN)` where `X` is the data frame of the variables you are interested in testing and `FUN` is the function you want to apply. One of the arguments of this function should be (small) `x`, which serves as a stand-in for the column of (big) `X` that you want to apply the function over. Finally, if you want to show the output as a single data frame (instead of a list), you can wrap all of this with `as.data.frame()`. With all of this information, you could theoretically produce a nice-ish table of p-values for the four tests you run using a single line of code. You are not required or expected to use this method, but it might come in handy if you find yourself having to work with larger datasets in the future."
   ]
  },
  {
   "cell_type": "code",
   "execution_count": 6,
   "metadata": {},
   "outputs": [
    {
     "data": {
      "text/plain": [
       "\n",
       "\tWelch Two Sample t-test\n",
       "\n",
       "data:  data[data$cash == 0, ]$hhead_age and data[data$cash == 1, ]$hhead_age\n",
       "t = -0.68483, df = 980.28, p-value = 0.4936\n",
       "alternative hypothesis: true difference in means is not equal to 0\n",
       "95 percent confidence interval:\n",
       " -2.386753  1.151854\n",
       "sample estimates:\n",
       "mean of x mean of y \n",
       " 47.23265  47.85010 \n"
      ]
     },
     "metadata": {},
     "output_type": "display_data"
    },
    {
     "data": {
      "text/plain": [
       "\n",
       "\tWelch Two Sample t-test\n",
       "\n",
       "data:  data[data$cash == 0, ]$hhead_educ and data[data$cash == 1, ]$hhead_educ\n",
       "t = 0.31202, df = 988.22, p-value = 0.7551\n",
       "alternative hypothesis: true difference in means is not equal to 0\n",
       "95 percent confidence interval:\n",
       " -0.4275375  0.5892001\n",
       "sample estimates:\n",
       "mean of x mean of y \n",
       " 7.808642  7.727811 \n"
      ]
     },
     "metadata": {},
     "output_type": "display_data"
    },
    {
     "data": {
      "text/plain": [
       "\n",
       "\tWelch Two Sample t-test\n",
       "\n",
       "data:  data[data$cash == 0, ]$hhland_area and data[data$cash == 1, ]$hhland_area\n",
       "t = -0.82084, df = 987.82, p-value = 0.4119\n",
       "alternative hypothesis: true difference in means is not equal to 0\n",
       "95 percent confidence interval:\n",
       " -5.479340  2.247353\n",
       "sample estimates:\n",
       "mean of x mean of y \n",
       "  10.1444   11.7604 \n"
      ]
     },
     "metadata": {},
     "output_type": "display_data"
    },
    {
     "data": {
      "text/plain": [
       "\n",
       "\tWelch Two Sample t-test\n",
       "\n",
       "data:  data[data$cash == 0, ]$hhforest_area and data[data$cash == 1, ]$hhforest_area\n",
       "t = 0.56639, df = 550.14, p-value = 0.5714\n",
       "alternative hypothesis: true difference in means is not equal to 0\n",
       "95 percent confidence interval:\n",
       " -0.8489893  1.5369651\n",
       "sample estimates:\n",
       "mean of x mean of y \n",
       " 2.139552  1.795564 \n"
      ]
     },
     "metadata": {},
     "output_type": "display_data"
    }
   ],
   "source": [
    "#code here\n",
    "t.test(data[data$cash==0,]$hhead_age,data[data$cash==1,]$hhead_age)\n",
    "t.test(data[data$cash==0,]$hhead_educ,data[data$cash==1,]$hhead_educ)\n",
    "t.test(data[data$cash==0,]$hhland_area,data[data$cash==1,]$hhland_area)\n",
    "t.test(data[data$cash==0,]$hhforest_area,data[data$cash==1,]$hhforest_area)"
   ]
  },
  {
   "cell_type": "markdown",
   "metadata": {},
   "source": [
    "**b) Do you conclude that the sample is well-balanced? Are you surprised or concerned by any of the results? If so, what could you do to address your concerns?**"
   ]
  },
  {
   "cell_type": "markdown",
   "metadata": {},
   "source": [
    "I conclude the sample for all of them is well-balanced, because they have small p-values and T-values.\n",
    "\n",
    "1) hhead_age --> Well balanced, has a small p-value of 0.4936 and t-value of |-0.68483|, telling us its well balanced. \n",
    "\n",
    "2) hhead_educ --> Well balanced, has a small p-value of 0.7551 and t-value of |0.31202|, telling us its well balanced.\n",
    "\n",
    "3) hhland_area --> Well balanced, has a small p-value of  0.4119 and t-value of |-0.82084|, telling us its well balanced.\n",
    "\n",
    "4) hhforest_area --> Well balanced, has a small p-value of  0.5714 and t-value of |0.56639|, telling us its well balanced.\n",
    "\n",
    "Well balanced,Professor said, if their meann are close to one another, they are well balanced, all of them have mean that is very close to one another in the mean of x and mean of y."
   ]
  },
  {
   "cell_type": "markdown",
   "metadata": {},
   "source": [
    "### Part D\n",
    "\n",
    "**a) What happens if you control for additional covariates (household demographics, a dummy for agreeing that environmental conservation is antithetic to their livelihood, and a dummy for having cut any trees in the past 3 years) in this regression? What (if any) advantages are there to controlling for these variables? What (if any) disadvantages are there?**"
   ]
  },
  {
   "cell_type": "markdown",
   "metadata": {},
   "source": [
    "a) If you add addtional covariates, it lowers the standard errors.\n",
    "\n",
    "B) Advtanages of adding covariaties is lowering the standard errors. If we include more covariates in our regression, we can     reduce ˆu2i , i.e. the unexplained variation in Y goes down.\n",
    "\n",
    "C) There are no disadvantages."
   ]
  },
  {
   "cell_type": "markdown",
   "metadata": {},
   "source": [
    "**b) Run the regression controlling for all six of these variables. Interpret how your results change, if at all.** "
   ]
  },
  {
   "cell_type": "code",
   "execution_count": 9,
   "metadata": {
    "scrolled": true
   },
   "outputs": [],
   "source": [
    "# code here\n",
    "reg42<-lm(formula = forest_cover ~ cash + hhead_age + hhead_educ + hhland_area \n",
    "          + hhforest_area + any_tree_cut_3y + opi_hurtenv_agr,data = data)"
   ]
  },
  {
   "cell_type": "code",
   "execution_count": 10,
   "metadata": {},
   "outputs": [
    {
     "data": {
      "text/plain": [
       "\n",
       "Call:\n",
       "lm(formula = forest_cover ~ cash + hhead_age + hhead_educ + hhland_area + \n",
       "    hhforest_area + any_tree_cut_3y + opi_hurtenv_agr, data = data)\n",
       "\n",
       "Residuals:\n",
       "     Min       1Q   Median       3Q      Max \n",
       "-10.9666  -0.0894   0.1235   0.3058  18.1769 \n",
       "\n",
       "Coefficients:\n",
       "                 Estimate Std. Error t value Pr(>|t|)  \n",
       "(Intercept)     -0.198729   0.205909  -0.965   0.3347  \n",
       "cash             0.192482   0.082234   2.341   0.0194 *\n",
       "hhead_age        0.001569   0.002964   0.529   0.5968  \n",
       "hhead_educ      -0.017750   0.010241  -1.733   0.0834 .\n",
       "hhland_area     -0.002620   0.001827  -1.434   0.1519  \n",
       "hhforest_area    0.007787   0.005982   1.302   0.1933  \n",
       "any_tree_cut_3y -0.039036   0.119721  -0.326   0.7444  \n",
       "opi_hurtenv_agr -0.292419   0.186250  -1.570   0.1167  \n",
       "---\n",
       "Signif. codes:  0 ‘***’ 0.001 ‘**’ 0.01 ‘*’ 0.05 ‘.’ 0.1 ‘ ’ 1\n",
       "\n",
       "Residual standard error: 1.29 on 982 degrees of freedom\n",
       "  (5 observations deleted due to missingness)\n",
       "Multiple R-squared:  0.0139,\tAdjusted R-squared:  0.006867 \n",
       "F-statistic: 1.977 on 7 and 982 DF,  p-value: 0.0553\n"
      ]
     },
     "metadata": {},
     "output_type": "display_data"
    }
   ],
   "source": [
    "summary(reg42)"
   ]
  },
  {
   "cell_type": "markdown",
   "metadata": {},
   "source": [
    "Results should change as there are more variables/covarties.\n",
    "\n",
    "The difference is that in the orignal we had beta0 of -0.319 and beta1(cash) at .18 and in our added covarties we have beta0 of -0.199 and beta1(cash) to be 0.19. We would reject the null hypthoesis because cash is statistical significant.This is what we expected (beta1 values) because we have a randomized control trial and so the treatment shouldn’t be significantly correlated with any of the observable characteristics. "
   ]
  },
  {
   "cell_type": "markdown",
   "metadata": {},
   "source": [
    "### Part E\n",
    "\n",
    "**You think households might differ in the financial incentives they face when cutting trees, which might affect the effect of the cash incentives. You hypothesize that households that have been earning more money from cut trees might be less willing to stop cutting trees, so might experience smaller increases in tree cover even if they receive a cash incentive. Propose, implement, and interpret a test of whether the effect of the cash on tree cover is different for households that received above average income from cutting trees in the past year, building on the model from Part D.**\n",
    "\n",
    "_Hint: Create the variable **above\\_average\\_inc** first, by summarizing the income variable, and creating a dummy variable as in Assignment 3, where the new dummy is equal to 1 when income is above the mean income. Don't forget to remove NA values from the mean calculation, using `mean(x, na.rm = TRUE)` to get the mean of x._"
   ]
  },
  {
   "cell_type": "code",
   "execution_count": 11,
   "metadata": {},
   "outputs": [
    {
     "data": {
      "text/html": [
       "2.40139259515688"
      ],
      "text/latex": [
       "2.40139259515688"
      ],
      "text/markdown": [
       "2.40139259515688"
      ],
      "text/plain": [
       "[1] 2.401393"
      ]
     },
     "metadata": {},
     "output_type": "display_data"
    },
    {
     "data": {
      "text/plain": [
       "\n",
       "Call:\n",
       "lm(formula = forest_cover ~ cash + hhead_age + hhead_educ + hhland_area + \n",
       "    hhforest_area + any_tree_cut_3y + opi_hurtenv_agr + above_average_inc + \n",
       "    cash:above_average_inc, data = data)\n",
       "\n",
       "Residuals:\n",
       "     Min       1Q   Median       3Q      Max \n",
       "-10.8336  -0.1070   0.0898   0.3591  18.1251 \n",
       "\n",
       "Coefficients:\n",
       "                        Estimate Std. Error t value Pr(>|t|)    \n",
       "(Intercept)            -0.019282   0.211033  -0.091 0.927218    \n",
       "cash                   -0.088705   0.115923  -0.765 0.444334    \n",
       "hhead_age               0.001015   0.002954   0.344 0.731255    \n",
       "hhead_educ             -0.017874   0.010186  -1.755 0.079599 .  \n",
       "hhland_area            -0.002708   0.001817  -1.491 0.136394    \n",
       "hhforest_area           0.008848   0.005960   1.484 0.138001    \n",
       "any_tree_cut_3y         0.002034   0.129919   0.016 0.987510    \n",
       "opi_hurtenv_agr        -0.290762   0.185248  -1.570 0.116834    \n",
       "above_average_inc      -0.372223   0.121874  -3.054 0.002318 ** \n",
       "cash:above_average_inc  0.559744   0.163516   3.423 0.000645 ***\n",
       "---\n",
       "Signif. codes:  0 ‘***’ 0.001 ‘**’ 0.01 ‘*’ 0.05 ‘.’ 0.1 ‘ ’ 1\n",
       "\n",
       "Residual standard error: 1.283 on 980 degrees of freedom\n",
       "  (5 observations deleted due to missingness)\n",
       "Multiple R-squared:  0.02651,\tAdjusted R-squared:  0.01757 \n",
       "F-statistic: 2.965 on 9 and 980 DF,  p-value: 0.001742\n"
      ]
     },
     "metadata": {},
     "output_type": "display_data"
    }
   ],
   "source": [
    "# code here\n",
    "mean_income <- mean(data$log_tim_price,na.rm = TRUE)\n",
    "mean_income\n",
    "data$above_average_inc <-0\n",
    "data$above_average_inc[data$log_tim_price > mean_income] <-1\n",
    "reg123 <- lm(formula = forest_cover ~ cash + hhead_age + hhead_educ + hhland_area \n",
    "          + hhforest_area + any_tree_cut_3y + opi_hurtenv_agr + above_average_inc \n",
    "          + cash:above_average_inc, data = data)\n",
    "summary(reg123)"
   ]
  },
  {
   "cell_type": "markdown",
   "metadata": {},
   "source": [
    "Both above_average_inc and cash:above_average_inc show us that they are statisticaly important when it comes to determining if giving incentive to people above average income works versus those that are below average income. This regression changed it where cash isn't statistically significant anymore, telling us having above average income plays an important role when it comes to chopping down trees. "
   ]
  },
  {
   "cell_type": "markdown",
   "metadata": {},
   "source": [
    "### Part F\n",
    "\n",
    "Of course, not everyone who was offered cash ended up taking it up and stopped cutting trees. So what we've estimated so far for the average treatment effect of _receiving cash incentives on tree cover_ can be interpreted as an **intent to treat** estimate for the effect of  _cash for environmental conservation_.\n",
    "\n",
    "**Suppose 75\\% of people who were offered cash incentives ended up stopping cutting trees, compared to 10\\% of people in the control group. Write down a Treatment on the Treated estimator and calculate it using your result from Part D (you don't have to run any additional regressions for this part). Under what circumstances would this be equal to the average treatment effect of cash incentives? Do you think these hold in this context?**"
   ]
  },
  {
   "cell_type": "code",
   "execution_count": 27,
   "metadata": {},
   "outputs": [
    {
     "data": {
      "text/html": [
       "0.305736923076923"
      ],
      "text/latex": [
       "0.305736923076923"
      ],
      "text/markdown": [
       "0.305736923076923"
      ],
      "text/plain": [
       "[1] 0.3057369"
      ]
     },
     "metadata": {},
     "output_type": "display_data"
    }
   ],
   "source": [
    "# code here (optional)\n",
    ".198729/(.75 - .10)"
   ]
  },
  {
   "cell_type": "markdown",
   "metadata": {},
   "source": [
    "a) The treatment on the TReated estimatior would be: \n",
    "\n",
    "ITT = E[Complier] ∗(E[yT |Complier] −E[yC |Complier])\n",
    "\n",
    "TOT = ITT/E[Complier]\n",
    "\n",
    "ITT <- The beta0 intercept from part 2. and the E[Complier] is the difference between .75 - .10. \n",
    "\n",
    "b) For the ATE and TOT to be equal they would have unmeasured behavior that is causing that outcome, one of the ways for them to be equal is an omitted variable variable bias.\n",
    "\n",
    "\n",
    "c) If you are in the treatment group, and you get money, you will wonder why someone is giving you the money, and you learn about global warming and it affects and danger, so you might stop cuttign down trees because you start to care about global warming rather than for the money. The person in the treatment group, might continue his actions as he wasn't really affected, if he was, it was because of an ommited variable.\n",
    "\n",
    "\n"
   ]
  },
  {
   "cell_type": "code",
   "execution_count": null,
   "metadata": {},
   "outputs": [],
   "source": []
  }
 ],
 "metadata": {
  "kernelspec": {
   "display_name": "R",
   "language": "R",
   "name": "ir"
  },
  "language_info": {
   "codemirror_mode": "r",
   "file_extension": ".r",
   "mimetype": "text/x-r-source",
   "name": "R",
   "pygments_lexer": "r",
   "version": "4.2.1"
  }
 },
 "nbformat": 4,
 "nbformat_minor": 2
}

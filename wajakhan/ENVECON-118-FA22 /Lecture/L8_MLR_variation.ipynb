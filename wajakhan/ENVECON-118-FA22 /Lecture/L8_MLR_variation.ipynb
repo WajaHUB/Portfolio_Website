{
 "cells": [
  {
   "cell_type": "code",
   "execution_count": 1,
   "metadata": {},
   "outputs": [
    {
     "name": "stderr",
     "output_type": "stream",
     "text": [
      "Warning message in read.dta(\"WAGE1.DTA\"):\n",
      "“cannot read factor labels from Stata 5 files”\n"
     ]
    }
   ],
   "source": [
    "library(foreign)\n",
    "wagedata<- read.dta(\"WAGE1.DTA\")"
   ]
  },
  {
   "cell_type": "code",
   "execution_count": 2,
   "metadata": {},
   "outputs": [
    {
     "data": {
      "text/plain": [
       "\n",
       "Call:\n",
       "lm(formula = lwage ~ educ, data = wagedata)\n",
       "\n",
       "Residuals:\n",
       "     Min       1Q   Median       3Q      Max \n",
       "-2.21158 -0.36393 -0.07263  0.29712  1.52339 \n",
       "\n",
       "Coefficients:\n",
       "            Estimate Std. Error t value Pr(>|t|)    \n",
       "(Intercept) 0.583773   0.097336   5.998 3.74e-09 ***\n",
       "educ        0.082744   0.007567  10.935  < 2e-16 ***\n",
       "---\n",
       "Signif. codes:  0 ‘***’ 0.001 ‘**’ 0.01 ‘*’ 0.05 ‘.’ 0.1 ‘ ’ 1\n",
       "\n",
       "Residual standard error: 0.4801 on 524 degrees of freedom\n",
       "Multiple R-squared:  0.1858,\tAdjusted R-squared:  0.1843 \n",
       "F-statistic: 119.6 on 1 and 524 DF,  p-value: < 2.2e-16\n"
      ]
     },
     "metadata": {},
     "output_type": "display_data"
    },
    {
     "data": {
      "text/plain": [
       "\n",
       "Call:\n",
       "lm(formula = lwage ~ educ + exper + female, data = wagedata)\n",
       "\n",
       "Residuals:\n",
       "     Min       1Q   Median       3Q      Max \n",
       "-1.89584 -0.26362 -0.03871  0.26765  1.28241 \n",
       "\n",
       "Coefficients:\n",
       "             Estimate Std. Error t value Pr(>|t|)    \n",
       "(Intercept)  0.480836   0.105016   4.579 5.86e-06 ***\n",
       "educ         0.091290   0.007123  12.816  < 2e-16 ***\n",
       "exper        0.009414   0.001449   6.496 1.93e-10 ***\n",
       "female      -0.343597   0.037667  -9.122  < 2e-16 ***\n",
       "---\n",
       "Signif. codes:  0 ‘***’ 0.001 ‘**’ 0.01 ‘*’ 0.05 ‘.’ 0.1 ‘ ’ 1\n",
       "\n",
       "Residual standard error: 0.4289 on 522 degrees of freedom\n",
       "Multiple R-squared:  0.3526,\tAdjusted R-squared:  0.3488 \n",
       "F-statistic: 94.75 on 3 and 522 DF,  p-value: < 2.2e-16\n"
      ]
     },
     "metadata": {},
     "output_type": "display_data"
    }
   ],
   "source": [
    "# R^2 and Adjusted R^2\n",
    "\n",
    "#Adding relevant variables\n",
    "Reg1 <- lm(lwage ~ educ, data = wagedata)\n",
    "Reg2 <- lm(lwage ~ educ + exper + female, data = wagedata)\n",
    "summary(Reg1)\n",
    "summary(Reg2)"
   ]
  },
  {
   "cell_type": "code",
   "execution_count": 3,
   "metadata": {},
   "outputs": [
    {
     "data": {
      "text/plain": [
       "\n",
       "Call:\n",
       "lm(formula = lwage ~ educ + exper + female, data = wagedata)\n",
       "\n",
       "Residuals:\n",
       "     Min       1Q   Median       3Q      Max \n",
       "-1.89584 -0.26362 -0.03871  0.26765  1.28241 \n",
       "\n",
       "Coefficients:\n",
       "             Estimate Std. Error t value Pr(>|t|)    \n",
       "(Intercept)  0.480836   0.105016   4.579 5.86e-06 ***\n",
       "educ         0.091290   0.007123  12.816  < 2e-16 ***\n",
       "exper        0.009414   0.001449   6.496 1.93e-10 ***\n",
       "female      -0.343597   0.037667  -9.122  < 2e-16 ***\n",
       "---\n",
       "Signif. codes:  0 ‘***’ 0.001 ‘**’ 0.01 ‘*’ 0.05 ‘.’ 0.1 ‘ ’ 1\n",
       "\n",
       "Residual standard error: 0.4289 on 522 degrees of freedom\n",
       "Multiple R-squared:  0.3526,\tAdjusted R-squared:  0.3488 \n",
       "F-statistic: 94.75 on 3 and 522 DF,  p-value: < 2.2e-16\n"
      ]
     },
     "metadata": {},
     "output_type": "display_data"
    },
    {
     "data": {
      "text/plain": [
       "\n",
       "Call:\n",
       "lm(formula = lwage ~ educ + exper + female + nonwhite, data = wagedata)\n",
       "\n",
       "Residuals:\n",
       "     Min       1Q   Median       3Q      Max \n",
       "-1.89689 -0.26333 -0.03394  0.26654  1.28131 \n",
       "\n",
       "Coefficients:\n",
       "             Estimate Std. Error t value Pr(>|t|)    \n",
       "(Intercept)  0.483188   0.106141   4.552 6.61e-06 ***\n",
       "educ         0.091192   0.007156  12.743  < 2e-16 ***\n",
       "exper        0.009411   0.001451   6.487 2.04e-10 ***\n",
       "female      -0.343712   0.037709  -9.115  < 2e-16 ***\n",
       "nonwhite    -0.009889   0.061913  -0.160    0.873    \n",
       "---\n",
       "Signif. codes:  0 ‘***’ 0.001 ‘**’ 0.01 ‘*’ 0.05 ‘.’ 0.1 ‘ ’ 1\n",
       "\n",
       "Residual standard error: 0.4293 on 521 degrees of freedom\n",
       "Multiple R-squared:  0.3526,\tAdjusted R-squared:  0.3476 \n",
       "F-statistic: 70.93 on 4 and 521 DF,  p-value: < 2.2e-16\n"
      ]
     },
     "metadata": {},
     "output_type": "display_data"
    }
   ],
   "source": [
    "#Adding non-relevant variable\n",
    "Reg3 <- lm(lwage ~ educ + exper + female + nonwhite, data = wagedata)\n",
    "summary(Reg2)\n",
    "summary(Reg3)"
   ]
  },
  {
   "cell_type": "code",
   "execution_count": 4,
   "metadata": {},
   "outputs": [],
   "source": [
    "# Back to lecture"
   ]
  },
  {
   "cell_type": "code",
   "execution_count": 5,
   "metadata": {},
   "outputs": [
    {
     "data": {
      "text/plain": [
       "\n",
       "Call:\n",
       "lm(formula = lwage ~ educ, data = wagedata)\n",
       "\n",
       "Residuals:\n",
       "     Min       1Q   Median       3Q      Max \n",
       "-2.21158 -0.36393 -0.07263  0.29712  1.52339 \n",
       "\n",
       "Coefficients:\n",
       "            Estimate Std. Error t value Pr(>|t|)    \n",
       "(Intercept) 0.583773   0.097336   5.998 3.74e-09 ***\n",
       "educ        0.082744   0.007567  10.935  < 2e-16 ***\n",
       "---\n",
       "Signif. codes:  0 ‘***’ 0.001 ‘**’ 0.01 ‘*’ 0.05 ‘.’ 0.1 ‘ ’ 1\n",
       "\n",
       "Residual standard error: 0.4801 on 524 degrees of freedom\n",
       "Multiple R-squared:  0.1858,\tAdjusted R-squared:  0.1843 \n",
       "F-statistic: 119.6 on 1 and 524 DF,  p-value: < 2.2e-16\n"
      ]
     },
     "metadata": {},
     "output_type": "display_data"
    },
    {
     "data": {
      "text/plain": [
       "\n",
       "Call:\n",
       "lm(formula = lwage ~ educ + exper + female, data = wagedata)\n",
       "\n",
       "Residuals:\n",
       "     Min       1Q   Median       3Q      Max \n",
       "-1.89584 -0.26362 -0.03871  0.26765  1.28241 \n",
       "\n",
       "Coefficients:\n",
       "             Estimate Std. Error t value Pr(>|t|)    \n",
       "(Intercept)  0.480836   0.105016   4.579 5.86e-06 ***\n",
       "educ         0.091290   0.007123  12.816  < 2e-16 ***\n",
       "exper        0.009414   0.001449   6.496 1.93e-10 ***\n",
       "female      -0.343597   0.037667  -9.122  < 2e-16 ***\n",
       "---\n",
       "Signif. codes:  0 ‘***’ 0.001 ‘**’ 0.01 ‘*’ 0.05 ‘.’ 0.1 ‘ ’ 1\n",
       "\n",
       "Residual standard error: 0.4289 on 522 degrees of freedom\n",
       "Multiple R-squared:  0.3526,\tAdjusted R-squared:  0.3488 \n",
       "F-statistic: 94.75 on 3 and 522 DF,  p-value: < 2.2e-16\n"
      ]
     },
     "metadata": {},
     "output_type": "display_data"
    }
   ],
   "source": [
    "# MLR standard errors\n",
    "#What does the difference in SE(educ) when adding controls imply about the components of SE(educ)?\n",
    "summary(Reg1)\n",
    "summary(Reg2)"
   ]
  },
  {
   "cell_type": "code",
   "execution_count": 6,
   "metadata": {},
   "outputs": [
    {
     "data": {
      "text/plain": [
       "\n",
       "Call:\n",
       "lm(formula = lwage ~ educ + exper + female, data = wagedata)\n",
       "\n",
       "Residuals:\n",
       "     Min       1Q   Median       3Q      Max \n",
       "-1.89584 -0.26362 -0.03871  0.26765  1.28241 \n",
       "\n",
       "Coefficients:\n",
       "             Estimate Std. Error t value Pr(>|t|)    \n",
       "(Intercept)  0.480836   0.105016   4.579 5.86e-06 ***\n",
       "educ         0.091290   0.007123  12.816  < 2e-16 ***\n",
       "exper        0.009414   0.001449   6.496 1.93e-10 ***\n",
       "female      -0.343597   0.037667  -9.122  < 2e-16 ***\n",
       "---\n",
       "Signif. codes:  0 ‘***’ 0.001 ‘**’ 0.01 ‘*’ 0.05 ‘.’ 0.1 ‘ ’ 1\n",
       "\n",
       "Residual standard error: 0.4289 on 522 degrees of freedom\n",
       "Multiple R-squared:  0.3526,\tAdjusted R-squared:  0.3488 \n",
       "F-statistic: 94.75 on 3 and 522 DF,  p-value: < 2.2e-16\n"
      ]
     },
     "metadata": {},
     "output_type": "display_data"
    },
    {
     "data": {
      "text/plain": [
       "\n",
       "Call:\n",
       "lm(formula = lwage ~ educ + exper + female + age, data = wagedata)\n",
       "\n",
       "Residuals:\n",
       "     Min       1Q   Median       3Q      Max \n",
       "-1.91524 -0.26031 -0.03816  0.27159  1.27610 \n",
       "\n",
       "Coefficients:\n",
       "             Estimate Std. Error t value Pr(>|t|)    \n",
       "(Intercept)  0.415347   0.151524   2.741  0.00633 ** \n",
       "educ         0.083593   0.014677   5.696 2.06e-08 ***\n",
       "exper        0.001692   0.012954   0.131  0.89614    \n",
       "female      -0.343835   0.037692  -9.122  < 2e-16 ***\n",
       "age          0.007720   0.012868   0.600  0.54884    \n",
       "---\n",
       "Signif. codes:  0 ‘***’ 0.001 ‘**’ 0.01 ‘*’ 0.05 ‘.’ 0.1 ‘ ’ 1\n",
       "\n",
       "Residual standard error: 0.4292 on 521 degrees of freedom\n",
       "Multiple R-squared:  0.353,\tAdjusted R-squared:  0.348 \n",
       "F-statistic: 71.06 on 4 and 521 DF,  p-value: < 2.2e-16\n"
      ]
     },
     "metadata": {},
     "output_type": "display_data"
    }
   ],
   "source": [
    "#What about adding a highly-correlated variable?\n",
    "wagedata$age<-wagedata$exper+wagedata$educ+6+runif(nrow(wagedata))*5\n",
    "Reg4 <-lm(lwage ~ educ + exper + female + age, data = wagedata)\n",
    "#What does the difference in SE(educ) when adding this variable imply about how the components of SE(educ) changed?\n",
    "summary(Reg2)\n",
    "summary(Reg4)"
   ]
  },
  {
   "cell_type": "code",
   "execution_count": null,
   "metadata": {},
   "outputs": [],
   "source": []
  }
 ],
 "metadata": {
  "kernelspec": {
   "display_name": "R",
   "language": "R",
   "name": "ir"
  },
  "language_info": {
   "codemirror_mode": "r",
   "file_extension": ".r",
   "mimetype": "text/x-r-source",
   "name": "R",
   "pygments_lexer": "r",
   "version": "4.2.1"
  }
 },
 "nbformat": 4,
 "nbformat_minor": 2
}

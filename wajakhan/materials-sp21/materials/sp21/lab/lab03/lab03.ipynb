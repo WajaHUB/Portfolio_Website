{
 "cells": [
  {
   "cell_type": "code",
   "execution_count": null,
   "id": "viral-dressing",
   "metadata": {
    "deletable": false,
    "editable": false
   },
   "outputs": [],
   "source": [
    "# Initialize OK\n",
    "from client.api.notebook import Notebook\n",
    "ok = Notebook('lab03.ok')"
   ]
  },
  {
   "cell_type": "markdown",
   "metadata": {},
   "source": [
    "# Lab 3: Data Types and Arrays\n",
    "Welcome to Lab 3!\n",
    "\n",
    "So far, we've used Python to manipulate numbers and work with tables. But we need to discuss data types to deepen our understanding of how to work with data in Python.\n",
    "\n",
    "In this lab, you'll first see how to represent and manipulate another fundamental type of data: text.  A piece of text is called a *string* in Python. You'll also see how to work with *arrays* of data, such as all the numbers between 0 and 100 or all the words in the chapter of a book. Lastly, you'll create tables and practice analyzing them with your knowledge of table operations.\n",
    "\n",
    "**Lab Queue**: You can find the Lab Queue at [lab.data8.org](https://lab.data8.org/). Whenever you feel stuck or need some further clarification, add yourself to the queue to get help from a GSI or academic intern! Please list your name, breakout room number, and purpose on your ticket!\n",
    "\n",
    "**Deadline**: If you are not attending lab, you have to complete this lab and submit by Wednesday, 2/3 before 8:59 A.M. PST in order to receive lab credit. Otherwise, please attend the lab you are enrolled in, get checked off with your GSI or academic intern **AND** submit this assignment by the end of the lab section (with whatever progress you've made) to receive lab credit.\n",
    "\n",
    "**Submission**: Once you're finished, select \"Save and Checkpoint\" in the File menu and then execute the submit cell below (or at the end). The result will contain a link that you can use to check that your assignment has been submitted successfully. \n"
   ]
  },
  {
   "cell_type": "markdown",
   "metadata": {},
   "source": [
    "Set up the tests and imports by running the cell below."
   ]
  },
  {
   "cell_type": "code",
   "execution_count": 1,
   "metadata": {
    "deletable": false
   },
   "outputs": [
    {
     "name": "stdout",
     "output_type": "stream",
     "text": [
      "=====================================================================\n",
      "Assignment: Lab 3: Data Types and Arrays\n",
      "OK, version v1.18.1\n",
      "=====================================================================\n",
      "\n"
     ]
    },
    {
     "data": {
      "application/javascript": [
       "IPython.notebook.save_checkpoint();"
      ],
      "text/plain": [
       "<IPython.core.display.Javascript object>"
      ]
     },
     "metadata": {},
     "output_type": "display_data"
    },
    {
     "data": {
      "application/javascript": [
       "IPython.notebook.save_notebook();"
      ],
      "text/plain": [
       "<IPython.core.display.Javascript object>"
      ]
     },
     "metadata": {},
     "output_type": "display_data"
    },
    {
     "name": "stdout",
     "output_type": "stream",
     "text": [
      "Saving notebook... Saved 'lab03.ipynb'.\n"
     ]
    },
    {
     "name": "stderr",
     "output_type": "stream",
     "text": [
      "ERROR  | auth.py:102 | {'error': 'invalid_grant'}\n"
     ]
    },
    {
     "name": "stdout",
     "output_type": "stream",
     "text": [
      "Performing authentication\n",
      "Please enter your school email (.edu): wajakhan@berkeley.edu\n",
      "\n",
      "Copy the following URL and open it in a web browser. To copy,\n",
      "highlight the URL, right-click, and select \"Copy\".\n",
      "\n",
      "https://okpy.org/client/login/\n",
      "\n",
      "After logging in, copy the code from the web page, paste it below,\n",
      "and press Enter. To paste, right-click and select \"Paste\".\n",
      "\n",
      "Paste your code here: B5zsyG1skznxUWvfEQFGhRNBBiUlAZ\n",
      "Successfully logged in as wajakhan@berkeley.edu\n",
      "Submit... 100% complete\n",
      "Submission successful for user: wajakhan@berkeley.edu\n",
      "URL: https://okpy.org/cal/data8/sp21/lab03/submissions/vZkRXg\n",
      "\n"
     ]
    }
   ],
   "source": [
    "# Just run this cell\n",
    "import numpy as np\n",
    "import math\n",
    "from datascience import *\n",
    "\n",
    "from client.api.notebook import *\n",
    "def new_save_notebook(self):\n",
    "    \"\"\" Saves the current notebook by\n",
    "        injecting JavaScript to save to .ipynb file.\n",
    "    \"\"\"\n",
    "    try:\n",
    "        from IPython.display import display, Javascript\n",
    "    except ImportError:\n",
    "        log.warning(\"Could not import IPython Display Function\")\n",
    "        print(\"Make sure to save your notebook before sending it to OK!\")\n",
    "        return\n",
    "\n",
    "    if self.mode == \"jupyter\":\n",
    "        display(Javascript('IPython.notebook.save_checkpoint();'))\n",
    "        display(Javascript('IPython.notebook.save_notebook();'))\n",
    "    elif self.mode == \"jupyterlab\":\n",
    "        display(Javascript('document.querySelector(\\'[data-command=\"docmanager:save\"]\\').click();'))   \n",
    "\n",
    "    print('Saving notebook...', end=' ')\n",
    "\n",
    "    ipynbs = [path for path in self.assignment.src\n",
    "              if os.path.splitext(path)[1] == '.ipynb']\n",
    "    # Wait for first .ipynb to save\n",
    "    if ipynbs:\n",
    "        if wait_for_save(ipynbs[0]):\n",
    "            print(\"Saved '{}'.\".format(ipynbs[0]))\n",
    "        else:\n",
    "            log.warning(\"Timed out waiting for IPython save\")\n",
    "            print(\"Could not automatically save \\'{}\\'\".format(ipynbs[0]))\n",
    "            print(\"Make sure your notebook\"\n",
    "                  \" is correctly named and saved before submitting to OK!\".format(ipynbs[0]))\n",
    "            return False                \n",
    "    else:\n",
    "        print(\"No valid file sources found\")\n",
    "    return True\n",
    "\n",
    "def wait_for_save(filename, timeout=600):\n",
    "    \"\"\"Waits for FILENAME to update, waiting up to TIMEOUT seconds.\n",
    "    Returns True if a save was detected, and False otherwise.\n",
    "    \"\"\"\n",
    "    modification_time = os.path.getmtime(filename)\n",
    "    start_time = time.time()\n",
    "    while time.time() < start_time + timeout:\n",
    "        if (os.path.getmtime(filename) > modification_time and\n",
    "            os.path.getsize(filename) > 0):\n",
    "            return True\n",
    "        time.sleep(0.2)\n",
    "    print(\"\\nERROR!\\n YOUR SUBMISSION DID NOT GO THROUGH. PLEASE TRY AGAIN. IF THIS PROBLEM PERSISTS POST ON PIAZZA RIGHT AWAY.\\n ERROR!\" + \"\\n\"*20)\n",
    "    return False\n",
    "\n",
    "Notebook.save_notebook = new_save_notebook\n",
    "\n",
    "# These lines load the tests and sign you into okpy\n",
    "# When you log-in please hit return (not shift + return) after typing in your email\n",
    "from client.api.notebook import Notebook\n",
    "ok = Notebook('lab03.ok')\n",
    "_ = ok.submit()"
   ]
  },
  {
   "cell_type": "markdown",
   "metadata": {},
   "source": [
    "# 1. Text\n",
    "Programming doesn't just concern numbers. Text is one of the most common data types used in programs. \n",
    "\n",
    "Text is represented by a **string value** in Python. The word \"string\" is a programming term for a sequence of characters. A string might contain a single character, a word, a sentence, or a whole book.\n",
    "\n",
    "To distinguish text data from actual code, we demarcate strings by putting quotation marks around them. Single quotes (`'`) and double quotes (`\"`) are both valid, but the types of opening and closing quotation marks must match. The contents can be any sequence of characters, including numbers and symbols. \n",
    "\n",
    "We've seen strings before in `print` statements.  Below, two different strings are passed as arguments to the `print` function."
   ]
  },
  {
   "cell_type": "code",
   "execution_count": 2,
   "metadata": {},
   "outputs": [
    {
     "name": "stdout",
     "output_type": "stream",
     "text": [
      "I <3 Data Science\n"
     ]
    }
   ],
   "source": [
    "print(\"I <3\", 'Data Science')"
   ]
  },
  {
   "cell_type": "markdown",
   "metadata": {},
   "source": [
    "Just as names can be given to numbers, names can be given to string values.  The names and strings aren't required to be similar in any way. Any name can be assigned to any string."
   ]
  },
  {
   "cell_type": "code",
   "execution_count": 3,
   "metadata": {},
   "outputs": [
    {
     "name": "stdout",
     "output_type": "stream",
     "text": [
      "two * two\n"
     ]
    }
   ],
   "source": [
    "one = 'two'\n",
    "plus = '*'\n",
    "print(one, plus, one)"
   ]
  },
  {
   "cell_type": "markdown",
   "metadata": {
    "deletable": false,
    "editable": false
   },
   "source": [
    "**Question 1.1.** Yuri Gagarin was the first person to travel through outer space.  When he emerged from his capsule upon landing on Earth, he [reportedly](https://en.wikiquote.org/wiki/Yuri_Gagarin) had the following conversation with a woman and girl who saw the landing:\n",
    "\n",
    "    The woman asked: \"Can it be that you have come from outer space?\"\n",
    "    Gagarin replied: \"As a matter of fact, I have!\"\n",
    "\n",
    "The cell below contains unfinished code.  Fill in the `...`s so that it prints out this conversation *exactly* as it appears above.\n",
    "\n",
    "<!--\n",
    "BEGIN QUESTION\n",
    "name: q11\n",
    "-->"
   ]
  },
  {
   "cell_type": "code",
   "execution_count": 10,
   "metadata": {
    "deletable": false
   },
   "outputs": [
    {
     "name": "stdout",
     "output_type": "stream",
     "text": [
      "The woman asked: \"Can it be that you have come from outer space?\"\n",
      "Gagarin replied: \"As a matter of fact, I have!\"\n"
     ]
    }
   ],
   "source": [
    "woman_asking = \"The woman asked:\"\n",
    "woman_quote = '\"Can it be that you have come from outer space?\"'\n",
    "gagarin_reply = 'Gagarin replied:'\n",
    "gagarin_quote = '\"As a matter of fact, I have!\"'\n",
    "\n",
    "print(woman_asking, woman_quote)\n",
    "print(gagarin_reply, gagarin_quote)"
   ]
  },
  {
   "cell_type": "code",
   "execution_count": 11,
   "metadata": {
    "deletable": false,
    "editable": false
   },
   "outputs": [
    {
     "name": "stdout",
     "output_type": "stream",
     "text": [
      "~~~~~~~~~~~~~~~~~~~~~~~~~~~~~~~~~~~~~~~~~~~~~~~~~~~~~~~~~~~~~~~~~~~~~\n",
      "Running tests\n",
      "\n",
      "---------------------------------------------------------------------\n",
      "Test summary\n",
      "    Passed: 2\n",
      "    Failed: 0\n",
      "[ooooooooook] 100.0% passed\n",
      "\n"
     ]
    }
   ],
   "source": [
    "ok.grade(\"q11\");"
   ]
  },
  {
   "cell_type": "markdown",
   "metadata": {},
   "source": [
    "## 1.1. String Methods"
   ]
  },
  {
   "cell_type": "markdown",
   "metadata": {},
   "source": [
    "Strings can be transformed using **methods**. Recall that methods and functions are not technically the same thing, but we'll be using them interchangeably for the purposes of this course.\n",
    "\n",
    "Here's a sketch of how to call methods on a string:\n",
    "\n",
    "    <expression that evaluates to a string>.<method name>(<argument>, <argument>, ...)\n",
    "    \n",
    "One example of a string method is `replace`, which replaces all instances of some part of the original string (or a *substring*) with a new string. \n",
    "\n",
    "    <original string>.replace(<old substring>, <new substring>)\n",
    "    \n",
    "`replace` returns (evaluates to) a new string, leaving the original string unchanged.\n",
    "    \n",
    "Try to predict the output of this example, then run the cell!"
   ]
  },
  {
   "cell_type": "code",
   "execution_count": 12,
   "metadata": {},
   "outputs": [
    {
     "name": "stdout",
     "output_type": "stream",
     "text": [
      "Hella Hello\n"
     ]
    }
   ],
   "source": [
    "# Replace one letter\n",
    "hello = 'Hello'\n",
    "print(hello.replace('o', 'a'), hello)"
   ]
  },
  {
   "cell_type": "markdown",
   "metadata": {},
   "source": [
    "You can call functions on the results of other functions.  For example, `max(abs(-5), abs(3))` evaluates to 5.  Similarly, you can call methods on the results of other method or function calls.\n",
    "\n",
    "You may have already noticed one difference between functions and methods - a function like `max` does not require a `.` before it's called, but a string method like `replace` does. Here's a handy [Python reference](http://data8.org/sp20/python-reference.html) on the Data 8 website. It's a good idea to refer to this whenever you're unsure of how to call a function or method."
   ]
  },
  {
   "cell_type": "code",
   "execution_count": 8,
   "metadata": {
    "scrolled": true
   },
   "outputs": [],
   "source": [
    "# Calling replace on the output of another call to replace\n",
    "'train'.replace('t', 'ing').replace('in', 'de')"
   ]
  },
  {
   "cell_type": "markdown",
   "metadata": {},
   "source": [
    "Here's a picture of how Python evaluates a \"chained\" method call like that:\n",
    "\n",
    "<img src=\"chaining_method_calls.png\"/>"
   ]
  },
  {
   "cell_type": "markdown",
   "metadata": {
    "deletable": false,
    "editable": false
   },
   "source": [
    "**Question 1.1.1.** Use `replace` to transform the string `'hitchhiker'` into `'matchmaker'`. Assign your result to `new_word`.\n",
    "\n",
    "<!--\n",
    "BEGIN QUESTION\n",
    "name: q111\n",
    "-->"
   ]
  },
  {
   "cell_type": "code",
   "execution_count": 14,
   "metadata": {
    "deletable": false
   },
   "outputs": [
    {
     "data": {
      "text/plain": [
       "'matchmaker'"
      ]
     },
     "execution_count": 14,
     "metadata": {},
     "output_type": "execute_result"
    }
   ],
   "source": [
    "new_word = \"hichhiker\".replace(\"hich\",\"match\").replace(\"hiker\",\"maker\")\n",
    "new_word"
   ]
  },
  {
   "cell_type": "code",
   "execution_count": 15,
   "metadata": {
    "deletable": false,
    "editable": false
   },
   "outputs": [
    {
     "name": "stdout",
     "output_type": "stream",
     "text": [
      "~~~~~~~~~~~~~~~~~~~~~~~~~~~~~~~~~~~~~~~~~~~~~~~~~~~~~~~~~~~~~~~~~~~~~\n",
      "Running tests\n",
      "\n",
      "---------------------------------------------------------------------\n",
      "Test summary\n",
      "    Passed: 1\n",
      "    Failed: 0\n",
      "[ooooooooook] 100.0% passed\n",
      "\n"
     ]
    }
   ],
   "source": [
    "ok.grade(\"q111\");"
   ]
  },
  {
   "cell_type": "markdown",
   "metadata": {},
   "source": [
    "There are many more string methods in Python, but most programmers don't memorize their names or how to use them.  In the \"real world,\" people usually just search the internet for documentation and examples. A complete [list of string methods](https://docs.python.org/3/library/stdtypes.html#string-methods) appears in the Python language documentation. [Stack Overflow](http://stackoverflow.com) has a huge database of answered questions that often demonstrate how to use these methods to achieve various ends."
   ]
  },
  {
   "cell_type": "markdown",
   "metadata": {},
   "source": [
    "## 1.2. Converting to and from Strings"
   ]
  },
  {
   "cell_type": "markdown",
   "metadata": {},
   "source": [
    "Strings and numbers are different *types* of values, even when a string contains the digits of a number. For example, evaluating the following cell causes an error because an integer cannot be added to a string."
   ]
  },
  {
   "cell_type": "code",
   "execution_count": 16,
   "metadata": {
    "tags": [
     "raises-exception"
    ]
   },
   "outputs": [
    {
     "ename": "TypeError",
     "evalue": "unsupported operand type(s) for +: 'int' and 'str'",
     "output_type": "error",
     "traceback": [
      "\u001b[0;31m---------------------------------------------------------------------------\u001b[0m",
      "\u001b[0;31mTypeError\u001b[0m                                 Traceback (most recent call last)",
      "\u001b[0;32m<ipython-input-16-ea74adbd7634>\u001b[0m in \u001b[0;36m<module>\u001b[0;34m\u001b[0m\n\u001b[0;32m----> 1\u001b[0;31m \u001b[0;36m8\u001b[0m \u001b[0;34m+\u001b[0m \u001b[0;34m\"8\"\u001b[0m\u001b[0;34m\u001b[0m\u001b[0;34m\u001b[0m\u001b[0m\n\u001b[0m",
      "\u001b[0;31mTypeError\u001b[0m: unsupported operand type(s) for +: 'int' and 'str'"
     ]
    }
   ],
   "source": [
    "8 + \"8\""
   ]
  },
  {
   "cell_type": "markdown",
   "metadata": {},
   "source": [
    "However, there are built-in functions to convert numbers to strings and strings to numbers. Some of these built-in functions have restrictions on the type of argument they take:\n",
    "\n",
    "|Function |Description|\n",
    "|-|-|\n",
    "|`int`|Converts a string of digits or a float to an integer (\"int\") value|\n",
    "|`float`|Converts a string of digits (perhaps with a decimal point) or an int to a decimal (\"float\") value|\n",
    "|`str`|Converts any value to a string|"
   ]
  },
  {
   "cell_type": "markdown",
   "metadata": {},
   "source": [
    "Try to predict what data type and value `example` evaluates to, then run the cell."
   ]
  },
  {
   "cell_type": "code",
   "execution_count": 17,
   "metadata": {},
   "outputs": [
    {
     "name": "stdout",
     "output_type": "stream",
     "text": [
      "26.0\n",
      "This example returned a <class 'float'>!\n"
     ]
    }
   ],
   "source": [
    "example = 8 + int(\"10\") + float(\"8\")\n",
    "\n",
    "print(example)\n",
    "print(\"This example returned a \" + str(type(example)) + \"!\")"
   ]
  },
  {
   "cell_type": "markdown",
   "metadata": {
    "deletable": false,
    "editable": false
   },
   "source": [
    "Suppose you're writing a program that looks for dates in a text, and you want your program to find the amount of time that elapsed between two years it has identified.  It doesn't make sense to subtract two texts, but you can first convert the text containing the years into numbers.\n",
    "\n",
    "**Question 1.2.1.** Finish the code below to compute the number of years that elapsed between `one_year` and `another_year`.  Don't just write the numbers `1618` and `1648` (or `30`); use a conversion function to turn the given text data into numbers.\n",
    "\n",
    "<!--\n",
    "BEGIN QUESTION\n",
    "name: q121\n",
    "-->"
   ]
  },
  {
   "cell_type": "code",
   "execution_count": 19,
   "metadata": {
    "deletable": false
   },
   "outputs": [
    {
     "data": {
      "text/plain": [
       "-30"
      ]
     },
     "execution_count": 19,
     "metadata": {},
     "output_type": "execute_result"
    }
   ],
   "source": [
    "# Some text data:\n",
    "one_year = \"1618\"\n",
    "another_year = \"1648\"\n",
    "\n",
    "# Complete the next line.  Note that we can't just write:\n",
    "#   another_year - one_year\n",
    "# If you don't see why, try seeing what happens when you\n",
    "# write that here.\n",
    "difference = int(one_year)-int(another_year)\n",
    "difference"
   ]
  },
  {
   "cell_type": "code",
   "execution_count": 20,
   "metadata": {
    "deletable": false,
    "editable": false
   },
   "outputs": [
    {
     "name": "stdout",
     "output_type": "stream",
     "text": [
      "~~~~~~~~~~~~~~~~~~~~~~~~~~~~~~~~~~~~~~~~~~~~~~~~~~~~~~~~~~~~~~~~~~~~~\n",
      "Running tests\n",
      "\n",
      "---------------------------------------------------------------------\n",
      "Test summary\n",
      "    Passed: 1\n",
      "    Failed: 0\n",
      "[ooooooooook] 100.0% passed\n",
      "\n"
     ]
    }
   ],
   "source": [
    "ok.grade(\"q121\");"
   ]
  },
  {
   "cell_type": "markdown",
   "metadata": {
    "deletable": false,
    "editable": false
   },
   "source": [
    "## 1.3. Passing strings to functions\n",
    "\n",
    "String values, like numbers, can be arguments to functions and can be returned by functions. \n",
    "\n",
    "The function `len` (derived from the word \"length\") takes a single string as its argument and returns the number of characters (including spaces) in the string.\n",
    "\n",
    "Note that it doesn't count *words*. `len(\"one small step for man\")` evaluates to 22 characters, not 5 words.\n",
    "\n",
    "**Question 1.3.1.**  Use `len` to find the number of characters in the long string in the next cell.  Characters include things like spaces and punctuation. Assign `sentence_length` to that number.\n",
    "\n",
    "(The string is the first sentence of the English translation of the French [Declaration of the Rights of Man](http://avalon.law.yale.edu/18th_century/rightsof.asp).)  \n",
    "\n",
    "<!--\n",
    "BEGIN QUESTION\n",
    "name: q131\n",
    "-->"
   ]
  },
  {
   "cell_type": "code",
   "execution_count": 21,
   "metadata": {
    "deletable": false
   },
   "outputs": [
    {
     "data": {
      "text/plain": [
       "896"
      ]
     },
     "execution_count": 21,
     "metadata": {},
     "output_type": "execute_result"
    }
   ],
   "source": [
    "a_very_long_sentence = \"The representatives of the French people, organized as a National Assembly, believing that the ignorance, neglect, or contempt of the rights of man are the sole cause of public calamities and of the corruption of governments, have determined to set forth in a solemn declaration the natural, unalienable, and sacred rights of man, in order that this declaration, being constantly before all the members of the Social body, shall remind them continually of their rights and duties; in order that the acts of the legislative power, as well as those of the executive power, may be compared at any moment with the objects and purposes of all political institutions and may thus be more respected, and, lastly, in order that the grievances of the citizens, based hereafter upon simple and incontestable principles, shall tend to the maintenance of the constitution and redound to the happiness of all.\"\n",
    "sentence_length = len(a_very_long_sentence)\n",
    "sentence_length"
   ]
  },
  {
   "cell_type": "code",
   "execution_count": 22,
   "metadata": {
    "deletable": false,
    "editable": false
   },
   "outputs": [
    {
     "name": "stdout",
     "output_type": "stream",
     "text": [
      "~~~~~~~~~~~~~~~~~~~~~~~~~~~~~~~~~~~~~~~~~~~~~~~~~~~~~~~~~~~~~~~~~~~~~\n",
      "Running tests\n",
      "\n",
      "---------------------------------------------------------------------\n",
      "Test summary\n",
      "    Passed: 1\n",
      "    Failed: 0\n",
      "[ooooooooook] 100.0% passed\n",
      "\n"
     ]
    }
   ],
   "source": [
    "ok.grade(\"q131\");"
   ]
  },
  {
   "cell_type": "markdown",
   "metadata": {},
   "source": [
    "# 2. Arrays\n",
    "\n",
    "Computers are most useful when you can use a small amount of code to *do the same action* to *many different things*.\n",
    "\n",
    "For example, in the time it takes you to calculate the 18% tip on a restaurant bill, a laptop can calculate 18% tips for every restaurant bill paid by every human on Earth that day.  (That's if you're pretty fast at doing arithmetic in your head!)\n",
    "\n",
    "**Arrays** are how we put many values in one place so that we can operate on them as a group. For example, if `billions_of_numbers` is an array of numbers, the expression\n",
    "\n",
    "    .18 * billions_of_numbers\n",
    "\n",
    "gives a new array of numbers that contains the result of multiplying **each number** in `billions_of_numbers` by .18.  Arrays are not limited to numbers; we can also put all the words in a book into an array of strings.\n",
    "\n",
    "Concretely, an array is a **collection of values of the same type**. "
   ]
  },
  {
   "cell_type": "markdown",
   "metadata": {},
   "source": [
    "## 2.1. Making arrays\n",
    "\n",
    "First, let's learn how to manually input values into an array. This typically isn't how programs work. Normally, we create arrays by loading them from an external source, like a data file.\n",
    "\n",
    "To create an array by hand, call the function `make_array`.  Each argument you pass to `make_array` will be in the array it returns.  Run this cell to see an example:"
   ]
  },
  {
   "cell_type": "code",
   "execution_count": 23,
   "metadata": {
    "scrolled": true
   },
   "outputs": [
    {
     "data": {
      "text/plain": [
       "array([ 0.125,  4.75 , -1.3  ])"
      ]
     },
     "execution_count": 23,
     "metadata": {},
     "output_type": "execute_result"
    }
   ],
   "source": [
    "make_array(0.125, 4.75, -1.3)"
   ]
  },
  {
   "cell_type": "markdown",
   "metadata": {},
   "source": [
    "Each value in an array (in the above case, the numbers 0.125, 4.75, and -1.3) is called an *element* of that array.\n",
    "\n",
    "Arrays themselves are also values, just like numbers and strings.  That means you can assign them to names or use them as arguments to functions. For example, `len(<some_array>)` returns the number of elements in `some_array`."
   ]
  },
  {
   "cell_type": "markdown",
   "metadata": {
    "deletable": false,
    "editable": false
   },
   "source": [
    "**Question 2.1.1.** Make an array containing the numbers 0, 1, -1, $\\pi$, and $e$, in that order.  Name it `interesting_numbers`.  \n",
    "\n",
    "*Hint:* How did you get the values $\\pi$ and $e$ in lab 2?  You can refer to them in exactly the same way here.\n",
    "\n",
    "<!--\n",
    "BEGIN QUESTION\n",
    "name: q211\n",
    "-->"
   ]
  },
  {
   "cell_type": "code",
   "execution_count": 24,
   "metadata": {
    "deletable": false
   },
   "outputs": [
    {
     "data": {
      "text/plain": [
       "array([ 0.        ,  1.        , -1.        ,  3.14159265,  2.71828183])"
      ]
     },
     "execution_count": 24,
     "metadata": {},
     "output_type": "execute_result"
    }
   ],
   "source": [
    "interesting_numbers = make_array(0,1,-1,math.pi,math.e)\n",
    "interesting_numbers"
   ]
  },
  {
   "cell_type": "code",
   "execution_count": 25,
   "metadata": {
    "deletable": false,
    "editable": false
   },
   "outputs": [
    {
     "name": "stdout",
     "output_type": "stream",
     "text": [
      "~~~~~~~~~~~~~~~~~~~~~~~~~~~~~~~~~~~~~~~~~~~~~~~~~~~~~~~~~~~~~~~~~~~~~\n",
      "Running tests\n",
      "\n",
      "---------------------------------------------------------------------\n",
      "Test summary\n",
      "    Passed: 3\n",
      "    Failed: 0\n",
      "[ooooooooook] 100.0% passed\n",
      "\n"
     ]
    }
   ],
   "source": [
    "ok.grade(\"q211\");"
   ]
  },
  {
   "cell_type": "markdown",
   "metadata": {
    "deletable": false,
    "editable": false
   },
   "source": [
    "**Question 2.1.2.** Make an array containing the five strings `\"Hello\"`, `\",\"`, `\" \"`, `\"world\"`, and `\"!\"`.  (The third one is a single space inside quotes.)  Name it `hello_world_components`.\n",
    "\n",
    "*Note:* If you evaluate `hello_world_components`, you'll notice some extra information in addition to its contents: `dtype='<U5'`.  That's just NumPy's extremely cryptic way of saying that the data types in the array are strings.\n",
    "\n",
    "<!--\n",
    "BEGIN QUESTION\n",
    "name: q212\n",
    "-->"
   ]
  },
  {
   "cell_type": "code",
   "execution_count": 26,
   "metadata": {
    "deletable": false
   },
   "outputs": [
    {
     "data": {
      "text/plain": [
       "array(['Hello', ',', ' ', 'world', '!'], dtype='<U5')"
      ]
     },
     "execution_count": 26,
     "metadata": {},
     "output_type": "execute_result"
    }
   ],
   "source": [
    "hello_world_components = make_array(\"Hello\",\",\",\" \",\"world\",\"!\")\n",
    "hello_world_components"
   ]
  },
  {
   "cell_type": "code",
   "execution_count": 27,
   "metadata": {
    "deletable": false,
    "editable": false
   },
   "outputs": [
    {
     "name": "stdout",
     "output_type": "stream",
     "text": [
      "~~~~~~~~~~~~~~~~~~~~~~~~~~~~~~~~~~~~~~~~~~~~~~~~~~~~~~~~~~~~~~~~~~~~~\n",
      "Running tests\n",
      "\n",
      "---------------------------------------------------------------------\n",
      "Test summary\n",
      "    Passed: 3\n",
      "    Failed: 0\n",
      "[ooooooooook] 100.0% passed\n",
      "\n"
     ]
    }
   ],
   "source": [
    "ok.grade(\"q212\");"
   ]
  },
  {
   "cell_type": "markdown",
   "metadata": {},
   "source": [
    "###  `np.arange`\n",
    "Arrays are provided by a package called [NumPy](http://www.numpy.org/) (pronounced \"NUM-pie\"). The package is called `numpy`, but it's standard to rename it `np` for brevity.  You can do that with:\n",
    "\n",
    "    import numpy as np\n",
    "\n",
    "Very often in data science, we want to work with many numbers that are evenly spaced within some range.  NumPy provides a special function for this called `arange`.  The line of code `np.arange(start, stop, step)` evaluates to an array with all the numbers starting at `start` and counting up by `step`, stopping **before** `stop` is reached.\n",
    "\n",
    "Run the following cells to see some examples!"
   ]
  },
  {
   "cell_type": "code",
   "execution_count": 28,
   "metadata": {},
   "outputs": [
    {
     "data": {
      "text/plain": [
       "array([1, 3, 5])"
      ]
     },
     "execution_count": 28,
     "metadata": {},
     "output_type": "execute_result"
    }
   ],
   "source": [
    "# This array starts at 1 and counts up by 2\n",
    "# and then stops before 6\n",
    "np.arange(1, 6, 2)"
   ]
  },
  {
   "cell_type": "code",
   "execution_count": 29,
   "metadata": {},
   "outputs": [
    {
     "data": {
      "text/plain": [
       "array([4, 5, 6, 7, 8])"
      ]
     },
     "execution_count": 29,
     "metadata": {},
     "output_type": "execute_result"
    }
   ],
   "source": [
    "# This array doesn't contain 9\n",
    "# because np.arange stops *before* the stop value is reached\n",
    "np.arange(4, 9, 1)"
   ]
  },
  {
   "cell_type": "markdown",
   "metadata": {
    "deletable": false,
    "editable": false
   },
   "source": [
    "**Question 2.1.3.** Import `numpy` as `np` and then use `np.arange` to create an array with the multiples of 99 from 0 up to (**and including**) 9999.  (So its elements are 0, 99, 198, 297, etc.)\n",
    "\n",
    "<!--\n",
    "BEGIN QUESTION\n",
    "name: q213\n",
    "-->"
   ]
  },
  {
   "cell_type": "code",
   "execution_count": 32,
   "metadata": {
    "deletable": false
   },
   "outputs": [
    {
     "data": {
      "text/plain": [
       "array([   0,   99,  198,  297,  396,  495,  594,  693,  792,  891,  990,\n",
       "       1089, 1188, 1287, 1386, 1485, 1584, 1683, 1782, 1881, 1980, 2079,\n",
       "       2178, 2277, 2376, 2475, 2574, 2673, 2772, 2871, 2970, 3069, 3168,\n",
       "       3267, 3366, 3465, 3564, 3663, 3762, 3861, 3960, 4059, 4158, 4257,\n",
       "       4356, 4455, 4554, 4653, 4752, 4851, 4950, 5049, 5148, 5247, 5346,\n",
       "       5445, 5544, 5643, 5742, 5841, 5940, 6039, 6138, 6237, 6336, 6435,\n",
       "       6534, 6633, 6732, 6831, 6930, 7029, 7128, 7227, 7326, 7425, 7524,\n",
       "       7623, 7722, 7821, 7920, 8019, 8118, 8217, 8316, 8415, 8514, 8613,\n",
       "       8712, 8811, 8910, 9009, 9108, 9207, 9306, 9405, 9504, 9603, 9702,\n",
       "       9801, 9900, 9999])"
      ]
     },
     "execution_count": 32,
     "metadata": {},
     "output_type": "execute_result"
    }
   ],
   "source": [
    "import numpy as np\n",
    "multiples_of_99 = np.arange(0,9999+99,99)\n",
    "multiples_of_99"
   ]
  },
  {
   "cell_type": "code",
   "execution_count": 33,
   "metadata": {
    "deletable": false,
    "editable": false
   },
   "outputs": [
    {
     "name": "stdout",
     "output_type": "stream",
     "text": [
      "~~~~~~~~~~~~~~~~~~~~~~~~~~~~~~~~~~~~~~~~~~~~~~~~~~~~~~~~~~~~~~~~~~~~~\n",
      "Running tests\n",
      "\n",
      "---------------------------------------------------------------------\n",
      "Test summary\n",
      "    Passed: 3\n",
      "    Failed: 0\n",
      "[ooooooooook] 100.0% passed\n",
      "\n"
     ]
    }
   ],
   "source": [
    "ok.grade(\"q213\");"
   ]
  },
  {
   "cell_type": "markdown",
   "metadata": {
    "deletable": false
   },
   "source": [
    "## 2.2. Working with single elements of arrays (\"indexing\")\n",
    "Let's work with a more interesting dataset.  The next cell creates an array called `population_amounts` that includes estimated world populations in every year from **1950** to roughly the present.  (The estimates come from the US Census Bureau website.)\n",
    "\n",
    "Rather than type in the data manually, we've loaded them from a file on your computer called `world_population.csv`.  You'll learn how to do that later in this lab!"
   ]
  },
  {
   "cell_type": "code",
   "execution_count": 34,
   "metadata": {
    "deletable": false
   },
   "outputs": [
    {
     "data": {
      "text/plain": [
       "array([2557628654, 2594939877, 2636772306, 2682053389, 2730228104,\n",
       "       2782098943, 2835299673, 2891349717, 2948137248, 3000716593,\n",
       "       3043001508, 3083966929, 3140093217, 3209827882, 3281201306,\n",
       "       3350425793, 3420677923, 3490333715, 3562313822, 3637159050,\n",
       "       3712697742, 3790326948, 3866568653, 3942096442, 4016608813,\n",
       "       4089083233, 4160185010, 4232084578, 4304105753, 4379013942,\n",
       "       4451362735, 4534410125, 4614566561, 4695736743, 4774569391,\n",
       "       4856462699, 4940571232, 5027200492, 5114557167, 5201440110,\n",
       "       5288955934, 5371585922, 5456136278, 5538268316, 5618682132,\n",
       "       5699202985, 5779440593, 5857972543, 5935213248, 6012074922,\n",
       "       6088571383, 6165219247, 6242016348, 6318590956, 6395699509,\n",
       "       6473044732, 6551263534, 6629913759, 6709049780, 6788214394,\n",
       "       6866332358, 6944055583, 7022349283, 7101027895, 7178722893,\n",
       "       7256490011])"
      ]
     },
     "execution_count": 34,
     "metadata": {},
     "output_type": "execute_result"
    }
   ],
   "source": [
    "population_amounts = Table.read_table(\"world_population.csv\").column(\"Population\")\n",
    "population_amounts"
   ]
  },
  {
   "cell_type": "markdown",
   "metadata": {},
   "source": [
    "Here's how we get the first element of `population_amounts`, which is the world population in the first year in the dataset, 1950."
   ]
  },
  {
   "cell_type": "code",
   "execution_count": 35,
   "metadata": {},
   "outputs": [
    {
     "data": {
      "text/plain": [
       "2557628654"
      ]
     },
     "execution_count": 35,
     "metadata": {},
     "output_type": "execute_result"
    }
   ],
   "source": [
    "population_amounts.item(0)"
   ]
  },
  {
   "cell_type": "markdown",
   "metadata": {},
   "source": [
    "The value of that expression is the number 2557628654 (around 2.5 billion), because that's the first thing in the array `population_amounts`.\n",
    "\n",
    "Notice that we wrote `.item(0)`, not `.item(1)`, to get the first element.  This is a weird convention in computer science.  **0 is called the *index* of the first item.**  It's the number of elements that appear *before* that item.  So 3 is the index of the 4th item.\n",
    "\n",
    "Here are some more examples.  In the examples, we've given names to the things we get out of `population_amounts`.  Read and run each cell."
   ]
  },
  {
   "cell_type": "code",
   "execution_count": 36,
   "metadata": {},
   "outputs": [
    {
     "data": {
      "text/plain": [
       "3140093217"
      ]
     },
     "execution_count": 36,
     "metadata": {},
     "output_type": "execute_result"
    }
   ],
   "source": [
    "# The 13th element in the array is the population\n",
    "# in 1962 (which is 1950 + 12).\n",
    "population_1962 = population_amounts.item(12)\n",
    "population_1962"
   ]
  },
  {
   "cell_type": "code",
   "execution_count": 37,
   "metadata": {},
   "outputs": [
    {
     "data": {
      "text/plain": [
       "7256490011"
      ]
     },
     "execution_count": 37,
     "metadata": {},
     "output_type": "execute_result"
    }
   ],
   "source": [
    "# The 66th element is the population in 2015.\n",
    "population_2015 = population_amounts.item(65)\n",
    "population_2015"
   ]
  },
  {
   "cell_type": "code",
   "execution_count": 39,
   "metadata": {
    "tags": [
     "raises-exception"
    ]
   },
   "outputs": [
    {
     "data": {
      "text/plain": [
       "7256490011"
      ]
     },
     "execution_count": 39,
     "metadata": {},
     "output_type": "execute_result"
    }
   ],
   "source": [
    "# The array has only 66 elements, so this doesn't work.\n",
    "# (There's no element with 66 other elements before it.)\n",
    "population_2016 = population_amounts.item(65)\n",
    "population_2016"
   ]
  },
  {
   "cell_type": "markdown",
   "metadata": {},
   "source": [
    "Since `make_array` returns an array, we can call `.item(3)` on its output to get its 4th element, just like we \"chained\" together calls to the method `replace` earlier."
   ]
  },
  {
   "cell_type": "code",
   "execution_count": 40,
   "metadata": {},
   "outputs": [
    {
     "data": {
      "text/plain": [
       "-2"
      ]
     },
     "execution_count": 40,
     "metadata": {},
     "output_type": "execute_result"
    }
   ],
   "source": [
    "make_array(-1, -3, 4, -2).item(3)"
   ]
  },
  {
   "cell_type": "markdown",
   "metadata": {
    "deletable": false,
    "editable": false
   },
   "source": [
    "**Question 2.2.1.** Set `population_1973` to the world population in 1973, by getting the appropriate element from `population_amounts` using `item`.\n",
    "\n",
    "<!--\n",
    "BEGIN QUESTION\n",
    "name: q221\n",
    "-->"
   ]
  },
  {
   "cell_type": "code",
   "execution_count": 41,
   "metadata": {
    "deletable": false
   },
   "outputs": [
    {
     "data": {
      "text/plain": [
       "3942096442"
      ]
     },
     "execution_count": 41,
     "metadata": {},
     "output_type": "execute_result"
    }
   ],
   "source": [
    "population_1973 = population_amounts.item(23)\n",
    "population_1973"
   ]
  },
  {
   "cell_type": "code",
   "execution_count": 42,
   "metadata": {
    "deletable": false,
    "editable": false
   },
   "outputs": [
    {
     "name": "stdout",
     "output_type": "stream",
     "text": [
      "~~~~~~~~~~~~~~~~~~~~~~~~~~~~~~~~~~~~~~~~~~~~~~~~~~~~~~~~~~~~~~~~~~~~~\n",
      "Running tests\n",
      "\n",
      "---------------------------------------------------------------------\n",
      "Test summary\n",
      "    Passed: 1\n",
      "    Failed: 0\n",
      "[ooooooooook] 100.0% passed\n",
      "\n"
     ]
    }
   ],
   "source": [
    "ok.grade(\"q221\");"
   ]
  },
  {
   "cell_type": "markdown",
   "metadata": {},
   "source": [
    "## 2.3. Doing something to every element of an array\n",
    "Arrays are primarily useful for doing the same operation many times, so we don't often have to use `.item` and work with single elements.\n",
    "\n",
    "##### Logarithms\n",
    "Here is one simple question we might ask about world population:\n",
    "\n",
    "> How big was the population in *orders of magnitude* in each year?\n",
    "\n",
    "Orders of magnitude quantify how big a number is by representing it as the power of another number (for example, representing 104 as $10^{2.017033}$). One way to do this is by using the logarithm function. The logarithm (base 10) of a number increases by 1 every time we multiply the number by 10. It's like a measure of how many decimal digits the number has, or how big it is in orders of magnitude.\n",
    "\n",
    "We could try to answer our question like this, using the `log10` function from the `math` module and the `item` method you just saw:"
   ]
  },
  {
   "cell_type": "code",
   "execution_count": 43,
   "metadata": {
    "scrolled": true
   },
   "outputs": [],
   "source": [
    "population_1950_magnitude = math.log10(population_amounts.item(0))\n",
    "population_1951_magnitude = math.log10(population_amounts.item(1))\n",
    "population_1952_magnitude = math.log10(population_amounts.item(2))\n",
    "population_1953_magnitude = math.log10(population_amounts.item(3))"
   ]
  },
  {
   "cell_type": "markdown",
   "metadata": {
    "deletable": false,
    "editable": false
   },
   "source": [
    "But this is tedious and doesn't really take advantage of the fact that we are using a computer.\n",
    "\n",
    "Instead, NumPy provides its own version of `log10` that takes the logarithm of each element of an array.  It takes a single array of numbers as its argument.  It returns an array of the same length, where the first element of the result is the logarithm of the first element of the argument, and so on.\n",
    "\n",
    "**Question 2.3.1.** Use `np.log10` to compute the logarithms of the world population in every year.  Give the result (an array of 66 numbers) the name `population_magnitudes`.  Your code should be very short.\n",
    "\n",
    "<!--\n",
    "BEGIN QUESTION\n",
    "name: q231\n",
    "-->"
   ]
  },
  {
   "cell_type": "code",
   "execution_count": 47,
   "metadata": {
    "deletable": false
   },
   "outputs": [
    {
     "data": {
      "text/plain": [
       "array([9.40783749, 9.4141273 , 9.42107263, 9.42846742, 9.43619893,\n",
       "       9.44437257, 9.45259897, 9.46110062, 9.4695477 , 9.47722498,\n",
       "       9.48330217, 9.48910971, 9.49694254, 9.50648175, 9.51603288,\n",
       "       9.5251    , 9.53411218, 9.54286695, 9.55173218, 9.56076229,\n",
       "       9.56968959, 9.57867667, 9.58732573, 9.59572724, 9.60385954,\n",
       "       9.61162595, 9.61911264, 9.62655434, 9.63388293, 9.64137633,\n",
       "       9.64849299, 9.6565208 , 9.66413091, 9.67170374, 9.67893421,\n",
       "       9.68632006, 9.69377717, 9.70132621, 9.70880804, 9.7161236 ,\n",
       "       9.72336995, 9.73010253, 9.73688521, 9.74337399, 9.74963446,\n",
       "       9.75581413, 9.7618858 , 9.76774733, 9.77343633, 9.77902438,\n",
       "       9.7845154 , 9.78994853, 9.7953249 , 9.80062024, 9.80588805,\n",
       "       9.81110861, 9.81632507, 9.82150788, 9.82666101, 9.83175555,\n",
       "       9.83672482, 9.84161319, 9.84648243, 9.85132122, 9.85604719,\n",
       "       9.8607266 ])"
      ]
     },
     "execution_count": 47,
     "metadata": {},
     "output_type": "execute_result"
    }
   ],
   "source": [
    "population_magnitudes = np.log10(population_amounts)\n",
    "population_magnitudes"
   ]
  },
  {
   "cell_type": "code",
   "execution_count": 48,
   "metadata": {
    "deletable": false,
    "editable": false
   },
   "outputs": [
    {
     "name": "stdout",
     "output_type": "stream",
     "text": [
      "~~~~~~~~~~~~~~~~~~~~~~~~~~~~~~~~~~~~~~~~~~~~~~~~~~~~~~~~~~~~~~~~~~~~~\n",
      "Running tests\n",
      "\n",
      "---------------------------------------------------------------------\n",
      "Test summary\n",
      "    Passed: 2\n",
      "    Failed: 0\n",
      "[ooooooooook] 100.0% passed\n",
      "\n"
     ]
    }
   ],
   "source": [
    "ok.grade(\"q231\");"
   ]
  },
  {
   "cell_type": "markdown",
   "metadata": {},
   "source": [
    "What you just did is called **elementwise** application of `np.log10`, since `np.log10` operates separately on each element of the array that it's called on. Here's a picture of what's going on:"
   ]
  },
  {
   "cell_type": "markdown",
   "metadata": {},
   "source": [
    "<img src=\"array_logarithm.jpg\">\n",
    "\n",
    "\n",
    "The textbook's [section](https://www.inferentialthinking.com/chapters/05/1/Arrays)  on arrays has a useful list of NumPy functions that are designed to work elementwise, like `np.log10`."
   ]
  },
  {
   "cell_type": "markdown",
   "metadata": {},
   "source": [
    "##### Arithmetic\n",
    "Arithmetic also works elementwise on arrays, meaning that if you perform an arithmetic operation (like subtraction, division, etc) on an array, Python will do the operation to every element of the array individually and return an array of all of the results. For example, you can divide all the population numbers by 1 billion to get numbers in billions:"
   ]
  },
  {
   "cell_type": "code",
   "execution_count": 49,
   "metadata": {},
   "outputs": [
    {
     "data": {
      "text/plain": [
       "array([2.55762865, 2.59493988, 2.63677231, 2.68205339, 2.7302281 ,\n",
       "       2.78209894, 2.83529967, 2.89134972, 2.94813725, 3.00071659,\n",
       "       3.04300151, 3.08396693, 3.14009322, 3.20982788, 3.28120131,\n",
       "       3.35042579, 3.42067792, 3.49033371, 3.56231382, 3.63715905,\n",
       "       3.71269774, 3.79032695, 3.86656865, 3.94209644, 4.01660881,\n",
       "       4.08908323, 4.16018501, 4.23208458, 4.30410575, 4.37901394,\n",
       "       4.45136274, 4.53441012, 4.61456656, 4.69573674, 4.77456939,\n",
       "       4.8564627 , 4.94057123, 5.02720049, 5.11455717, 5.20144011,\n",
       "       5.28895593, 5.37158592, 5.45613628, 5.53826832, 5.61868213,\n",
       "       5.69920299, 5.77944059, 5.85797254, 5.93521325, 6.01207492,\n",
       "       6.08857138, 6.16521925, 6.24201635, 6.31859096, 6.39569951,\n",
       "       6.47304473, 6.55126353, 6.62991376, 6.70904978, 6.78821439,\n",
       "       6.86633236, 6.94405558, 7.02234928, 7.10102789, 7.17872289,\n",
       "       7.25649001])"
      ]
     },
     "execution_count": 49,
     "metadata": {},
     "output_type": "execute_result"
    }
   ],
   "source": [
    "population_in_billions = population_amounts / 1000000000\n",
    "population_in_billions"
   ]
  },
  {
   "cell_type": "markdown",
   "metadata": {},
   "source": [
    "You can do the same with addition, subtraction, multiplication, and exponentiation (`**`)."
   ]
  },
  {
   "cell_type": "markdown",
   "metadata": {
    "deletable": false
   },
   "source": [
    "## 3. Creating Tables\n",
    "\n",
    "An array is useful for describing a single attribute of each element in a collection. For example, let's say our collection is all US States. Then an array could describe the land area of each state. \n",
    "\n",
    "Tables extend this idea by containing multiple arrays, each one describing a different attribute for every element of a collection. In this way, tables allow us to not only store data about many entities but to also contain several kinds of data about each entity.\n",
    "\n",
    "For example, in the cell below we have two arrays. The first one, `population_amounts`, was defined above in section 2.2 and contains the world population in each year (estimated by the US Census Bureau). The second array, `years`, contains the years themselves. These elements are in order, so the year and the world population for that year have the same index in their corresponding arrays."
   ]
  },
  {
   "cell_type": "code",
   "execution_count": 50,
   "metadata": {
    "deletable": false,
    "scrolled": true
   },
   "outputs": [
    {
     "name": "stdout",
     "output_type": "stream",
     "text": [
      "Population column: [2557628654 2594939877 2636772306 2682053389 2730228104 2782098943\n",
      " 2835299673 2891349717 2948137248 3000716593 3043001508 3083966929\n",
      " 3140093217 3209827882 3281201306 3350425793 3420677923 3490333715\n",
      " 3562313822 3637159050 3712697742 3790326948 3866568653 3942096442\n",
      " 4016608813 4089083233 4160185010 4232084578 4304105753 4379013942\n",
      " 4451362735 4534410125 4614566561 4695736743 4774569391 4856462699\n",
      " 4940571232 5027200492 5114557167 5201440110 5288955934 5371585922\n",
      " 5456136278 5538268316 5618682132 5699202985 5779440593 5857972543\n",
      " 5935213248 6012074922 6088571383 6165219247 6242016348 6318590956\n",
      " 6395699509 6473044732 6551263534 6629913759 6709049780 6788214394\n",
      " 6866332358 6944055583 7022349283 7101027895 7178722893 7256490011]\n",
      "Years column: [1950 1951 1952 1953 1954 1955 1956 1957 1958 1959 1960 1961 1962 1963\n",
      " 1964 1965 1966 1967 1968 1969 1970 1971 1972 1973 1974 1975 1976 1977\n",
      " 1978 1979 1980 1981 1982 1983 1984 1985 1986 1987 1988 1989 1990 1991\n",
      " 1992 1993 1994 1995 1996 1997 1998 1999 2000 2001 2002 2003 2004 2005\n",
      " 2006 2007 2008 2009 2010 2011 2012 2013 2014 2015]\n"
     ]
    }
   ],
   "source": [
    "# Just run this cell\n",
    "\n",
    "years = np.arange(1950, 2015+1)\n",
    "print(\"Population column:\", population_amounts)\n",
    "print(\"Years column:\", years)"
   ]
  },
  {
   "cell_type": "markdown",
   "metadata": {
    "deletable": false
   },
   "source": [
    "Suppose we want to answer this question:\n",
    "\n",
    "> In which year did the world's population cross 6 billion?\n",
    "\n",
    "You could technically answer this question just from staring at the arrays, but it's a bit convoluted, since you would have to count the position where the population first crossed 6 billion, then find the corresponding element in the years array. In cases like these, it might be easier to put the data into a *`Table`*, a 2-dimensional type of dataset. \n",
    "\n",
    "The expression below:\n",
    "\n",
    "- creates an empty table using the expression `Table()`,\n",
    "- adds two columns by calling `with_columns` with four arguments,\n",
    "- assigns the result to the name `population`, and finally\n",
    "- evaluates `population` so that we can see the table.\n",
    "\n",
    "The strings `\"Year\"` and `\"Population\"` are column labels that we have chosen. The names `population_amounts` and `years` were assigned above to two arrays of the **same length**. The function `with_columns` (you can find the documentation [here](http://data8.org/datascience/tables.html)) takes in alternating strings (to represent column labels) and arrays (representing the data in those columns). The strings and arrays are separated by commas."
   ]
  },
  {
   "cell_type": "code",
   "execution_count": 51,
   "metadata": {
    "deletable": false
   },
   "outputs": [
    {
     "data": {
      "text/html": [
       "<table border=\"1\" class=\"dataframe\">\n",
       "    <thead>\n",
       "        <tr>\n",
       "            <th>Population</th> <th>Year</th>\n",
       "        </tr>\n",
       "    </thead>\n",
       "    <tbody>\n",
       "        <tr>\n",
       "            <td>2557628654</td> <td>1950</td>\n",
       "        </tr>\n",
       "        <tr>\n",
       "            <td>2594939877</td> <td>1951</td>\n",
       "        </tr>\n",
       "        <tr>\n",
       "            <td>2636772306</td> <td>1952</td>\n",
       "        </tr>\n",
       "        <tr>\n",
       "            <td>2682053389</td> <td>1953</td>\n",
       "        </tr>\n",
       "        <tr>\n",
       "            <td>2730228104</td> <td>1954</td>\n",
       "        </tr>\n",
       "        <tr>\n",
       "            <td>2782098943</td> <td>1955</td>\n",
       "        </tr>\n",
       "        <tr>\n",
       "            <td>2835299673</td> <td>1956</td>\n",
       "        </tr>\n",
       "        <tr>\n",
       "            <td>2891349717</td> <td>1957</td>\n",
       "        </tr>\n",
       "        <tr>\n",
       "            <td>2948137248</td> <td>1958</td>\n",
       "        </tr>\n",
       "        <tr>\n",
       "            <td>3000716593</td> <td>1959</td>\n",
       "        </tr>\n",
       "    </tbody>\n",
       "</table>\n",
       "<p>... (56 rows omitted)</p>"
      ],
      "text/plain": [
       "Population | Year\n",
       "2557628654 | 1950\n",
       "2594939877 | 1951\n",
       "2636772306 | 1952\n",
       "2682053389 | 1953\n",
       "2730228104 | 1954\n",
       "2782098943 | 1955\n",
       "2835299673 | 1956\n",
       "2891349717 | 1957\n",
       "2948137248 | 1958\n",
       "3000716593 | 1959\n",
       "... (56 rows omitted)"
      ]
     },
     "execution_count": 51,
     "metadata": {},
     "output_type": "execute_result"
    }
   ],
   "source": [
    "population = Table().with_columns(\n",
    "    \"Population\", population_amounts,\n",
    "    \"Year\", years\n",
    ")\n",
    "population"
   ]
  },
  {
   "cell_type": "markdown",
   "metadata": {
    "deletable": false
   },
   "source": [
    "Now the data is combined into a single table! It's much easier to parse this data. If you need to know what the population was in 1959, for example, you can tell from a single glance."
   ]
  },
  {
   "cell_type": "markdown",
   "metadata": {
    "deletable": false,
    "editable": false
   },
   "source": [
    "**Question 3.1.** In the cell below, we've created 2 arrays. Using the steps above, assign `top_10_movies` to a table that has two columns called \"Rating\" and \"Name\", which hold `top_10_movie_ratings` and `top_10_movie_names` respectively.\n",
    "\n",
    "<!--\n",
    "BEGIN QUESTION\n",
    "name: q31\n",
    "-->"
   ]
  },
  {
   "cell_type": "code",
   "execution_count": 59,
   "metadata": {
    "deletable": false,
    "scrolled": false
   },
   "outputs": [
    {
     "data": {
      "text/html": [
       "<table border=\"1\" class=\"dataframe\">\n",
       "    <thead>\n",
       "        <tr>\n",
       "            <th>Rating</th> <th>Name</th>\n",
       "        </tr>\n",
       "    </thead>\n",
       "    <tbody>\n",
       "        <tr>\n",
       "            <td>9.2   </td> <td>The Shawshank Redemption (1994)                         </td>\n",
       "        </tr>\n",
       "        <tr>\n",
       "            <td>9.2   </td> <td>The Godfather (1972)                                    </td>\n",
       "        </tr>\n",
       "        <tr>\n",
       "            <td>9     </td> <td>The Godfather: Part II (1974)                           </td>\n",
       "        </tr>\n",
       "        <tr>\n",
       "            <td>8.9   </td> <td>Pulp Fiction (1994)                                     </td>\n",
       "        </tr>\n",
       "        <tr>\n",
       "            <td>8.9   </td> <td>Schindler's List (1993)                                 </td>\n",
       "        </tr>\n",
       "        <tr>\n",
       "            <td>8.9   </td> <td>The Lord of the Rings: The Return of the King (2003)    </td>\n",
       "        </tr>\n",
       "        <tr>\n",
       "            <td>8.9   </td> <td>12 Angry Men (1957)                                     </td>\n",
       "        </tr>\n",
       "        <tr>\n",
       "            <td>8.9   </td> <td>The Dark Knight (2008)                                  </td>\n",
       "        </tr>\n",
       "        <tr>\n",
       "            <td>8.9   </td> <td>Il buono, il brutto, il cattivo (1966)                  </td>\n",
       "        </tr>\n",
       "        <tr>\n",
       "            <td>8.8   </td> <td>The Lord of the Rings: The Fellowship of the Ring (2001)</td>\n",
       "        </tr>\n",
       "    </tbody>\n",
       "</table>"
      ],
      "text/plain": [
       "Rating | Name\n",
       "9.2    | The Shawshank Redemption (1994)\n",
       "9.2    | The Godfather (1972)\n",
       "9      | The Godfather: Part II (1974)\n",
       "8.9    | Pulp Fiction (1994)\n",
       "8.9    | Schindler's List (1993)\n",
       "8.9    | The Lord of the Rings: The Return of the King (2003)\n",
       "8.9    | 12 Angry Men (1957)\n",
       "8.9    | The Dark Knight (2008)\n",
       "8.9    | Il buono, il brutto, il cattivo (1966)\n",
       "8.8    | The Lord of the Rings: The Fellowship of the Ring (2001)"
      ]
     },
     "execution_count": 59,
     "metadata": {},
     "output_type": "execute_result"
    }
   ],
   "source": [
    "top_10_movie_ratings = make_array(9.2, 9.2, 9., 8.9, 8.9, 8.9, 8.9, 8.9, 8.9, 8.8)\n",
    "top_10_movie_names = make_array(\n",
    "        'The Shawshank Redemption (1994)',\n",
    "        'The Godfather (1972)',\n",
    "        'The Godfather: Part II (1974)',\n",
    "        'Pulp Fiction (1994)',\n",
    "        \"Schindler's List (1993)\",\n",
    "        'The Lord of the Rings: The Return of the King (2003)',\n",
    "        '12 Angry Men (1957)',\n",
    "        'The Dark Knight (2008)',\n",
    "        'Il buono, il brutto, il cattivo (1966)',\n",
    "        'The Lord of the Rings: The Fellowship of the Ring (2001)')\n",
    "\n",
    "top_10_movies = Table().with_columns(\n",
    "    \"Rating\",top_10_movie_ratings,\n",
    "    \"Name\",top_10_movie_names)\n",
    "\n",
    "# We've put this next line here \n",
    "# so your table will get printed out \n",
    "# when you run this cell.\n",
    "top_10_movies"
   ]
  },
  {
   "cell_type": "code",
   "execution_count": 60,
   "metadata": {
    "deletable": false,
    "editable": false
   },
   "outputs": [
    {
     "name": "stdout",
     "output_type": "stream",
     "text": [
      "~~~~~~~~~~~~~~~~~~~~~~~~~~~~~~~~~~~~~~~~~~~~~~~~~~~~~~~~~~~~~~~~~~~~~\n",
      "Running tests\n",
      "\n",
      "---------------------------------------------------------------------\n",
      "Test summary\n",
      "    Passed: 2\n",
      "    Failed: 0\n",
      "[ooooooooook] 100.0% passed\n",
      "\n"
     ]
    }
   ],
   "source": [
    "ok.grade(\"q31\");"
   ]
  },
  {
   "cell_type": "code",
   "execution_count": 56,
   "metadata": {},
   "outputs": [
    {
     "data": {
      "text/plain": [
       "array([9.2, 9.2, 9. , 8.9, 8.9, 8.9, 8.9, 8.9, 8.9, 8.8])"
      ]
     },
     "execution_count": 56,
     "metadata": {},
     "output_type": "execute_result"
    }
   ],
   "source": [
    "top_10_movie_ratings"
   ]
  },
  {
   "cell_type": "code",
   "execution_count": 57,
   "metadata": {},
   "outputs": [
    {
     "data": {
      "text/plain": [
       "array(['The Shawshank Redemption (1994)', 'The Godfather (1972)',\n",
       "       'The Godfather: Part II (1974)', 'Pulp Fiction (1994)',\n",
       "       \"Schindler's List (1993)\",\n",
       "       'The Lord of the Rings: The Return of the King (2003)',\n",
       "       '12 Angry Men (1957)', 'The Dark Knight (2008)',\n",
       "       'Il buono, il brutto, il cattivo (1966)',\n",
       "       'The Lord of the Rings: The Fellowship of the Ring (2001)'],\n",
       "      dtype='<U56')"
      ]
     },
     "execution_count": 57,
     "metadata": {},
     "output_type": "execute_result"
    }
   ],
   "source": [
    "top_10_movie_names"
   ]
  },
  {
   "cell_type": "markdown",
   "metadata": {
    "deletable": false,
    "editable": false,
    "scrolled": true
   },
   "source": [
    "#### Loading a table from a file\n",
    "\n",
    "In most cases, we aren't going to go through the trouble of typing in all the data manually. Instead, we load them in from an external source, like a data file. There are many formats for data files, but CSV (\"comma-separated values\") is the most common.\n",
    "\n",
    "`Table.read_table(...)` takes one argument (a path to a data file in **string** format) and returns a table.  \n",
    "\n",
    "**Question 3.2.** `imdb.csv` contains a table of information about the 250 highest-rated movies on IMDb.  Load it as a table called `imdb`.\n",
    "\n",
    "(You may remember working with this table in Lab 2!)\n",
    "\n",
    "<!--\n",
    "BEGIN QUESTION\n",
    "name: q32\n",
    "-->"
   ]
  },
  {
   "cell_type": "code",
   "execution_count": 61,
   "metadata": {
    "deletable": false
   },
   "outputs": [
    {
     "data": {
      "text/html": [
       "<table border=\"1\" class=\"dataframe\">\n",
       "    <thead>\n",
       "        <tr>\n",
       "            <th>Votes</th> <th>Rating</th> <th>Title</th> <th>Year</th> <th>Decade</th>\n",
       "        </tr>\n",
       "    </thead>\n",
       "    <tbody>\n",
       "        <tr>\n",
       "            <td>88355 </td> <td>8.4   </td> <td>M                    </td> <td>1931</td> <td>1930  </td>\n",
       "        </tr>\n",
       "        <tr>\n",
       "            <td>132823</td> <td>8.3   </td> <td>Singin' in the Rain  </td> <td>1952</td> <td>1950  </td>\n",
       "        </tr>\n",
       "        <tr>\n",
       "            <td>74178 </td> <td>8.3   </td> <td>All About Eve        </td> <td>1950</td> <td>1950  </td>\n",
       "        </tr>\n",
       "        <tr>\n",
       "            <td>635139</td> <td>8.6   </td> <td>Léon                 </td> <td>1994</td> <td>1990  </td>\n",
       "        </tr>\n",
       "        <tr>\n",
       "            <td>145514</td> <td>8.2   </td> <td>The Elephant Man     </td> <td>1980</td> <td>1980  </td>\n",
       "        </tr>\n",
       "        <tr>\n",
       "            <td>425461</td> <td>8.3   </td> <td>Full Metal Jacket    </td> <td>1987</td> <td>1980  </td>\n",
       "        </tr>\n",
       "        <tr>\n",
       "            <td>441174</td> <td>8.1   </td> <td>Gone Girl            </td> <td>2014</td> <td>2010  </td>\n",
       "        </tr>\n",
       "        <tr>\n",
       "            <td>850601</td> <td>8.3   </td> <td>Batman Begins        </td> <td>2005</td> <td>2000  </td>\n",
       "        </tr>\n",
       "        <tr>\n",
       "            <td>37664 </td> <td>8.2   </td> <td>Judgment at Nuremberg</td> <td>1961</td> <td>1960  </td>\n",
       "        </tr>\n",
       "        <tr>\n",
       "            <td>46987 </td> <td>8     </td> <td>Relatos salvajes     </td> <td>2014</td> <td>2010  </td>\n",
       "        </tr>\n",
       "    </tbody>\n",
       "</table>\n",
       "<p>... (240 rows omitted)</p>"
      ],
      "text/plain": [
       "Votes  | Rating | Title                 | Year | Decade\n",
       "88355  | 8.4    | M                     | 1931 | 1930\n",
       "132823 | 8.3    | Singin' in the Rain   | 1952 | 1950\n",
       "74178  | 8.3    | All About Eve         | 1950 | 1950\n",
       "635139 | 8.6    | Léon                  | 1994 | 1990\n",
       "145514 | 8.2    | The Elephant Man      | 1980 | 1980\n",
       "425461 | 8.3    | Full Metal Jacket     | 1987 | 1980\n",
       "441174 | 8.1    | Gone Girl             | 2014 | 2010\n",
       "850601 | 8.3    | Batman Begins         | 2005 | 2000\n",
       "37664  | 8.2    | Judgment at Nuremberg | 1961 | 1960\n",
       "46987  | 8      | Relatos salvajes      | 2014 | 2010\n",
       "... (240 rows omitted)"
      ]
     },
     "execution_count": 61,
     "metadata": {},
     "output_type": "execute_result"
    }
   ],
   "source": [
    "imdb = Table.read_table(\"imdb.csv\")\n",
    "imdb"
   ]
  },
  {
   "cell_type": "code",
   "execution_count": 62,
   "metadata": {
    "deletable": false,
    "editable": false
   },
   "outputs": [
    {
     "name": "stdout",
     "output_type": "stream",
     "text": [
      "~~~~~~~~~~~~~~~~~~~~~~~~~~~~~~~~~~~~~~~~~~~~~~~~~~~~~~~~~~~~~~~~~~~~~\n",
      "Running tests\n",
      "\n",
      "---------------------------------------------------------------------\n",
      "Test summary\n",
      "    Passed: 3\n",
      "    Failed: 0\n",
      "[ooooooooook] 100.0% passed\n",
      "\n"
     ]
    }
   ],
   "source": [
    "ok.grade(\"q32\");"
   ]
  },
  {
   "cell_type": "markdown",
   "metadata": {},
   "source": [
    "Where did `imdb.csv` come from? Take a look at [this lab's folder](./). You should see a file called `imdb.csv`.\n",
    "\n",
    "Open up the `imdb.csv` file in that folder and look at the format. What do you notice? The `.csv` filename ending says that this file is in the [CSV (comma-separated value) format](http://edoceo.com/utilitas/csv-file-format)."
   ]
  },
  {
   "cell_type": "markdown",
   "metadata": {
    "collapsed": true
   },
   "source": [
    "## 4. More Table Operations!\n",
    "\n",
    "Now that you've worked with arrays, let's add a few more methods to the list of table operations that you saw in Lab 2.\n",
    "\n",
    "### `column`\n",
    "\n",
    "`column` takes the column name of a table (in string format) as its argument and returns the values in that column as an **array**. "
   ]
  },
  {
   "cell_type": "code",
   "execution_count": 63,
   "metadata": {
    "scrolled": true
   },
   "outputs": [
    {
     "data": {
      "text/plain": [
       "array(['The Shawshank Redemption (1994)', 'The Godfather (1972)',\n",
       "       'The Godfather: Part II (1974)', 'Pulp Fiction (1994)',\n",
       "       \"Schindler's List (1993)\",\n",
       "       'The Lord of the Rings: The Return of the King (2003)',\n",
       "       '12 Angry Men (1957)', 'The Dark Knight (2008)',\n",
       "       'Il buono, il brutto, il cattivo (1966)',\n",
       "       'The Lord of the Rings: The Fellowship of the Ring (2001)'],\n",
       "      dtype='<U56')"
      ]
     },
     "execution_count": 63,
     "metadata": {},
     "output_type": "execute_result"
    }
   ],
   "source": [
    "# Returns an array of movie names\n",
    "top_10_movies.column('Name')"
   ]
  },
  {
   "cell_type": "markdown",
   "metadata": {},
   "source": [
    "### `take`\n",
    "The table method `take` takes as its argument an array of numbers.  Each number should be the index of a row in the table.  It returns a **new table** with only those rows. \n",
    "\n",
    "You'll usually want to use `take` in conjunction with `np.arange` to take the first few rows of a table."
   ]
  },
  {
   "cell_type": "code",
   "execution_count": 64,
   "metadata": {
    "scrolled": true
   },
   "outputs": [
    {
     "data": {
      "text/html": [
       "<table border=\"1\" class=\"dataframe\">\n",
       "    <thead>\n",
       "        <tr>\n",
       "            <th>Rating</th> <th>Name</th>\n",
       "        </tr>\n",
       "    </thead>\n",
       "    <tbody>\n",
       "        <tr>\n",
       "            <td>9.2   </td> <td>The Shawshank Redemption (1994)</td>\n",
       "        </tr>\n",
       "        <tr>\n",
       "            <td>9.2   </td> <td>The Godfather (1972)           </td>\n",
       "        </tr>\n",
       "        <tr>\n",
       "            <td>9     </td> <td>The Godfather: Part II (1974)  </td>\n",
       "        </tr>\n",
       "        <tr>\n",
       "            <td>8.9   </td> <td>Pulp Fiction (1994)            </td>\n",
       "        </tr>\n",
       "        <tr>\n",
       "            <td>8.9   </td> <td>Schindler's List (1993)        </td>\n",
       "        </tr>\n",
       "    </tbody>\n",
       "</table>"
      ],
      "text/plain": [
       "Rating | Name\n",
       "9.2    | The Shawshank Redemption (1994)\n",
       "9.2    | The Godfather (1972)\n",
       "9      | The Godfather: Part II (1974)\n",
       "8.9    | Pulp Fiction (1994)\n",
       "8.9    | Schindler's List (1993)"
      ]
     },
     "execution_count": 64,
     "metadata": {},
     "output_type": "execute_result"
    }
   ],
   "source": [
    "# Take first 5 movies of top_10_movies\n",
    "top_10_movies.take(np.arange(0, 5, 1))"
   ]
  },
  {
   "cell_type": "markdown",
   "metadata": {},
   "source": [
    "The next three questions will give you practice with combining the operations you've learned in this lab and the previous one to answer questions about the `population` and `imdb` tables. First, check out the `population` table from section 2."
   ]
  },
  {
   "cell_type": "code",
   "execution_count": 65,
   "metadata": {},
   "outputs": [
    {
     "data": {
      "text/html": [
       "<table border=\"1\" class=\"dataframe\">\n",
       "    <thead>\n",
       "        <tr>\n",
       "            <th>Population</th> <th>Year</th>\n",
       "        </tr>\n",
       "    </thead>\n",
       "    <tbody>\n",
       "        <tr>\n",
       "            <td>2557628654</td> <td>1950</td>\n",
       "        </tr>\n",
       "        <tr>\n",
       "            <td>2594939877</td> <td>1951</td>\n",
       "        </tr>\n",
       "        <tr>\n",
       "            <td>2636772306</td> <td>1952</td>\n",
       "        </tr>\n",
       "        <tr>\n",
       "            <td>2682053389</td> <td>1953</td>\n",
       "        </tr>\n",
       "        <tr>\n",
       "            <td>2730228104</td> <td>1954</td>\n",
       "        </tr>\n",
       "        <tr>\n",
       "            <td>2782098943</td> <td>1955</td>\n",
       "        </tr>\n",
       "        <tr>\n",
       "            <td>2835299673</td> <td>1956</td>\n",
       "        </tr>\n",
       "        <tr>\n",
       "            <td>2891349717</td> <td>1957</td>\n",
       "        </tr>\n",
       "        <tr>\n",
       "            <td>2948137248</td> <td>1958</td>\n",
       "        </tr>\n",
       "        <tr>\n",
       "            <td>3000716593</td> <td>1959</td>\n",
       "        </tr>\n",
       "    </tbody>\n",
       "</table>\n",
       "<p>... (56 rows omitted)</p>"
      ],
      "text/plain": [
       "Population | Year\n",
       "2557628654 | 1950\n",
       "2594939877 | 1951\n",
       "2636772306 | 1952\n",
       "2682053389 | 1953\n",
       "2730228104 | 1954\n",
       "2782098943 | 1955\n",
       "2835299673 | 1956\n",
       "2891349717 | 1957\n",
       "2948137248 | 1958\n",
       "3000716593 | 1959\n",
       "... (56 rows omitted)"
      ]
     },
     "execution_count": 65,
     "metadata": {},
     "output_type": "execute_result"
    }
   ],
   "source": [
    "# Run this cell to display the population table.\n",
    "population"
   ]
  },
  {
   "cell_type": "markdown",
   "metadata": {
    "deletable": false,
    "editable": false
   },
   "source": [
    "**Question 4.1.** Check out the `population` table from section 2 of this lab.  Compute the year when the world population first went above 6 billion. Assign the year to `year_population_crossed_6_billion`.\n",
    "\n",
    "<!--\n",
    "BEGIN QUESTION\n",
    "name: q41\n",
    "-->"
   ]
  },
  {
   "cell_type": "code",
   "execution_count": 71,
   "metadata": {
    "deletable": false
   },
   "outputs": [
    {
     "data": {
      "text/plain": [
       "1999"
      ]
     },
     "execution_count": 71,
     "metadata": {},
     "output_type": "execute_result"
    }
   ],
   "source": [
    "year_population_crossed_6_billion = population.where(\"Population\",are.above_or_equal_to(6000000000)).column(1).item(0)\n",
    "year_population_crossed_6_billion"
   ]
  },
  {
   "cell_type": "code",
   "execution_count": 72,
   "metadata": {
    "deletable": false,
    "editable": false
   },
   "outputs": [
    {
     "name": "stdout",
     "output_type": "stream",
     "text": [
      "~~~~~~~~~~~~~~~~~~~~~~~~~~~~~~~~~~~~~~~~~~~~~~~~~~~~~~~~~~~~~~~~~~~~~\n",
      "Running tests\n",
      "\n",
      "---------------------------------------------------------------------\n",
      "Test summary\n",
      "    Passed: 2\n",
      "    Failed: 0\n",
      "[ooooooooook] 100.0% passed\n",
      "\n"
     ]
    }
   ],
   "source": [
    "ok.grade(\"q41\");"
   ]
  },
  {
   "cell_type": "markdown",
   "metadata": {
    "deletable": false,
    "editable": false
   },
   "source": [
    "**Question 4.2.** Find the average rating for movies released before the year 2000 and the average rating for movies released in the year 2000 or after for the movies in `imdb`.\n",
    "\n",
    "*Hint*: Think of the steps you need to do (take the average, find the ratings, find movies released in 20th/21st centuries), and try to put them in an order that makes sense.\n",
    "\n",
    "<!--\n",
    "BEGIN QUESTION\n",
    "name: q42\n",
    "-->"
   ]
  },
  {
   "cell_type": "code",
   "execution_count": 74,
   "metadata": {
    "deletable": false
   },
   "outputs": [
    {
     "name": "stdout",
     "output_type": "stream",
     "text": [
      "Average before 2000 rating: 8.278362573099415\n",
      "Average after or in 2000 rating: 8.237974683544303\n"
     ]
    }
   ],
   "source": [
    "before_2000 = np.mean(imdb.where(\"Year\",are.below(2000)).column(\"Rating\"))\n",
    "after_or_in_2000 = np.mean(imdb.where(\"Year\",are.above_or_equal_to(2000)).column(\"Rating\"))\n",
    "print(\"Average before 2000 rating:\", before_2000)\n",
    "print(\"Average after or in 2000 rating:\", after_or_in_2000)"
   ]
  },
  {
   "cell_type": "code",
   "execution_count": 75,
   "metadata": {
    "deletable": false,
    "editable": false
   },
   "outputs": [
    {
     "name": "stdout",
     "output_type": "stream",
     "text": [
      "~~~~~~~~~~~~~~~~~~~~~~~~~~~~~~~~~~~~~~~~~~~~~~~~~~~~~~~~~~~~~~~~~~~~~\n",
      "Running tests\n",
      "\n",
      "---------------------------------------------------------------------\n",
      "Test summary\n",
      "    Passed: 2\n",
      "    Failed: 0\n",
      "[ooooooooook] 100.0% passed\n",
      "\n"
     ]
    }
   ],
   "source": [
    "ok.grade(\"q42\");"
   ]
  },
  {
   "cell_type": "markdown",
   "metadata": {
    "deletable": false,
    "editable": false
   },
   "source": [
    "**Question 4.3.** Here's a challenge: Find the number of movies that came out in *even* years.\n",
    "\n",
    "*Hint:* The operator `%` computes the remainder when dividing by a number.  So `5 % 2` is 1 and `6 % 2` is 0.  A number is even if the remainder is 0 when you divide by 2.\n",
    "\n",
    "*Hint 2:* `%` can be used on arrays, operating elementwise like `+` or `*`.  So `make_array(5, 6, 7) % 2` is `array([1, 0, 1])`.\n",
    "\n",
    "*Hint 3:* Create a column called \"Year Remainder\" that's the remainder when each movie's release year is divided by 2.  Make a copy of `imdb` that includes that column (`imdb.with_column(...)` returns a new table).  Then use `where` to find rows where that new column is equal to 0.  Then use `num_rows` to count the number of such rows.\n",
    "\n",
    "*Note:* These steps can be chained in one single statement, or broken up across several lines with intermediate names assigned. You’re always welcome to break down problems however you wish!\n",
    "\n",
    "<!--\n",
    "BEGIN QUESTION\n",
    "name: q43\n",
    "-->"
   ]
  },
  {
   "cell_type": "code",
   "execution_count": 78,
   "metadata": {
    "deletable": false
   },
   "outputs": [
    {
     "data": {
      "text/plain": [
       "127"
      ]
     },
     "execution_count": 78,
     "metadata": {},
     "output_type": "execute_result"
    }
   ],
   "source": [
    "num_even_year_movies =  imdb.with_column(\"Year Remainder\", imdb.column('Year')%2).where(\"Year Remainder\", \n",
    "                                                                        are.equal_to(0)).num_rows\n",
    "num_even_year_movies"
   ]
  },
  {
   "cell_type": "code",
   "execution_count": 79,
   "metadata": {
    "deletable": false,
    "editable": false
   },
   "outputs": [
    {
     "name": "stdout",
     "output_type": "stream",
     "text": [
      "~~~~~~~~~~~~~~~~~~~~~~~~~~~~~~~~~~~~~~~~~~~~~~~~~~~~~~~~~~~~~~~~~~~~~\n",
      "Running tests\n",
      "\n",
      "---------------------------------------------------------------------\n",
      "Test summary\n",
      "    Passed: 1\n",
      "    Failed: 0\n",
      "[ooooooooook] 100.0% passed\n",
      "\n"
     ]
    }
   ],
   "source": [
    "ok.grade(\"q43\");"
   ]
  },
  {
   "cell_type": "markdown",
   "metadata": {},
   "source": [
    "## 5. Submission\n",
    "\n",
    "Congratulations, you're done with lab 3!  Be sure to \n",
    "- **run all the tests** (the next cell has a shortcut for that), \n",
    "- **Save and Checkpoint** from the `File` menu,\n",
    "- **run the last cell to submit your work**,\n",
    "- and if you are in lab, ask one of the staff members to check you off."
   ]
  },
  {
   "cell_type": "code",
   "execution_count": 67,
   "metadata": {},
   "outputs": [],
   "source": [
    "# For your convenience, you can run this cell to run all the tests at once!\n",
    "import os\n",
    "_ = [ok.grade(q[:-3]) for q in os.listdir(\"tests\") if q.startswith('q')]\n",
    "_ = ok.submit()"
   ]
  },
  {
   "cell_type": "code",
   "execution_count": null,
   "metadata": {},
   "outputs": [],
   "source": [
    "_ = ok.submit()"
   ]
  },
  {
   "cell_type": "markdown",
   "metadata": {},
   "source": [
    "## 6. Optional Section\n",
    "\n",
    "Everything below this cell is optional and will not count towards your lab grade. It is recommended that you complete this section, but not required!"
   ]
  },
  {
   "cell_type": "markdown",
   "metadata": {},
   "source": [
    "###  6.1 `np.arange` (cont.)"
   ]
  },
  {
   "cell_type": "markdown",
   "metadata": {
    "deletable": false,
    "editable": false
   },
   "source": [
    "##### Temperature readings\n",
    "NOAA (the US National Oceanic and Atmospheric Administration) operates weather stations that measure surface temperatures at different sites around the United States.  The hourly readings are [publicly available](http://www.ncdc.noaa.gov/qclcd/QCLCD?prior=N).\n",
    "\n",
    "Suppose we download all the hourly data from the Oakland, California site for the month of December 2015.  To analyze the data, we want to know when each reading was taken, but we find that the data don't include the timestamps of the readings (the time at which each one was taken).\n",
    "\n",
    "However, we know the first reading was taken at the first instant of December 2015 (midnight on December 1st) and each subsequent reading was taken exactly 1 hour after the last.\n",
    "\n",
    "**Question 6.1.** Create an array of the *time, in seconds, since the start of the month* at which each hourly reading was taken.  Name it `collection_times`.\n",
    "\n",
    "*Hint 1:* There were 31 days in December, which is equivalent to ($31 \\times 24$) hours or ($31 \\times 24 \\times 60 \\times 60$) seconds.  So your array should have $31 \\times 24$ elements in it.\n",
    "\n",
    "*Hint 2:* The `len` function works on arrays, too!  If your `collection_times` isn't passing the tests, check its length and make sure it has $31 \\times 24$ elements.\n",
    "\n",
    "<!--\n",
    "BEGIN QUESTION\n",
    "name: q61\n",
    "-->"
   ]
  },
  {
   "cell_type": "code",
   "execution_count": 112,
   "metadata": {},
   "outputs": [],
   "source": [
    "collection_times = ...\n",
    "collection_times"
   ]
  },
  {
   "cell_type": "code",
   "execution_count": null,
   "id": "reflected-march",
   "metadata": {
    "deletable": false,
    "editable": false
   },
   "outputs": [],
   "source": [
    "ok.grade(\"q61\");"
   ]
  },
  {
   "cell_type": "markdown",
   "metadata": {},
   "source": [
    "### 6.2 Doing something to every element of an array (cont.)\n",
    "\n",
    "Calculate a tip on several restaurant bills at once (in this case just 3):"
   ]
  },
  {
   "cell_type": "code",
   "execution_count": null,
   "metadata": {},
   "outputs": [],
   "source": [
    "restaurant_bills = make_array(20.12, 39.90, 31.01)\n",
    "print(\"Restaurant bills:\\t\", restaurant_bills)\n",
    "\n",
    "# Array multiplication\n",
    "tips = .2 * restaurant_bills\n",
    "print(\"Tips:\\t\\t\\t\", tips)"
   ]
  },
  {
   "cell_type": "markdown",
   "metadata": {
    "deletable": false,
    "editable": false
   },
   "source": [
    "<img src=\"array_multiplication.jpg\">\n",
    "\n",
    "**Question 6.2.1** Suppose the total charge at a restaurant is the original bill plus the tip. If the tip is 20%, that means we can multiply the original bill by 1.2 to get the total charge.  Compute the total charge for each bill in `restaurant_bills`, and assign the resulting array to `total_charges`.\n",
    "\n",
    "<!--\n",
    "BEGIN QUESTION\n",
    "name: q621\n",
    "-->"
   ]
  },
  {
   "cell_type": "code",
   "execution_count": 109,
   "metadata": {},
   "outputs": [],
   "source": [
    "total_charges = ...\n",
    "total_charges"
   ]
  },
  {
   "cell_type": "code",
   "execution_count": null,
   "id": "included-desktop",
   "metadata": {
    "deletable": false,
    "editable": false
   },
   "outputs": [],
   "source": [
    "ok.grade(\"q621\");"
   ]
  },
  {
   "cell_type": "markdown",
   "metadata": {
    "deletable": false,
    "editable": false
   },
   "source": [
    "**Question 6.2.2.** The array `more_restaurant_bills` contains 100,000 bills!  Compute the total charge for each one.  How is your code different?\n",
    "\n",
    "<!--\n",
    "BEGIN QUESTION\n",
    "name: q622\n",
    "-->"
   ]
  },
  {
   "cell_type": "code",
   "execution_count": 106,
   "metadata": {},
   "outputs": [],
   "source": [
    "more_restaurant_bills = Table.read_table(\"more_restaurant_bills.csv\").column(\"Bill\")\n",
    "more_total_charges = ...\n",
    "more_total_charges"
   ]
  },
  {
   "cell_type": "code",
   "execution_count": null,
   "id": "forbidden-creature",
   "metadata": {
    "deletable": false,
    "editable": false
   },
   "outputs": [],
   "source": [
    "ok.grade(\"q622\");"
   ]
  },
  {
   "cell_type": "markdown",
   "metadata": {
    "deletable": false,
    "editable": false
   },
   "source": [
    "The function `sum` takes a single array of numbers as its argument.  It returns the sum of all the numbers in that array (so it returns a single number, not an array).\n",
    "\n",
    "**Question 6.2.3.** What was the sum of all the bills in `more_restaurant_bills`, *including tips*?\n",
    "\n",
    "<!--\n",
    "BEGIN QUESTION\n",
    "name: q623\n",
    "-->"
   ]
  },
  {
   "cell_type": "code",
   "execution_count": null,
   "metadata": {},
   "outputs": [],
   "source": [
    "sum_of_bills = ...\n",
    "sum_of_bills"
   ]
  },
  {
   "cell_type": "code",
   "execution_count": null,
   "id": "continued-ecology",
   "metadata": {
    "deletable": false,
    "editable": false
   },
   "outputs": [],
   "source": [
    "ok.grade(\"q623\");"
   ]
  },
  {
   "cell_type": "markdown",
   "metadata": {
    "deletable": false,
    "editable": false
   },
   "source": [
    "**Question 6.2.4.** The powers of 2 ($2^0 = 1$, $2^1 = 2$, $2^2 = 4$, etc) arise frequently in computer science.  (For example, you may have noticed that storage on smartphones or USBs come in powers of 2, like 16 GB, 32 GB, or 64 GB.)  Use `np.arange` and the exponentiation operator `**` to compute the first 30 powers of 2, starting from `2^0`.\n",
    "\n",
    "*Hint 1:* `np.arange(1, 2**30, 1)` creates an array with $2^{30}$ elements and **will crash your kernel**.\n",
    "\n",
    "*Hint 2:* Part of your solution will involve `np.arange`, but your array shouldn't have more than 30 elements.\n",
    "\n",
    "<!--\n",
    "BEGIN QUESTION\n",
    "name: q624\n",
    "-->"
   ]
  },
  {
   "cell_type": "code",
   "execution_count": 82,
   "metadata": {},
   "outputs": [],
   "source": [
    "powers_of_2 = ...\n",
    "powers_of_2"
   ]
  },
  {
   "cell_type": "code",
   "execution_count": null,
   "id": "governmental-madness",
   "metadata": {
    "deletable": false,
    "editable": false
   },
   "outputs": [],
   "source": [
    "ok.grade(\"q624\");"
   ]
  }
 ],
 "metadata": {
  "celltoolbar": "Edit Metadata",
  "history": [
   {
    "code": "# Just run this cell\nimport numpy as np\nimport math\nfrom datascience import *\n\nfrom client.api.notebook import *\ndef new_save_notebook(self):\n    \"\"\" Saves the current notebook by\n        injecting JavaScript to save to .ipynb file.\n    \"\"\"\n    try:\n        from IPython.display import display, Javascript\n    except ImportError:\n        log.warning(\"Could not import IPython Display Function\")\n        print(\"Make sure to save your notebook before sending it to OK!\")\n        return\n\n    if self.mode == \"jupyter\":\n        display(Javascript('IPython.notebook.save_checkpoint();'))\n        display(Javascript('IPython.notebook.save_notebook();'))\n    elif self.mode == \"jupyterlab\":\n        display(Javascript('document.querySelector(\\'[data-command=\"docmanager:save\"]\\').click();'))   \n\n    print('Saving notebook...', end=' ')\n\n    ipynbs = [path for path in self.assignment.src\n              if os.path.splitext(path)[1] == '.ipynb']\n    # Wait for first .ipynb to save\n    if ipynbs:\n        if wait_for_save(ipynbs[0]):\n            print(\"Saved '{}'.\".format(ipynbs[0]))\n        else:\n            log.warning(\"Timed out waiting for IPython save\")\n            print(\"Could not automatically save \\'{}\\'\".format(ipynbs[0]))\n            print(\"Make sure your notebook\"\n                  \" is correctly named and saved before submitting to OK!\".format(ipynbs[0]))\n            return False                \n    else:\n        print(\"No valid file sources found\")\n    return True\n\ndef wait_for_save(filename, timeout=600):\n    \"\"\"Waits for FILENAME to update, waiting up to TIMEOUT seconds.\n    Returns True if a save was detected, and False otherwise.\n    \"\"\"\n    modification_time = os.path.getmtime(filename)\n    start_time = time.time()\n    while time.time() < start_time + timeout:\n        if (os.path.getmtime(filename) > modification_time and\n            os.path.getsize(filename) > 0):\n            return True\n        time.sleep(0.2)\n    print(\"\\nERROR!\\n YOUR SUBMISSION DID NOT GO THROUGH. PLEASE TRY AGAIN. IF THIS PROBLEM PERSISTS POST ON PIAZZA RIGHT AWAY.\\n ERROR!\" + \"\\n\"*20)\n    return False\n\nNotebook.save_notebook = new_save_notebook\n\n# These lines load the tests and sign you into okpy\n# When you log-in please hit return (not shift + return) after typing in your email\nfrom client.api.notebook import Notebook\nok = Notebook('lab03.ok')\n_ = ok.submit()",
    "id": "40c663d7b3b741a08294fe8eba46029a",
    "idx": 3,
    "time": "2021-02-04T17:39:36.787Z",
    "type": "execution"
   },
   {
    "code": "print(\"I <3\", 'Data Science')",
    "id": "466475060c964f4494d4684bcc476764",
    "idx": 5,
    "time": "2021-02-04T17:40:01.456Z",
    "type": "execution"
   },
   {
    "id": "40c663d7b3b741a08294fe8eba46029a",
    "time": "2021-02-04T17:40:20.714Z",
    "type": "completion"
   },
   {
    "id": "466475060c964f4494d4684bcc476764",
    "time": "2021-02-04T17:40:20.761Z",
    "type": "completion"
   },
   {
    "code": "one = 'two'\nplus = '*'\nprint(one, plus, one)",
    "id": "6c0c57b6c236467aad52b67dff0597a7",
    "idx": 7,
    "time": "2021-02-04T17:40:25.396Z",
    "type": "execution"
   },
   {
    "id": "6c0c57b6c236467aad52b67dff0597a7",
    "time": "2021-02-04T17:40:25.491Z",
    "type": "completion"
   },
   {
    "code": "woman_asking = \"The woman asked:\"\nwoman_quote = '\"Can it be that you have come from outer space?\"'\ngagarin_reply = 'Gagarin replied:'\ngagarin_quote = \"\"\"As a matter of fact, I have !\"\"\"\n\nprint(woman_asking, woman_quote)\nprint(gagarin_reply, gagarin_quote)",
    "id": "b54f282a088b457daa580cf775ae4a13",
    "idx": 9,
    "time": "2021-02-04T17:40:55.807Z",
    "type": "execution"
   },
   {
    "id": "b54f282a088b457daa580cf775ae4a13",
    "time": "2021-02-04T17:40:55.974Z",
    "type": "completion"
   },
   {
    "code": "ok.grade(\"q11\");",
    "id": "a1310d9d1d9740d0953c0e547cbbca73",
    "idx": 10,
    "time": "2021-02-04T17:40:56.920Z",
    "type": "execution"
   },
   {
    "id": "a1310d9d1d9740d0953c0e547cbbca73",
    "time": "2021-02-04T17:40:57.070Z",
    "type": "completion"
   },
   {
    "code": "woman_asking = \"The woman asked:\"\nwoman_quote = '\"Can it be that you have come from outer space?\"'\ngagarin_reply = 'Gagarin replied:'\ngagarin_quote = \"\"\"As a matter of fact, I have!\"\"\"\n\nprint(woman_asking, woman_quote)\nprint(gagarin_reply, gagarin_quote)",
    "id": "b54f282a088b457daa580cf775ae4a13",
    "idx": 9,
    "time": "2021-02-04T17:41:02.713Z",
    "type": "execution"
   },
   {
    "id": "b54f282a088b457daa580cf775ae4a13",
    "time": "2021-02-04T17:41:02.843Z",
    "type": "completion"
   },
   {
    "code": "ok.grade(\"q11\");",
    "id": "a1310d9d1d9740d0953c0e547cbbca73",
    "idx": 10,
    "time": "2021-02-04T17:41:03.174Z",
    "type": "execution"
   },
   {
    "id": "a1310d9d1d9740d0953c0e547cbbca73",
    "time": "2021-02-04T17:41:03.322Z",
    "type": "completion"
   },
   {
    "code": "woman_asking = \"The woman asked:\"\nwoman_quote = '\"Can it be that you have come from outer space?\"'\ngagarin_reply = 'Gagarin replied:'\ngagarin_quote = ''\"As a matter of fact, I have!\"'\n\nprint(woman_asking, woman_quote)\nprint(gagarin_reply, gagarin_quote)",
    "id": "b54f282a088b457daa580cf775ae4a13",
    "idx": 9,
    "time": "2021-02-04T17:41:44.070Z",
    "type": "execution"
   },
   {
    "id": "b54f282a088b457daa580cf775ae4a13",
    "time": "2021-02-04T17:41:44.192Z",
    "type": "completion"
   },
   {
    "code": "ok.grade(\"q11\");",
    "id": "a1310d9d1d9740d0953c0e547cbbca73",
    "idx": 10,
    "time": "2021-02-04T17:41:44.598Z",
    "type": "execution"
   },
   {
    "id": "a1310d9d1d9740d0953c0e547cbbca73",
    "time": "2021-02-04T17:41:44.750Z",
    "type": "completion"
   },
   {
    "code": "woman_asking = \"The woman asked:\"\nwoman_quote = '\"Can it be that you have come from outer space?\"'\ngagarin_reply = 'Gagarin replied:'\ngagarin_quote = '\"As a matter of fact, I have!\"'\n\nprint(woman_asking, woman_quote)\nprint(gagarin_reply, gagarin_quote)",
    "id": "b54f282a088b457daa580cf775ae4a13",
    "idx": 9,
    "time": "2021-02-04T17:41:48.289Z",
    "type": "execution"
   },
   {
    "id": "b54f282a088b457daa580cf775ae4a13",
    "time": "2021-02-04T17:41:48.424Z",
    "type": "completion"
   },
   {
    "code": "ok.grade(\"q11\");",
    "id": "a1310d9d1d9740d0953c0e547cbbca73",
    "idx": 10,
    "time": "2021-02-04T17:41:50.639Z",
    "type": "execution"
   },
   {
    "id": "a1310d9d1d9740d0953c0e547cbbca73",
    "time": "2021-02-04T17:41:50.816Z",
    "type": "completion"
   },
   {
    "code": "# Replace one letter\nhello = 'Hello'\nprint(hello.replace('o', 'a'), hello)",
    "id": "cde1fbbc879e4880b36ecdafde7eb8f6",
    "idx": 13,
    "time": "2021-02-04T17:41:53.464Z",
    "type": "execution"
   },
   {
    "id": "cde1fbbc879e4880b36ecdafde7eb8f6",
    "time": "2021-02-04T17:41:53.568Z",
    "type": "completion"
   },
   {
    "code": "new_word = \"hichhiker\".replace(\"hich\",\"match\")\nnew_word",
    "id": "a5228079323b441e81f152bc1c48bc5b",
    "idx": 18,
    "time": "2021-02-04T17:42:26.934Z",
    "type": "execution"
   },
   {
    "id": "a5228079323b441e81f152bc1c48bc5b",
    "time": "2021-02-04T17:42:27.057Z",
    "type": "completion"
   },
   {
    "code": "new_word = \"hichhiker\".replace(\"hich\",\"match\").replace(\"hiker\",\"maker\")\nnew_word",
    "id": "a5228079323b441e81f152bc1c48bc5b",
    "idx": 18,
    "time": "2021-02-04T17:42:39.163Z",
    "type": "execution"
   },
   {
    "id": "a5228079323b441e81f152bc1c48bc5b",
    "time": "2021-02-04T17:42:39.259Z",
    "type": "completion"
   },
   {
    "code": "ok.grade(\"q111\");",
    "id": "d1fbb19a3b3e45908d268351268c3cd9",
    "idx": 19,
    "time": "2021-02-04T17:42:40.019Z",
    "type": "execution"
   },
   {
    "id": "d1fbb19a3b3e45908d268351268c3cd9",
    "time": "2021-02-04T17:42:40.179Z",
    "type": "completion"
   },
   {
    "code": "8 + \"8\"",
    "id": "19c70534dd434bd486572a893c778324",
    "idx": 23,
    "time": "2021-02-04T17:42:44.015Z",
    "type": "execution"
   },
   {
    "id": "19c70534dd434bd486572a893c778324",
    "time": "2021-02-04T17:42:44.221Z",
    "type": "completion"
   },
   {
    "code": "example = 8 + int(\"10\") + float(\"8\")\n\nprint(example)\nprint(\"This example returned a \" + str(type(example)) + \"!\")",
    "id": "af4f0b6199784cc69f5d80a115f9e2e1",
    "idx": 26,
    "time": "2021-02-04T17:42:48.861Z",
    "type": "execution"
   },
   {
    "id": "af4f0b6199784cc69f5d80a115f9e2e1",
    "time": "2021-02-04T17:42:48.987Z",
    "type": "completion"
   },
   {
    "code": "# Some text data:\none_year = \"1618\"\nanother_year = \"1648\"\n\n# Complete the next line.  Note that we can't just write:\n#   another_year - one_year\n# If you don't see why, try seeing what happens when you\n# write that here.\ndifference = one_year-another_year\ndifference",
    "id": "62386302fd6346319317d2d69aa56ccf",
    "idx": 28,
    "time": "2021-02-04T17:43:11.475Z",
    "type": "execution"
   },
   {
    "id": "62386302fd6346319317d2d69aa56ccf",
    "time": "2021-02-04T17:43:11.574Z",
    "type": "completion"
   },
   {
    "code": "# Some text data:\none_year = \"1618\"\nanother_year = \"1648\"\n\n# Complete the next line.  Note that we can't just write:\n#   another_year - one_year\n# If you don't see why, try seeing what happens when you\n# write that here.\ndifference = int(one_year)-int(another_year)\ndifference",
    "id": "62386302fd6346319317d2d69aa56ccf",
    "idx": 28,
    "time": "2021-02-04T17:43:52.010Z",
    "type": "execution"
   },
   {
    "id": "62386302fd6346319317d2d69aa56ccf",
    "time": "2021-02-04T17:43:52.133Z",
    "type": "completion"
   },
   {
    "code": "ok.grade(\"q121\");",
    "id": "2766b463449d4197abaf1be005b0d0ba",
    "idx": 29,
    "time": "2021-02-04T17:43:52.582Z",
    "type": "execution"
   },
   {
    "id": "2766b463449d4197abaf1be005b0d0ba",
    "time": "2021-02-04T17:43:52.742Z",
    "type": "completion"
   },
   {
    "code": "a_very_long_sentence = \"The representatives of the French people, organized as a National Assembly, believing that the ignorance, neglect, or contempt of the rights of man are the sole cause of public calamities and of the corruption of governments, have determined to set forth in a solemn declaration the natural, unalienable, and sacred rights of man, in order that this declaration, being constantly before all the members of the Social body, shall remind them continually of their rights and duties; in order that the acts of the legislative power, as well as those of the executive power, may be compared at any moment with the objects and purposes of all political institutions and may thus be more respected, and, lastly, in order that the grievances of the citizens, based hereafter upon simple and incontestable principles, shall tend to the maintenance of the constitution and redound to the happiness of all.\"\nsentence_length = len(a_very_long_sentence)\nsentence_length",
    "id": "1144e36e717b48dd81394e1bbadca701",
    "idx": 31,
    "time": "2021-02-04T17:44:18.471Z",
    "type": "execution"
   },
   {
    "id": "1144e36e717b48dd81394e1bbadca701",
    "time": "2021-02-04T17:44:18.585Z",
    "type": "completion"
   },
   {
    "code": "ok.grade(\"q131\");",
    "id": "41dc0198ae7c4110bc4caab4aeb9861f",
    "idx": 32,
    "time": "2021-02-04T17:44:19.100Z",
    "type": "execution"
   },
   {
    "id": "41dc0198ae7c4110bc4caab4aeb9861f",
    "time": "2021-02-04T17:44:19.255Z",
    "type": "completion"
   },
   {
    "code": "make_array(0.125, 4.75, -1.3)",
    "id": "0a67d80ea93246c88cb55c5169bcf392",
    "idx": 35,
    "time": "2021-02-04T17:44:22.835Z",
    "type": "execution"
   },
   {
    "id": "0a67d80ea93246c88cb55c5169bcf392",
    "time": "2021-02-04T17:44:22.913Z",
    "type": "completion"
   },
   {
    "code": "interesting_numbers = make_array(0,1,-1,math.pi,math.e)\ninteresting_numbers",
    "id": "11ef6d0d649746628f941bbd9c5a3962",
    "idx": 38,
    "time": "2021-02-04T17:45:01.628Z",
    "type": "execution"
   },
   {
    "id": "11ef6d0d649746628f941bbd9c5a3962",
    "time": "2021-02-04T17:45:01.740Z",
    "type": "completion"
   },
   {
    "code": "ok.grade(\"q211\");",
    "id": "e30c9fcbe5fc4de5ab68769d271e7192",
    "idx": 39,
    "time": "2021-02-04T17:45:02.639Z",
    "type": "execution"
   },
   {
    "id": "e30c9fcbe5fc4de5ab68769d271e7192",
    "time": "2021-02-04T17:45:02.809Z",
    "type": "completion"
   },
   {
    "code": "hello_world_components = make_array(\"Hello\",\",\",\" \",\"world\",\"!\")\nhello_world_components",
    "id": "b2bfabfb043f429e923d58f493627ea3",
    "idx": 41,
    "time": "2021-02-04T17:45:50.499Z",
    "type": "execution"
   },
   {
    "id": "b2bfabfb043f429e923d58f493627ea3",
    "time": "2021-02-04T17:45:50.584Z",
    "type": "completion"
   },
   {
    "code": "ok.grade(\"q212\");",
    "id": "1853995938b04f6b84cbb8f78f33de9c",
    "idx": 42,
    "time": "2021-02-04T17:45:51.387Z",
    "type": "execution"
   },
   {
    "id": "1853995938b04f6b84cbb8f78f33de9c",
    "time": "2021-02-04T17:45:51.551Z",
    "type": "completion"
   },
   {
    "code": "# This array starts at 1 and counts up by 2\n# and then stops before 6\nnp.arange(1, 6, 2)",
    "id": "c29bf27b59624e758893f61630d95f84",
    "idx": 44,
    "time": "2021-02-04T17:45:54.672Z",
    "type": "execution"
   },
   {
    "id": "c29bf27b59624e758893f61630d95f84",
    "time": "2021-02-04T17:45:54.759Z",
    "type": "completion"
   },
   {
    "code": "# This array doesn't contain 9\n# because np.arange stops *before* the stop value is reached\nnp.arange(4, 9, 1)",
    "id": "070cba905c8f49e0970ff240e4f87f55",
    "idx": 45,
    "time": "2021-02-04T17:45:56.012Z",
    "type": "execution"
   },
   {
    "id": "070cba905c8f49e0970ff240e4f87f55",
    "time": "2021-02-04T17:45:56.091Z",
    "type": "completion"
   },
   {
    "code": "import numpy as np\nmultiples_of_99 = np.arange(0,9999+99)\nmultiples_of_99",
    "id": "633f7e3574cf43b38a0a00e12701e42e",
    "idx": 47,
    "time": "2021-02-04T17:46:32.642Z",
    "type": "execution"
   },
   {
    "id": "633f7e3574cf43b38a0a00e12701e42e",
    "time": "2021-02-04T17:46:32.757Z",
    "type": "completion"
   },
   {
    "code": "ok.grade(\"q213\");",
    "id": "c0763ed2fd6f419c8e0f60af05963fbe",
    "idx": 48,
    "time": "2021-02-04T17:46:34.701Z",
    "type": "execution"
   },
   {
    "id": "c0763ed2fd6f419c8e0f60af05963fbe",
    "time": "2021-02-04T17:46:35.242Z",
    "type": "completion"
   },
   {
    "code": "import numpy as np\nmultiples_of_99 = np.arange(0,9999+99,99)\nmultiples_of_99",
    "id": "633f7e3574cf43b38a0a00e12701e42e",
    "idx": 47,
    "time": "2021-02-04T17:46:44.140Z",
    "type": "execution"
   },
   {
    "id": "633f7e3574cf43b38a0a00e12701e42e",
    "time": "2021-02-04T17:46:44.267Z",
    "type": "completion"
   },
   {
    "code": "ok.grade(\"q213\");",
    "id": "c0763ed2fd6f419c8e0f60af05963fbe",
    "idx": 48,
    "time": "2021-02-04T17:46:45.370Z",
    "type": "execution"
   },
   {
    "id": "c0763ed2fd6f419c8e0f60af05963fbe",
    "time": "2021-02-04T17:46:45.532Z",
    "type": "completion"
   },
   {
    "code": "population_amounts = Table.read_table(\"world_population.csv\").column(\"Population\")\npopulation_amounts",
    "id": "197f9a51cd1a45398b004e7c4a73c81f",
    "idx": 50,
    "time": "2021-02-04T17:46:50.148Z",
    "type": "execution"
   },
   {
    "id": "197f9a51cd1a45398b004e7c4a73c81f",
    "time": "2021-02-04T17:46:50.229Z",
    "type": "completion"
   },
   {
    "code": "population_amounts.item(0)",
    "id": "8730fc2849c347058f22b549116c0a2f",
    "idx": 52,
    "time": "2021-02-04T17:46:52.623Z",
    "type": "execution"
   },
   {
    "id": "8730fc2849c347058f22b549116c0a2f",
    "time": "2021-02-04T17:46:52.952Z",
    "type": "completion"
   },
   {
    "code": "# The 13th element in the array is the population\n# in 1962 (which is 1950 + 12).\npopulation_1962 = population_amounts.item(12)\npopulation_1962",
    "id": "9375f648ab7c47919f94c40874e2c7e1",
    "idx": 54,
    "time": "2021-02-04T17:46:56.889Z",
    "type": "execution"
   },
   {
    "id": "9375f648ab7c47919f94c40874e2c7e1",
    "time": "2021-02-04T17:46:56.977Z",
    "type": "completion"
   },
   {
    "code": "# The 66th element is the population in 2015.\npopulation_2015 = population_amounts.item(65)\npopulation_2015",
    "id": "8821be5e3bb949baab1c04cde048a5c7",
    "idx": 55,
    "time": "2021-02-04T17:46:57.607Z",
    "type": "execution"
   },
   {
    "id": "8821be5e3bb949baab1c04cde048a5c7",
    "time": "2021-02-04T17:46:57.687Z",
    "type": "completion"
   },
   {
    "code": "# The array has only 66 elements, so this doesn't work.\n# (There's no element with 66 other elements before it.)\npopulation_2016 = population_amounts.item(66)\npopulation_2016",
    "id": "35c301ff50f245a68b3feb3575e3c5d9",
    "idx": 56,
    "time": "2021-02-04T17:46:58.799Z",
    "type": "execution"
   },
   {
    "id": "35c301ff50f245a68b3feb3575e3c5d9",
    "time": "2021-02-04T17:46:58.906Z",
    "type": "completion"
   },
   {
    "code": "# The array has only 66 elements, so this doesn't work.\n# (There's no element with 66 other elements before it.)\npopulation_2016 = population_amounts.item(65)\npopulation_2016",
    "id": "35c301ff50f245a68b3feb3575e3c5d9",
    "idx": 56,
    "time": "2021-02-04T17:47:08.317Z",
    "type": "execution"
   },
   {
    "id": "35c301ff50f245a68b3feb3575e3c5d9",
    "time": "2021-02-04T17:47:08.449Z",
    "type": "completion"
   },
   {
    "code": "make_array(-1, -3, 4, -2).item(3)",
    "id": "37ac8b852dcb4f3da68e491fefc2d8a2",
    "idx": 58,
    "time": "2021-02-04T17:47:10.140Z",
    "type": "execution"
   },
   {
    "id": "37ac8b852dcb4f3da68e491fefc2d8a2",
    "time": "2021-02-04T17:47:10.211Z",
    "type": "completion"
   },
   {
    "code": "population_1973 = population_amounts.item(23)\npopulation_1973",
    "id": "76ce3f77f1ff4c2c8ef91af8685aef93",
    "idx": 60,
    "time": "2021-02-04T17:47:46.085Z",
    "type": "execution"
   },
   {
    "id": "76ce3f77f1ff4c2c8ef91af8685aef93",
    "time": "2021-02-04T17:47:46.196Z",
    "type": "completion"
   },
   {
    "code": "ok.grade(\"q221\");",
    "id": "06ae4fb70785403283eb0fb8accd9bbd",
    "idx": 61,
    "time": "2021-02-04T17:47:46.624Z",
    "type": "execution"
   },
   {
    "id": "06ae4fb70785403283eb0fb8accd9bbd",
    "time": "2021-02-04T17:47:46.784Z",
    "type": "completion"
   },
   {
    "code": "population_1950_magnitude = math.log10(population_amounts.item(0))\npopulation_1951_magnitude = math.log10(population_amounts.item(1))\npopulation_1952_magnitude = math.log10(population_amounts.item(2))\npopulation_1953_magnitude = math.log10(population_amounts.item(3))",
    "id": "fa9a2e8569ea4d1594214bbaa5eb45ef",
    "idx": 63,
    "time": "2021-02-04T17:47:48.897Z",
    "type": "execution"
   },
   {
    "id": "fa9a2e8569ea4d1594214bbaa5eb45ef",
    "time": "2021-02-04T17:47:48.975Z",
    "type": "completion"
   },
   {
    "code": "population_magnitudes = np.log(population.amounts)\npopulation_magnitudes",
    "id": "9ed158c363bf45838284306e3ede4e4f",
    "idx": 65,
    "time": "2021-02-04T17:48:07.495Z",
    "type": "execution"
   },
   {
    "id": "9ed158c363bf45838284306e3ede4e4f",
    "time": "2021-02-04T17:48:07.672Z",
    "type": "completion"
   },
   {
    "code": "population_magnitudes = np.log(population_amounts)\npopulation_magnitudes",
    "id": "9ed158c363bf45838284306e3ede4e4f",
    "idx": 65,
    "time": "2021-02-04T17:48:15.573Z",
    "type": "execution"
   },
   {
    "id": "9ed158c363bf45838284306e3ede4e4f",
    "time": "2021-02-04T17:48:15.668Z",
    "type": "completion"
   },
   {
    "code": "ok.grade(\"q231\");",
    "id": "249d3992d78545c4adb689cc73c21086",
    "idx": 66,
    "time": "2021-02-04T17:48:17.372Z",
    "type": "execution"
   },
   {
    "id": "249d3992d78545c4adb689cc73c21086",
    "time": "2021-02-04T17:48:17.529Z",
    "type": "completion"
   },
   {
    "code": "population_magnitudes = np.log10(population_amounts)\npopulation_magnitudes",
    "id": "9ed158c363bf45838284306e3ede4e4f",
    "idx": 65,
    "time": "2021-02-04T17:49:08.438Z",
    "type": "execution"
   },
   {
    "id": "9ed158c363bf45838284306e3ede4e4f",
    "time": "2021-02-04T17:49:08.574Z",
    "type": "completion"
   },
   {
    "code": "ok.grade(\"q231\");",
    "id": "249d3992d78545c4adb689cc73c21086",
    "idx": 66,
    "time": "2021-02-04T17:49:09.168Z",
    "type": "execution"
   },
   {
    "id": "249d3992d78545c4adb689cc73c21086",
    "time": "2021-02-04T17:49:09.331Z",
    "type": "completion"
   },
   {
    "code": "population_in_billions = population_amounts / 1000000000\npopulation_in_billions",
    "id": "bf47f634c4aa4b4bad09dcd67524cc9a",
    "idx": 70,
    "time": "2021-02-04T17:49:12.634Z",
    "type": "execution"
   },
   {
    "id": "bf47f634c4aa4b4bad09dcd67524cc9a",
    "time": "2021-02-04T17:49:12.706Z",
    "type": "completion"
   },
   {
    "code": "# Just run this cell\n\nyears = np.arange(1950, 2015+1)\nprint(\"Population column:\", population_amounts)\nprint(\"Years column:\", years)",
    "id": "a2576142011f4ae8940d4254a504a65f",
    "idx": 73,
    "time": "2021-02-04T17:49:14.647Z",
    "type": "execution"
   },
   {
    "id": "a2576142011f4ae8940d4254a504a65f",
    "time": "2021-02-04T17:49:14.773Z",
    "type": "completion"
   },
   {
    "code": "population = Table().with_columns(\n    \"Population\", population_amounts,\n    \"Year\", years\n)\npopulation",
    "id": "ee912cae479a407db34dbefe0bceeca9",
    "idx": 75,
    "time": "2021-02-04T17:49:15.844Z",
    "type": "execution"
   },
   {
    "id": "ee912cae479a407db34dbefe0bceeca9",
    "time": "2021-02-04T17:49:15.923Z",
    "type": "completion"
   },
   {
    "code": "top_10_movie_ratings = make_array(9.2, 9.2, 9., 8.9, 8.9, 8.9, 8.9, 8.9, 8.9, 8.8)\ntop_10_movie_names = make_array(\n        'The Shawshank Redemption (1994)',\n        'The Godfather (1972)',\n        'The Godfather: Part II (1974)',\n        'Pulp Fiction (1994)',\n        \"Schindler's List (1993)\",\n        'The Lord of the Rings: The Return of the King (2003)',\n        '12 Angry Men (1957)',\n        'The Dark Knight (2008)',\n        'Il buono, il brutto, il cattivo (1966)',\n        'The Lord of the Rings: The Fellowship of the Ring (2001)')\n\ntop_10_movies = Table.with_columns(\n\"Rating\", top_10_movies_ratings),\n\"Name\",top_10_movies\n\n# We've put this next line here \n# so your table will get printed out \n# when you run this cell.\ntop_10_movies",
    "id": "263c23f563194b1abc9b3df01308a364",
    "idx": 78,
    "time": "2021-02-04T17:50:34.740Z",
    "type": "execution"
   },
   {
    "id": "263c23f563194b1abc9b3df01308a364",
    "time": "2021-02-04T17:50:34.836Z",
    "type": "completion"
   },
   {
    "code": "top_10_movie_ratings = make_array(9.2, 9.2, 9., 8.9, 8.9, 8.9, 8.9, 8.9, 8.9, 8.8)\ntop_10_movie_names = make_array(\n        'The Shawshank Redemption (1994)',\n        'The Godfather (1972)',\n        'The Godfather: Part II (1974)',\n        'Pulp Fiction (1994)',\n        \"Schindler's List (1993)\",\n        'The Lord of the Rings: The Return of the King (2003)',\n        '12 Angry Men (1957)',\n        'The Dark Knight (2008)',\n        'Il buono, il brutto, il cattivo (1966)',\n        'The Lord of the Rings: The Fellowship of the Ring (2001)')\n\ntop_10_movies = Table.with_columns(\n\"Rating\",top_10_movie_ratings,\n\"Name\",top_10_movies_names)\n\n# We've put this next line here \n# so your table will get printed out \n# when you run this cell.\ntop_10_movies",
    "id": "263c23f563194b1abc9b3df01308a364",
    "idx": 78,
    "time": "2021-02-04T17:51:22.049Z",
    "type": "execution"
   },
   {
    "id": "263c23f563194b1abc9b3df01308a364",
    "time": "2021-02-04T17:51:22.162Z",
    "type": "completion"
   },
   {
    "code": "top_10_movie_ratings = make_array(9.2, 9.2, 9., 8.9, 8.9, 8.9, 8.9, 8.9, 8.9, 8.8)\ntop_10_movie_names = make_array(\n        'The Shawshank Redemption (1994)',\n        'The Godfather (1972)',\n        'The Godfather: Part II (1974)',\n        'Pulp Fiction (1994)',\n        \"Schindler's List (1993)\",\n        'The Lord of the Rings: The Return of the King (2003)',\n        '12 Angry Men (1957)',\n        'The Dark Knight (2008)',\n        'Il buono, il brutto, il cattivo (1966)',\n        'The Lord of the Rings: The Fellowship of the Ring (2001)')\n\ntop_10_movies = Table.with_columns(\n\"Rating\",top_10_movie_ratings,\n\"Name\",top_10_movie_names)\n\n# We've put this next line here \n# so your table will get printed out \n# when you run this cell.\ntop_10_movies",
    "id": "263c23f563194b1abc9b3df01308a364",
    "idx": 78,
    "time": "2021-02-04T17:51:31.622Z",
    "type": "execution"
   },
   {
    "id": "263c23f563194b1abc9b3df01308a364",
    "time": "2021-02-04T17:51:31.724Z",
    "type": "completion"
   },
   {
    "code": "top_10_movie_ratings = make_array(9.2, 9.2, 9., 8.9, 8.9, 8.9, 8.9, 8.9, 8.9, 8.8)\ntop_10_movie_names = make_array(\n        'The Shawshank Redemption (1994)',\n        'The Godfather (1972)',\n        'The Godfather: Part II (1974)',\n        'Pulp Fiction (1994)',\n        \"Schindler's List (1993)\",\n        'The Lord of the Rings: The Return of the King (2003)',\n        '12 Angry Men (1957)',\n        'The Dark Knight (2008)',\n        'Il buono, il brutto, il cattivo (1966)',\n        'The Lord of the Rings: The Fellowship of the Ring (2001)')\n\ntop_10_movies = Table.with_column(\n\"Rating\",top_10_movie_ratings,\n\"Name\",top_10_movie_names)\n\n# We've put this next line here \n# so your table will get printed out \n# when you run this cell.\ntop_10_movies",
    "id": "263c23f563194b1abc9b3df01308a364",
    "idx": 78,
    "time": "2021-02-04T17:51:38.440Z",
    "type": "execution"
   },
   {
    "id": "263c23f563194b1abc9b3df01308a364",
    "time": "2021-02-04T17:51:38.562Z",
    "type": "completion"
   },
   {
    "code": "top_10_movie_ratings",
    "id": "54373c84b3124ccfb56d0bcad0c5ab31",
    "idx": 80,
    "time": "2021-02-04T17:52:37.122Z",
    "type": "execution"
   },
   {
    "id": "54373c84b3124ccfb56d0bcad0c5ab31",
    "time": "2021-02-04T17:52:37.208Z",
    "type": "completion"
   },
   {
    "code": "top_10_movie_names",
    "id": "9a22da00ee4b4065865cc5b96250a930",
    "idx": 81,
    "time": "2021-02-04T17:52:49.171Z",
    "type": "execution"
   },
   {
    "id": "9a22da00ee4b4065865cc5b96250a930",
    "time": "2021-02-04T17:52:49.258Z",
    "type": "completion"
   },
   {
    "code": "top_10_movie_ratings = make_array(9.2, 9.2, 9., 8.9, 8.9, 8.9, 8.9, 8.9, 8.9, 8.8)\ntop_10_movie_names = make_array(\n        'The Shawshank Redemption (1994)',\n        'The Godfather (1972)',\n        'The Godfather: Part II (1974)',\n        'Pulp Fiction (1994)',\n        \"Schindler's List (1993)\",\n        'The Lord of the Rings: The Return of the King (2003)',\n        '12 Angry Men (1957)',\n        'The Dark Knight (2008)',\n        'Il buono, il brutto, il cattivo (1966)',\n        'The Lord of the Rings: The Fellowship of the Ring (2001)')\n\ntop_10_movies = Table().with_column(\n    \"Rating\",top_10_movie_ratings,\n    \"Name\",top_10_movie_names)\n\n# We've put this next line here \n# so your table will get printed out \n# when you run this cell.\ntop_10_movies",
    "id": "263c23f563194b1abc9b3df01308a364",
    "idx": 78,
    "time": "2021-02-04T17:53:06.025Z",
    "type": "execution"
   },
   {
    "id": "263c23f563194b1abc9b3df01308a364",
    "time": "2021-02-04T17:53:06.378Z",
    "type": "completion"
   },
   {
    "code": "top_10_movie_ratings = make_array(9.2, 9.2, 9., 8.9, 8.9, 8.9, 8.9, 8.9, 8.9, 8.8)\ntop_10_movie_names = make_array(\n        'The Shawshank Redemption (1994)',\n        'The Godfather (1972)',\n        'The Godfather: Part II (1974)',\n        'Pulp Fiction (1994)',\n        \"Schindler's List (1993)\",\n        'The Lord of the Rings: The Return of the King (2003)',\n        '12 Angry Men (1957)',\n        'The Dark Knight (2008)',\n        'Il buono, il brutto, il cattivo (1966)',\n        'The Lord of the Rings: The Fellowship of the Ring (2001)')\n\ntop_10_movies = Table().with_columns(\n    \"Rating\",top_10_movie_ratings,\n    \"Name\",top_10_movie_names)\n\n# We've put this next line here \n# so your table will get printed out \n# when you run this cell.\ntop_10_movies",
    "id": "263c23f563194b1abc9b3df01308a364",
    "idx": 78,
    "time": "2021-02-04T17:53:18.231Z",
    "type": "execution"
   },
   {
    "id": "263c23f563194b1abc9b3df01308a364",
    "time": "2021-02-04T17:53:18.346Z",
    "type": "completion"
   },
   {
    "code": "ok.grade(\"q31\");",
    "id": "0f806864e8b64cd8818a92f54268d92e",
    "idx": 79,
    "time": "2021-02-04T17:53:20.930Z",
    "type": "execution"
   },
   {
    "id": "0f806864e8b64cd8818a92f54268d92e",
    "time": "2021-02-04T17:53:21.096Z",
    "type": "completion"
   },
   {
    "code": "imdb = Table.read_table(\"imdb.csv\")\nimdb",
    "id": "5d6ec9fa22c9430194224b9a3a8cfc3d",
    "idx": 83,
    "time": "2021-02-04T17:53:42.779Z",
    "type": "execution"
   },
   {
    "id": "5d6ec9fa22c9430194224b9a3a8cfc3d",
    "time": "2021-02-04T17:53:42.867Z",
    "type": "completion"
   },
   {
    "code": "ok.grade(\"q32\");",
    "id": "13f988333a2248e8aaba9c6f59c35936",
    "idx": 84,
    "time": "2021-02-04T17:53:44.692Z",
    "type": "execution"
   },
   {
    "id": "13f988333a2248e8aaba9c6f59c35936",
    "time": "2021-02-04T17:53:44.899Z",
    "type": "completion"
   },
   {
    "code": "# Returns an array of movie names\ntop_10_movies.column('Name')",
    "id": "864b088a90384be9a624c289a73828b7",
    "idx": 87,
    "time": "2021-02-04T17:53:47.290Z",
    "type": "execution"
   },
   {
    "id": "864b088a90384be9a624c289a73828b7",
    "time": "2021-02-04T17:53:47.361Z",
    "type": "completion"
   },
   {
    "code": "# Take first 5 movies of top_10_movies\ntop_10_movies.take(np.arange(0, 5, 1))",
    "id": "4a6f1d3b4e734cb694725786a76446fc",
    "idx": 89,
    "time": "2021-02-04T17:53:49.045Z",
    "type": "execution"
   },
   {
    "id": "4a6f1d3b4e734cb694725786a76446fc",
    "time": "2021-02-04T17:53:49.120Z",
    "type": "completion"
   },
   {
    "code": "# Run this cell to display the population table.\npopulation",
    "id": "4603180000574cd9bdbe80ef76d51735",
    "idx": 91,
    "time": "2021-02-04T17:53:51.160Z",
    "type": "execution"
   },
   {
    "id": "4603180000574cd9bdbe80ef76d51735",
    "time": "2021-02-04T17:53:51.230Z",
    "type": "completion"
   },
   {
    "code": "year_population_crossed_6_billion = population.where(\"Population\",are.above_or_equal_to(60000000000))\nyear_population_crossed_6_billion",
    "id": "36586e09a5d64905808e4e7112f8807a",
    "idx": 93,
    "time": "2021-02-04T17:54:35.959Z",
    "type": "execution"
   },
   {
    "id": "36586e09a5d64905808e4e7112f8807a",
    "time": "2021-02-04T17:54:36.071Z",
    "type": "completion"
   },
   {
    "code": "year_population_crossed_6_billion = population.where(\"Population\",are.above_or_equal_to(6000000000))\nyear_population_crossed_6_billion",
    "id": "36586e09a5d64905808e4e7112f8807a",
    "idx": 93,
    "time": "2021-02-04T17:54:40.100Z",
    "type": "execution"
   },
   {
    "id": "36586e09a5d64905808e4e7112f8807a",
    "time": "2021-02-04T17:54:40.214Z",
    "type": "completion"
   },
   {
    "code": "ok.grade(\"q41\");",
    "id": "dfa640fc544e4f5286a34706bddb3d2c",
    "idx": 94,
    "time": "2021-02-04T17:54:42.991Z",
    "type": "execution"
   },
   {
    "id": "dfa640fc544e4f5286a34706bddb3d2c",
    "time": "2021-02-04T17:54:43.177Z",
    "type": "completion"
   },
   {
    "code": "year_population_crossed_6_billion = population.where(\"Population\",are.above_or_equal_to(6000000000)).item(0)\nyear_population_crossed_6_billion",
    "id": "36586e09a5d64905808e4e7112f8807a",
    "idx": 93,
    "time": "2021-02-04T17:55:17.958Z",
    "type": "execution"
   },
   {
    "id": "36586e09a5d64905808e4e7112f8807a",
    "time": "2021-02-04T17:55:18.090Z",
    "type": "completion"
   },
   {
    "code": "ok.grade(\"q41\");",
    "id": "dfa640fc544e4f5286a34706bddb3d2c",
    "idx": 94,
    "time": "2021-02-04T17:55:19.993Z",
    "type": "execution"
   },
   {
    "id": "dfa640fc544e4f5286a34706bddb3d2c",
    "time": "2021-02-04T17:55:20.150Z",
    "type": "completion"
   },
   {
    "code": "year_population_crossed_6_billion = population.where(\"Population\",are.above_or_equal_to(6000000000)).column(1).item(0)\nyear_population_crossed_6_billion",
    "id": "36586e09a5d64905808e4e7112f8807a",
    "idx": 93,
    "time": "2021-02-04T17:56:49.457Z",
    "type": "execution"
   },
   {
    "id": "36586e09a5d64905808e4e7112f8807a",
    "time": "2021-02-04T17:56:49.579Z",
    "type": "completion"
   },
   {
    "code": "ok.grade(\"q41\");",
    "id": "dfa640fc544e4f5286a34706bddb3d2c",
    "idx": 94,
    "time": "2021-02-04T17:56:50.806Z",
    "type": "execution"
   },
   {
    "id": "dfa640fc544e4f5286a34706bddb3d2c",
    "time": "2021-02-04T17:56:50.992Z",
    "type": "completion"
   },
   {
    "code": "before_2000 = np.mean(imdb.where(\"year\",are.below(2000)).column(\"Rating\"))\nafter_or_in_2000 = np.mean(imdb.where(\"year\",are.above_or_equal_to(2000)).column(\"Rating\"))\nprint(\"Average before 2000 rating:\", before_2000)\nprint(\"Average after or in 2000 rating:\", after_or_in_2000)",
    "id": "2acf7d8f33b04ba680ff58b7e1c0790b",
    "idx": 96,
    "time": "2021-02-04T17:58:05.184Z",
    "type": "execution"
   },
   {
    "id": "2acf7d8f33b04ba680ff58b7e1c0790b",
    "time": "2021-02-04T17:58:05.321Z",
    "type": "completion"
   },
   {
    "code": "before_2000 = np.mean(imdb.where(\"Year\",are.below(2000)).column(\"Rating\"))\nafter_or_in_2000 = np.mean(imdb.where(\"Year\",are.above_or_equal_to(2000)).column(\"Rating\"))\nprint(\"Average before 2000 rating:\", before_2000)\nprint(\"Average after or in 2000 rating:\", after_or_in_2000)",
    "id": "2acf7d8f33b04ba680ff58b7e1c0790b",
    "idx": 96,
    "time": "2021-02-04T17:58:20.360Z",
    "type": "execution"
   },
   {
    "id": "2acf7d8f33b04ba680ff58b7e1c0790b",
    "time": "2021-02-04T17:58:20.482Z",
    "type": "completion"
   },
   {
    "code": "ok.grade(\"q42\");",
    "id": "2860f2b0e8a241209088e046baa12e78",
    "idx": 97,
    "time": "2021-02-04T17:58:21.260Z",
    "type": "execution"
   },
   {
    "id": "2860f2b0e8a241209088e046baa12e78",
    "time": "2021-02-04T17:58:21.392Z",
    "type": "completion"
   },
   {
    "code": "num_even_year_movies = imdb.with_column(\"Year Remainder\",imdb.column(\"Year\")%2)\nnum_even_year_movies",
    "id": "521093ce6af74c748e34bade6c6aecd7",
    "idx": 99,
    "time": "2021-02-04T17:58:58.454Z",
    "type": "execution"
   },
   {
    "id": "521093ce6af74c748e34bade6c6aecd7",
    "time": "2021-02-04T17:58:58.598Z",
    "type": "completion"
   },
   {
    "code": "ok.grade(\"q43\");",
    "id": "29eb363915fa4b9a9c22a3591f5db5e8",
    "idx": 100,
    "time": "2021-02-04T17:59:02.481Z",
    "type": "execution"
   },
   {
    "id": "29eb363915fa4b9a9c22a3591f5db5e8",
    "time": "2021-02-04T17:59:02.619Z",
    "type": "completion"
   },
   {
    "code": "num_even_year_movies =  imdb.with_column(\"Year Remainder\", imdb.column('Year')%2).where(\"Year Remainder\", \n                                                                        are.equal_to(0)).num_rows\nnum_even_year_movies",
    "id": "521093ce6af74c748e34bade6c6aecd7",
    "idx": 99,
    "time": "2021-02-04T17:59:39.552Z",
    "type": "execution"
   },
   {
    "id": "521093ce6af74c748e34bade6c6aecd7",
    "time": "2021-02-04T17:59:39.662Z",
    "type": "completion"
   },
   {
    "code": "ok.grade(\"q43\");",
    "id": "29eb363915fa4b9a9c22a3591f5db5e8",
    "idx": 100,
    "time": "2021-02-04T17:59:40.631Z",
    "type": "execution"
   },
   {
    "id": "29eb363915fa4b9a9c22a3591f5db5e8",
    "time": "2021-02-04T17:59:40.760Z",
    "type": "completion"
   }
  ],
  "kernelspec": {
   "display_name": "Python 3",
   "language": "python",
   "name": "python3"
  },
  "language_info": {
   "codemirror_mode": {
    "name": "ipython",
    "version": 3
   },
   "file_extension": ".py",
   "mimetype": "text/x-python",
   "name": "python",
   "nbconvert_exporter": "python",
   "pygments_lexer": "ipython3",
   "version": "3.8.6"
  }
 },
 "nbformat": 4,
 "nbformat_minor": 2
}

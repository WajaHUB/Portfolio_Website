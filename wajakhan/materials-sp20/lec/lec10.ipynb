{
 "cells": [
  {
   "cell_type": "code",
   "execution_count": 2,
   "metadata": {},
   "outputs": [],
   "source": [
    "from datascience import *\n",
    "import numpy as np\n",
    "\n",
    "%matplotlib inline\n",
    "import matplotlib.pyplot as plots\n",
    "plots.style.use('fivethirtyeight')"
   ]
  },
  {
   "cell_type": "markdown",
   "metadata": {},
   "source": [
    "## Lecture 10 ##"
   ]
  },
  {
   "cell_type": "markdown",
   "metadata": {},
   "source": [
    "## Apply"
   ]
  },
  {
   "cell_type": "code",
   "execution_count": 11,
   "metadata": {},
   "outputs": [
    {
     "data": {
      "text/html": [
       "<table border=\"1\" class=\"dataframe\">\n",
       "    <thead>\n",
       "        <tr>\n",
       "            <th>Employee</th> <th>Birth Year</th>\n",
       "        </tr>\n",
       "    </thead>\n",
       "    <tbody>\n",
       "        <tr>\n",
       "            <td>Jim     </td> <td>1985      </td>\n",
       "        </tr>\n",
       "        <tr>\n",
       "            <td>Dwight  </td> <td>1988      </td>\n",
       "        </tr>\n",
       "        <tr>\n",
       "            <td>Michael </td> <td>1967      </td>\n",
       "        </tr>\n",
       "        <tr>\n",
       "            <td>Creed   </td> <td>1904      </td>\n",
       "        </tr>\n",
       "    </tbody>\n",
       "</table>"
      ],
      "text/plain": [
       "Employee | Birth Year\n",
       "Jim      | 1985\n",
       "Dwight   | 1988\n",
       "Michael  | 1967\n",
       "Creed    | 1904"
      ]
     },
     "execution_count": 11,
     "metadata": {},
     "output_type": "execute_result"
    }
   ],
   "source": [
    "staff = Table().with_columns(\n",
    "    'Employee', make_array('Jim', 'Dwight', 'Michael', 'Creed'),\n",
    "    'Birth Year', make_array(1985, 1988, 1967, 1904)\n",
    ")\n",
    "staff"
   ]
  },
  {
   "cell_type": "code",
   "execution_count": 12,
   "metadata": {},
   "outputs": [],
   "source": [
    "def greeting(person):\n",
    "    return 'Dunder Mifflin, this is ' + person"
   ]
  },
  {
   "cell_type": "code",
   "execution_count": 13,
   "metadata": {},
   "outputs": [
    {
     "data": {
      "text/plain": [
       "'Dunder Mifflin, this is Pam'"
      ]
     },
     "execution_count": 13,
     "metadata": {},
     "output_type": "execute_result"
    }
   ],
   "source": [
    "greeting('Pam')"
   ]
  },
  {
   "cell_type": "code",
   "execution_count": 14,
   "metadata": {},
   "outputs": [
    {
     "data": {
      "text/plain": [
       "'Dunder Mifflin, this is Erin'"
      ]
     },
     "execution_count": 14,
     "metadata": {},
     "output_type": "execute_result"
    }
   ],
   "source": [
    "greeting('Erin')"
   ]
  },
  {
   "cell_type": "code",
   "execution_count": 15,
   "metadata": {},
   "outputs": [
    {
     "data": {
      "text/plain": [
       "array(['Dunder Mifflin, this is Jim', 'Dunder Mifflin, this is Dwight',\n",
       "       'Dunder Mifflin, this is Michael', 'Dunder Mifflin, this is Creed'],\n",
       "      dtype='<U31')"
      ]
     },
     "execution_count": 15,
     "metadata": {},
     "output_type": "execute_result"
    }
   ],
   "source": [
    "staff.apply(greeting, 'Employee')"
   ]
  },
  {
   "cell_type": "code",
   "execution_count": 30,
   "metadata": {},
   "outputs": [],
   "source": [
    "def name_and_age(name, year):\n",
    "    age = 2020 - year\n",
    "    return name + ' is ' + str(age)"
   ]
  },
  {
   "cell_type": "code",
   "execution_count": 31,
   "metadata": {},
   "outputs": [
    {
     "data": {
      "text/plain": [
       "array(['Jim is 35', 'Dwight is 32', 'Michael is 53', 'Creed is 116'],\n",
       "      dtype='<U13')"
      ]
     },
     "execution_count": 31,
     "metadata": {},
     "output_type": "execute_result"
    }
   ],
   "source": [
    "staff.apply(name_and_age, 'Employee', 'Birth Year')"
   ]
  },
  {
   "cell_type": "markdown",
   "metadata": {},
   "source": [
    "## Prediction ##"
   ]
  },
  {
   "cell_type": "code",
   "execution_count": 5,
   "metadata": {
    "scrolled": true
   },
   "outputs": [
    {
     "data": {
      "text/html": [
       "<table border=\"1\" class=\"dataframe\">\n",
       "    <thead>\n",
       "        <tr>\n",
       "            <th>family</th> <th>father</th> <th>mother</th> <th>midparentHeight</th> <th>children</th> <th>childNum</th> <th>gender</th> <th>childHeight</th>\n",
       "        </tr>\n",
       "    </thead>\n",
       "    <tbody>\n",
       "        <tr>\n",
       "            <td>1     </td> <td>78.5  </td> <td>67    </td> <td>75.43          </td> <td>4       </td> <td>1       </td> <td>male  </td> <td>73.2       </td>\n",
       "        </tr>\n",
       "        <tr>\n",
       "            <td>1     </td> <td>78.5  </td> <td>67    </td> <td>75.43          </td> <td>4       </td> <td>2       </td> <td>female</td> <td>69.2       </td>\n",
       "        </tr>\n",
       "        <tr>\n",
       "            <td>1     </td> <td>78.5  </td> <td>67    </td> <td>75.43          </td> <td>4       </td> <td>3       </td> <td>female</td> <td>69         </td>\n",
       "        </tr>\n",
       "        <tr>\n",
       "            <td>1     </td> <td>78.5  </td> <td>67    </td> <td>75.43          </td> <td>4       </td> <td>4       </td> <td>female</td> <td>69         </td>\n",
       "        </tr>\n",
       "        <tr>\n",
       "            <td>2     </td> <td>75.5  </td> <td>66.5  </td> <td>73.66          </td> <td>4       </td> <td>1       </td> <td>male  </td> <td>73.5       </td>\n",
       "        </tr>\n",
       "        <tr>\n",
       "            <td>2     </td> <td>75.5  </td> <td>66.5  </td> <td>73.66          </td> <td>4       </td> <td>2       </td> <td>male  </td> <td>72.5       </td>\n",
       "        </tr>\n",
       "        <tr>\n",
       "            <td>2     </td> <td>75.5  </td> <td>66.5  </td> <td>73.66          </td> <td>4       </td> <td>3       </td> <td>female</td> <td>65.5       </td>\n",
       "        </tr>\n",
       "        <tr>\n",
       "            <td>2     </td> <td>75.5  </td> <td>66.5  </td> <td>73.66          </td> <td>4       </td> <td>4       </td> <td>female</td> <td>65.5       </td>\n",
       "        </tr>\n",
       "        <tr>\n",
       "            <td>3     </td> <td>75    </td> <td>64    </td> <td>72.06          </td> <td>2       </td> <td>1       </td> <td>male  </td> <td>71         </td>\n",
       "        </tr>\n",
       "        <tr>\n",
       "            <td>3     </td> <td>75    </td> <td>64    </td> <td>72.06          </td> <td>2       </td> <td>2       </td> <td>female</td> <td>68         </td>\n",
       "        </tr>\n",
       "    </tbody>\n",
       "</table>\n",
       "<p>... (924 rows omitted)</p>"
      ],
      "text/plain": [
       "family | father | mother | midparentHeight | children | childNum | gender | childHeight\n",
       "1      | 78.5   | 67     | 75.43           | 4        | 1        | male   | 73.2\n",
       "1      | 78.5   | 67     | 75.43           | 4        | 2        | female | 69.2\n",
       "1      | 78.5   | 67     | 75.43           | 4        | 3        | female | 69\n",
       "1      | 78.5   | 67     | 75.43           | 4        | 4        | female | 69\n",
       "2      | 75.5   | 66.5   | 73.66           | 4        | 1        | male   | 73.5\n",
       "2      | 75.5   | 66.5   | 73.66           | 4        | 2        | male   | 72.5\n",
       "2      | 75.5   | 66.5   | 73.66           | 4        | 3        | female | 65.5\n",
       "2      | 75.5   | 66.5   | 73.66           | 4        | 4        | female | 65.5\n",
       "3      | 75     | 64     | 72.06           | 2        | 1        | male   | 71\n",
       "3      | 75     | 64     | 72.06           | 2        | 2        | female | 68\n",
       "... (924 rows omitted)"
      ]
     },
     "execution_count": 5,
     "metadata": {},
     "output_type": "execute_result"
    }
   ],
   "source": [
    "galton = Table.read_table('galton.csv')\n",
    "galton"
   ]
  },
  {
   "cell_type": "code",
   "execution_count": 7,
   "metadata": {},
   "outputs": [
    {
     "data": {
      "text/plain": [
       "array([5259.5 , 5259.5 , 5259.5 , 5259.5 , 5020.75, 5020.75, 5020.75,\n",
       "       5020.75, 4800.  , 4800.  , 4800.  , 4800.  , 4800.  , 4800.  ,\n",
       "       4800.  , 4387.5 , 4387.5 , 4387.5 , 4387.5 , 4387.5 , 4387.5 ,\n",
       "       5032.  , 5032.  , 5032.  , 5032.  , 5032.  , 5032.  , 5032.  ,\n",
       "       4921.  , 4921.  , 4921.  , 4917.  , 4847.  , 4588.  , 4588.  ,\n",
       "       4588.  , 4588.  , 4588.  , 4588.  , 4588.  , 4588.  , 4514.  ,\n",
       "       4891.  , 4891.  , 4891.  , 4891.  , 4854.5 , 4854.5 , 4854.5 ,\n",
       "       4745.  , 4745.  , 4745.  , 4745.  , 4745.  , 4745.  , 4745.  ,\n",
       "       4745.  , 4745.  , 4708.5 , 4708.5 , 4708.5 , 4708.5 , 4708.5 ,\n",
       "       4708.5 , 4672.  , 4672.  , 4672.  , 4611.6 , 5016.3 , 5016.3 ,\n",
       "       5016.3 , 5016.3 , 5016.3 , 5016.3 , 5016.3 , 5016.3 , 4896.  ,\n",
       "       4896.  , 4896.  , 4824.  , 4824.  , 4824.  , 4680.  , 4680.  ,\n",
       "       4680.  , 4680.  , 4680.  , 4680.  , 4680.  , 4716.  , 4608.  ,\n",
       "       4608.  , 4536.  , 4536.  , 4536.  , 4536.  , 4536.  , 4536.  ,\n",
       "       4536.  , 4536.  , 4536.  , 4536.  , 4536.  , 4536.  , 4536.  ,\n",
       "       4536.  , 4603.75, 4603.75, 4603.75, 4464.  , 4495.  , 4495.  ,\n",
       "       4495.  , 4495.  , 4495.  , 4495.  , 4464.  , 4464.  , 4464.  ,\n",
       "       4464.  , 4464.  , 4464.  , 4464.  , 4464.  , 4464.  , 4464.  ,\n",
       "       4392.  , 4899.  , 4899.  , 4899.  , 4899.  , 4899.  , 4757.  ,\n",
       "       4757.  , 4757.  , 4757.  , 4686.  , 4686.  , 4686.  , 4686.  ,\n",
       "       4686.  , 4686.  , 4686.  , 4686.  , 4686.  , 4686.  , 4686.  ,\n",
       "       4686.  , 4686.  , 4686.  , 4686.  , 4686.  , 4686.  , 4696.35,\n",
       "       4650.5 , 4650.5 , 4650.5 , 4650.5 , 4650.5 , 4650.5 , 4683.25,\n",
       "       4683.25, 4647.5 , 4647.5 , 4615.  , 4615.  , 4615.  , 4544.  ,\n",
       "       4544.  , 4544.  , 4544.  , 4544.  , 4544.  , 4544.  , 4544.  ,\n",
       "       4624.65, 4624.65, 4624.65, 4624.65, 4544.  , 4544.  , 4544.  ,\n",
       "       4611.75, 4611.75, 4611.75, 4611.75, 4611.75, 4611.75, 4611.75,\n",
       "       4579.5 , 4579.5 , 4485.6 , 4485.6 , 4508.5 , 4508.5 , 4508.5 ,\n",
       "       4508.5 , 4508.5 , 4473.  , 4473.  , 4473.  , 4473.  , 4473.  ,\n",
       "       4473.  , 4473.  , 4473.  , 4473.  , 4473.  , 4473.  , 4473.  ,\n",
       "       4473.  , 4402.  , 4402.  , 4402.  , 4402.  , 4402.  , 4402.  ,\n",
       "       4402.  , 4402.  , 4402.  , 4402.  , 4437.5 , 4437.5 , 4437.5 ,\n",
       "       4437.5 , 4437.5 , 4402.  , 4402.  , 4402.  , 4402.  , 4402.  ,\n",
       "       4402.  , 4402.  , 4331.  , 4118.  , 4118.  , 4830.  , 4830.  ,\n",
       "       4830.  , 4830.  , 4830.  , 4830.  , 4830.  , 4830.  , 4830.  ,\n",
       "       4830.  , 4760.  , 4690.  , 4690.  , 4690.  , 4690.  , 4690.  ,\n",
       "       4690.  , 4655.  , 4655.  , 4655.  , 4655.  , 4655.  , 4655.  ,\n",
       "       4655.  , 4655.  , 4655.  , 4655.  , 4655.  , 4582.5 , 4582.5 ,\n",
       "       4582.5 , 4582.5 , 4582.5 , 4582.5 , 4582.5 , 4582.5 , 4582.5 ,\n",
       "       4550.  , 4550.  , 4550.  , 4550.  , 4550.  , 4550.  , 4550.  ,\n",
       "       4550.  , 4550.  , 4550.  , 4550.  , 4550.  , 4550.  , 4550.  ,\n",
       "       4550.  , 4550.  , 4550.  , 4550.  , 4550.  , 4550.  , 4550.  ,\n",
       "       4550.  , 4550.  , 4550.  , 4550.  , 4550.  , 4550.  , 4550.  ,\n",
       "       4550.  , 4550.  , 4550.  , 4529.  , 4529.  , 4529.  , 4529.  ,\n",
       "       4529.  , 4529.  , 4529.  , 4480.  , 4480.  , 4480.  , 4480.  ,\n",
       "       4480.  , 4480.  , 4480.  , 4480.  , 4480.  , 4480.  , 4480.  ,\n",
       "       4494.  , 4494.  , 4494.  , 4494.  , 4494.  , 4512.  , 4512.  ,\n",
       "       4512.  , 4512.  , 4512.  , 4512.  , 4512.  , 4512.  , 4547.25,\n",
       "       4480.  , 4480.  , 4480.  , 4480.  , 4480.  , 4480.  , 4480.  ,\n",
       "       4480.  , 4480.  , 4480.  , 4480.  , 4480.  , 4480.  , 4459.  ,\n",
       "       4459.  , 4459.  , 4459.  , 4459.  , 4459.  , 4459.  , 4459.  ,\n",
       "       4441.5 , 4441.5 , 4441.5 , 4441.5 , 4441.5 , 4441.5 , 4441.5 ,\n",
       "       4441.5 , 4441.5 , 4445.  , 4445.  , 4445.  , 4445.  , 4410.  ,\n",
       "       4410.  , 4410.  , 4410.  , 4410.  , 4410.  , 4410.  , 4410.  ,\n",
       "       4371.  , 4371.  , 4371.  , 4371.  , 4371.  , 4371.  , 4371.  ,\n",
       "       4371.  , 4407.81, 4407.81, 4407.81, 4407.81, 4407.81, 4407.81,\n",
       "       4407.81, 4371.  , 4371.  , 4371.  , 4270.  , 4270.  , 4200.  ,\n",
       "       4200.  , 4200.  , 4200.  , 4200.  , 4200.  , 4095.  , 4095.  ,\n",
       "       4095.  , 4060.  , 4060.  , 4060.  , 4060.  , 4060.  , 4726.5 ,\n",
       "       4726.5 , 4726.5 , 4726.5 , 4726.5 , 4726.5 , 4726.5 , 4726.5 ,\n",
       "       4726.5 , 4726.5 , 4623.  , 4554.  , 4554.  , 4554.  , 4554.  ,\n",
       "       4554.  , 4554.  , 4554.  , 4554.  , 4554.  , 4554.  , 4554.  ,\n",
       "       4602.3 , 4602.3 , 4602.3 , 4602.3 , 4554.  , 4554.  , 4554.  ,\n",
       "       4554.  , 4554.  , 4554.  , 4588.5 , 4588.5 , 4588.5 , 4588.5 ,\n",
       "       4588.5 , 4588.5 , 4588.5 , 4621.75, 4621.75, 4621.75, 4621.75,\n",
       "       4588.5 , 4588.5 , 4588.5 , 4588.5 , 4588.5 , 4588.5 , 4587.  ,\n",
       "       4587.  , 4587.  , 4587.  , 4587.  , 4587.  , 4587.  , 4554.  ,\n",
       "       4554.  , 4554.  , 4554.  , 4554.  , 4554.  , 4554.  , 4554.  ,\n",
       "       4554.  , 4485.  , 4485.  , 4485.  , 4485.  , 4485.  , 4485.  ,\n",
       "       4485.  , 4482.75, 4482.75, 4482.75, 4482.75, 4482.75, 4482.75,\n",
       "       4482.75, 4428.8 , 4428.8 , 4428.8 , 4428.8 , 4381.5 , 4347.  ,\n",
       "       4347.  , 4347.  , 4347.  , 4347.  , 4347.  , 4347.  , 4347.  ,\n",
       "       4347.  , 4347.  , 4381.5 , 4381.5 , 4381.5 , 4381.5 , 4381.5 ,\n",
       "       4381.5 , 4381.5 , 4381.5 , 4381.5 , 4381.5 , 4321.4 , 4309.  ,\n",
       "       4309.  , 4309.  , 4278.  , 4278.  , 4278.  , 4278.  , 4278.  ,\n",
       "       4309.  , 4309.  , 4309.  , 4309.  , 4309.  , 4309.  , 4309.  ,\n",
       "       4309.  , 4309.  , 4309.  , 4309.  , 4312.5 , 4312.5 , 4312.5 ,\n",
       "       4312.5 , 4312.5 , 4312.5 , 4312.5 , 4312.5 , 4278.  , 4278.  ,\n",
       "       4278.  , 4278.  , 4239.5 , 4239.5 , 4239.5 , 4239.5 , 4239.5 ,\n",
       "       4209.  , 4209.  , 4209.  , 4209.  , 4209.  , 4209.  , 4209.  ,\n",
       "       4209.  , 4209.  , 4140.  , 4140.  , 4140.  , 4140.  , 4140.  ,\n",
       "       4140.  , 4140.  , 4174.5 , 4843.35, 4843.35, 4589.5 , 4589.5 ,\n",
       "       4589.5 , 4555.25, 4555.25, 4555.25, 4555.25, 4555.25, 4555.25,\n",
       "       4555.25, 4555.25, 4555.25, 4555.25, 4555.25, 4420.  , 4420.  ,\n",
       "       4454.  , 4454.  , 4454.  , 4454.  , 4454.  , 4454.  , 4454.  ,\n",
       "       4454.  , 4454.  , 4420.  , 4420.  , 4420.  , 4420.  , 4452.5 ,\n",
       "       4452.5 , 4452.5 , 4452.5 , 4452.5 , 4452.5 , 4452.5 , 4452.5 ,\n",
       "       4452.5 , 4452.5 , 4452.5 , 4452.5 , 4452.5 , 4452.5 , 4452.5 ,\n",
       "       4452.5 , 4352.  , 4352.  , 4352.  , 4352.  , 4352.  , 4352.  ,\n",
       "       4352.  , 4352.  , 4352.  , 4352.  , 4352.  , 4352.  , 4352.  ,\n",
       "       4352.  , 4352.  , 4352.  , 4352.  , 4352.  , 4352.  , 4386.  ,\n",
       "       4352.  , 4352.  , 4352.  , 4352.  , 4352.  , 4352.  , 4352.  ,\n",
       "       4352.  , 4352.  , 4352.  , 4284.  , 4284.  , 4284.  , 4284.  ,\n",
       "       4284.  , 4284.  , 4284.  , 4284.  , 4349.75, 4349.75, 4349.75,\n",
       "       4349.75, 4284.  , 4284.  , 4284.  , 4284.  , 4284.  , 4284.  ,\n",
       "       4284.  , 4284.  , 4284.  , 4284.  , 4284.  , 4284.  , 4284.  ,\n",
       "       4284.  , 4284.  , 4284.  , 4284.  , 4284.  , 4284.  , 4349.75,\n",
       "       4284.  , 4330.7 , 4330.7 , 4330.7 , 4330.7 , 4330.7 , 4250.  ,\n",
       "       4259.4 , 4259.4 , 4250.  , 4148.  , 4148.  , 4148.  , 4148.  ,\n",
       "       4148.  , 4093.6 , 4080.  , 4080.  , 4080.  , 4080.  , 4080.  ,\n",
       "       4080.  , 4080.  , 4080.  , 4080.  , 4080.  , 4080.  , 4041.5 ,\n",
       "       4012.  , 4012.  , 4012.  , 4012.  , 4012.  , 4012.  , 4012.  ,\n",
       "       4012.  , 4012.  , 4012.  , 4435.4 , 4435.4 , 4435.4 , 4435.4 ,\n",
       "       4435.4 , 4455.5 , 4422.  , 4422.  , 4422.  , 4422.  , 4422.  ,\n",
       "       4422.  , 4422.  , 4422.  , 4355.  , 4355.  , 4355.  , 4355.  ,\n",
       "       4355.  , 4355.  , 4388.5 , 4388.5 , 4388.5 , 4388.5 , 4388.5 ,\n",
       "       4388.5 , 4388.5 , 4388.5 , 4388.5 , 4355.  , 4355.  , 4355.  ,\n",
       "       4387.5 , 4387.5 , 4387.5 , 4387.5 , 4387.5 , 4387.5 , 4387.5 ,\n",
       "       4387.5 , 4387.5 , 4387.5 , 4387.5 , 4288.  , 4288.  , 4288.  ,\n",
       "       4288.  , 4254.5 , 4254.5 , 4254.5 , 4254.5 , 4254.5 , 4254.5 ,\n",
       "       4254.5 , 4254.5 , 4221.  , 4221.  , 4221.  , 4185.  , 4185.  ,\n",
       "       4185.  , 4185.  , 4185.  , 4087.  , 4422.  , 4422.  , 4422.  ,\n",
       "       4422.  , 4422.  , 4422.  , 4422.  , 4422.  , 4422.  , 4422.  ,\n",
       "       4422.  , 4422.  , 4422.  , 4422.  , 4422.  , 4422.  , 4422.  ,\n",
       "       4356.  , 4356.  , 4356.  , 4356.  , 4356.  , 4356.  , 4356.  ,\n",
       "       4356.  , 4356.  , 4356.  , 4356.  , 4322.5 , 4322.5 , 4322.5 ,\n",
       "       4322.5 , 4322.5 , 4322.5 , 4322.5 , 4322.5 , 4323.  , 4323.  ,\n",
       "       4323.  , 4323.  , 4323.  , 4158.  , 4191.  , 4191.  , 4189.5 ,\n",
       "       4189.5 , 4189.5 , 4189.5 , 4189.5 , 4189.5 , 4156.25, 4156.25,\n",
       "       4156.25, 4156.25, 4156.25, 4156.25, 4156.25, 4059.  , 3960.  ,\n",
       "       3960.  , 3960.  , 3960.  , 3960.  , 3894.  , 3894.  , 3894.  ,\n",
       "       3894.  , 3894.  , 3894.  , 3894.  , 3894.  , 3894.  , 3894.  ,\n",
       "       3894.  , 3894.  , 3894.  , 3894.  , 3894.  , 4355.  , 4355.  ,\n",
       "       4355.  , 4355.  , 4355.  , 4290.  , 4290.  , 4290.  , 4290.  ,\n",
       "       4290.  , 4290.  , 4290.  , 4290.  , 4290.  , 4225.  , 4225.  ,\n",
       "       4225.  , 4225.  , 4225.  , 4225.  , 4225.  , 4225.  , 4225.  ,\n",
       "       4257.5 , 4257.5 , 4225.  , 4225.  , 4225.  , 4225.  , 4225.  ,\n",
       "       4225.  , 4160.  , 4160.  , 4160.  , 4160.  , 4160.  , 4160.  ,\n",
       "       4095.  , 4095.  , 4095.  , 4095.  , 4095.  , 4126.5 , 4126.5 ,\n",
       "       4126.5 , 4126.5 , 3930.  , 3930.  , 3930.  , 3930.  , 3930.  ,\n",
       "       4096.  , 4096.  , 4096.  , 4096.  , 4096.  , 4096.  , 4096.  ,\n",
       "       4096.  , 4096.  , 4096.  , 4096.  , 4096.  , 4096.  , 4096.  ,\n",
       "       4032.  , 3840.  , 3840.  , 4000.5 , 4000.5 , 4092.  , 4092.  ,\n",
       "       4092.  , 3937.5 , 3937.5 ])"
      ]
     },
     "execution_count": 7,
     "metadata": {},
     "output_type": "execute_result"
    }
   ],
   "source": [
    "galton.column(\"father\")*galton.column(\"mother\")"
   ]
  },
  {
   "cell_type": "code",
   "execution_count": 36,
   "metadata": {},
   "outputs": [
    {
     "data": {
      "image/png": "[encoded data removed]",
      "text/plain": [
       "<Figure size 360x360 with 1 Axes>"
      ]
     },
     "metadata": {},
     "output_type": "display_data"
    }
   ],
   "source": [
    "galton.scatter('midparentHeight', 'childHeight')"
   ]
  },
  {
   "cell_type": "code",
   "execution_count": null,
   "metadata": {},
   "outputs": [],
   "source": []
  },
  {
   "cell_type": "code",
   "execution_count": 37,
   "metadata": {},
   "outputs": [
    {
     "data": {
      "image/png": "[encoded data removed]",
      "text/plain": [
       "<Figure size 360x360 with 1 Axes>"
      ]
     },
     "metadata": {},
     "output_type": "display_data"
    }
   ],
   "source": [
    "galton.scatter('midparentHeight', 'childHeight')\n",
    "plots.plot([67.5, 67.5], [50, 85], color='red', lw=2)\n",
    "plots.plot([68.5, 68.5], [50, 85], color='red', lw=2);"
   ]
  },
  {
   "cell_type": "code",
   "execution_count": 38,
   "metadata": {
    "scrolled": true
   },
   "outputs": [
    {
     "data": {
      "text/plain": [
       "66.24045801526718"
      ]
     },
     "execution_count": 38,
     "metadata": {},
     "output_type": "execute_result"
    }
   ],
   "source": [
    "nearby = galton.where('midparentHeight', are.between(67.5, 68.5))\n",
    "nearby_mean = nearby.column('childHeight').mean()\n",
    "nearby_mean"
   ]
  },
  {
   "cell_type": "code",
   "execution_count": 39,
   "metadata": {},
   "outputs": [
    {
     "data": {
      "image/png": "[encoded data removed]",
      "text/plain": [
       "<Figure size 360x360 with 1 Axes>"
      ]
     },
     "metadata": {},
     "output_type": "display_data"
    }
   ],
   "source": [
    "galton.scatter('midparentHeight', 'childHeight')\n",
    "plots.plot([67.5, 67.5], [50, 85], color='red', lw=2)\n",
    "plots.plot([68.5, 68.5], [50, 85], color='red', lw=2)\n",
    "plots.scatter(68, nearby_mean, color='yellow', s=50);"
   ]
  },
  {
   "cell_type": "code",
   "execution_count": 41,
   "metadata": {},
   "outputs": [],
   "source": [
    "def predict(h):\n",
    "    nearby = galton.where('midparentHeight', are.between(h - .5, h + .5))\n",
    "    return nearby.column('childHeight').mean()"
   ]
  },
  {
   "cell_type": "code",
   "execution_count": 42,
   "metadata": {},
   "outputs": [
    {
     "data": {
      "text/plain": [
       "66.24045801526718"
      ]
     },
     "execution_count": 42,
     "metadata": {},
     "output_type": "execute_result"
    }
   ],
   "source": [
    "predict(68)"
   ]
  },
  {
   "cell_type": "code",
   "execution_count": 43,
   "metadata": {},
   "outputs": [
    {
     "data": {
      "text/plain": [
       "67.27285067873302"
      ]
     },
     "execution_count": 43,
     "metadata": {},
     "output_type": "execute_result"
    }
   ],
   "source": [
    "predict(70)"
   ]
  },
  {
   "cell_type": "code",
   "execution_count": 44,
   "metadata": {},
   "outputs": [
    {
     "data": {
      "text/plain": [
       "69.5"
      ]
     },
     "execution_count": 44,
     "metadata": {},
     "output_type": "execute_result"
    }
   ],
   "source": [
    "predict(73)"
   ]
  },
  {
   "cell_type": "code",
   "execution_count": 45,
   "metadata": {},
   "outputs": [
    {
     "data": {
      "text/plain": [
       "array([70.1       , 70.1       , 70.1       , 70.1       , 70.41578947,\n",
       "       70.41578947, 70.41578947, 70.41578947, 68.5025    , 68.5025    ,\n",
       "       68.5025    , 68.5025    , 68.5025    , 68.5025    , 68.5025    ,\n",
       "       66.43149606, 66.43149606, 66.43149606, 66.43149606, 66.43149606,\n",
       "       66.43149606, 70.41578947, 70.41578947, 70.41578947, 70.41578947,\n",
       "       70.41578947, 70.41578947, 70.41578947, 69.18571429, 69.18571429,\n",
       "       69.18571429, 69.18571429, 68.66052632, 67.63423913, 67.63423913,\n",
       "       67.63423913, 67.63423913, 67.63423913, 67.63423913, 67.63423913,\n",
       "       67.63423913, 67.37410714, 68.77428571, 68.77428571, 68.77428571,\n",
       "       68.77428571, 68.59230769, 68.59230769, 68.59230769, 68.07323944,\n",
       "       68.07323944, 68.07323944, 68.07323944, 68.07323944, 68.07323944,\n",
       "       68.07323944, 68.07323944, 68.07323944, 68.05465116, 68.05465116,\n",
       "       68.05465116, 68.05465116, 68.05465116, 68.05465116, 67.56276596,\n",
       "       67.56276596, 67.56276596, 67.71678832, 70.41578947, 70.41578947,\n",
       "       70.41578947, 70.41578947, 70.41578947, 70.41578947, 70.41578947,\n",
       "       70.41578947, 68.628125  , 68.628125  , 68.628125  , 68.54193548,\n",
       "       68.54193548, 68.54193548, 67.66941176, 67.66941176, 67.66941176,\n",
       "       67.66941176, 67.66941176, 67.66941176, 67.66941176, 68.05357143,\n",
       "       67.63352941, 67.63352941, 67.36355556, 67.36355556, 67.36355556,\n",
       "       67.36355556, 67.36355556, 67.36355556, 67.36355556, 67.36355556,\n",
       "       67.36355556, 67.36355556, 67.36355556, 67.36355556, 67.36355556,\n",
       "       67.36355556, 67.63352941, 67.63352941, 67.63352941, 66.75884956,\n",
       "       67.11255061, 67.11255061, 67.11255061, 67.11255061, 67.11255061,\n",
       "       67.11255061, 66.75884956, 66.75884956, 66.75884956, 66.75884956,\n",
       "       66.75884956, 66.75884956, 66.75884956, 66.75884956, 66.75884956,\n",
       "       66.75884956, 66.23647541, 68.628125  , 68.628125  , 68.628125  ,\n",
       "       68.628125  , 68.628125  , 67.97333333, 67.97333333, 67.97333333,\n",
       "       67.97333333, 67.85      , 67.85      , 67.85      , 67.85      ,\n",
       "       67.85      , 67.85      , 67.85      , 67.85      , 67.85      ,\n",
       "       67.85      , 67.85      , 67.85      , 67.85      , 67.85      ,\n",
       "       67.85      , 67.85      , 67.85      , 67.97294118, 67.8661157 ,\n",
       "       67.8661157 , 67.8661157 , 67.8661157 , 67.8661157 , 67.8661157 ,\n",
       "       67.79340659, 67.79340659, 67.75384615, 67.75384615, 67.67204969,\n",
       "       67.67204969, 67.67204969, 67.38465116, 67.38465116, 67.38465116,\n",
       "       67.38465116, 67.38465116, 67.38465116, 67.38465116, 67.38465116,\n",
       "       67.78319328, 67.78319328, 67.78319328, 67.78319328, 67.38465116,\n",
       "       67.38465116, 67.38465116, 67.62469136, 67.62469136, 67.62469136,\n",
       "       67.62469136, 67.62469136, 67.62469136, 67.62469136, 67.53815029,\n",
       "       67.53815029, 66.89330544, 66.89330544, 67.11359649, 67.11359649,\n",
       "       67.11359649, 67.11359649, 67.11359649, 66.74257426, 66.74257426,\n",
       "       66.74257426, 66.74257426, 66.74257426, 66.74257426, 66.74257426,\n",
       "       66.74257426, 66.74257426, 66.74257426, 66.74257426, 66.74257426,\n",
       "       66.74257426, 66.25390947, 66.25390947, 66.25390947, 66.25390947,\n",
       "       66.25390947, 66.25390947, 66.25390947, 66.25390947, 66.25390947,\n",
       "       66.25390947, 66.45882353, 66.45882353, 66.45882353, 66.45882353,\n",
       "       66.45882353, 66.25390947, 66.25390947, 66.25390947, 66.25390947,\n",
       "       66.25390947, 66.25390947, 66.25390947, 66.08640777, 65.31573034,\n",
       "       65.31573034, 68.03333333, 68.03333333, 68.03333333, 68.03333333,\n",
       "       68.03333333, 68.03333333, 68.03333333, 68.03333333, 68.03333333,\n",
       "       68.03333333, 68.41190476, 67.90697674, 67.90697674, 67.90697674,\n",
       "       67.90697674, 67.90697674, 67.90697674, 67.80695652, 67.80695652,\n",
       "       67.80695652, 67.80695652, 67.80695652, 67.80695652, 67.80695652,\n",
       "       67.80695652, 67.80695652, 67.80695652, 67.80695652, 67.53815029,\n",
       "       67.53815029, 67.53815029, 67.53815029, 67.53815029, 67.53815029,\n",
       "       67.53815029, 67.53815029, 67.53815029, 67.4388601 , 67.4388601 ,\n",
       "       67.4388601 , 67.4388601 , 67.4388601 , 67.4388601 , 67.4388601 ,\n",
       "       67.4388601 , 67.4388601 , 67.4388601 , 67.4388601 , 67.4388601 ,\n",
       "       67.4388601 , 67.4388601 , 67.4388601 , 67.4388601 , 67.4388601 ,\n",
       "       67.4388601 , 67.4388601 , 67.4388601 , 67.4388601 , 67.4388601 ,\n",
       "       67.4388601 , 67.4388601 , 67.4388601 , 67.4388601 , 67.4388601 ,\n",
       "       67.4388601 , 67.4388601 , 67.4388601 , 67.4388601 , 67.37410714,\n",
       "       67.37410714, 67.37410714, 67.37410714, 67.37410714, 67.37410714,\n",
       "       67.37410714, 66.86923077, 66.86923077, 66.86923077, 66.86923077,\n",
       "       66.86923077, 66.86923077, 66.86923077, 66.86923077, 66.86923077,\n",
       "       66.86923077, 66.86923077, 66.97462121, 66.97462121, 66.97462121,\n",
       "       66.97462121, 66.97462121, 67.10892857, 67.10892857, 67.10892857,\n",
       "       67.10892857, 67.10892857, 67.10892857, 67.10892857, 67.10892857,\n",
       "       67.34093264, 66.86923077, 66.86923077, 66.86923077, 66.86923077,\n",
       "       66.86923077, 66.86923077, 66.86923077, 66.86923077, 66.86923077,\n",
       "       66.86923077, 66.86923077, 66.86923077, 66.86923077, 66.74109589,\n",
       "       66.74109589, 66.74109589, 66.74109589, 66.74109589, 66.74109589,\n",
       "       66.74109589, 66.74109589, 66.45882353, 66.45882353, 66.45882353,\n",
       "       66.45882353, 66.45882353, 66.45882353, 66.45882353, 66.45882353,\n",
       "       66.45882353, 66.45882353, 66.45882353, 66.45882353, 66.45882353,\n",
       "       66.38858268, 66.38858268, 66.38858268, 66.38858268, 66.38858268,\n",
       "       66.38858268, 66.38858268, 66.38858268, 66.17280702, 66.17280702,\n",
       "       66.17280702, 66.17280702, 66.17280702, 66.17280702, 66.17280702,\n",
       "       66.17280702, 66.38858268, 66.38858268, 66.38858268, 66.38858268,\n",
       "       66.38858268, 66.38858268, 66.38858268, 66.17280702, 66.17280702,\n",
       "       66.17280702, 66.1618705 , 66.1618705 , 65.7423913 , 65.7423913 ,\n",
       "       65.7423913 , 65.7423913 , 65.7423913 , 65.7423913 , 65.20649351,\n",
       "       65.20649351, 65.20649351, 64.915     , 64.915     , 64.915     ,\n",
       "       64.915     , 64.915     , 67.9880597 , 67.9880597 , 67.9880597 ,\n",
       "       67.9880597 , 67.9880597 , 67.9880597 , 67.9880597 , 67.9880597 ,\n",
       "       67.9880597 , 67.9880597 , 67.78319328, 67.47553191, 67.47553191,\n",
       "       67.47553191, 67.47553191, 67.47553191, 67.47553191, 67.47553191,\n",
       "       67.47553191, 67.47553191, 67.47553191, 67.47553191, 67.63423913,\n",
       "       67.63423913, 67.63423913, 67.63423913, 67.47553191, 67.47553191,\n",
       "       67.47553191, 67.47553191, 67.47553191, 67.47553191, 67.59834254,\n",
       "       67.59834254, 67.59834254, 67.59834254, 67.59834254, 67.59834254,\n",
       "       67.59834254, 67.79461538, 67.79461538, 67.79461538, 67.79461538,\n",
       "       67.59834254, 67.59834254, 67.59834254, 67.59834254, 67.59834254,\n",
       "       67.59834254, 67.59834254, 67.59834254, 67.59834254, 67.59834254,\n",
       "       67.59834254, 67.59834254, 67.59834254, 67.47553191, 67.47553191,\n",
       "       67.47553191, 67.47553191, 67.47553191, 67.47553191, 67.47553191,\n",
       "       67.47553191, 67.47553191, 66.84719626, 66.84719626, 66.84719626,\n",
       "       66.84719626, 66.84719626, 66.84719626, 66.84719626, 66.87579909,\n",
       "       66.87579909, 66.87579909, 66.87579909, 66.87579909, 66.87579909,\n",
       "       66.87579909, 66.48518519, 66.48518519, 66.48518519, 66.48518519,\n",
       "       66.22488889, 66.03545455, 66.03545455, 66.03545455, 66.03545455,\n",
       "       66.03545455, 66.03545455, 66.03545455, 66.03545455, 66.03545455,\n",
       "       66.03545455, 66.22488889, 66.22488889, 66.22488889, 66.22488889,\n",
       "       66.22488889, 66.22488889, 66.22488889, 66.22488889, 66.22488889,\n",
       "       66.22488889, 66.22328042, 66.2819209 , 66.2819209 , 66.2819209 ,\n",
       "       66.24045802, 66.24045802, 66.24045802, 66.24045802, 66.24045802,\n",
       "       66.2819209 , 66.2819209 , 66.2819209 , 66.2819209 , 66.2819209 ,\n",
       "       66.2819209 , 66.2819209 , 66.2819209 , 66.2819209 , 66.2819209 ,\n",
       "       66.2819209 , 66.36648936, 66.36648936, 66.36648936, 66.36648936,\n",
       "       66.36648936, 66.36648936, 66.36648936, 66.36648936, 66.24045802,\n",
       "       66.24045802, 66.24045802, 66.24045802, 66.13076923, 66.13076923,\n",
       "       66.13076923, 66.13076923, 66.13076923, 65.76588235, 65.76588235,\n",
       "       65.76588235, 65.76588235, 65.76588235, 65.76588235, 65.76588235,\n",
       "       65.76588235, 65.76588235, 65.25119048, 65.25119048, 65.25119048,\n",
       "       65.25119048, 65.25119048, 65.25119048, 65.25119048, 65.64936709,\n",
       "       68.56190476, 68.56190476, 67.6125    , 67.6125    , 67.6125    ,\n",
       "       67.47553191, 67.47553191, 67.47553191, 67.47553191, 67.47553191,\n",
       "       67.47553191, 67.47553191, 67.47553191, 67.47553191, 67.47553191,\n",
       "       67.47553191, 66.43149606, 66.43149606, 66.71052632, 66.71052632,\n",
       "       66.71052632, 66.71052632, 66.71052632, 66.71052632, 66.71052632,\n",
       "       66.71052632, 66.71052632, 66.43149606, 66.43149606, 66.43149606,\n",
       "       66.43149606, 66.60041841, 66.60041841, 66.60041841, 66.60041841,\n",
       "       66.60041841, 66.60041841, 66.60041841, 66.60041841, 66.60041841,\n",
       "       66.60041841, 66.60041841, 66.60041841, 66.60041841, 66.60041841,\n",
       "       66.60041841, 66.60041841, 66.0175    , 66.0175    , 66.0175    ,\n",
       "       66.0175    , 66.0175    , 66.0175    , 66.0175    , 66.0175    ,\n",
       "       66.0175    , 66.0175    , 66.0175    , 66.0175    , 66.0175    ,\n",
       "       66.0175    , 66.0175    , 66.0175    , 66.0175    , 66.0175    ,\n",
       "       66.0175    , 66.24497817, 66.0175    , 66.0175    , 66.0175    ,\n",
       "       66.0175    , 66.0175    , 66.0175    , 66.0175    , 66.0175    ,\n",
       "       66.0175    , 66.0175    , 66.24045802, 66.24045802, 66.24045802,\n",
       "       66.24045802, 66.24045802, 66.24045802, 66.24045802, 66.24045802,\n",
       "       66.0175    , 66.0175    , 66.0175    , 66.0175    , 66.24045802,\n",
       "       66.24045802, 66.24045802, 66.24045802, 66.24045802, 66.24045802,\n",
       "       66.24045802, 66.24045802, 66.24045802, 66.24045802, 66.24045802,\n",
       "       66.24045802, 66.24045802, 66.24045802, 66.24045802, 66.24045802,\n",
       "       66.24045802, 66.24045802, 66.24045802, 66.0175    , 66.24045802,\n",
       "       66.08640777, 66.08640777, 66.08640777, 66.08640777, 66.08640777,\n",
       "       66.07539683, 66.16904762, 66.16904762, 66.07539683, 65.66582278,\n",
       "       65.66582278, 65.66582278, 65.66582278, 65.66582278, 65.21690141,\n",
       "       65.26346154, 65.26346154, 65.26346154, 65.26346154, 65.26346154,\n",
       "       65.26346154, 65.26346154, 65.26346154, 65.26346154, 65.26346154,\n",
       "       65.26346154, 64.82545455, 65.368     , 65.368     , 65.368     ,\n",
       "       65.368     , 65.368     , 65.368     , 65.368     , 65.368     ,\n",
       "       65.368     , 65.368     , 66.45882353, 66.45882353, 66.45882353,\n",
       "       66.45882353, 66.45882353, 66.74109589, 66.45629921, 66.45629921,\n",
       "       66.45629921, 66.45629921, 66.45629921, 66.45629921, 66.45629921,\n",
       "       66.45629921, 65.98267327, 65.98267327, 65.98267327, 65.98267327,\n",
       "       65.98267327, 65.98267327, 66.31355932, 66.31355932, 66.31355932,\n",
       "       66.31355932, 66.31355932, 66.31355932, 66.31355932, 66.31355932,\n",
       "       66.31355932, 65.98267327, 65.98267327, 65.98267327, 66.26140351,\n",
       "       66.26140351, 66.26140351, 66.26140351, 66.26140351, 66.26140351,\n",
       "       66.26140351, 66.26140351, 66.26140351, 66.26140351, 66.26140351,\n",
       "       66.44195804, 66.44195804, 66.44195804, 66.44195804, 66.1234375 ,\n",
       "       66.1234375 , 66.1234375 , 66.1234375 , 66.1234375 , 66.1234375 ,\n",
       "       66.1234375 , 66.1234375 , 66.2952381 , 66.2952381 , 66.2952381 ,\n",
       "       65.71190476, 65.71190476, 65.71190476, 65.71190476, 65.71190476,\n",
       "       65.28644068, 66.45846774, 66.45846774, 66.45846774, 66.45846774,\n",
       "       66.45846774, 66.45846774, 66.45846774, 66.45846774, 66.45846774,\n",
       "       66.45846774, 66.45846774, 66.45846774, 66.45846774, 66.45846774,\n",
       "       66.45846774, 66.45846774, 66.45846774, 66.05769231, 66.05769231,\n",
       "       66.05769231, 66.05769231, 66.05769231, 66.05769231, 66.05769231,\n",
       "       66.05769231, 66.05769231, 66.05769231, 66.05769231, 66.21702128,\n",
       "       66.21702128, 66.21702128, 66.21702128, 66.21702128, 66.21702128,\n",
       "       66.21702128, 66.21702128, 66.1120603 , 66.1120603 , 66.1120603 ,\n",
       "       66.1120603 , 66.1120603 , 65.52209302, 65.61341463, 65.61341463,\n",
       "       65.75348837, 65.75348837, 65.75348837, 65.75348837, 65.75348837,\n",
       "       65.75348837, 65.53563218, 65.53563218, 65.53563218, 65.53563218,\n",
       "       65.53563218, 65.53563218, 65.53563218, 64.69655172, 64.75833333,\n",
       "       64.75833333, 64.75833333, 64.75833333, 64.75833333, 63.96666667,\n",
       "       63.96666667, 63.96666667, 63.96666667, 63.96666667, 63.96666667,\n",
       "       63.96666667, 63.96666667, 63.96666667, 63.96666667, 63.96666667,\n",
       "       63.96666667, 63.96666667, 63.96666667, 63.96666667, 66.26966825,\n",
       "       66.26966825, 66.26966825, 66.26966825, 66.26966825, 66.35481928,\n",
       "       66.35481928, 66.35481928, 66.35481928, 66.35481928, 66.35481928,\n",
       "       66.35481928, 66.35481928, 66.35481928, 66.36513761, 66.36513761,\n",
       "       66.36513761, 66.36513761, 66.36513761, 66.36513761, 66.36513761,\n",
       "       66.36513761, 66.36513761, 65.99259259, 65.99259259, 66.36513761,\n",
       "       66.36513761, 66.36513761, 66.36513761, 66.36513761, 66.36513761,\n",
       "       65.55833333, 65.55833333, 65.55833333, 65.55833333, 65.55833333,\n",
       "       65.55833333, 65.21690141, 65.21690141, 65.21690141, 65.21690141,\n",
       "       65.21690141, 65.36296296, 65.36296296, 65.36296296, 65.36296296,\n",
       "       64.22962963, 64.22962963, 64.22962963, 64.22962963, 64.22962963,\n",
       "       65.2943662 , 65.2943662 , 65.2943662 , 65.2943662 , 65.2943662 ,\n",
       "       65.2943662 , 65.2943662 , 65.2943662 , 65.2943662 , 65.2943662 ,\n",
       "       65.2943662 , 65.2943662 , 65.2943662 , 65.2943662 , 64.42121212,\n",
       "       63.51176471, 63.51176471, 65.11      , 65.11      , 65.15657895,\n",
       "       65.15657895, 65.15657895, 64.22962963, 64.22962963])"
      ]
     },
     "execution_count": 45,
     "metadata": {},
     "output_type": "execute_result"
    }
   ],
   "source": [
    "predicted_heights = galton.apply(predict, 'midparentHeight')\n",
    "predicted_heights"
   ]
  },
  {
   "cell_type": "code",
   "execution_count": 47,
   "metadata": {},
   "outputs": [
    {
     "data": {
      "text/html": [
       "<table border=\"1\" class=\"dataframe\">\n",
       "    <thead>\n",
       "        <tr>\n",
       "            <th>family</th> <th>father</th> <th>mother</th> <th>midparentHeight</th> <th>children</th> <th>childNum</th> <th>gender</th> <th>childHeight</th> <th>predictedHeight</th>\n",
       "        </tr>\n",
       "    </thead>\n",
       "    <tbody>\n",
       "        <tr>\n",
       "            <td>1     </td> <td>78.5  </td> <td>67    </td> <td>75.43          </td> <td>4       </td> <td>1       </td> <td>male  </td> <td>73.2       </td> <td>70.1           </td>\n",
       "        </tr>\n",
       "        <tr>\n",
       "            <td>1     </td> <td>78.5  </td> <td>67    </td> <td>75.43          </td> <td>4       </td> <td>2       </td> <td>female</td> <td>69.2       </td> <td>70.1           </td>\n",
       "        </tr>\n",
       "        <tr>\n",
       "            <td>1     </td> <td>78.5  </td> <td>67    </td> <td>75.43          </td> <td>4       </td> <td>3       </td> <td>female</td> <td>69         </td> <td>70.1           </td>\n",
       "        </tr>\n",
       "        <tr>\n",
       "            <td>1     </td> <td>78.5  </td> <td>67    </td> <td>75.43          </td> <td>4       </td> <td>4       </td> <td>female</td> <td>69         </td> <td>70.1           </td>\n",
       "        </tr>\n",
       "        <tr>\n",
       "            <td>2     </td> <td>75.5  </td> <td>66.5  </td> <td>73.66          </td> <td>4       </td> <td>1       </td> <td>male  </td> <td>73.5       </td> <td>70.4158        </td>\n",
       "        </tr>\n",
       "        <tr>\n",
       "            <td>2     </td> <td>75.5  </td> <td>66.5  </td> <td>73.66          </td> <td>4       </td> <td>2       </td> <td>male  </td> <td>72.5       </td> <td>70.4158        </td>\n",
       "        </tr>\n",
       "        <tr>\n",
       "            <td>2     </td> <td>75.5  </td> <td>66.5  </td> <td>73.66          </td> <td>4       </td> <td>3       </td> <td>female</td> <td>65.5       </td> <td>70.4158        </td>\n",
       "        </tr>\n",
       "        <tr>\n",
       "            <td>2     </td> <td>75.5  </td> <td>66.5  </td> <td>73.66          </td> <td>4       </td> <td>4       </td> <td>female</td> <td>65.5       </td> <td>70.4158        </td>\n",
       "        </tr>\n",
       "        <tr>\n",
       "            <td>3     </td> <td>75    </td> <td>64    </td> <td>72.06          </td> <td>2       </td> <td>1       </td> <td>male  </td> <td>71         </td> <td>68.5025        </td>\n",
       "        </tr>\n",
       "        <tr>\n",
       "            <td>3     </td> <td>75    </td> <td>64    </td> <td>72.06          </td> <td>2       </td> <td>2       </td> <td>female</td> <td>68         </td> <td>68.5025        </td>\n",
       "        </tr>\n",
       "    </tbody>\n",
       "</table>\n",
       "<p>... (924 rows omitted)</p>"
      ],
      "text/plain": [
       "family | father | mother | midparentHeight | children | childNum | gender | childHeight | predictedHeight\n",
       "1      | 78.5   | 67     | 75.43           | 4        | 1        | male   | 73.2        | 70.1\n",
       "1      | 78.5   | 67     | 75.43           | 4        | 2        | female | 69.2        | 70.1\n",
       "1      | 78.5   | 67     | 75.43           | 4        | 3        | female | 69          | 70.1\n",
       "1      | 78.5   | 67     | 75.43           | 4        | 4        | female | 69          | 70.1\n",
       "2      | 75.5   | 66.5   | 73.66           | 4        | 1        | male   | 73.5        | 70.4158\n",
       "2      | 75.5   | 66.5   | 73.66           | 4        | 2        | male   | 72.5        | 70.4158\n",
       "2      | 75.5   | 66.5   | 73.66           | 4        | 3        | female | 65.5        | 70.4158\n",
       "2      | 75.5   | 66.5   | 73.66           | 4        | 4        | female | 65.5        | 70.4158\n",
       "3      | 75     | 64     | 72.06           | 2        | 1        | male   | 71          | 68.5025\n",
       "3      | 75     | 64     | 72.06           | 2        | 2        | female | 68          | 68.5025\n",
       "... (924 rows omitted)"
      ]
     },
     "execution_count": 47,
     "metadata": {},
     "output_type": "execute_result"
    }
   ],
   "source": [
    "galton = galton.with_column('predictedHeight', predicted_heights)\n",
    "galton"
   ]
  },
  {
   "cell_type": "code",
   "execution_count": 13,
   "metadata": {
    "scrolled": true
   },
   "outputs": [
    {
     "data": {
      "image/png": "[encoded data removed]",
      "text/plain": [
       "<Figure size 360x360 with 1 Axes>"
      ]
     },
     "metadata": {},
     "output_type": "display_data"
    }
   ],
   "source": [
    "galton.select(\n",
    "    'midparentHeight', 'childHeight', 'predictedHeight').scatter('midparentHeight')"
   ]
  },
  {
   "cell_type": "markdown",
   "metadata": {},
   "source": [
    "## Prediction Accuracy ##"
   ]
  },
  {
   "cell_type": "code",
   "execution_count": 48,
   "metadata": {},
   "outputs": [],
   "source": [
    "def difference(x, y):\n",
    "    return x - y"
   ]
  },
  {
   "cell_type": "code",
   "execution_count": 49,
   "metadata": {},
   "outputs": [
    {
     "data": {
      "text/plain": [
       "array([-3.10000000e+00,  9.00000000e-01,  1.10000000e+00,  1.10000000e+00,\n",
       "       -3.08421053e+00, -2.08421053e+00,  4.91578947e+00,  4.91578947e+00,\n",
       "       -2.49750000e+00,  5.02500000e-01, -1.99750000e+00,  2.50000000e-03,\n",
       "        1.50250000e+00,  4.00250000e+00,  5.50250000e+00, -5.56850394e+00,\n",
       "       -2.56850394e+00, -1.56850394e+00, -6.85039370e-02,  3.93149606e+00,\n",
       "        3.93149606e+00,  9.15789474e-01, -6.08421053e+00, -3.58421053e+00,\n",
       "       -2.58421053e+00, -2.58421053e+00, -8.42105263e-02,  6.41578947e+00,\n",
       "       -1.31428571e+00,  1.18571429e+00,  3.18571429e+00,  3.18571429e+00,\n",
       "        3.16052632e+00, -6.36576087e+00, -2.36576087e+00, -3.65760870e-01,\n",
       "        6.34239130e-01,  6.34239130e-01,  1.63423913e+00,  4.13423913e+00,\n",
       "        4.63423913e+00,  2.37410714e+00, -2.22571429e+00,  6.77428571e+00,\n",
       "        7.74285714e-01,  1.77428571e+00, -2.40769231e+00, -1.90769231e+00,\n",
       "        1.89230769e+00, -3.92676056e+00, -2.42676056e+00, -2.12676056e+00,\n",
       "       -2.12676056e+00, -1.12676056e+00, -6.26760563e-01,  1.57323944e+00,\n",
       "        3.57323944e+00,  4.57323944e+00, -5.94534884e+00, -4.94534884e+00,\n",
       "       -3.44534884e+00,  5.55465116e+00,  1.55465116e+00,  5.75465116e+00,\n",
       "        1.56276596e+00,  3.06276596e+00,  3.56276596e+00,  5.01678832e+00,\n",
       "       -2.78421053e+00, -2.58421053e+00, -2.28421053e+00,  4.15789474e-01,\n",
       "        1.41578947e+00,  1.91578947e+00,  2.41578947e+00,  4.41578947e+00,\n",
       "       -4.37187500e+00,  1.28125000e-01,  6.28125000e-01, -4.45806452e+00,\n",
       "       -2.45806452e+00,  1.54193548e+00, -6.53058824e+00, -2.83058824e+00,\n",
       "       -1.83058824e+00,  1.66941176e+00,  2.16941176e+00,  2.66941176e+00,\n",
       "        2.66941176e+00,  2.55357143e+00,  1.63352941e+00,  4.63352941e+00,\n",
       "       -3.13644444e+00, -3.13644444e+00, -1.63644444e+00,  2.36355556e+00,\n",
       "        4.36355556e+00, -1.63644444e+00,  3.63555556e-01,  4.36355556e+00,\n",
       "       -5.63644444e+00,  3.63555556e-01, -3.13644444e+00, -2.63644444e+00,\n",
       "        8.63555556e-01,  4.36355556e+00,  1.33529412e-01,  4.33529412e-01,\n",
       "        9.33529412e-01,  2.75884956e+00, -3.88744939e+00, -2.88744939e+00,\n",
       "       -2.88744939e+00,  1.11255061e+00,  2.11255061e+00,  2.11255061e+00,\n",
       "       -7.24115044e+00, -5.24115044e+00, -2.24115044e+00, -7.41150442e-01,\n",
       "        3.25884956e+00, -5.24115044e+00, -4.74115044e+00, -4.74115044e+00,\n",
       "       -3.24115044e+00, -1.24115044e+00,  5.36475410e-01, -9.37187500e+00,\n",
       "       -5.37187500e+00, -4.37187500e+00, -3.37187500e+00,  1.62812500e+00,\n",
       "       -5.22666667e+00, -5.02666667e+00, -1.02666667e+00,  9.73333333e-01,\n",
       "       -2.15000000e+00,  8.50000000e-01,  8.50000000e-01,  1.35000000e+00,\n",
       "       -2.15000000e+00, -1.15000000e+00, -6.50000000e-01,  1.85000000e+00,\n",
       "        3.35000000e+00,  4.85000000e+00, -3.15000000e+00,  8.50000000e-01,\n",
       "       -8.15000000e+00, -4.15000000e+00, -3.15000000e+00,  1.85000000e+00,\n",
       "        1.85000000e+00, -2.52705882e+00, -4.13388430e+00, -4.13388430e+00,\n",
       "       -3.13388430e+00, -1.13388430e+00,  1.86611570e+00,  2.86611570e+00,\n",
       "       -5.20659341e+00,  2.59340659e+00, -7.46153846e-01,  5.38461538e-02,\n",
       "       -3.27950311e-01, -3.27950311e-01,  5.67204969e+00, -6.15348837e-01,\n",
       "       -6.15348837e-01, -1.15348837e-01,  8.84651163e-01,  8.84651163e-01,\n",
       "        1.38465116e+00,  1.88465116e+00,  2.38465116e+00, -4.21680672e+00,\n",
       "       -3.21680672e+00, -2.71680672e+00,  7.83193277e-01, -6.15348837e-01,\n",
       "       -6.15348837e-01, -6.15348837e-01, -4.37530864e+00, -3.37530864e+00,\n",
       "       -2.37530864e+00,  1.62469136e+00,  3.12469136e+00,  3.12469136e+00,\n",
       "        5.62469136e+00, -5.46184971e+00,  5.53815029e+00, -6.06694561e-01,\n",
       "        2.39330544e+00, -3.88640351e+00,  1.13596491e-01,  1.11359649e+00,\n",
       "        2.11359649e+00,  3.61359649e+00, -4.25742574e+00, -3.25742574e+00,\n",
       "       -3.25742574e+00,  2.74257426e+00,  1.74257426e+00,  1.74257426e+00,\n",
       "        2.74257426e+00,  3.74257426e+00,  3.74257426e+00, -4.25742574e+00,\n",
       "       -4.25742574e+00, -3.25742574e+00,  3.24257426e+00, -4.74609053e+00,\n",
       "       -3.74609053e+00,  1.75390947e+00,  3.75390947e+00,  4.75390947e+00,\n",
       "       -5.74609053e+00, -4.24609053e+00, -4.24609053e+00,  1.75390947e+00,\n",
       "        6.25390947e+00, -3.54117647e+00,  2.45882353e+00,  2.45882353e+00,\n",
       "        2.45882353e+00,  3.95882353e+00, -4.24609053e+00, -3.74609053e+00,\n",
       "       -2.74609053e+00, -2.74609053e+00,  2.53909465e-01,  1.75390947e+00,\n",
       "        2.25390947e+00,  4.08640777e+00, -6.18426966e+00, -3.68426966e+00,\n",
       "       -2.96666667e+00, -1.96666667e+00, -9.66666667e-01, -9.66666667e-01,\n",
       "       -1.96666667e+00, -6.66666667e-01,  3.33333333e-02,  2.03333333e+00,\n",
       "        4.03333333e+00,  6.03333333e+00, -6.58809524e+00, -2.09302326e+00,\n",
       "       -1.09302326e+00,  1.90697674e+00,  3.90697674e+00,  7.90697674e+00,\n",
       "        4.06976744e-01, -5.19304348e+00, -4.19304348e+00, -4.19304348e+00,\n",
       "        1.30695652e+00, -1.39304348e+00,  6.06956522e-01,  1.30695652e+00,\n",
       "        1.80695652e+00,  1.80695652e+00,  3.60695652e+00,  4.10695652e+00,\n",
       "       -4.46184971e+00, -2.66184971e+00, -1.46184971e+00, -9.61849711e-01,\n",
       "       -4.61849711e-01,  2.53815029e+00,  6.03815029e+00,  6.53815029e+00,\n",
       "        6.53815029e+00, -5.56113990e+00, -4.56113990e+00, -3.06113990e+00,\n",
       "        2.43886010e+00,  2.43886010e+00,  2.93886010e+00,  4.43886010e+00,\n",
       "        5.43886010e+00,  4.38860104e-01,  2.43886010e+00,  2.93886010e+00,\n",
       "        4.93886010e+00,  4.93886010e+00, -2.56113990e+00, -2.56113990e+00,\n",
       "        4.38860104e-01,  2.43886010e+00,  2.43886010e+00,  4.43886010e+00,\n",
       "       -1.15611399e+01, -7.56113990e+00, -3.56113990e+00, -1.56113990e+00,\n",
       "        4.38860104e-01,  1.73886010e+00,  5.43886010e+00, -5.56113990e+00,\n",
       "       -5.06113990e+00,  2.43886010e+00, -1.56113990e+00, -1.56113990e+00,\n",
       "       -4.62589286e+00, -2.62589286e+00, -1.32589286e+00,  8.74107143e-01,\n",
       "        1.87410714e+00,  2.67410714e+00,  2.87410714e+00, -3.83076923e+00,\n",
       "       -3.13076923e+00, -1.13076923e+00, -1.30769231e-01,  8.69230769e-01,\n",
       "        1.86923077e+00, -1.30769231e-01, -3.13076923e+00, -1.13076923e+00,\n",
       "        1.69230769e-01,  1.36923077e+00, -5.02537879e+00, -3.02537879e+00,\n",
       "        4.47462121e+00,  5.77462121e+00,  6.87462121e+00, -6.89107143e+00,\n",
       "       -2.39107143e+00, -1.89107143e+00, -8.91071429e-01, -8.91071429e-01,\n",
       "       -8.91071429e-01,  1.60892857e+00,  2.10892857e+00,  7.34093264e+00,\n",
       "       -1.13076923e+00,  1.86923077e+00,  2.86923077e+00,  4.86923077e+00,\n",
       "       -4.13076923e+00, -3.13076923e+00, -3.13076923e+00, -3.13076923e+00,\n",
       "       -2.63076923e+00, -1.63076923e+00, -2.13076923e+00,  1.86923077e+00,\n",
       "        2.86923077e+00, -3.25890411e+00, -2.58904110e-01,  1.24109589e+00,\n",
       "        3.04109589e+00,  3.54109589e+00,  4.24109589e+00,  4.54109589e+00,\n",
       "        5.74109589e+00, -3.54117647e+00, -2.04117647e+00,  9.58823529e-01,\n",
       "        2.95882353e+00, -6.04117647e+00, -2.54117647e+00, -5.41176471e-01,\n",
       "        1.95882353e+00,  2.45882353e+00, -4.54117647e+00, -1.04117647e+00,\n",
       "       -1.04117647e+00,  2.95882353e+00, -1.61141732e+00, -6.11417323e-01,\n",
       "        2.68858268e+00,  4.38858268e+00, -3.61141732e+00, -1.11417323e-01,\n",
       "        4.38858268e+00,  5.38858268e+00, -5.82719298e+00, -3.82719298e+00,\n",
       "       -3.32719298e+00, -3.32719298e+00, -1.82719298e+00,  1.17280702e+00,\n",
       "        2.17280702e+00,  3.17280702e+00, -4.31141732e+00, -3.31141732e+00,\n",
       "       -2.81141732e+00,  1.18858268e+00,  2.38858268e+00,  2.88858268e+00,\n",
       "        3.18858268e+00, -5.82719298e+00, -5.82719298e+00,  6.17280702e+00,\n",
       "       -5.03812950e+00, -8.38129496e-01, -1.25760870e+00,  1.24239130e+00,\n",
       "        7.42391304e-01,  2.74239130e+00,  7.42391304e-01,  7.42391304e-01,\n",
       "       -6.29350649e+00,  7.06493506e-01,  2.20649351e+00, -7.08500000e+00,\n",
       "       -1.08500000e+00, -1.08500000e+00, -8.50000000e-02,  1.91500000e+00,\n",
       "       -7.01194030e+00, -3.01194030e+00, -2.01194030e+00,  1.98805970e+00,\n",
       "        1.98805970e+00,  2.48805970e+00,  2.98805970e+00,  2.98805970e+00,\n",
       "        3.98805970e+00,  3.98805970e+00,  3.78319328e+00, -5.52446809e+00,\n",
       "       -4.52446809e+00, -4.22446809e+00, -4.02446809e+00,  1.97553191e+00,\n",
       "        2.47553191e+00,  4.77553191e+00,  4.97553191e+00, -3.72446809e+00,\n",
       "       -3.52446809e+00, -2.52446809e+00, -7.36576087e+00, -6.36576087e+00,\n",
       "       -4.36576087e+00, -8.65760870e-01, -2.52446809e+00, -1.02446809e+00,\n",
       "       -5.24468085e-01,  2.47553191e+00,  4.47553191e+00,  4.97553191e+00,\n",
       "       -5.40165746e+00, -3.40165746e+00, -2.90165746e+00, -2.90165746e+00,\n",
       "        5.98342541e-01,  1.59834254e+00,  6.59834254e+00, -2.70538462e+00,\n",
       "        2.94615385e-01,  3.29461538e+00,  3.79461538e+00, -3.40165746e+00,\n",
       "       -9.01657459e-01,  9.83425414e-02,  1.59834254e+00,  4.59834254e+00,\n",
       "        4.59834254e+00, -3.40165746e+00, -3.40165746e+00, -2.90165746e+00,\n",
       "       -2.90165746e+00,  1.09834254e+00,  2.09834254e+00,  3.09834254e+00,\n",
       "       -5.52446809e+00, -4.52446809e+00, -1.52446809e+00, -1.52446809e+00,\n",
       "        9.75531915e-01,  1.97553191e+00,  1.97553191e+00,  2.47553191e+00,\n",
       "        3.47553191e+00, -3.15280374e+00, -1.65280374e+00, -1.52803738e-01,\n",
       "        1.84719626e+00,  2.84719626e+00,  3.34719626e+00,  5.84719626e+00,\n",
       "       -2.82420091e+00, -1.12420091e+00,  6.87579909e+00,  1.67579909e+00,\n",
       "        2.37579909e+00,  3.17579909e+00,  6.87579909e+00, -5.21481481e+00,\n",
       "       -1.48148148e-02,  1.48518519e+00,  2.98518519e+00,  7.24888889e-01,\n",
       "       -2.96454545e+00, -1.46454545e+00,  2.53545455e+00, -5.96454545e+00,\n",
       "       -6.96454545e+00, -3.96454545e+00, -3.96454545e+00,  2.03545455e+00,\n",
       "        3.54545455e-02,  4.03545455e+00, -4.27511111e+00, -7.75111111e-01,\n",
       "        2.24888889e-01,  1.22488889e+00,  3.22488889e+00,  4.22488889e+00,\n",
       "        5.22488889e+00, -4.27511111e+00,  2.52488889e+00,  3.22488889e+00,\n",
       "        3.72328042e+00, -6.71807910e+00, -5.71807910e+00, -2.71807910e+00,\n",
       "       -6.75954198e+00, -4.75954198e+00, -4.75954198e+00, -2.75954198e+00,\n",
       "        3.24045802e+00, -5.71807910e+00, -3.71807910e+00, -1.51807910e+00,\n",
       "        1.08192090e+00,  1.58192090e+00,  1.78192090e+00,  2.78192090e+00,\n",
       "        2.78192090e+00,  3.78192090e+00,  4.28192090e+00,  4.78192090e+00,\n",
       "       -4.63351064e+00, -3.63351064e+00, -3.63351064e+00, -2.63351064e+00,\n",
       "        2.86648936e+00,  3.86648936e+00,  3.86648936e+00,  4.36648936e+00,\n",
       "       -5.75954198e+00, -1.75954198e+00,  2.40458015e-01,  2.40458015e-01,\n",
       "       -3.86923077e+00, -3.36923077e+00, -2.86923077e+00,  3.13076923e+00,\n",
       "        4.13076923e+00, -2.23411765e+00, -2.23411765e+00, -1.73411765e+00,\n",
       "        1.76588235e+00,  2.76588235e+00,  2.76588235e+00,  2.26588235e+00,\n",
       "        3.76588235e+00,  3.76588235e+00, -5.24880952e+00, -2.74880952e+00,\n",
       "        2.75119048e+00, -3.74880952e+00, -7.48809524e-01,  3.55119048e+00,\n",
       "        4.75119048e+00, -3.85063291e+00, -2.43809524e+00,  6.86190476e+00,\n",
       "       -5.38750000e+00, -3.38750000e+00,  6.12500000e-01, -2.52446809e+00,\n",
       "       -1.52446809e+00, -1.52446809e+00, -1.22446809e+00, -1.02446809e+00,\n",
       "       -1.02446809e+00, -5.24468085e-01, -5.24468085e-01, -5.24468085e-01,\n",
       "        1.27553191e+00,  4.27553191e+00, -1.06850394e+00,  4.31496063e-01,\n",
       "        7.10526316e-01,  2.71052632e+00, -4.98947368e+00, -4.78947368e+00,\n",
       "       -3.98947368e+00,  1.21052632e+00,  2.10526316e-01,  1.51052632e+00,\n",
       "        5.21052632e+00, -5.56850394e+00, -5.56850394e+00, -1.56850394e+00,\n",
       "        4.31496063e-01, -2.59958159e+00, -1.39958159e+00,  6.00418410e-01,\n",
       "        6.00418410e-01,  4.60041841e+00,  5.10041841e+00,  5.60041841e+00,\n",
       "        6.60041841e+00, -5.39958159e+00, -3.89958159e+00, -2.09958159e+00,\n",
       "       -1.89958159e+00, -1.09958159e+00,  2.60041841e+00,  3.10041841e+00,\n",
       "        3.60041841e+00, -4.98250000e+00, -1.98250000e+00, -1.98250000e+00,\n",
       "       -9.82500000e-01,  1.01750000e+00,  2.01750000e+00,  3.01750000e+00,\n",
       "        3.01750000e+00,  4.01750000e+00,  5.01750000e+00,  1.75000000e-02,\n",
       "        3.01750000e+00,  5.17500000e-01,  4.01750000e+00, -5.18250000e+00,\n",
       "       -5.18250000e+00, -2.98250000e+00, -2.48250000e+00,  3.51750000e+00,\n",
       "        4.24497817e+00, -2.98250000e+00, -9.82500000e-01,  1.75000000e-02,\n",
       "        1.75000000e-02,  1.75000000e-02,  1.01750000e+00,  1.01750000e+00,\n",
       "        1.01750000e+00,  2.01750000e+00,  3.01750000e+00, -4.25954198e+00,\n",
       "       -3.75954198e+00, -1.75954198e+00,  2.40458015e-01,  2.40458015e-01,\n",
       "        2.40458015e-01,  4.24045802e+00,  4.74045802e+00, -7.48250000e+00,\n",
       "       -3.98250000e+00, -3.48250000e+00,  5.17500000e-01, -7.59541985e-01,\n",
       "       -3.75954198e+00, -1.75954198e+00,  1.74045802e+00,  2.24045802e+00,\n",
       "       -4.75954198e+00, -1.75954198e+00,  2.40458015e-01,  7.40458015e-01,\n",
       "        1.24045802e+00,  3.24045802e+00,  4.24045802e+00,  4.24045802e+00,\n",
       "       -7.59541985e-01, -7.59541985e-01,  2.40458015e-01,  2.24045802e+00,\n",
       "        2.74045802e+00,  5.24045802e+00, -2.18250000e+00, -3.75954198e+00,\n",
       "       -3.91359223e+00, -2.91359223e+00, -9.13592233e-01,  5.86407767e-01,\n",
       "        1.58640777e+00, -2.42460317e+00, -1.53095238e+00,  4.46904762e+00,\n",
       "       -4.24603175e-01, -2.83417722e+00, -2.33417722e+00,  1.66582278e+00,\n",
       "        2.16582278e+00,  2.66582278e+00, -1.48309859e+00,  1.26346154e+00,\n",
       "        4.26346154e+00,  4.26346154e+00,  5.26346154e+00,  5.26346154e+00,\n",
       "        5.26346154e+00,  9.26346154e+00, -2.23653846e+00, -1.73653846e+00,\n",
       "       -1.23653846e+00,  5.26346154e+00, -4.17454545e+00, -2.63200000e+00,\n",
       "        3.68000000e-01,  6.68000000e-01,  1.36800000e+00,  1.36800000e+00,\n",
       "        2.36800000e+00,  3.68000000e-01,  3.68000000e-01,  3.36800000e+00,\n",
       "        4.36800000e+00, -6.24117647e+00, -6.24117647e+00, -5.04117647e+00,\n",
       "        9.58823529e-01,  2.95882353e+00, -4.25890411e+00, -6.54370079e+00,\n",
       "       -4.54370079e+00, -4.24370079e+00, -3.54370079e+00, -2.54370079e+00,\n",
       "       -1.54370079e+00,  9.56299213e-01,  4.45629921e+00, -3.71732673e+00,\n",
       "       -1.51732673e+00,  4.82673267e-01,  9.82673267e-01,  1.48267327e+00,\n",
       "        2.48267327e+00, -3.68644068e+00, -2.68644068e+00,  8.13559322e-01,\n",
       "        8.13559322e-01,  3.31355932e+00, -3.68644068e+00, -1.38644068e+00,\n",
       "        3.31355932e+00,  6.31355932e+00,  9.82673267e-01,  3.98267327e+00,\n",
       "        3.98267327e+00, -4.73859649e+00, -2.73859649e+00,  2.26140351e+00,\n",
       "        2.26140351e+00,  3.26140351e+00,  3.26140351e+00,  3.26140351e+00,\n",
       "        3.26140351e+00,  3.26140351e+00,  3.76140351e+00,  4.26140351e+00,\n",
       "       -5.05804196e+00, -3.55804196e+00, -5.58041958e-01, -5.58041958e-01,\n",
       "       -4.87656250e+00, -4.07656250e+00, -3.07656250e+00, -2.37656250e+00,\n",
       "       -1.87656250e+00, -8.76562500e-01,  6.23437500e-01,  2.62343750e+00,\n",
       "       -2.70476190e+00, -1.70476190e+00,  3.29523810e+00, -4.28809524e+00,\n",
       "       -3.78809524e+00, -3.28809524e+00, -2.78809524e+00, -2.88095238e-01,\n",
       "       -1.71355932e+00, -4.04153226e+00, -4.04153226e+00, -5.41532258e-01,\n",
       "        4.58467742e-01,  4.58467742e-01,  4.45846774e+00,  4.45846774e+00,\n",
       "        4.95846774e+00, -5.54153226e+00,  1.45846774e+00,  1.45846774e+00,\n",
       "       -5.41532258e-01,  2.45846774e+00,  2.45846774e+00,  4.45846774e+00,\n",
       "        6.45846774e+00,  6.45846774e+00,  5.76923077e-02,  1.05769231e+00,\n",
       "       -9.42307692e-01, -4.42307692e-01,  5.57692308e-01, -5.94230769e+00,\n",
       "       -1.94230769e+00,  5.76923077e-02,  1.05769231e+00,  4.05769231e+00,\n",
       "        5.05769231e+00, -2.48297872e+00, -2.28297872e+00, -2.82978723e-01,\n",
       "        1.71702128e+00,  3.71702128e+00,  5.71702128e+00,  5.71702128e+00,\n",
       "        8.71702128e+00, -5.88793970e+00, -4.88793970e+00, -8.87939698e-01,\n",
       "        1.12060302e-01,  1.11206030e+00, -4.47790698e+00,  1.11341463e+00,\n",
       "        3.61341463e+00, -1.44651163e+00, -1.24651163e+00,  7.53488372e-01,\n",
       "        7.53488372e-01,  7.53488372e-01,  2.75348837e+00, -4.46436782e+00,\n",
       "       -2.46436782e+00,  2.03563218e+00,  3.03563218e+00,  3.03563218e+00,\n",
       "        3.03563218e+00,  3.03563218e+00, -5.30344828e+00, -3.24166667e+00,\n",
       "       -2.24166667e+00, -2.41666667e-01,  4.75833333e+00, -2.41666667e-01,\n",
       "       -4.03333333e+00, -3.03333333e+00, -2.53333333e+00, -2.03333333e+00,\n",
       "       -1.73333333e+00, -1.53333333e+00, -1.03333333e+00, -1.03333333e+00,\n",
       "       -3.33333333e-02,  9.66666667e-01,  1.96666667e+00,  2.96666667e+00,\n",
       "        3.96666667e+00,  5.96666667e+00,  6.96666667e+00, -2.30331754e-01,\n",
       "        2.69668246e-01,  2.69668246e-01,  1.26966825e+00,  3.26966825e+00,\n",
       "        3.35481928e+00,  3.35481928e+00,  3.35481928e+00,  6.35481928e+00,\n",
       "       -6.45180723e-01,  3.54819277e-01,  1.35481928e+00,  1.35481928e+00,\n",
       "        5.35481928e+00, -2.63486239e+00, -1.63486239e+00, -1.63486239e+00,\n",
       "        1.36513761e+00,  1.36513761e+00,  4.36513761e+00,  4.36513761e+00,\n",
       "        5.36513761e+00,  7.36513761e+00, -4.70740741e+00,  4.92592593e-01,\n",
       "       -2.83486239e+00, -2.63486239e+00, -1.63486239e+00, -1.33486239e+00,\n",
       "        1.86513761e+00,  5.86513761e+00, -1.44166667e+00, -1.44166667e+00,\n",
       "        1.55833333e+00,  1.55833333e+00,  3.05833333e+00,  5.05833333e+00,\n",
       "       -4.78309859e+00,  2.21690141e+00, -7.83098592e-01, -7.83098592e-01,\n",
       "        2.21690141e+00, -5.63703704e+00, -5.63703704e+00, -3.63703704e+00,\n",
       "        1.86296296e+00, -3.77037037e+00, -3.77037037e+00, -2.77037037e+00,\n",
       "       -2.77037037e+00,  2.22962963e+00, -6.20563380e+00, -2.70563380e+00,\n",
       "       -2.05633803e-01,  1.29436620e+00,  3.29436620e+00,  3.29436620e+00,\n",
       "        4.29436620e+00, -5.20563380e+00, -2.70563380e+00, -1.70563380e+00,\n",
       "        2.94366197e-01,  1.29436620e+00,  1.29436620e+00,  5.29436620e+00,\n",
       "       -7.87878788e-02, -2.48823529e+00,  3.51176471e+00, -3.39000000e+00,\n",
       "        1.61000000e+00,  1.15657895e+00,  3.15657895e+00,  4.15657895e+00,\n",
       "       -2.27037037e+00,  7.22962963e+00])"
      ]
     },
     "execution_count": 49,
     "metadata": {},
     "output_type": "execute_result"
    }
   ],
   "source": [
    "pred_errs = galton.apply(difference, 'predictedHeight', 'childHeight')\n",
    "pred_errs"
   ]
  },
  {
   "cell_type": "code",
   "execution_count": 50,
   "metadata": {},
   "outputs": [
    {
     "data": {
      "text/html": [
       "<table border=\"1\" class=\"dataframe\">\n",
       "    <thead>\n",
       "        <tr>\n",
       "            <th>family</th> <th>father</th> <th>mother</th> <th>midparentHeight</th> <th>children</th> <th>childNum</th> <th>gender</th> <th>childHeight</th> <th>predictedHeight</th> <th>errors</th>\n",
       "        </tr>\n",
       "    </thead>\n",
       "    <tbody>\n",
       "        <tr>\n",
       "            <td>1     </td> <td>78.5  </td> <td>67    </td> <td>75.43          </td> <td>4       </td> <td>1       </td> <td>male  </td> <td>73.2       </td> <td>70.1           </td> <td>-3.1    </td>\n",
       "        </tr>\n",
       "        <tr>\n",
       "            <td>1     </td> <td>78.5  </td> <td>67    </td> <td>75.43          </td> <td>4       </td> <td>2       </td> <td>female</td> <td>69.2       </td> <td>70.1           </td> <td>0.9     </td>\n",
       "        </tr>\n",
       "        <tr>\n",
       "            <td>1     </td> <td>78.5  </td> <td>67    </td> <td>75.43          </td> <td>4       </td> <td>3       </td> <td>female</td> <td>69         </td> <td>70.1           </td> <td>1.1     </td>\n",
       "        </tr>\n",
       "        <tr>\n",
       "            <td>1     </td> <td>78.5  </td> <td>67    </td> <td>75.43          </td> <td>4       </td> <td>4       </td> <td>female</td> <td>69         </td> <td>70.1           </td> <td>1.1     </td>\n",
       "        </tr>\n",
       "        <tr>\n",
       "            <td>2     </td> <td>75.5  </td> <td>66.5  </td> <td>73.66          </td> <td>4       </td> <td>1       </td> <td>male  </td> <td>73.5       </td> <td>70.4158        </td> <td>-3.08421</td>\n",
       "        </tr>\n",
       "        <tr>\n",
       "            <td>2     </td> <td>75.5  </td> <td>66.5  </td> <td>73.66          </td> <td>4       </td> <td>2       </td> <td>male  </td> <td>72.5       </td> <td>70.4158        </td> <td>-2.08421</td>\n",
       "        </tr>\n",
       "        <tr>\n",
       "            <td>2     </td> <td>75.5  </td> <td>66.5  </td> <td>73.66          </td> <td>4       </td> <td>3       </td> <td>female</td> <td>65.5       </td> <td>70.4158        </td> <td>4.91579 </td>\n",
       "        </tr>\n",
       "        <tr>\n",
       "            <td>2     </td> <td>75.5  </td> <td>66.5  </td> <td>73.66          </td> <td>4       </td> <td>4       </td> <td>female</td> <td>65.5       </td> <td>70.4158        </td> <td>4.91579 </td>\n",
       "        </tr>\n",
       "        <tr>\n",
       "            <td>3     </td> <td>75    </td> <td>64    </td> <td>72.06          </td> <td>2       </td> <td>1       </td> <td>male  </td> <td>71         </td> <td>68.5025        </td> <td>-2.4975 </td>\n",
       "        </tr>\n",
       "        <tr>\n",
       "            <td>3     </td> <td>75    </td> <td>64    </td> <td>72.06          </td> <td>2       </td> <td>2       </td> <td>female</td> <td>68         </td> <td>68.5025        </td> <td>0.5025  </td>\n",
       "        </tr>\n",
       "    </tbody>\n",
       "</table>\n",
       "<p>... (924 rows omitted)</p>"
      ],
      "text/plain": [
       "family | father | mother | midparentHeight | children | childNum | gender | childHeight | predictedHeight | errors\n",
       "1      | 78.5   | 67     | 75.43           | 4        | 1        | male   | 73.2        | 70.1            | -3.1\n",
       "1      | 78.5   | 67     | 75.43           | 4        | 2        | female | 69.2        | 70.1            | 0.9\n",
       "1      | 78.5   | 67     | 75.43           | 4        | 3        | female | 69          | 70.1            | 1.1\n",
       "1      | 78.5   | 67     | 75.43           | 4        | 4        | female | 69          | 70.1            | 1.1\n",
       "2      | 75.5   | 66.5   | 73.66           | 4        | 1        | male   | 73.5        | 70.4158         | -3.08421\n",
       "2      | 75.5   | 66.5   | 73.66           | 4        | 2        | male   | 72.5        | 70.4158         | -2.08421\n",
       "2      | 75.5   | 66.5   | 73.66           | 4        | 3        | female | 65.5        | 70.4158         | 4.91579\n",
       "2      | 75.5   | 66.5   | 73.66           | 4        | 4        | female | 65.5        | 70.4158         | 4.91579\n",
       "3      | 75     | 64     | 72.06           | 2        | 1        | male   | 71          | 68.5025         | -2.4975\n",
       "3      | 75     | 64     | 72.06           | 2        | 2        | female | 68          | 68.5025         | 0.5025\n",
       "... (924 rows omitted)"
      ]
     },
     "execution_count": 50,
     "metadata": {},
     "output_type": "execute_result"
    }
   ],
   "source": [
    "galton = galton.with_column('errors',pred_errs)\n",
    "galton"
   ]
  },
  {
   "cell_type": "code",
   "execution_count": 51,
   "metadata": {},
   "outputs": [
    {
     "data": {
      "image/png": "[encoded data removed]",
      "text/plain": [
       "<Figure size 432x288 with 1 Axes>"
      ]
     },
     "metadata": {},
     "output_type": "display_data"
    }
   ],
   "source": [
    "galton.hist('errors')"
   ]
  },
  {
   "cell_type": "code",
   "execution_count": 52,
   "metadata": {},
   "outputs": [
    {
     "data": {
      "image/png": "[encoded data removed]",
      "text/plain": [
       "<Figure size 432x288 with 1 Axes>"
      ]
     },
     "metadata": {},
     "output_type": "display_data"
    }
   ],
   "source": [
    "galton.hist('errors', group='gender')"
   ]
  },
  {
   "cell_type": "markdown",
   "metadata": {},
   "source": [
    "# Discussion Question"
   ]
  },
  {
   "cell_type": "code",
   "execution_count": 54,
   "metadata": {},
   "outputs": [],
   "source": [
    "def predict_smarter(h, g):\n",
    "    nearby = galton.where('midparentHeight', are.between(h - 1/2, h + 1/2))\n",
    "    nearby_same_gender = nearby.where('gender', g)\n",
    "    return nearby_same_gender.column('childHeight').mean()"
   ]
  },
  {
   "cell_type": "code",
   "execution_count": 55,
   "metadata": {},
   "outputs": [
    {
     "data": {
      "text/plain": [
       "62.909259259259265"
      ]
     },
     "execution_count": 55,
     "metadata": {},
     "output_type": "execute_result"
    }
   ],
   "source": [
    "predict_smarter(68, 'female')"
   ]
  },
  {
   "cell_type": "code",
   "execution_count": 56,
   "metadata": {},
   "outputs": [
    {
     "data": {
      "text/plain": [
       "68.57662337662337"
      ]
     },
     "execution_count": 56,
     "metadata": {},
     "output_type": "execute_result"
    }
   ],
   "source": [
    "predict_smarter(68, 'male')"
   ]
  },
  {
   "cell_type": "code",
   "execution_count": 4,
   "metadata": {},
   "outputs": [
    {
     "ename": "NameError",
     "evalue": "name 'predict_smarter' is not defined",
     "output_type": "error",
     "traceback": [
      "\u001b[0;31m---------------------------------------------------------------------------\u001b[0m",
      "\u001b[0;31mNameError\u001b[0m                                 Traceback (most recent call last)",
      "\u001b[0;32m<ipython-input-4-7fd418c9254e>\u001b[0m in \u001b[0;36m<module>\u001b[0;34m\u001b[0m\n\u001b[0;32m----> 1\u001b[0;31m \u001b[0msmarter_predicted_heights\u001b[0m \u001b[0;34m=\u001b[0m \u001b[0mgalton\u001b[0m\u001b[0;34m.\u001b[0m\u001b[0mapply\u001b[0m\u001b[0;34m(\u001b[0m\u001b[0mpredict_smarter\u001b[0m\u001b[0;34m,\u001b[0m \u001b[0;34m'midparentHeight'\u001b[0m\u001b[0;34m,\u001b[0m \u001b[0;34m'gender'\u001b[0m\u001b[0;34m)\u001b[0m\u001b[0;34m\u001b[0m\u001b[0;34m\u001b[0m\u001b[0m\n\u001b[0m\u001b[1;32m      2\u001b[0m \u001b[0mgalton\u001b[0m \u001b[0;34m=\u001b[0m \u001b[0mgalton\u001b[0m\u001b[0;34m.\u001b[0m\u001b[0mwith_column\u001b[0m\u001b[0;34m(\u001b[0m\u001b[0;34m'smartPredictedHeight'\u001b[0m\u001b[0;34m,\u001b[0m \u001b[0msmarter_predicted_heights\u001b[0m\u001b[0;34m)\u001b[0m\u001b[0;34m\u001b[0m\u001b[0;34m\u001b[0m\u001b[0m\n\u001b[1;32m      3\u001b[0m \u001b[0mgalton\u001b[0m\u001b[0;34m\u001b[0m\u001b[0;34m\u001b[0m\u001b[0m\n",
      "\u001b[0;31mNameError\u001b[0m: name 'predict_smarter' is not defined"
     ]
    }
   ],
   "source": [
    "smarter_predicted_heights = galton.apply(predict_smarter, 'midparentHeight', 'gender')\n",
    "galton = galton.with_column('smartPredictedHeight', smarter_predicted_heights)\n",
    "galton"
   ]
  },
  {
   "cell_type": "code",
   "execution_count": 61,
   "metadata": {},
   "outputs": [
    {
     "data": {
      "text/html": [
       "<table border=\"1\" class=\"dataframe\">\n",
       "    <thead>\n",
       "        <tr>\n",
       "            <th>family</th> <th>father</th> <th>mother</th> <th>midparentHeight</th> <th>children</th> <th>childNum</th> <th>gender</th> <th>childHeight</th> <th>predictedHeight</th> <th>errors</th> <th>smartPredictedHeight</th> <th>smartErrors</th>\n",
       "        </tr>\n",
       "    </thead>\n",
       "    <tbody>\n",
       "        <tr>\n",
       "            <td>1     </td> <td>78.5  </td> <td>67    </td> <td>75.43          </td> <td>4       </td> <td>1       </td> <td>male  </td> <td>73.2       </td> <td>70.1           </td> <td>-3.1    </td> <td>73.2                </td> <td>0          </td>\n",
       "        </tr>\n",
       "        <tr>\n",
       "            <td>1     </td> <td>78.5  </td> <td>67    </td> <td>75.43          </td> <td>4       </td> <td>2       </td> <td>female</td> <td>69.2       </td> <td>70.1           </td> <td>0.9     </td> <td>69.0667             </td> <td>0.133333   </td>\n",
       "        </tr>\n",
       "        <tr>\n",
       "            <td>1     </td> <td>78.5  </td> <td>67    </td> <td>75.43          </td> <td>4       </td> <td>3       </td> <td>female</td> <td>69         </td> <td>70.1           </td> <td>1.1     </td> <td>69.0667             </td> <td>-0.0666667 </td>\n",
       "        </tr>\n",
       "        <tr>\n",
       "            <td>1     </td> <td>78.5  </td> <td>67    </td> <td>75.43          </td> <td>4       </td> <td>4       </td> <td>female</td> <td>69         </td> <td>70.1           </td> <td>1.1     </td> <td>69.0667             </td> <td>-0.0666667 </td>\n",
       "        </tr>\n",
       "        <tr>\n",
       "            <td>2     </td> <td>75.5  </td> <td>66.5  </td> <td>73.66          </td> <td>4       </td> <td>1       </td> <td>male  </td> <td>73.5       </td> <td>70.4158        </td> <td>-3.08421</td> <td>73.4889             </td> <td>0.0111111  </td>\n",
       "        </tr>\n",
       "        <tr>\n",
       "            <td>2     </td> <td>75.5  </td> <td>66.5  </td> <td>73.66          </td> <td>4       </td> <td>2       </td> <td>male  </td> <td>72.5       </td> <td>70.4158        </td> <td>-2.08421</td> <td>73.4889             </td> <td>-0.988889  </td>\n",
       "        </tr>\n",
       "        <tr>\n",
       "            <td>2     </td> <td>75.5  </td> <td>66.5  </td> <td>73.66          </td> <td>4       </td> <td>3       </td> <td>female</td> <td>65.5       </td> <td>70.4158        </td> <td>4.91579 </td> <td>67.65               </td> <td>-2.15      </td>\n",
       "        </tr>\n",
       "        <tr>\n",
       "            <td>2     </td> <td>75.5  </td> <td>66.5  </td> <td>73.66          </td> <td>4       </td> <td>4       </td> <td>female</td> <td>65.5       </td> <td>70.4158        </td> <td>4.91579 </td> <td>67.65               </td> <td>-2.15      </td>\n",
       "        </tr>\n",
       "        <tr>\n",
       "            <td>3     </td> <td>75    </td> <td>64    </td> <td>72.06          </td> <td>2       </td> <td>1       </td> <td>male  </td> <td>71         </td> <td>68.5025        </td> <td>-2.4975 </td> <td>70.7955             </td> <td>0.204545   </td>\n",
       "        </tr>\n",
       "        <tr>\n",
       "            <td>3     </td> <td>75    </td> <td>64    </td> <td>72.06          </td> <td>2       </td> <td>2       </td> <td>female</td> <td>68         </td> <td>68.5025        </td> <td>0.5025  </td> <td>65.7                </td> <td>2.3        </td>\n",
       "        </tr>\n",
       "    </tbody>\n",
       "</table>\n",
       "<p>... (924 rows omitted)</p>"
      ],
      "text/plain": [
       "family | father | mother | midparentHeight | children | childNum | gender | childHeight | predictedHeight | errors   | smartPredictedHeight | smartErrors\n",
       "1      | 78.5   | 67     | 75.43           | 4        | 1        | male   | 73.2        | 70.1            | -3.1     | 73.2                 | 0\n",
       "1      | 78.5   | 67     | 75.43           | 4        | 2        | female | 69.2        | 70.1            | 0.9      | 69.0667              | 0.133333\n",
       "1      | 78.5   | 67     | 75.43           | 4        | 3        | female | 69          | 70.1            | 1.1      | 69.0667              | -0.0666667\n",
       "1      | 78.5   | 67     | 75.43           | 4        | 4        | female | 69          | 70.1            | 1.1      | 69.0667              | -0.0666667\n",
       "2      | 75.5   | 66.5   | 73.66           | 4        | 1        | male   | 73.5        | 70.4158         | -3.08421 | 73.4889              | 0.0111111\n",
       "2      | 75.5   | 66.5   | 73.66           | 4        | 2        | male   | 72.5        | 70.4158         | -2.08421 | 73.4889              | -0.988889\n",
       "2      | 75.5   | 66.5   | 73.66           | 4        | 3        | female | 65.5        | 70.4158         | 4.91579  | 67.65                | -2.15\n",
       "2      | 75.5   | 66.5   | 73.66           | 4        | 4        | female | 65.5        | 70.4158         | 4.91579  | 67.65                | -2.15\n",
       "3      | 75     | 64     | 72.06           | 2        | 1        | male   | 71          | 68.5025         | -2.4975  | 70.7955              | 0.204545\n",
       "3      | 75     | 64     | 72.06           | 2        | 2        | female | 68          | 68.5025         | 0.5025   | 65.7                 | 2.3\n",
       "... (924 rows omitted)"
      ]
     },
     "execution_count": 61,
     "metadata": {},
     "output_type": "execute_result"
    }
   ],
   "source": [
    "smarter_pred_errs = galton.apply(difference, 'childHeight', 'smartPredictedHeight')\n",
    "galton = galton.with_column('smartErrors', smarter_pred_errs)\n",
    "galton"
   ]
  },
  {
   "cell_type": "code",
   "execution_count": 59,
   "metadata": {},
   "outputs": [
    {
     "data": {
      "image/png": "[encoded data removed]",
      "text/plain": [
       "<Figure size 432x288 with 1 Axes>"
      ]
     },
     "metadata": {},
     "output_type": "display_data"
    }
   ],
   "source": [
    "galton.hist('smartErrors', group='gender')"
   ]
  },
  {
   "cell_type": "markdown",
   "metadata": {},
   "source": [
    "## Grouping by One Column ##"
   ]
  },
  {
   "cell_type": "code",
   "execution_count": 94,
   "metadata": {},
   "outputs": [],
   "source": [
    "cones = Table.read_table('cones.csv')"
   ]
  },
  {
   "cell_type": "code",
   "execution_count": 26,
   "metadata": {},
   "outputs": [
    {
     "data": {
      "text/html": [
       "<table border=\"1\" class=\"dataframe\">\n",
       "    <thead>\n",
       "        <tr>\n",
       "            <th>Flavor</th> <th>Color</th> <th>Price</th>\n",
       "        </tr>\n",
       "    </thead>\n",
       "    <tbody>\n",
       "        <tr>\n",
       "            <td>strawberry</td> <td>pink       </td> <td>3.55 </td>\n",
       "        </tr>\n",
       "        <tr>\n",
       "            <td>chocolate </td> <td>light brown</td> <td>4.75 </td>\n",
       "        </tr>\n",
       "        <tr>\n",
       "            <td>chocolate </td> <td>dark brown </td> <td>5.25 </td>\n",
       "        </tr>\n",
       "        <tr>\n",
       "            <td>strawberry</td> <td>pink       </td> <td>5.25 </td>\n",
       "        </tr>\n",
       "        <tr>\n",
       "            <td>chocolate </td> <td>dark brown </td> <td>5.25 </td>\n",
       "        </tr>\n",
       "        <tr>\n",
       "            <td>bubblegum </td> <td>pink       </td> <td>4.75 </td>\n",
       "        </tr>\n",
       "    </tbody>\n",
       "</table>"
      ],
      "text/plain": [
       "Flavor     | Color       | Price\n",
       "strawberry | pink        | 3.55\n",
       "chocolate  | light brown | 4.75\n",
       "chocolate  | dark brown  | 5.25\n",
       "strawberry | pink        | 5.25\n",
       "chocolate  | dark brown  | 5.25\n",
       "bubblegum  | pink        | 4.75"
      ]
     },
     "execution_count": 26,
     "metadata": {},
     "output_type": "execute_result"
    }
   ],
   "source": [
    "cones"
   ]
  },
  {
   "cell_type": "code",
   "execution_count": 27,
   "metadata": {},
   "outputs": [
    {
     "data": {
      "text/html": [
       "<table border=\"1\" class=\"dataframe\">\n",
       "    <thead>\n",
       "        <tr>\n",
       "            <th>Flavor</th> <th>count</th>\n",
       "        </tr>\n",
       "    </thead>\n",
       "    <tbody>\n",
       "        <tr>\n",
       "            <td>bubblegum </td> <td>1    </td>\n",
       "        </tr>\n",
       "        <tr>\n",
       "            <td>chocolate </td> <td>3    </td>\n",
       "        </tr>\n",
       "        <tr>\n",
       "            <td>strawberry</td> <td>2    </td>\n",
       "        </tr>\n",
       "    </tbody>\n",
       "</table>"
      ],
      "text/plain": [
       "Flavor     | count\n",
       "bubblegum  | 1\n",
       "chocolate  | 3\n",
       "strawberry | 2"
      ]
     },
     "execution_count": 27,
     "metadata": {},
     "output_type": "execute_result"
    }
   ],
   "source": [
    "cones.group('Flavor')"
   ]
  },
  {
   "cell_type": "code",
   "execution_count": 28,
   "metadata": {
    "scrolled": true
   },
   "outputs": [
    {
     "data": {
      "text/html": [
       "<table border=\"1\" class=\"dataframe\">\n",
       "    <thead>\n",
       "        <tr>\n",
       "            <th>Flavor</th> <th>Price average</th>\n",
       "        </tr>\n",
       "    </thead>\n",
       "    <tbody>\n",
       "        <tr>\n",
       "            <td>bubblegum </td> <td>4.75         </td>\n",
       "        </tr>\n",
       "        <tr>\n",
       "            <td>chocolate </td> <td>5.08333      </td>\n",
       "        </tr>\n",
       "        <tr>\n",
       "            <td>strawberry</td> <td>4.4          </td>\n",
       "        </tr>\n",
       "    </tbody>\n",
       "</table>"
      ],
      "text/plain": [
       "Flavor     | Price average\n",
       "bubblegum  | 4.75\n",
       "chocolate  | 5.08333\n",
       "strawberry | 4.4"
      ]
     },
     "execution_count": 28,
     "metadata": {},
     "output_type": "execute_result"
    }
   ],
   "source": [
    "cones.drop('Color').group('Flavor', np.average)"
   ]
  },
  {
   "cell_type": "code",
   "execution_count": 29,
   "metadata": {},
   "outputs": [
    {
     "data": {
      "text/html": [
       "<table border=\"1\" class=\"dataframe\">\n",
       "    <thead>\n",
       "        <tr>\n",
       "            <th>Flavor</th> <th>Price min</th>\n",
       "        </tr>\n",
       "    </thead>\n",
       "    <tbody>\n",
       "        <tr>\n",
       "            <td>bubblegum </td> <td>4.75     </td>\n",
       "        </tr>\n",
       "        <tr>\n",
       "            <td>chocolate </td> <td>4.75     </td>\n",
       "        </tr>\n",
       "        <tr>\n",
       "            <td>strawberry</td> <td>3.55     </td>\n",
       "        </tr>\n",
       "    </tbody>\n",
       "</table>"
      ],
      "text/plain": [
       "Flavor     | Price min\n",
       "bubblegum  | 4.75\n",
       "chocolate  | 4.75\n",
       "strawberry | 3.55"
      ]
     },
     "execution_count": 29,
     "metadata": {},
     "output_type": "execute_result"
    }
   ],
   "source": [
    "cones.drop('Color').group('Flavor', min)"
   ]
  },
  {
   "cell_type": "markdown",
   "metadata": {},
   "source": [
    "## Grouping By One Column: Welcome Survey ##"
   ]
  },
  {
   "cell_type": "code",
   "execution_count": 55,
   "metadata": {},
   "outputs": [],
   "source": [
    "survey = Table.read_table('welcome_survey_v2.csv')"
   ]
  },
  {
   "cell_type": "code",
   "execution_count": 56,
   "metadata": {},
   "outputs": [
    {
     "data": {
      "text/html": [
       "<table border=\"1\" class=\"dataframe\">\n",
       "    <thead>\n",
       "        <tr>\n",
       "            <th>Year</th> <th>Extraversion average</th> <th>Number of textees average</th> <th>Hours of sleep average</th>\n",
       "        </tr>\n",
       "    </thead>\n",
       "    <tbody>\n",
       "        <tr>\n",
       "            <td>First          </td> <td>5.8314              </td> <td>8.27326                  </td> <td>7.12112               </td>\n",
       "        </tr>\n",
       "        <tr>\n",
       "            <td>Fourth         </td> <td>5.37719             </td> <td>6.01754                  </td> <td>7.13596               </td>\n",
       "        </tr>\n",
       "        <tr>\n",
       "            <td>Fourth or above</td> <td>6.33333             </td> <td>7.66667                  </td> <td>7.2                   </td>\n",
       "        </tr>\n",
       "        <tr>\n",
       "            <td>Second         </td> <td>5.89051             </td> <td>7.47445                  </td> <td>7.04623               </td>\n",
       "        </tr>\n",
       "        <tr>\n",
       "            <td>Third          </td> <td>5.60837             </td> <td>5.71483                  </td> <td>6.95913               </td>\n",
       "        </tr>\n",
       "    </tbody>\n",
       "</table>"
      ],
      "text/plain": [
       "Year            | Extraversion average | Number of textees average | Hours of sleep average\n",
       "First           | 5.8314               | 8.27326                   | 7.12112\n",
       "Fourth          | 5.37719              | 6.01754                   | 7.13596\n",
       "Fourth or above | 6.33333              | 7.66667                   | 7.2\n",
       "Second          | 5.89051              | 7.47445                   | 7.04623\n",
       "Third           | 5.60837              | 5.71483                   | 6.95913"
      ]
     },
     "execution_count": 56,
     "metadata": {},
     "output_type": "execute_result"
    }
   ],
   "source": [
    "survey.group('Year', np.average)"
   ]
  },
  {
   "cell_type": "code",
   "execution_count": 57,
   "metadata": {},
   "outputs": [
    {
     "data": {
      "text/html": [
       "<table border=\"1\" class=\"dataframe\">\n",
       "    <thead>\n",
       "        <tr>\n",
       "            <th>Extraversion</th> <th>Year average</th> <th>Number of textees average</th> <th>Hours of sleep average</th>\n",
       "        </tr>\n",
       "    </thead>\n",
       "    <tbody>\n",
       "        <tr>\n",
       "            <td>1           </td> <td>            </td> <td>3.28571                  </td> <td>6.61905               </td>\n",
       "        </tr>\n",
       "        <tr>\n",
       "            <td>2           </td> <td>            </td> <td>4.1087                   </td> <td>6.78804               </td>\n",
       "        </tr>\n",
       "        <tr>\n",
       "            <td>3           </td> <td>            </td> <td>5.31788                  </td> <td>7.01987               </td>\n",
       "        </tr>\n",
       "        <tr>\n",
       "            <td>4           </td> <td>            </td> <td>6.44134                  </td> <td>7.06145               </td>\n",
       "        </tr>\n",
       "        <tr>\n",
       "            <td>5           </td> <td>            </td> <td>6.64398                  </td> <td>7.08639               </td>\n",
       "        </tr>\n",
       "        <tr>\n",
       "            <td>6           </td> <td>            </td> <td>6.53571                  </td> <td>7.10714               </td>\n",
       "        </tr>\n",
       "        <tr>\n",
       "            <td>7           </td> <td>            </td> <td>8.10484                  </td> <td>7.10282               </td>\n",
       "        </tr>\n",
       "        <tr>\n",
       "            <td>8           </td> <td>            </td> <td>9.5625                   </td> <td>7.09375               </td>\n",
       "        </tr>\n",
       "        <tr>\n",
       "            <td>9           </td> <td>            </td> <td>9.81429                  </td> <td>7.09286               </td>\n",
       "        </tr>\n",
       "        <tr>\n",
       "            <td>10          </td> <td>            </td> <td>10.7143                  </td> <td>7.2619                </td>\n",
       "        </tr>\n",
       "    </tbody>\n",
       "</table>"
      ],
      "text/plain": [
       "Extraversion | Year average | Number of textees average | Hours of sleep average\n",
       "1            |              | 3.28571                   | 6.61905\n",
       "2            |              | 4.1087                    | 6.78804\n",
       "3            |              | 5.31788                   | 7.01987\n",
       "4            |              | 6.44134                   | 7.06145\n",
       "5            |              | 6.64398                   | 7.08639\n",
       "6            |              | 6.53571                   | 7.10714\n",
       "7            |              | 8.10484                   | 7.10282\n",
       "8            |              | 9.5625                    | 7.09375\n",
       "9            |              | 9.81429                   | 7.09286\n",
       "10           |              | 10.7143                   | 7.2619"
      ]
     },
     "execution_count": 57,
     "metadata": {},
     "output_type": "execute_result"
    }
   ],
   "source": [
    "by_extra = survey.group('Extraversion', np.average)\n",
    "by_extra"
   ]
  },
  {
   "cell_type": "code",
   "execution_count": 58,
   "metadata": {},
   "outputs": [
    {
     "data": {
      "image/png": "[encoded data removed]",
      "text/plain": [
       "<Figure size 432x288 with 1 Axes>"
      ]
     },
     "metadata": {},
     "output_type": "display_data"
    }
   ],
   "source": [
    "by_extra.select(0,2,3).plot('Extraversion') # Drop the 'Years average' column"
   ]
  },
  {
   "cell_type": "code",
   "execution_count": 59,
   "metadata": {
    "scrolled": true
   },
   "outputs": [
    {
     "data": {
      "image/png": "[encoded data removed]",
      "text/plain": [
       "<Figure size 432x288 with 1 Axes>"
      ]
     },
     "metadata": {},
     "output_type": "display_data"
    }
   ],
   "source": [
    "by_extra.select(0,3).plot('Extraversion')"
   ]
  },
  {
   "cell_type": "markdown",
   "metadata": {},
   "source": [
    "## Lists"
   ]
  },
  {
   "cell_type": "code",
   "execution_count": 57,
   "metadata": {},
   "outputs": [
    {
     "data": {
      "text/plain": [
       "[1, 5, 'hello', 5.0]"
      ]
     },
     "execution_count": 57,
     "metadata": {},
     "output_type": "execute_result"
    }
   ],
   "source": [
    "[1, 5, 'hello', 5.0]"
   ]
  },
  {
   "cell_type": "code",
   "execution_count": 58,
   "metadata": {},
   "outputs": [
    {
     "data": {
      "text/plain": [
       "[1, 5, 'hello', 5.0, array([1, 2, 3])]"
      ]
     },
     "execution_count": 58,
     "metadata": {},
     "output_type": "execute_result"
    }
   ],
   "source": [
    "[1, 5, 'hello', 5.0, make_array(1,2,3)]"
   ]
  },
  {
   "cell_type": "markdown",
   "metadata": {},
   "source": [
    "## Grouping by Two Columns ##"
   ]
  },
  {
   "cell_type": "code",
   "execution_count": 43,
   "metadata": {},
   "outputs": [],
   "source": [
    "survey = Table.read_table('welcome_survey_v3.csv')"
   ]
  },
  {
   "cell_type": "code",
   "execution_count": 44,
   "metadata": {},
   "outputs": [
    {
     "data": {
      "text/html": [
       "<table border=\"1\" class=\"dataframe\">\n",
       "    <thead>\n",
       "        <tr>\n",
       "            <th>Handedness</th> <th>Sleep position</th> <th>count</th>\n",
       "        </tr>\n",
       "    </thead>\n",
       "    <tbody>\n",
       "        <tr>\n",
       "            <td>Both        </td> <td>On your back      </td> <td>4    </td>\n",
       "        </tr>\n",
       "        <tr>\n",
       "            <td>Both        </td> <td>On your left side </td> <td>5    </td>\n",
       "        </tr>\n",
       "        <tr>\n",
       "            <td>Both        </td> <td>On your right side</td> <td>7    </td>\n",
       "        </tr>\n",
       "        <tr>\n",
       "            <td>Both        </td> <td>On your stomach   </td> <td>1    </td>\n",
       "        </tr>\n",
       "        <tr>\n",
       "            <td>Left-handed </td> <td>On your back      </td> <td>31   </td>\n",
       "        </tr>\n",
       "        <tr>\n",
       "            <td>Left-handed </td> <td>On your left side </td> <td>27   </td>\n",
       "        </tr>\n",
       "        <tr>\n",
       "            <td>Left-handed </td> <td>On your right side</td> <td>30   </td>\n",
       "        </tr>\n",
       "        <tr>\n",
       "            <td>Left-handed </td> <td>On your stomach   </td> <td>12   </td>\n",
       "        </tr>\n",
       "        <tr>\n",
       "            <td>Right-handed</td> <td>On your back      </td> <td>268  </td>\n",
       "        </tr>\n",
       "        <tr>\n",
       "            <td>Right-handed</td> <td>On your left side </td> <td>344  </td>\n",
       "        </tr>\n",
       "        <tr>\n",
       "            <td>Right-handed</td> <td>On your right side</td> <td>398  </td>\n",
       "        </tr>\n",
       "        <tr>\n",
       "            <td>Right-handed</td> <td>On your stomach   </td> <td>199  </td>\n",
       "        </tr>\n",
       "    </tbody>\n",
       "</table>"
      ],
      "text/plain": [
       "<IPython.core.display.HTML object>"
      ]
     },
     "metadata": {},
     "output_type": "display_data"
    }
   ],
   "source": [
    "survey.group(['Handedness','Sleep position']).show()"
   ]
  },
  {
   "cell_type": "markdown",
   "metadata": {},
   "source": [
    "## Pivot Tables"
   ]
  },
  {
   "cell_type": "code",
   "execution_count": 45,
   "metadata": {},
   "outputs": [
    {
     "data": {
      "text/html": [
       "<table border=\"1\" class=\"dataframe\">\n",
       "    <thead>\n",
       "        <tr>\n",
       "            <th>Handedness</th> <th>On your back</th> <th>On your left side</th> <th>On your right side</th> <th>On your stomach</th>\n",
       "        </tr>\n",
       "    </thead>\n",
       "    <tbody>\n",
       "        <tr>\n",
       "            <td>Both        </td> <td>4           </td> <td>5                </td> <td>7                 </td> <td>1              </td>\n",
       "        </tr>\n",
       "        <tr>\n",
       "            <td>Left-handed </td> <td>31          </td> <td>27               </td> <td>30                </td> <td>12             </td>\n",
       "        </tr>\n",
       "        <tr>\n",
       "            <td>Right-handed</td> <td>268         </td> <td>344              </td> <td>398               </td> <td>199            </td>\n",
       "        </tr>\n",
       "    </tbody>\n",
       "</table>"
      ],
      "text/plain": [
       "Handedness   | On your back | On your left side | On your right side | On your stomach\n",
       "Both         | 4            | 5                 | 7                  | 1\n",
       "Left-handed  | 31           | 27                | 30                 | 12\n",
       "Right-handed | 268          | 344               | 398                | 199"
      ]
     },
     "execution_count": 45,
     "metadata": {},
     "output_type": "execute_result"
    }
   ],
   "source": [
    "survey.pivot('Sleep position', 'Handedness')"
   ]
  },
  {
   "cell_type": "code",
   "execution_count": 46,
   "metadata": {},
   "outputs": [
    {
     "data": {
      "text/html": [
       "<table border=\"1\" class=\"dataframe\">\n",
       "    <thead>\n",
       "        <tr>\n",
       "            <th>Handedness</th> <th>On your back</th> <th>On your left side</th> <th>On your right side</th> <th>On your stomach</th>\n",
       "        </tr>\n",
       "    </thead>\n",
       "    <tbody>\n",
       "        <tr>\n",
       "            <td>Both        </td> <td>7           </td> <td>5.8              </td> <td>5.28571           </td> <td>8              </td>\n",
       "        </tr>\n",
       "        <tr>\n",
       "            <td>Left-handed </td> <td>5.45161     </td> <td>5.33333          </td> <td>5.56667           </td> <td>6.75           </td>\n",
       "        </tr>\n",
       "        <tr>\n",
       "            <td>Right-handed</td> <td>5.57836     </td> <td>5.70349          </td> <td>5.93467           </td> <td>5.90452        </td>\n",
       "        </tr>\n",
       "    </tbody>\n",
       "</table>"
      ],
      "text/plain": [
       "Handedness   | On your back | On your left side | On your right side | On your stomach\n",
       "Both         | 7            | 5.8               | 5.28571            | 8\n",
       "Left-handed  | 5.45161      | 5.33333           | 5.56667            | 6.75\n",
       "Right-handed | 5.57836      | 5.70349           | 5.93467            | 5.90452"
      ]
     },
     "execution_count": 46,
     "metadata": {},
     "output_type": "execute_result"
    }
   ],
   "source": [
    "survey.pivot('Sleep position', 'Handedness', values='Extraversion', collect=np.average)"
   ]
  },
  {
   "cell_type": "code",
   "execution_count": 47,
   "metadata": {},
   "outputs": [
    {
     "data": {
      "text/html": [
       "<table border=\"1\" class=\"dataframe\">\n",
       "    <thead>\n",
       "        <tr>\n",
       "            <th>Handedness</th> <th>Year average</th> <th>Extraversion average</th> <th>Number of textees average</th> <th>Hours of sleep average</th> <th>Sleep position average</th>\n",
       "        </tr>\n",
       "    </thead>\n",
       "    <tbody>\n",
       "        <tr>\n",
       "            <td>Both        </td> <td>            </td> <td>6                   </td> <td>7.64706                  </td> <td>6.79412               </td> <td>                      </td>\n",
       "        </tr>\n",
       "        <tr>\n",
       "            <td>Left-handed </td> <td>            </td> <td>5.61                </td> <td>6.88                     </td> <td>7.0475                </td> <td>                      </td>\n",
       "        </tr>\n",
       "        <tr>\n",
       "            <td>Right-handed</td> <td>            </td> <td>5.78495             </td> <td>7.34243                  </td> <td>7.0761                </td> <td>                      </td>\n",
       "        </tr>\n",
       "    </tbody>\n",
       "</table>"
      ],
      "text/plain": [
       "Handedness   | Year average | Extraversion average | Number of textees average | Hours of sleep average | Sleep position average\n",
       "Both         |              | 6                    | 7.64706                   | 6.79412                |\n",
       "Left-handed  |              | 5.61                 | 6.88                      | 7.0475                 |\n",
       "Right-handed |              | 5.78495              | 7.34243                   | 7.0761                 |"
      ]
     },
     "execution_count": 47,
     "metadata": {},
     "output_type": "execute_result"
    }
   ],
   "source": [
    "survey.group('Handedness', np.average)"
   ]
  }
 ],
 "metadata": {
  "anaconda-cloud": {},
  "kernelspec": {
   "display_name": "Python 3",
   "language": "python",
   "name": "python3"
  },
  "language_info": {
   "codemirror_mode": {
    "name": "ipython",
    "version": 3
   },
   "file_extension": ".py",
   "mimetype": "text/x-python",
   "name": "python",
   "nbconvert_exporter": "python",
   "pygments_lexer": "ipython3",
   "version": "3.6.9"
  }
 },
 "nbformat": 4,
 "nbformat_minor": 1
}

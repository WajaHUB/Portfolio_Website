{
 "cells": [
  {
   "cell_type": "code",
   "execution_count": null,
   "metadata": {},
   "outputs": [],
   "source": []
  },
  {
   "cell_type": "code",
   "execution_count": 2,
   "metadata": {},
   "outputs": [],
   "source": [
    "num_wheels = 4\n",
    "gas = 30\n",
    "headlights = 2\n",
    "size = 'Tiny'\n",
    "\n",
    "def __init__(self, make, model):\n",
    "  self.make = make\n",
    "  self.model = model\n",
    "  self.color = 'No color yet. You need to paint me.'\n",
    "  self.wheels = Car.num_wheels\n",
    "  self.gas = Car.gas\n",
    "\n",
    "def paint(self, color):\n",
    "  self.color = color\n",
    "  return self.make + ' ' + self.model + ' is now ' + color\n",
    "\n",
    "def drive(self):\n",
    "  if self.wheels < Car.num_wheels or self.gas <= 0:\n",
    "      return 'Cannot drive!'\n",
    "  self.gas -= 10\n",
    "  return self.make + ' ' + self.model + ' goes vroom!'\n",
    "\n",
    "def pop_tire(self):\n",
    "  if self.wheels > 0:\n",
    "      self.wheels -= 1\n",
    "\n",
    "def fill_gas(self):\n",
    "  self.gas += 20\n",
    "  return 'Gas level: ' + str(self.gas)"
   ]
  },
  {
   "cell_type": "code",
   "execution_count": 5,
   "metadata": {},
   "outputs": [
    {
     "ename": "NameError",
     "evalue": "name 'Car' is not defined",
     "output_type": "error",
     "traceback": [
      "\u001b[0;31m---------------------------------------------------------------------------\u001b[0m",
      "\u001b[0;31mNameError\u001b[0m                                 Traceback (most recent call last)",
      "\u001b[0;32m<ipython-input-5-2b46d15af4be>\u001b[0m in \u001b[0;36m<module>\u001b[0;34m\u001b[0m\n\u001b[0;32m----> 1\u001b[0;31m \u001b[0msrinaths_car\u001b[0m \u001b[0;34m=\u001b[0m \u001b[0mCar\u001b[0m\u001b[0;34m(\u001b[0m\u001b[0;34m'Tesla'\u001b[0m\u001b[0;34m,\u001b[0m \u001b[0;34m'Model S'\u001b[0m\u001b[0;34m)\u001b[0m\u001b[0;34m\u001b[0m\u001b[0;34m\u001b[0m\u001b[0m\n\u001b[0m\u001b[1;32m      2\u001b[0m \u001b[0msrinaths_car\u001b[0m\u001b[0;34m.\u001b[0m\u001b[0mmodel\u001b[0m\u001b[0;34m\u001b[0m\u001b[0;34m\u001b[0m\u001b[0m\n\u001b[1;32m      3\u001b[0m \u001b[0msrinaths_car\u001b[0m\u001b[0;34m.\u001b[0m\u001b[0mgas\u001b[0m \u001b[0;34m=\u001b[0m \u001b[0;36m10\u001b[0m\u001b[0;34m\u001b[0m\u001b[0;34m\u001b[0m\u001b[0m\n\u001b[1;32m      4\u001b[0m \u001b[0msrinaths_car\u001b[0m\u001b[0;34m.\u001b[0m\u001b[0mfill_gas\u001b[0m\u001b[0;34m(\u001b[0m\u001b[0;34m)\u001b[0m\u001b[0;34m\u001b[0m\u001b[0;34m\u001b[0m\u001b[0m\n",
      "\u001b[0;31mNameError\u001b[0m: name 'Car' is not defined"
     ]
    }
   ],
   "source": [
    "srinaths_car = Car('Tesla', 'Model S')\n",
    "srinaths_car.model\n",
    "srinaths_car.gas = 10\n",
    "srinaths_car.fill_gas()\n"
   ]
  },
  {
   "cell_type": "code",
   "execution_count": 5,
   "metadata": {},
   "outputs": [],
   "source": [
    "\n",
    "    num_wheels = 4\n",
    "    gas = 30\n",
    "    headlights = 2\n",
    "    size = 'Tiny'\n",
    "\n",
    "    def __init__(self, make, model):\n",
    "        self.make = make\n",
    "        self.model = model\n",
    "        self.color = 'No color yet. You need to paint me.'\n",
    "        self.wheels = Car.num_wheels\n",
    "        self.gas = Car.gas\n",
    "\n",
    "    def paint(self, color):\n",
    "        self.color = color\n",
    "        return self.make + ' ' + self.model + ' is now ' + color\n",
    "\n",
    "    def drive(self):\n",
    "        if self.wheels < Car.num_wheels or self.gas <= 0:\n",
    "            return ' Cannot drive!'\n",
    "        self.gas -= 10\n",
    "        return self.make + ' ' + self.model + ' goes vroom!'\n",
    "\n",
    "    def pop_tire(self):\n",
    "        if self.wheels > 0:\n",
    "            self.wheels -= 1\n",
    "\n",
    "    def fill_gas(self):\n",
    "        self.gas += 20\n",
    "        return 'Gas level: ' + str(self.gas)"
   ]
  },
  {
   "cell_type": "code",
   "execution_count": 6,
   "metadata": {},
   "outputs": [
    {
     "ename": "NameError",
     "evalue": "name 'Car' is not defined",
     "output_type": "error",
     "traceback": [
      "\u001b[0;31m---------------------------------------------------------------------------\u001b[0m",
      "\u001b[0;31mNameError\u001b[0m                                 Traceback (most recent call last)",
      "\u001b[0;32m<ipython-input-6-554bfd96fc6c>\u001b[0m in \u001b[0;36m<module>\u001b[0;34m\u001b[0m\n\u001b[0;32m----> 1\u001b[0;31m \u001b[0msrinaths_car\u001b[0m \u001b[0;34m=\u001b[0m \u001b[0mCar\u001b[0m\u001b[0;34m(\u001b[0m\u001b[0;34m'Tesla'\u001b[0m\u001b[0;34m,\u001b[0m \u001b[0;34m'Model S'\u001b[0m\u001b[0;34m)\u001b[0m\u001b[0;34m\u001b[0m\u001b[0;34m\u001b[0m\u001b[0m\n\u001b[0m\u001b[1;32m      2\u001b[0m \u001b[0msrinaths_car\u001b[0m\u001b[0;34m.\u001b[0m\u001b[0mmodel\u001b[0m\u001b[0;34m\u001b[0m\u001b[0;34m\u001b[0m\u001b[0m\n\u001b[1;32m      3\u001b[0m \u001b[0msrinaths_car\u001b[0m\u001b[0;34m.\u001b[0m\u001b[0mgas\u001b[0m \u001b[0;34m=\u001b[0m \u001b[0;36m10\u001b[0m\u001b[0;34m\u001b[0m\u001b[0;34m\u001b[0m\u001b[0m\n\u001b[1;32m      4\u001b[0m \u001b[0msrinaths_car\u001b[0m\u001b[0;34m.\u001b[0m\u001b[0mdrive\u001b[0m\u001b[0;34m(\u001b[0m\u001b[0;34m)\u001b[0m\u001b[0;34m\u001b[0m\u001b[0;34m\u001b[0m\u001b[0m\n\u001b[1;32m      5\u001b[0m \u001b[0msrinaths_car\u001b[0m\u001b[0;34m.\u001b[0m\u001b[0mdrive\u001b[0m\u001b[0;34m(\u001b[0m\u001b[0;34m)\u001b[0m\u001b[0;34m\u001b[0m\u001b[0;34m\u001b[0m\u001b[0m\n",
      "\u001b[0;31mNameError\u001b[0m: name 'Car' is not defined"
     ]
    }
   ],
   "source": [
    ">>> srinaths_car = Car('Tesla', 'Model S')\n",
    ">>> srinaths_car.model\n",
    ">>> srinaths_car.gas = 10\n",
    ">>> srinaths_car.drive()\n",
    ">>> srinaths_car.drive()\n",
    ">>> srinaths_car.fill_gas()\n",
    ">>> srinaths.gas()\n",
    "\n",
    "\n"
   ]
  },
  {
   "cell_type": "code",
   "execution_count": null,
   "metadata": {},
   "outputs": [],
   "source": [
    "class Keyboard:\n",
    "    \"\"\"A Keyboard takes in a list of buttons, and has a\n",
    "    dictionary of positions as keys, and Buttons as values.\n",
    "\n",
    "    >>> b1 = Button(\"button1\", \"H\")\n",
    "    >>> b2 = Button(\"button2\", \"I\")\n",
    "    >>> k = Keyboard([b1, b2])\n",
    "    >>> \"button1\" in k.buttons.keys() # Make sure to add the button to dictionary\n",
    "    True\n",
    "    >>> k.buttons[\"button1\"].letter\n",
    "    'H'\n",
    "    >>> k.buttons[\"button1\"].name\n",
    "    'button1'\n",
    "    >>> k.press(\"button1\")\n",
    "    'H'\n",
    "    >>> k.press(\"button100\")\n",
    "    ''\n",
    "    >>> b1.pressed\n",
    "    1\n",
    "    >>> b2.pressed\n",
    "    0\n",
    "    >>> k.typing([\"button1\", \"button2\"])\n",
    "    'HI'\n",
    "    >>> k.typing([\"button2\", \"button1\"])\n",
    "    'IH'\n",
    "    >>> b1.pressed # make sure typing calls press!\n",
    "    3\n",
    "    >>> b2.pressed\n",
    "    2\n",
    "    \"\"\"\n",
    "\n",
    "    def __init__(self, buttons):\n",
    "        self.buttons = {}\n",
    "        \"*** YOUR CODE HERE ***\"\n",
    "\n",
    "    def press(self, name):\n",
    "        \"\"\"Takes in a position of the button pressed, and\n",
    "        returns that button's output. Return an empty string \n",
    "        if the button does not exist. You can access the keys \n",
    "        of a dictionary d with d.keys(). \"\"\"\n",
    "        \"*** YOUR CODE HERE ***\"\n",
    "\n",
    "    def typing(self, typing_input):\n",
    "        \"\"\"Takes in a list of buttons to be pressed, and\n",
    "        returns the total output. Make sure to call self.press\"\"\"\n",
    "        \"*** YOUR CODE HERE ***\"\n",
    "\n",
    "class Button:\n",
    "    def __init__(self, name, letter):\n",
    "        self.name = name\n",
    "        self.letter = letter\n",
    "        self.pressed = 0"
   ]
  },
  {
   "cell_type": "code",
   "execution_count": null,
   "metadata": {},
   "outputs": [],
   "source": []
  },
  {
   "cell_type": "code",
   "execution_count": 1,
   "metadata": {},
   "outputs": [],
   "source": [
    "class Polygon:\n",
    "    def __init__(self,num_sides,name):\n",
    "        self.num_sides= num_sides\n",
    "        self.shape_name= name\n",
    "    def set_sides(self,sides):\n",
    "        self.sides=sides\n",
    "    def printIdentity(self):\n",
    "        print(\"I am a \"+ self.shape_name)\n",
    "        \n",
    "class Rectangle(Polygon):\n",
    "    def __init__(self):\n",
    "        Polygon.__init__(self,3,\"rectangle\")\n",
    "    \n",
    "    def find_area(self):\n",
    "        a,b,c,d=self.sides\n",
    "        area= min(a,b,c,d)+(a,b,c,d)\n",
    "        return area"
   ]
  },
  {
   "cell_type": "code",
   "execution_count": 2,
   "metadata": {},
   "outputs": [
    {
     "ename": "NameError",
     "evalue": "name 'Rectange' is not defined",
     "output_type": "error",
     "traceback": [
      "\u001b[0;31m---------------------------------------------------------------------------\u001b[0m",
      "\u001b[0;31mNameError\u001b[0m                                 Traceback (most recent call last)",
      "\u001b[0;32m<ipython-input-2-a67d6ede2586>\u001b[0m in \u001b[0;36m<module>\u001b[0;34m\u001b[0m\n\u001b[0;32m----> 1\u001b[0;31m \u001b[0mnew_rect\u001b[0m\u001b[0;34m=\u001b[0m \u001b[0mRectange\u001b[0m\u001b[0;34m(\u001b[0m\u001b[0;34m)\u001b[0m\u001b[0;34m\u001b[0m\u001b[0;34m\u001b[0m\u001b[0m\n\u001b[0m\u001b[1;32m      2\u001b[0m \u001b[0mnew_rect\u001b[0m\u001b[0;34m.\u001b[0m\u001b[0mset_sides\u001b[0m\u001b[0;34m(\u001b[0m\u001b[0;34m[\u001b[0m\u001b[0;36m4\u001b[0m\u001b[0;34m,\u001b[0m\u001b[0;36m4\u001b[0m\u001b[0;34m,\u001b[0m\u001b[0;36m8\u001b[0m\u001b[0;34m,\u001b[0m\u001b[0;36m3\u001b[0m\u001b[0;34m]\u001b[0m\u001b[0;34m)\u001b[0m\u001b[0;34m\u001b[0m\u001b[0;34m\u001b[0m\u001b[0m\n",
      "\u001b[0;31mNameError\u001b[0m: name 'Rectange' is not defined"
     ]
    }
   ],
   "source": [
    "new_rect= Rectange()\n",
    "new_rect.set_sides([4,4,8,3])"
   ]
  },
  {
   "cell_type": "code",
   "execution_count": null,
   "metadata": {},
   "outputs": [],
   "source": []
  },
  {
   "cell_type": "code",
   "execution_count": null,
   "metadata": {},
   "outputs": [],
   "source": [
    "class Pet():\n",
    "    def __init(self,name,owner):\n",
    "        self.is_alive=True\n",
    "        self.name=name\n",
    "        self.owner=owner\n",
    "    def eat(self,)"
   ]
  },
  {
   "cell_type": "code",
   "execution_count": 3,
   "metadata": {},
   "outputs": [],
   "source": [
    "class Foo:\n",
    "    def __init__(self,a):\n",
    "        self.a=a\n",
    "    def garply(self):\n",
    "        return self.baz(self.a)\n",
    "class Bar(Foo):\n",
    "    a=1\n",
    "    def baz(self,val):\n",
    "        return val\n",
    "    \n",
    "    \n",
    "    "
   ]
  },
  {
   "cell_type": "code",
   "execution_count": 4,
   "metadata": {},
   "outputs": [
    {
     "data": {
      "text/plain": [
       "4"
      ]
     },
     "execution_count": 4,
     "metadata": {},
     "output_type": "execute_result"
    }
   ],
   "source": [
    "f= Foo(4)\n",
    "b= Bar(3)\n",
    "f.a"
   ]
  },
  {
   "cell_type": "code",
   "execution_count": 5,
   "metadata": {},
   "outputs": [
    {
     "data": {
      "text/plain": [
       "3"
      ]
     },
     "execution_count": 5,
     "metadata": {},
     "output_type": "execute_result"
    }
   ],
   "source": [
    "b.a"
   ]
  },
  {
   "cell_type": "code",
   "execution_count": 6,
   "metadata": {},
   "outputs": [
    {
     "ename": "AttributeError",
     "evalue": "'Foo' object has no attribute 'baz'",
     "output_type": "error",
     "traceback": [
      "\u001b[0;31m---------------------------------------------------------------------------\u001b[0m",
      "\u001b[0;31mAttributeError\u001b[0m                            Traceback (most recent call last)",
      "\u001b[0;32m<ipython-input-6-dba0583f6185>\u001b[0m in \u001b[0;36m<module>\u001b[0;34m\u001b[0m\n\u001b[0;32m----> 1\u001b[0;31m \u001b[0mf\u001b[0m\u001b[0;34m.\u001b[0m\u001b[0mgarply\u001b[0m\u001b[0;34m(\u001b[0m\u001b[0;34m)\u001b[0m\u001b[0;34m\u001b[0m\u001b[0;34m\u001b[0m\u001b[0m\n\u001b[0m",
      "\u001b[0;32m<ipython-input-3-48af2e6278a2>\u001b[0m in \u001b[0;36mgarply\u001b[0;34m(self)\u001b[0m\n\u001b[1;32m      3\u001b[0m         \u001b[0mself\u001b[0m\u001b[0;34m.\u001b[0m\u001b[0ma\u001b[0m\u001b[0;34m=\u001b[0m\u001b[0ma\u001b[0m\u001b[0;34m\u001b[0m\u001b[0;34m\u001b[0m\u001b[0m\n\u001b[1;32m      4\u001b[0m     \u001b[0;32mdef\u001b[0m \u001b[0mgarply\u001b[0m\u001b[0;34m(\u001b[0m\u001b[0mself\u001b[0m\u001b[0;34m)\u001b[0m\u001b[0;34m:\u001b[0m\u001b[0;34m\u001b[0m\u001b[0;34m\u001b[0m\u001b[0m\n\u001b[0;32m----> 5\u001b[0;31m         \u001b[0;32mreturn\u001b[0m \u001b[0mself\u001b[0m\u001b[0;34m.\u001b[0m\u001b[0mbaz\u001b[0m\u001b[0;34m(\u001b[0m\u001b[0mself\u001b[0m\u001b[0;34m.\u001b[0m\u001b[0ma\u001b[0m\u001b[0;34m)\u001b[0m\u001b[0;34m\u001b[0m\u001b[0;34m\u001b[0m\u001b[0m\n\u001b[0m\u001b[1;32m      6\u001b[0m \u001b[0;32mclass\u001b[0m \u001b[0mBar\u001b[0m\u001b[0;34m(\u001b[0m\u001b[0mFoo\u001b[0m\u001b[0;34m)\u001b[0m\u001b[0;34m:\u001b[0m\u001b[0;34m\u001b[0m\u001b[0;34m\u001b[0m\u001b[0m\n\u001b[1;32m      7\u001b[0m     \u001b[0ma\u001b[0m\u001b[0;34m=\u001b[0m\u001b[0;36m1\u001b[0m\u001b[0;34m\u001b[0m\u001b[0;34m\u001b[0m\u001b[0m\n",
      "\u001b[0;31mAttributeError\u001b[0m: 'Foo' object has no attribute 'baz'"
     ]
    }
   ],
   "source": [
    "f.garply()"
   ]
  },
  {
   "cell_type": "code",
   "execution_count": 8,
   "metadata": {},
   "outputs": [
    {
     "data": {
      "text/plain": [
       "3"
      ]
     },
     "execution_count": 8,
     "metadata": {},
     "output_type": "execute_result"
    }
   ],
   "source": [
    "b.garply()"
   ]
  },
  {
   "cell_type": "code",
   "execution_count": 10,
   "metadata": {},
   "outputs": [
    {
     "data": {
      "text/plain": [
       "9"
      ]
     },
     "execution_count": 10,
     "metadata": {},
     "output_type": "execute_result"
    }
   ],
   "source": [
    "b.a=9\n",
    "b.garply()"
   ]
  },
  {
   "cell_type": "code",
   "execution_count": 12,
   "metadata": {},
   "outputs": [
    {
     "data": {
      "text/plain": [
       "16"
      ]
     },
     "execution_count": 12,
     "metadata": {},
     "output_type": "execute_result"
    }
   ],
   "source": [
    "f.baz= lambda val:val*val\n",
    "f.garply()"
   ]
  },
  {
   "cell_type": "code",
   "execution_count": 1,
   "metadata": {},
   "outputs": [],
   "source": [
    "### Object Orientated Programming in Python"
   ]
  },
  {
   "cell_type": "code",
   "execution_count": 4,
   "metadata": {},
   "outputs": [
    {
     "name": "stdout",
     "output_type": "stream",
     "text": [
      "<class 'str'>\n",
      "<class 'int'>\n"
     ]
    }
   ],
   "source": [
    "x=1\n",
    "print(type(\"Hello\"))\n",
    "print(type(x))"
   ]
  },
  {
   "cell_type": "code",
   "execution_count": 5,
   "metadata": {},
   "outputs": [
    {
     "name": "stdout",
     "output_type": "stream",
     "text": [
      "<class 'function'>\n"
     ]
    }
   ],
   "source": [
    "def hello():\n",
    "    print(\"hello\")\n",
    "print(type(hello))"
   ]
  },
  {
   "cell_type": "code",
   "execution_count": 6,
   "metadata": {},
   "outputs": [
    {
     "ename": "TypeError",
     "evalue": "unsupported operand type(s) for +: 'int' and 'str'",
     "output_type": "error",
     "traceback": [
      "\u001b[0;31m---------------------------------------------------------------------------\u001b[0m",
      "\u001b[0;31mTypeError\u001b[0m                                 Traceback (most recent call last)",
      "\u001b[0;32m<ipython-input-6-35a03d855d01>\u001b[0m in \u001b[0;36m<module>\u001b[0;34m\u001b[0m\n\u001b[1;32m      1\u001b[0m \u001b[0mx\u001b[0m\u001b[0;34m=\u001b[0m\u001b[0;36m1\u001b[0m\u001b[0;34m\u001b[0m\u001b[0;34m\u001b[0m\u001b[0m\n\u001b[1;32m      2\u001b[0m \u001b[0my\u001b[0m\u001b[0;34m=\u001b[0m\u001b[0;34m\"hello\"\u001b[0m\u001b[0;34m\u001b[0m\u001b[0;34m\u001b[0m\u001b[0m\n\u001b[0;32m----> 3\u001b[0;31m \u001b[0mprint\u001b[0m\u001b[0;34m(\u001b[0m\u001b[0mx\u001b[0m\u001b[0;34m+\u001b[0m\u001b[0my\u001b[0m\u001b[0;34m)\u001b[0m\u001b[0;34m\u001b[0m\u001b[0;34m\u001b[0m\u001b[0m\n\u001b[0m",
      "\u001b[0;31mTypeError\u001b[0m: unsupported operand type(s) for +: 'int' and 'str'"
     ]
    }
   ],
   "source": [
    "x=1\n",
    "y=\"hello\"\n",
    "print(x+y)"
   ]
  },
  {
   "cell_type": "code",
   "execution_count": 7,
   "metadata": {},
   "outputs": [
    {
     "name": "stdout",
     "output_type": "stream",
     "text": [
      "HELLO\n"
     ]
    }
   ],
   "source": [
    "string=\"hello\"\n",
    "print(string.upper())"
   ]
  },
  {
   "cell_type": "code",
   "execution_count": 46,
   "metadata": {},
   "outputs": [
    {
     "name": "stdout",
     "output_type": "stream",
     "text": [
      "23\n"
     ]
    }
   ],
   "source": [
    "class dog:\n",
    "    def __init__(self,name,age):\n",
    "        self.name=name\n",
    "        self.age=age\n",
    "       \n",
    "    def get_name(self):\n",
    "        return self.name\n",
    "        \n",
    "        \n",
    "    def get_age(self):\n",
    "        return self.age\n",
    "    \n",
    "    def set_age(self,age):\n",
    "        self.age=age\n",
    "\n",
    "d= dog(\"time\",34)\n",
    "d.set_age(23)\n",
    "print(d.get_age())"
   ]
  },
  {
   "cell_type": "code",
   "execution_count": 56,
   "metadata": {},
   "outputs": [
    {
     "ename": "AttributeError",
     "evalue": "'Course' object has no attribute 'student'",
     "output_type": "error",
     "traceback": [
      "\u001b[0;31m---------------------------------------------------------------------------\u001b[0m",
      "\u001b[0;31mAttributeError\u001b[0m                            Traceback (most recent call last)",
      "\u001b[0;32m<ipython-input-56-0efcc61c1646>\u001b[0m in \u001b[0;36m<module>\u001b[0;34m\u001b[0m\n\u001b[1;32m     28\u001b[0m \u001b[0;34m\u001b[0m\u001b[0m\n\u001b[1;32m     29\u001b[0m \u001b[0mcourse\u001b[0m\u001b[0;34m=\u001b[0m \u001b[0mCourse\u001b[0m\u001b[0;34m(\u001b[0m\u001b[0;34m\"Science\"\u001b[0m\u001b[0;34m,\u001b[0m\u001b[0;36m2\u001b[0m\u001b[0;34m)\u001b[0m\u001b[0;34m\u001b[0m\u001b[0;34m\u001b[0m\u001b[0m\n\u001b[0;32m---> 30\u001b[0;31m \u001b[0mcourse\u001b[0m\u001b[0;34m.\u001b[0m\u001b[0madd_student\u001b[0m\u001b[0;34m(\u001b[0m\u001b[0ms1\u001b[0m\u001b[0;34m)\u001b[0m\u001b[0;34m\u001b[0m\u001b[0;34m\u001b[0m\u001b[0m\n\u001b[0m\u001b[1;32m     31\u001b[0m \u001b[0mcourse\u001b[0m\u001b[0;34m.\u001b[0m\u001b[0madd_student\u001b[0m\u001b[0;34m(\u001b[0m\u001b[0ms2\u001b[0m\u001b[0;34m)\u001b[0m\u001b[0;34m\u001b[0m\u001b[0;34m\u001b[0m\u001b[0m\n",
      "\u001b[0;32m<ipython-input-56-0efcc61c1646>\u001b[0m in \u001b[0;36madd_student\u001b[0;34m(self, student)\u001b[0m\n\u001b[1;32m     15\u001b[0m \u001b[0;34m\u001b[0m\u001b[0m\n\u001b[1;32m     16\u001b[0m     \u001b[0;32mdef\u001b[0m \u001b[0madd_student\u001b[0m\u001b[0;34m(\u001b[0m\u001b[0mself\u001b[0m\u001b[0;34m,\u001b[0m \u001b[0mstudent\u001b[0m\u001b[0;34m)\u001b[0m\u001b[0;34m:\u001b[0m\u001b[0;34m\u001b[0m\u001b[0;34m\u001b[0m\u001b[0m\n\u001b[0;32m---> 17\u001b[0;31m         \u001b[0;32mif\u001b[0m \u001b[0mlen\u001b[0m\u001b[0;34m(\u001b[0m\u001b[0mself\u001b[0m\u001b[0;34m.\u001b[0m\u001b[0mstudent\u001b[0m\u001b[0;34m)\u001b[0m \u001b[0;34m<\u001b[0m \u001b[0mself\u001b[0m\u001b[0;34m.\u001b[0m\u001b[0mmax_student\u001b[0m\u001b[0;34m:\u001b[0m\u001b[0;34m\u001b[0m\u001b[0;34m\u001b[0m\u001b[0m\n\u001b[0m\u001b[1;32m     18\u001b[0m             \u001b[0mself\u001b[0m\u001b[0;34m.\u001b[0m\u001b[0mstudent\u001b[0m\u001b[0;34m.\u001b[0m\u001b[0mappend\u001b[0m\u001b[0;34m(\u001b[0m\u001b[0mstudent\u001b[0m\u001b[0;34m)\u001b[0m\u001b[0;34m\u001b[0m\u001b[0;34m\u001b[0m\u001b[0m\n\u001b[1;32m     19\u001b[0m             \u001b[0;32mreturn\u001b[0m \u001b[0;32mTrue\u001b[0m\u001b[0;34m\u001b[0m\u001b[0;34m\u001b[0m\u001b[0m\n",
      "\u001b[0;31mAttributeError\u001b[0m: 'Course' object has no attribute 'student'"
     ]
    }
   ],
   "source": [
    "class student:\n",
    "    def __init__(self, name, age, grade):\n",
    "        self.name= name\n",
    "        self.age=age\n",
    "        self.grade=grade\n",
    "        \n",
    "    def get_grade(self):\n",
    "        return self.grade\n",
    "\n",
    "class Course:\n",
    "    def __init__(self, name, max_students):\n",
    "        self.name=name\n",
    "        self.max_students=  max_students\n",
    "        self.students= []\n",
    "        \n",
    "    def add_student(self, student):\n",
    "        if len(self.student) < self.max_student:\n",
    "            self.student.append(student)\n",
    "            return True\n",
    "        return False\n",
    "    \n",
    "    def get_average_grade():\n",
    "        pass\n",
    "    \n",
    "s1= student(\"tim\",19,95)\n",
    "s2= student(\"bill\",19, 75)\n",
    "s2= student(\"jill\",19,28)\n",
    "\n",
    "course= Course(\"Science\",2)\n",
    "course.add_student(s1)\n",
    "course.add_student(s2)\n"
   ]
  },
  {
   "cell_type": "code",
   "execution_count": 6,
   "metadata": {},
   "outputs": [
    {
     "name": "stdout",
     "output_type": "stream",
     "text": [
      "<bound method B.feature3 of <__main__.B object at 0x7f35095077c0>>\n",
      "<bound method B.feature4 of <__main__.B object at 0x7f35095077c0>>\n"
     ]
    }
   ],
   "source": [
    "class A:\n",
    "    def feature1(self):\n",
    "        print(\"feature 1 working\")\n",
    "    \n",
    "    def feature2(self):\n",
    "        print(\"Feature 2 working\")\n",
    "class B:\n",
    "    def feature3(self):\n",
    "        print(\"feature 3 working\")\n",
    "    \n",
    "    def feature4(self):\n",
    "        print(\"Feature 4 working\")\n",
    "        \n",
    "a1=A()\n",
    "a1.feature1\n",
    "a1.feature2\n",
    "\n",
    "b1=B()\n",
    "print(b1.feature3)\n",
    "print(b1.feature4)"
   ]
  },
  {
   "cell_type": "code",
   "execution_count": null,
   "metadata": {},
   "outputs": [],
   "source": []
  },
  {
   "cell_type": "code",
   "execution_count": 7,
   "metadata": {},
   "outputs": [],
   "source": [
    "class Point:\n",
    "    def __init__(self, x, y):\n",
    "        self.x = x\n",
    "        self.y = y\n",
    "\n",
    "    def subtract(self, other):\n",
    "        return Point(self.x - other.x, self.y - other.y)\n",
    "\n",
    "    def __sub__(self, other):\n",
    "        \"\"\"Allows us to write point3 = point1 - point2\"\"\"\n",
    "        return self.subtract(other)\n",
    "\n",
    "    def distance(self, other):\n",
    "        diff = self - other\n",
    "        return (diff.x ** 2 + diff.y ** 2) ** 0.5\n",
    "\n",
    "    def __str__(self):\n",
    "        \"\"\"Returns a nicely readable format when we call print()\"\"\"\n",
    "        # TIP: there is a new way to format strings in Python, which we don't cover:\n",
    "        # return f'Point (x: {self.x}, y: {self.y})'\n",
    "        return \"Point (x: \" + str(self.x) + \", y: \" + str(self.y) + \")\""
   ]
  },
  {
   "cell_type": "code",
   "execution_count": 8,
   "metadata": {},
   "outputs": [
    {
     "name": "stdout",
     "output_type": "stream",
     "text": [
      "Point (x: 0, y: 0)\n"
     ]
    }
   ],
   "source": [
    "origin = Point(0, 0)\n",
    "far_away = Point(100, 100)\n",
    "origin - far_away\n",
    "print(origin)"
   ]
  },
  {
   "cell_type": "code",
   "execution_count": 10,
   "metadata": {},
   "outputs": [
    {
     "name": "stdout",
     "output_type": "stream",
     "text": [
      "Point (x: -10, y: -10)\n"
     ]
    }
   ],
   "source": [
    "far_away = origin.subtract(Point(10, 10))\n",
    "print(far_away)"
   ]
  },
  {
   "cell_type": "code",
   "execution_count": 11,
   "metadata": {},
   "outputs": [
    {
     "name": "stdout",
     "output_type": "stream",
     "text": [
      "Point (x: -10, y: -10)\n"
     ]
    }
   ],
   "source": [
    "far_away2 = origin - Point(10, 10)\n",
    "print(far_away2)"
   ]
  },
  {
   "cell_type": "code",
   "execution_count": 12,
   "metadata": {},
   "outputs": [],
   "source": [
    "class Account:\n",
    "    \"\"\"Create named accounts with a balance that is\n",
    "    - increased by account_deposit\n",
    "    - decreased by account_withdrawl\n",
    "    \"\"\"\n",
    "    # Class astributes outside and class defs\n",
    "    _account_number_seed = 1000\n",
    "\n",
    "    # Constructor\n",
    "    def __init__(self, name, initial_deposit):\n",
    "        # Initialize the instance attributes\n",
    "        self._name = name\n",
    "        self._acct_no = Account._account_number_seed\n",
    "        Account._account_number_seed += 1\n",
    "        self._balance = initial_deposit\n",
    "\n",
    "    # Selectors\n",
    "    def account_name(self):\n",
    "        return self._name\n",
    "\n",
    "    def account_balance(self):\n",
    "        return self._balance\n",
    "\n",
    "    def account_number(self):\n",
    "        return self._acct_no\n",
    "\n",
    "    # Operations\n",
    "    def deposit(self, amount):\n",
    "        self._balance += amount\n",
    "        return self._balance\n",
    "\n",
    "    def withdraw(self, amount):\n",
    "        self._balance -= amount\n",
    "        return self._balance\n",
    "\n",
    "    def account_type(self):\n",
    "        return \"Base\"\n",
    "\n",
    "    # Display representation\n",
    "    def __repr__(self):\n",
    "        return '<' + str(self.account_type()) + 'Account: ' + str(self.account_name()) + '-' + str(self.account_number()) + '>'\n",
    "    # Print representation\n",
    "    def __str__(self):\n",
    "        return '<' + str(self.account_type()) + 'Account: ' + str(self.account_name()) + '-' + str(self.account_number()) + '>'\n",
    "\n",
    "class CheckingAccount(Account):\n",
    "    def __init__(self, name, initial_deposit):\n",
    "        # Use superclass initializer\n",
    "        Account.__init__(self, name, initial_deposit)\n",
    "        # Alternatively:\n",
    "        # super().__init__(name, initial_deposit)\n",
    "        # Additional initialization\n",
    "        self._type = \"Checking\"\n",
    "\n",
    "    def account_type(self):\n",
    "        return self._type\n",
    "\n",
    "    # Just for debugging / example:\n",
    "    def show_superclass(self):\n",
    "        return super()\n",
    "\n",
    "class SavingsAccount(Account):\n",
    "    interest_rate = 0.02\n",
    "\n",
    "    def __init__(self, name, initial_deposit):\n",
    "        # Use superclass initializer\n",
    "        super().__init__(name, initial_deposit)\n",
    "        # Account.__init__(self, name, initial_deposit)\n",
    "        # Additional initialization\n",
    "        self._type = \"Savings\"\n",
    "\n",
    "    def account_type(self):\n",
    "        return self._type\n",
    "\n",
    "    def acrue_interest(self):\n",
    "        self._balance = self._balance * (1 + SavingsAccount.interest_rate)"
   ]
  },
  {
   "cell_type": "code",
   "execution_count": null,
   "metadata": {},
   "outputs": [],
   "source": []
  },
  {
   "cell_type": "code",
   "execution_count": 16,
   "metadata": {},
   "outputs": [
    {
     "ename": "AttributeError",
     "evalue": "'SavingsAccount' object has no attribute 'accrue_interest'",
     "output_type": "error",
     "traceback": [
      "\u001b[0;31m---------------------------------------------------------------------------\u001b[0m",
      "\u001b[0;31mAttributeError\u001b[0m                            Traceback (most recent call last)",
      "\u001b[0;32m<ipython-input-16-ea53ead95a2b>\u001b[0m in \u001b[0;36m<module>\u001b[0;34m\u001b[0m\n\u001b[1;32m      1\u001b[0m \u001b[0mmy_acct\u001b[0m \u001b[0;34m=\u001b[0m \u001b[0mAccount\u001b[0m\u001b[0;34m(\u001b[0m\u001b[0;34m'Basic'\u001b[0m\u001b[0;34m,\u001b[0m \u001b[0;36m100\u001b[0m\u001b[0;34m)\u001b[0m\u001b[0;34m\u001b[0m\u001b[0;34m\u001b[0m\u001b[0m\n\u001b[1;32m      2\u001b[0m \u001b[0mmy_savings\u001b[0m \u001b[0;34m=\u001b[0m \u001b[0mSavingsAccount\u001b[0m\u001b[0;34m(\u001b[0m\u001b[0;34m'Savings'\u001b[0m\u001b[0;34m,\u001b[0m \u001b[0;36m100\u001b[0m\u001b[0;34m)\u001b[0m\u001b[0;34m\u001b[0m\u001b[0;34m\u001b[0m\u001b[0m\n\u001b[0;32m----> 3\u001b[0;31m \u001b[0mmy_savings\u001b[0m\u001b[0;34m.\u001b[0m\u001b[0maccrue_interest\u001b[0m\u001b[0;34m(\u001b[0m\u001b[0;34m)\u001b[0m\u001b[0;34m\u001b[0m\u001b[0;34m\u001b[0m\u001b[0m\n\u001b[0m\u001b[1;32m      4\u001b[0m \u001b[0mmy_acct\u001b[0m\u001b[0;34m.\u001b[0m\u001b[0maccrue_interest\u001b[0m\u001b[0;34m(\u001b[0m\u001b[0;34m)\u001b[0m\u001b[0;34m\u001b[0m\u001b[0;34m\u001b[0m\u001b[0m\n",
      "\u001b[0;31mAttributeError\u001b[0m: 'SavingsAccount' object has no attribute 'accrue_interest'"
     ]
    }
   ],
   "source": [
    "my_acct = Account('Basic', 100)\n",
    "my_savings = SavingsAccount('Savings', 100)\n",
    "my_savings.accrue_interest()\n",
    "my_acct.accrue_interest()"
   ]
  },
  {
   "cell_type": "code",
   "execution_count": 6,
   "metadata": {},
   "outputs": [
    {
     "name": "stdout",
     "output_type": "stream",
     "text": [
      "i5,16gb,1tb\n",
      "i5,16gb,1tb\n",
      "i5,16gb,1tb\n",
      "i5,16gb,1tb\n"
     ]
    },
    {
     "data": {
      "text/plain": [
       "3"
      ]
     },
     "execution_count": 6,
     "metadata": {},
     "output_type": "execute_result"
    }
   ],
   "source": [
    "class computer:\n",
    "    def config(self):\n",
    "        print(\"i5,16gb,1tb\")\n",
    "        \n",
    "com1= computer()\n",
    "com2= computer()\n",
    "computer.config(com1)\n",
    "computer.config(com2)\n",
    "com1.config()\n",
    "com2.config()\n",
    "\n",
    "a=5\n",
    "a.bit_length()"
   ]
  },
  {
   "cell_type": "code",
   "execution_count": null,
   "metadata": {},
   "outputs": [],
   "source": [
    "ZeroDivisionError \n",
    "\n"
   ]
  }
 ],
 "metadata": {
  "kernelspec": {
   "display_name": "Python 3",
   "language": "python",
   "name": "python3"
  },
  "language_info": {
   "codemirror_mode": {
    "name": "ipython",
    "version": 3
   },
   "file_extension": ".py",
   "mimetype": "text/x-python",
   "name": "python",
   "nbconvert_exporter": "python",
   "pygments_lexer": "ipython3",
   "version": "3.8.6"
  }
 },
 "nbformat": 4,
 "nbformat_minor": 2
}

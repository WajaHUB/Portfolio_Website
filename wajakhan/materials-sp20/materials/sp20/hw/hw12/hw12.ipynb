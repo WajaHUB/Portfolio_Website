{
 "cells": [
  {
   "cell_type": "code",
   "execution_count": 1,
   "metadata": {
    "deletable": false,
    "editable": false
   },
   "outputs": [
    {
     "name": "stdout",
     "output_type": "stream",
     "text": [
      "=====================================================================\n",
      "Assignment: Homework 12: Classification\n",
      "OK, version v1.18.1\n",
      "=====================================================================\n",
      "\n"
     ]
    }
   ],
   "source": [
    "# Initialize OK\n",
    "from client.api.notebook import Notebook\n",
    "ok = Notebook('hw12.ok')"
   ]
  },
  {
   "cell_type": "markdown",
   "metadata": {},
   "source": [
    "# Homework 12: Classification"
   ]
  },
  {
   "cell_type": "markdown",
   "metadata": {},
   "source": [
    "**Reading**: \n",
    "\n",
    "* [Classification](https://www.inferentialthinking.com/chapters/17/classification.html)\n"
   ]
  },
  {
   "cell_type": "markdown",
   "metadata": {},
   "source": [
    "Please complete this notebook by filling in the cells provided. Before you begin, execute the following cell to load the provided tests. Each time you start your server, you will need to execute this cell again to load the tests.\n",
    "\n",
    "Homework 12 is due **Thursday, 4/30 at 11:59pm**. You will receive an early submission bonus point if you turn in your final submission by Wednesday, 4/29 at 11:59pm. Start early so that you can come to office hours if you're stuck. Check the website for the office hours schedule. Late work will not be accepted as per the [policies](http://data8.org/sp20/policies.html) of this course. \n",
    "\n",
    "Directly sharing answers is not okay, but discussing problems with the course staff or with other students is encouraged. Refer to the policies page to learn more about how to learn cooperatively.\n",
    "\n",
    "For all problems that you must write out explanations and sentences for, you **must** provide your answer in the designated space. Moreover, throughout this homework and all future ones, please be sure to not re-assign variables throughout the notebook! For example, if you use `max_temperature` in your answer to one question, do not reassign it later on."
   ]
  },
  {
   "cell_type": "code",
   "execution_count": 2,
   "metadata": {
    "ExecuteTime": {
     "end_time": "2018-04-04T09:34:44.498842Z",
     "start_time": "2018-04-04T09:34:42.821921Z"
    }
   },
   "outputs": [
    {
     "name": "stdout",
     "output_type": "stream",
     "text": [
      "=====================================================================\n",
      "Assignment: Homework 12: Classification\n",
      "OK, version v1.18.1\n",
      "=====================================================================\n",
      "\n"
     ]
    }
   ],
   "source": [
    "# Don't change this cell; just run it. \n",
    "\n",
    "import numpy as np\n",
    "from datascience import *\n",
    "\n",
    "# These lines do some fancy plotting magic.\n",
    "import matplotlib\n",
    "%matplotlib inline\n",
    "import matplotlib.pyplot as plt\n",
    "plt.style.use('fivethirtyeight')\n",
    "import warnings\n",
    "warnings.simplefilter('ignore', FutureWarning)\n",
    "\n",
    "from client.api.notebook import Notebook\n",
    "ok = Notebook('hw12.ok')"
   ]
  },
  {
   "cell_type": "markdown",
   "metadata": {},
   "source": [
    "## 1. Bay Area School Coordinates with Classification\n"
   ]
  },
  {
   "cell_type": "markdown",
   "metadata": {},
   "source": [
    "Welcome to Homework 12! This homework is about k-Nearest Neighbors classification (kNN). Since this topic is covered in depth in Project 3, the purpose of this homework is to reinforce the basics of this method. You can and should reuse a lot of code that you wrote for Project 3 for this homework, or use code from this homework on Project 3!"
   ]
  },
  {
   "cell_type": "markdown",
   "metadata": {},
   "source": [
    "## Our Dearest Neighbors"
   ]
  },
  {
   "cell_type": "markdown",
   "metadata": {},
   "source": [
    "Carol is trying classify students as either attendees of UC Berkeley or as attendees of Leland Stanford Junior College. To classify the students, Carol has access to the coordinates of the location they live during the school year. First, load in the `coordinates` table."
   ]
  },
  {
   "cell_type": "code",
   "execution_count": 3,
   "metadata": {
    "deletable": false,
    "editable": false
   },
   "outputs": [
    {
     "data": {
      "text/html": [
       "<table border=\"1\" class=\"dataframe\">\n",
       "    <thead>\n",
       "        <tr>\n",
       "            <th>latitude</th> <th>longitude</th> <th>school</th>\n",
       "        </tr>\n",
       "    </thead>\n",
       "    <tbody>\n",
       "        <tr>\n",
       "            <td>37.8693 </td> <td>-122.255 </td> <td>Berkeley</td>\n",
       "        </tr>\n",
       "        <tr>\n",
       "            <td>37.8651 </td> <td>-122.256 </td> <td>Berkeley</td>\n",
       "        </tr>\n",
       "        <tr>\n",
       "            <td>37.8661 </td> <td>-122.254 </td> <td>Berkeley</td>\n",
       "        </tr>\n",
       "        <tr>\n",
       "            <td>37.868  </td> <td>-122.26  </td> <td>Berkeley</td>\n",
       "        </tr>\n",
       "        <tr>\n",
       "            <td>37.8683 </td> <td>-122.257 </td> <td>Berkeley</td>\n",
       "        </tr>\n",
       "    </tbody>\n",
       "</table>\n",
       "<p>... (95 rows omitted)</p>"
      ],
      "text/plain": [
       "<IPython.core.display.HTML object>"
      ]
     },
     "metadata": {},
     "output_type": "display_data"
    }
   ],
   "source": [
    "# Just run this cell!\n",
    "coordinates = Table.read_table('coordinates.csv')\n",
    "coordinates.show(5)"
   ]
  },
  {
   "cell_type": "markdown",
   "metadata": {},
   "source": [
    "As usual, let's investigate our data visually before performing any kind of numerical analysis."
   ]
  },
  {
   "cell_type": "code",
   "execution_count": 4,
   "metadata": {
    "deletable": false,
    "editable": false
   },
   "outputs": [
    {
     "data": {
      "image/png": "[encoded data removed]",
      "text/plain": [
       "<Figure size 360x360 with 1 Axes>"
      ]
     },
     "metadata": {},
     "output_type": "display_data"
    }
   ],
   "source": [
    "# Just run this cell!\n",
    "coordinates.scatter(\"longitude\", \"latitude\", group=\"school\")"
   ]
  },
  {
   "cell_type": "markdown",
   "metadata": {},
   "source": [
    "The locations of the points on this scatter plot might be familiar - run the following cell to see what they correspond to."
   ]
  },
  {
   "cell_type": "code",
   "execution_count": 5,
   "metadata": {
    "deletable": false,
    "editable": false
   },
   "outputs": [
    {
     "data": {
      "text/html": [
       "<div style=\"width:100%;\"><div style=\"position:relative;width:100%;height:0;padding-bottom:60%;\"><iframe src=\"about:blank\" style=\"position:absolute;width:100%;height:100%;left:0;top:0;border:none !important;\" data-html=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 onload=\"this.contentDocument.open();this.contentDocument.write(atob(this.getAttribute('data-html')));this.contentDocument.close();\" allowfullscreen webkitallowfullscreen mozallowfullscreen></iframe></div></div>"
      ],
      "text/plain": [
       "<datascience.maps.Map at 0x7f4621ca2c18>"
      ]
     },
     "execution_count": 5,
     "metadata": {},
     "output_type": "execute_result"
    }
   ],
   "source": [
    "# Just run this cell!\n",
    "colors = {\"Berkeley\":\"blue\", \"Stanford\":\"red\"}\n",
    "t = Table().with_columns(\"lat\", coordinates.column(0), \n",
    "                                      \"lon\", coordinates.column(1), \n",
    "                                      \"color\", coordinates.apply(colors.get, 2)\n",
    "                        )\n",
    "Circle.map_table(t, radius=5, fill_opacity=1)"
   ]
  },
  {
   "cell_type": "markdown",
   "metadata": {
    "deletable": false,
    "editable": false
   },
   "source": [
    "#### Question 1\n",
    "\n",
    "Let's begin implementing the k-Nearest Neighbors algorithm. Define the `distance` function, which takes in two arguments: an array of numerical features, and a different array of numerical features. The function should return the [Euclidean distance](https://en.wikipedia.org/wiki/Euclidean_distance) between the two arrays. Euclidean distance is often referred to as the straight-line distance formula that you may have learned previously.\n",
    "\n",
    "\n",
    "<!--\n",
    "BEGIN QUESTION\n",
    "name: q1_1\n",
    "manual: false\n",
    "-->"
   ]
  },
  {
   "cell_type": "code",
   "execution_count": 6,
   "metadata": {
    "deletable": false
   },
   "outputs": [
    {
     "data": {
      "text/plain": [
       "5.196152422706632"
      ]
     },
     "execution_count": 6,
     "metadata": {},
     "output_type": "execute_result"
    }
   ],
   "source": [
    "def distance(arr1, arr2):\n",
    "    return np.sqrt(sum((arr1 - arr2)**2))\n",
    "\n",
    "# Don't change/delete the code below in this cell\n",
    "distance_example = distance(make_array(1, 2, 3), make_array(4, 5, 6))\n",
    "distance_example"
   ]
  },
  {
   "cell_type": "code",
   "execution_count": 7,
   "metadata": {
    "deletable": false,
    "editable": false
   },
   "outputs": [
    {
     "name": "stdout",
     "output_type": "stream",
     "text": [
      "~~~~~~~~~~~~~~~~~~~~~~~~~~~~~~~~~~~~~~~~~~~~~~~~~~~~~~~~~~~~~~~~~~~~~\n",
      "Running tests\n",
      "\n",
      "---------------------------------------------------------------------\n",
      "Test summary\n",
      "    Passed: 2\n",
      "    Failed: 0\n",
      "[ooooooooook] 100.0% passed\n",
      "\n"
     ]
    }
   ],
   "source": [
    "ok.grade(\"q1_1\");"
   ]
  },
  {
   "cell_type": "markdown",
   "metadata": {},
   "source": [
    "### Splitting the dataset\n",
    "We'll do 2 different kinds of things with the `coordinates` dataset:\n",
    "1. We'll build a classifier using coordinates for which we know the associated label; this will teach it to recognize labels of similar coordinate values. This process is known as *training*.\n",
    "2. We'll evaluate or *test* the accuracy of the classifier we build on data we haven't seen before.\n",
    "\n",
    "For reasons discussed in lecture and the textbook, we want to use separate datasets for these two purposes.  So we split up our one dataset into two."
   ]
  },
  {
   "cell_type": "markdown",
   "metadata": {
    "deletable": false,
    "editable": false
   },
   "source": [
    "#### Question 2\n",
    "\n",
    "Next, let's split our dataset into a training set and a test set. Since `coordinates` has $100$ rows, let's create a training set with the first 75 rows and a test set with the remaining 25 rows. Remember that assignment to each group should be random, so we should shuffle the table first.\n",
    "\n",
    "*Hint: as a first step we can shuffle all the rows, then use the* `tbl.take` *function to split up the rows for each table*\n",
    "\n",
    "\n",
    "<!--\n",
    "BEGIN QUESTION\n",
    "name: q1_2\n",
    "manual: false\n",
    "-->"
   ]
  },
  {
   "cell_type": "code",
   "execution_count": 41,
   "metadata": {
    "for_assignment_type": "solution"
   },
   "outputs": [
    {
     "name": "stdout",
     "output_type": "stream",
     "text": [
      "Training set:\t 75 examples\n",
      "Test set:\t 25 examples\n"
     ]
    },
    {
     "data": {
      "text/html": [
       "<table border=\"1\" class=\"dataframe\">\n",
       "    <thead>\n",
       "        <tr>\n",
       "            <th>latitude</th> <th>longitude</th> <th>school</th>\n",
       "        </tr>\n",
       "    </thead>\n",
       "    <tbody>\n",
       "        <tr>\n",
       "            <td>37.8813 </td> <td>-122.265 </td> <td>Berkeley</td>\n",
       "        </tr>\n",
       "        <tr>\n",
       "            <td>37.8761 </td> <td>-122.282 </td> <td>Berkeley</td>\n",
       "        </tr>\n",
       "        <tr>\n",
       "            <td>37.8661 </td> <td>-122.254 </td> <td>Berkeley</td>\n",
       "        </tr>\n",
       "        <tr>\n",
       "            <td>37.4342 </td> <td>-122.168 </td> <td>Stanford</td>\n",
       "        </tr>\n",
       "        <tr>\n",
       "            <td>37.4276 </td> <td>-122.157 </td> <td>Stanford</td>\n",
       "        </tr>\n",
       "    </tbody>\n",
       "</table>\n",
       "<p>... (70 rows omitted)</p>"
      ],
      "text/plain": [
       "<IPython.core.display.HTML object>"
      ]
     },
     "metadata": {},
     "output_type": "display_data"
    },
    {
     "data": {
      "text/html": [
       "<table border=\"1\" class=\"dataframe\">\n",
       "    <thead>\n",
       "        <tr>\n",
       "            <th>latitude</th> <th>longitude</th> <th>school</th>\n",
       "        </tr>\n",
       "    </thead>\n",
       "    <tbody>\n",
       "        <tr>\n",
       "            <td>37.8683 </td> <td>-122.257 </td> <td>Berkeley</td>\n",
       "        </tr>\n",
       "        <tr>\n",
       "            <td>37.8825 </td> <td>-122.268 </td> <td>Berkeley</td>\n",
       "        </tr>\n",
       "        <tr>\n",
       "            <td>37.8021 </td> <td>-122.223 </td> <td>Berkeley</td>\n",
       "        </tr>\n",
       "        <tr>\n",
       "            <td>37.8638 </td> <td>-122.249 </td> <td>Berkeley</td>\n",
       "        </tr>\n",
       "        <tr>\n",
       "            <td>37.8768 </td> <td>-122.266 </td> <td>Berkeley</td>\n",
       "        </tr>\n",
       "    </tbody>\n",
       "</table>\n",
       "<p>... (20 rows omitted)</p>"
      ],
      "text/plain": [
       "<IPython.core.display.HTML object>"
      ]
     },
     "metadata": {},
     "output_type": "display_data"
    }
   ],
   "source": [
    "shuffled_table = coordinates.sample(with_replacement=False)\n",
    "train = shuffled_table.take(np.arange(75))\n",
    "test = shuffled_table.take(np.arange(75,100))\n",
    "\n",
    "print(\"Training set:\\t\",   train.num_rows, \"examples\")\n",
    "print(\"Test set:\\t\",       test.num_rows, \"examples\")\n",
    "train.show(5), test.show(5);"
   ]
  },
  {
   "cell_type": "code",
   "execution_count": 42,
   "metadata": {
    "deletable": false,
    "editable": false
   },
   "outputs": [
    {
     "name": "stdout",
     "output_type": "stream",
     "text": [
      "~~~~~~~~~~~~~~~~~~~~~~~~~~~~~~~~~~~~~~~~~~~~~~~~~~~~~~~~~~~~~~~~~~~~~\n",
      "Running tests\n",
      "\n",
      "---------------------------------------------------------------------\n",
      "Test summary\n",
      "    Passed: 3\n",
      "    Failed: 0\n",
      "[ooooooooook] 100.0% passed\n",
      "\n"
     ]
    }
   ],
   "source": [
    "ok.grade(\"q1_2\");"
   ]
  },
  {
   "cell_type": "markdown",
   "metadata": {
    "deletable": false,
    "editable": false
   },
   "source": [
    "#### Question 3\n",
    "\n",
    "Assign `features` to an array of the labels of the features from the `coordinates` table.\n",
    "\n",
    "*Hint: which of the column labels in the `coordinates` table are the features, and which of the column labels correspond to the class we're trying to predict?*\n",
    "\n",
    "<!--\n",
    "BEGIN QUESTION\n",
    "name: q1_3\n",
    "manual: false\n",
    "-->"
   ]
  },
  {
   "cell_type": "code",
   "execution_count": 43,
   "metadata": {
    "deletable": false
   },
   "outputs": [
    {
     "data": {
      "text/plain": [
       "array(['latitude', 'longitude'], dtype='<U9')"
      ]
     },
     "execution_count": 43,
     "metadata": {},
     "output_type": "execute_result"
    }
   ],
   "source": [
    "features = make_array(\"latitude\",\"longitude\")\n",
    "features"
   ]
  },
  {
   "cell_type": "code",
   "execution_count": 44,
   "metadata": {
    "deletable": false,
    "editable": false
   },
   "outputs": [
    {
     "name": "stdout",
     "output_type": "stream",
     "text": [
      "~~~~~~~~~~~~~~~~~~~~~~~~~~~~~~~~~~~~~~~~~~~~~~~~~~~~~~~~~~~~~~~~~~~~~\n",
      "Running tests\n",
      "\n",
      "---------------------------------------------------------------------\n",
      "Test summary\n",
      "    Passed: 1\n",
      "    Failed: 0\n",
      "[ooooooooook] 100.0% passed\n",
      "\n"
     ]
    }
   ],
   "source": [
    "ok.grade(\"q1_3\");"
   ]
  },
  {
   "cell_type": "markdown",
   "metadata": {
    "deletable": false,
    "editable": false
   },
   "source": [
    "<div class=\"hide\">\\pagebreak</div>\n",
    "\n",
    "#### Question 4\n",
    "\n",
    "Now define the `classify` function. This function should take in a `row` from a table like `test` and classify it based on the data in `train` using the `k`-Nearest Neighbors based on the correct `features`.\n",
    "\n",
    "*Hint: use the `row_to_array` function we defined for you to convert rows to arrays of features so that you can use the `distance` function you defined earlier.*\n",
    "\n",
    "*Hint 2: the skeleton code we provided iterates through each row in the training set*\n",
    "\n",
    "<!--\n",
    "BEGIN QUESTION\n",
    "name: q1_4\n",
    "manual: false\n",
    "-->"
   ]
  },
  {
   "cell_type": "code",
   "execution_count": 45,
   "metadata": {},
   "outputs": [
    {
     "data": {
      "text/html": [
       "<table border=\"1\" class=\"dataframe\">\n",
       "    <thead>\n",
       "        <tr>\n",
       "            <th>school</th> <th>count</th>\n",
       "        </tr>\n",
       "    </thead>\n",
       "    <tbody>\n",
       "        <tr>\n",
       "            <td>Berkeley</td> <td>77   </td>\n",
       "        </tr>\n",
       "        <tr>\n",
       "            <td>Stanford</td> <td>23   </td>\n",
       "        </tr>\n",
       "    </tbody>\n",
       "</table>"
      ],
      "text/plain": [
       "school   | count\n",
       "Berkeley | 77\n",
       "Stanford | 23"
      ]
     },
     "execution_count": 45,
     "metadata": {},
     "output_type": "execute_result"
    }
   ],
   "source": [
    "coordinates.group(\"school\")"
   ]
  },
  {
   "cell_type": "code",
   "execution_count": 46,
   "metadata": {
    "deletable": false,
    "manual_grade": true,
    "manual_problem_id": "sign_lang_2"
   },
   "outputs": [
    {
     "data": {
      "text/plain": [
       "'Berkeley'"
      ]
     },
     "execution_count": 46,
     "metadata": {},
     "output_type": "execute_result"
    }
   ],
   "source": [
    "def row_to_array(row, features):\n",
    "    arr = make_array()\n",
    "    for feature in features:\n",
    "        arr = np.append(arr, row.item(feature))\n",
    "    return arr\n",
    "\n",
    "def classify(row, k, train):\n",
    "    test_row_features_array = row_to_array(row, features)\n",
    "    distances = make_array()\n",
    "    for train_row in train.rows:\n",
    "        train_row_features_array = row_to_array(train_row,features)\n",
    "        row_distance = distance(test_row_features_array, train_row_features_array)\n",
    "        distances = np.append(distances,row_distance)\n",
    "    train_with_distances = train.with_columns(\"distances\",distances).sort(\"distances\",descending=False).take(np.arange(k))\n",
    "    nearest_neighbors = train_with_distances.group(\"school\").sort(\"count\",descending=True) \n",
    "    most_common_label= nearest_neighbors.column(0).item(0)\n",
    "    return most_common_label\n",
    "\n",
    "# Don't modify/delete the code below\n",
    "first_test = classify(test.row(0), 5, train)\n",
    "first_test"
   ]
  },
  {
   "cell_type": "code",
   "execution_count": 47,
   "metadata": {},
   "outputs": [
    {
     "data": {
      "text/html": [
       "<table border=\"1\" class=\"dataframe\">\n",
       "    <thead>\n",
       "        <tr>\n",
       "            <th>school</th> <th>count</th>\n",
       "        </tr>\n",
       "    </thead>\n",
       "    <tbody>\n",
       "        <tr>\n",
       "            <td>Berkeley</td> <td>53   </td>\n",
       "        </tr>\n",
       "        <tr>\n",
       "            <td>Stanford</td> <td>22   </td>\n",
       "        </tr>\n",
       "    </tbody>\n",
       "</table>"
      ],
      "text/plain": [
       "school   | count\n",
       "Berkeley | 53\n",
       "Stanford | 22"
      ]
     },
     "execution_count": 47,
     "metadata": {},
     "output_type": "execute_result"
    }
   ],
   "source": [
    "train.group(\"school\").sort(\"count\",descending=True)"
   ]
  },
  {
   "cell_type": "code",
   "execution_count": 48,
   "metadata": {
    "deletable": false,
    "editable": false
   },
   "outputs": [
    {
     "name": "stdout",
     "output_type": "stream",
     "text": [
      "~~~~~~~~~~~~~~~~~~~~~~~~~~~~~~~~~~~~~~~~~~~~~~~~~~~~~~~~~~~~~~~~~~~~~\n",
      "Running tests\n",
      "\n",
      "---------------------------------------------------------------------\n",
      "Test summary\n",
      "    Passed: 2\n",
      "    Failed: 0\n",
      "[ooooooooook] 100.0% passed\n",
      "\n"
     ]
    }
   ],
   "source": [
    "ok.grade(\"q1_4\");"
   ]
  },
  {
   "cell_type": "markdown",
   "metadata": {
    "deletable": false,
    "editable": false
   },
   "source": [
    "<div class=\"hide\">\\pagebreak</div>\n",
    "\n",
    "#### Question 5\n",
    "\n",
    "Define the function `three_classify` that takes a `row` from `test` as an argument and classifies the row based on using 3-Nearest Neighbors. Use this function to find the `accuracy` of a 3-NN classifier on the `test` set. `accuracy` should be a proportion (not a percentage) of the schools that were correctly predicted.\n",
    "\n",
    "*Hint: you should be using a function you just created!*\n",
    "\n",
    "*Note: Usually before using a classifier on a test set, we'd classify first on a \"validation\" set, which we then can modify our training set again if need be, before actually testing on the test set. You don’t need to do that for this question, but you will learn about this more in Data 100.*\n",
    "\n",
    "<!--\n",
    "BEGIN QUESTION\n",
    "name: q1_5\n",
    "manual: false\n",
    "-->"
   ]
  },
  {
   "cell_type": "code",
   "execution_count": 49,
   "metadata": {
    "deletable": false,
    "manual_grade": true,
    "manual_problem_id": "sign_lang_3"
   },
   "outputs": [
    {
     "data": {
      "text/plain": [
       "0.96"
      ]
     },
     "execution_count": 49,
     "metadata": {},
     "output_type": "execute_result"
    }
   ],
   "source": [
    "def three_classify(row):\n",
    "    return classify(row, 3, train)\n",
    "\n",
    "test_with_prediction = test.with_column(\"prediction\", test.apply(three_classify))\n",
    "labels_correct = test_with_prediction.column(\"school\")==test_with_prediction.column(\"prediction\")\n",
    "accuracy = sum(labels_correct)/test.num_rows\n",
    "accuracy"
   ]
  },
  {
   "cell_type": "code",
   "execution_count": 50,
   "metadata": {},
   "outputs": [
    {
     "data": {
      "text/html": [
       "<table border=\"1\" class=\"dataframe\">\n",
       "    <thead>\n",
       "        <tr>\n",
       "            <th>latitude</th> <th>longitude</th> <th>school</th> <th>prediction</th>\n",
       "        </tr>\n",
       "    </thead>\n",
       "    <tbody>\n",
       "        <tr>\n",
       "            <td>37.8683 </td> <td>-122.257 </td> <td>Berkeley</td> <td>Berkeley  </td>\n",
       "        </tr>\n",
       "        <tr>\n",
       "            <td>37.8825 </td> <td>-122.268 </td> <td>Berkeley</td> <td>Berkeley  </td>\n",
       "        </tr>\n",
       "        <tr>\n",
       "            <td>37.8021 </td> <td>-122.223 </td> <td>Berkeley</td> <td>Berkeley  </td>\n",
       "        </tr>\n",
       "        <tr>\n",
       "            <td>37.8638 </td> <td>-122.249 </td> <td>Berkeley</td> <td>Berkeley  </td>\n",
       "        </tr>\n",
       "        <tr>\n",
       "            <td>37.8768 </td> <td>-122.266 </td> <td>Berkeley</td> <td>Berkeley  </td>\n",
       "        </tr>\n",
       "        <tr>\n",
       "            <td>37.3674 </td> <td>-121.977 </td> <td>Stanford</td> <td>Stanford  </td>\n",
       "        </tr>\n",
       "        <tr>\n",
       "            <td>37.8663 </td> <td>-122.251 </td> <td>Berkeley</td> <td>Berkeley  </td>\n",
       "        </tr>\n",
       "        <tr>\n",
       "            <td>37.8688 </td> <td>-122.255 </td> <td>Berkeley</td> <td>Berkeley  </td>\n",
       "        </tr>\n",
       "        <tr>\n",
       "            <td>37.8639 </td> <td>-122.262 </td> <td>Berkeley</td> <td>Berkeley  </td>\n",
       "        </tr>\n",
       "        <tr>\n",
       "            <td>37.8753 </td> <td>-122.263 </td> <td>Berkeley</td> <td>Berkeley  </td>\n",
       "        </tr>\n",
       "    </tbody>\n",
       "</table>\n",
       "<p>... (15 rows omitted)</p>"
      ],
      "text/plain": [
       "latitude | longitude | school   | prediction\n",
       "37.8683  | -122.257  | Berkeley | Berkeley\n",
       "37.8825  | -122.268  | Berkeley | Berkeley\n",
       "37.8021  | -122.223  | Berkeley | Berkeley\n",
       "37.8638  | -122.249  | Berkeley | Berkeley\n",
       "37.8768  | -122.266  | Berkeley | Berkeley\n",
       "37.3674  | -121.977  | Stanford | Stanford\n",
       "37.8663  | -122.251  | Berkeley | Berkeley\n",
       "37.8688  | -122.255  | Berkeley | Berkeley\n",
       "37.8639  | -122.262  | Berkeley | Berkeley\n",
       "37.8753  | -122.263  | Berkeley | Berkeley\n",
       "... (15 rows omitted)"
      ]
     },
     "execution_count": 50,
     "metadata": {},
     "output_type": "execute_result"
    }
   ],
   "source": [
    "test.with_column(\"prediction\", test.apply(three_classify))"
   ]
  },
  {
   "cell_type": "code",
   "execution_count": 51,
   "metadata": {
    "deletable": false,
    "editable": false
   },
   "outputs": [
    {
     "name": "stdout",
     "output_type": "stream",
     "text": [
      "~~~~~~~~~~~~~~~~~~~~~~~~~~~~~~~~~~~~~~~~~~~~~~~~~~~~~~~~~~~~~~~~~~~~~\n",
      "Running tests\n",
      "\n",
      "---------------------------------------------------------------------\n",
      "Test summary\n",
      "    Passed: 2\n",
      "    Failed: 0\n",
      "[ooooooooook] 100.0% passed\n",
      "\n"
     ]
    }
   ],
   "source": [
    "ok.grade(\"q1_5\");"
   ]
  },
  {
   "cell_type": "markdown",
   "metadata": {
    "deletable": false,
    "editable": false
   },
   "source": [
    "#### Question 6\n",
    "\n",
    "There are 77 rows of Berkeley students and 23 rows of Stanford students in the `coordinates` table. If we used the entire `coordinates` table as the train set, what is the smallest value of k that would ensure that a k-Nearest Neighbor classifier would always predict Berkeley as the class? Assign the value to `k`.\n",
    "\n",
    "<!--\n",
    "BEGIN QUESTION\n",
    "name: q1_6\n",
    "manual: false\n",
    "-->"
   ]
  },
  {
   "cell_type": "code",
   "execution_count": 52,
   "metadata": {},
   "outputs": [
    {
     "data": {
      "text/plain": [
       "47"
      ]
     },
     "execution_count": 52,
     "metadata": {},
     "output_type": "execute_result"
    }
   ],
   "source": [
    "k = 23+24\n",
    "k"
   ]
  },
  {
   "cell_type": "code",
   "execution_count": 53,
   "metadata": {},
   "outputs": [
    {
     "data": {
      "text/html": [
       "<table border=\"1\" class=\"dataframe\">\n",
       "    <thead>\n",
       "        <tr>\n",
       "            <th>school</th> <th>count</th>\n",
       "        </tr>\n",
       "    </thead>\n",
       "    <tbody>\n",
       "        <tr>\n",
       "            <td>Berkeley</td> <td>77   </td>\n",
       "        </tr>\n",
       "        <tr>\n",
       "            <td>Stanford</td> <td>23   </td>\n",
       "        </tr>\n",
       "    </tbody>\n",
       "</table>"
      ],
      "text/plain": [
       "school   | count\n",
       "Berkeley | 77\n",
       "Stanford | 23"
      ]
     },
     "execution_count": 53,
     "metadata": {},
     "output_type": "execute_result"
    }
   ],
   "source": [
    "coordinates.group(\"school\")"
   ]
  },
  {
   "cell_type": "code",
   "execution_count": 54,
   "metadata": {
    "deletable": false,
    "editable": false
   },
   "outputs": [
    {
     "name": "stdout",
     "output_type": "stream",
     "text": [
      "~~~~~~~~~~~~~~~~~~~~~~~~~~~~~~~~~~~~~~~~~~~~~~~~~~~~~~~~~~~~~~~~~~~~~\n",
      "Running tests\n",
      "\n",
      "---------------------------------------------------------------------\n",
      "Test summary\n",
      "    Passed: 1\n",
      "    Failed: 0\n",
      "[ooooooooook] 100.0% passed\n",
      "\n"
     ]
    }
   ],
   "source": [
    "ok.grade(\"q1_6\");"
   ]
  },
  {
   "cell_type": "markdown",
   "metadata": {
    "deletable": false,
    "editable": false
   },
   "source": [
    "#### Question 7\n",
    "\n",
    "Why do we divide our data into a training and test set? Should we use our test set to find the best possible number of neighbors for a k-NN classifer? What is the point of a test set, and why do we only want to use the test set once? Explain. \n",
    "\n",
    "\n",
    "<!--\n",
    "BEGIN QUESTION\n",
    "name: q1_7\n",
    "manual: true\n",
    "-->\n",
    "<!-- EXPORT TO PDF -->"
   ]
  },
  {
   "cell_type": "markdown",
   "metadata": {
    "export_pdf": true
   },
   "source": [
    "The reason we divide our data into a training and test set is because we want to validate how accurate our classifier is through using our training data and than testing it with test data to see how accurate we are. No we shouldn't use our test set to find the best possible numbers of neighbors for a K-NN Classifer but instead we use train set to find best possible number of neighbors of k-nn classifer and than test it with our test set to see our accuracy of classification. The point of a test set is that its part of random sample of the orignal table split into two training and test, we use training to get a K-NN and than run onto the test to see how accurate we are with classifiying with our neighbor numbers, we only do it once because test set comes from a random sample and you would  have to do the random sample again in order to make another test set to classify another classification."
   ]
  },
  {
   "cell_type": "markdown",
   "metadata": {
    "deletable": false,
    "editable": false
   },
   "source": [
    "#### Question 8\n",
    "\n",
    "Why do we use an odd-numbered `k` in k-NN? Explain.\n",
    "\n",
    "\n",
    "<!--\n",
    "BEGIN QUESTION\n",
    "name: q1_8\n",
    "manual: true\n",
    "-->\n",
    "<!-- EXPORT TO PDF -->"
   ]
  },
  {
   "cell_type": "markdown",
   "metadata": {
    "export_pdf": true
   },
   "source": [
    "K-NN are always odd numbers because that way we don't have to deal with ties. We can pick even numbers but they usually end up with a tie so therefore we use off numbers to have tie breaker."
   ]
  },
  {
   "cell_type": "markdown",
   "metadata": {
    "deletable": false,
    "editable": false
   },
   "source": [
    "#### Question 9\n",
    "\n",
    "Thomas has devised a scheme for splitting up the test and training set. For each row from `coordinates`:\n",
    "\n",
    "- Rows for Stanford students have a 50% chance of being placed in the train set and 50% chance of placed in the test set.\n",
    "\n",
    "- Rows for Berkeley students have a 80% chance of being placed in the train set and 20% chance of placed in the test set.\n",
    "\n",
    "\n",
    "Given that a row is in the test set, what is the probability that it corresponds to a Stanford student? Assign that probability to `prob_furd`.\n",
    "\n",
    "*Hint: Remember that there are 77 Berkeley students and 23 Stanford students in `coordinates`*\n",
    "\n",
    "*Hint 2: Thomas' last name is Bayes*\n",
    "\n",
    "\n",
    "<!--\n",
    "BEGIN QUESTION\n",
    "name: q1_9\n",
    "manual: false\n",
    "-->"
   ]
  },
  {
   "cell_type": "code",
   "execution_count": 32,
   "metadata": {},
   "outputs": [
    {
     "data": {
      "text/plain": [
       "0.4275092936802974"
      ]
     },
     "execution_count": 32,
     "metadata": {},
     "output_type": "execute_result"
    }
   ],
   "source": [
    "prob_furd = 0.5*.23/((0.5*.23)+(0.2*.77))\n",
    "prob_furd"
   ]
  },
  {
   "cell_type": "code",
   "execution_count": 33,
   "metadata": {
    "deletable": false,
    "editable": false
   },
   "outputs": [
    {
     "name": "stdout",
     "output_type": "stream",
     "text": [
      "~~~~~~~~~~~~~~~~~~~~~~~~~~~~~~~~~~~~~~~~~~~~~~~~~~~~~~~~~~~~~~~~~~~~~\n",
      "Running tests\n",
      "\n",
      "---------------------------------------------------------------------\n",
      "Test summary\n",
      "    Passed: 2\n",
      "    Failed: 0\n",
      "[ooooooooook] 100.0% passed\n",
      "\n"
     ]
    }
   ],
   "source": [
    "ok.grade(\"q1_9\");"
   ]
  },
  {
   "cell_type": "markdown",
   "metadata": {},
   "source": [
    "## (OPTIONAL, NOT IN SCOPE): k-NN for Non-Binary Classification"
   ]
  },
  {
   "cell_type": "markdown",
   "metadata": {
    "deletable": false,
    "editable": false
   },
   "source": [
    "**THIS IS NOT IN SCOPE/IS OPTIONAL**. There are no autograder tests for this/code for you to write. It just relies on the function `classify` in Question 4.\n",
    "\n",
    "In this class, we have taught you how to use the kNN algorithm to classify data as one of two classes. However, much of the data you will encounter in the real world will not fall nicely into one of two categories. \n",
    "\n",
    "How can we classify data with non-binary classes? It turns out we can still use kNN! That is, we find the distance between a point and all its neighbors, find the nearest neighbors, and take a majority vote among the neighbors to determine this point's class. \n",
    "\n",
    "The only difference is that now the neighboring points have more than two possible classes. This does introduce difficulty because now we have no way of guaranteeing that we will not encounter ties between classes. In the case that we do encounter a tie, we can just arbitrarily choose one of the classes.\n",
    "\n",
    "In fact, you don't even have to modify the code you wrote before at all to enable multi-class classification!"
   ]
  },
  {
   "cell_type": "markdown",
   "metadata": {
    "deletable": false,
    "editable": false
   },
   "source": [
    "Let's add some more data to our train table, this time for another class of students, students at San Jose Community College (SJCC)."
   ]
  },
  {
   "cell_type": "code",
   "execution_count": 34,
   "metadata": {
    "deletable": false,
    "editable": false
   },
   "outputs": [],
   "source": [
    "coordinates_multi = coordinates.with_rows([\n",
    "                              [37.304346, -121.915401, \"SJCC\"],\n",
    "                              [37.316275, -121.913879, \"SJCC\"],\n",
    "                              [37.409435, -121.951379, \"SJCC\"],\n",
    "                              [37.349387, -121.960771, \"SJCC\"],\n",
    "                              [37.329083, -121.928479, \"SJCC\"],\n",
    "                              [37.313017, -121.866730, \"SJCC\"],\n",
    "                              [37.346525, -121.894767, \"SJCC\"],\n",
    "                              [37.364157, -121.955717, \"SJCC\"],\n",
    "                              [37.383362, -121.925776, \"SJCC\"],\n",
    "                              [37.329545, -121.880639, \"SJCC\"]                             \n",
    "])"
   ]
  },
  {
   "cell_type": "code",
   "execution_count": 35,
   "metadata": {
    "deletable": false,
    "editable": false
   },
   "outputs": [
    {
     "data": {
      "text/plain": [
       "'Berkeley'"
      ]
     },
     "execution_count": 35,
     "metadata": {},
     "output_type": "execute_result"
    }
   ],
   "source": [
    "classify(coordinates_multi.row(0), 5, coordinates_multi)"
   ]
  },
  {
   "cell_type": "code",
   "execution_count": 36,
   "metadata": {
    "deletable": false,
    "editable": false
   },
   "outputs": [
    {
     "data": {
      "text/plain": [
       "'Stanford'"
      ]
     },
     "execution_count": 36,
     "metadata": {},
     "output_type": "execute_result"
    }
   ],
   "source": [
    "classify(coordinates_multi.row(91), 5, coordinates_multi)"
   ]
  },
  {
   "cell_type": "code",
   "execution_count": 37,
   "metadata": {
    "deletable": false,
    "editable": false
   },
   "outputs": [
    {
     "data": {
      "text/plain": [
       "'SJCC'"
      ]
     },
     "execution_count": 37,
     "metadata": {},
     "output_type": "execute_result"
    }
   ],
   "source": [
    "classify(coordinates_multi.row(105), 5, coordinates_multi)"
   ]
  },
  {
   "cell_type": "markdown",
   "metadata": {},
   "source": [
    "Our classifier can classify rows as belonging to one of three classes!\n",
    "\n",
    "Classification is one of the most important fields in statistics, data science, and machine learning. There are thousands of different classification algorithms and modifications of algorithms! There are many that you'll learn if you continue down the path of becoming a data scientist!"
   ]
  },
  {
   "cell_type": "markdown",
   "metadata": {},
   "source": [
    "## 2. Final-Semester Survey\n"
   ]
  },
  {
   "cell_type": "markdown",
   "metadata": {},
   "source": [
    "You can find the end of semester feedback form [here](https://docs.google.com/forms/d/e/1FAIpQLSeVRzkHTsNIrnbIaYCopJViaFDro1HfemS4y79Q_oZPxUcEvg/viewform?usp=sf_link). Please take some time to fill the survey out! Data 8 is still a relatively new class, and your feedback helps the class get better every semester!\n",
    "\n",
    "As incentive, if 80% of the course fills out this feedback form **and** the official Berkeley Course Evaluations (which will be released sometime in the next couple of weeks) for Data 8, everyone will receive two points of extra credit!"
   ]
  },
  {
   "cell_type": "markdown",
   "metadata": {
    "deletable": false,
    "editable": false
   },
   "source": [
    "**Question 1.** Fill out the end of semester feedback form linked above. Once you have submitted, a secret word will be displayed. Set `secret_word` to the secret string at the end of the form.\n",
    "\n",
    "<!--\n",
    "BEGIN QUESTION\n",
    "name: q2_1\n",
    "manual: false\n",
    "-->"
   ]
  },
  {
   "cell_type": "code",
   "execution_count": 55,
   "metadata": {},
   "outputs": [],
   "source": [
    "secret_word = \"bayes\""
   ]
  },
  {
   "cell_type": "code",
   "execution_count": 56,
   "metadata": {
    "deletable": false,
    "editable": false
   },
   "outputs": [
    {
     "name": "stdout",
     "output_type": "stream",
     "text": [
      "~~~~~~~~~~~~~~~~~~~~~~~~~~~~~~~~~~~~~~~~~~~~~~~~~~~~~~~~~~~~~~~~~~~~~\n",
      "Running tests\n",
      "\n",
      "---------------------------------------------------------------------\n",
      "Test summary\n",
      "    Passed: 1\n",
      "    Failed: 0\n",
      "[ooooooooook] 100.0% passed\n",
      "\n"
     ]
    }
   ],
   "source": [
    "ok.grade(\"q2_1\");"
   ]
  },
  {
   "cell_type": "markdown",
   "metadata": {},
   "source": [
    "## 3. Submission\n"
   ]
  },
  {
   "cell_type": "markdown",
   "metadata": {
    "collapsed": true
   },
   "source": [
    "Once you're finished, select \"Save and Checkpoint\" in the File menu and then execute the `submit` cell below. The result will contain a link that you can use to check that your assignment has been submitted successfully. If you submit more than once before the deadline, we will only grade your final submission. If you mistakenly submit the wrong one, you can head to [okpy.org](https://okpy.org/) and flag the correct version. To do so, go to the website, click on this assignment, and find the version you would like to have graded. There should be an option to flag that submission for grading!"
   ]
  },
  {
   "cell_type": "code",
   "execution_count": 59,
   "metadata": {},
   "outputs": [
    {
     "data": {
      "application/javascript": [
       "IPython.notebook.save_checkpoint();"
      ],
      "text/plain": [
       "<IPython.core.display.Javascript object>"
      ]
     },
     "metadata": {},
     "output_type": "display_data"
    },
    {
     "data": {
      "application/javascript": [
       "IPython.notebook.save_notebook();"
      ],
      "text/plain": [
       "<IPython.core.display.Javascript object>"
      ]
     },
     "metadata": {},
     "output_type": "display_data"
    },
    {
     "name": "stdout",
     "output_type": "stream",
     "text": [
      "Saving notebook... Saved 'hw12.ipynb'.\n",
      "Submit... 100% complete\n",
      "Submission successful for user: wajakhan@berkeley.edu\n",
      "URL: https://okpy.org/cal/data8/sp20/hw12/submissions/kro0vX\n",
      "\n"
     ]
    }
   ],
   "source": [
    "_ = ok.submit()"
   ]
  },
  {
   "cell_type": "code",
   "execution_count": 58,
   "metadata": {},
   "outputs": [
    {
     "name": "stdout",
     "output_type": "stream",
     "text": [
      "Running all tests...\n",
      "~~~~~~~~~~~~~~~~~~~~~~~~~~~~~~~~~~~~~~~~~~~~~~~~~~~~~~~~~~~~~~~~~~~~~\n",
      "Running tests\n",
      "\n",
      "---------------------------------------------------------------------\n",
      "Test summary\n",
      "    Passed: 2\n",
      "    Failed: 0\n",
      "[ooooooooook] 100.0% passed\n",
      "\n",
      "~~~~~~~~~~~~~~~~~~~~~~~~~~~~~~~~~~~~~~~~~~~~~~~~~~~~~~~~~~~~~~~~~~~~~\n",
      "Running tests\n",
      "\n",
      "---------------------------------------------------------------------\n",
      "Test summary\n",
      "    Passed: 1\n",
      "    Failed: 0\n",
      "[ooooooooook] 100.0% passed\n",
      "\n",
      "~~~~~~~~~~~~~~~~~~~~~~~~~~~~~~~~~~~~~~~~~~~~~~~~~~~~~~~~~~~~~~~~~~~~~\n",
      "Running tests\n",
      "\n",
      "---------------------------------------------------------------------\n",
      "Test summary\n",
      "    Passed: 2\n",
      "    Failed: 0\n",
      "[ooooooooook] 100.0% passed\n",
      "\n",
      "~~~~~~~~~~~~~~~~~~~~~~~~~~~~~~~~~~~~~~~~~~~~~~~~~~~~~~~~~~~~~~~~~~~~~\n",
      "Running tests\n",
      "\n",
      "---------------------------------------------------------------------\n",
      "Test summary\n",
      "    Passed: 2\n",
      "    Failed: 0\n",
      "[ooooooooook] 100.0% passed\n",
      "\n",
      "~~~~~~~~~~~~~~~~~~~~~~~~~~~~~~~~~~~~~~~~~~~~~~~~~~~~~~~~~~~~~~~~~~~~~\n",
      "Running tests\n",
      "\n",
      "---------------------------------------------------------------------\n",
      "Test summary\n",
      "    Passed: 1\n",
      "    Failed: 0\n",
      "[ooooooooook] 100.0% passed\n",
      "\n",
      "~~~~~~~~~~~~~~~~~~~~~~~~~~~~~~~~~~~~~~~~~~~~~~~~~~~~~~~~~~~~~~~~~~~~~\n",
      "Running tests\n",
      "\n",
      "---------------------------------------------------------------------\n",
      "Test summary\n",
      "    Passed: 1\n",
      "    Failed: 0\n",
      "[ooooooooook] 100.0% passed\n",
      "\n",
      "~~~~~~~~~~~~~~~~~~~~~~~~~~~~~~~~~~~~~~~~~~~~~~~~~~~~~~~~~~~~~~~~~~~~~\n",
      "Running tests\n",
      "\n",
      "---------------------------------------------------------------------\n",
      "Test summary\n",
      "    Passed: 3\n",
      "    Failed: 0\n",
      "[ooooooooook] 100.0% passed\n",
      "\n",
      "~~~~~~~~~~~~~~~~~~~~~~~~~~~~~~~~~~~~~~~~~~~~~~~~~~~~~~~~~~~~~~~~~~~~~\n",
      "Running tests\n",
      "\n",
      "---------------------------------------------------------------------\n",
      "Test summary\n",
      "    Passed: 2\n",
      "    Failed: 0\n",
      "[ooooooooook] 100.0% passed\n",
      "\n",
      "Finished running all tests.\n"
     ]
    }
   ],
   "source": [
    "# For your convenience, you can run this cell to run all the tests at once!\n",
    "import os\n",
    "print(\"Running all tests...\")\n",
    "_ = [ok.grade(q[:-3]) for q in os.listdir(\"tests\") if q.startswith('q') and len(q) <= 10]\n",
    "print(\"Finished running all tests.\")"
   ]
  },
  {
   "cell_type": "code",
   "execution_count": null,
   "metadata": {},
   "outputs": [],
   "source": []
  }
 ],
 "metadata": {
  "kernelspec": {
   "display_name": "Python 3 (ipykernel)",
   "language": "python",
   "name": "python3"
  },
  "language_info": {
   "codemirror_mode": {
    "name": "ipython",
    "version": 3
   },
   "file_extension": ".py",
   "mimetype": "text/x-python",
   "name": "python",
   "nbconvert_exporter": "python",
   "pygments_lexer": "ipython3",
   "version": "3.8.10"
  }
 },
 "nbformat": 4,
 "nbformat_minor": 1
}
